{
 "cells": [
  {
   "cell_type": "markdown",
   "metadata": {
    "nteract": {
     "transient": {
      "deleting": false
     }
    }
   },
   "source": [
    "# Running scripts"
   ]
  },
  {
   "cell_type": "code",
   "execution_count": 1,
   "metadata": {
    "execution": {
     "iopub.execute_input": "2023-11-19T14:19:23.222388Z",
     "iopub.status.busy": "2023-11-19T14:19:23.215241Z",
     "iopub.status.idle": "2023-11-19T14:19:23.283582Z",
     "shell.execute_reply": "2023-11-19T14:19:23.281118Z"
    }
   },
   "outputs": [
    {
     "name": "stdout",
     "output_type": "stream",
     "text": [
      "Hello world!\n",
      "[1] 1\n",
      "[1] 2\n"
     ]
    }
   ],
   "source": [
    "## Running a script with and without echo\n",
    "source(\"source-echo-demo.R\")"
   ]
  },
  {
   "cell_type": "code",
   "execution_count": 2,
   "metadata": {
    "execution": {
     "iopub.execute_input": "2023-11-19T14:19:23.326970Z",
     "iopub.status.busy": "2023-11-19T14:19:23.286658Z",
     "iopub.status.idle": "2023-11-19T14:19:23.344721Z",
     "shell.execute_reply": "2023-11-19T14:19:23.341914Z"
    }
   },
   "outputs": [
    {
     "name": "stdout",
     "output_type": "stream",
     "text": [
      "\n",
      "> cat(\"Hello world!\\n\")\n",
      "Hello world!\n",
      "\n",
      "> a <- 1\n",
      "\n",
      "> b <- 2\n",
      "\n",
      "> a\n",
      "[1] 1\n",
      "\n",
      "> print(a)\n",
      "[1] 1\n",
      "\n",
      "> b\n",
      "[1] 2\n",
      "\n",
      "> show(b)\n",
      "[1] 2\n"
     ]
    }
   ],
   "source": [
    "source(\"source-echo-demo.R\",echo=TRUE)"
   ]
  }
 ],
 "metadata": {
  "kernelspec": {
   "display_name": "R (RKernel)",
   "language": "R",
   "name": "rkernel"
  },
  "language_info": {
   "codemirror_mode": "R",
   "file_extension": ".R",
   "mimetype": "text/x-r-source",
   "name": "R",
   "pygments_lexer": "r",
   "version": "4.3.2"
  },
  "nteract": {
   "version": "0.28.0"
  }
 },
 "nbformat": 4,
 "nbformat_minor": 4
}
