{
  "cells": [
    {
      "cell_type": "markdown",
      "source": [
        "# Running scripts"
      ],
      "metadata": {
        "nteract": {
          "transient": {
            "deleting": false
          }
        }
      }
    },
    {
      "cell_type": "code",
      "source": [
        "## Running a script with and without echo\n",
        "source(\"source-echo-demo.R\")"
      ],
      "outputs": [
        {
          "output_type": "stream",
          "name": "stdout",
          "text": [
            "Hello world!\n",
            "[1] 1\n",
            "[1] 2\n"
          ]
        }
      ],
      "execution_count": 1,
      "metadata": {}
    },
    {
      "cell_type": "code",
      "source": [
        "source(\"source-echo-demo.R\",echo=TRUE)"
      ],
      "outputs": [
        {
          "output_type": "stream",
          "name": "stdout",
          "text": [
            "\n",
            "> cat(\"Hello world!\\n\")\n",
            "Hello world!\n",
            "\n",
            "> a <- 1\n",
            "\n",
            "> b <- 2\n",
            "\n",
            "> a\n",
            "[1] 1\n",
            "\n",
            "> print(a)\n",
            "[1] 1\n",
            "\n",
            "> b\n",
            "[1] 2\n",
            "\n",
            "> show(b)\n",
            "[1] 2\n"
          ]
        }
      ],
      "execution_count": 2,
      "metadata": {}
    }
  ],
  "metadata": {
    "kernelspec": {
      "display_name": "R",
      "language": "R",
      "name": "ir"
    },
    "language_info": {
      "codemirror_mode": "r",
      "file_extension": ".r",
      "mimetype": "text/x-r-source",
      "name": "R",
      "pygments_lexer": "r",
      "version": "4.0.3"
    },
    "nteract": {
      "version": "0.28.0"
    }
  },
  "nbformat": 4,
  "nbformat_minor": 4
}