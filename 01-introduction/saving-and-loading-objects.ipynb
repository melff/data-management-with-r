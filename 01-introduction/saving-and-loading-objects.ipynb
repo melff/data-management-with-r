{
 "cells": [
  {
   "cell_type": "markdown",
   "metadata": {
    "nteract": {
     "transient": {
      "deleting": false
     }
    }
   },
   "source": [
    "# Saving and loading objects"
   ]
  },
  {
   "cell_type": "code",
   "execution_count": null,
   "metadata": {
    "execution": {
     "iopub.execute_input": "2021-03-28T21:37:11.122Z",
     "iopub.status.busy": "2021-03-28T21:37:11.118Z",
     "iopub.status.idle": "2021-03-28T21:37:11.130Z",
     "shell.execute_reply": "2021-03-28T21:37:11.134Z"
    }
   },
   "outputs": [],
   "source": [
    "# In this example we create the two variables 'a' and 'b':\n",
    "a <- 1\n",
    "b <- 1\n",
    "# We save them in the data file \"ab.RData\"\n",
    "save(a,b,file=\"ab.RData\")\n",
    "# We then remove the two variables:\n",
    "rm(a,b)\n",
    "ls()"
   ]
  },
  {
   "cell_type": "code",
   "execution_count": null,
   "metadata": {
    "execution": {
     "iopub.execute_input": "2021-03-28T21:37:13.290Z",
     "iopub.status.busy": "2021-03-28T21:37:13.286Z",
     "iopub.status.idle": "2021-03-28T21:37:13.296Z",
     "shell.execute_reply": "2021-03-28T21:37:13.299Z"
    }
   },
   "outputs": [],
   "source": [
    "# With then load the data file\n",
    "load(\"ab.RData\")\n",
    "# and verify that the two variables are restored\n",
    "ls()"
   ]
  },
  {
   "cell_type": "code",
   "execution_count": null,
   "metadata": {
    "execution": {
     "iopub.execute_input": "2021-03-28T21:37:15.421Z",
     "iopub.status.busy": "2021-03-28T21:37:15.418Z",
     "iopub.status.idle": "2021-03-28T21:37:15.429Z",
     "shell.execute_reply": "2021-03-28T21:37:15.431Z"
    }
   },
   "outputs": [],
   "source": [
    "a"
   ]
  },
  {
   "cell_type": "code",
   "execution_count": null,
   "metadata": {
    "execution": {
     "iopub.execute_input": "2021-03-28T21:37:17.822Z",
     "iopub.status.busy": "2021-03-28T21:37:17.819Z",
     "iopub.status.idle": "2021-03-28T21:37:17.828Z",
     "shell.execute_reply": "2021-03-28T21:37:17.830Z"
    }
   },
   "outputs": [],
   "source": [
    "b"
   ]
  }
 ],
 "metadata": {
  "kernelspec": {
   "display_name": "R",
   "language": "R",
   "name": "ir"
  },
  "language_info": {
   "codemirror_mode": "r",
   "file_extension": ".r",
   "mimetype": "text/x-r-source",
   "name": "R",
   "pygments_lexer": "r",
   "version": "4.0.5"
  },
  "nteract": {
   "version": "0.28.0"
  }
 },
 "nbformat": 4,
 "nbformat_minor": 4
}
