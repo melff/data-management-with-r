{
 "cells": [
  {
   "cell_type": "markdown",
   "metadata": {
    "nteract": {
     "transient": {
      "deleting": false
     }
    }
   },
   "source": [
    "# Saving and loading objects"
   ]
  },
  {
   "cell_type": "code",
   "execution_count": 1,
   "metadata": {
    "execution": {
     "iopub.execute_input": "2023-11-19T14:19:09.994770Z",
     "iopub.status.busy": "2023-11-19T14:19:09.988610Z",
     "iopub.status.idle": "2023-11-19T14:19:10.059676Z",
     "shell.execute_reply": "2023-11-19T14:19:10.057464Z"
    }
   },
   "outputs": [
    {
     "data": {
      "text/plain": [
       "character(0)"
      ]
     },
     "metadata": {},
     "output_type": "display_data"
    }
   ],
   "source": [
    "# In this example we create the two variables 'a' and 'b':\n",
    "a <- 1\n",
    "b <- 1\n",
    "# We save them in the data file \"ab.RData\"\n",
    "save(a,b,file=\"ab.RData\")\n",
    "# We then remove the two variables:\n",
    "rm(a,b)\n",
    "ls()"
   ]
  },
  {
   "cell_type": "code",
   "execution_count": 2,
   "metadata": {
    "execution": {
     "iopub.execute_input": "2023-11-19T14:19:10.119580Z",
     "iopub.status.busy": "2023-11-19T14:19:10.063865Z",
     "iopub.status.idle": "2023-11-19T14:19:10.142762Z",
     "shell.execute_reply": "2023-11-19T14:19:10.140781Z"
    }
   },
   "outputs": [
    {
     "data": {
      "text/plain": [
       "[1] \"a\" \"b\""
      ]
     },
     "metadata": {},
     "output_type": "display_data"
    }
   ],
   "source": [
    "# With then load the data file\n",
    "load(\"ab.RData\")\n",
    "# and verify that the two variables are restored\n",
    "ls()"
   ]
  },
  {
   "cell_type": "code",
   "execution_count": 3,
   "metadata": {
    "execution": {
     "iopub.execute_input": "2023-11-19T14:19:10.147975Z",
     "iopub.status.busy": "2023-11-19T14:19:10.146363Z",
     "iopub.status.idle": "2023-11-19T14:19:10.163400Z",
     "shell.execute_reply": "2023-11-19T14:19:10.161410Z"
    }
   },
   "outputs": [
    {
     "data": {
      "text/plain": [
       "[1] 1"
      ]
     },
     "metadata": {},
     "output_type": "display_data"
    }
   ],
   "source": [
    "a"
   ]
  },
  {
   "cell_type": "code",
   "execution_count": 4,
   "metadata": {
    "execution": {
     "iopub.execute_input": "2023-11-19T14:19:10.168608Z",
     "iopub.status.busy": "2023-11-19T14:19:10.167048Z",
     "iopub.status.idle": "2023-11-19T14:19:10.183923Z",
     "shell.execute_reply": "2023-11-19T14:19:10.181905Z"
    }
   },
   "outputs": [
    {
     "data": {
      "text/plain": [
       "[1] 1"
      ]
     },
     "metadata": {},
     "output_type": "display_data"
    }
   ],
   "source": [
    "b"
   ]
  }
 ],
 "metadata": {
  "kernelspec": {
   "display_name": "R (RKernel)",
   "language": "R",
   "name": "rkernel"
  },
  "language_info": {
   "codemirror_mode": "R",
   "file_extension": ".R",
   "mimetype": "text/x-r-source",
   "name": "R",
   "pygments_lexer": "r",
   "version": "4.3.2"
  },
  "nteract": {
   "version": "0.28.0"
  }
 },
 "nbformat": 4,
 "nbformat_minor": 4
}
