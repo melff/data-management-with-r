{
 "cells": [
  {
   "cell_type": "markdown",
   "metadata": {},
   "source": [
    "# Variables and Objects"
   ]
  },
  {
   "cell_type": "code",
   "execution_count": 1,
   "metadata": {
    "execution": {
     "iopub.execute_input": "2023-11-19T14:06:01.227175Z",
     "iopub.status.busy": "2023-11-19T14:06:01.222365Z",
     "iopub.status.idle": "2023-11-19T14:06:01.283636Z",
     "shell.execute_reply": "2023-11-19T14:06:01.280718Z"
    }
   },
   "outputs": [
    {
     "data": {
      "text/plain": [
       "[1] 1"
      ]
     },
     "metadata": {},
     "output_type": "display_data"
    }
   ],
   "source": [
    "# Defining two variables\n",
    "a <- 1\n",
    "b <- 2\n",
    "# Entering the name leads to printing the content of the variable\n",
    "a"
   ]
  },
  {
   "cell_type": "code",
   "execution_count": 2,
   "metadata": {
    "execution": {
     "iopub.execute_input": "2023-11-19T14:06:01.348732Z",
     "iopub.status.busy": "2023-11-19T14:06:01.287977Z",
     "iopub.status.idle": "2023-11-19T14:06:01.368765Z",
     "shell.execute_reply": "2023-11-19T14:06:01.366124Z"
    }
   },
   "outputs": [
    {
     "data": {
      "text/plain": [
       "[1] \"a\" \"b\""
      ]
     },
     "metadata": {},
     "output_type": "display_data"
    }
   ],
   "source": [
    "# Showing the variables defined:\n",
    "ls()"
   ]
  },
  {
   "cell_type": "code",
   "execution_count": 3,
   "metadata": {
    "execution": {
     "iopub.execute_input": "2023-11-19T14:06:01.372995Z",
     "iopub.status.busy": "2023-11-19T14:06:01.371274Z",
     "iopub.status.idle": "2023-11-19T14:06:01.390248Z",
     "shell.execute_reply": "2023-11-19T14:06:01.388344Z"
    }
   },
   "outputs": [
    {
     "data": {
      "text/plain": [
       "[1] FALSE"
      ]
     },
     "metadata": {},
     "output_type": "display_data"
    }
   ],
   "source": [
    "# Removing variables:\n",
    "rm(a,b)\n",
    "# Checking the existence of a variable\n",
    "exists(\"a\")"
   ]
  },
  {
   "cell_type": "code",
   "execution_count": 4,
   "metadata": {
    "execution": {
     "iopub.execute_input": "2023-11-19T14:06:01.394369Z",
     "iopub.status.busy": "2023-11-19T14:06:01.392916Z",
     "iopub.status.idle": "2023-11-19T14:06:01.420401Z",
     "shell.execute_reply": "2023-11-19T14:06:01.418451Z"
    }
   },
   "outputs": [
    {
     "data": {
      "text/plain": [
       "[1] \"a\" \"b\" \"x\" \"y\" \"z\""
      ]
     },
     "metadata": {},
     "output_type": "display_data"
    }
   ],
   "source": [
    "# \"Hidden\" variables\n",
    "a <- 1\n",
    "b <- 2\n",
    "x <- 3\n",
    "y <- 4\n",
    "z <- 42\n",
    ".zzyx <- 1412\n",
    "ls()"
   ]
  },
  {
   "cell_type": "code",
   "execution_count": 5,
   "metadata": {
    "execution": {
     "iopub.execute_input": "2023-11-19T14:06:01.424517Z",
     "iopub.status.busy": "2023-11-19T14:06:01.423086Z",
     "iopub.status.idle": "2023-11-19T14:06:01.441435Z",
     "shell.execute_reply": "2023-11-19T14:06:01.439539Z"
    }
   },
   "outputs": [
    {
     "data": {
      "text/plain": [
       "character(0)"
      ]
     },
     "metadata": {},
     "output_type": "display_data"
    }
   ],
   "source": [
    "rm(list=ls())\n",
    "ls()"
   ]
  },
  {
   "cell_type": "code",
   "execution_count": 6,
   "metadata": {
    "execution": {
     "iopub.execute_input": "2023-11-19T14:06:01.446767Z",
     "iopub.status.busy": "2023-11-19T14:06:01.444828Z",
     "iopub.status.idle": "2023-11-19T14:06:01.462878Z",
     "shell.execute_reply": "2023-11-19T14:06:01.460521Z"
    }
   },
   "outputs": [
    {
     "data": {
      "text/plain": [
       "[1] \".pbd_env\" \".zzyx\"   "
      ]
     },
     "metadata": {},
     "output_type": "display_data"
    }
   ],
   "source": [
    "ls(all=TRUE)"
   ]
  }
 ],
 "metadata": {
  "hide_input": false,
  "kernelspec": {
   "display_name": "R (RKernel)",
   "language": "R",
   "name": "rkernel"
  },
  "language_info": {
   "codemirror_mode": "R",
   "file_extension": ".R",
   "mimetype": "text/x-r-source",
   "name": "R",
   "pygments_lexer": "r",
   "version": "4.3.2"
  },
  "toc": {
   "base_numbering": 1,
   "nav_menu": {},
   "number_sections": true,
   "sideBar": true,
   "skip_h1_title": true,
   "title_cell": "Table of Contents",
   "title_sidebar": "Contents",
   "toc_cell": false,
   "toc_position": {},
   "toc_section_display": true,
   "toc_window_display": false
  }
 },
 "nbformat": 4,
 "nbformat_minor": 4
}
