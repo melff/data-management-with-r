{
 "cells": [
  {
   "cell_type": "code",
   "execution_count": 1,
   "metadata": {},
   "outputs": [],
   "source": [
    "options(jupyter.rich_display=FALSE) # Create output as usual in R"
   ]
  },
  {
   "cell_type": "markdown",
   "metadata": {},
   "source": [
    "The file CSV-files in folder \"Manifesto Project\"\n",
    "were downloaded from the [Manifesto Project website](https://manifesto-project.wzb.eu/datasets).\n",
    "Redistribution of the data is prohibited, so readers who want to preproduce the following will need to download their own copy of the data set and upload it to the virtual machine that runs this notebook. To do this,\n",
    "\n",
    "1. pull down the \"File\" menu item and select \"Open\"\n",
    "2. An overview of the folder that contains the notebook opens.\n",
    "3. The folder view has a button labelled \"Upload\". Use this to upload the file that you downloaded from the Manifesto Project website.\n",
    "\n",
    "Note that the uploaded data will disappear, once you \"Quit\" the notebook (and the Jupyter instance)."
   ]
  },
  {
   "cell_type": "code",
   "execution_count": 2,
   "metadata": {},
   "outputs": [
    {
     "data": {
      "text/plain": [
       " [1] \"ManifestoProject/51420_196410.csv\" \"ManifestoProject/51420_196603.csv\"\n",
       " [3] \"ManifestoProject/51420_197006.csv\" \"ManifestoProject/51420_197402.csv\"\n",
       " [5] \"ManifestoProject/51420_197410.csv\" \"ManifestoProject/51420_197905.csv\"\n",
       " [7] \"ManifestoProject/51420_198306.csv\" \"ManifestoProject/51420_198706.csv\"\n",
       " [9] \"ManifestoProject/51421_199204.csv\" \"ManifestoProject/51421_199705.csv\"\n",
       "[11] \"ManifestoProject/51421_200106.csv\" \"ManifestoProject/51421_200505.csv\"\n",
       "[13] \"ManifestoProject/51421_201505.csv\" \"ManifestoProject/51421_201706.csv\""
      ]
     },
     "metadata": {},
     "output_type": "display_data"
    }
   ],
   "source": [
    "# The Manifesto Project data is contained in a collection of CSV files\n",
    "csv.files <- dir(\"ManifestoProject\",full.names=TRUE,\n",
    "                 pattern=\"*.csv\")\n",
    "csv.files"
   ]
  },
  {
   "cell_type": "code",
   "execution_count": 3,
   "metadata": {},
   "outputs": [],
   "source": [
    "# This file contains the relevant metadata:\n",
    "# It is available (withou registration) from\n",
    "# https://manifesto-project.wzb.eu/down/data/2019b/codebooks/documents_MPDataset_MPDS2019b.xlsx\n",
    "# in Excel format\n",
    "manifesto.metadata <- read.csv(\"documents_MPDataset_MPDS2019b.csv\",\n",
    "                               stringsAsFactors=FALSE)"
   ]
  },
  {
   "cell_type": "code",
   "execution_count": 4,
   "metadata": {},
   "outputs": [
    {
     "name": "stderr",
     "output_type": "stream",
     "text": [
      "Loading required package: NLP\n",
      "\n"
     ]
    }
   ],
   "source": [
    "library(tm)"
   ]
  },
  {
   "cell_type": "code",
   "execution_count": 5,
   "metadata": {},
   "outputs": [],
   "source": [
    "# The following code does not work, due to the peculiar structure of the CSV files\n",
    "manifesto.corpus <- VCorpus(DirSource(\"ManifestoProject\"))"
   ]
  },
  {
   "cell_type": "code",
   "execution_count": 6,
   "metadata": {},
   "outputs": [],
   "source": [
    "# To deal with the problem created by the peculiar structure of the files, we\n",
    "# define a helper function:\n",
    "getMDoc <- function(file,metadata.file){\n",
    "    df <- read.csv(file,\n",
    "                   stringsAsFactors=FALSE)\n",
    "    content <- paste(df[,1],collapse=\"\\n\")\n",
    "    \n",
    "    fn <- basename(file)\n",
    "    fn <- sub(\".csv\",\"\",fn,fixed=TRUE)\n",
    "    fn12 <- unlist(strsplit(fn,\"_\"))\n",
    "\n",
    "    partycode <- as.numeric(fn12[1])\n",
    "    datecode <- as.numeric(fn12[2])\n",
    "    year <- datecode %/% 100\n",
    "    month <- datecode %% 100\n",
    "    datetime <- ISOdate(year=year,month=month,day=1)\n",
    "\n",
    "    mf.meta <- subset(metadata.file,\n",
    "                      party==partycode & date == datecode)\n",
    "    if(!length(mf.meta$language))\n",
    "        mf.meta$language <- \"english\"\n",
    "        \n",
    "    PlainTextDocument(\n",
    "        content,\n",
    "        id = fn,\n",
    "        heading = mf.meta$title,\n",
    "        datetimestamp = as.POSIXlt(datetime),\n",
    "        language = mf.meta$language,\n",
    "        partyname = mf.meta$partyname,\n",
    "        partycode = partycode,\n",
    "        datecode = datecode\n",
    "    )\n",
    "}"
   ]
  },
  {
   "cell_type": "code",
   "execution_count": 7,
   "metadata": {},
   "outputs": [
    {
     "data": {
      "text/plain": [
       "<<VCorpus>>\n",
       "Metadata:  corpus specific: 0, document level (indexed): 0\n",
       "Content:  documents: 14"
      ]
     },
     "metadata": {},
     "output_type": "display_data"
    }
   ],
   "source": [
    "# With the helper function we now create a corpus of UK manifestos:\n",
    "UKLib.docs <- lapply(csv.files,getMDoc,\n",
    "                     metadata.file=manifesto.metadata)\n",
    "UKLib.Corpus <- as.VCorpus(UKLib.docs)\n",
    "UKLib.Corpus"
   ]
  },
  {
   "cell_type": "code",
   "execution_count": 8,
   "metadata": {},
   "outputs": [
    {
     "data": {
      "text/plain": [
       "<<PlainTextDocument>>\n",
       "Metadata:  10\n",
       "Content:  chars: 130585"
      ]
     },
     "metadata": {},
     "output_type": "display_data"
    }
   ],
   "source": [
    "UKLib.Corpus[[14]]"
   ]
  },
  {
   "cell_type": "code",
   "execution_count": 9,
   "metadata": {},
   "outputs": [],
   "source": [
    "# We need to deal with the non-ASCII characters, so we define yet another helper\n",
    "# function:\n",
    "handleUTF8quotes <- function(x){\n",
    "    cx <- content(x)\n",
    "    cx <- gsub(\"\\xe2\\x80\\x98\",\"'\",cx)\n",
    "    cx <- gsub(\"\\xe2\\x80\\x99\",\"'\",cx)\n",
    "    cx <- gsub(\"\\xe2\\x80\\x9a\",\",\",cx)\n",
    "    cx <- gsub(\"\\xe2\\x80\\x9b\",\"`\",cx)\n",
    "    cx <- gsub(\"\\xe2\\x80\\x9c\",\"\\\"\",cx)\n",
    "    cx <- gsub(\"\\xe2\\x80\\x9d\",\"\\\"\",cx)\n",
    "    cx <- gsub(\"\\xe2\\x80\\x9e\",\"\\\"\",cx)\n",
    "    cx <- gsub(\"\\xe2\\x80\\x9f\",\"\\\"\",cx)\n",
    "    content(x) <- cx\n",
    "    x\n",
    "}"
   ]
  },
  {
   "cell_type": "code",
   "execution_count": 10,
   "metadata": {},
   "outputs": [],
   "source": [
    "# Another helper function is needed to change the texts into lowercase:\n",
    "toLower <- function(x) {\n",
    "    content(x) <- tolower(content(x))\n",
    "    x\n",
    "}"
   ]
  },
  {
   "cell_type": "code",
   "execution_count": 11,
   "metadata": {},
   "outputs": [],
   "source": [
    "# We overwrite the 'inspect' method for \"TextDocument\" objects to a variant that shows only the first\n",
    "# 20 lines:\n",
    "inspect.TextDocument <- function(x){\n",
    "    print(x)\n",
    "    cat(\"\\n\")\n",
    "    str <- as.character(x)\n",
    "    str <- substr(x,start=0,stop=500)\n",
    "    str <- paste(str,\"... ...\")\n",
    "    writeLines(str)\n",
    "    invisible(x)\n",
    "}"
   ]
  },
  {
   "cell_type": "code",
   "execution_count": 12,
   "metadata": {},
   "outputs": [
    {
     "name": "stdout",
     "output_type": "stream",
     "text": [
      "<<PlainTextDocument>>\n",
      "Metadata:  10\n",
      "Content:  chars: 130585\n",
      "\n",
      "1 protect britain's place in europe\n",
      "1.1 giving the people the final say\n",
      "liberal democrats are open and outward-looking.\n",
      "we passionately believe that britain's relationship with its neighbours is stronger as part of the european union.\n",
      "whatever its imperfections, the eu remains the best framework for working effectively and co-operating in the pursuit of our shared aims.\n",
      "it has led directly to greater prosperity,\n",
      "increased trade,\n",
      "investment and jobs,\n",
      "better security\n",
      "and a greener environment.\n",
      "bri ... ...\n"
     ]
    }
   ],
   "source": [
    "UKLib.Corpus.processed <- tm_map(UKLib.Corpus,handleUTF8quotes)\n",
    "UKLib.Corpus.processed <- tm_map(UKLib.Corpus.processed,toLower)\n",
    "inspect(UKLib.Corpus.processed[[14]])"
   ]
  },
  {
   "cell_type": "code",
   "execution_count": 13,
   "metadata": {},
   "outputs": [
    {
     "name": "stdout",
     "output_type": "stream",
     "text": [
      "<<PlainTextDocument>>\n",
      "Metadata:  10\n",
      "Content:  chars: 127677\n",
      "\n",
      " protect britains place in europe\n",
      " giving the people the final say\n",
      "liberal democrats are open and outwardlooking\n",
      "we passionately believe that britains relationship with its neighbours is stronger as part of the european union\n",
      "whatever its imperfections the eu remains the best framework for working effectively and cooperating in the pursuit of our shared aims\n",
      "it has led directly to greater prosperity\n",
      "increased trade\n",
      "investment and jobs\n",
      "better security\n",
      "and a greener environment\n",
      "britain is better o ... ...\n"
     ]
    }
   ],
   "source": [
    "UKLib.Corpus.processed <- tm_map(UKLib.Corpus.processed,removeNumbers)\n",
    "UKLib.Corpus.processed <- tm_map(UKLib.Corpus.processed,removePunctuation)\n",
    "inspect(UKLib.Corpus.processed[[14]])"
   ]
  },
  {
   "cell_type": "code",
   "execution_count": 14,
   "metadata": {},
   "outputs": [
    {
     "name": "stdout",
     "output_type": "stream",
     "text": [
      "<<PlainTextDocument>>\n",
      "Metadata:  10\n",
      "Content:  chars: 112157\n",
      "\n",
      "protect britain place in europ give the peopl the final say liber democrat are open and outwardlook we passion believ that britain relationship with it neighbour is stronger as part of the european union whatev it imperfect the eu remain the best framework for work effect and cooper in the pursuit of our share aim it has led direct to greater prosper increas trade invest and job better secur and a greener environ britain is better off in the eu liber democrat campaign for the uk to remain in the ... ...\n"
     ]
    }
   ],
   "source": [
    "UKLib.Corpus.processed <- tm_map(UKLib.Corpus.processed,stemDocument)\n",
    "inspect(UKLib.Corpus.processed[[14]])"
   ]
  },
  {
   "cell_type": "code",
   "execution_count": 15,
   "metadata": {},
   "outputs": [
    {
     "data": {
      "text/plain": [
       "<<DocumentTermMatrix (documents: 14, terms: 5940)>>\n",
       "Non-/sparse entries: 24547/58613\n",
       "Sparsity           : 70%\n",
       "Maximal term length: 27\n",
       "Weighting          : term frequency (tf)"
      ]
     },
     "metadata": {},
     "output_type": "display_data"
    }
   ],
   "source": [
    "# After preprocessing the text documents we obtain a document-term matrix:\n",
    "UKLib.dtm <- DocumentTermMatrix(UKLib.Corpus.processed)\n",
    "UKLib.dtm"
   ]
  },
  {
   "cell_type": "code",
   "execution_count": 16,
   "metadata": {},
   "outputs": [
    {
     "data": {
      "text/plain": [
       "<<DocumentTermMatrix (documents: 14, terms: 6289)>>\n",
       "Non-/sparse entries: 24105/63941\n",
       "Sparsity           : 73%\n",
       "Maximal term length: 27\n",
       "Weighting          : term frequency (tf)"
      ]
     },
     "metadata": {},
     "output_type": "display_data"
    }
   ],
   "source": [
    "# The various preprocessing steps can be combined into a single step:\n",
    "UKLib.dtm <- DocumentTermMatrix(\n",
    "    tm_map(UKLib.Corpus,handleUTF8quotes),\n",
    "    control=list(\n",
    "        tolower=TRUE,\n",
    "        removePunctuation=TRUE,\n",
    "        removeNumber=TRUE,\n",
    "        stopwords=TRUE,\n",
    "        language=\"en\",\n",
    "        stemming=TRUE\n",
    "    ))\n",
    "UKLib.dtm"
   ]
  }
 ],
 "metadata": {
  "kernelspec": {
   "display_name": "R",
   "language": "R",
   "name": "ir"
  },
  "language_info": {
   "codemirror_mode": "r",
   "file_extension": ".r",
   "mimetype": "text/x-r-source",
   "name": "R",
   "pygments_lexer": "r",
   "version": "4.0.3"
  }
 },
 "nbformat": 4,
 "nbformat_minor": 4
}
