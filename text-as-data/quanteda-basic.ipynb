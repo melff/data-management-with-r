{
 "cells": [
  {
   "cell_type": "code",
   "execution_count": 1,
   "metadata": {},
   "outputs": [],
   "source": [
    "options(jupyter.rich_display=FALSE) # Create output as usual in R"
   ]
  },
  {
   "cell_type": "code",
   "execution_count": 2,
   "metadata": {},
   "outputs": [
    {
     "name": "stderr",
     "output_type": "stream",
     "text": [
      "Package version: 2.1.1\n",
      "\n",
      "Parallel computing: 2 of 12 threads used.\n",
      "\n",
      "See https://quanteda.io for tutorials and examples.\n",
      "\n",
      "\n",
      "Attaching package: ‘quanteda’\n",
      "\n",
      "\n",
      "The following object is masked from ‘jupyter:irkernel’:\n",
      "\n",
      "    View\n",
      "\n",
      "\n",
      "The following object is masked from ‘package:utils’:\n",
      "\n",
      "    View\n",
      "\n",
      "\n"
     ]
    }
   ],
   "source": [
    "library(quanteda)"
   ]
  },
  {
   "cell_type": "code",
   "execution_count": 3,
   "metadata": {},
   "outputs": [],
   "source": [
    "quanteda_options(print_corpus_max_ndoc=3)"
   ]
  },
  {
   "cell_type": "code",
   "execution_count": 4,
   "metadata": {},
   "outputs": [
    {
     "data": {
      "text/plain": [
       "Corpus consisting of 58 documents and 4 docvars.\n",
       "1789-Washington :\n",
       "\"Fellow-Citizens of the Senate and of the House of Representa...\"\n",
       "\n",
       "1793-Washington :\n",
       "\"Fellow citizens, I am again called upon by the voice of my c...\"\n",
       "\n",
       "1797-Adams :\n",
       "\"When it was first perceived, in early times, that no middle ...\"\n",
       "\n",
       "[ reached max_ndoc ... 55 more documents ]"
      ]
     },
     "metadata": {},
     "output_type": "display_data"
    }
   ],
   "source": [
    "# This is an example corpus contained in the 'quanteda' package\n",
    "data_corpus_inaugural"
   ]
  },
  {
   "cell_type": "code",
   "execution_count": 5,
   "metadata": {},
   "outputs": [
    {
     "data": {
      "text/plain": [
       "[1] \"character\""
      ]
     },
     "metadata": {},
     "output_type": "display_data"
    }
   ],
   "source": [
    "mode(data_corpus_inaugural)"
   ]
  },
  {
   "cell_type": "code",
   "execution_count": 6,
   "metadata": {},
   "outputs": [
    {
     "data": {
      "text/plain": [
       "[1] \"corpus\"    \"character\""
      ]
     },
     "metadata": {},
     "output_type": "display_data"
    }
   ],
   "source": [
    "class(data_corpus_inaugural)"
   ]
  },
  {
   "cell_type": "code",
   "execution_count": 7,
   "metadata": {},
   "outputs": [
    {
     "data": {
      "text/plain": [
       "Corpus consisting of 3 documents and 4 docvars.\n",
       "1789-Washington :\n",
       "\"Fellow-Citizens of the Senate and of the House of Representa...\"\n",
       "\n",
       "1793-Washington :\n",
       "\"Fellow citizens, I am again called upon by the voice of my c...\"\n",
       "\n",
       "1797-Adams :\n",
       "\"When it was first perceived, in early times, that no middle ...\"\n"
      ]
     },
     "metadata": {},
     "output_type": "display_data"
    }
   ],
   "source": [
    "data_corpus_inaugural[1:3]"
   ]
  },
  {
   "cell_type": "code",
   "execution_count": 8,
   "metadata": {},
   "outputs": [
    {
     "name": "stdout",
     "output_type": "stream",
     "text": [
      "'data.frame':\t58 obs. of  4 variables:\n",
      " $ Year     : int  1789 1793 1797 1801 1805 1809 1813 1817 1821 1825 ...\n",
      " $ President: chr  \"Washington\" \"Washington\" \"Adams\" \"Jefferson\" ...\n",
      " $ FirstName: chr  \"George\" \"George\" \"John\" \"Thomas\" ...\n",
      " $ Party    : Factor w/ 6 levels \"Democratic\",\"Democratic-Republican\",..: 4 4 3 2 2 2 2 2 2 2 ...\n"
     ]
    }
   ],
   "source": [
    "str(docvars(data_corpus_inaugural))"
   ]
  },
  {
   "cell_type": "code",
   "execution_count": 9,
   "metadata": {},
   "outputs": [
    {
     "data": {
      "text/plain": [
       " [1] 1789 1793 1797 1801 1805 1809 1813 1817 1821 1825 1829 1833 1837 1841 1845\n",
       "[16] 1849 1853 1857 1861 1865 1869 1873 1877 1881 1885 1889 1893 1897 1901 1905\n",
       "[31] 1909 1913 1917 1921 1925 1929 1933 1937 1941 1945 1949 1953 1957 1961 1965\n",
       "[46] 1969 1973 1977 1981 1985 1989 1993 1997 2001 2005 2009 2013 2017"
      ]
     },
     "metadata": {},
     "output_type": "display_data"
    }
   ],
   "source": [
    "docvars(data_corpus_inaugural,\"Year\")"
   ]
  },
  {
   "cell_type": "code",
   "execution_count": 10,
   "metadata": {},
   "outputs": [
    {
     "data": {
      "text/plain": [
       " [1] 1789 1793 1797 1801 1805 1809 1813 1817 1821 1825 1829 1833 1837 1841 1845\n",
       "[16] 1849 1853 1857 1861 1865 1869 1873 1877 1881 1885 1889 1893 1897 1901 1905\n",
       "[31] 1909 1913 1917 1921 1925 1929 1933 1937 1941 1945 1949 1953 1957 1961 1965\n",
       "[46] 1969 1973 1977 1981 1985 1989 1993 1997 2001 2005 2009 2013 2017"
      ]
     },
     "metadata": {},
     "output_type": "display_data"
    }
   ],
   "source": [
    "data_corpus_inaugural$Year"
   ]
  },
  {
   "cell_type": "code",
   "execution_count": 11,
   "metadata": {},
   "outputs": [
    {
     "data": {
      "text/plain": [
       "Corpus consisting of 18 documents and 4 docvars.\n",
       "1949-Truman :\n",
       "\"Mr. Vice President, Mr. Chief Justice, and fellow citizens, ...\"\n",
       "\n",
       "1953-Eisenhower :\n",
       "\"My friends, before I begin the expression of those thoughts ...\"\n",
       "\n",
       "1957-Eisenhower :\n",
       "\"The Price of Peace Mr. Chairman, Mr. Vice President, Mr. Chi...\"\n",
       "\n",
       "[ reached max_ndoc ... 15 more documents ]"
      ]
     },
     "metadata": {},
     "output_type": "display_data"
    }
   ],
   "source": [
    "corpus_subset(data_corpus_inaugural, Year > 1945)"
   ]
  },
  {
   "cell_type": "code",
   "execution_count": 12,
   "metadata": {},
   "outputs": [],
   "source": [
    "subset.corpus <- function(x,...) corpus_subset(x,...)"
   ]
  },
  {
   "cell_type": "code",
   "execution_count": 13,
   "metadata": {},
   "outputs": [
    {
     "data": {
      "text/plain": [
       "Corpus consisting of 18 documents and 4 docvars.\n",
       "1949-Truman :\n",
       "\"Mr. Vice President, Mr. Chief Justice, and fellow citizens, ...\"\n",
       "\n",
       "1953-Eisenhower :\n",
       "\"My friends, before I begin the expression of those thoughts ...\"\n",
       "\n",
       "1957-Eisenhower :\n",
       "\"The Price of Peace Mr. Chairman, Mr. Vice President, Mr. Chi...\"\n",
       "\n",
       "[ reached max_ndoc ... 15 more documents ]"
      ]
     },
     "metadata": {},
     "output_type": "display_data"
    }
   ],
   "source": [
    "subset(data_corpus_inaugural, Year > 1945)"
   ]
  },
  {
   "cell_type": "code",
   "execution_count": 14,
   "metadata": {},
   "outputs": [],
   "source": [
    "docs_containing <- function(x,pattern,...) x[grep(pattern,x,...)]"
   ]
  },
  {
   "cell_type": "code",
   "execution_count": 15,
   "metadata": {},
   "outputs": [
    {
     "data": {
      "text/plain": [
       "[1] \"Trump\""
      ]
     },
     "metadata": {},
     "output_type": "display_data"
    }
   ],
   "source": [
    "c_sub <- docs_containing(data_corpus_inaugural,\"[Cc]arnage\")\n",
    "c_sub$President"
   ]
  },
  {
   "cell_type": "code",
   "execution_count": 16,
   "metadata": {},
   "outputs": [
    {
     "data": {
      "text/plain": [
       "Corpus consisting of 5,018 documents and 4 docvars.\n",
       "1789-Washington.1 :\n",
       "\"Fellow-Citizens of the Senate and of the House of Representa...\"\n",
       "\n",
       "1789-Washington.2 :\n",
       "\"On the one hand, I was summoned by my Country, whose voice I...\"\n",
       "\n",
       "1789-Washington.3 :\n",
       "\"On the other hand, the magnitude and difficulty of the trust...\"\n",
       "\n",
       "[ reached max_ndoc ... 5,015 more documents ]"
      ]
     },
     "metadata": {},
     "output_type": "display_data"
    }
   ],
   "source": [
    "inaugural_sntc <- corpus_reshape(data_corpus_inaugural,\n",
    "                                 to=\"sentences\")\n",
    "inaugural_sntc"
   ]
  },
  {
   "cell_type": "code",
   "execution_count": 17,
   "metadata": {},
   "outputs": [
    {
     "data": {
      "text/plain": [
       "                  Year President  FirstName Party len\n",
       "1789-Washington.1 1789 Washington George    none  278\n",
       "1789-Washington.2 1789 Washington George    none  478\n",
       "1789-Washington.3 1789 Washington George    none  436\n",
       "1789-Washington.4 1789 Washington George    none  179\n",
       "1789-Washington.5 1789 Washington George    none  515\n",
       "1789-Washington.6 1789 Washington George    none  654"
      ]
     },
     "metadata": {},
     "output_type": "display_data"
    }
   ],
   "source": [
    "sntcl <- cbind(docvars(inaugural_sntc),\n",
    "               len=nchar(inaugural_sntc))\n",
    "head(sntcl)"
   ]
  },
  {
   "cell_type": "code",
   "execution_count": 18,
   "metadata": {},
   "outputs": [
    {
     "data": {
      "image/png": "[encoded data removed]",
      "text/plain": [
       "plot without title"
      ]
     },
     "metadata": {
      "image/png": {
       "height": 420,
       "width": 420
      },
      "text/plain": {
       "height": 420,
       "width": 420
      }
     },
     "output_type": "display_data"
    }
   ],
   "source": [
    "sntcl.year <- aggregate(len~Year,data=sntcl,mean)\n",
    "with(sntcl.year,\n",
    "     scatter.smooth(Year,len,ylab=\"Average length of sentences in characters\"))"
   ]
  },
  {
   "cell_type": "code",
   "execution_count": 19,
   "metadata": {},
   "outputs": [
    {
     "data": {
      "text/plain": [
       "[1] TRUE"
      ]
     },
     "metadata": {},
     "output_type": "display_data"
    }
   ],
   "source": [
    "inaugural_ <- corpus_reshape(data_corpus_inaugural,\n",
    "                             to=\"documents\")\n",
    "all(inaugural_$Year == data_corpus_inaugural$Year)"
   ]
  }
 ],
 "metadata": {
  "kernelspec": {
   "display_name": "R",
   "language": "R",
   "name": "ir"
  },
  "language_info": {
   "codemirror_mode": "r",
   "file_extension": ".r",
   "mimetype": "text/x-r-source",
   "name": "R",
   "pygments_lexer": "r",
   "version": "4.0.3"
  }
 },
 "nbformat": 4,
 "nbformat_minor": 4
}
