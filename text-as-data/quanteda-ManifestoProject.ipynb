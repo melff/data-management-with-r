{
 "cells": [
  {
   "cell_type": "code",
   "execution_count": 1,
   "metadata": {},
   "outputs": [],
   "source": [
    "options(jupyter.rich_display=FALSE) # Create output as usual in R\n",
    "options(width=120)"
   ]
  },
  {
   "cell_type": "code",
   "execution_count": 2,
   "metadata": {},
   "outputs": [
    {
     "data": {
      "text/plain": [
       "[1] 14"
      ]
     },
     "metadata": {},
     "output_type": "display_data"
    }
   ],
   "source": [
    "csv.files <- dir(\"ManifestoProject\",\n",
    "                 full.names=TRUE,\n",
    "                 pattern=\"*.csv\")\n",
    "length(csv.files)"
   ]
  },
  {
   "cell_type": "code",
   "execution_count": 3,
   "metadata": {},
   "outputs": [
    {
     "data": {
      "text/plain": [
       "[1] 4228"
      ]
     },
     "metadata": {},
     "output_type": "display_data"
    }
   ],
   "source": [
    "# 'readtext' (a companion package for 'quanteda') is somewhat better able to\n",
    "# deal with the Manfisto Project CSV files than 'tm':\n",
    "library(readtext)\n",
    "UKLib.rt <- readtext(\"ManifestoProject/*.csv\",\n",
    "               text_field=1,\n",
    "               docvarsfrom=\"filenames\",\n",
    "               docvarnames=c(\"party\",\"date\"))\n",
    "nrow(UKLib.rt)"
   ]
  },
  {
   "cell_type": "code",
   "execution_count": 4,
   "metadata": {},
   "outputs": [
    {
     "data": {
      "text/plain": [
       "[1] 14"
      ]
     },
     "metadata": {},
     "output_type": "display_data"
    }
   ],
   "source": [
    "# Here we cerate an index of documents in the corpus:\n",
    "UKLib.rta <- aggregate(text~party+date,\n",
    "                       FUN=function(x)paste(x,collapse=\" \"),\n",
    "                       data=UKLib.rt)\n",
    "nrow(UKLib.rta)"
   ]
  },
  {
   "cell_type": "code",
   "execution_count": 5,
   "metadata": {},
   "outputs": [],
   "source": [
    "UKLib.rta <- within(UKLib.rta,\n",
    "              doc_id <- paste(party,date,sep=\"_\"))"
   ]
  },
  {
   "cell_type": "code",
   "execution_count": 6,
   "metadata": {},
   "outputs": [
    {
     "name": "stderr",
     "output_type": "stream",
     "text": [
      "Package version: 2.1.1\n",
      "\n",
      "Parallel computing: 2 of 12 threads used.\n",
      "\n",
      "See https://quanteda.io for tutorials and examples.\n",
      "\n",
      "\n",
      "Attaching package: ‘quanteda’\n",
      "\n",
      "\n",
      "The following object is masked from ‘jupyter:irkernel’:\n",
      "\n",
      "    View\n",
      "\n",
      "\n",
      "The following object is masked from ‘package:utils’:\n",
      "\n",
      "    View\n",
      "\n",
      "\n"
     ]
    }
   ],
   "source": [
    "library(quanteda)"
   ]
  },
  {
   "cell_type": "code",
   "execution_count": 7,
   "metadata": {},
   "outputs": [
    {
     "data": {
      "text/plain": [
       "Corpus consisting of 14 documents and 2 docvars.\n",
       "51420_196410 :\n",
       "\"\"\"THINK FOR YOURSELF\"\"  The Liberal Party offers the elector...\"\n",
       "\n",
       "51420_196603 :\n",
       "\"For All the People: the Liberal Plan of 1966  BRITAIN DEMAND...\"\n",
       "\n",
       "51420_197006 :\n",
       "\"What a Life!  There must surely be a better way to run a cou...\"\n",
       "\n",
       "51420_197402 :\n",
       "\"'Change the face of Britain'  THE CRISIS OF GOVERNMENT  This...\"\n",
       "\n",
       "51420_197410 :\n",
       "\"Why Britain Needs Liberal Government  A PERSONAL MESSAGE FRO...\"\n",
       "\n",
       "51420_197905 :\n",
       "\"'The Real Fight is for Britain'  INTRODUCTION  With your sup...\"\n",
       "\n",
       "[ reached max_ndoc ... 8 more documents ]"
      ]
     },
     "metadata": {},
     "output_type": "display_data"
    }
   ],
   "source": [
    "UKLib.corpus <- corpus(UKLib.rta)\n",
    "UKLib.corpus"
   ]
  },
  {
   "cell_type": "code",
   "execution_count": 8,
   "metadata": {},
   "outputs": [
    {
     "name": "stdout",
     "output_type": "stream",
     "text": [
      "'data.frame':\t4492 obs. of  6 variables:\n",
      " $ country    : int  11 11 11 11 11 11 11 11 11 11 ...\n",
      " $ countryname: chr  \"Sweden\" \"Sweden\" \"Sweden\" \"Sweden\" ...\n",
      " $ party      : int  11110 11110 11110 11110 11110 11110 11110 11110 11110 11220 ...\n",
      " $ partyname  : chr  \"Green Ecology Party\" \"Green Ecology Party\" \"Green Ecology Party\" \"Green Ecology Party\" ...\n",
      " $ date       : int  198809 199109 199409 199809 200209 200609 201009 201409 201809 194409 ...\n",
      " $ title      : chr  \"Valmanifest\" \"Valmanifest ‘91\" \"Valmanifest\" \"Valmanifest 98\" ...\n"
     ]
    }
   ],
   "source": [
    "# Here we combine metadata with the text documents:\n",
    "manifesto.metadata <- read.csv(\"documents_MPDataset_MPDS2019b.csv\",stringsAsFactors=FALSE)\n",
    "str(manifesto.metadata)"
   ]
  },
  {
   "cell_type": "code",
   "execution_count": 9,
   "metadata": {},
   "outputs": [
    {
     "name": "stdout",
     "output_type": "stream",
     "text": [
      "'data.frame':\t14 obs. of  6 variables:\n",
      " $ party      : int  51420 51420 51420 51420 51420 51420 51420 51420 51421 51421 ...\n",
      " $ date       : int  196410 196603 197006 197402 197410 197905 198306 198706 199204 199705 ...\n",
      " $ country    : int  51 51 51 51 51 51 51 51 51 51 ...\n",
      " $ countryname: chr  \"United Kingdom\" \"United Kingdom\" \"United Kingdom\" \"United Kingdom\" ...\n",
      " $ partyname  : chr  \"Liberal Party\" \"Liberal Party\" \"Liberal Party\" \"Liberal Party\" ...\n",
      " $ title      : chr  \"Think for Yourself - Vote Liberal\" \"For all the People: The Liberal Plan of 1966\" \"What a Life!\" \"Change the Face of Britain\" ...\n"
     ]
    }
   ],
   "source": [
    "docvars(UKLib.corpus) <- merge(docvars(UKLib.corpus),\n",
    "                               manifesto.metadata,\n",
    "                               by=c(\"party\",\"date\"))\n",
    "str(docvars(UKLib.corpus))"
   ]
  },
  {
   "cell_type": "code",
   "execution_count": 10,
   "metadata": {},
   "outputs": [
    {
     "name": "stdout",
     "output_type": "stream",
     "text": [
      "'data.frame':\t14 obs. of  6 variables:\n",
      " $ party      : int  51420 51420 51420 51420 51420 51420 51420 51420 51421 51421 ...\n",
      " $ date       : int  196410 196603 197006 197402 197410 197905 198306 198706 199204 199705 ...\n",
      " $ country    : int  51 51 51 51 51 51 51 51 51 51 ...\n",
      " $ countryname: chr  \"United Kingdom\" \"United Kingdom\" \"United Kingdom\" \"United Kingdom\" ...\n",
      " $ partyname  : chr  \"Liberal Party\" \"Liberal Party\" \"Liberal Party\" \"Liberal Party\" ...\n",
      " $ title      : chr  \"Think for Yourself - Vote Liberal\" \"For all the People: The Liberal Plan of 1966\" \"What a Life!\" \"Change the Face of Britain\" ...\n"
     ]
    }
   ],
   "source": [
    "# Finally we create a document-feature matrix, without punctuation, numbers,\n",
    "# symbols and stopwords:\n",
    "UKLib.dfm <- dfm(UKLib.corpus,\n",
    "                 remove_punct=TRUE,\n",
    "                 remove_numbers=TRUE,\n",
    "                 remove_symbols=TRUE,\n",
    "                 remove=stopwords(\"english\"),\n",
    "                 stem=TRUE)\n",
    "str(docvars(UKLib.dfm))"
   ]
  },
  {
   "cell_type": "code",
   "execution_count": 11,
   "metadata": {},
   "outputs": [
    {
     "data": {
      "text/plain": [
       "Tokens consisting of 14 documents and 6 docvars.\n",
       "51420_196410 :\n",
       " [1] \"THINK\"         \"FOR\"           \"YOURSELF\"      \"The\"           \"Liberal\"       \"Party\"         \"offers\"       \n",
       " [8] \"the\"           \"electorate\"    \"a\"             \"radical\"       \"non-Socialist\"\n",
       "[ ... and 8,853 more ]\n",
       "\n",
       "51420_196603 :\n",
       " [1] \"For\"     \"All\"     \"the\"     \"People\"  \"the\"     \"Liberal\" \"Plan\"    \"of\"      \"BRITAIN\" \"DEMANDS\" \"A\"      \n",
       "[12] \"NEW\"    \n",
       "[ ... and 31,786 more ]\n",
       "\n",
       "51420_197006 :\n",
       " [1] \"What\"   \"a\"      \"Life\"   \"There\"  \"must\"   \"surely\" \"be\"     \"a\"      \"better\" \"way\"    \"to\"     \"run\"   \n",
       "[ ... and 23,962 more ]\n",
       "\n",
       "51420_197402 :\n",
       " [1] \"Change\"     \"the\"        \"face\"       \"of\"         \"Britain\"    \"THE\"        \"CRISIS\"     \"OF\"        \n",
       " [9] \"GOVERNMENT\" \"This\"       \"country\"    \"has\"       \n",
       "[ ... and 13,764 more ]\n",
       "\n",
       "51420_197410 :\n",
       " [1] \"Why\"        \"Britain\"    \"Needs\"      \"Liberal\"    \"Government\" \"A\"          \"PERSONAL\"   \"MESSAGE\"   \n",
       " [9] \"FROM\"       \"THE\"        \"RT\"         \"HON\"       \n",
       "[ ... and 10,485 more ]\n",
       "\n",
       "51420_197905 :\n",
       " [1] \"The\"          \"Real\"         \"Fight\"        \"is\"           \"for\"          \"Britain\"      \"INTRODUCTION\"\n",
       " [8] \"With\"         \"your\"         \"support\"      \"this\"         \"election\"    \n",
       "[ ... and 11,438 more ]\n",
       "\n",
       "[ reached max_ndoc ... 8 more documents ]"
      ]
     },
     "metadata": {},
     "output_type": "display_data"
    }
   ],
   "source": [
    "# A more fine-grained control is possible using 'tokens()'\n",
    "UKLib.toks <- tokens(UKLib.corpus,\n",
    "                     remove_punct=TRUE,\n",
    "                     remove_numbers=TRUE)\n",
    "UKLib.toks"
   ]
  },
  {
   "cell_type": "code",
   "execution_count": 12,
   "metadata": {},
   "outputs": [
    {
     "data": {
      "text/plain": [
       "Document-feature matrix of: 14 documents, 9,908 features (73.8% sparse) and 6 docvars.\n",
       "              features\n",
       "docs           think for yourself  the liberal party offers electorate   a radical\n",
       "  51420_196410     2 132        2  530      32     4      1          1 195       3\n",
       "  51420_196603     1 489        1 1824      81    12      3          1 597       6\n",
       "  51420_197006     1 373        0 1336     132    19      1          0 414       1\n",
       "  51420_197402     2 174        0  852      38    29      1          0 291       4\n",
       "  51420_197410     1 166        0  634      30    24      0          6 232       4\n",
       "  51420_197905     1 174        0  700      36    10      1          6 237       7\n",
       "[ reached max_ndoc ... 8 more documents, reached max_nfeat ... 9,898 more features ]"
      ]
     },
     "metadata": {},
     "output_type": "display_data"
    }
   ],
   "source": [
    "UKLib.dfm <- dfm(UKLib.toks)\n",
    "UKLib.dfm"
   ]
  },
  {
   "cell_type": "code",
   "execution_count": 13,
   "metadata": {},
   "outputs": [
    {
     "data": {
      "text/plain": [
       "Document-feature matrix of: 14 documents, 9,765 features (74.4% sparse) and 6 docvars.\n",
       "              features\n",
       "docs           think liberal party offers electorate radical non-socialist alternative long run\n",
       "  51420_196410     2      32     4      1          1       3             1           5    4   4\n",
       "  51420_196603     1      81    12      3          1       6             0           7   26   6\n",
       "  51420_197006     1     132    19      1          0       1             0           8    6   6\n",
       "  51420_197402     2      38    29      1          0       4             0           1   11   4\n",
       "  51420_197410     1      30    24      0          6       4             0           4    9   3\n",
       "  51420_197905     1      36    10      1          6       7             0           3   10   4\n",
       "[ reached max_ndoc ... 8 more documents, reached max_nfeat ... 9,755 more features ]"
      ]
     },
     "metadata": {},
     "output_type": "display_data"
    }
   ],
   "source": [
    "UKLib.dfm <- dfm_remove(UKLib.dfm,\n",
    "                        pattern=stopwords(\"english\"))\n",
    "UKLib.dfm"
   ]
  },
  {
   "cell_type": "code",
   "execution_count": 14,
   "metadata": {},
   "outputs": [
    {
     "data": {
      "text/plain": [
       "Document-feature matrix of: 14 documents, 6,166 features (70.6% sparse) and 6 docvars.\n",
       "              features\n",
       "docs           think liber parti offer elector radic non-socialist altern long run\n",
       "  51420_196410     3    46     7     1       1     3             1      6    4   7\n",
       "  51420_196603     3    98    19    20       7     6             0     10   26  12\n",
       "  51420_197006     2   149    31     6       2     1             0     15    6  10\n",
       "  51420_197402     2    67    42     9       3     4             0      2   11   5\n",
       "  51420_197410     3    44    31     1      11     5             0      5    9   4\n",
       "  51420_197905     1    64    26     7      18     7             0      6   10   7\n",
       "[ reached max_ndoc ... 8 more documents, reached max_nfeat ... 6,156 more features ]"
      ]
     },
     "metadata": {},
     "output_type": "display_data"
    }
   ],
   "source": [
    "UKLib.dfm <- dfm_wordstem(UKLib.dfm,language=\"english\")\n",
    "UKLib.dfm"
   ]
  },
  {
   "cell_type": "code",
   "execution_count": 15,
   "metadata": {},
   "outputs": [],
   "source": [
    "# 'quanteda' provides support for dictionaries:\n",
    "milecondict <- dictionary(list(\n",
    "                Military=c(\"military\",\"forces\",\"war\",\"defence\",\"victory\",\"victorious\",\"glory\"),\n",
    "                Economy=c(\"economy\",\"growth\",\"business\",\"enterprise\",\"market\")\n",
    "))"
   ]
  },
  {
   "cell_type": "code",
   "execution_count": 16,
   "metadata": {},
   "outputs": [
    {
     "data": {
      "text/plain": [
       "Document-feature matrix of: 14 documents, 2 features (0.0% sparse) and 6 docvars.\n",
       "              features\n",
       "docs           Military Economy\n",
       "  51420_196410       11      29\n",
       "  51420_196603       40      83\n",
       "  51420_197006       31      77\n",
       "  51420_197402       14      50\n",
       "  51420_197410        5      31\n",
       "  51420_197905       23      34\n",
       "[ reached max_ndoc ... 8 more documents ]"
      ]
     },
     "metadata": {},
     "output_type": "display_data"
    }
   ],
   "source": [
    "# Here we extract the frequency of tokens belonging to certain dictionaries:\n",
    "UKLib.milecon.dfm <- dfm(UKLib.corpus,\n",
    "                         dictionary=milecondict)\n",
    "UKLib.milecon.dfm"
   ]
  },
  {
   "cell_type": "code",
   "execution_count": 17,
   "metadata": {},
   "outputs": [
    {
     "data": {
      "text/plain": [
       " [1] \"1964-10-01 12:00:00 GMT\" \"1966-03-01 12:00:00 GMT\" \"1970-06-01 12:00:00 GMT\" \"1974-02-01 12:00:00 GMT\"\n",
       " [5] \"1974-10-01 12:00:00 GMT\" \"1979-05-01 12:00:00 GMT\" \"1983-06-01 12:00:00 GMT\" \"1987-06-01 12:00:00 GMT\"\n",
       " [9] \"1992-04-01 12:00:00 GMT\" \"1997-05-01 12:00:00 GMT\" \"2001-06-01 12:00:00 GMT\" \"2005-05-01 12:00:00 GMT\"\n",
       "[13] \"2015-05-01 12:00:00 GMT\" \"2017-06-01 12:00:00 GMT\""
      ]
     },
     "metadata": {},
     "output_type": "display_data"
    }
   ],
   "source": [
    "time <- with(docvars(UKLib.milecon.dfm),\n",
    "             ISOdate(year=date%/%100,\n",
    "                     month=date%%100,\n",
    "                     day=1))\n",
    "time"
   ]
  },
  {
   "cell_type": "code",
   "execution_count": 18,
   "metadata": {},
   "outputs": [],
   "source": [
    "UKLib.ntok <- ntoken(UKLib.corpus)"
   ]
  },
  {
   "cell_type": "code",
   "execution_count": 19,
   "metadata": {},
   "outputs": [],
   "source": [
    "milit.freq <- as.vector(UKLib.milecon.dfm[,\"Military\"])\n",
    "econ.freq <- as.vector(UKLib.milecon.dfm[,\"Economy\"])\n",
    "milit.prop <- milit.freq/UKLib.ntok\n",
    "econ.prop <- econ.freq/UKLib.ntok"
   ]
  },
  {
   "cell_type": "code",
   "execution_count": 20,
   "metadata": {},
   "outputs": [
    {
     "data": {
      "image/png": "[encoded data removed]",
      "text/plain": [
       "plot without title"
      ]
     },
     "metadata": {
      "image/png": {
       "height": 420,
       "width": 420
      },
      "text/plain": {
       "height": 420,
       "width": 420
      }
     },
     "output_type": "display_data"
    }
   ],
   "source": [
    "# We plot the frequency of tokens over time\n",
    "op <- par(mfrow=c(2,1),mar=c(3,4,0,0))\n",
    "plot(time,milit.prop,type=\"p\",ylab=\"Military\")\n",
    "lines(time,lowess(time,milit.prop)$y)\n",
    "plot(time,econ.prop,type=\"p\",ylab=\"Economy\")\n",
    "lines(time,lowess(time,econ.prop)$y)\n",
    "par(op)"
   ]
  }
 ],
 "metadata": {
  "kernelspec": {
   "display_name": "R",
   "language": "R",
   "name": "ir"
  },
  "language_info": {
   "codemirror_mode": "r",
   "file_extension": ".r",
   "mimetype": "text/x-r-source",
   "name": "R",
   "pygments_lexer": "r",
   "version": "4.0.3"
  }
 },
 "nbformat": 4,
 "nbformat_minor": 4
}
