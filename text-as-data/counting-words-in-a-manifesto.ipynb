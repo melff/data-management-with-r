{
 "cells": [
  {
   "cell_type": "code",
   "execution_count": 1,
   "metadata": {},
   "outputs": [],
   "source": [
    "options(jupyter.rich_display=FALSE) # Create output as usual in R"
   ]
  },
  {
   "cell_type": "code",
   "execution_count": 2,
   "metadata": {},
   "outputs": [],
   "source": [
    "# First, the data are read in\n",
    "Labour.2017 <- read.csv(\"UKLabourParty_201706.csv\",\n",
    "                        stringsAsFactors=FALSE)"
   ]
  },
  {
   "cell_type": "code",
   "execution_count": 3,
   "metadata": {},
   "outputs": [
    {
     "name": "stdout",
     "output_type": "stream",
     "text": [
      "'data.frame':\t1396 obs. of  3 variables:\n",
      " $ content : chr  \"CREATING AN ECONOMY THAT WORKS FOR ALL\" \"Labour's economic strategy is about delivering a fairer, more prosperous society for the many, not just the few.\" \"We will measure our economic success not by the number of billionaires, but by the ability of our people to live richer lives.\" \"Labour understands that the creation of wealth is a collective endeavour between workers, entrepreneurs, invest\"| __truncated__ ...\n",
      " $ cmp_code: chr  \"H\" \"503\" \"503\" \"405\" ...\n",
      " $ eu_code : logi  NA NA NA NA NA NA ...\n"
     ]
    }
   ],
   "source": [
    "# Second, some non-ascii characters are substituted \n",
    "Labour.2017$content <- gsub(\"\\xE2\\x80\\x99\",\"'\",Labour.2017$content)\n",
    "str(Labour.2017)"
   ]
  },
  {
   "cell_type": "code",
   "execution_count": 4,
   "metadata": {},
   "outputs": [
    {
     "data": {
      "text/plain": [
       "[1] \"CREATING AN ECONOMY THAT WORKS FOR ALL\"                                                                                            \n",
       "[2] \"Labour's economic strategy is about delivering a fairer, more prosperous society for the many, not just the few.\"                  \n",
       "[3] \"We will measure our economic success not by the number of billionaires, but by the ability of our people to live richer lives.\"    \n",
       "[4] \"Labour understands that the creation of wealth is a collective endeavour between workers, entrepreneurs, investors and government.\"\n",
       "[5] \"Each contributes and each must share fairly in the rewards.\"                                                                       "
      ]
     },
     "metadata": {},
     "output_type": "display_data"
    }
   ],
   "source": [
    "# The variable 'content' contains the text of the manifesto \n",
    "Labour.2017 <- Labour.2017$content\n",
    "Labour.2017[1:5]"
   ]
  },
  {
   "cell_type": "code",
   "execution_count": 5,
   "metadata": {},
   "outputs": [
    {
     "data": {
      "text/plain": [
       "[1] \"CREATING AN ECONOMY THAT WORKS FOR ALL\"\n",
       "[2] \"A FAIR TAXATION SYSTEM\"                \n",
       "[3] \"BALANCING THE BOOKS\"                   \n",
       "[4] \"INFRASTRUCTURE INVESTMENT\"             "
      ]
     },
     "metadata": {},
     "output_type": "display_data"
    }
   ],
   "source": [
    "# The headings in the manifesto are all-uppercase, this helps\n",
    "# to identify them:\n",
    "Labour.2017.hlno <- which(Labour.2017==toupper(Labour.2017))\n",
    "Labour.2017.headings <- Labour.2017[Labour.2017.hlno]\n",
    "Labour.2017.headings[1:4]"
   ]
  },
  {
   "cell_type": "code",
   "execution_count": 6,
   "metadata": {},
   "outputs": [
    {
     "data": {
      "text/plain": [
       "[1] \"labour's economic strategy is about delivering a fairer, more prosperous society for the many, not just the few.\"                                                           \n",
       "[2] \"we will measure our economic success not by the number of billionaires, but by the ability of our people to live richer lives.\"                                             \n",
       "[3] \"labour understands that the creation of wealth is a collective endeavour between workers, entrepreneurs, investors and government.\"                                         \n",
       "[4] \"each contributes and each must share fairly in the rewards.\"                                                                                                                \n",
       "[5] \"this manifesto sets out labour's plan to upgrade our economy and rewrite the rules of a rigged system, so that our economy really works for the many, and not only the few.\""
      ]
     },
     "metadata": {},
     "output_type": "display_data"
    }
   ],
   "source": [
    "# All non-heading text is changed to lowercase\n",
    "labour.2017 <- tolower(Labour.2017[-Labour.2017.hlno])\n",
    "labour.2017[1:5]"
   ]
  },
  {
   "cell_type": "code",
   "execution_count": 7,
   "metadata": {},
   "outputs": [
    {
     "data": {
      "text/plain": [
       "[1] \"labour's economic strategy is about delivering a fairer, more prosperous society for the many, not just the few.\"                                                           \n",
       "[2] \"we will measure our economic success not by the number of billionaires, but by the ability of our people to live richer lives.\"                                             \n",
       "[3] \"this manifesto sets out labour's plan to upgrade our economy and rewrite the rules of a rigged system, so that our economy really works for the many, and not only the few.\"\n",
       "[4] \"britain is the only major developed economy where earnings have fallen even as growth has returned after the financial crisis.\"                                             \n",
       "[5] \"we will upgrade our economy, breaking down the barriers that hold too many of us back,\"                                                                                     "
      ]
     },
     "metadata": {},
     "output_type": "display_data"
    }
   ],
   "source": [
    "# All lines that contain the pattern 'econom' are collected\n",
    "ecny.labour.2017 <- grep(\"econom\",labour.2017,value=TRUE)\n",
    "ecny.labour.2017[1:5]"
   ]
  },
  {
   "cell_type": "code",
   "execution_count": 8,
   "metadata": {},
   "outputs": [
    {
     "name": "stdout",
     "output_type": "stream",
     "text": [
      "List of 5\n",
      " $ : chr [1:18] \"labour's\" \"economic\" \"strategy\" \"is\" ...\n",
      " $ : chr [1:23] \"we\" \"will\" \"measure\" \"our\" ...\n",
      " $ : chr [1:17] \"labour\" \"understands\" \"that\" \"the\" ...\n",
      " $ : chr [1:10] \"each\" \"contributes\" \"and\" \"each\" ...\n",
      " $ : chr [1:32] \"this\" \"manifesto\" \"sets\" \"out\" ...\n"
     ]
    }
   ],
   "source": [
    "# Using 'strsplit()' the lines are split into words\n",
    "labour.2017.words <- strsplit(labour.2017,\"[ ,.;:]+\")\n",
    "str(labour.2017.words[1:5])"
   ]
  },
  {
   "cell_type": "code",
   "execution_count": 9,
   "metadata": {},
   "outputs": [
    {
     "data": {
      "text/plain": [
       " [1] \"labour's\"   \"economic\"   \"strategy\"   \"is\"         \"about\"     \n",
       " [6] \"delivering\" \"a\"          \"fairer\"     \"more\"       \"prosperous\"\n",
       "[11] \"society\"    \"for\"        \"the\"        \"many\"       \"not\"       \n",
       "[16] \"just\"       \"the\"        \"few\"        \"we\"         \"will\"      "
      ]
     },
     "metadata": {},
     "output_type": "display_data"
    }
   ],
   "source": [
    "# The result is a list. We change it into a character vector.\n",
    "labour.2017.words <- unlist(labour.2017.words)\n",
    "labour.2017.words[1:20]"
   ]
  },
  {
   "cell_type": "code",
   "execution_count": 10,
   "metadata": {},
   "outputs": [
    {
     "data": {
      "text/plain": [
       "labour.2017.words\n",
       "   the    and     to   will     of      a     we     in labour    for    our \n",
       "  1202    947    832    664    625    438    418    369    313    312    244 \n",
       "  that     on   with     by     is    are     as   have ensure \n",
       "   232    212    185    161    161    134    112    108    104 "
      ]
     },
     "metadata": {},
     "output_type": "display_data"
    }
   ],
   "source": [
    "# We now count the words and look at the 20 most common ones.\n",
    "labour.2017.nwords <- table(labour.2017.words)\n",
    "labour.2017.nwords <- sort(labour.2017.nwords,decreasing=TRUE)\n",
    "labour.2017.nwords[1:20]"
   ]
  }
 ],
 "metadata": {
  "kernelspec": {
   "display_name": "R",
   "language": "R",
   "name": "ir"
  },
  "language_info": {
   "codemirror_mode": "r",
   "file_extension": ".r",
   "mimetype": "text/x-r-source",
   "name": "R",
   "pygments_lexer": "r",
   "version": "4.0.3"
  }
 },
 "nbformat": 4,
 "nbformat_minor": 4
}
