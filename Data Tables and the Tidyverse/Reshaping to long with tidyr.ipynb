{
 "cells": [
  {
   "cell_type": "code",
   "execution_count": 1,
   "metadata": {},
   "outputs": [],
   "source": [
    "options(jupyter.rich_display=FALSE, width=120) # Create output as usual in R"
   ]
  },
  {
   "cell_type": "code",
   "execution_count": 2,
   "metadata": {},
   "outputs": [
    {
     "data": {
      "text/plain": [
       "[1] \"Data table for: Income inequality, Gini coefficien\"        \n",
       "[2] \"Location \\t 2007\\t2008\\t 2009\\t2010\\t2011\\t2012\\t2013\\t201\"\n",
       "[3] \"Australia\\t\\t\\t\\t\\t\\t0.326\\t\\t0.337\\t\\t0.330\\t\"            \n",
       "[4] \"Austria\\t0.284\\t0.281\\t0.289\\t0.280\\t0.281\\t0.275\\t0.279\\t\"\n",
       "[5] \"Belgium\\t0.277\\t0.266\\t0.272\\t0.267\\t0.270\\t0.265\\t0.265\\t\""
      ]
     },
     "metadata": {},
     "output_type": "display_data"
    }
   ],
   "source": [
    "# Inspecting the file\n",
    "substr(readLines(\"gini-oecd.tsv\",n=5),start=1,stop=50)"
   ]
  },
  {
   "cell_type": "code",
   "execution_count": 3,
   "metadata": {},
   "outputs": [],
   "source": [
    "library(readr)"
   ]
  },
  {
   "cell_type": "code",
   "execution_count": 4,
   "metadata": {},
   "outputs": [
    {
     "name": "stderr",
     "output_type": "stream",
     "text": [
      "Parsed with column specification:\n",
      "cols(\n",
      "  Location = \u001b[31mcol_character()\u001b[39m,\n",
      "  `2007` = \u001b[32mcol_double()\u001b[39m,\n",
      "  `2008` = \u001b[32mcol_double()\u001b[39m,\n",
      "  `2009` = \u001b[32mcol_double()\u001b[39m,\n",
      "  `2010` = \u001b[32mcol_double()\u001b[39m,\n",
      "  `2011` = \u001b[32mcol_double()\u001b[39m,\n",
      "  `2012` = \u001b[32mcol_double()\u001b[39m,\n",
      "  `2013` = \u001b[32mcol_double()\u001b[39m,\n",
      "  `2014` = \u001b[32mcol_double()\u001b[39m,\n",
      "  `2015` = \u001b[32mcol_double()\u001b[39m,\n",
      "  `2016` = \u001b[32mcol_double()\u001b[39m,\n",
      "  `2017` = \u001b[32mcol_double()\u001b[39m\n",
      ")\n",
      "\n"
     ]
    }
   ],
   "source": [
    "gini.oecd <- read_tsv(\"gini-oecd.tsv\",\n",
    "                      skip=1)"
   ]
  },
  {
   "cell_type": "code",
   "execution_count": 5,
   "metadata": {},
   "outputs": [
    {
     "data": {
      "text/plain": [
       "   Location                     2007  2008  2009  2010  2011  2012  2013  2014  2015  2016  2017 \n",
       "1  Australia                       NA    NA    NA    NA    NA 0.326    NA 0.337    NA 0.330    NA\n",
       "2  Austria                      0.284 0.281 0.289 0.280 0.281 0.275 0.279 0.274 0.276 0.284    NA\n",
       "3  Belgium                      0.277 0.266 0.272 0.267 0.270 0.265 0.265 0.266 0.268 0.266    NA\n",
       "4  Brazil                          NA    NA 0.485    NA 0.483    NA 0.470    NA    NA    NA    NA\n",
       "5  Canada                       0.317 0.315 0.316 0.316 0.313 0.317 0.320 0.313 0.318 0.307 0.310\n",
       "6  Chile                           NA    NA 0.480    NA 0.471    NA 0.465    NA 0.454    NA 0.460\n",
       "7  China (People's Republic of)    NA    NA    NA    NA 0.514    NA    NA    NA    NA    NA    NA\n",
       "8  Costa Rica                      NA    NA    NA 0.472 0.480 0.483 0.494 0.485 0.479 0.484 0.480\n",
       "9  Czech Republic               0.256 0.259 0.257 0.259 0.257 0.253 0.259 0.257 0.258 0.253    NA\n",
       "10 Denmark                         NA    NA    NA    NA 0.251 0.249 0.254 0.256 0.263 0.261    NA\n",
       "11 Estonia                         NA    NA    NA    NA    NA    NA 0.357 0.346 0.330 0.314    NA\n",
       "12 Finland                      0.269 0.264 0.259 0.264 0.264 0.260 0.262 0.257 0.260 0.259 0.266\n",
       "13 France                          NA    NA    NA    NA    NA 0.305 0.291 0.293 0.295 0.291    NA\n",
       "14 Germany                         NA 0.285    NA    NA 0.291 0.289 0.292 0.289 0.293 0.294    NA\n",
       "15 Greece                       0.329 0.328 0.330 0.336 0.333 0.338 0.342 0.339 0.340 0.333    NA\n",
       "16 Hungary                      0.257 0.246 0.241 0.266 0.270 0.280 0.277 0.282 0.284 0.282    NA\n",
       "17 Iceland                      0.286 0.305 0.266 0.249 0.252 0.253 0.241 0.246 0.255    NA    NA\n",
       "18 India                           NA    NA    NA    NA 0.495    NA    NA    NA    NA    NA    NA\n",
       "19 Ireland                      0.304 0.295 0.312 0.298 0.307 0.310 0.308 0.298 0.297 0.309    NA\n",
       "20 Israel                          NA    NA    NA    NA 0.371 0.371 0.360 0.365 0.360 0.346 0.344\n",
       "21 Italy                        0.313 0.317 0.315 0.327 0.327 0.330 0.325 0.326 0.333 0.328    NA\n",
       "22 Japan                           NA    NA 0.336    NA    NA 0.330    NA    NA 0.339    NA    NA\n",
       "23 Korea                           NA    NA    NA    NA    NA    NA    NA    NA 0.352 0.355 0.355\n",
       "24 Latvia                       0.374 0.373 0.354 0.347 0.352 0.347 0.351 0.350 0.346 0.346    NA\n",
       "25 Lithuania                    0.338 0.358 0.366 0.329 0.322 0.350 0.352 0.381 0.372 0.378    NA\n",
       "26 Luxembourg                      NA    NA    NA    NA    NA    NA    NA    NA 0.306 0.304    NA\n",
       "27 Mexico                          NA    NA    NA    NA    NA 0.457    NA 0.459    NA 0.458    NA\n",
       "28 Netherlands                     NA    NA    NA    NA 0.289 0.288 0.287 0.303 0.288 0.285    NA\n",
       "29 New Zealand                     NA    NA    NA    NA 0.323 0.333    NA 0.349    NA    NA    NA\n",
       "30 Norway                          NA 0.250 0.245 0.249 0.250 0.253 0.252 0.257 0.272 0.262 0.262\n",
       "31 Poland                       0.316 0.308 0.303 0.305 0.301 0.297 0.299 0.298 0.292 0.284    NA\n",
       "32 Portugal                     0.361 0.355 0.337 0.341 0.337 0.337 0.341 0.338 0.336 0.331    NA\n",
       "33 Russia                          NA    NA    NA    NA 0.376    NA    NA    NA    NA 0.331    NA\n",
       "34 Slovak Republic              0.245 0.256 0.264 0.263 0.261 0.250 0.269 0.247 0.251 0.241    NA\n",
       "35 Slovenia                     0.239 0.234 0.245 0.244 0.244 0.249 0.254 0.251 0.250 0.244    NA\n",
       "36 South Africa                    NA    NA    NA    NA    NA    NA    NA    NA 0.620    NA    NA\n",
       "37 Spain                        0.324 0.327 0.333 0.339 0.341 0.334 0.345 0.344 0.345 0.341    NA\n",
       "38 Sweden                          NA    NA    NA    NA    NA    NA 0.268 0.274 0.278 0.282 0.282\n",
       "39 Switzerland                  0.312 0.306 0.297 0.298 0.289 0.285 0.295 0.297 0.296    NA    NA\n",
       "40 Turkey                          NA    NA    NA    NA 0.403 0.399 0.390 0.398 0.404    NA    NA\n",
       "41 United Kingdom               0.373 0.369 0.374 0.351 0.354 0.351 0.358 0.356 0.360 0.351 0.357\n",
       "42 United States                   NA    NA    NA    NA    NA 0.396 0.394 0.390 0.391 0.390    NA"
      ]
     },
     "metadata": {},
     "output_type": "display_data"
    }
   ],
   "source": [
    "gini.oecd"
   ]
  },
  {
   "cell_type": "code",
   "execution_count": 6,
   "metadata": {},
   "outputs": [],
   "source": [
    "library(tidyr)"
   ]
  },
  {
   "cell_type": "code",
   "execution_count": 7,
   "metadata": {},
   "outputs": [
    {
     "data": {
      "text/plain": [
       "    Location                     year gini \n",
       "1   Australia                    2007    NA\n",
       "2   Austria                      2007 0.284\n",
       "3   Belgium                      2007 0.277\n",
       "4   Brazil                       2007    NA\n",
       "5   Canada                       2007 0.317\n",
       "6   Chile                        2007    NA\n",
       "7   China (People's Republic of) 2007    NA\n",
       "8   Costa Rica                   2007    NA\n",
       "9   Czech Republic               2007 0.256\n",
       "10  Denmark                      2007    NA\n",
       "11  Estonia                      2007    NA\n",
       "12  Finland                      2007 0.269\n",
       "13  France                       2007    NA\n",
       "14  Germany                      2007    NA\n",
       "15  Greece                       2007 0.329\n",
       "16  Hungary                      2007 0.257\n",
       "17  Iceland                      2007 0.286\n",
       "18  India                        2007    NA\n",
       "19  Ireland                      2007 0.304\n",
       "20  Israel                       2007    NA\n",
       "21  Italy                        2007 0.313\n",
       "22  Japan                        2007    NA\n",
       "23  Korea                        2007    NA\n",
       "24  Latvia                       2007 0.374\n",
       "25  Lithuania                    2007 0.338\n",
       "26  Luxembourg                   2007    NA\n",
       "27  Mexico                       2007    NA\n",
       "28  Netherlands                  2007    NA\n",
       "29  New Zealand                  2007    NA\n",
       "30  Norway                       2007    NA\n",
       "⋮   ⋮                            ⋮    ⋮    \n",
       "433 France                       2017    NA\n",
       "434 Germany                      2017    NA\n",
       "435 Greece                       2017    NA\n",
       "436 Hungary                      2017    NA\n",
       "437 Iceland                      2017    NA\n",
       "438 India                        2017    NA\n",
       "439 Ireland                      2017    NA\n",
       "440 Israel                       2017 0.344\n",
       "441 Italy                        2017    NA\n",
       "442 Japan                        2017    NA\n",
       "443 Korea                        2017 0.355\n",
       "444 Latvia                       2017    NA\n",
       "445 Lithuania                    2017    NA\n",
       "446 Luxembourg                   2017    NA\n",
       "447 Mexico                       2017    NA\n",
       "448 Netherlands                  2017    NA\n",
       "449 New Zealand                  2017    NA\n",
       "450 Norway                       2017 0.262\n",
       "451 Poland                       2017    NA\n",
       "452 Portugal                     2017    NA\n",
       "453 Russia                       2017    NA\n",
       "454 Slovak Republic              2017    NA\n",
       "455 Slovenia                     2017    NA\n",
       "456 South Africa                 2017    NA\n",
       "457 Spain                        2017    NA\n",
       "458 Sweden                       2017 0.282\n",
       "459 Switzerland                  2017    NA\n",
       "460 Turkey                       2017    NA\n",
       "461 United Kingdom               2017 0.357\n",
       "462 United States                2017    NA"
      ]
     },
     "metadata": {},
     "output_type": "display_data"
    }
   ],
   "source": [
    "gini.oecd %>% gather(`2007`,`2008`,`2009`,`2010`,`2011`,`2012`,\n",
    "                      `2013`,`2014`,`2015`,`2016`,`2017`,\n",
    "                      key=\"year\",value=\"gini\") -> gini.oecd.long\n",
    "gini.oecd.long"
   ]
  },
  {
   "cell_type": "code",
   "execution_count": 8,
   "metadata": {},
   "outputs": [
    {
     "data": {
      "text/plain": [
       "    Location                     year gini \n",
       "1   Australia                    2007    NA\n",
       "2   Austria                      2007 0.284\n",
       "3   Belgium                      2007 0.277\n",
       "4   Brazil                       2007    NA\n",
       "5   Canada                       2007 0.317\n",
       "6   Chile                        2007    NA\n",
       "7   China (People's Republic of) 2007    NA\n",
       "8   Costa Rica                   2007    NA\n",
       "9   Czech Republic               2007 0.256\n",
       "10  Denmark                      2007    NA\n",
       "11  Estonia                      2007    NA\n",
       "12  Finland                      2007 0.269\n",
       "13  France                       2007    NA\n",
       "14  Germany                      2007    NA\n",
       "15  Greece                       2007 0.329\n",
       "16  Hungary                      2007 0.257\n",
       "17  Iceland                      2007 0.286\n",
       "18  India                        2007    NA\n",
       "19  Ireland                      2007 0.304\n",
       "20  Israel                       2007    NA\n",
       "21  Italy                        2007 0.313\n",
       "22  Japan                        2007    NA\n",
       "23  Korea                        2007    NA\n",
       "24  Latvia                       2007 0.374\n",
       "25  Lithuania                    2007 0.338\n",
       "26  Luxembourg                   2007    NA\n",
       "27  Mexico                       2007    NA\n",
       "28  Netherlands                  2007    NA\n",
       "29  New Zealand                  2007    NA\n",
       "30  Norway                       2007    NA\n",
       "⋮   ⋮                            ⋮    ⋮    \n",
       "433 France                       2017    NA\n",
       "434 Germany                      2017    NA\n",
       "435 Greece                       2017    NA\n",
       "436 Hungary                      2017    NA\n",
       "437 Iceland                      2017    NA\n",
       "438 India                        2017    NA\n",
       "439 Ireland                      2017    NA\n",
       "440 Israel                       2017 0.344\n",
       "441 Italy                        2017    NA\n",
       "442 Japan                        2017    NA\n",
       "443 Korea                        2017 0.355\n",
       "444 Latvia                       2017    NA\n",
       "445 Lithuania                    2017    NA\n",
       "446 Luxembourg                   2017    NA\n",
       "447 Mexico                       2017    NA\n",
       "448 Netherlands                  2017    NA\n",
       "449 New Zealand                  2017    NA\n",
       "450 Norway                       2017 0.262\n",
       "451 Poland                       2017    NA\n",
       "452 Portugal                     2017    NA\n",
       "453 Russia                       2017    NA\n",
       "454 Slovak Republic              2017    NA\n",
       "455 Slovenia                     2017    NA\n",
       "456 South Africa                 2017    NA\n",
       "457 Spain                        2017    NA\n",
       "458 Sweden                       2017 0.282\n",
       "459 Switzerland                  2017    NA\n",
       "460 Turkey                       2017    NA\n",
       "461 United Kingdom               2017 0.357\n",
       "462 United States                2017    NA"
      ]
     },
     "metadata": {},
     "output_type": "display_data"
    }
   ],
   "source": [
    "gini.oecd %>% gather(-Location,\n",
    "                      key=\"year\",value=\"gini\") -> gini.oecd.long\n",
    "gini.oecd.long"
   ]
  },
  {
   "cell_type": "code",
   "execution_count": 9,
   "metadata": {},
   "outputs": [
    {
     "data": {
      "text/plain": [
       "    Location       year gini \n",
       "1   Australia      2007    NA\n",
       "2   Australia      2008    NA\n",
       "3   Australia      2009    NA\n",
       "4   Australia      2010    NA\n",
       "5   Australia      2011    NA\n",
       "6   Australia      2012 0.326\n",
       "7   Australia      2013    NA\n",
       "8   Australia      2014 0.337\n",
       "9   Australia      2015    NA\n",
       "10  Australia      2016 0.330\n",
       "11  Australia      2017    NA\n",
       "12  Austria        2007 0.284\n",
       "13  Austria        2008 0.281\n",
       "14  Austria        2009 0.289\n",
       "15  Austria        2010 0.280\n",
       "16  Austria        2011 0.281\n",
       "17  Austria        2012 0.275\n",
       "18  Austria        2013 0.279\n",
       "19  Austria        2014 0.274\n",
       "20  Austria        2015 0.276\n",
       "21  Austria        2016 0.284\n",
       "22  Austria        2017    NA\n",
       "23  Belgium        2007 0.277\n",
       "24  Belgium        2008 0.266\n",
       "25  Belgium        2009 0.272\n",
       "26  Belgium        2010 0.267\n",
       "27  Belgium        2011 0.270\n",
       "28  Belgium        2012 0.265\n",
       "29  Belgium        2013 0.265\n",
       "30  Belgium        2014 0.266\n",
       "⋮   ⋮              ⋮    ⋮    \n",
       "433 Turkey         2010    NA\n",
       "434 Turkey         2011 0.403\n",
       "435 Turkey         2012 0.399\n",
       "436 Turkey         2013 0.390\n",
       "437 Turkey         2014 0.398\n",
       "438 Turkey         2015 0.404\n",
       "439 Turkey         2016    NA\n",
       "440 Turkey         2017    NA\n",
       "441 United Kingdom 2007 0.373\n",
       "442 United Kingdom 2008 0.369\n",
       "443 United Kingdom 2009 0.374\n",
       "444 United Kingdom 2010 0.351\n",
       "445 United Kingdom 2011 0.354\n",
       "446 United Kingdom 2012 0.351\n",
       "447 United Kingdom 2013 0.358\n",
       "448 United Kingdom 2014 0.356\n",
       "449 United Kingdom 2015 0.360\n",
       "450 United Kingdom 2016 0.351\n",
       "451 United Kingdom 2017 0.357\n",
       "452 United States  2007    NA\n",
       "453 United States  2008    NA\n",
       "454 United States  2009    NA\n",
       "455 United States  2010    NA\n",
       "456 United States  2011    NA\n",
       "457 United States  2012 0.396\n",
       "458 United States  2013 0.394\n",
       "459 United States  2014 0.390\n",
       "460 United States  2015 0.391\n",
       "461 United States  2016 0.390\n",
       "462 United States  2017    NA"
      ]
     },
     "metadata": {},
     "output_type": "display_data"
    }
   ],
   "source": [
    "gini.oecd %>% pivot_longer(-Location,\n",
    "                           names_to=\"year\",\n",
    "                           values_to=\"gini\") -> gini.oecd.long\n",
    "gini.oecd.long"
   ]
  },
  {
   "cell_type": "code",
   "execution_count": null,
   "metadata": {},
   "outputs": [],
   "source": []
  }
 ],
 "metadata": {
  "kernelspec": {
   "display_name": "R",
   "language": "R",
   "name": "ir"
  },
  "language_info": {
   "codemirror_mode": "r",
   "file_extension": ".r",
   "mimetype": "text/x-r-source",
   "name": "R",
   "pygments_lexer": "r",
   "version": "4.0.3"
  }
 },
 "nbformat": 4,
 "nbformat_minor": 4
}
