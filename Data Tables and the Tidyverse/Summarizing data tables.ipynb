{
 "cells": [
  {
   "cell_type": "code",
   "execution_count": 1,
   "metadata": {},
   "outputs": [],
   "source": [
    "options(jupyter.rich_display=FALSE) # Create output as usual in R"
   ]
  },
  {
   "cell_type": "code",
   "execution_count": 2,
   "metadata": {},
   "outputs": [],
   "source": [
    "load(\"bes2010feelings.RData\")"
   ]
  },
  {
   "cell_type": "code",
   "execution_count": 3,
   "metadata": {},
   "outputs": [],
   "source": [
    "library(data.table)"
   ]
  },
  {
   "cell_type": "code",
   "execution_count": 4,
   "metadata": {},
   "outputs": [],
   "source": [
    "setDT(bes2010feelings)"
   ]
  },
  {
   "cell_type": "code",
   "execution_count": 5,
   "metadata": {},
   "outputs": [
    {
     "data": {
      "text/plain": [
       "  Brown    Cameron  Clegg    N   \n",
       "1 4.406517 5.162484 4.850231 5010"
      ]
     },
     "metadata": {},
     "output_type": "display_data"
    }
   ],
   "source": [
    "Mean <- function(x) mean(x,na.rm=TRUE)\n",
    "bes2010feelings[,.(Brown=Mean(flng.brown),\n",
    "                   Cameron=Mean(flng.cameron),\n",
    "                   Clegg=Mean(flng.clegg),\n",
    "                   N=.N)]"
   ]
  },
  {
   "cell_type": "code",
   "execution_count": 6,
   "metadata": {},
   "outputs": [
    {
     "data": {
      "text/plain": [
       "  wave region   Brown    Cameron  Clegg    N   \n",
       "1 Pre  England  4.092674 5.284810 4.618690 1159\n",
       "2 Pre  NA       4.507143 4.929870 4.426573  437\n",
       "3 Pre  Scotland 5.395000 4.502591 4.405229  207\n",
       "4 Pre  Wales    4.328244 4.774194 4.592233  132\n",
       "5 Post England  4.140990 5.441454 5.160313 2175\n",
       "6 Post Scotland 5.510769 4.539075 4.513793  665\n",
       "7 Post Wales    4.307692 4.855895 4.814480  235"
      ]
     },
     "metadata": {},
     "output_type": "display_data"
    }
   ],
   "source": [
    "bes2010feelings[,.(Brown=Mean(flng.brown),\n",
    "                   Cameron=Mean(flng.cameron),\n",
    "                   Clegg=Mean(flng.clegg),\n",
    "                   N=.N),\n",
    "                by=.(wave,region)]"
   ]
  },
  {
   "cell_type": "code",
   "execution_count": null,
   "metadata": {},
   "outputs": [],
   "source": []
  }
 ],
 "metadata": {
  "kernelspec": {
   "display_name": "R",
   "language": "R",
   "name": "ir"
  },
  "language_info": {
   "codemirror_mode": "r",
   "file_extension": ".r",
   "mimetype": "text/x-r-source",
   "name": "R",
   "pygments_lexer": "r",
   "version": "4.0.3"
  }
 },
 "nbformat": 4,
 "nbformat_minor": 4
}
