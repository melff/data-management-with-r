{
 "cells": [
  {
   "cell_type": "code",
   "execution_count": 1,
   "metadata": {},
   "outputs": [],
   "source": [
    "options(jupyter.rich_display=FALSE, width=200) # Create output as usual in R, but make it wider"
   ]
  },
  {
   "cell_type": "code",
   "execution_count": 2,
   "metadata": {},
   "outputs": [],
   "source": [
    "library(data.table)"
   ]
  },
  {
   "cell_type": "code",
   "execution_count": 3,
   "metadata": {},
   "outputs": [],
   "source": [
    "load(\"bes2010feelings.RData\")\n",
    "setDT(bes2010feelings)"
   ]
  },
  {
   "cell_type": "code",
   "execution_count": 4,
   "metadata": {},
   "outputs": [
    {
     "data": {
      "text/plain": [
       "  flng.brown flng.cameron flng.clegg flng.salmond flng.jones flng.labour flng.cons flng.libdem flng.snp flng.pcym flng.green flng.ukip flng.bnp wave region  \n",
       "1 8          3            NA         7             6          9           7         5           9       NA         5         NA        NA       Pre  Scotland\n",
       "2 0          3            NA         2            NA         NA          NA        NA          NA       NA        NA         NA        NA       Pre  Scotland\n",
       "3 4          5             5         7             3          4           4         5           7       NA         3          2         0       Pre  Scotland\n",
       "4 6          5             6         6             4          5           4         4           5       NA         1          0         0       Pre  Scotland\n",
       "5 8          6             7         0             9          6           7         5           0       NA         2          3         0       Pre  Scotland\n",
       "6 9          3             3         4             7          7           5         4           6       NA         7          5         7       Pre  Scotland"
      ]
     },
     "metadata": {},
     "output_type": "display_data"
    }
   ],
   "source": [
    "sctl2010feelings <- bes2010feelings[region==\"Scotland\"]\n",
    "head(sctl2010feelings)"
   ]
  },
  {
   "cell_type": "code",
   "execution_count": 5,
   "metadata": {},
   "outputs": [],
   "source": [
    "bes2010feelings.srtd <- bes2010feelings[order(wave,region)]"
   ]
  },
  {
   "cell_type": "code",
   "execution_count": 6,
   "metadata": {},
   "outputs": [
    {
     "data": {
      "text/plain": [
       "[1] \"flng.brown\" \"wave\"       \"region\"    "
      ]
     },
     "metadata": {},
     "output_type": "display_data"
    }
   ],
   "source": [
    "bes2010feelings.sub <- bes2010feelings[,.(flng.brown,wave,region)]\n",
    "names(bes2010feelings.sub)"
   ]
  },
  {
   "cell_type": "code",
   "execution_count": 7,
   "metadata": {},
   "outputs": [
    {
     "name": "stdout",
     "output_type": "stream",
     "text": [
      "Classes ‘data.table’ and 'data.frame':\t5010 obs. of  3 variables:\n",
      " $ flng.brown: num  6 3 8 4 5 5 5 4 7 4 ...\n",
      " $ wave      : Factor w/ 2 levels \"Pre\",\"Post\": 1 1 1 1 1 1 1 1 1 1 ...\n",
      " $ region    : Factor w/ 3 levels \"England\",\"Scotland\",..: 1 NA 1 1 NA 1 1 1 1 1 ...\n",
      " - attr(*, \".internal.selfref\")=<externalptr> \n"
     ]
    }
   ],
   "source": [
    "str(bes2010feelings.sub)"
   ]
  },
  {
   "cell_type": "code",
   "execution_count": 8,
   "metadata": {},
   "outputs": [
    {
     "data": {
      "text/plain": [
       "  flng.brown wave region \n",
       "1 6          Pre  England\n",
       "2 3          Pre  NA     \n",
       "3 8          Pre  England\n",
       "4 4          Pre  England\n",
       "5 5          Pre  NA     \n",
       "6 5          Pre  England"
      ]
     },
     "metadata": {},
     "output_type": "display_data"
    }
   ],
   "source": [
    "head(bes2010feelings.sub)"
   ]
  },
  {
   "cell_type": "code",
   "execution_count": 9,
   "metadata": {},
   "outputs": [
    {
     "name": "stdout",
     "output_type": "stream",
     "text": [
      "Classes ‘data.table’ and 'data.frame':\t872 obs. of  5 variables:\n",
      " $ wave        : Factor w/ 2 levels \"Pre\",\"Post\": 1 1 1 1 1 1 1 1 1 1 ...\n",
      " $ flng.brown  : num  8 0 4 6 8 9 NA 1 7 10 ...\n",
      " $ flng.cameron: num  3 3 5 5 6 3 NA 3 5 6 ...\n",
      " $ flng.clegg  : num  NA NA 5 6 7 3 NA NA 3 6 ...\n",
      " $ flng.salmond: num  7 2 7 6 0 4 NA 4 5 8 ...\n",
      " - attr(*, \".internal.selfref\")=<externalptr> \n"
     ]
    }
   ],
   "source": [
    "sctl2010feelings <- bes2010feelings[region==\"Scotland\",\n",
    "                                    .(wave,\n",
    "                                      flng.brown,\n",
    "                                      flng.cameron,\n",
    "                                      flng.clegg,\n",
    "                                      flng.salmond)]\n",
    "str(sctl2010feelings)"
   ]
  },
  {
   "cell_type": "code",
   "execution_count": 10,
   "metadata": {},
   "outputs": [
    {
     "data": {
      "text/plain": [
       "  wave flng.brown flng.cameron flng.clegg flng.salmond\n",
       "1 Pre  8          3            NA         7           \n",
       "2 Pre  0          3            NA         2           \n",
       "3 Pre  4          5             5         7           \n",
       "4 Pre  6          5             6         6           \n",
       "5 Pre  8          6             7         0           \n",
       "6 Pre  9          3             3         4           "
      ]
     },
     "metadata": {},
     "output_type": "display_data"
    }
   ],
   "source": [
    "head(sctl2010feelings)"
   ]
  },
  {
   "cell_type": "code",
   "execution_count": null,
   "metadata": {},
   "outputs": [],
   "source": []
  }
 ],
 "metadata": {
  "kernelspec": {
   "display_name": "R",
   "language": "R",
   "name": "ir"
  },
  "language_info": {
   "codemirror_mode": "r",
   "file_extension": ".r",
   "mimetype": "text/x-r-source",
   "name": "R",
   "pygments_lexer": "r",
   "version": "4.0.3"
  }
 },
 "nbformat": 4,
 "nbformat_minor": 4
}
