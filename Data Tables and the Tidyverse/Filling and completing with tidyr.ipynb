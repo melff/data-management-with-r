{
 "cells": [
  {
   "cell_type": "code",
   "execution_count": 1,
   "metadata": {},
   "outputs": [],
   "source": [
    "options(jupyter.rich_display=FALSE) # Create output as usual in R"
   ]
  },
  {
   "cell_type": "markdown",
   "metadata": {},
   "source": [
    "Filling missing values with `fill()`"
   ]
  },
  {
   "cell_type": "code",
   "execution_count": 2,
   "metadata": {},
   "outputs": [],
   "source": [
    "library(tidyr)\n",
    "library(readr)"
   ]
  },
  {
   "cell_type": "code",
   "execution_count": 3,
   "metadata": {},
   "outputs": [],
   "source": [
    "messy_data_str <- \"\n",
    "country,  year,var1, var2\n",
    "Rodinia,  1297,  67, -3.0\n",
    ",         1298,  69, -2.9\n",
    ",         1299,  70, -2.8\n",
    "Pannotia, 1296,  73, -4.1\n",
    ",         1297,  74, -3.9\n",
    ",         1298,  75, -3.9\n",
    "Pangaea,  1296,  54, -1.2\n",
    ",         1297,  53, -1.1\n",
    ",         1298,  52, -1.0\n",
    ",         1299,  51, -0.9\n",
    "\""
   ]
  },
  {
   "cell_type": "code",
   "execution_count": 4,
   "metadata": {},
   "outputs": [
    {
     "data": {
      "text/plain": [
       "   country  year var1 var2\n",
       "1  Rodinia  1297 67   -3.0\n",
       "2  NA       1298 69   -2.9\n",
       "3  NA       1299 70   -2.8\n",
       "4  Pannotia 1296 73   -4.1\n",
       "5  NA       1297 74   -3.9\n",
       "6  NA       1298 75   -3.9\n",
       "7  Pangaea  1296 54   -1.2\n",
       "8  NA       1297 53   -1.1\n",
       "9  NA       1298 52   -1.0\n",
       "10 NA       1299 51   -0.9"
      ]
     },
     "metadata": {},
     "output_type": "display_data"
    }
   ],
   "source": [
    "messy_data_str %>% read_csv() -> messy_data\n",
    "messy_data"
   ]
  },
  {
   "cell_type": "code",
   "execution_count": 5,
   "metadata": {},
   "outputs": [
    {
     "data": {
      "text/plain": [
       "   country  year var1 var2\n",
       "1  Rodinia  1297 67   -3.0\n",
       "2  Rodinia  1298 69   -2.9\n",
       "3  Rodinia  1299 70   -2.8\n",
       "4  Pannotia 1296 73   -4.1\n",
       "5  Pannotia 1297 74   -3.9\n",
       "6  Pannotia 1298 75   -3.9\n",
       "7  Pangaea  1296 54   -1.2\n",
       "8  Pangaea  1297 53   -1.1\n",
       "9  Pangaea  1298 52   -1.0\n",
       "10 Pangaea  1299 51   -0.9"
      ]
     },
     "metadata": {},
     "output_type": "display_data"
    }
   ],
   "source": [
    "messy_data %>% fill(country) -> filled_data\n",
    "filled_data"
   ]
  },
  {
   "cell_type": "markdown",
   "metadata": {},
   "source": [
    "Completing data by missing values with `complete()`"
   ]
  },
  {
   "cell_type": "code",
   "execution_count": 6,
   "metadata": {},
   "outputs": [
    {
     "data": {
      "text/plain": [
       "   country  year var1 var2\n",
       "1  Pangaea  1296 54   -1.2\n",
       "2  Pangaea  1297 53   -1.1\n",
       "3  Pangaea  1298 52   -1.0\n",
       "4  Pangaea  1299 51   -0.9\n",
       "5  Pannotia 1296 73   -4.1\n",
       "6  Pannotia 1297 74   -3.9\n",
       "7  Pannotia 1298 75   -3.9\n",
       "8  Pannotia 1299 NA     NA\n",
       "9  Rodinia  1296 NA     NA\n",
       "10 Rodinia  1297 67   -3.0\n",
       "11 Rodinia  1298 69   -2.9\n",
       "12 Rodinia  1299 70   -2.8"
      ]
     },
     "metadata": {},
     "output_type": "display_data"
    }
   ],
   "source": [
    "filled_data %>% complete(crossing(country,year))"
   ]
  },
  {
   "cell_type": "code",
   "execution_count": null,
   "metadata": {},
   "outputs": [],
   "source": []
  }
 ],
 "metadata": {
  "kernelspec": {
   "display_name": "R",
   "language": "R",
   "name": "ir"
  },
  "language_info": {
   "codemirror_mode": "r",
   "file_extension": ".r",
   "mimetype": "text/x-r-source",
   "name": "R",
   "pygments_lexer": "r",
   "version": "4.0.3"
  }
 },
 "nbformat": 4,
 "nbformat_minor": 4
}
