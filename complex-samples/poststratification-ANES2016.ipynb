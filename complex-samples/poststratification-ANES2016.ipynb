{
 "cells": [
  {
   "cell_type": "code",
   "execution_count": 1,
   "metadata": {},
   "outputs": [],
   "source": [
    "options(jupyter.rich_display=FALSE) # Create output as usual in R\n",
    "load(\"anes-2016-prevote.RData\")"
   ]
  },
  {
   "cell_type": "markdown",
   "metadata": {},
   "source": [
    "There must not be any missing values in the stratifying variables."
   ]
  },
  {
   "cell_type": "code",
   "execution_count": 2,
   "metadata": {},
   "outputs": [],
   "source": [
    "anes_2016_vprevote <- subset(anes_2016_prevote,\n",
    "                                    vote16 != \"Inap\" &\n",
    "                                    recall12 != \"Inap\"\n",
    "                                    )"
   ]
  },
  {
   "cell_type": "markdown",
   "metadata": {},
   "source": [
    "In order to make poststratification possible, we need to make sure that the\n",
    "levels of the stratification variables match the population\n",
    "information. Therefore we relabel the variables \"recall12\" and \"vote16\"."
   ]
  },
  {
   "cell_type": "code",
   "execution_count": 3,
   "metadata": {},
   "outputs": [
    {
     "name": "stderr",
     "output_type": "stream",
     "text": [
      "Loading required package: lattice\n",
      "\n",
      "Loading required package: MASS\n",
      "\n",
      "\n",
      "Attaching package: ‘memisc’\n",
      "\n",
      "\n",
      "The following objects are masked from ‘package:stats’:\n",
      "\n",
      "    contr.sum, contr.treatment, contrasts\n",
      "\n",
      "\n",
      "The following object is masked from ‘package:base’:\n",
      "\n",
      "    as.array\n",
      "\n",
      "\n"
     ]
    }
   ],
   "source": [
    "library(memisc)"
   ]
  },
  {
   "cell_type": "code",
   "execution_count": 4,
   "metadata": {},
   "outputs": [],
   "source": [
    "anes_2016_vprevote <- within(anes_2016_vprevote,{\n",
    "    recall12 <- recall12[,drop=TRUE]\n",
    "    vote16 <- vote16[,drop=TRUE]\n",
    "    recall12 <- relabel(recall12,\"Did not vote\"=\"No vote\")\n",
    "    vote16 <- relabel(vote16,\n",
    "                      \"Will not vote/Not registered\"=\"No vote\")\n",
    "})\n",
    "save(anes_2016_vprevote,file=\"anes-2016-vprevote.RData\")"
   ]
  },
  {
   "cell_type": "markdown",
   "metadata": {},
   "source": [
    "Finally, we set up a survey design object:"
   ]
  },
  {
   "cell_type": "code",
   "execution_count": 5,
   "metadata": {},
   "outputs": [
    {
     "name": "stderr",
     "output_type": "stream",
     "text": [
      "Loading required package: grid\n",
      "\n",
      "Loading required package: Matrix\n",
      "\n",
      "Loading required package: survival\n",
      "\n",
      "\n",
      "Attaching package: ‘survey’\n",
      "\n",
      "\n",
      "The following object is masked from ‘package:graphics’:\n",
      "\n",
      "    dotchart\n",
      "\n",
      "\n"
     ]
    }
   ],
   "source": [
    "library(survey)"
   ]
  },
  {
   "cell_type": "code",
   "execution_count": 6,
   "metadata": {},
   "outputs": [],
   "source": [
    "anes_2016_vprevote_desgn <- svydesign(id = ~psu_f2f,\n",
    "                                       strata = ~strat_f2f,\n",
    "                                       weights = ~pre_w_f2f,\n",
    "                                       data = anes_2016_vprevote,\n",
    "                                       nest = TRUE)\n",
    "save(anes_2016_vprevote_desgn,file=\"anes-2016-vprevote-design.RData\")"
   ]
  },
  {
   "cell_type": "markdown",
   "metadata": {},
   "source": [
    "We collect the electoral results of 2012 to prepare poststratification."
   ]
  },
  {
   "cell_type": "code",
   "execution_count": 7,
   "metadata": {},
   "outputs": [],
   "source": [
    "result.2012 = c(Obama  = 65915795,\n",
    "                Romney = 60933504,\n",
    "                # Other candidates are combined\n",
    "                Other = sum(c(\n",
    "                    Johson = 1275971,\n",
    "                    Stein  =  469627,\n",
    "                    Others =  490510\n",
    "                )))"
   ]
  },
  {
   "cell_type": "markdown",
   "metadata": {},
   "source": [
    "The number of non-voters is computed from the sum of the results and census\n",
    "data on the population in voting age."
   ]
  },
  {
   "cell_type": "code",
   "execution_count": 8,
   "metadata": {},
   "outputs": [],
   "source": [
    "result.2012 <- c(result.2012,\n",
    "                 \"No vote\" = 235248000 - sum(result.2012)) "
   ]
  },
  {
   "cell_type": "code",
   "execution_count": 9,
   "metadata": {},
   "outputs": [],
   "source": [
    "# Here we collect the results for 2016\n",
    "result.2016 <- c(Clinton = 65853514,\n",
    "                 Trump   = 62984828,\n",
    "                 Other   = sum(c(\n",
    "                    Johnson  = 4489341, \n",
    "                    Stein    = 1457218,\n",
    "                    McMullin =  731991,\n",
    "                    Others   = 1154084 \n",
    "                 )))"
   ]
  },
  {
   "cell_type": "code",
   "execution_count": 10,
   "metadata": {},
   "outputs": [],
   "source": [
    "result.2016 <- c(result.2016,\n",
    "                 \"No vote\" = 250056000 - sum(result.2016))                 "
   ]
  },
  {
   "cell_type": "markdown",
   "metadata": {},
   "source": [
    "The poststratification function expects population data to be in the form of\n",
    "data frames:"
   ]
  },
  {
   "cell_type": "code",
   "execution_count": 11,
   "metadata": {},
   "outputs": [],
   "source": [
    "pop.vote16 <- data.frame(\n",
    "    vote16=names(result.2016),\n",
    "    Freq=result.2016)"
   ]
  },
  {
   "cell_type": "code",
   "execution_count": 12,
   "metadata": {},
   "outputs": [],
   "source": [
    "pop.recall12 <- data.frame(\n",
    "    recall12=names(result.2012),\n",
    "    Freq=result.2012/sum(result.2012)*sum(result.2016)\n",
    ")"
   ]
  },
  {
   "cell_type": "code",
   "execution_count": 13,
   "metadata": {},
   "outputs": [],
   "source": [
    "save(pop.recall12,pop.vote16,file=\"popl-results.RData\")"
   ]
  },
  {
   "cell_type": "markdown",
   "metadata": {},
   "source": [
    "We poststratify the sample design object by recalled vote in 2012"
   ]
  },
  {
   "cell_type": "code",
   "execution_count": 14,
   "metadata": {},
   "outputs": [],
   "source": [
    "anes_2016_prevote_desgn_post <- postStratify(\n",
    "    anes_2016_vprevote_desgn,~recall12,population=pop.recall12)"
   ]
  },
  {
   "cell_type": "markdown",
   "metadata": {},
   "source": [
    "We compare the estimated percentages of 2012 votes:"
   ]
  },
  {
   "cell_type": "code",
   "execution_count": 15,
   "metadata": {},
   "outputs": [
    {
     "data": {
      "text/plain": [
       "                   mean     SE\n",
       "recall12Obama   39.8844 0.0233\n",
       "recall12Romney  29.4551 0.0198\n",
       "recall12Other    1.1429 0.0035\n",
       "recall12No vote 29.5176 0.0222"
      ]
     },
     "metadata": {},
     "output_type": "display_data"
    }
   ],
   "source": [
    "100*svymean(~recall12,design=anes_2016_vprevote_desgn)"
   ]
  },
  {
   "cell_type": "code",
   "execution_count": 16,
   "metadata": {},
   "outputs": [
    {
     "data": {
      "text/plain": [
       "                    mean SE\n",
       "recall12Obama   28.01970  0\n",
       "recall12Romney  25.90182  0\n",
       "recall12Other    0.95053  0\n",
       "recall12No vote 45.12795  0"
      ]
     },
     "metadata": {},
     "output_type": "display_data"
    }
   ],
   "source": [
    "100*svymean(~recall12,design=anes_2016_prevote_desgn_post)"
   ]
  },
  {
   "cell_type": "markdown",
   "metadata": {},
   "source": [
    "As should be expected, post-stratification eliminates the uncertainty about\n",
    "2012 votes. It also corrects for turnout overreporting."
   ]
  },
  {
   "cell_type": "markdown",
   "metadata": {},
   "source": [
    "We now compare the estimated percentages of 2016 votes"
   ]
  },
  {
   "cell_type": "code",
   "execution_count": 17,
   "metadata": {},
   "outputs": [
    {
     "data": {
      "text/plain": [
       "                 mean     SE\n",
       "vote16Clinton 38.3334 0.0291\n",
       "vote16Trump   32.8720 0.0222\n",
       "vote16Other    7.5954 0.0104\n",
       "vote16No vote 21.1992 0.0200"
      ]
     },
     "metadata": {},
     "output_type": "display_data"
    }
   ],
   "source": [
    "100*svymean(~vote16,design=anes_2016_vprevote_desgn)"
   ]
  },
  {
   "cell_type": "code",
   "execution_count": 18,
   "metadata": {},
   "outputs": [
    {
     "data": {
      "text/plain": [
       "                 mean     SE\n",
       "vote16Clinton 32.6932 0.0222\n",
       "vote16Trump   32.8370 0.0152\n",
       "vote16Other    6.9345 0.0101\n",
       "vote16No vote 27.5352 0.0228"
      ]
     },
     "metadata": {},
     "output_type": "display_data"
    }
   ],
   "source": [
    "100*svymean(~vote16,design=anes_2016_prevote_desgn_post)"
   ]
  },
  {
   "cell_type": "markdown",
   "metadata": {},
   "source": [
    "The percentages of Clinton voters and Trump voters are closer after\n",
    "poststratification."
   ]
  },
  {
   "cell_type": "markdown",
   "metadata": {},
   "source": [
    "We save the poststratified data for later use."
   ]
  },
  {
   "cell_type": "code",
   "execution_count": 19,
   "metadata": {},
   "outputs": [],
   "source": [
    "save(anes_2016_prevote_desgn_post,file=\"anes-2016-prevote-desgn-post.RData\")"
   ]
  }
 ],
 "metadata": {
  "kernelspec": {
   "display_name": "R",
   "language": "R",
   "name": "ir"
  },
  "language_info": {
   "codemirror_mode": "r",
   "file_extension": ".r",
   "mimetype": "text/x-r-source",
   "name": "R",
   "pygments_lexer": "r",
   "version": "4.0.3"
  }
 },
 "nbformat": 4,
 "nbformat_minor": 4
}
