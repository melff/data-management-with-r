{
 "cells": [
  {
   "cell_type": "markdown",
   "metadata": {},
   "source": [
    "# Constructing a survey design object from data of the 2016 American Election   Study."
   ]
  },
  {
   "cell_type": "code",
   "execution_count": 1,
   "metadata": {},
   "outputs": [],
   "source": [
    "options(jupyter.rich_display=FALSE) # Create output as usual in R"
   ]
  },
  {
   "cell_type": "markdown",
   "metadata": {},
   "source": [
    "The following makes use of the *memisc* package. You may need to install it from\n",
    "[CRAN](https://cran.r-project.org/package=memisc) using the code\n",
    "`install.packages(\"memisc\")` if you want to run this on your computer. (The\n",
    "package is already installed on the notebook container, however.)"
   ]
  },
  {
   "cell_type": "code",
   "execution_count": 2,
   "metadata": {},
   "outputs": [
    {
     "name": "stderr",
     "output_type": "stream",
     "text": [
      "Loading required package: lattice\n",
      "\n",
      "Loading required package: MASS\n",
      "\n",
      "\n",
      "Attaching package: ‘memisc’\n",
      "\n",
      "\n",
      "The following objects are masked from ‘package:stats’:\n",
      "\n",
      "    contr.sum, contr.treatment, contrasts\n",
      "\n",
      "\n",
      "The following object is masked from ‘package:base’:\n",
      "\n",
      "    as.array\n",
      "\n",
      "\n"
     ]
    }
   ],
   "source": [
    "library(memisc)"
   ]
  },
  {
   "cell_type": "markdown",
   "metadata": {},
   "source": [
    "The the code makes used of the data file \"`anes_timeseries_2016.sav`\", which is not included in the supporting material. In order to \n",
    "obtain this data file (and run this notebook successufully), you need to download them from \n",
    "the [ANES website for 2016](https://electionstudies.org/data-center/2016-time-series-stud/) and upload them to the virtual\n",
    "machine that runs this notebook. To do this, \n",
    "\n",
    "1. pull down the \"File\" menu item and select \"Open\"\n",
    "2. An overview of the folder that contains the notebook opens. \n",
    "3. The folder view has a button labelled \"Upload\". Use this to upload the file that you downloaded from the ANES website.\n",
    "\n",
    "Note that the uploaded data will disappear, once you \"Quit\" the notebook (and the Jupyter instance)."
   ]
  },
  {
   "cell_type": "code",
   "execution_count": 3,
   "metadata": {},
   "outputs": [
    {
     "name": "stderr",
     "output_type": "stream",
     "text": [
      "File character set is 'UTF-8'.\n",
      "\n",
      "Converting character set to the local 'utf-8'.\n",
      "\n"
     ]
    }
   ],
   "source": [
    "anes_2016_sav <- spss.file(\"anes_timeseries_2016.sav\")"
   ]
  },
  {
   "cell_type": "markdown",
   "metadata": {},
   "source": [
    "Loading a subset: Only pre-election waves and only\n",
    "face-to-face interviews"
   ]
  },
  {
   "cell_type": "code",
   "execution_count": 4,
   "metadata": {},
   "outputs": [],
   "source": [
    "anes_2016_pre_work_ds <- subset(anes_2016_sav,\n",
    "                                V160501 == 1,\n",
    "                                select=c(\n",
    "                                # According to docs, these are the\n",
    "                                # sample weights for the\n",
    "                                # face-to-face component\n",
    "                                pre_w_f2f     = V160101f,\n",
    "                                # Face-to-face strata    \n",
    "                                strat_f2f     = V160201f,\n",
    "                                psu_f2f       = V160202f,\n",
    "                                pre_voted12   = V161005,\n",
    "                                pre_recall12  = V161006,\n",
    "                                pre_voted     = V161026,\n",
    "                                pre_vote      = V161027,\n",
    "                                pre_intov     = V161030,\n",
    "                                pre_voteint   = V161031#,\n",
    "                           ))"
   ]
  },
  {
   "cell_type": "code",
   "execution_count": 5,
   "metadata": {},
   "outputs": [],
   "source": [
    "library(magrittr) # For the '%<>%' operator"
   ]
  },
  {
   "cell_type": "code",
   "execution_count": 6,
   "metadata": {},
   "outputs": [],
   "source": [
    "anes_2016_pre_work_ds %<>% within({\n",
    "    # Setting up recalled votes of 2012\n",
    "    # Since a \"default\" value for the remaining conditions\n",
    "    # is used, we use 'check.xor = FALSE' to avoid warnings.\n",
    "    recall12 <- cases(\n",
    "        'Did not vote' = 9 <- pre_voted12  == 2,\n",
    "        'Obama'        = 1 <- pre_recall12 == 1,\n",
    "        'Romney'       = 2 <- pre_recall12 == 2,\n",
    "        'Other'        = 3 <- pre_recall12 == 5,\n",
    "        'Inap'         = 99 <- TRUE, check.xor = FALSE\n",
    "    )\n",
    "    # Early voters \n",
    "    vote16_1 <- cases(\n",
    "        'Clinton' = 1 <- pre_voted == 1 & pre_vote == 1,\n",
    "        'Trump'   = 2 <- pre_voted == 1 & pre_vote == 2,\n",
    "        'Other'   = 3 <- pre_voted == 1 & pre_vote %in% 3:5,\n",
    "        'Inap'    = 99 <- TRUE, check.xor = FALSE)\n",
    "    # Vote intentions\n",
    "    vote16 <- cases(\n",
    "        'Clinton' = 1 <- pre_intov == 1 & pre_voteint == 1,\n",
    "        'Trump'   = 2 <- pre_intov == 1 & pre_voteint == 2,\n",
    "        'Other'   = 3 <- pre_intov == 1 & pre_voteint %in% 3:6,\n",
    "        'Will not vote/Not registered' = 8 <- pre_intov %in% c(-1,2),\n",
    "        'Inap'    = 99 <- TRUE, check.xor = FALSE)\n",
    "    vote16[] <- ifelse(vote16 == 99 & vote16_1 != 99,\n",
    "                       vote16_1,\n",
    "                       vote16)\n",
    "    measurement(pre_w_f2f) <- \"ratio\"\n",
    "})"
   ]
  },
  {
   "cell_type": "code",
   "execution_count": 7,
   "metadata": {},
   "outputs": [],
   "source": [
    "anes_2016_prevote <- as.data.frame(anes_2016_pre_work_ds)\n",
    "save(anes_2016_prevote,file=\"anes-2016-prevote.RData\")"
   ]
  },
  {
   "cell_type": "code",
   "execution_count": 8,
   "metadata": {},
   "outputs": [
    {
     "data": {
      "text/plain": [
       "                              recall12\n",
       "vote16                         Obama Romney Other Did not vote Inap\n",
       "  Clinton                        326     12     2           59    6\n",
       "  Trump                           29    242     5           70    8\n",
       "  Other                           30     28     7           16    4\n",
       "  Will not vote/Not registered    28     41     0          139    5\n",
       "  Inap                            46     27     2           31   17"
      ]
     },
     "metadata": {},
     "output_type": "display_data"
    }
   ],
   "source": [
    "#Unweighted crosstable\n",
    "xtabs(~ vote16 + recall12,\n",
    "      data=anes_2016_prevote)"
   ]
  },
  {
   "cell_type": "markdown",
   "metadata": {},
   "source": [
    "The following makes use of the *survey* package. You may need to install it from\n",
    "[CRAN](https://cran.r-project.org/package=survey) using the code\n",
    "`install.packages(\"survey\")` if you want to run this on your computer. (The\n",
    "package is already installed on the notebook container, however.)"
   ]
  },
  {
   "cell_type": "code",
   "execution_count": 9,
   "metadata": {},
   "outputs": [
    {
     "name": "stderr",
     "output_type": "stream",
     "text": [
      "Loading required package: grid\n",
      "\n",
      "Loading required package: Matrix\n",
      "\n",
      "Loading required package: survival\n",
      "\n",
      "\n",
      "Attaching package: ‘survey’\n",
      "\n",
      "\n",
      "The following object is masked from ‘package:graphics’:\n",
      "\n",
      "    dotchart\n",
      "\n",
      "\n"
     ]
    }
   ],
   "source": [
    "library(survey)"
   ]
  },
  {
   "cell_type": "code",
   "execution_count": 10,
   "metadata": {},
   "outputs": [
    {
     "data": {
      "text/plain": [
       "Stratified 1 - level Cluster Sampling design (with replacement)\n",
       "With (65) clusters.\n",
       "svydesign(id = ~psu_f2f, strata = ~strat_f2f, weights = ~pre_w_f2f, \n",
       "    data = anes_2016_prevote, nest = TRUE)"
      ]
     },
     "metadata": {},
     "output_type": "display_data"
    }
   ],
   "source": [
    "anes_2016_prevote_desgn <- svydesign(id = ~psu_f2f,\n",
    "                                     strata = ~strat_f2f,\n",
    "                                     weights = ~pre_w_f2f,\n",
    "                                     data = anes_2016_prevote,\n",
    "                                     nest = TRUE)\n",
    "anes_2016_prevote_desgn"
   ]
  },
  {
   "cell_type": "markdown",
   "metadata": {},
   "source": [
    "In order to later make use of the survey design object, we save it into a file."
   ]
  },
  {
   "cell_type": "code",
   "execution_count": 11,
   "metadata": {},
   "outputs": [],
   "source": [
    "save(anes_2016_prevote_desgn,file=\"anes-2016-prevote-desgn.RData\")"
   ]
  },
  {
   "cell_type": "markdown",
   "metadata": {},
   "source": [
    "We reduce the digits after dot ..."
   ]
  },
  {
   "cell_type": "code",
   "execution_count": 12,
   "metadata": {},
   "outputs": [
    {
     "data": {
      "text/plain": [
       "                              recall12\n",
       "vote16                         Obama Romney Other Did not vote  Inap\n",
       "  Clinton                      316.0   11.7   1.1         69.9   8.6\n",
       "  Trump                         35.9  228.8   4.2         73.0   5.1\n",
       "  Other                         34.1   24.4   6.6         13.9   5.3\n",
       "  Will not vote/Not registered  28.8   41.4   0.0        150.2   4.3\n",
       "  Inap                          44.8   25.0   1.9         28.3  16.0"
      ]
     },
     "metadata": {},
     "output_type": "display_data"
    }
   ],
   "source": [
    "ops <- options(digits=2)\n",
    "(tab <- svytable(~ vote16 + recall12,\n",
    "                 design = anes_2016_prevote_desgn))"
   ]
  },
  {
   "cell_type": "markdown",
   "metadata": {},
   "source": [
    "and drop counts of non-valid responses before\n",
    "we compute percentages."
   ]
  },
  {
   "cell_type": "code",
   "execution_count": 13,
   "metadata": {},
   "outputs": [
    {
     "data": {
      "text/plain": [
       "                              recall12\n",
       "vote16                         Obama Romney Other Did not vote\n",
       "  Clinton                       68.8    3.5   8.0         20.8\n",
       "  Trump                          7.8   69.1  30.6         21.8\n",
       "  Other                          7.4    7.4  47.6          4.1\n",
       "  Will not vote/Not registered   6.3   12.5   0.0         44.8\n",
       "  Inap                           9.7    7.5  13.9          8.4"
      ]
     },
     "metadata": {},
     "output_type": "display_data"
    }
   ],
   "source": [
    "percentages(vote16 ~ recall12, data=tab[-6,-5])"
   ]
  },
  {
   "cell_type": "code",
   "execution_count": 14,
   "metadata": {},
   "outputs": [],
   "source": [
    "options(ops) # To undo the change in the options."
   ]
  },
  {
   "cell_type": "markdown",
   "metadata": {},
   "source": [
    "Here we compute a *F*-test of independence with the table, which uses the\n",
    "Rao-Scott second-order correction with a Satterthwaite approximation of the\n",
    "denominator degrees of freedom is used."
   ]
  },
  {
   "cell_type": "code",
   "execution_count": 15,
   "metadata": {},
   "outputs": [
    {
     "data": {
      "text/plain": [
       "                              recall12\n",
       "vote16                         Obama Romney Other Did not vote Inap\n",
       "  Clinton                        316     12     1           70    9\n",
       "  Trump                           36    229     4           73    5\n",
       "  Other                           34     24     7           14    5\n",
       "  Will not vote/Not registered    29     41     0          150    4\n",
       "  Inap                            45     25     2           28   16\n",
       "\n",
       "\tPearson's X^2: Rao & Scott adjustment\n",
       "\n",
       "data:  svychisq(~vote16 + recall12, design = anes_2016_prevote_desgn,     statistic = \"F\")\n",
       "F = 29.235, ndf = 9.3968, ddf = 310.0952, p-value < 2.2e-16\n"
      ]
     },
     "metadata": {},
     "output_type": "display_data"
    }
   ],
   "source": [
    "summary(tab)"
   ]
  },
  {
   "cell_type": "markdown",
   "metadata": {},
   "source": [
    "The more conventional Pearson-Chi-squared test adjusted with a design-effect\n",
    "estimate is obtained by a slight modification."
   ]
  },
  {
   "cell_type": "code",
   "execution_count": 16,
   "metadata": {},
   "outputs": [
    {
     "data": {
      "text/plain": [
       "                              recall12\n",
       "vote16                         Obama Romney Other Did not vote Inap\n",
       "  Clinton                        316     12     1           70    9\n",
       "  Trump                           36    229     4           73    5\n",
       "  Other                           34     24     7           14    5\n",
       "  Will not vote/Not registered    29     41     0          150    4\n",
       "  Inap                            45     25     2           28   16\n",
       "\n",
       "\tPearson's X^2: Rao & Scott adjustment\n",
       "\n",
       "data:  svychisq(~vote16 + recall12, design = anes_2016_prevote_desgn,     statistic = \"Chisq\")\n",
       "X-squared = 778.41, df = 16, p-value < 2.2e-16\n"
      ]
     },
     "metadata": {},
     "output_type": "display_data"
    }
   ],
   "source": [
    "summary(tab, statistic=\"Chisq\")"
   ]
  }
 ],
 "metadata": {
  "kernelspec": {
   "display_name": "R",
   "language": "R",
   "name": "ir"
  },
  "language_info": {
   "codemirror_mode": "r",
   "file_extension": ".r",
   "mimetype": "text/x-r-source",
   "name": "R",
   "pygments_lexer": "r",
   "version": "4.0.4"
  }
 },
 "nbformat": 4,
 "nbformat_minor": 4
}
