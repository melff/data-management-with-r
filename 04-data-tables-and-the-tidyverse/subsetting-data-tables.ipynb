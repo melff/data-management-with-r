{
 "cells": [
  {
   "cell_type": "markdown",
   "metadata": {},
   "source": [
    "# Subsetting data tables"
   ]
  },
  {
   "cell_type": "markdown",
   "metadata": {},
   "source": [
    "The following makes use of the *data.table* package. You may need to install it\n",
    "from [CRAN](https://cran.r-project.org/package=data.table) using the code\n",
    "`install.packages(\"data.table\")` if you want to run this on your computer. (The package is already installed on\n",
    "the notebook container, however.)"
   ]
  },
  {
   "cell_type": "code",
   "execution_count": 1,
   "metadata": {
    "execution": {
     "iopub.execute_input": "2023-11-19T18:17:50.405423Z",
     "iopub.status.busy": "2023-11-19T18:17:50.402833Z",
     "iopub.status.idle": "2023-11-19T18:17:50.481304Z",
     "shell.execute_reply": "2023-11-19T18:17:50.478388Z"
    }
   },
   "outputs": [],
   "source": [
    "library(data.table)"
   ]
  },
  {
   "cell_type": "code",
   "execution_count": 2,
   "metadata": {
    "execution": {
     "iopub.execute_input": "2023-11-19T18:17:50.515641Z",
     "iopub.status.busy": "2023-11-19T18:17:50.485914Z",
     "iopub.status.idle": "2023-11-19T18:17:50.616127Z",
     "shell.execute_reply": "2023-11-19T18:17:50.613280Z"
    }
   },
   "outputs": [],
   "source": [
    "load(\"bes2010feelings.RData\")\n",
    "setDT(bes2010feelings)"
   ]
  },
  {
   "cell_type": "code",
   "execution_count": 3,
   "metadata": {
    "execution": {
     "iopub.execute_input": "2023-11-19T18:17:50.623204Z",
     "iopub.status.busy": "2023-11-19T18:17:50.620603Z",
     "iopub.status.idle": "2023-11-19T18:17:50.647523Z",
     "shell.execute_reply": "2023-11-19T18:17:50.644696Z"
    }
   },
   "outputs": [
    {
     "data": {
      "text/plain": [
       "   flng.brown flng.cameron flng.clegg flng.salmond flng.jones flng.labour\n",
       "1:          8            3         NA            7          6           9\n",
       "2:          0            3         NA            2         NA          NA\n",
       "3:          4            5          5            7          3           4\n",
       "4:          6            5          6            6          4           5\n",
       "5:          8            6          7            0          9           6\n",
       "6:          9            3          3            4          7           7\n",
       "   flng.cons flng.libdem flng.snp flng.pcym flng.green flng.ukip flng.bnp wave\n",
       "1:         7           5        9        NA          5        NA       NA  Pre\n",
       "2:        NA          NA       NA        NA         NA        NA       NA  Pre\n",
       "3:         4           5        7        NA          3         2        0  Pre\n",
       "4:         4           4        5        NA          1         0        0  Pre\n",
       "5:         7           5        0        NA          2         3        0  Pre\n",
       "6:         5           4        6        NA          7         5        7  Pre\n",
       "     region\n",
       "1: Scotland\n",
       "2: Scotland\n",
       "3: Scotland\n",
       "4: Scotland\n",
       "5: Scotland\n",
       "6: Scotland"
      ]
     },
     "execution_count": 3,
     "metadata": {},
     "output_type": "execute_result"
    }
   ],
   "source": [
    "sctl2010feelings <- bes2010feelings[region==\"Scotland\"]\n",
    "head(sctl2010feelings)"
   ]
  },
  {
   "cell_type": "code",
   "execution_count": 4,
   "metadata": {
    "execution": {
     "iopub.execute_input": "2023-11-19T18:17:50.654623Z",
     "iopub.status.busy": "2023-11-19T18:17:50.651938Z",
     "iopub.status.idle": "2023-11-19T18:17:50.662857Z",
     "shell.execute_reply": "2023-11-19T18:17:50.660010Z"
    }
   },
   "outputs": [],
   "source": [
    "bes2010feelings.srtd <- bes2010feelings[order(wave,region)]"
   ]
  },
  {
   "cell_type": "code",
   "execution_count": 5,
   "metadata": {
    "execution": {
     "iopub.execute_input": "2023-11-19T18:17:50.673293Z",
     "iopub.status.busy": "2023-11-19T18:17:50.670731Z",
     "iopub.status.idle": "2023-11-19T18:17:50.687531Z",
     "shell.execute_reply": "2023-11-19T18:17:50.684437Z"
    }
   },
   "outputs": [
    {
     "data": {
      "text/plain": [
       "[1] \"flng.brown\" \"wave\"       \"region\"    "
      ]
     },
     "execution_count": 5,
     "metadata": {},
     "output_type": "execute_result"
    }
   ],
   "source": [
    "bes2010feelings.sub <- bes2010feelings[,.(flng.brown,wave,region)]\n",
    "names(bes2010feelings.sub)"
   ]
  },
  {
   "cell_type": "code",
   "execution_count": 6,
   "metadata": {
    "execution": {
     "iopub.execute_input": "2023-11-19T18:17:50.694655Z",
     "iopub.status.busy": "2023-11-19T18:17:50.691998Z",
     "iopub.status.idle": "2023-11-19T18:17:50.710242Z",
     "shell.execute_reply": "2023-11-19T18:17:50.707466Z"
    }
   },
   "outputs": [
    {
     "name": "stdout",
     "output_type": "stream",
     "text": [
      "Classes ‘data.table’ and 'data.frame':\t5010 obs. of  3 variables:\n",
      " $ flng.brown: num  6 3 8 4 5 5 5 4 7 4 ...\n",
      " $ wave      : Factor w/ 2 levels \"Pre\",\"Post\": 1 1 1 1 1 1 1 1 1 1 ...\n",
      " $ region    : Factor w/ 3 levels \"England\",\"Scotland\",..: 1 NA 1 1 NA 1 1 1 1 1 ...\n",
      " - attr(*, \".internal.selfref\")=<externalptr> \n"
     ]
    }
   ],
   "source": [
    "str(bes2010feelings.sub)"
   ]
  },
  {
   "cell_type": "code",
   "execution_count": 7,
   "metadata": {
    "execution": {
     "iopub.execute_input": "2023-11-19T18:17:50.717068Z",
     "iopub.status.busy": "2023-11-19T18:17:50.714625Z",
     "iopub.status.idle": "2023-11-19T18:17:50.730127Z",
     "shell.execute_reply": "2023-11-19T18:17:50.727199Z"
    }
   },
   "outputs": [
    {
     "data": {
      "text/plain": [
       "   flng.brown wave  region\n",
       "1:          6  Pre England\n",
       "2:          3  Pre    <NA>\n",
       "3:          8  Pre England\n",
       "4:          4  Pre England\n",
       "5:          5  Pre    <NA>\n",
       "6:          5  Pre England"
      ]
     },
     "execution_count": 7,
     "metadata": {},
     "output_type": "execute_result"
    }
   ],
   "source": [
    "head(bes2010feelings.sub)"
   ]
  },
  {
   "cell_type": "code",
   "execution_count": 8,
   "metadata": {
    "execution": {
     "iopub.execute_input": "2023-11-19T18:17:50.737302Z",
     "iopub.status.busy": "2023-11-19T18:17:50.734682Z",
     "iopub.status.idle": "2023-11-19T18:17:50.753073Z",
     "shell.execute_reply": "2023-11-19T18:17:50.750171Z"
    }
   },
   "outputs": [
    {
     "name": "stdout",
     "output_type": "stream",
     "text": [
      "Classes ‘data.table’ and 'data.frame':\t872 obs. of  5 variables:\n",
      " $ wave        : Factor w/ 2 levels \"Pre\",\"Post\": 1 1 1 1 1 1 1 1 1 1 ...\n",
      " $ flng.brown  : num  8 0 4 6 8 9 NA 1 7 10 ...\n",
      " $ flng.cameron: num  3 3 5 5 6 3 NA 3 5 6 ...\n",
      " $ flng.clegg  : num  NA NA 5 6 7 3 NA NA 3 6 ...\n",
      " $ flng.salmond: num  7 2 7 6 0 4 NA 4 5 8 ...\n",
      " - attr(*, \".internal.selfref\")=<externalptr> \n"
     ]
    }
   ],
   "source": [
    "sctl2010feelings <- bes2010feelings[region==\"Scotland\",\n",
    "                                    .(wave,\n",
    "                                      flng.brown,\n",
    "                                      flng.cameron,\n",
    "                                      flng.clegg,\n",
    "                                      flng.salmond)]\n",
    "str(sctl2010feelings)"
   ]
  },
  {
   "cell_type": "code",
   "execution_count": 9,
   "metadata": {
    "execution": {
     "iopub.execute_input": "2023-11-19T18:17:50.760106Z",
     "iopub.status.busy": "2023-11-19T18:17:50.757618Z",
     "iopub.status.idle": "2023-11-19T18:17:50.775971Z",
     "shell.execute_reply": "2023-11-19T18:17:50.773126Z"
    }
   },
   "outputs": [
    {
     "data": {
      "text/plain": [
       "   wave flng.brown flng.cameron flng.clegg flng.salmond\n",
       "1:  Pre          8            3         NA            7\n",
       "2:  Pre          0            3         NA            2\n",
       "3:  Pre          4            5          5            7\n",
       "4:  Pre          6            5          6            6\n",
       "5:  Pre          8            6          7            0\n",
       "6:  Pre          9            3          3            4"
      ]
     },
     "execution_count": 9,
     "metadata": {},
     "output_type": "execute_result"
    }
   ],
   "source": [
    "head(sctl2010feelings)"
   ]
  }
 ],
 "metadata": {
  "kernelspec": {
   "display_name": "R (RKernel)",
   "language": "R",
   "name": "rkernel"
  },
  "language_info": {
   "codemirror_mode": "R",
   "file_extension": ".R",
   "mimetype": "text/x-r-source",
   "name": "R",
   "pygments_lexer": "r",
   "version": "4.3.2"
  }
 },
 "nbformat": 4,
 "nbformat_minor": 4
}
