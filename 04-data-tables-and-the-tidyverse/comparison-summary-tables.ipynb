{
 "cells": [
  {
   "cell_type": "markdown",
   "metadata": {},
   "source": [
    "# Summary of the benchmark study"
   ]
  },
  {
   "cell_type": "markdown",
   "metadata": {},
   "source": [
    "The following makes use of the packages *data.table*, *dplyr*, *memisc*, and *rbenchmark*. You may need to install these packages from [CRAN](https://cran.r-packages.org) by calling `install.packages(c(\"data.table\",\"dplyr\",\"memisc\",\"rbenchmark\"))` if you want to run this on your computer. (The packages are already installed\n",
    "on the notebook container, however.)"
   ]
  },
  {
   "cell_type": "code",
   "execution_count": 1,
   "metadata": {
    "execution": {
     "iopub.execute_input": "2023-11-19T18:45:17.610753Z",
     "iopub.status.busy": "2023-11-19T18:45:17.608345Z",
     "iopub.status.idle": "2023-11-19T18:45:17.684185Z",
     "shell.execute_reply": "2023-11-19T18:45:17.681362Z"
    }
   },
   "outputs": [],
   "source": [
    "library(data.table)"
   ]
  },
  {
   "cell_type": "code",
   "execution_count": 2,
   "metadata": {
    "execution": {
     "iopub.execute_input": "2023-11-19T18:45:17.718025Z",
     "iopub.status.busy": "2023-11-19T18:45:17.688591Z",
     "iopub.status.idle": "2023-11-19T18:45:17.956924Z",
     "shell.execute_reply": "2023-11-19T18:45:17.954158Z"
    }
   },
   "outputs": [
    {
     "name": "stdout",
     "output_type": "stream",
     "text": [
      "\n",
      "Attaching package: ‘dplyr’\n",
      "\n",
      "The following objects are masked from ‘package:data.table’:\n",
      "\n",
      "    between, first, last\n",
      "\n",
      "The following objects are masked from ‘package:stats’:\n",
      "\n",
      "    filter, lag\n",
      "\n",
      "The following objects are masked from ‘package:base’:\n",
      "\n",
      "    intersect, setdiff, setequal, union\n",
      "\n"
     ]
    }
   ],
   "source": [
    "library(dplyr)"
   ]
  },
  {
   "cell_type": "code",
   "execution_count": 3,
   "metadata": {
    "execution": {
     "iopub.execute_input": "2023-11-19T18:45:17.966350Z",
     "iopub.status.busy": "2023-11-19T18:45:17.961228Z",
     "iopub.status.idle": "2023-11-19T18:45:18.488037Z",
     "shell.execute_reply": "2023-11-19T18:45:18.484915Z"
    }
   },
   "outputs": [
    {
     "name": "stdout",
     "output_type": "stream",
     "text": [
      "Loading required package: lattice\n",
      "Loading required package: MASS\n",
      "\n",
      "Attaching package: ‘MASS’\n",
      "\n",
      "The following object is masked from ‘package:dplyr’:\n",
      "\n",
      "    select\n",
      "\n",
      "\n",
      "Attaching package: ‘memisc’\n",
      "\n",
      "The following objects are masked from ‘package:dplyr’:\n",
      "\n",
      "    collect, recode, rename, syms\n",
      "\n",
      "The following objects are masked from ‘package:stats’:\n",
      "\n",
      "    contr.sum, contr.treatment, contrasts\n",
      "\n",
      "The following object is masked from ‘package:base’:\n",
      "\n",
      "    as.array\n",
      "\n"
     ]
    }
   ],
   "source": [
    "library(memisc)"
   ]
  },
  {
   "cell_type": "code",
   "execution_count": 4,
   "metadata": {
    "execution": {
     "iopub.execute_input": "2023-11-19T18:45:18.494849Z",
     "iopub.status.busy": "2023-11-19T18:45:18.492389Z",
     "iopub.status.idle": "2023-11-19T18:45:18.508119Z",
     "shell.execute_reply": "2023-11-19T18:45:18.505304Z"
    }
   },
   "outputs": [],
   "source": [
    "library(rbenchmark)"
   ]
  },
  {
   "cell_type": "code",
   "execution_count": 5,
   "metadata": {
    "execution": {
     "iopub.execute_input": "2023-11-19T18:45:18.514928Z",
     "iopub.status.busy": "2023-11-19T18:45:18.512474Z",
     "iopub.status.idle": "2023-11-19T18:45:18.522247Z",
     "shell.execute_reply": "2023-11-19T18:45:18.519408Z"
    }
   },
   "outputs": [],
   "source": [
    "bench_matrix <- function(x){\n",
    "    rn <- x$test\n",
    "    x <- as.matrix(x[,-1])\n",
    "    rownames(x) <- rn\n",
    "    x\n",
    "}"
   ]
  },
  {
   "cell_type": "code",
   "execution_count": 6,
   "metadata": {
    "execution": {
     "iopub.execute_input": "2023-11-19T18:45:18.529158Z",
     "iopub.status.busy": "2023-11-19T18:45:18.526669Z",
     "iopub.status.idle": "2023-11-19T18:45:18.539151Z",
     "shell.execute_reply": "2023-11-19T18:45:18.536418Z"
    }
   },
   "outputs": [],
   "source": [
    "load(\"grouped-summary-benchmark.RData\")"
   ]
  },
  {
   "cell_type": "code",
   "execution_count": 7,
   "metadata": {
    "execution": {
     "iopub.execute_input": "2023-11-19T18:45:18.545875Z",
     "iopub.status.busy": "2023-11-19T18:45:18.543395Z",
     "iopub.status.idle": "2023-11-19T18:45:18.557479Z",
     "shell.execute_reply": "2023-11-19T18:45:18.554672Z"
    }
   },
   "outputs": [],
   "source": [
    "grouped_summary_benchmark_1 <- bench_matrix(grouped_summary_benchmark_1)\n",
    "grouped_summary_benchmark_2 <- bench_matrix(grouped_summary_benchmark_2)"
   ]
  },
  {
   "cell_type": "code",
   "execution_count": 8,
   "metadata": {
    "execution": {
     "iopub.execute_input": "2023-11-19T18:45:18.564639Z",
     "iopub.status.busy": "2023-11-19T18:45:18.561862Z",
     "iopub.status.idle": "2023-11-19T18:45:18.574730Z",
     "shell.execute_reply": "2023-11-19T18:45:18.571952Z"
    }
   },
   "outputs": [],
   "source": [
    "grouped_summary_benchmark <- memisc::collect(\n",
    "    \"`Big data'\"    = grouped_summary_benchmark_1,\n",
    "    \"`Survey data'\" = grouped_summary_benchmark_2)\n",
    "grouped_summary_benchmark <- grouped_summary_benchmark[-5,,]\n",
    "colnames(grouped_summary_benchmark) <- c(\"abs.\",\"rel.\")\n",
    "names(dimnames(grouped_summary_benchmark)) <- c(\"Method\",\"Timing\",\"Data\")"
   ]
  },
  {
   "cell_type": "code",
   "execution_count": 9,
   "metadata": {
    "execution": {
     "iopub.execute_input": "2023-11-19T18:45:18.581599Z",
     "iopub.status.busy": "2023-11-19T18:45:18.579139Z",
     "iopub.status.idle": "2023-11-19T18:45:18.592347Z",
     "shell.execute_reply": "2023-11-19T18:45:18.588808Z"
    }
   },
   "outputs": [],
   "source": [
    "options(jupyter.rich_display=TRUE)"
   ]
  },
  {
   "cell_type": "code",
   "execution_count": 10,
   "metadata": {
    "execution": {
     "iopub.execute_input": "2023-11-19T18:45:18.599161Z",
     "iopub.status.busy": "2023-11-19T18:45:18.596655Z",
     "iopub.status.idle": "2023-11-19T18:45:18.638278Z",
     "shell.execute_reply": "2023-11-19T18:45:18.635524Z"
    }
   },
   "outputs": [
    {
     "data": {
      "text/html": [
       "<div>\n",
       "<table class=\"ftable\" style=\"border-collapse: collapse; border-style: none; margin: 2ex auto;\">\n",
       "<tr style=\"border-style: none;\"><td style=\"padding-top: 3px; padding-bottom: 3px; padding-left: 0.3em; padding-right: 0.3em; margin-top: 0px; margin-bottom: 0px; border-style: none; border-width: 0px; text-align: left; border-top: 1px solid;\"></td><td style=\"padding-top: 3px; padding-bottom: 3px; padding-left: 0.3em; padding-right: 0.3em; margin-top: 0px; margin-bottom: 0px; border-style: none; border-width: 0px; text-align: left; border-top: 1px solid;\">Data:</td><td colspan=\"6\" style=\"padding-top: 3px; padding-bottom: 3px; padding-left: 0.3em; padding-right: 0.3em; margin-top: 0px; margin-bottom: 0px; border-style: none; border-width: 0px; text-align: center; border-bottom: 1px solid; border-top: 1px solid;\">`Big data'</td><td colspan=\"6\" style=\"padding-top: 3px; padding-bottom: 3px; padding-left: 0.3em; padding-right: 0.3em; margin-top: 0px; margin-bottom: 0px; border-style: none; border-width: 0px; text-align: center; border-bottom: 1px solid; border-top: 1px solid;\">`Survey data'</td></tr>\n",
       "<tr style=\"border-style: none;\"><td style=\"padding-top: 3px; padding-bottom: 3px; padding-left: 0.3em; padding-right: 0.3em; margin-top: 0px; margin-bottom: 0px; border-style: none; border-width: 0px; text-align: left; border-bottom: 1px solid;\">Method</td><td style=\"padding-top: 3px; padding-bottom: 3px; padding-left: 0.3em; padding-right: 0.3em; margin-top: 0px; margin-bottom: 0px; border-style: none; border-width: 0px; text-align: left; border-bottom: 1px solid;\">Timing:</td><td colspan=\"3\" style=\"padding-top: 3px; padding-bottom: 3px; padding-left: 0.3em; padding-right: 0.3em; margin-top: 0px; margin-bottom: 0px; border-style: none; border-width: 0px; text-align: center; border-bottom: 1px solid;\">abs.</td><td colspan=\"3\" style=\"padding-top: 3px; padding-bottom: 3px; padding-left: 0.3em; padding-right: 0.3em; margin-top: 0px; margin-bottom: 0px; border-style: none; border-width: 0px; text-align: center; border-bottom: 1px solid;\">rel.</td><td colspan=\"3\" style=\"padding-top: 3px; padding-bottom: 3px; padding-left: 0.3em; padding-right: 0.3em; margin-top: 0px; margin-bottom: 0px; border-style: none; border-width: 0px; text-align: center; border-bottom: 1px solid;\">abs.</td><td colspan=\"3\" style=\"padding-top: 3px; padding-bottom: 3px; padding-left: 0.3em; padding-right: 0.3em; margin-top: 0px; margin-bottom: 0px; border-style: none; border-width: 0px; text-align: center; border-bottom: 1px solid;\">rel.</td></tr>\n",
       "<tr style=\"border-style: none;\"><td style=\"padding-top: 3px; padding-bottom: 3px; padding-left: 0.3em; padding-right: 0.5ex; margin-top: 0px; margin-bottom: 0px; border-style: none; border-width: 0px; padding-top: 3px; padding-bottom: 3px; padding-left: 0.5ex; padding-right: 0.5ex; margin-top: 0px; margin-bottom: 0px; border-style: none; border-width: 0px;\">aggregate</td><td style=\"padding-top: 3px; padding-bottom: 3px; padding-left: 0.3em; padding-right: 0.5ex; margin-top: 0px; margin-bottom: 0px; border-style: none; border-width: 0px; padding-top: 3px; padding-bottom: 3px; padding-left: 0.5ex; padding-right: 0.5ex; margin-top: 0px; margin-bottom: 0px; border-style: none; border-width: 0px;\"></td><td style=\"padding-top: 3px; padding-bottom: 3px; padding-left: 0.5ex; padding-right: 0.5ex; margin-top: 0px; margin-bottom: 0px; border-style: none; border-width: 0px; text-align: right; margin-right: 0px; padding-right: 0px; padding-left: 0.3em;\">10</td><td style=\"padding-top: 3px; padding-bottom: 3px; padding-left: 0.5ex; padding-right: 0.5ex; margin-top: 0px; margin-bottom: 0px; border-style: none; border-width: 0px; text-align: center; margin-left: 0px; margin-right: 0px; padding-right: 0px; padding-left: 0px; width: 1px;\">.</td><td style=\"padding-top: 3px; padding-bottom: 3px; padding-left: 0.5ex; padding-right: 0.5ex; margin-top: 0px; margin-bottom: 0px; border-style: none; border-width: 0px; text-align: left; margin-left: 0px; padding-left: 0px; padding-right: 0.3em;\">22</td><td style=\"padding-top: 3px; padding-bottom: 3px; padding-left: 0.5ex; padding-right: 0.5ex; margin-top: 0px; margin-bottom: 0px; border-style: none; border-width: 0px; text-align: right; margin-right: 0px; padding-right: 0px; padding-left: 0.3em;\">12</td><td style=\"padding-top: 3px; padding-bottom: 3px; padding-left: 0.5ex; padding-right: 0.5ex; margin-top: 0px; margin-bottom: 0px; border-style: none; border-width: 0px; text-align: center; margin-left: 0px; margin-right: 0px; padding-right: 0px; padding-left: 0px; width: 1px;\">.</td><td style=\"padding-top: 3px; padding-bottom: 3px; padding-left: 0.5ex; padding-right: 0.5ex; margin-top: 0px; margin-bottom: 0px; border-style: none; border-width: 0px; text-align: left; margin-left: 0px; padding-left: 0px; padding-right: 0.3em;\">10</td><td style=\"padding-top: 3px; padding-bottom: 3px; padding-left: 0.5ex; padding-right: 0.5ex; margin-top: 0px; margin-bottom: 0px; border-style: none; border-width: 0px; text-align: right; margin-right: 0px; padding-right: 0px; padding-left: 0.3em;\">0</td><td style=\"padding-top: 3px; padding-bottom: 3px; padding-left: 0.5ex; padding-right: 0.5ex; margin-top: 0px; margin-bottom: 0px; border-style: none; border-width: 0px; text-align: center; margin-left: 0px; margin-right: 0px; padding-right: 0px; padding-left: 0px; width: 1px;\">.</td><td style=\"padding-top: 3px; padding-bottom: 3px; padding-left: 0.5ex; padding-right: 0.5ex; margin-top: 0px; margin-bottom: 0px; border-style: none; border-width: 0px; text-align: left; margin-left: 0px; padding-left: 0px; padding-right: 0.3em;\">37</td><td style=\"padding-top: 3px; padding-bottom: 3px; padding-left: 0.5ex; padding-right: 0.5ex; margin-top: 0px; margin-bottom: 0px; border-style: none; border-width: 0px; text-align: right; margin-right: 0px; padding-right: 0px; padding-left: 0.3em;\">3</td><td style=\"padding-top: 3px; padding-bottom: 3px; padding-left: 0.5ex; padding-right: 0.5ex; margin-top: 0px; margin-bottom: 0px; border-style: none; border-width: 0px; text-align: center; margin-left: 0px; margin-right: 0px; padding-right: 0px; padding-left: 0px; width: 1px;\">.</td><td style=\"padding-top: 3px; padding-bottom: 3px; padding-left: 0.5ex; padding-right: 0.5ex; margin-top: 0px; margin-bottom: 0px; border-style: none; border-width: 0px; text-align: left; margin-left: 0px; padding-left: 0px; padding-right: 0.3em;\">65</td></tr>\n",
       "<tr style=\"border-style: none;\"><td style=\"padding-top: 3px; padding-bottom: 3px; padding-left: 0.3em; padding-right: 0.5ex; margin-top: 0px; margin-bottom: 0px; border-style: none; border-width: 0px; padding-top: 3px; padding-bottom: 3px; padding-left: 0.5ex; padding-right: 0.5ex; margin-top: 0px; margin-bottom: 0px; border-style: none; border-width: 0px;\">with + tapply</td><td style=\"padding-top: 3px; padding-bottom: 3px; padding-left: 0.3em; padding-right: 0.5ex; margin-top: 0px; margin-bottom: 0px; border-style: none; border-width: 0px; padding-top: 3px; padding-bottom: 3px; padding-left: 0.5ex; padding-right: 0.5ex; margin-top: 0px; margin-bottom: 0px; border-style: none; border-width: 0px;\"></td><td style=\"padding-top: 3px; padding-bottom: 3px; padding-left: 0.5ex; padding-right: 0.5ex; margin-top: 0px; margin-bottom: 0px; border-style: none; border-width: 0px; text-align: right; margin-right: 0px; padding-right: 0px; padding-left: 0.3em;\">0</td><td style=\"padding-top: 3px; padding-bottom: 3px; padding-left: 0.5ex; padding-right: 0.5ex; margin-top: 0px; margin-bottom: 0px; border-style: none; border-width: 0px; text-align: center; margin-left: 0px; margin-right: 0px; padding-right: 0px; padding-left: 0px; width: 1px;\">.</td><td style=\"padding-top: 3px; padding-bottom: 3px; padding-left: 0.5ex; padding-right: 0.5ex; margin-top: 0px; margin-bottom: 0px; border-style: none; border-width: 0px; text-align: left; margin-left: 0px; padding-left: 0px; padding-right: 0.3em;\">85</td><td style=\"padding-top: 3px; padding-bottom: 3px; padding-left: 0.5ex; padding-right: 0.5ex; margin-top: 0px; margin-bottom: 0px; border-style: none; border-width: 0px; text-align: right; margin-right: 0px; padding-right: 0px; padding-left: 0.3em;\">1</td><td style=\"padding-top: 3px; padding-bottom: 3px; padding-left: 0.5ex; padding-right: 0.5ex; margin-top: 0px; margin-bottom: 0px; border-style: none; border-width: 0px; text-align: center; margin-left: 0px; margin-right: 0px; padding-right: 0px; padding-left: 0px; width: 1px;\">.</td><td style=\"padding-top: 3px; padding-bottom: 3px; padding-left: 0.5ex; padding-right: 0.5ex; margin-top: 0px; margin-bottom: 0px; border-style: none; border-width: 0px; text-align: left; margin-left: 0px; padding-left: 0px; padding-right: 0.3em;\">00</td><td style=\"padding-top: 3px; padding-bottom: 3px; padding-left: 0.5ex; padding-right: 0.5ex; margin-top: 0px; margin-bottom: 0px; border-style: none; border-width: 0px; text-align: right; margin-right: 0px; padding-right: 0px; padding-left: 0.3em;\">0</td><td style=\"padding-top: 3px; padding-bottom: 3px; padding-left: 0.5ex; padding-right: 0.5ex; margin-top: 0px; margin-bottom: 0px; border-style: none; border-width: 0px; text-align: center; margin-left: 0px; margin-right: 0px; padding-right: 0px; padding-left: 0px; width: 1px;\">.</td><td style=\"padding-top: 3px; padding-bottom: 3px; padding-left: 0.5ex; padding-right: 0.5ex; margin-top: 0px; margin-bottom: 0px; border-style: none; border-width: 0px; text-align: left; margin-left: 0px; padding-left: 0px; padding-right: 0.3em;\">10</td><td style=\"padding-top: 3px; padding-bottom: 3px; padding-left: 0.5ex; padding-right: 0.5ex; margin-top: 0px; margin-bottom: 0px; border-style: none; border-width: 0px; text-align: right; margin-right: 0px; padding-right: 0px; padding-left: 0.3em;\">1</td><td style=\"padding-top: 3px; padding-bottom: 3px; padding-left: 0.5ex; padding-right: 0.5ex; margin-top: 0px; margin-bottom: 0px; border-style: none; border-width: 0px; text-align: center; margin-left: 0px; margin-right: 0px; padding-right: 0px; padding-left: 0px; width: 1px;\">.</td><td style=\"padding-top: 3px; padding-bottom: 3px; padding-left: 0.5ex; padding-right: 0.5ex; margin-top: 0px; margin-bottom: 0px; border-style: none; border-width: 0px; text-align: left; margin-left: 0px; padding-left: 0px; padding-right: 0.3em;\">00</td></tr>\n",
       "<tr style=\"border-style: none;\"><td style=\"padding-top: 3px; padding-bottom: 3px; padding-left: 0.3em; padding-right: 0.5ex; margin-top: 0px; margin-bottom: 0px; border-style: none; border-width: 0px; padding-top: 3px; padding-bottom: 3px; padding-left: 0.5ex; padding-right: 0.5ex; margin-top: 0px; margin-bottom: 0px; border-style: none; border-width: 0px;\">data.table</td><td style=\"padding-top: 3px; padding-bottom: 3px; padding-left: 0.3em; padding-right: 0.5ex; margin-top: 0px; margin-bottom: 0px; border-style: none; border-width: 0px; padding-top: 3px; padding-bottom: 3px; padding-left: 0.5ex; padding-right: 0.5ex; margin-top: 0px; margin-bottom: 0px; border-style: none; border-width: 0px;\"></td><td style=\"padding-top: 3px; padding-bottom: 3px; padding-left: 0.5ex; padding-right: 0.5ex; margin-top: 0px; margin-bottom: 0px; border-style: none; border-width: 0px; text-align: right; margin-right: 0px; padding-right: 0px; padding-left: 0.3em;\">2</td><td style=\"padding-top: 3px; padding-bottom: 3px; padding-left: 0.5ex; padding-right: 0.5ex; margin-top: 0px; margin-bottom: 0px; border-style: none; border-width: 0px; text-align: center; margin-left: 0px; margin-right: 0px; padding-right: 0px; padding-left: 0px; width: 1px;\">.</td><td style=\"padding-top: 3px; padding-bottom: 3px; padding-left: 0.5ex; padding-right: 0.5ex; margin-top: 0px; margin-bottom: 0px; border-style: none; border-width: 0px; text-align: left; margin-left: 0px; padding-left: 0px; padding-right: 0.3em;\">16</td><td style=\"padding-top: 3px; padding-bottom: 3px; padding-left: 0.5ex; padding-right: 0.5ex; margin-top: 0px; margin-bottom: 0px; border-style: none; border-width: 0px; text-align: right; margin-right: 0px; padding-right: 0px; padding-left: 0.3em;\">2</td><td style=\"padding-top: 3px; padding-bottom: 3px; padding-left: 0.5ex; padding-right: 0.5ex; margin-top: 0px; margin-bottom: 0px; border-style: none; border-width: 0px; text-align: center; margin-left: 0px; margin-right: 0px; padding-right: 0px; padding-left: 0px; width: 1px;\">.</td><td style=\"padding-top: 3px; padding-bottom: 3px; padding-left: 0.5ex; padding-right: 0.5ex; margin-top: 0px; margin-bottom: 0px; border-style: none; border-width: 0px; text-align: left; margin-left: 0px; padding-left: 0px; padding-right: 0.3em;\">56</td><td style=\"padding-top: 3px; padding-bottom: 3px; padding-left: 0.5ex; padding-right: 0.5ex; margin-top: 0px; margin-bottom: 0px; border-style: none; border-width: 0px; text-align: right; margin-right: 0px; padding-right: 0px; padding-left: 0.3em;\">1</td><td style=\"padding-top: 3px; padding-bottom: 3px; padding-left: 0.5ex; padding-right: 0.5ex; margin-top: 0px; margin-bottom: 0px; border-style: none; border-width: 0px; text-align: center; margin-left: 0px; margin-right: 0px; padding-right: 0px; padding-left: 0px; width: 1px;\">.</td><td style=\"padding-top: 3px; padding-bottom: 3px; padding-left: 0.5ex; padding-right: 0.5ex; margin-top: 0px; margin-bottom: 0px; border-style: none; border-width: 0px; text-align: left; margin-left: 0px; padding-left: 0px; padding-right: 0.3em;\">07</td><td style=\"padding-top: 3px; padding-bottom: 3px; padding-left: 0.5ex; padding-right: 0.5ex; margin-top: 0px; margin-bottom: 0px; border-style: none; border-width: 0px; text-align: right; margin-right: 0px; padding-right: 0px; padding-left: 0.3em;\">10</td><td style=\"padding-top: 3px; padding-bottom: 3px; padding-left: 0.5ex; padding-right: 0.5ex; margin-top: 0px; margin-bottom: 0px; border-style: none; border-width: 0px; text-align: center; margin-left: 0px; margin-right: 0px; padding-right: 0px; padding-left: 0px; width: 1px;\">.</td><td style=\"padding-top: 3px; padding-bottom: 3px; padding-left: 0.5ex; padding-right: 0.5ex; margin-top: 0px; margin-bottom: 0px; border-style: none; border-width: 0px; text-align: left; margin-left: 0px; padding-left: 0px; padding-right: 0.3em;\">49</td></tr>\n",
       "<tr style=\"border-style: none;\"><td style=\"padding-top: 3px; padding-bottom: 3px; padding-left: 0.3em; padding-right: 0.5ex; margin-top: 0px; margin-bottom: 0px; border-style: none; border-width: 0px; padding-top: 3px; padding-bottom: 3px; padding-left: 0.5ex; padding-right: 0.5ex; margin-top: 0px; margin-bottom: 0px; border-style: none; border-width: 0px;\">group_by + summarize</td><td style=\"padding-top: 3px; padding-bottom: 3px; padding-left: 0.3em; padding-right: 0.5ex; margin-top: 0px; margin-bottom: 0px; border-style: none; border-width: 0px; padding-top: 3px; padding-bottom: 3px; padding-left: 0.5ex; padding-right: 0.5ex; margin-top: 0px; margin-bottom: 0px; border-style: none; border-width: 0px;\"></td><td style=\"padding-top: 3px; padding-bottom: 3px; padding-left: 0.5ex; padding-right: 0.5ex; margin-top: 0px; margin-bottom: 0px; border-style: none; border-width: 0px; text-align: right; margin-right: 0px; padding-right: 0px; padding-left: 0.3em;\">1</td><td style=\"padding-top: 3px; padding-bottom: 3px; padding-left: 0.5ex; padding-right: 0.5ex; margin-top: 0px; margin-bottom: 0px; border-style: none; border-width: 0px; text-align: center; margin-left: 0px; margin-right: 0px; padding-right: 0px; padding-left: 0px; width: 1px;\">.</td><td style=\"padding-top: 3px; padding-bottom: 3px; padding-left: 0.5ex; padding-right: 0.5ex; margin-top: 0px; margin-bottom: 0px; border-style: none; border-width: 0px; text-align: left; margin-left: 0px; padding-left: 0px; padding-right: 0.3em;\">86</td><td style=\"padding-top: 3px; padding-bottom: 3px; padding-left: 0.5ex; padding-right: 0.5ex; margin-top: 0px; margin-bottom: 0px; border-style: none; border-width: 0px; text-align: right; margin-right: 0px; padding-right: 0px; padding-left: 0.3em;\">2</td><td style=\"padding-top: 3px; padding-bottom: 3px; padding-left: 0.5ex; padding-right: 0.5ex; margin-top: 0px; margin-bottom: 0px; border-style: none; border-width: 0px; text-align: center; margin-left: 0px; margin-right: 0px; padding-right: 0px; padding-left: 0px; width: 1px;\">.</td><td style=\"padding-top: 3px; padding-bottom: 3px; padding-left: 0.5ex; padding-right: 0.5ex; margin-top: 0px; margin-bottom: 0px; border-style: none; border-width: 0px; text-align: left; margin-left: 0px; padding-left: 0px; padding-right: 0.3em;\">19</td><td style=\"padding-top: 3px; padding-bottom: 3px; padding-left: 0.5ex; padding-right: 0.5ex; margin-top: 0px; margin-bottom: 0px; border-style: none; border-width: 0px; text-align: right; margin-right: 0px; padding-right: 0px; padding-left: 0.3em;\">3</td><td style=\"padding-top: 3px; padding-bottom: 3px; padding-left: 0.5ex; padding-right: 0.5ex; margin-top: 0px; margin-bottom: 0px; border-style: none; border-width: 0px; text-align: center; margin-left: 0px; margin-right: 0px; padding-right: 0px; padding-left: 0px; width: 1px;\">.</td><td style=\"padding-top: 3px; padding-bottom: 3px; padding-left: 0.5ex; padding-right: 0.5ex; margin-top: 0px; margin-bottom: 0px; border-style: none; border-width: 0px; text-align: left; margin-left: 0px; padding-left: 0px; padding-right: 0.3em;\">32</td><td style=\"padding-top: 3px; padding-bottom: 3px; padding-left: 0.5ex; padding-right: 0.5ex; margin-top: 0px; margin-bottom: 0px; border-style: none; border-width: 0px; text-align: right; margin-right: 0px; padding-right: 0px; padding-left: 0.3em;\">32</td><td style=\"padding-top: 3px; padding-bottom: 3px; padding-left: 0.5ex; padding-right: 0.5ex; margin-top: 0px; margin-bottom: 0px; border-style: none; border-width: 0px; text-align: center; margin-left: 0px; margin-right: 0px; padding-right: 0px; padding-left: 0px; width: 1px;\">.</td><td style=\"padding-top: 3px; padding-bottom: 3px; padding-left: 0.5ex; padding-right: 0.5ex; margin-top: 0px; margin-bottom: 0px; border-style: none; border-width: 0px; text-align: left; margin-left: 0px; padding-left: 0px; padding-right: 0.3em;\">50</td></tr>\n",
       "<tr style=\"border-style: none;\"><td style=\"padding-top: 3px; padding-bottom: 3px; padding-left: 0.3em; padding-right: 0.5ex; margin-top: 0px; margin-bottom: 0px; border-style: none; border-width: 0px; padding-top: 3px; padding-bottom: 3px; padding-left: 0.5ex; padding-right: 0.5ex; margin-top: 0px; margin-bottom: 0px; border-style: none; border-width: 0px; border-bottom: 1px solid;\">withGroups</td><td style=\"padding-top: 3px; padding-bottom: 3px; padding-left: 0.3em; padding-right: 0.5ex; margin-top: 0px; margin-bottom: 0px; border-style: none; border-width: 0px; padding-top: 3px; padding-bottom: 3px; padding-left: 0.5ex; padding-right: 0.5ex; margin-top: 0px; margin-bottom: 0px; border-style: none; border-width: 0px; border-bottom: 1px solid;\"></td><td style=\"padding-top: 3px; padding-bottom: 3px; padding-left: 0.5ex; padding-right: 0.5ex; margin-top: 0px; margin-bottom: 0px; border-style: none; border-width: 0px; text-align: right; margin-right: 0px; padding-right: 0px; padding-left: 0.3em; border-bottom: 1px solid;\">2</td><td style=\"padding-top: 3px; padding-bottom: 3px; padding-left: 0.5ex; padding-right: 0.5ex; margin-top: 0px; margin-bottom: 0px; border-style: none; border-width: 0px; text-align: center; margin-left: 0px; margin-right: 0px; padding-right: 0px; padding-left: 0px; width: 1px; border-bottom: 1px solid;\">.</td><td style=\"padding-top: 3px; padding-bottom: 3px; padding-left: 0.5ex; padding-right: 0.5ex; margin-top: 0px; margin-bottom: 0px; border-style: none; border-width: 0px; text-align: left; margin-left: 0px; padding-left: 0px; padding-right: 0.3em; border-bottom: 1px solid;\">63</td><td style=\"padding-top: 3px; padding-bottom: 3px; padding-left: 0.5ex; padding-right: 0.5ex; margin-top: 0px; margin-bottom: 0px; border-style: none; border-width: 0px; text-align: right; margin-right: 0px; padding-right: 0px; padding-left: 0.3em; border-bottom: 1px solid;\">3</td><td style=\"padding-top: 3px; padding-bottom: 3px; padding-left: 0.5ex; padding-right: 0.5ex; margin-top: 0px; margin-bottom: 0px; border-style: none; border-width: 0px; text-align: center; margin-left: 0px; margin-right: 0px; padding-right: 0px; padding-left: 0px; width: 1px; border-bottom: 1px solid;\">.</td><td style=\"padding-top: 3px; padding-bottom: 3px; padding-left: 0.5ex; padding-right: 0.5ex; margin-top: 0px; margin-bottom: 0px; border-style: none; border-width: 0px; text-align: left; margin-left: 0px; padding-left: 0px; padding-right: 0.3em; border-bottom: 1px solid;\">11</td><td style=\"padding-top: 3px; padding-bottom: 3px; padding-left: 0.5ex; padding-right: 0.5ex; margin-top: 0px; margin-bottom: 0px; border-style: none; border-width: 0px; text-align: right; margin-right: 0px; padding-right: 0px; padding-left: 0.3em; border-bottom: 1px solid;\">0</td><td style=\"padding-top: 3px; padding-bottom: 3px; padding-left: 0.5ex; padding-right: 0.5ex; margin-top: 0px; margin-bottom: 0px; border-style: none; border-width: 0px; text-align: center; margin-left: 0px; margin-right: 0px; padding-right: 0px; padding-left: 0px; width: 1px; border-bottom: 1px solid;\">.</td><td style=\"padding-top: 3px; padding-bottom: 3px; padding-left: 0.5ex; padding-right: 0.5ex; margin-top: 0px; margin-bottom: 0px; border-style: none; border-width: 0px; text-align: left; margin-left: 0px; padding-left: 0px; padding-right: 0.3em; border-bottom: 1px solid;\">70</td><td style=\"padding-top: 3px; padding-bottom: 3px; padding-left: 0.5ex; padding-right: 0.5ex; margin-top: 0px; margin-bottom: 0px; border-style: none; border-width: 0px; text-align: right; margin-right: 0px; padding-right: 0px; padding-left: 0.3em; border-bottom: 1px solid;\">6</td><td style=\"padding-top: 3px; padding-bottom: 3px; padding-left: 0.5ex; padding-right: 0.5ex; margin-top: 0px; margin-bottom: 0px; border-style: none; border-width: 0px; text-align: center; margin-left: 0px; margin-right: 0px; padding-right: 0px; padding-left: 0px; width: 1px; border-bottom: 1px solid;\">.</td><td style=\"padding-top: 3px; padding-bottom: 3px; padding-left: 0.5ex; padding-right: 0.5ex; margin-top: 0px; margin-bottom: 0px; border-style: none; border-width: 0px; text-align: left; margin-left: 0px; padding-left: 0px; padding-right: 0.3em; border-bottom: 1px solid;\">86</td></tr>\n",
       "</table>\n",
       "</div>\n"
      ],
      "text/plain": []
     },
     "metadata": {},
     "output_type": "display_data"
    }
   ],
   "source": [
    "ftable(grouped_summary_benchmark,col.vars=3:2) %>% memisc::show_html(digits=2)"
   ]
  },
  {
   "cell_type": "code",
   "execution_count": 11,
   "metadata": {
    "execution": {
     "iopub.execute_input": "2023-11-19T18:45:18.649155Z",
     "iopub.status.busy": "2023-11-19T18:45:18.642682Z",
     "iopub.status.idle": "2023-11-19T18:45:18.660030Z",
     "shell.execute_reply": "2023-11-19T18:45:18.657061Z"
    }
   },
   "outputs": [],
   "source": [
    "load(\"grouped-modification-benchmark.RData\")\n",
    "\n",
    "grouped_modification_benchmark_1 <- bench_matrix(grouped_modification_benchmark_1)\n",
    "grouped_modification_benchmark_2 <- bench_matrix(grouped_modification_benchmark_2)\n",
    "\n",
    "grouped_modification_benchmark <- collect(\n",
    "    \"`Big data'\"    = grouped_modification_benchmark_1,\n",
    "    \"`Survey data'\" = grouped_modification_benchmark_2)\n",
    "colnames(grouped_modification_benchmark) <- c(\"abs.\",\"rel.\")\n",
    "names(dimnames(grouped_modification_benchmark)) <- c(\"Method\",\"Timing\",\"Data\")"
   ]
  },
  {
   "cell_type": "code",
   "execution_count": 12,
   "metadata": {
    "execution": {
     "iopub.execute_input": "2023-11-19T18:45:18.666963Z",
     "iopub.status.busy": "2023-11-19T18:45:18.664474Z",
     "iopub.status.idle": "2023-11-19T18:45:18.697562Z",
     "shell.execute_reply": "2023-11-19T18:45:18.694769Z"
    }
   },
   "outputs": [
    {
     "data": {
      "text/html": [
       "<div>\n",
       "<table class=\"ftable\" style=\"border-collapse: collapse; border-style: none; margin: 2ex auto;\">\n",
       "<tr style=\"border-style: none;\"><td style=\"padding-top: 3px; padding-bottom: 3px; padding-left: 0.3em; padding-right: 0.3em; margin-top: 0px; margin-bottom: 0px; border-style: none; border-width: 0px; text-align: left; border-top: 1px solid;\"></td><td style=\"padding-top: 3px; padding-bottom: 3px; padding-left: 0.3em; padding-right: 0.3em; margin-top: 0px; margin-bottom: 0px; border-style: none; border-width: 0px; text-align: left; border-top: 1px solid;\">Data:</td><td colspan=\"6\" style=\"padding-top: 3px; padding-bottom: 3px; padding-left: 0.3em; padding-right: 0.3em; margin-top: 0px; margin-bottom: 0px; border-style: none; border-width: 0px; text-align: center; border-bottom: 1px solid; border-top: 1px solid;\">`Big data'</td><td colspan=\"6\" style=\"padding-top: 3px; padding-bottom: 3px; padding-left: 0.3em; padding-right: 0.3em; margin-top: 0px; margin-bottom: 0px; border-style: none; border-width: 0px; text-align: center; border-bottom: 1px solid; border-top: 1px solid;\">`Survey data'</td></tr>\n",
       "<tr style=\"border-style: none;\"><td style=\"padding-top: 3px; padding-bottom: 3px; padding-left: 0.3em; padding-right: 0.3em; margin-top: 0px; margin-bottom: 0px; border-style: none; border-width: 0px; text-align: left; border-bottom: 1px solid;\">Method</td><td style=\"padding-top: 3px; padding-bottom: 3px; padding-left: 0.3em; padding-right: 0.3em; margin-top: 0px; margin-bottom: 0px; border-style: none; border-width: 0px; text-align: left; border-bottom: 1px solid;\">Timing:</td><td colspan=\"3\" style=\"padding-top: 3px; padding-bottom: 3px; padding-left: 0.3em; padding-right: 0.3em; margin-top: 0px; margin-bottom: 0px; border-style: none; border-width: 0px; text-align: center; border-bottom: 1px solid;\">abs.</td><td colspan=\"3\" style=\"padding-top: 3px; padding-bottom: 3px; padding-left: 0.3em; padding-right: 0.3em; margin-top: 0px; margin-bottom: 0px; border-style: none; border-width: 0px; text-align: center; border-bottom: 1px solid;\">rel.</td><td colspan=\"3\" style=\"padding-top: 3px; padding-bottom: 3px; padding-left: 0.3em; padding-right: 0.3em; margin-top: 0px; margin-bottom: 0px; border-style: none; border-width: 0px; text-align: center; border-bottom: 1px solid;\">abs.</td><td colspan=\"3\" style=\"padding-top: 3px; padding-bottom: 3px; padding-left: 0.3em; padding-right: 0.3em; margin-top: 0px; margin-bottom: 0px; border-style: none; border-width: 0px; text-align: center; border-bottom: 1px solid;\">rel.</td></tr>\n",
       "<tr style=\"border-style: none;\"><td style=\"padding-top: 3px; padding-bottom: 3px; padding-left: 0.3em; padding-right: 0.5ex; margin-top: 0px; margin-bottom: 0px; border-style: none; border-width: 0px; padding-top: 3px; padding-bottom: 3px; padding-left: 0.5ex; padding-right: 0.5ex; margin-top: 0px; margin-bottom: 0px; border-style: none; border-width: 0px;\">within</td><td style=\"padding-top: 3px; padding-bottom: 3px; padding-left: 0.3em; padding-right: 0.5ex; margin-top: 0px; margin-bottom: 0px; border-style: none; border-width: 0px; padding-top: 3px; padding-bottom: 3px; padding-left: 0.5ex; padding-right: 0.5ex; margin-top: 0px; margin-bottom: 0px; border-style: none; border-width: 0px;\"></td><td style=\"padding-top: 3px; padding-bottom: 3px; padding-left: 0.5ex; padding-right: 0.5ex; margin-top: 0px; margin-bottom: 0px; border-style: none; border-width: 0px; text-align: right; margin-right: 0px; padding-right: 0px; padding-left: 0.3em;\">5</td><td style=\"padding-top: 3px; padding-bottom: 3px; padding-left: 0.5ex; padding-right: 0.5ex; margin-top: 0px; margin-bottom: 0px; border-style: none; border-width: 0px; text-align: center; margin-left: 0px; margin-right: 0px; padding-right: 0px; padding-left: 0px; width: 1px;\">.</td><td style=\"padding-top: 3px; padding-bottom: 3px; padding-left: 0.5ex; padding-right: 0.5ex; margin-top: 0px; margin-bottom: 0px; border-style: none; border-width: 0px; text-align: left; margin-left: 0px; padding-left: 0px; padding-right: 0.3em;\">59</td><td style=\"padding-top: 3px; padding-bottom: 3px; padding-left: 0.5ex; padding-right: 0.5ex; margin-top: 0px; margin-bottom: 0px; border-style: none; border-width: 0px; text-align: right; margin-right: 0px; padding-right: 0px; padding-left: 0.3em;\">2</td><td style=\"padding-top: 3px; padding-bottom: 3px; padding-left: 0.5ex; padding-right: 0.5ex; margin-top: 0px; margin-bottom: 0px; border-style: none; border-width: 0px; text-align: center; margin-left: 0px; margin-right: 0px; padding-right: 0px; padding-left: 0px; width: 1px;\">.</td><td style=\"padding-top: 3px; padding-bottom: 3px; padding-left: 0.5ex; padding-right: 0.5ex; margin-top: 0px; margin-bottom: 0px; border-style: none; border-width: 0px; text-align: left; margin-left: 0px; padding-left: 0px; padding-right: 0.3em;\">42</td><td style=\"padding-top: 3px; padding-bottom: 3px; padding-left: 0.5ex; padding-right: 0.5ex; margin-top: 0px; margin-bottom: 0px; border-style: none; border-width: 0px; text-align: right; margin-right: 0px; padding-right: 0px; padding-left: 0.3em;\">1</td><td style=\"padding-top: 3px; padding-bottom: 3px; padding-left: 0.5ex; padding-right: 0.5ex; margin-top: 0px; margin-bottom: 0px; border-style: none; border-width: 0px; text-align: center; margin-left: 0px; margin-right: 0px; padding-right: 0px; padding-left: 0px; width: 1px;\">.</td><td style=\"padding-top: 3px; padding-bottom: 3px; padding-left: 0.5ex; padding-right: 0.5ex; margin-top: 0px; margin-bottom: 0px; border-style: none; border-width: 0px; text-align: left; margin-left: 0px; padding-left: 0px; padding-right: 0.3em;\">65</td><td style=\"padding-top: 3px; padding-bottom: 3px; padding-left: 0.5ex; padding-right: 0.5ex; margin-top: 0px; margin-bottom: 0px; border-style: none; border-width: 0px; text-align: right; margin-right: 0px; padding-right: 0px; padding-left: 0.3em;\">1</td><td style=\"padding-top: 3px; padding-bottom: 3px; padding-left: 0.5ex; padding-right: 0.5ex; margin-top: 0px; margin-bottom: 0px; border-style: none; border-width: 0px; text-align: center; margin-left: 0px; margin-right: 0px; padding-right: 0px; padding-left: 0px; width: 1px;\">.</td><td style=\"padding-top: 3px; padding-bottom: 3px; padding-left: 0.5ex; padding-right: 0.5ex; margin-top: 0px; margin-bottom: 0px; border-style: none; border-width: 0px; text-align: left; margin-left: 0px; padding-left: 0px; padding-right: 0.3em;\">00</td></tr>\n",
       "<tr style=\"border-style: none;\"><td style=\"padding-top: 3px; padding-bottom: 3px; padding-left: 0.3em; padding-right: 0.5ex; margin-top: 0px; margin-bottom: 0px; border-style: none; border-width: 0px; padding-top: 3px; padding-bottom: 3px; padding-left: 0.5ex; padding-right: 0.5ex; margin-top: 0px; margin-bottom: 0px; border-style: none; border-width: 0px;\">data.table</td><td style=\"padding-top: 3px; padding-bottom: 3px; padding-left: 0.3em; padding-right: 0.5ex; margin-top: 0px; margin-bottom: 0px; border-style: none; border-width: 0px; padding-top: 3px; padding-bottom: 3px; padding-left: 0.5ex; padding-right: 0.5ex; margin-top: 0px; margin-bottom: 0px; border-style: none; border-width: 0px;\"></td><td style=\"padding-top: 3px; padding-bottom: 3px; padding-left: 0.5ex; padding-right: 0.5ex; margin-top: 0px; margin-bottom: 0px; border-style: none; border-width: 0px; text-align: right; margin-right: 0px; padding-right: 0px; padding-left: 0.3em;\">3</td><td style=\"padding-top: 3px; padding-bottom: 3px; padding-left: 0.5ex; padding-right: 0.5ex; margin-top: 0px; margin-bottom: 0px; border-style: none; border-width: 0px; text-align: center; margin-left: 0px; margin-right: 0px; padding-right: 0px; padding-left: 0px; width: 1px;\">.</td><td style=\"padding-top: 3px; padding-bottom: 3px; padding-left: 0.5ex; padding-right: 0.5ex; margin-top: 0px; margin-bottom: 0px; border-style: none; border-width: 0px; text-align: left; margin-left: 0px; padding-left: 0px; padding-right: 0.3em;\">48</td><td style=\"padding-top: 3px; padding-bottom: 3px; padding-left: 0.5ex; padding-right: 0.5ex; margin-top: 0px; margin-bottom: 0px; border-style: none; border-width: 0px; text-align: right; margin-right: 0px; padding-right: 0px; padding-left: 0.3em;\">1</td><td style=\"padding-top: 3px; padding-bottom: 3px; padding-left: 0.5ex; padding-right: 0.5ex; margin-top: 0px; margin-bottom: 0px; border-style: none; border-width: 0px; text-align: center; margin-left: 0px; margin-right: 0px; padding-right: 0px; padding-left: 0px; width: 1px;\">.</td><td style=\"padding-top: 3px; padding-bottom: 3px; padding-left: 0.5ex; padding-right: 0.5ex; margin-top: 0px; margin-bottom: 0px; border-style: none; border-width: 0px; text-align: left; margin-left: 0px; padding-left: 0px; padding-right: 0.3em;\">51</td><td style=\"padding-top: 3px; padding-bottom: 3px; padding-left: 0.5ex; padding-right: 0.5ex; margin-top: 0px; margin-bottom: 0px; border-style: none; border-width: 0px; text-align: right; margin-right: 0px; padding-right: 0px; padding-left: 0.3em;\">1</td><td style=\"padding-top: 3px; padding-bottom: 3px; padding-left: 0.5ex; padding-right: 0.5ex; margin-top: 0px; margin-bottom: 0px; border-style: none; border-width: 0px; text-align: center; margin-left: 0px; margin-right: 0px; padding-right: 0px; padding-left: 0px; width: 1px;\">.</td><td style=\"padding-top: 3px; padding-bottom: 3px; padding-left: 0.5ex; padding-right: 0.5ex; margin-top: 0px; margin-bottom: 0px; border-style: none; border-width: 0px; text-align: left; margin-left: 0px; padding-left: 0px; padding-right: 0.3em;\">86</td><td style=\"padding-top: 3px; padding-bottom: 3px; padding-left: 0.5ex; padding-right: 0.5ex; margin-top: 0px; margin-bottom: 0px; border-style: none; border-width: 0px; text-align: right; margin-right: 0px; padding-right: 0px; padding-left: 0.3em;\">1</td><td style=\"padding-top: 3px; padding-bottom: 3px; padding-left: 0.5ex; padding-right: 0.5ex; margin-top: 0px; margin-bottom: 0px; border-style: none; border-width: 0px; text-align: center; margin-left: 0px; margin-right: 0px; padding-right: 0px; padding-left: 0px; width: 1px;\">.</td><td style=\"padding-top: 3px; padding-bottom: 3px; padding-left: 0.5ex; padding-right: 0.5ex; margin-top: 0px; margin-bottom: 0px; border-style: none; border-width: 0px; text-align: left; margin-left: 0px; padding-left: 0px; padding-right: 0.3em;\">12</td></tr>\n",
       "<tr style=\"border-style: none;\"><td style=\"padding-top: 3px; padding-bottom: 3px; padding-left: 0.3em; padding-right: 0.5ex; margin-top: 0px; margin-bottom: 0px; border-style: none; border-width: 0px; padding-top: 3px; padding-bottom: 3px; padding-left: 0.5ex; padding-right: 0.5ex; margin-top: 0px; margin-bottom: 0px; border-style: none; border-width: 0px;\">group_by + mutate</td><td style=\"padding-top: 3px; padding-bottom: 3px; padding-left: 0.3em; padding-right: 0.5ex; margin-top: 0px; margin-bottom: 0px; border-style: none; border-width: 0px; padding-top: 3px; padding-bottom: 3px; padding-left: 0.5ex; padding-right: 0.5ex; margin-top: 0px; margin-bottom: 0px; border-style: none; border-width: 0px;\"></td><td style=\"padding-top: 3px; padding-bottom: 3px; padding-left: 0.5ex; padding-right: 0.5ex; margin-top: 0px; margin-bottom: 0px; border-style: none; border-width: 0px; text-align: right; margin-right: 0px; padding-right: 0px; padding-left: 0.3em;\">2</td><td style=\"padding-top: 3px; padding-bottom: 3px; padding-left: 0.5ex; padding-right: 0.5ex; margin-top: 0px; margin-bottom: 0px; border-style: none; border-width: 0px; text-align: center; margin-left: 0px; margin-right: 0px; padding-right: 0px; padding-left: 0px; width: 1px;\">.</td><td style=\"padding-top: 3px; padding-bottom: 3px; padding-left: 0.5ex; padding-right: 0.5ex; margin-top: 0px; margin-bottom: 0px; border-style: none; border-width: 0px; text-align: left; margin-left: 0px; padding-left: 0px; padding-right: 0.3em;\">31</td><td style=\"padding-top: 3px; padding-bottom: 3px; padding-left: 0.5ex; padding-right: 0.5ex; margin-top: 0px; margin-bottom: 0px; border-style: none; border-width: 0px; text-align: right; margin-right: 0px; padding-right: 0px; padding-left: 0.3em;\">1</td><td style=\"padding-top: 3px; padding-bottom: 3px; padding-left: 0.5ex; padding-right: 0.5ex; margin-top: 0px; margin-bottom: 0px; border-style: none; border-width: 0px; text-align: center; margin-left: 0px; margin-right: 0px; padding-right: 0px; padding-left: 0px; width: 1px;\">.</td><td style=\"padding-top: 3px; padding-bottom: 3px; padding-left: 0.5ex; padding-right: 0.5ex; margin-top: 0px; margin-bottom: 0px; border-style: none; border-width: 0px; text-align: left; margin-left: 0px; padding-left: 0px; padding-right: 0.3em;\">00</td><td style=\"padding-top: 3px; padding-bottom: 3px; padding-left: 0.5ex; padding-right: 0.5ex; margin-top: 0px; margin-bottom: 0px; border-style: none; border-width: 0px; text-align: right; margin-right: 0px; padding-right: 0px; padding-left: 0.3em;\">3</td><td style=\"padding-top: 3px; padding-bottom: 3px; padding-left: 0.5ex; padding-right: 0.5ex; margin-top: 0px; margin-bottom: 0px; border-style: none; border-width: 0px; text-align: center; margin-left: 0px; margin-right: 0px; padding-right: 0px; padding-left: 0px; width: 1px;\">.</td><td style=\"padding-top: 3px; padding-bottom: 3px; padding-left: 0.5ex; padding-right: 0.5ex; margin-top: 0px; margin-bottom: 0px; border-style: none; border-width: 0px; text-align: left; margin-left: 0px; padding-left: 0px; padding-right: 0.3em;\">41</td><td style=\"padding-top: 3px; padding-bottom: 3px; padding-left: 0.5ex; padding-right: 0.5ex; margin-top: 0px; margin-bottom: 0px; border-style: none; border-width: 0px; text-align: right; margin-right: 0px; padding-right: 0px; padding-left: 0.3em;\">2</td><td style=\"padding-top: 3px; padding-bottom: 3px; padding-left: 0.5ex; padding-right: 0.5ex; margin-top: 0px; margin-bottom: 0px; border-style: none; border-width: 0px; text-align: center; margin-left: 0px; margin-right: 0px; padding-right: 0px; padding-left: 0px; width: 1px;\">.</td><td style=\"padding-top: 3px; padding-bottom: 3px; padding-left: 0.5ex; padding-right: 0.5ex; margin-top: 0px; margin-bottom: 0px; border-style: none; border-width: 0px; text-align: left; margin-left: 0px; padding-left: 0px; padding-right: 0.3em;\">06</td></tr>\n",
       "<tr style=\"border-style: none;\"><td style=\"padding-top: 3px; padding-bottom: 3px; padding-left: 0.3em; padding-right: 0.5ex; margin-top: 0px; margin-bottom: 0px; border-style: none; border-width: 0px; padding-top: 3px; padding-bottom: 3px; padding-left: 0.5ex; padding-right: 0.5ex; margin-top: 0px; margin-bottom: 0px; border-style: none; border-width: 0px; border-bottom: 1px solid;\">withinGroups</td><td style=\"padding-top: 3px; padding-bottom: 3px; padding-left: 0.3em; padding-right: 0.5ex; margin-top: 0px; margin-bottom: 0px; border-style: none; border-width: 0px; padding-top: 3px; padding-bottom: 3px; padding-left: 0.5ex; padding-right: 0.5ex; margin-top: 0px; margin-bottom: 0px; border-style: none; border-width: 0px; border-bottom: 1px solid;\"></td><td style=\"padding-top: 3px; padding-bottom: 3px; padding-left: 0.5ex; padding-right: 0.5ex; margin-top: 0px; margin-bottom: 0px; border-style: none; border-width: 0px; text-align: right; margin-right: 0px; padding-right: 0px; padding-left: 0.3em; border-bottom: 1px solid;\">5</td><td style=\"padding-top: 3px; padding-bottom: 3px; padding-left: 0.5ex; padding-right: 0.5ex; margin-top: 0px; margin-bottom: 0px; border-style: none; border-width: 0px; text-align: center; margin-left: 0px; margin-right: 0px; padding-right: 0px; padding-left: 0px; width: 1px; border-bottom: 1px solid;\">.</td><td style=\"padding-top: 3px; padding-bottom: 3px; padding-left: 0.5ex; padding-right: 0.5ex; margin-top: 0px; margin-bottom: 0px; border-style: none; border-width: 0px; text-align: left; margin-left: 0px; padding-left: 0px; padding-right: 0.3em; border-bottom: 1px solid;\">76</td><td style=\"padding-top: 3px; padding-bottom: 3px; padding-left: 0.5ex; padding-right: 0.5ex; margin-top: 0px; margin-bottom: 0px; border-style: none; border-width: 0px; text-align: right; margin-right: 0px; padding-right: 0px; padding-left: 0.3em; border-bottom: 1px solid;\">2</td><td style=\"padding-top: 3px; padding-bottom: 3px; padding-left: 0.5ex; padding-right: 0.5ex; margin-top: 0px; margin-bottom: 0px; border-style: none; border-width: 0px; text-align: center; margin-left: 0px; margin-right: 0px; padding-right: 0px; padding-left: 0px; width: 1px; border-bottom: 1px solid;\">.</td><td style=\"padding-top: 3px; padding-bottom: 3px; padding-left: 0.5ex; padding-right: 0.5ex; margin-top: 0px; margin-bottom: 0px; border-style: none; border-width: 0px; text-align: left; margin-left: 0px; padding-left: 0px; padding-right: 0.3em; border-bottom: 1px solid;\">49</td><td style=\"padding-top: 3px; padding-bottom: 3px; padding-left: 0.5ex; padding-right: 0.5ex; margin-top: 0px; margin-bottom: 0px; border-style: none; border-width: 0px; text-align: right; margin-right: 0px; padding-right: 0px; padding-left: 0.3em; border-bottom: 1px solid;\">2</td><td style=\"padding-top: 3px; padding-bottom: 3px; padding-left: 0.5ex; padding-right: 0.5ex; margin-top: 0px; margin-bottom: 0px; border-style: none; border-width: 0px; text-align: center; margin-left: 0px; margin-right: 0px; padding-right: 0px; padding-left: 0px; width: 1px; border-bottom: 1px solid;\">.</td><td style=\"padding-top: 3px; padding-bottom: 3px; padding-left: 0.5ex; padding-right: 0.5ex; margin-top: 0px; margin-bottom: 0px; border-style: none; border-width: 0px; text-align: left; margin-left: 0px; padding-left: 0px; padding-right: 0.3em; border-bottom: 1px solid;\">03</td><td style=\"padding-top: 3px; padding-bottom: 3px; padding-left: 0.5ex; padding-right: 0.5ex; margin-top: 0px; margin-bottom: 0px; border-style: none; border-width: 0px; text-align: right; margin-right: 0px; padding-right: 0px; padding-left: 0.3em; border-bottom: 1px solid;\">1</td><td style=\"padding-top: 3px; padding-bottom: 3px; padding-left: 0.5ex; padding-right: 0.5ex; margin-top: 0px; margin-bottom: 0px; border-style: none; border-width: 0px; text-align: center; margin-left: 0px; margin-right: 0px; padding-right: 0px; padding-left: 0px; width: 1px; border-bottom: 1px solid;\">.</td><td style=\"padding-top: 3px; padding-bottom: 3px; padding-left: 0.5ex; padding-right: 0.5ex; margin-top: 0px; margin-bottom: 0px; border-style: none; border-width: 0px; text-align: left; margin-left: 0px; padding-left: 0px; padding-right: 0.3em; border-bottom: 1px solid;\">23</td></tr>\n",
       "</table>\n",
       "</div>\n"
      ],
      "text/plain": []
     },
     "metadata": {},
     "output_type": "display_data"
    }
   ],
   "source": [
    "ftable(grouped_modification_benchmark,col.vars=3:2) %>% memisc::show_html(digits=2)"
   ]
  }
 ],
 "metadata": {
  "kernelspec": {
   "display_name": "R (RKernel)",
   "language": "R",
   "name": "rkernel"
  },
  "language_info": {
   "codemirror_mode": "R",
   "file_extension": ".R",
   "mimetype": "text/x-r-source",
   "name": "R",
   "pygments_lexer": "r",
   "version": "4.3.2"
  }
 },
 "nbformat": 4,
 "nbformat_minor": 4
}
