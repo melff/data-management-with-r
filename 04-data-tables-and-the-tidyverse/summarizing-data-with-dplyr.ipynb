{
 "cells": [
  {
   "cell_type": "markdown",
   "metadata": {},
   "source": [
    "# Summarizing data with *dplyr*"
   ]
  },
  {
   "cell_type": "markdown",
   "metadata": {},
   "source": [
    "The following makes use of the *dplyr* package. You may need to install it\n",
    "from [CRAN](https://cran.r-project.org/package=data.table) using the code\n",
    "`install.packages(\"dplyr\")` if you want to run this on your computer. (The package is already installed on\n",
    "the notebook container, however.)"
   ]
  },
  {
   "cell_type": "code",
   "execution_count": 1,
   "metadata": {
    "execution": {
     "iopub.execute_input": "2023-11-19T18:22:59.173498Z",
     "iopub.status.busy": "2023-11-19T18:22:59.170880Z",
     "iopub.status.idle": "2023-11-19T18:22:59.334068Z",
     "shell.execute_reply": "2023-11-19T18:22:59.331400Z"
    }
   },
   "outputs": [
    {
     "name": "stdout",
     "output_type": "stream",
     "text": [
      "\n",
      "Attaching package: ‘dplyr’\n",
      "\n",
      "The following objects are masked from ‘package:stats’:\n",
      "\n",
      "    filter, lag\n",
      "\n",
      "The following objects are masked from ‘package:base’:\n",
      "\n",
      "    intersect, setdiff, setequal, union\n",
      "\n"
     ]
    }
   ],
   "source": [
    "library(dplyr)"
   ]
  },
  {
   "cell_type": "markdown",
   "metadata": {},
   "source": [
    "Here we use data from the British Election Study 2010. The data set\n",
    "[bes2010feelings.RData](https://github.com/melff/dataman-r/raw/main/03-data-frames/bes2010feelings.RData)\n",
    "is prepared from the original available at\n",
    "https://www.britishelectionstudy.com/data-object/2010-bes-cross-section/ by\n",
    "removing identifying information and scrambling the data."
   ]
  },
  {
   "cell_type": "code",
   "execution_count": 2,
   "metadata": {
    "execution": {
     "iopub.execute_input": "2023-11-19T18:22:59.368428Z",
     "iopub.status.busy": "2023-11-19T18:22:59.338365Z",
     "iopub.status.idle": "2023-11-19T18:22:59.463741Z",
     "shell.execute_reply": "2023-11-19T18:22:59.460681Z"
    }
   },
   "outputs": [],
   "source": [
    "load(\"bes2010feelings.RData\")"
   ]
  },
  {
   "cell_type": "code",
   "execution_count": 3,
   "metadata": {
    "execution": {
     "iopub.execute_input": "2023-11-19T18:22:59.470959Z",
     "iopub.status.busy": "2023-11-19T18:22:59.468528Z",
     "iopub.status.idle": "2023-11-19T18:22:59.477760Z",
     "shell.execute_reply": "2023-11-19T18:22:59.475087Z"
    }
   },
   "outputs": [],
   "source": [
    "# A convenience function\n",
    "Mean <- function(x,...) mean(x,na.rm=TRUE,...) "
   ]
  },
  {
   "cell_type": "code",
   "execution_count": 4,
   "metadata": {
    "execution": {
     "iopub.execute_input": "2023-11-19T18:22:59.484634Z",
     "iopub.status.busy": "2023-11-19T18:22:59.482222Z",
     "iopub.status.idle": "2023-11-19T18:22:59.612319Z",
     "shell.execute_reply": "2023-11-19T18:22:59.609511Z"
    }
   },
   "outputs": [
    {
     "name": "stdout",
     "output_type": "stream",
     "text": [
      "\u001b[1m\u001b[22m`summarise()` has grouped output by 'wave'. You can override using the\n",
      "`.groups` argument."
     ]
    },
    {
     "data": {
      "text/plain": [
       "\u001b[38;5;246m# A tibble: 7 × 6\u001b[39m\n",
       "\u001b[38;5;246m# Groups:   wave [2]\u001b[39m\n",
       "  wave  region   Brown Cameron Clegg     N\n",
       "  \u001b[3m\u001b[38;5;246m<fct>\u001b[39m\u001b[23m \u001b[3m\u001b[38;5;246m<fct>\u001b[39m\u001b[23m    \u001b[3m\u001b[38;5;246m<dbl>\u001b[39m\u001b[23m   \u001b[3m\u001b[38;5;246m<dbl>\u001b[39m\u001b[23m \u001b[3m\u001b[38;5;246m<dbl>\u001b[39m\u001b[23m \u001b[3m\u001b[38;5;246m<int>\u001b[39m\u001b[23m\n",
       "\u001b[38;5;250m1\u001b[39m Pre   England   4.09    5.28  4.62  \u001b[4m1\u001b[24m159\n",
       "\u001b[38;5;250m2\u001b[39m Pre   Scotland  5.40    4.50  4.41   207\n",
       "\u001b[38;5;250m3\u001b[39m Pre   Wales     4.33    4.77  4.59   132\n",
       "\u001b[38;5;250m4\u001b[39m Pre   \u001b[31mNA\u001b[39m        4.51    4.93  4.43   437\n",
       "\u001b[38;5;250m5\u001b[39m Post  England   4.14    5.44  5.16  \u001b[4m2\u001b[24m175\n",
       "\u001b[38;5;250m6\u001b[39m Post  Scotland  5.51    4.54  4.51   665\n",
       "\u001b[38;5;250m7\u001b[39m Post  Wales     4.31    4.86  4.81   235"
      ]
     },
     "execution_count": 4,
     "metadata": {},
     "output_type": "execute_result"
    }
   ],
   "source": [
    "bes2010feelings %>% group_by(wave,region) %>%\n",
    "                    summarize(Brown=Mean(flng.brown),\n",
    "                              Cameron=Mean(flng.cameron),\n",
    "                              Clegg=Mean(flng.clegg),\n",
    "                              N=n())"
   ]
  }
 ],
 "metadata": {
  "kernelspec": {
   "display_name": "R (RKernel)",
   "language": "R",
   "name": "rkernel"
  },
  "language_info": {
   "codemirror_mode": "R",
   "file_extension": ".R",
   "mimetype": "text/x-r-source",
   "name": "R",
   "pygments_lexer": "r",
   "version": "4.3.2"
  }
 },
 "nbformat": 4,
 "nbformat_minor": 4
}
