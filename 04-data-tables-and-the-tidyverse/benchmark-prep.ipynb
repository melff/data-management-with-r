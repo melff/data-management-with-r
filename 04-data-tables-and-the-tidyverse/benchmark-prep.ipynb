{
 "cells": [
  {
   "cell_type": "markdown",
   "metadata": {},
   "source": [
    "# Preparing example data for the benchmark study"
   ]
  },
  {
   "cell_type": "code",
   "execution_count": null,
   "metadata": {},
   "outputs": [],
   "source": [
    "library(data.table)"
   ]
  },
  {
   "cell_type": "code",
   "execution_count": null,
   "metadata": {},
   "outputs": [],
   "source": [
    "library(tibble)"
   ]
  },
  {
   "cell_type": "code",
   "execution_count": null,
   "metadata": {},
   "outputs": [],
   "source": [
    "# Here we create 100 variables, each with 1,000,000 elements\n",
    "BData <- replicate(100,list(rnorm(1000000)))\n",
    "names(BData) <- paste0(\"X\",sprintf(\"%d\",1:100))\n",
    "# We add a factor with 3 levels\n",
    "BData$a <- sample(letters[1:10],size=length(BData[[1]]),\n",
    "                 replace=TRUE)\n",
    "BData$b <- sample(letters[1:10],size=length(BData[[1]]),\n",
    "                 replace=TRUE)"
   ]
  },
  {
   "cell_type": "code",
   "execution_count": null,
   "metadata": {},
   "outputs": [],
   "source": [
    "# Put together we have a data frame with 101 variables\n",
    "# and one million observations\n",
    "BDataF <- data.frame(BData)\n",
    "# For later purposes we create a \"tibble\" ...\n",
    "BDTbl <- as_tibble(BData)\n",
    "# and a data table\n",
    "BDataT <- as.data.table(BData)\n",
    "save(BDataF,BDTbl,BDataT,\n",
    "     file=\"BData.RData\")"
   ]
  },
  {
   "cell_type": "code",
   "execution_count": null,
   "metadata": {},
   "outputs": [],
   "source": [
    "# Here we create 1500 variables, each with 3,000 elements\n",
    "SData <- replicate(1500,list(rnorm(3000)))\n",
    "names(SData) <- paste0(\"X\",sprintf(\"%d\",1:1500))\n",
    "# We add a factor with 3 levels\n",
    "SData$a <- sample(letters[1:10],size=length(SData[[1]]),\n",
    "                  replace=TRUE)\n",
    "SData$b <- sample(letters[1:10],size=length(SData[[1]]),\n",
    "                  replace=TRUE)"
   ]
  },
  {
   "cell_type": "code",
   "execution_count": null,
   "metadata": {},
   "outputs": [],
   "source": [
    "# Put together we have a data frame with 1,500 variables\n",
    "# and 3,000 observations\n",
    "SDataF <- data.frame(SData)\n",
    "# For later purposes we create a \"tibble\" ...\n",
    "SDTbl <- as_tibble(SData)\n",
    "# and a data table\n",
    "SDataT <- as.data.table(SData)\n",
    "save(SDataF,SDTbl,SDataT,\n",
    "     file=\"SData.RData\")"
   ]
  }
 ],
 "metadata": {
  "kernelspec": {
   "display_name": "R",
   "language": "R",
   "name": "ir"
  },
  "language_info": {
   "codemirror_mode": "r",
   "file_extension": ".r",
   "mimetype": "text/x-r-source",
   "name": "R",
   "pygments_lexer": "r",
   "version": "4.0.5"
  }
 },
 "nbformat": 4,
 "nbformat_minor": 2
}
