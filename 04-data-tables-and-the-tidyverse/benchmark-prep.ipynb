{
 "cells": [
  {
   "cell_type": "markdown",
   "metadata": {},
   "source": [
    "# Preparing example data for the benchmark study"
   ]
  },
  {
   "cell_type": "code",
   "execution_count": 1,
   "metadata": {
    "execution": {
     "iopub.execute_input": "2023-11-19T18:37:56.104508Z",
     "iopub.status.busy": "2023-11-19T18:37:56.102142Z",
     "iopub.status.idle": "2023-11-19T18:37:56.177119Z",
     "shell.execute_reply": "2023-11-19T18:37:56.174441Z"
    }
   },
   "outputs": [],
   "source": [
    "library(data.table)"
   ]
  },
  {
   "cell_type": "code",
   "execution_count": 2,
   "metadata": {
    "execution": {
     "iopub.execute_input": "2023-11-19T18:37:56.209814Z",
     "iopub.status.busy": "2023-11-19T18:37:56.181377Z",
     "iopub.status.idle": "2023-11-19T18:37:56.359200Z",
     "shell.execute_reply": "2023-11-19T18:37:56.356382Z"
    }
   },
   "outputs": [],
   "source": [
    "library(tibble)"
   ]
  },
  {
   "cell_type": "code",
   "execution_count": 3,
   "metadata": {
    "execution": {
     "iopub.execute_input": "2023-11-19T18:37:56.366178Z",
     "iopub.status.busy": "2023-11-19T18:37:56.363554Z",
     "iopub.status.idle": "2023-11-19T18:37:57.132764Z",
     "shell.execute_reply": "2023-11-19T18:37:57.130104Z"
    }
   },
   "outputs": [],
   "source": [
    "# Here we create 100 variables, each with 100,000 elements\n",
    "BData <- replicate(100,list(rnorm(100000)))\n",
    "names(BData) <- paste0(\"X\",sprintf(\"%d\",1:100))\n",
    "# We add a factor with 3 levels\n",
    "BData$a <- sample(letters[1:10],size=length(BData[[1]]),\n",
    "                 replace=TRUE)\n",
    "BData$b <- sample(letters[1:10],size=length(BData[[1]]),\n",
    "                 replace=TRUE)"
   ]
  },
  {
   "cell_type": "code",
   "execution_count": 4,
   "metadata": {
    "execution": {
     "iopub.execute_input": "2023-11-19T18:37:57.139276Z",
     "iopub.status.busy": "2023-11-19T18:37:57.136980Z",
     "iopub.status.idle": "2023-11-19T18:38:08.838474Z",
     "shell.execute_reply": "2023-11-19T18:38:08.835764Z"
    }
   },
   "outputs": [],
   "source": [
    "# Put together we have a data frame with 101 variables\n",
    "# and one million observations\n",
    "BDataF <- data.frame(BData)\n",
    "# For later purposes we create a \"tibble\" ...\n",
    "BDTbl <- as_tibble(BData)\n",
    "# and a data table\n",
    "BDataT <- as.data.table(BData)\n",
    "save(BDataF,BDTbl,BDataT,\n",
    "     file=\"BData.RData\")"
   ]
  },
  {
   "cell_type": "code",
   "execution_count": 5,
   "metadata": {
    "execution": {
     "iopub.execute_input": "2023-11-19T18:38:08.844997Z",
     "iopub.status.busy": "2023-11-19T18:38:08.842651Z",
     "iopub.status.idle": "2023-11-19T18:38:09.218965Z",
     "shell.execute_reply": "2023-11-19T18:38:09.214713Z"
    }
   },
   "outputs": [],
   "source": [
    "# Here we create 1500 variables, each with 3,000 elements\n",
    "SData <- replicate(1500,list(rnorm(3000)))\n",
    "names(SData) <- paste0(\"X\",sprintf(\"%d\",1:1500))\n",
    "# We add a factor with 3 levels\n",
    "SData$a <- sample(letters[1:10],size=length(SData[[1]]),\n",
    "                  replace=TRUE)\n",
    "SData$b <- sample(letters[1:10],size=length(SData[[1]]),\n",
    "                  replace=TRUE)"
   ]
  },
  {
   "cell_type": "code",
   "execution_count": 6,
   "metadata": {
    "execution": {
     "iopub.execute_input": "2023-11-19T18:38:09.226004Z",
     "iopub.status.busy": "2023-11-19T18:38:09.223677Z",
     "iopub.status.idle": "2023-11-19T18:38:14.592211Z",
     "shell.execute_reply": "2023-11-19T18:38:14.589273Z"
    }
   },
   "outputs": [],
   "source": [
    "# Put together we have a data frame with 1,500 variables\n",
    "# and 3,000 observations\n",
    "SDataF <- data.frame(SData)\n",
    "# For later purposes we create a \"tibble\" ...\n",
    "SDTbl <- as_tibble(SData)\n",
    "# and a data table\n",
    "SDataT <- as.data.table(SData)\n",
    "save(SDataF,SDTbl,SDataT,\n",
    "     file=\"SData.RData\")"
   ]
  }
 ],
 "metadata": {
  "kernelspec": {
   "display_name": "R (RKernel)",
   "language": "R",
   "name": "rkernel"
  },
  "language_info": {
   "codemirror_mode": "R",
   "file_extension": ".R",
   "mimetype": "text/x-r-source",
   "name": "R",
   "pygments_lexer": "r",
   "version": "4.3.2"
  }
 },
 "nbformat": 4,
 "nbformat_minor": 4
}
