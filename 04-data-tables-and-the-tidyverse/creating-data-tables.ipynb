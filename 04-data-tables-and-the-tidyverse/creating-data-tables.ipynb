{
 "cells": [
  {
   "cell_type": "markdown",
   "metadata": {},
   "source": [
    "# Creating data tables"
   ]
  },
  {
   "cell_type": "code",
   "execution_count": 1,
   "metadata": {},
   "outputs": [],
   "source": [
    "options(jupyter.rich_display=FALSE) # Create output as usual in R"
   ]
  },
  {
   "cell_type": "markdown",
   "metadata": {},
   "source": [
    "The following makes use of the *data.table* package. You may need to install it from [CRAN](https://cran.r-project.org/package=data.table) using the code `install.packages(\"data.table\")` if you want to run this on your computer. (The package is already installed on the\n",
    " notebook container, however.)"
   ]
  },
  {
   "cell_type": "code",
   "execution_count": 2,
   "metadata": {},
   "outputs": [],
   "source": [
    "library(data.table)"
   ]
  },
  {
   "cell_type": "code",
   "execution_count": 3,
   "metadata": {},
   "outputs": [
    {
     "data": {
      "text/plain": [
       "  Population Area  GVA   country         \n",
       "1 55619400   50301 28096 England         \n",
       "2  1885400    5460 20000 Northern Ireland\n",
       "3  5424800   30090 24800 Scotland        \n",
       "4  3125000    8023 19900 Wales           "
      ]
     },
     "metadata": {},
     "output_type": "display_data"
    }
   ],
   "source": [
    "UK <- data.table(\n",
    "           Population = c(55619400,1885400,5424800,3125000),\n",
    "           Area = c(50301,5460,30090,8023),\n",
    "           GVA = c(28096,20000,24800,19900),\n",
    "           country = c(\"England\",\n",
    "                         \"Northern Ireland\",\n",
    "                         \"Scotland\",\n",
    "                         \"Wales\"))\n",
    "UK"
   ]
  },
  {
   "cell_type": "code",
   "execution_count": 4,
   "metadata": {},
   "outputs": [
    {
     "data": {
      "text/plain": [
       "[1] \"data.table\" \"data.frame\""
      ]
     },
     "metadata": {},
     "output_type": "display_data"
    }
   ],
   "source": [
    "class(UK)"
   ]
  },
  {
   "cell_type": "code",
   "execution_count": 5,
   "metadata": {},
   "outputs": [
    {
     "data": {
      "text/plain": [
       "        x           y          \n",
       "1       -0.15279818 -0.47783172\n",
       "2       -1.70539944 -0.22764698\n",
       "3       -0.83157336  0.54272547\n",
       "4        1.22603817  0.38108578\n",
       "5        0.30521037  0.31583837\n",
       "6        1.13718083  0.69197497\n",
       "7        0.51842513 -1.40680405\n",
       "8       -0.71917822  1.02680513\n",
       "9        0.39633064 -1.36946391\n",
       "10       0.02244016  1.35067205\n",
       "11      -1.41041245  1.43463172\n",
       "12       0.15424717  1.30960037\n",
       "13      -0.64834247  2.79065757\n",
       "14      -0.49553384 -2.05155283\n",
       "15      -0.14673379  0.50991242\n",
       "16      -0.75601675  0.15452828\n",
       "17       0.47866941 -0.08568474\n",
       "18      -1.45425531 -2.20447058\n",
       "19       0.73526244 -0.72707865\n",
       "20      -0.56519050 -1.85391521\n",
       "21       1.51541619  0.82828098\n",
       "22       0.69653522 -0.16544687\n",
       "23       0.10405480 -0.94939379\n",
       "24      -0.18835395 -2.62117304\n",
       "25       0.05922234  0.23836024\n",
       "26       0.55200631  1.03270843\n",
       "27       0.47921075  0.32368910\n",
       "28      -1.87895045  0.33458745\n",
       "29      -0.52417448 -0.02576781\n",
       "30       1.10593164 -0.53994036\n",
       "⋮       ⋮           ⋮          \n",
       "999971   1.03720964  0.25952205\n",
       "999972   1.85559105 -0.64376335\n",
       "999973   0.30896363  0.90888194\n",
       "999974  -0.19120411 -0.13836427\n",
       "999975   0.38456941 -0.41448315\n",
       "999976   0.19796241  0.18025090\n",
       "999977  -0.59655868 -1.08715656\n",
       "999978   1.52224757 -0.39968983\n",
       "999979   0.97208779 -0.99119966\n",
       "999980  -0.60255442  0.45956398\n",
       "999981  -1.10311491 -0.30234050\n",
       "999982  -1.82785989 -0.04869525\n",
       "999983   2.02033730 -1.58348097\n",
       "999984  -0.31190704 -0.34873065\n",
       "999985   1.78569431  2.14918477\n",
       "999986  -0.29153104  0.93791961\n",
       "999987   0.10206375  0.28002396\n",
       "999988   0.77630696  0.02731268\n",
       "999989   0.36156982 -0.52059235\n",
       "999990  -0.36892781 -0.43718632\n",
       "999991   1.08813807 -0.66400660\n",
       "999992  -0.03645137 -0.12748503\n",
       "999993   1.16919951 -0.08199737\n",
       "999994  -1.17768845 -0.85591426\n",
       "999995   1.74096286 -1.70328723\n",
       "999996  -0.41303043 -0.02196034\n",
       "999997  -0.20724831 -0.98494480\n",
       "999998  -0.20431187 -0.10192041\n",
       "999999  -0.33621017 -0.76541307\n",
       "1000000  1.07567218 -0.24330753"
      ]
     },
     "metadata": {},
     "output_type": "display_data"
    }
   ],
   "source": [
    "DT <- data.table(\n",
    "    x = rnorm(1000000),\n",
    "    y = rnorm(1000000))\n",
    "DT"
   ]
  },
  {
   "cell_type": "code",
   "execution_count": 6,
   "metadata": {},
   "outputs": [
    {
     "data": {
      "text/plain": [
       "[1] \"data.table\" \"data.frame\""
      ]
     },
     "metadata": {},
     "output_type": "display_data"
    }
   ],
   "source": [
    "load(\"bes2010feelings.RData\")\n",
    "setDT(bes2010feelings)\n",
    "class(bes2010feelings)"
   ]
  },
  {
   "cell_type": "code",
   "execution_count": null,
   "metadata": {},
   "outputs": [],
   "source": []
  }
 ],
 "metadata": {
  "kernelspec": {
   "display_name": "R",
   "language": "R",
   "name": "ir"
  },
  "language_info": {
   "codemirror_mode": "r",
   "file_extension": ".r",
   "mimetype": "text/x-r-source",
   "name": "R",
   "pygments_lexer": "r",
   "version": "4.0.4"
  }
 },
 "nbformat": 4,
 "nbformat_minor": 4
}
