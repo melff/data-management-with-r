{
 "cells": [
  {
   "cell_type": "markdown",
   "metadata": {},
   "source": [
    "# Creating data tables"
   ]
  },
  {
   "cell_type": "markdown",
   "metadata": {},
   "source": [
    "The following makes use of the *data.table* package. You may need to install it from [CRAN](https://cran.r-project.org/package=data.table) using the code `install.packages(\"data.table\")` if you want to run this on your computer. (The package is already installed on the\n",
    " notebook container, however.)"
   ]
  },
  {
   "cell_type": "code",
   "execution_count": 1,
   "metadata": {
    "execution": {
     "iopub.execute_input": "2023-11-19T18:15:44.368835Z",
     "iopub.status.busy": "2023-11-19T18:15:44.366440Z",
     "iopub.status.idle": "2023-11-19T18:15:44.444191Z",
     "shell.execute_reply": "2023-11-19T18:15:44.441475Z"
    }
   },
   "outputs": [],
   "source": [
    "library(data.table)"
   ]
  },
  {
   "cell_type": "code",
   "execution_count": 2,
   "metadata": {
    "execution": {
     "iopub.execute_input": "2023-11-19T18:15:44.477312Z",
     "iopub.status.busy": "2023-11-19T18:15:44.448545Z",
     "iopub.status.idle": "2023-11-19T18:15:44.580574Z",
     "shell.execute_reply": "2023-11-19T18:15:44.577771Z"
    }
   },
   "outputs": [
    {
     "data": {
      "text/plain": [
       "   Population  Area   GVA          country\n",
       "1:   55619400 50301 28096          England\n",
       "2:    1885400  5460 20000 Northern Ireland\n",
       "3:    5424800 30090 24800         Scotland\n",
       "4:    3125000  8023 19900            Wales"
      ]
     },
     "execution_count": 2,
     "metadata": {},
     "output_type": "execute_result"
    }
   ],
   "source": [
    "UK <- data.table(\n",
    "           Population = c(55619400,1885400,5424800,3125000),\n",
    "           Area = c(50301,5460,30090,8023),\n",
    "           GVA = c(28096,20000,24800,19900),\n",
    "           country = c(\"England\",\n",
    "                         \"Northern Ireland\",\n",
    "                         \"Scotland\",\n",
    "                         \"Wales\"))\n",
    "UK"
   ]
  },
  {
   "cell_type": "code",
   "execution_count": 3,
   "metadata": {
    "execution": {
     "iopub.execute_input": "2023-11-19T18:15:44.587471Z",
     "iopub.status.busy": "2023-11-19T18:15:44.585022Z",
     "iopub.status.idle": "2023-11-19T18:15:44.599305Z",
     "shell.execute_reply": "2023-11-19T18:15:44.595617Z"
    }
   },
   "outputs": [
    {
     "data": {
      "text/plain": [
       "[1] \"data.table\" \"data.frame\""
      ]
     },
     "execution_count": 3,
     "metadata": {},
     "output_type": "execute_result"
    }
   ],
   "source": [
    "class(UK)"
   ]
  },
  {
   "cell_type": "code",
   "execution_count": 4,
   "metadata": {
    "execution": {
     "iopub.execute_input": "2023-11-19T18:15:44.606638Z",
     "iopub.status.busy": "2023-11-19T18:15:44.604139Z",
     "iopub.status.idle": "2023-11-19T18:15:44.772469Z",
     "shell.execute_reply": "2023-11-19T18:15:44.769732Z"
    }
   },
   "outputs": [
    {
     "data": {
      "text/plain": [
       "                  x           y\n",
       "      1:  1.1616760  1.24225047\n",
       "      2: -0.3534801 -0.59561248\n",
       "      3:  0.1344121 -0.02195170\n",
       "      4: -1.1196870 -0.73270225\n",
       "      5:  0.6215137  1.52650074\n",
       "     ---                       \n",
       " 999996:  0.6730188 -1.19601234\n",
       " 999997: -0.8170259 -0.74305578\n",
       " 999998: -0.1391150 -1.81516305\n",
       " 999999: -0.5025606 -0.04990997\n",
       "1000000: -0.3831413  0.92758303"
      ]
     },
     "execution_count": 4,
     "metadata": {},
     "output_type": "execute_result"
    }
   ],
   "source": [
    "DT <- data.table(\n",
    "    x = rnorm(1000000),\n",
    "    y = rnorm(1000000))\n",
    "DT"
   ]
  },
  {
   "cell_type": "code",
   "execution_count": 5,
   "metadata": {
    "execution": {
     "iopub.execute_input": "2023-11-19T18:15:44.779276Z",
     "iopub.status.busy": "2023-11-19T18:15:44.776845Z",
     "iopub.status.idle": "2023-11-19T18:15:44.795528Z",
     "shell.execute_reply": "2023-11-19T18:15:44.792763Z"
    }
   },
   "outputs": [
    {
     "data": {
      "text/plain": [
       "[1] \"data.table\" \"data.frame\""
      ]
     },
     "execution_count": 5,
     "metadata": {},
     "output_type": "execute_result"
    }
   ],
   "source": [
    "load(\"bes2010feelings.RData\")\n",
    "setDT(bes2010feelings)\n",
    "class(bes2010feelings)"
   ]
  }
 ],
 "metadata": {
  "kernelspec": {
   "display_name": "R (RKernel)",
   "language": "R",
   "name": "rkernel"
  },
  "language_info": {
   "codemirror_mode": "R",
   "file_extension": ".R",
   "mimetype": "text/x-r-source",
   "name": "R",
   "pygments_lexer": "r",
   "version": "4.3.2"
  }
 },
 "nbformat": 4,
 "nbformat_minor": 4
}
