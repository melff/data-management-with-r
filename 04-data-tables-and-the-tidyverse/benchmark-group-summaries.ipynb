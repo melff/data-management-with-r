{
 "cells": [
  {
   "cell_type": "markdown",
   "metadata": {},
   "source": [
    "# Benchmark study: Computing group summaries"
   ]
  },
  {
   "cell_type": "markdown",
   "metadata": {},
   "source": [
    "The following makes use of the packages *data.table*, *dplyr*, *memisc*, *rbenchmark*. You may need to\n",
    "install them from [CRAN](https://cran.r-project.org) using the code\n",
    "`install.packages(c(\"data.table\",\"dplyr\",\"memisc\",\"rbenchmark\"))` if you want to run this on your computer. (The packages are already installed on the notebook container, however.)"
   ]
  },
  {
   "cell_type": "code",
   "execution_count": 1,
   "metadata": {
    "execution": {
     "iopub.execute_input": "2023-11-19T18:41:18.096703Z",
     "iopub.status.busy": "2023-11-19T18:41:18.094282Z",
     "iopub.status.idle": "2023-11-19T18:41:18.170998Z",
     "shell.execute_reply": "2023-11-19T18:41:18.168218Z"
    }
   },
   "outputs": [],
   "source": [
    "library(data.table)"
   ]
  },
  {
   "cell_type": "code",
   "execution_count": 2,
   "metadata": {
    "execution": {
     "iopub.execute_input": "2023-11-19T18:41:18.204893Z",
     "iopub.status.busy": "2023-11-19T18:41:18.175273Z",
     "iopub.status.idle": "2023-11-19T18:41:18.950789Z",
     "shell.execute_reply": "2023-11-19T18:41:18.947969Z"
    }
   },
   "outputs": [
    {
     "name": "stdout",
     "output_type": "stream",
     "text": [
      "Loading required package: lattice\n",
      "Loading required package: MASS\n",
      "\n",
      "Attaching package: ‘memisc’\n",
      "\n",
      "The following objects are masked from ‘package:stats’:\n",
      "\n",
      "    contr.sum, contr.treatment, contrasts\n",
      "\n",
      "The following object is masked from ‘package:base’:\n",
      "\n",
      "    as.array\n",
      "\n"
     ]
    }
   ],
   "source": [
    "library(memisc)"
   ]
  },
  {
   "cell_type": "code",
   "execution_count": 3,
   "metadata": {
    "execution": {
     "iopub.execute_input": "2023-11-19T18:41:18.957587Z",
     "iopub.status.busy": "2023-11-19T18:41:18.955173Z",
     "iopub.status.idle": "2023-11-19T18:41:18.994802Z",
     "shell.execute_reply": "2023-11-19T18:41:18.992055Z"
    }
   },
   "outputs": [
    {
     "name": "stdout",
     "output_type": "stream",
     "text": [
      "\n",
      "Attaching package: ‘dplyr’\n",
      "\n",
      "The following objects are masked from ‘package:memisc’:\n",
      "\n",
      "    collect, recode, rename, syms\n",
      "\n",
      "The following object is masked from ‘package:MASS’:\n",
      "\n",
      "    select\n",
      "\n",
      "The following objects are masked from ‘package:data.table’:\n",
      "\n",
      "    between, first, last\n",
      "\n",
      "The following objects are masked from ‘package:stats’:\n",
      "\n",
      "    filter, lag\n",
      "\n",
      "The following objects are masked from ‘package:base’:\n",
      "\n",
      "    intersect, setdiff, setequal, union\n",
      "\n"
     ]
    }
   ],
   "source": [
    "library(dplyr)"
   ]
  },
  {
   "cell_type": "code",
   "execution_count": 4,
   "metadata": {
    "execution": {
     "iopub.execute_input": "2023-11-19T18:41:19.001637Z",
     "iopub.status.busy": "2023-11-19T18:41:18.999186Z",
     "iopub.status.idle": "2023-11-19T18:41:19.015369Z",
     "shell.execute_reply": "2023-11-19T18:41:19.012532Z"
    }
   },
   "outputs": [],
   "source": [
    "library(rbenchmark)"
   ]
  },
  {
   "cell_type": "code",
   "execution_count": 5,
   "metadata": {
    "execution": {
     "iopub.execute_input": "2023-11-19T18:41:19.022636Z",
     "iopub.status.busy": "2023-11-19T18:41:19.020056Z",
     "iopub.status.idle": "2023-11-19T18:41:21.866988Z",
     "shell.execute_reply": "2023-11-19T18:41:21.864246Z"
    }
   },
   "outputs": [],
   "source": [
    "load(\"BData.RData\")\n",
    "load(\"SData.RData\")"
   ]
  },
  {
   "cell_type": "code",
   "execution_count": 6,
   "metadata": {
    "execution": {
     "iopub.execute_input": "2023-11-19T18:41:21.873610Z",
     "iopub.status.busy": "2023-11-19T18:41:21.871278Z",
     "iopub.status.idle": "2023-11-19T18:41:40.777257Z",
     "shell.execute_reply": "2023-11-19T18:41:40.774348Z"
    }
   },
   "outputs": [],
   "source": [
    "suppressMessages(grouped_summary_benchmark_1 <- benchmark(\n",
    "    aggregate =\n",
    "        aggregate(X1~a+b,data=BDataF, FUN=mean),\n",
    "    `with + tapply` =\n",
    "        with(BDataF,tapply(X1,list(a,b),mean)),\n",
    "    data.table =\n",
    "        BDataT[,mean(X1),by=.(a,b)],\n",
    "    `group_by + summarize` =\n",
    "        BDTbl %>% group_by(a,b) %>% summarize(mean(X1)),\n",
    "    `select + group_by + summarize` =\n",
    "        BDTbl %>% select(X1,a,b) %>% group_by(a,b) %>%\n",
    "                  summarize(mean(X1)),\n",
    "    withGroups =\n",
    "        with(Groups(BDataF,~a+b),mean(X1)),\n",
    "  columns = c(\"test\",\"user.self\",\"relative\"),\n",
    "  replications = 100,\n",
    "  order = NULL,\n",
    "  relative = \"user.self\"\n",
    "))"
   ]
  },
  {
   "cell_type": "code",
   "execution_count": 7,
   "metadata": {
    "execution": {
     "iopub.execute_input": "2023-11-19T18:41:40.784273Z",
     "iopub.status.busy": "2023-11-19T18:41:40.781767Z",
     "iopub.status.idle": "2023-11-19T18:41:47.936397Z",
     "shell.execute_reply": "2023-11-19T18:41:47.933612Z"
    }
   },
   "outputs": [],
   "source": [
    "suppressMessages(grouped_summary_benchmark_2 <- benchmark(\n",
    "    aggregate =\n",
    "        aggregate(X1~a+b,data=SDataF, FUN=mean),\n",
    "    `with + tapply` =\n",
    "        with(SDataF,tapply(X1,list(a,b),mean)),\n",
    "    data.table =\n",
    "        SDataT[,mean(X1),by=.(a,b)],\n",
    "    `group_by + summarize` =\n",
    "        SDTbl %>% group_by(a,b) %>% summarize(mean(X1)),\n",
    "    `select + group_by + summarize` =\n",
    "        SDTbl %>% select(X1,a,b) %>% group_by(a,b) %>%\n",
    "                  summarize(mean(X1)),\n",
    "    withGroups =\n",
    "        with(Groups(SDataF,~a+b),mean(X1)),\n",
    "  columns = c(\"test\",\"user.self\",\"relative\"),\n",
    "  replications = 100,\n",
    "  order = NULL,\n",
    "  relative = \"user.self\"\n",
    "))"
   ]
  },
  {
   "cell_type": "code",
   "execution_count": 8,
   "metadata": {
    "execution": {
     "iopub.execute_input": "2023-11-19T18:41:47.943190Z",
     "iopub.status.busy": "2023-11-19T18:41:47.940747Z",
     "iopub.status.idle": "2023-11-19T18:41:47.950442Z",
     "shell.execute_reply": "2023-11-19T18:41:47.947812Z"
    }
   },
   "outputs": [],
   "source": [
    "save(grouped_summary_benchmark_1,\n",
    "     grouped_summary_benchmark_2,\n",
    "     file=\"grouped-summary-benchmark.RData\")"
   ]
  }
 ],
 "metadata": {
  "kernelspec": {
   "display_name": "R (RKernel)",
   "language": "R",
   "name": "rkernel"
  },
  "language_info": {
   "codemirror_mode": "R",
   "file_extension": ".R",
   "mimetype": "text/x-r-source",
   "name": "R",
   "pygments_lexer": "r",
   "version": "4.3.2"
  }
 },
 "nbformat": 4,
 "nbformat_minor": 4
}
