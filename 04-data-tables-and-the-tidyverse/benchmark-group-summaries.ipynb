{
 "cells": [
  {
   "cell_type": "markdown",
   "metadata": {},
   "source": [
    "# Benchmark study: Computing group summaries"
   ]
  },
  {
   "cell_type": "markdown",
   "metadata": {},
   "source": [
    "The following makes use of the packages *data.table*, *dplyr*, *memisc*, *rbenchmark*. You may need to\n",
    "install them from [CRAN](https://cran.r-project.org) using the code\n",
    "`install.packages(c(\"data.table\",\"dplyr\",\"memisc\",\"rbenchmark\"))` if you want to run this on your computer. (The packages are already installed on the notebook container, however.)"
   ]
  },
  {
   "cell_type": "code",
   "execution_count": null,
   "metadata": {},
   "outputs": [],
   "source": [
    "library(data.table)\n",
    "library(dplyr)\n",
    "library(memisc)\n",
    "library(rbenchmark)\n",
    "\n",
    "load(\"BData.RData\")\n",
    "load(\"SData.RData\")\n",
    "\n",
    "grouped_summary_benchmark_1 <- benchmark(\n",
    "    aggregate =\n",
    "        aggregate(X1~a+b,data=BDataF, FUN=mean),\n",
    "    `with + tapply` =\n",
    "        with(BDataF,tapply(X1,list(a,b),mean)),\n",
    "    data.table =\n",
    "        BDataT[,mean(X1),by=.(a,b)],\n",
    "    `group_by + summarize` =\n",
    "        BDTbl %>% group_by(a,b) %>% summarize(mean(X1)),\n",
    "    `select + group_by + summarize` =\n",
    "        BDTbl %>% select(X1,a,b) %>% group_by(a,b) %>%\n",
    "                  summarize(mean(X1)),\n",
    "    withGroups =\n",
    "        with(Groups(BDataF,~a+b),mean(X1)),\n",
    "  columns = c(\"test\",\"user.self\",\"relative\"),\n",
    "  replications = 100,\n",
    "  order = NULL,\n",
    "  relative = \"user.self\"\n",
    ")\n",
    "\n",
    "grouped_summary_benchmark_2 <- benchmark(\n",
    "    aggregate =\n",
    "        aggregate(X1~a+b,data=SDataF, FUN=mean),\n",
    "    `with + tapply` =\n",
    "        with(SDataF,tapply(X1,list(a,b),mean)),\n",
    "    data.table =\n",
    "        SDataT[,mean(X1),by=.(a,b)],\n",
    "    `group_by + summarize` =\n",
    "        SDTbl %>% group_by(a,b) %>% summarize(mean(X1)),\n",
    "    `select + group_by + summarize` =\n",
    "        SDTbl %>% select(X1,a,b) %>% group_by(a,b) %>%\n",
    "                  summarize(mean(X1)),\n",
    "    withGroups =\n",
    "        with(Groups(SDataF,~a+b),mean(X1)),\n",
    "  columns = c(\"test\",\"user.self\",\"relative\"),\n",
    "  replications = 100,\n",
    "  order = NULL,\n",
    "  relative = \"user.self\"\n",
    ")\n",
    "\n",
    "save(grouped_summary_benchmark_1,\n",
    "     grouped_summary_benchmark_2,\n",
    "     \"grouped-summary-benchmark.RData\")"
   ]
  }
 ],
 "metadata": {
  "kernelspec": {
   "display_name": "R",
   "language": "R",
   "name": "ir"
  },
  "language_info": {
   "codemirror_mode": "r",
   "file_extension": ".r",
   "mimetype": "text/x-r-source",
   "name": "R",
   "pygments_lexer": "r",
   "version": "4.0.5"
  }
 },
 "nbformat": 4,
 "nbformat_minor": 2
}
