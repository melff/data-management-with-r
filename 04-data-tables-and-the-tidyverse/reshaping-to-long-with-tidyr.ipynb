{
 "cells": [
  {
   "cell_type": "markdown",
   "metadata": {},
   "source": [
    "# Reshaping data to long format with *tidyr*"
   ]
  },
  {
   "cell_type": "markdown",
   "metadata": {},
   "source": [
    "The following makes use of the packages *tidyr* and *readr*. You may need to\n",
    "install them from [CRAN](https://cran.r-project.org) using the code\n",
    "`install.packages(c(\"tidyr\",\"readr\"))` if you want to run this on your computer. (The packages are already installed\n",
    "on the notebook container, however.)"
   ]
  },
  {
   "cell_type": "code",
   "execution_count": 1,
   "metadata": {
    "execution": {
     "iopub.execute_input": "2023-11-19T18:48:36.238005Z",
     "iopub.status.busy": "2023-11-19T18:48:36.235403Z",
     "iopub.status.idle": "2023-11-19T18:48:36.280734Z",
     "shell.execute_reply": "2023-11-19T18:48:36.278076Z"
    }
   },
   "outputs": [
    {
     "data": {
      "text/plain": [
       "[1] \"Data table for: Income inequality, Gini coefficien\"        \n",
       "[2] \"Location \\t 2007\\t2008\\t 2009\\t2010\\t2011\\t2012\\t2013\\t201\"\n",
       "[3] \"Australia\\t\\t\\t\\t\\t\\t0.326\\t\\t0.337\\t\\t0.330\\t\"            \n",
       "[4] \"Austria\\t0.284\\t0.281\\t0.289\\t0.280\\t0.281\\t0.275\\t0.279\\t\"\n",
       "[5] \"Belgium\\t0.277\\t0.266\\t0.272\\t0.267\\t0.270\\t0.265\\t0.265\\t\""
      ]
     },
     "execution_count": 1,
     "metadata": {},
     "output_type": "execute_result"
    }
   ],
   "source": [
    "# Inspecting the file\n",
    "substr(readLines(\"gini-oecd.tsv\",n=5),start=1,stop=50)"
   ]
  },
  {
   "cell_type": "code",
   "execution_count": 2,
   "metadata": {
    "execution": {
     "iopub.execute_input": "2023-11-19T18:48:36.314372Z",
     "iopub.status.busy": "2023-11-19T18:48:36.285376Z",
     "iopub.status.idle": "2023-11-19T18:48:36.495223Z",
     "shell.execute_reply": "2023-11-19T18:48:36.492509Z"
    }
   },
   "outputs": [],
   "source": [
    "library(readr)"
   ]
  },
  {
   "cell_type": "code",
   "execution_count": 3,
   "metadata": {
    "execution": {
     "iopub.execute_input": "2023-11-19T18:48:36.501988Z",
     "iopub.status.busy": "2023-11-19T18:48:36.499513Z",
     "iopub.status.idle": "2023-11-19T18:48:36.767415Z",
     "shell.execute_reply": "2023-11-19T18:48:36.762716Z"
    }
   },
   "outputs": [
    {
     "name": "stdout",
     "output_type": "stream",
     "text": [
      "\u001b[1mRows: \u001b[22m\u001b[34m42\u001b[39m \u001b[1mColumns: \u001b[22m\u001b[34m12\u001b[39m\u001b[36m──\u001b[39m \u001b[1mColumn specification\u001b[22m \u001b[36m────────────────────────────────────────────────────────\u001b[39m\n",
      "\u001b[1mDelimiter:\u001b[22m \"\\t\"\n",
      "\u001b[31mchr\u001b[39m  (1): Location\n",
      "\u001b[32mdbl\u001b[39m (11): 2007, 2008, 2009, 2010, 2011, 2012, 2013, 2014, 2015, 2016, 2017\n",
      "\u001b[36mℹ\u001b[39m Use `spec()` to retrieve the full column specification for this data.\n",
      "\u001b[36mℹ\u001b[39m Specify the column types or set `show_col_types = FALSE` to quiet this message."
     ]
    }
   ],
   "source": [
    "gini.oecd <- read_tsv(\"gini-oecd.tsv\",\n",
    "                      skip=1)"
   ]
  },
  {
   "cell_type": "code",
   "execution_count": 4,
   "metadata": {
    "execution": {
     "iopub.execute_input": "2023-11-19T18:48:36.774776Z",
     "iopub.status.busy": "2023-11-19T18:48:36.772344Z",
     "iopub.status.idle": "2023-11-19T18:48:36.861870Z",
     "shell.execute_reply": "2023-11-19T18:48:36.857113Z"
    }
   },
   "outputs": [
    {
     "data": {
      "text/plain": [
       "\u001b[38;5;246m# A tibble: 42 × 12\u001b[39m\n",
       "   Location       `2007` `2008` `2009` `2010` `2011` `2012` `2013` `2014` `2015`\n",
       "   \u001b[3m\u001b[38;5;246m<chr>\u001b[39m\u001b[23m           \u001b[3m\u001b[38;5;246m<dbl>\u001b[39m\u001b[23m  \u001b[3m\u001b[38;5;246m<dbl>\u001b[39m\u001b[23m  \u001b[3m\u001b[38;5;246m<dbl>\u001b[39m\u001b[23m  \u001b[3m\u001b[38;5;246m<dbl>\u001b[39m\u001b[23m  \u001b[3m\u001b[38;5;246m<dbl>\u001b[39m\u001b[23m  \u001b[3m\u001b[38;5;246m<dbl>\u001b[39m\u001b[23m  \u001b[3m\u001b[38;5;246m<dbl>\u001b[39m\u001b[23m  \u001b[3m\u001b[38;5;246m<dbl>\u001b[39m\u001b[23m  \u001b[3m\u001b[38;5;246m<dbl>\u001b[39m\u001b[23m\n",
       "\u001b[38;5;250m 1\u001b[39m Australia      \u001b[31mNA\u001b[39m     \u001b[31mNA\u001b[39m     \u001b[31mNA\u001b[39m     \u001b[31mNA\u001b[39m     \u001b[31mNA\u001b[39m      0.326 \u001b[31mNA\u001b[39m      0.337 \u001b[31mNA\u001b[39m    \n",
       "\u001b[38;5;250m 2\u001b[39m Austria         0.284  0.281  0.289  0.28   0.281  0.275  0.279  0.274  0.276\n",
       "\u001b[38;5;250m 3\u001b[39m Belgium         0.277  0.266  0.272  0.267  0.27   0.265  0.265  0.266  0.268\n",
       "\u001b[38;5;250m 4\u001b[39m Brazil         \u001b[31mNA\u001b[39m     \u001b[31mNA\u001b[39m      0.485 \u001b[31mNA\u001b[39m      0.483 \u001b[31mNA\u001b[39m      0.47  \u001b[31mNA\u001b[39m     \u001b[31mNA\u001b[39m    \n",
       "\u001b[38;5;250m 5\u001b[39m Canada          0.317  0.315  0.316  0.316  0.313  0.317  0.32   0.313  0.318\n",
       "\u001b[38;5;250m 6\u001b[39m Chile          \u001b[31mNA\u001b[39m     \u001b[31mNA\u001b[39m      0.48  \u001b[31mNA\u001b[39m      0.471 \u001b[31mNA\u001b[39m      0.465 \u001b[31mNA\u001b[39m      0.454\n",
       "\u001b[38;5;250m 7\u001b[39m China (People… \u001b[31mNA\u001b[39m     \u001b[31mNA\u001b[39m     \u001b[31mNA\u001b[39m     \u001b[31mNA\u001b[39m      0.514 \u001b[31mNA\u001b[39m     \u001b[31mNA\u001b[39m     \u001b[31mNA\u001b[39m     \u001b[31mNA\u001b[39m    \n",
       "\u001b[38;5;250m 8\u001b[39m Costa Rica     \u001b[31mNA\u001b[39m     \u001b[31mNA\u001b[39m     \u001b[31mNA\u001b[39m      0.472  0.48   0.483  0.494  0.485  0.479\n",
       "\u001b[38;5;250m 9\u001b[39m Czech Republic  0.256  0.259  0.257  0.259  0.257  0.253  0.259  0.257  0.258\n",
       "\u001b[38;5;250m10\u001b[39m Denmark        \u001b[31mNA\u001b[39m     \u001b[31mNA\u001b[39m     \u001b[31mNA\u001b[39m     \u001b[31mNA\u001b[39m      0.251  0.249  0.254  0.256  0.263\n",
       "\u001b[38;5;246m# ℹ 32 more rows\u001b[39m\n",
       "\u001b[38;5;246m# ℹ 2 more variables: `2016` <dbl>, `2017` <dbl>\u001b[39m"
      ]
     },
     "execution_count": 4,
     "metadata": {},
     "output_type": "execute_result"
    }
   ],
   "source": [
    "gini.oecd"
   ]
  },
  {
   "cell_type": "code",
   "execution_count": 5,
   "metadata": {
    "execution": {
     "iopub.execute_input": "2023-11-19T18:48:36.874140Z",
     "iopub.status.busy": "2023-11-19T18:48:36.869346Z",
     "iopub.status.idle": "2023-11-19T18:48:37.004056Z",
     "shell.execute_reply": "2023-11-19T18:48:37.001251Z"
    }
   },
   "outputs": [],
   "source": [
    "library(tidyr)"
   ]
  },
  {
   "cell_type": "code",
   "execution_count": 6,
   "metadata": {
    "execution": {
     "iopub.execute_input": "2023-11-19T18:48:37.011418Z",
     "iopub.status.busy": "2023-11-19T18:48:37.009013Z",
     "iopub.status.idle": "2023-11-19T18:48:37.067354Z",
     "shell.execute_reply": "2023-11-19T18:48:37.062611Z"
    }
   },
   "outputs": [
    {
     "data": {
      "text/plain": [
       "\u001b[38;5;246m# A tibble: 462 × 3\u001b[39m\n",
       "   Location                     year    gini\n",
       "   \u001b[3m\u001b[38;5;246m<chr>\u001b[39m\u001b[23m                        \u001b[3m\u001b[38;5;246m<chr>\u001b[39m\u001b[23m  \u001b[3m\u001b[38;5;246m<dbl>\u001b[39m\u001b[23m\n",
       "\u001b[38;5;250m 1\u001b[39m Australia                    2007  \u001b[31mNA\u001b[39m    \n",
       "\u001b[38;5;250m 2\u001b[39m Austria                      2007   0.284\n",
       "\u001b[38;5;250m 3\u001b[39m Belgium                      2007   0.277\n",
       "\u001b[38;5;250m 4\u001b[39m Brazil                       2007  \u001b[31mNA\u001b[39m    \n",
       "\u001b[38;5;250m 5\u001b[39m Canada                       2007   0.317\n",
       "\u001b[38;5;250m 6\u001b[39m Chile                        2007  \u001b[31mNA\u001b[39m    \n",
       "\u001b[38;5;250m 7\u001b[39m China (People's Republic of) 2007  \u001b[31mNA\u001b[39m    \n",
       "\u001b[38;5;250m 8\u001b[39m Costa Rica                   2007  \u001b[31mNA\u001b[39m    \n",
       "\u001b[38;5;250m 9\u001b[39m Czech Republic               2007   0.256\n",
       "\u001b[38;5;250m10\u001b[39m Denmark                      2007  \u001b[31mNA\u001b[39m    \n",
       "\u001b[38;5;246m# ℹ 452 more rows\u001b[39m"
      ]
     },
     "execution_count": 6,
     "metadata": {},
     "output_type": "execute_result"
    }
   ],
   "source": [
    "gini.oecd %>% gather(`2007`,`2008`,`2009`,`2010`,`2011`,`2012`,\n",
    "                      `2013`,`2014`,`2015`,`2016`,`2017`,\n",
    "                      key=\"year\",value=\"gini\") -> gini.oecd.long\n",
    "gini.oecd.long"
   ]
  },
  {
   "cell_type": "code",
   "execution_count": 7,
   "metadata": {
    "execution": {
     "iopub.execute_input": "2023-11-19T18:48:37.075361Z",
     "iopub.status.busy": "2023-11-19T18:48:37.072862Z",
     "iopub.status.idle": "2023-11-19T18:48:37.115052Z",
     "shell.execute_reply": "2023-11-19T18:48:37.109863Z"
    }
   },
   "outputs": [
    {
     "data": {
      "text/plain": [
       "\u001b[38;5;246m# A tibble: 462 × 3\u001b[39m\n",
       "   Location                     year    gini\n",
       "   \u001b[3m\u001b[38;5;246m<chr>\u001b[39m\u001b[23m                        \u001b[3m\u001b[38;5;246m<chr>\u001b[39m\u001b[23m  \u001b[3m\u001b[38;5;246m<dbl>\u001b[39m\u001b[23m\n",
       "\u001b[38;5;250m 1\u001b[39m Australia                    2007  \u001b[31mNA\u001b[39m    \n",
       "\u001b[38;5;250m 2\u001b[39m Austria                      2007   0.284\n",
       "\u001b[38;5;250m 3\u001b[39m Belgium                      2007   0.277\n",
       "\u001b[38;5;250m 4\u001b[39m Brazil                       2007  \u001b[31mNA\u001b[39m    \n",
       "\u001b[38;5;250m 5\u001b[39m Canada                       2007   0.317\n",
       "\u001b[38;5;250m 6\u001b[39m Chile                        2007  \u001b[31mNA\u001b[39m    \n",
       "\u001b[38;5;250m 7\u001b[39m China (People's Republic of) 2007  \u001b[31mNA\u001b[39m    \n",
       "\u001b[38;5;250m 8\u001b[39m Costa Rica                   2007  \u001b[31mNA\u001b[39m    \n",
       "\u001b[38;5;250m 9\u001b[39m Czech Republic               2007   0.256\n",
       "\u001b[38;5;250m10\u001b[39m Denmark                      2007  \u001b[31mNA\u001b[39m    \n",
       "\u001b[38;5;246m# ℹ 452 more rows\u001b[39m"
      ]
     },
     "execution_count": 7,
     "metadata": {},
     "output_type": "execute_result"
    }
   ],
   "source": [
    "gini.oecd %>% gather(-Location,\n",
    "                      key=\"year\",value=\"gini\") -> gini.oecd.long\n",
    "gini.oecd.long"
   ]
  },
  {
   "cell_type": "code",
   "execution_count": 8,
   "metadata": {
    "execution": {
     "iopub.execute_input": "2023-11-19T18:48:37.126130Z",
     "iopub.status.busy": "2023-11-19T18:48:37.121909Z",
     "iopub.status.idle": "2023-11-19T18:48:37.173367Z",
     "shell.execute_reply": "2023-11-19T18:48:37.169102Z"
    }
   },
   "outputs": [
    {
     "data": {
      "text/plain": [
       "\u001b[38;5;246m# A tibble: 462 × 3\u001b[39m\n",
       "   Location  year    gini\n",
       "   \u001b[3m\u001b[38;5;246m<chr>\u001b[39m\u001b[23m     \u001b[3m\u001b[38;5;246m<chr>\u001b[39m\u001b[23m  \u001b[3m\u001b[38;5;246m<dbl>\u001b[39m\u001b[23m\n",
       "\u001b[38;5;250m 1\u001b[39m Australia 2007  \u001b[31mNA\u001b[39m    \n",
       "\u001b[38;5;250m 2\u001b[39m Australia 2008  \u001b[31mNA\u001b[39m    \n",
       "\u001b[38;5;250m 3\u001b[39m Australia 2009  \u001b[31mNA\u001b[39m    \n",
       "\u001b[38;5;250m 4\u001b[39m Australia 2010  \u001b[31mNA\u001b[39m    \n",
       "\u001b[38;5;250m 5\u001b[39m Australia 2011  \u001b[31mNA\u001b[39m    \n",
       "\u001b[38;5;250m 6\u001b[39m Australia 2012   0.326\n",
       "\u001b[38;5;250m 7\u001b[39m Australia 2013  \u001b[31mNA\u001b[39m    \n",
       "\u001b[38;5;250m 8\u001b[39m Australia 2014   0.337\n",
       "\u001b[38;5;250m 9\u001b[39m Australia 2015  \u001b[31mNA\u001b[39m    \n",
       "\u001b[38;5;250m10\u001b[39m Australia 2016   0.33 \n",
       "\u001b[38;5;246m# ℹ 452 more rows\u001b[39m"
      ]
     },
     "execution_count": 8,
     "metadata": {},
     "output_type": "execute_result"
    }
   ],
   "source": [
    "gini.oecd %>% pivot_longer(-Location,\n",
    "                           names_to=\"year\",\n",
    "                           values_to=\"gini\") -> gini.oecd.long\n",
    "gini.oecd.long"
   ]
  }
 ],
 "metadata": {
  "kernelspec": {
   "display_name": "R (RKernel)",
   "language": "R",
   "name": "rkernel"
  },
  "language_info": {
   "codemirror_mode": "R",
   "file_extension": ".R",
   "mimetype": "text/x-r-source",
   "name": "R",
   "pygments_lexer": "r",
   "version": "4.3.2"
  }
 },
 "nbformat": 4,
 "nbformat_minor": 4
}
