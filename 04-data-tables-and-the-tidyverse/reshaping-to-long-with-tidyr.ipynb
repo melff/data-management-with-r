{
 "cells": [
  {
   "cell_type": "markdown",
   "metadata": {},
   "source": [
    "# Reshaping data to long format with *tidyr*"
   ]
  },
  {
   "cell_type": "markdown",
   "metadata": {},
   "source": [
    "The following makes use of the packages *tidyr* and *readr*. You may need to\n",
    "install them from [CRAN](https://cran.r-project.org) using the code\n",
    "`install.packages(c(\"tidyr\",\"readr\"))` if you want to run this on your computer. (The packages are already installed\n",
    "on the notebook container, however.)"
   ]
  },
  {
   "cell_type": "code",
   "execution_count": null,
   "metadata": {},
   "outputs": [],
   "source": [
    "# Inspecting the file\n",
    "substr(readLines(\"gini-oecd.tsv\",n=5),start=1,stop=50)"
   ]
  },
  {
   "cell_type": "code",
   "execution_count": null,
   "metadata": {},
   "outputs": [],
   "source": [
    "library(readr)"
   ]
  },
  {
   "cell_type": "code",
   "execution_count": null,
   "metadata": {},
   "outputs": [],
   "source": [
    "gini.oecd <- read_tsv(\"gini-oecd.tsv\",\n",
    "                      skip=1)"
   ]
  },
  {
   "cell_type": "code",
   "execution_count": null,
   "metadata": {},
   "outputs": [],
   "source": [
    "gini.oecd"
   ]
  },
  {
   "cell_type": "code",
   "execution_count": null,
   "metadata": {},
   "outputs": [],
   "source": [
    "library(tidyr)"
   ]
  },
  {
   "cell_type": "code",
   "execution_count": null,
   "metadata": {},
   "outputs": [],
   "source": [
    "gini.oecd %>% gather(`2007`,`2008`,`2009`,`2010`,`2011`,`2012`,\n",
    "                      `2013`,`2014`,`2015`,`2016`,`2017`,\n",
    "                      key=\"year\",value=\"gini\") -> gini.oecd.long\n",
    "gini.oecd.long"
   ]
  },
  {
   "cell_type": "code",
   "execution_count": null,
   "metadata": {},
   "outputs": [],
   "source": [
    "gini.oecd %>% gather(-Location,\n",
    "                      key=\"year\",value=\"gini\") -> gini.oecd.long\n",
    "gini.oecd.long"
   ]
  },
  {
   "cell_type": "code",
   "execution_count": null,
   "metadata": {},
   "outputs": [],
   "source": [
    "gini.oecd %>% pivot_longer(-Location,\n",
    "                           names_to=\"year\",\n",
    "                           values_to=\"gini\") -> gini.oecd.long\n",
    "gini.oecd.long"
   ]
  }
 ],
 "metadata": {
  "kernelspec": {
   "display_name": "R",
   "language": "R",
   "name": "ir"
  },
  "language_info": {
   "codemirror_mode": "r",
   "file_extension": ".r",
   "mimetype": "text/x-r-source",
   "name": "R",
   "pygments_lexer": "r",
   "version": "4.0.5"
  }
 },
 "nbformat": 4,
 "nbformat_minor": 4
}
