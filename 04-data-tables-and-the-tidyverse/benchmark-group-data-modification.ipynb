{
 "cells": [
  {
   "cell_type": "markdown",
   "metadata": {},
   "source": [
    "# Benchmark study: Modifying data within groups"
   ]
  },
  {
   "cell_type": "markdown",
   "metadata": {},
   "source": [
    "The following makes use of the packages *data.table*, *dplyr*, *memisc*, *rbenchmark*. You may need to\n",
    "install them from [CRAN](https://cran.r-project.org) using the code\n",
    "`install.packages(c(\"data.table\",\"dplyr\",\"memisc\",\"rbenchmark\"))` if you want to run this on your computer. (The packages are already installed on the notebook container, however.)"
   ]
  },
  {
   "cell_type": "code",
   "execution_count": 1,
   "metadata": {
    "execution": {
     "iopub.execute_input": "2023-11-19T18:42:52.828466Z",
     "iopub.status.busy": "2023-11-19T18:42:52.826093Z",
     "iopub.status.idle": "2023-11-19T18:42:52.902215Z",
     "shell.execute_reply": "2023-11-19T18:42:52.899523Z"
    }
   },
   "outputs": [],
   "source": [
    "library(data.table)"
   ]
  },
  {
   "cell_type": "code",
   "execution_count": 2,
   "metadata": {
    "execution": {
     "iopub.execute_input": "2023-11-19T18:42:52.934477Z",
     "iopub.status.busy": "2023-11-19T18:42:52.906522Z",
     "iopub.status.idle": "2023-11-19T18:42:53.672401Z",
     "shell.execute_reply": "2023-11-19T18:42:53.669354Z"
    }
   },
   "outputs": [
    {
     "name": "stdout",
     "output_type": "stream",
     "text": [
      "Loading required package: lattice\n",
      "Loading required package: MASS\n",
      "\n",
      "Attaching package: ‘memisc’\n",
      "\n",
      "The following objects are masked from ‘package:stats’:\n",
      "\n",
      "    contr.sum, contr.treatment, contrasts\n",
      "\n",
      "The following object is masked from ‘package:base’:\n",
      "\n",
      "    as.array\n",
      "\n"
     ]
    }
   ],
   "source": [
    "library(memisc)"
   ]
  },
  {
   "cell_type": "code",
   "execution_count": 3,
   "metadata": {
    "execution": {
     "iopub.execute_input": "2023-11-19T18:42:53.679168Z",
     "iopub.status.busy": "2023-11-19T18:42:53.676777Z",
     "iopub.status.idle": "2023-11-19T18:42:53.716305Z",
     "shell.execute_reply": "2023-11-19T18:42:53.709112Z"
    }
   },
   "outputs": [
    {
     "name": "stdout",
     "output_type": "stream",
     "text": [
      "\n",
      "Attaching package: ‘dplyr’\n",
      "\n",
      "The following objects are masked from ‘package:memisc’:\n",
      "\n",
      "    collect, recode, rename, syms\n",
      "\n",
      "The following object is masked from ‘package:MASS’:\n",
      "\n",
      "    select\n",
      "\n",
      "The following objects are masked from ‘package:data.table’:\n",
      "\n",
      "    between, first, last\n",
      "\n",
      "The following objects are masked from ‘package:stats’:\n",
      "\n",
      "    filter, lag\n",
      "\n",
      "The following objects are masked from ‘package:base’:\n",
      "\n",
      "    intersect, setdiff, setequal, union\n",
      "\n"
     ]
    }
   ],
   "source": [
    "library(dplyr)"
   ]
  },
  {
   "cell_type": "code",
   "execution_count": 4,
   "metadata": {
    "execution": {
     "iopub.execute_input": "2023-11-19T18:42:53.723138Z",
     "iopub.status.busy": "2023-11-19T18:42:53.720651Z",
     "iopub.status.idle": "2023-11-19T18:42:53.736684Z",
     "shell.execute_reply": "2023-11-19T18:42:53.733921Z"
    }
   },
   "outputs": [],
   "source": [
    "library(rbenchmark)"
   ]
  },
  {
   "cell_type": "code",
   "execution_count": 5,
   "metadata": {
    "execution": {
     "iopub.execute_input": "2023-11-19T18:42:53.743509Z",
     "iopub.status.busy": "2023-11-19T18:42:53.741083Z",
     "iopub.status.idle": "2023-11-19T18:42:56.591565Z",
     "shell.execute_reply": "2023-11-19T18:42:56.588543Z"
    }
   },
   "outputs": [],
   "source": [
    "load(\"BData.RData\")\n",
    "load(\"SData.RData\")"
   ]
  },
  {
   "cell_type": "code",
   "execution_count": 6,
   "metadata": {
    "execution": {
     "iopub.execute_input": "2023-11-19T18:42:56.598001Z",
     "iopub.status.busy": "2023-11-19T18:42:56.595657Z",
     "iopub.status.idle": "2023-11-19T18:43:12.318674Z",
     "shell.execute_reply": "2023-11-19T18:43:12.315842Z"
    }
   },
   "outputs": [],
   "source": [
    "grouped_modification_benchmark_1 <- benchmark(\n",
    "    within =\n",
    "        within(BDataF,{\n",
    "            X1c <- X1 - ave(X1, a,b,FUN = mean)\n",
    "            X2c2 <- (X2 - ave(X2, a,b,FUN = mean))^2\n",
    "            X3ca <- abs(X3 - ave(X3,a,b,FUN = median))\n",
    "            X4cm <- X4 - ave(X4,a,b,FUN = max)\n",
    "        }),\n",
    "    data.table =\n",
    "        BDataT[,`:=`(X1c = X1 - mean(X1),\n",
    "                     X2c2 = (X2 - mean(X2))^2,\n",
    "                     X3ca = abs(X3 - median(X3)),\n",
    "                     X4cm = X4 - max(X4)),\n",
    "               by = .(a,b)],\n",
    "    `group_by + mutate` =\n",
    "        BDTbl %>% group_by(a,b) %>%\n",
    "        mutate(X1c = X1 - mean(X1),\n",
    "               X2c2 = (X2 - mean(X2))^2,\n",
    "               X3ca = abs(X3 - median(X3)),\n",
    "               X4cm = X4 - max(X4)),\n",
    "    withinGroups =\n",
    "        withinGroups(BDataF, ~a+b, {\n",
    "            X1c <- X1 - mean(X1)\n",
    "            X2c2 <- (X2 - mean(X2))^2\n",
    "            X3ca <- abs(X3 - median(X3))\n",
    "            X4cm <- X4 - max(X4)\n",
    "        }),\n",
    "    columns = c(\"test\",\"user.self\",\"relative\"),\n",
    "    replications = 100,\n",
    "    order = NULL,\n",
    "    relative = \"user.self\"\n",
    ")"
   ]
  },
  {
   "cell_type": "code",
   "execution_count": 7,
   "metadata": {
    "execution": {
     "iopub.execute_input": "2023-11-19T18:43:12.325789Z",
     "iopub.status.busy": "2023-11-19T18:43:12.323303Z",
     "iopub.status.idle": "2023-11-19T18:43:20.435865Z",
     "shell.execute_reply": "2023-11-19T18:43:20.432904Z"
    }
   },
   "outputs": [],
   "source": [
    "grouped_modification_benchmark_2 <- benchmark(\n",
    "    within =\n",
    "        within(SDataF,{\n",
    "            X1c <- X1 - ave(X1, a,b,FUN = mean)\n",
    "            X2c2 <- (X2 - ave(X2, a,b,FUN = mean))^2\n",
    "            X3ca <- abs(X3 - ave(X3,a,b,FUN = median))\n",
    "            X4cm <- X4 - ave(X4,a,b,FUN = max)\n",
    "        }),\n",
    "    data.table =\n",
    "        SDataT[,`:=`(X1c = X1 - mean(X1),\n",
    "                     X2c2 = (X2 - mean(X2))^2,\n",
    "                     X3ca = abs(X3 - median(X3)),\n",
    "                     X4cm = X4 - max(X4)),\n",
    "               by = .(a,b)],\n",
    "    `group_by + mutate` =\n",
    "        SDTbl %>% group_by(a,b) %>%\n",
    "        mutate(X1c = X1 - mean(X1),\n",
    "               X2c2 = (X2 - mean(X2))^2,\n",
    "               X3ca = abs(X3 - median(X3)),\n",
    "               X4cm = X4 - max(X4)),\n",
    "    withinGroups =\n",
    "        withinGroups(SDataF, ~a+b, {\n",
    "            X1c <- X1 - mean(X1)\n",
    "            X2c2 <- (X2 - mean(X2))^2\n",
    "            X3ca <- abs(X3 - median(X3))\n",
    "            X4cm <- X4 - max(X4)\n",
    "        }),\n",
    "    columns = c(\"test\",\"user.self\",\"relative\"),\n",
    "    replications = 100,\n",
    "    order = NULL,\n",
    "    relative = \"user.self\"\n",
    ")"
   ]
  },
  {
   "cell_type": "code",
   "execution_count": 8,
   "metadata": {
    "execution": {
     "iopub.execute_input": "2023-11-19T18:43:20.442966Z",
     "iopub.status.busy": "2023-11-19T18:43:20.440383Z",
     "iopub.status.idle": "2023-11-19T18:43:20.454039Z",
     "shell.execute_reply": "2023-11-19T18:43:20.451365Z"
    }
   },
   "outputs": [],
   "source": [
    "save(grouped_modification_benchmark_1,\n",
    "     grouped_modification_benchmark_2,\n",
    "     file=\"grouped-modification-benchmark.RData\")"
   ]
  }
 ],
 "metadata": {
  "kernelspec": {
   "display_name": "R (RKernel)",
   "language": "R",
   "name": "rkernel"
  },
  "language_info": {
   "codemirror_mode": "R",
   "file_extension": ".R",
   "mimetype": "text/x-r-source",
   "name": "R",
   "pygments_lexer": "r",
   "version": "4.3.2"
  }
 },
 "nbformat": 4,
 "nbformat_minor": 4
}
