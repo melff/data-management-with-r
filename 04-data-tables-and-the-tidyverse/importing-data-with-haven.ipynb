{
 "cells": [
  {
   "cell_type": "markdown",
   "metadata": {},
   "source": [
    "# Importing data with the *haven* package "
   ]
  },
  {
   "cell_type": "markdown",
   "metadata": {},
   "source": [
    "The following makes use of the  *haven* package. You may need to install it from [CRAN](https://cran.r-project.org) using the code `install.packages(\"haven\")` if you want to run this on your computer. (The package is already installed on the notebook container, however.)\n",
    "\n",
    "This notebook makes use of the following files:\n",
    "\n",
    "- [ConstituencyResults2010.sav](https://raw.githubusercontent.com/melff/dataman-r/main/03-data-frames/ConstituencyResults2010.sav)\n",
    "- [ConstituencyResults2010.por](https://raw.githubusercontent.com/melff/dataman-r/main/03-data-frames/ConstituencyResults2010.por)\n",
    "- [ConstituencyResults2010.dta](https://raw.githubusercontent.com/melff/dataman-r/main/03-data-frames/ConstituencyResults2010.dta)\n",
    "- [ConstituencyResults2010-stata-new.dta](https://raw.githubusercontent.com/melff/dataman-r/main/03-data-frames/ConstResults2010-stata-new.dta)\n",
    "\n",
    "Currently, these Data files are also available from https://www.pippanorris.com/data.\n",
    "(Previously they were available from http://www.hks.harvard.edu/fs/pnorris/Data/Data.htm.) "
   ]
  },
  {
   "cell_type": "code",
   "execution_count": null,
   "metadata": {},
   "outputs": [],
   "source": [
    "library(haven)"
   ]
  },
  {
   "cell_type": "code",
   "execution_count": null,
   "metadata": {},
   "outputs": [],
   "source": [
    "# Reading in an SPSS \"system\" file\n",
    "ConstRes2010 <- read_sav(\"ConstituencyResults2010.sav\")\n",
    "head(ConstRes2010)"
   ]
  },
  {
   "cell_type": "code",
   "execution_count": null,
   "metadata": {},
   "outputs": [],
   "source": [
    "# Reading in an SPSS \"portable\" file \n",
    "ConstRes2010 <- read_por(\"ConstituencyResults2010.por\") # This works with 'foreign', but not with 'haven'\n",
    "head(ConstRes2010)"
   ]
  },
  {
   "cell_type": "code",
   "execution_count": null,
   "metadata": {},
   "outputs": [],
   "source": [
    "# Reading in a Stata file\n",
    "ConstRes2010 <- read_dta(\"ConstituencyResults2010.dta\")\n",
    "head(ConstRes2010)"
   ]
  },
  {
   "cell_type": "code",
   "execution_count": null,
   "metadata": {},
   "outputs": [],
   "source": [
    "# Reading in a new format Stata file\n",
    "ConstRes2010 <- read_dta(\"ConstResults2010-stata-new.dta\")\n",
    "head(ConstRes2010)"
   ]
  }
 ],
 "metadata": {
  "kernelspec": {
   "display_name": "R",
   "language": "R",
   "name": "ir"
  },
  "language_info": {
   "codemirror_mode": "r",
   "file_extension": ".r",
   "mimetype": "text/x-r-source",
   "name": "R",
   "pygments_lexer": "r",
   "version": "4.0.5"
  }
 },
 "nbformat": 4,
 "nbformat_minor": 4
}
