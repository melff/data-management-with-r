{
 "cells": [
  {
   "cell_type": "markdown",
   "metadata": {},
   "source": [
    "# Importing data with the *haven* package "
   ]
  },
  {
   "cell_type": "markdown",
   "metadata": {},
   "source": [
    "The following makes use of the  *haven* package. You may need to install it from [CRAN](https://cran.r-project.org) using the code `install.packages(\"haven\")` if you want to run this on your computer. (The package is already installed on the notebook container, however.)\n",
    "\n",
    "This notebook makes use of the following files:\n",
    "\n",
    "- [ConstituencyResults2010.sav](https://raw.githubusercontent.com/melff/dataman-r/main/03-data-frames/ConstituencyResults2010.sav)\n",
    "- [ConstituencyResults2010.por](https://raw.githubusercontent.com/melff/dataman-r/main/03-data-frames/ConstituencyResults2010.por)\n",
    "- [ConstituencyResults2010.dta](https://raw.githubusercontent.com/melff/dataman-r/main/03-data-frames/ConstituencyResults2010.dta)\n",
    "- [ConstituencyResults2010-stata-new.dta](https://raw.githubusercontent.com/melff/dataman-r/main/03-data-frames/ConstResults2010-stata-new.dta)\n",
    "\n",
    "Currently, these Data files are also available from https://www.pippanorris.com/data.\n",
    "(Previously they were available from http://www.hks.harvard.edu/fs/pnorris/Data/Data.htm.) "
   ]
  },
  {
   "cell_type": "code",
   "execution_count": 1,
   "metadata": {
    "execution": {
     "iopub.execute_input": "2023-11-19T18:21:11.245581Z",
     "iopub.status.busy": "2023-11-19T18:21:11.243125Z",
     "iopub.status.idle": "2023-11-19T18:21:11.344610Z",
     "shell.execute_reply": "2023-11-19T18:21:11.341586Z"
    }
   },
   "outputs": [],
   "source": [
    "library(haven)"
   ]
  },
  {
   "cell_type": "code",
   "execution_count": 2,
   "metadata": {
    "execution": {
     "iopub.execute_input": "2023-11-19T18:21:11.379985Z",
     "iopub.status.busy": "2023-11-19T18:21:11.349012Z",
     "iopub.status.idle": "2023-11-19T18:21:11.593732Z",
     "shell.execute_reply": "2023-11-19T18:21:11.590841Z"
    }
   },
   "outputs": [
    {
     "data": {
      "text/plain": [
       "\u001b[38;5;246m# A tibble: 6 × 9\u001b[39m\n",
       "  refno  cons   lab libdem   snp plcym green   bnp  ukip\n",
       "  \u001b[3m\u001b[38;5;246m<dbl>\u001b[39m\u001b[23m \u001b[3m\u001b[38;5;246m<dbl>\u001b[39m\u001b[23m \u001b[3m\u001b[38;5;246m<dbl>\u001b[39m\u001b[23m  \u001b[3m\u001b[38;5;246m<dbl>\u001b[39m\u001b[23m \u001b[3m\u001b[38;5;246m<dbl>\u001b[39m\u001b[23m \u001b[3m\u001b[38;5;246m<dbl>\u001b[39m\u001b[23m \u001b[3m\u001b[38;5;246m<dbl>\u001b[39m\u001b[23m \u001b[3m\u001b[38;5;246m<dbl>\u001b[39m\u001b[23m \u001b[3m\u001b[38;5;246m<dbl>\u001b[39m\u001b[23m\n",
       "\u001b[38;5;250m1\u001b[39m     1  14.3  51.9   16.3  \u001b[31mNA\u001b[39m     7.1    \u001b[31mNA\u001b[39m   4.1   1.6\n",
       "\u001b[38;5;250m2\u001b[39m     2  35.8  24.5   19.3  \u001b[31mNA\u001b[39m    17.8    \u001b[31mNA\u001b[39m  \u001b[31mNA\u001b[39m     2.1\n",
       "\u001b[38;5;250m3\u001b[39m     3  12.4  44.4   18.6  22.2  \u001b[31mNA\u001b[39m      \u001b[31mNA\u001b[39m   1.7  \u001b[31mNA\u001b[39m  \n",
       "\u001b[38;5;250m4\u001b[39m     4  20.7  36.5   28.4  11.9  \u001b[31mNA\u001b[39m       1   1.2  \u001b[31mNA\u001b[39m  \n",
       "\u001b[38;5;250m5\u001b[39m     5  30.3  13.6   38.4  15.7  \u001b[31mNA\u001b[39m      \u001b[31mNA\u001b[39m   1.1   0.9\n",
       "\u001b[38;5;250m6\u001b[39m     6   8.7  58.2    8.1  23.6  \u001b[31mNA\u001b[39m      \u001b[31mNA\u001b[39m  \u001b[31mNA\u001b[39m    \u001b[31mNA\u001b[39m  "
      ]
     },
     "execution_count": 2,
     "metadata": {},
     "output_type": "execute_result"
    }
   ],
   "source": [
    "# Reading in an SPSS \"system\" file\n",
    "ConstRes2010 <- read_sav(\"ConstituencyResults2010.sav\")\n",
    "head(ConstRes2010)"
   ]
  },
  {
   "cell_type": "code",
   "execution_count": 3,
   "metadata": {
    "execution": {
     "iopub.execute_input": "2023-11-19T18:21:11.600839Z",
     "iopub.status.busy": "2023-11-19T18:21:11.598361Z",
     "iopub.status.idle": "2023-11-19T18:21:11.616785Z",
     "shell.execute_reply": "2023-11-19T18:21:11.613865Z"
    }
   },
   "outputs": [
    {
     "name": "stderr",
     "output_type": "stream",
     "text": [
      "Error:\n",
      "Failed to parse /home/elff/docker/dataman-r/notebooks/04-data-tables-and-the-tidyverse/ConstituencyResults2010.por: Invalid file, or file has unsupported features.\n"
     ]
    },
    {
     "name": "stdout",
     "output_type": "stream",
     "text": [
      "Read bytes: 0   String: ⁸/  Ending state: 0\n",
      "Error parsing double string (length=4): ⁸/ [8/^h�U]\n"
     ]
    }
   ],
   "source": [
    "# Reading in an SPSS \"portable\" file \n",
    "ConstRes2010 <- read_por(\"ConstituencyResults2010.por\") # This works with 'foreign', but not with 'haven'"
   ]
  },
  {
   "cell_type": "code",
   "execution_count": 4,
   "metadata": {
    "execution": {
     "iopub.execute_input": "2023-11-19T18:21:11.624501Z",
     "iopub.status.busy": "2023-11-19T18:21:11.621634Z",
     "iopub.status.idle": "2023-11-19T18:21:11.677536Z",
     "shell.execute_reply": "2023-11-19T18:21:11.674729Z"
    }
   },
   "outputs": [
    {
     "data": {
      "text/plain": [
       "\u001b[38;5;246m# A tibble: 6 × 9\u001b[39m\n",
       "  refno  cons   lab libdem   snp plcym green   bnp  ukip\n",
       "  \u001b[3m\u001b[38;5;246m<dbl>\u001b[39m\u001b[23m \u001b[3m\u001b[38;5;246m<dbl>\u001b[39m\u001b[23m \u001b[3m\u001b[38;5;246m<dbl>\u001b[39m\u001b[23m  \u001b[3m\u001b[38;5;246m<dbl>\u001b[39m\u001b[23m \u001b[3m\u001b[38;5;246m<dbl>\u001b[39m\u001b[23m \u001b[3m\u001b[38;5;246m<dbl>\u001b[39m\u001b[23m \u001b[3m\u001b[38;5;246m<dbl>\u001b[39m\u001b[23m \u001b[3m\u001b[38;5;246m<dbl>\u001b[39m\u001b[23m \u001b[3m\u001b[38;5;246m<dbl>\u001b[39m\u001b[23m\n",
       "\u001b[38;5;250m1\u001b[39m     1  14.3  51.9   16.3  \u001b[31mNA\u001b[39m     7.1    \u001b[31mNA\u001b[39m   4.1   1.6\n",
       "\u001b[38;5;250m2\u001b[39m     2  35.8  24.5   19.3  \u001b[31mNA\u001b[39m    17.8    \u001b[31mNA\u001b[39m  \u001b[31mNA\u001b[39m     2.1\n",
       "\u001b[38;5;250m3\u001b[39m     3  12.4  44.4   18.6  22.2  \u001b[31mNA\u001b[39m      \u001b[31mNA\u001b[39m   1.7  \u001b[31mNA\u001b[39m  \n",
       "\u001b[38;5;250m4\u001b[39m     4  20.7  36.5   28.4  11.9  \u001b[31mNA\u001b[39m       1   1.2  \u001b[31mNA\u001b[39m  \n",
       "\u001b[38;5;250m5\u001b[39m     5  30.3  13.6   38.4  15.7  \u001b[31mNA\u001b[39m      \u001b[31mNA\u001b[39m   1.1   0.9\n",
       "\u001b[38;5;250m6\u001b[39m     6   8.7  58.2    8.1  23.6  \u001b[31mNA\u001b[39m      \u001b[31mNA\u001b[39m  \u001b[31mNA\u001b[39m    \u001b[31mNA\u001b[39m  "
      ]
     },
     "execution_count": 4,
     "metadata": {},
     "output_type": "execute_result"
    }
   ],
   "source": [
    "# Reading in a Stata file\n",
    "ConstRes2010 <- read_dta(\"ConstituencyResults2010.dta\")\n",
    "head(ConstRes2010)"
   ]
  },
  {
   "cell_type": "code",
   "execution_count": 5,
   "metadata": {
    "execution": {
     "iopub.execute_input": "2023-11-19T18:21:11.684783Z",
     "iopub.status.busy": "2023-11-19T18:21:11.682032Z",
     "iopub.status.idle": "2023-11-19T18:21:11.749738Z",
     "shell.execute_reply": "2023-11-19T18:21:11.746593Z"
    }
   },
   "outputs": [
    {
     "data": {
      "text/plain": [
       "\u001b[38;5;246m# A tibble: 6 × 9\u001b[39m\n",
       "  refno  cons   lab libdem   snp plcym green   bnp  ukip\n",
       "  \u001b[3m\u001b[38;5;246m<dbl>\u001b[39m\u001b[23m \u001b[3m\u001b[38;5;246m<dbl>\u001b[39m\u001b[23m \u001b[3m\u001b[38;5;246m<dbl>\u001b[39m\u001b[23m  \u001b[3m\u001b[38;5;246m<dbl>\u001b[39m\u001b[23m \u001b[3m\u001b[38;5;246m<dbl>\u001b[39m\u001b[23m \u001b[3m\u001b[38;5;246m<dbl>\u001b[39m\u001b[23m \u001b[3m\u001b[38;5;246m<dbl>\u001b[39m\u001b[23m \u001b[3m\u001b[38;5;246m<dbl>\u001b[39m\u001b[23m \u001b[3m\u001b[38;5;246m<dbl>\u001b[39m\u001b[23m\n",
       "\u001b[38;5;250m1\u001b[39m     1  14.3  51.9   16.3  \u001b[31mNA\u001b[39m     7.1    \u001b[31mNA\u001b[39m   4.1   1.6\n",
       "\u001b[38;5;250m2\u001b[39m     2  35.8  24.5   19.3  \u001b[31mNA\u001b[39m    17.8    \u001b[31mNA\u001b[39m  \u001b[31mNA\u001b[39m     2.1\n",
       "\u001b[38;5;250m3\u001b[39m     3  12.4  44.4   18.6  22.2  \u001b[31mNA\u001b[39m      \u001b[31mNA\u001b[39m   1.7  \u001b[31mNA\u001b[39m  \n",
       "\u001b[38;5;250m4\u001b[39m     4  20.7  36.5   28.4  11.9  \u001b[31mNA\u001b[39m       1   1.2  \u001b[31mNA\u001b[39m  \n",
       "\u001b[38;5;250m5\u001b[39m     5  30.3  13.6   38.4  15.7  \u001b[31mNA\u001b[39m      \u001b[31mNA\u001b[39m   1.1   0.9\n",
       "\u001b[38;5;250m6\u001b[39m     6   8.7  58.2    8.1  23.6  \u001b[31mNA\u001b[39m      \u001b[31mNA\u001b[39m  \u001b[31mNA\u001b[39m    \u001b[31mNA\u001b[39m  "
      ]
     },
     "execution_count": 5,
     "metadata": {},
     "output_type": "execute_result"
    }
   ],
   "source": [
    "# Reading in a new format Stata file\n",
    "ConstRes2010 <- read_dta(\"ConstResults2010-stata-new.dta\")\n",
    "head(ConstRes2010)"
   ]
  }
 ],
 "metadata": {
  "kernelspec": {
   "display_name": "R (RKernel)",
   "language": "R",
   "name": "rkernel"
  },
  "language_info": {
   "codemirror_mode": "R",
   "file_extension": ".R",
   "mimetype": "text/x-r-source",
   "name": "R",
   "pygments_lexer": "r",
   "version": "4.3.2"
  }
 },
 "nbformat": 4,
 "nbformat_minor": 4
}
