{
 "cells": [
  {
   "cell_type": "markdown",
   "metadata": {},
   "source": [
    "# Modifying data with the *dplyr* package"
   ]
  },
  {
   "cell_type": "markdown",
   "metadata": {},
   "source": [
    "The following makes use of the *dplyr* package. You may need to install it\n",
    "from [CRAN](https://cran.r-project.org/package=dplyr) using the code\n",
    "`install.packages(\"dplyr\")` if you want to run this on your computer. (The package is already installed on\n",
    "the notebook container, however.)"
   ]
  },
  {
   "cell_type": "code",
   "execution_count": 1,
   "metadata": {},
   "outputs": [],
   "source": [
    "options(jupyter.rich_display=FALSE) # Create output as usual in R"
   ]
  },
  {
   "cell_type": "code",
   "execution_count": 2,
   "metadata": {},
   "outputs": [
    {
     "name": "stderr",
     "output_type": "stream",
     "text": [
      "\n",
      "Attaching package: ‘dplyr’\n",
      "\n",
      "\n",
      "The following objects are masked from ‘package:stats’:\n",
      "\n",
      "    filter, lag\n",
      "\n",
      "\n",
      "The following objects are masked from ‘package:base’:\n",
      "\n",
      "    intersect, setdiff, setequal, union\n",
      "\n",
      "\n"
     ]
    }
   ],
   "source": [
    "library(dplyr)"
   ]
  },
  {
   "cell_type": "code",
   "execution_count": 3,
   "metadata": {},
   "outputs": [],
   "source": [
    "UK <- data.frame(\n",
    "           Population = c(55619400,1885400,5424800,3125000),\n",
    "           Area = c(50301,5460,30090,8023),\n",
    "           GVA = c(28096,20000,24800,19900),\n",
    "           country = c(\"England\",\n",
    "                         \"Northern Ireland\",\n",
    "                         \"Scotland\",\n",
    "                         \"Wales\"))"
   ]
  },
  {
   "cell_type": "code",
   "execution_count": 4,
   "metadata": {},
   "outputs": [
    {
     "data": {
      "text/plain": [
       "  Population Area  GVA   country          Density  \n",
       "1 55619400   50301 28096 England          1105.7315\n",
       "2  1885400    5460 20000 Northern Ireland  345.3114\n",
       "3  5424800   30090 24800 Scotland          180.2858\n",
       "4  3125000    8023 19900 Wales             389.5052"
      ]
     },
     "metadata": {},
     "output_type": "display_data"
    }
   ],
   "source": [
    "UK %>% mutate(Density = Population/Area)"
   ]
  },
  {
   "cell_type": "markdown",
   "metadata": {},
   "source": [
    "Equivalent code using 'base' R:"
   ]
  },
  {
   "cell_type": "code",
   "execution_count": 6,
   "metadata": {},
   "outputs": [
    {
     "data": {
      "text/plain": [
       "  Population Area  GVA   country          Density  \n",
       "1 55619400   50301 28096 England          1105.7315\n",
       "2  1885400    5460 20000 Northern Ireland  345.3114\n",
       "3  5424800   30090 24800 Scotland          180.2858\n",
       "4  3125000    8023 19900 Wales             389.5052"
      ]
     },
     "metadata": {},
     "output_type": "display_data"
    }
   ],
   "source": [
    "within(UK, Density <- Population/Area)"
   ]
  },
  {
   "cell_type": "code",
   "execution_count": null,
   "metadata": {},
   "outputs": [],
   "source": []
  }
 ],
 "metadata": {
  "kernelspec": {
   "display_name": "R",
   "language": "R",
   "name": "ir"
  },
  "language_info": {
   "codemirror_mode": "r",
   "file_extension": ".r",
   "mimetype": "text/x-r-source",
   "name": "R",
   "pygments_lexer": "r",
   "version": "4.0.4"
  }
 },
 "nbformat": 4,
 "nbformat_minor": 4
}
