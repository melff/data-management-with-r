{
 "cells": [
  {
   "cell_type": "markdown",
   "metadata": {},
   "source": [
    "# Modifying data with the *dplyr* package"
   ]
  },
  {
   "cell_type": "markdown",
   "metadata": {},
   "source": [
    "The following makes use of the *dplyr* package. You may need to install it\n",
    "from [CRAN](https://cran.r-project.org/package=dplyr) using the code\n",
    "`install.packages(\"dplyr\")` if you want to run this on your computer. (The package is already installed on\n",
    "the notebook container, however.)"
   ]
  },
  {
   "cell_type": "code",
   "execution_count": 1,
   "metadata": {
    "execution": {
     "iopub.execute_input": "2023-11-19T18:23:26.772587Z",
     "iopub.status.busy": "2023-11-19T18:23:26.770041Z",
     "iopub.status.idle": "2023-11-19T18:23:26.929533Z",
     "shell.execute_reply": "2023-11-19T18:23:26.926828Z"
    }
   },
   "outputs": [
    {
     "name": "stdout",
     "output_type": "stream",
     "text": [
      "\n",
      "Attaching package: ‘dplyr’\n",
      "\n",
      "The following objects are masked from ‘package:stats’:\n",
      "\n",
      "    filter, lag\n",
      "\n",
      "The following objects are masked from ‘package:base’:\n",
      "\n",
      "    intersect, setdiff, setequal, union\n",
      "\n"
     ]
    }
   ],
   "source": [
    "library(dplyr)"
   ]
  },
  {
   "cell_type": "code",
   "execution_count": 2,
   "metadata": {
    "execution": {
     "iopub.execute_input": "2023-11-19T18:23:26.962905Z",
     "iopub.status.busy": "2023-11-19T18:23:26.934235Z",
     "iopub.status.idle": "2023-11-19T18:23:27.054982Z",
     "shell.execute_reply": "2023-11-19T18:23:27.052141Z"
    }
   },
   "outputs": [],
   "source": [
    "UK <- data.frame(\n",
    "           Population = c(55619400,1885400,5424800,3125000),\n",
    "           Area = c(50301,5460,30090,8023),\n",
    "           GVA = c(28096,20000,24800,19900),\n",
    "           country = c(\"England\",\n",
    "                         \"Northern Ireland\",\n",
    "                         \"Scotland\",\n",
    "                         \"Wales\"))"
   ]
  },
  {
   "cell_type": "code",
   "execution_count": 3,
   "metadata": {
    "execution": {
     "iopub.execute_input": "2023-11-19T18:23:27.062187Z",
     "iopub.status.busy": "2023-11-19T18:23:27.059561Z",
     "iopub.status.idle": "2023-11-19T18:23:27.084929Z",
     "shell.execute_reply": "2023-11-19T18:23:27.082290Z"
    }
   },
   "outputs": [
    {
     "data": {
      "text/plain": [
       "  Population  Area   GVA          country   Density\n",
       "1   55619400 50301 28096          England 1105.7315\n",
       "2    1885400  5460 20000 Northern Ireland  345.3114\n",
       "3    5424800 30090 24800         Scotland  180.2858\n",
       "4    3125000  8023 19900            Wales  389.5052"
      ]
     },
     "execution_count": 3,
     "metadata": {},
     "output_type": "execute_result"
    }
   ],
   "source": [
    "UK %>% mutate(Density = Population/Area)"
   ]
  },
  {
   "cell_type": "markdown",
   "metadata": {},
   "source": [
    "Equivalent code using 'base' R:"
   ]
  },
  {
   "cell_type": "code",
   "execution_count": 4,
   "metadata": {
    "execution": {
     "iopub.execute_input": "2023-11-19T18:23:27.091994Z",
     "iopub.status.busy": "2023-11-19T18:23:27.089183Z",
     "iopub.status.idle": "2023-11-19T18:23:27.105003Z",
     "shell.execute_reply": "2023-11-19T18:23:27.101762Z"
    }
   },
   "outputs": [
    {
     "data": {
      "text/plain": [
       "  Population  Area   GVA          country   Density\n",
       "1   55619400 50301 28096          England 1105.7315\n",
       "2    1885400  5460 20000 Northern Ireland  345.3114\n",
       "3    5424800 30090 24800         Scotland  180.2858\n",
       "4    3125000  8023 19900            Wales  389.5052"
      ]
     },
     "execution_count": 4,
     "metadata": {},
     "output_type": "execute_result"
    }
   ],
   "source": [
    "within(UK, Density <- Population/Area)"
   ]
  }
 ],
 "metadata": {
  "kernelspec": {
   "display_name": "R (RKernel)",
   "language": "R",
   "name": "rkernel"
  },
  "language_info": {
   "codemirror_mode": "R",
   "file_extension": ".R",
   "mimetype": "text/x-r-source",
   "name": "R",
   "pygments_lexer": "r",
   "version": "4.3.2"
  }
 },
 "nbformat": 4,
 "nbformat_minor": 4
}
