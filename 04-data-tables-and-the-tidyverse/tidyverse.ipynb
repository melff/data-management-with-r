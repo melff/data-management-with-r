{
 "cells": [
  {
   "cell_type": "markdown",
   "id": "f2047da0-4bf9-4850-8f8c-5ad5ebb26dc7",
   "metadata": {},
   "source": [
    "# Data Tables and the “Tidyverse”[¶](#data-tables-and-the-tidyverse \"Permalink to this headline\")\n",
    "\n",
    "This chapter discusses the improvements and new features introduced by the package _data.table_ and some notable packages in the “tidyverse” collection of packages. In particular, the packages _data.table_ and _dplyr_ are compared in terms of the features they provide and how computationally efficient they are. Also the features for “tidying” data using the _tidyr_ package are discussed.\n",
    "\n",
    "Below is the supporting material for the various sections of the chapter.\n",
    "\n",
    "## Data Tables\n",
    "\n",
    "- [Creating data tables](creating-data-tables.ipynb)\n",
    "- [Subsetting data tables](subsetting-data-tables.ipynb)\n",
    "- [Summarizing data tables](summarizing-data-tables.ipynb)\n",
    "- [Modifying data tables](modifying-data-tables.ipynb)\n",
    "\n",
    "## The Tidyverse\n",
    "\n",
    "- [Importing data with the *haven* package](importing-data-with-haven.ipynb)\n",
    "- [Subsetting data with *dplyr*](subsetting-data-with-dplyr.ipynb)\n",
    "- [Summarizing data with *dplyr*](summarizing-data-with-dplyr.ipynb)\n",
    "- [Modifying data with the *dplyr* package](modifying-data-with-dplyr.ipynb)\n",
    "\n",
    "## A Comparison between the Approaches\n",
    "\n",
    "- [Preparing example data for the benchmark study](benchmark-prep.ipynb)\n",
    "- [Benchmark study: Computing group summaries](benchmark-group-summaries.ipynb)\n",
    "- [Benchmark study: Modifying data within groups](benchmark-group-data-modification.ipynb)\n",
    "- [Summary of the benchmark study](comparison-summary-tables.ipynb)\n",
    "\n",
    "## Tidying Data Using the _tidyr_ Package\n",
    "\n",
    "- [Reshaping data to long format with *tidyr*](reshaping-to-long-with-tidyr.ipynb)\n",
    "- [Reshaping data to wide format with *tidyr*](reshaping-to-wide-with-tidyr.ipynb)\n",
    "- [Filling and completing with *tidyr*](filling-and-completing-with-tidyr.ipynb)"
   ]
  }
 ],
 "metadata": {
  "kernelspec": {
   "display_name": "R (RKernel)",
   "language": "R",
   "name": "rkernel"
  },
  "language_info": {
   "codemirror_mode": "R",
   "file_extension": ".R",
   "mimetype": "text/x-r-source",
   "name": "R",
   "pygments_lexer": "r",
   "version": "4.3.2"
  }
 },
 "nbformat": 4,
 "nbformat_minor": 5
}
