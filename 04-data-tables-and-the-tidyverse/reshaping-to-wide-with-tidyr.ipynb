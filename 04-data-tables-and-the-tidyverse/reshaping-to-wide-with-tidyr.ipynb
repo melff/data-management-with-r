{
 "cells": [
  {
   "cell_type": "markdown",
   "metadata": {},
   "source": [
    "# Reshaping data to wide format with *tidyr*"
   ]
  },
  {
   "cell_type": "markdown",
   "metadata": {},
   "source": [
    "The following makes use of the packages *tidyr* and *readr*. You may need to\n",
    "install them from [CRAN](https://cran.r-project.org) using the code\n",
    "`install.packages(c(\"tidyr\",\"readr\"))` if you want to run this on your computer. (The packages are already installed\n",
    "on the notebook container, however.)"
   ]
  },
  {
   "cell_type": "code",
   "execution_count": 1,
   "metadata": {
    "execution": {
     "iopub.execute_input": "2023-11-19T18:49:04.252608Z",
     "iopub.status.busy": "2023-11-19T18:49:04.250252Z",
     "iopub.status.idle": "2023-11-19T18:49:04.295385Z",
     "shell.execute_reply": "2023-11-19T18:49:04.292826Z"
    }
   },
   "outputs": [
    {
     "data": {
      "text/plain": [
       "[1] \"\\\"LOCATION\\\",\\\"INDICATOR\\\",\\\"SUBJECT\\\",\\\"MEASUR\"    \n",
       "[2] \"\\\"AUS\\\",\\\"INCOMEINEQ\\\",\\\"P50P10\\\",\\\"RT\\\",\\\"A\\\",\\\"20\"\n",
       "[3] \"\\\"AUS\\\",\\\"INCOMEINEQ\\\",\\\"P50P10\\\",\\\"RT\\\",\\\"A\\\",\\\"20\"\n",
       "[4] \"\\\"AUS\\\",\\\"INCOMEINEQ\\\",\\\"P50P10\\\",\\\"RT\\\",\\\"A\\\",\\\"20\"\n",
       "[5] \"\\\"AUS\\\",\\\"INCOMEINEQ\\\",\\\"P90P10\\\",\\\"RT\\\",\\\"A\\\",\\\"20\""
      ]
     },
     "execution_count": 1,
     "metadata": {},
     "output_type": "execute_result"
    }
   ],
   "source": [
    "substr(readLines(\"inequality-oecd-downloaded.csv\",n=5),\n",
    "       start=1,stop=40)"
   ]
  },
  {
   "cell_type": "code",
   "execution_count": 2,
   "metadata": {
    "execution": {
     "iopub.execute_input": "2023-11-19T18:49:04.329051Z",
     "iopub.status.busy": "2023-11-19T18:49:04.299648Z",
     "iopub.status.idle": "2023-11-19T18:49:04.507413Z",
     "shell.execute_reply": "2023-11-19T18:49:04.504700Z"
    }
   },
   "outputs": [],
   "source": [
    "library(readr)"
   ]
  },
  {
   "cell_type": "code",
   "execution_count": 3,
   "metadata": {
    "execution": {
     "iopub.execute_input": "2023-11-19T18:49:04.514063Z",
     "iopub.status.busy": "2023-11-19T18:49:04.511679Z",
     "iopub.status.idle": "2023-11-19T18:49:04.741915Z",
     "shell.execute_reply": "2023-11-19T18:49:04.739088Z"
    }
   },
   "outputs": [
    {
     "name": "stdout",
     "output_type": "stream",
     "text": [
      "\u001b[1mRows: \u001b[22m\u001b[34m2315\u001b[39m \u001b[1mColumns: \u001b[22m\u001b[34m8\u001b[39m\u001b[36m──\u001b[39m \u001b[1mColumn specification\u001b[22m \u001b[36m────────────────────────────────────────────────────────\u001b[39m\n",
      "\u001b[1mDelimiter:\u001b[22m \",\"\n",
      "\u001b[31mchr\u001b[39m (6): LOCATION, INDICATOR, SUBJECT, MEASURE, FREQUENCY, Flag Codes\n",
      "\u001b[32mdbl\u001b[39m (2): TIME, Value\n",
      "\u001b[36mℹ\u001b[39m Use `spec()` to retrieve the full column specification for this data.\n",
      "\u001b[36mℹ\u001b[39m Specify the column types or set `show_col_types = FALSE` to quiet this message."
     ]
    }
   ],
   "source": [
    "inequality.oecd.dld <- read_csv(\"inequality-oecd-downloaded.csv\")"
   ]
  },
  {
   "cell_type": "code",
   "execution_count": 4,
   "metadata": {
    "execution": {
     "iopub.execute_input": "2023-11-19T18:49:04.748820Z",
     "iopub.status.busy": "2023-11-19T18:49:04.746251Z",
     "iopub.status.idle": "2023-11-19T18:49:04.805758Z",
     "shell.execute_reply": "2023-11-19T18:49:04.802876Z"
    }
   },
   "outputs": [
    {
     "data": {
      "text/plain": [
       "\u001b[38;5;246m# A tibble: 2,315 × 8\u001b[39m\n",
       "   LOCATION INDICATOR  SUBJECT MEASURE FREQUENCY  TIME Value `Flag Codes`\n",
       "   \u001b[3m\u001b[38;5;246m<chr>\u001b[39m\u001b[23m    \u001b[3m\u001b[38;5;246m<chr>\u001b[39m\u001b[23m      \u001b[3m\u001b[38;5;246m<chr>\u001b[39m\u001b[23m   \u001b[3m\u001b[38;5;246m<chr>\u001b[39m\u001b[23m   \u001b[3m\u001b[38;5;246m<chr>\u001b[39m\u001b[23m     \u001b[3m\u001b[38;5;246m<dbl>\u001b[39m\u001b[23m \u001b[3m\u001b[38;5;246m<dbl>\u001b[39m\u001b[23m \u001b[3m\u001b[38;5;246m<chr>\u001b[39m\u001b[23m       \n",
       "\u001b[38;5;250m 1\u001b[39m AUS      INCOMEINEQ P50P10  RT      A          \u001b[4m2\u001b[24m012 2.2   \u001b[31mNA\u001b[39m          \n",
       "\u001b[38;5;250m 2\u001b[39m AUS      INCOMEINEQ P50P10  RT      A          \u001b[4m2\u001b[24m014 2.2   \u001b[31mNA\u001b[39m          \n",
       "\u001b[38;5;250m 3\u001b[39m AUS      INCOMEINEQ P50P10  RT      A          \u001b[4m2\u001b[24m016 2.1   \u001b[31mNA\u001b[39m          \n",
       "\u001b[38;5;250m 4\u001b[39m AUS      INCOMEINEQ P90P10  RT      A          \u001b[4m2\u001b[24m012 4.4   \u001b[31mNA\u001b[39m          \n",
       "\u001b[38;5;250m 5\u001b[39m AUS      INCOMEINEQ P90P10  RT      A          \u001b[4m2\u001b[24m014 4.3   \u001b[31mNA\u001b[39m          \n",
       "\u001b[38;5;250m 6\u001b[39m AUS      INCOMEINEQ P90P10  RT      A          \u001b[4m2\u001b[24m016 4.3   \u001b[31mNA\u001b[39m          \n",
       "\u001b[38;5;250m 7\u001b[39m AUS      INCOMEINEQ P90P50  RT      A          \u001b[4m2\u001b[24m012 2     \u001b[31mNA\u001b[39m          \n",
       "\u001b[38;5;250m 8\u001b[39m AUS      INCOMEINEQ P90P50  RT      A          \u001b[4m2\u001b[24m014 2     \u001b[31mNA\u001b[39m          \n",
       "\u001b[38;5;250m 9\u001b[39m AUS      INCOMEINEQ P90P50  RT      A          \u001b[4m2\u001b[24m016 2.1   \u001b[31mNA\u001b[39m          \n",
       "\u001b[38;5;250m10\u001b[39m AUS      INCOMEINEQ GINI    INEQ    A          \u001b[4m2\u001b[24m012 0.326 \u001b[31mNA\u001b[39m          \n",
       "\u001b[38;5;246m# ℹ 2,305 more rows\u001b[39m"
      ]
     },
     "execution_count": 4,
     "metadata": {},
     "output_type": "execute_result"
    }
   ],
   "source": [
    "inequality.oecd.dld"
   ]
  },
  {
   "cell_type": "code",
   "execution_count": 5,
   "metadata": {
    "execution": {
     "iopub.execute_input": "2023-11-19T18:49:04.816309Z",
     "iopub.status.busy": "2023-11-19T18:49:04.811733Z",
     "iopub.status.idle": "2023-11-19T18:49:04.924747Z",
     "shell.execute_reply": "2023-11-19T18:49:04.922051Z"
    }
   },
   "outputs": [],
   "source": [
    "library(tidyr)"
   ]
  },
  {
   "cell_type": "code",
   "execution_count": 6,
   "metadata": {
    "execution": {
     "iopub.execute_input": "2023-11-19T18:49:04.931609Z",
     "iopub.status.busy": "2023-11-19T18:49:04.929129Z",
     "iopub.status.idle": "2023-11-19T18:49:04.957158Z",
     "shell.execute_reply": "2023-11-19T18:49:04.952337Z"
    }
   },
   "outputs": [],
   "source": [
    "inequality.oecd.dld %>% spread(key=\"SUBJECT\",value=\"Value\") ->\n",
    "                                               inequality.oecd"
   ]
  },
  {
   "cell_type": "code",
   "execution_count": 7,
   "metadata": {
    "execution": {
     "iopub.execute_input": "2023-11-19T18:49:04.967792Z",
     "iopub.status.busy": "2023-11-19T18:49:04.963719Z",
     "iopub.status.idle": "2023-11-19T18:49:05.044098Z",
     "shell.execute_reply": "2023-11-19T18:49:05.040585Z"
    }
   },
   "outputs": [
    {
     "data": {
      "text/plain": [
       "\u001b[38;5;246m# A tibble: 771 × 9\u001b[39m\n",
       "   LOCATION MEASURE  TIME   GINI P50P10 P90P10 P90P50 PALMA S80S20\n",
       "   \u001b[3m\u001b[38;5;246m<chr>\u001b[39m\u001b[23m    \u001b[3m\u001b[38;5;246m<chr>\u001b[39m\u001b[23m   \u001b[3m\u001b[38;5;246m<dbl>\u001b[39m\u001b[23m  \u001b[3m\u001b[38;5;246m<dbl>\u001b[39m\u001b[23m  \u001b[3m\u001b[38;5;246m<dbl>\u001b[39m\u001b[23m  \u001b[3m\u001b[38;5;246m<dbl>\u001b[39m\u001b[23m  \u001b[3m\u001b[38;5;246m<dbl>\u001b[39m\u001b[23m \u001b[3m\u001b[38;5;246m<dbl>\u001b[39m\u001b[23m  \u001b[3m\u001b[38;5;246m<dbl>\u001b[39m\u001b[23m\n",
       "\u001b[38;5;250m 1\u001b[39m AUS      INEQ     \u001b[4m2\u001b[24m012  0.326   \u001b[31mNA\u001b[39m     \u001b[31mNA\u001b[39m     \u001b[31mNA\u001b[39m   \u001b[31mNA\u001b[39m      \u001b[31mNA\u001b[39m  \n",
       "\u001b[38;5;250m 2\u001b[39m AUS      INEQ     \u001b[4m2\u001b[24m014  0.337   \u001b[31mNA\u001b[39m     \u001b[31mNA\u001b[39m     \u001b[31mNA\u001b[39m   \u001b[31mNA\u001b[39m      \u001b[31mNA\u001b[39m  \n",
       "\u001b[38;5;250m 3\u001b[39m AUS      INEQ     \u001b[4m2\u001b[24m016  0.33    \u001b[31mNA\u001b[39m     \u001b[31mNA\u001b[39m     \u001b[31mNA\u001b[39m   \u001b[31mNA\u001b[39m      \u001b[31mNA\u001b[39m  \n",
       "\u001b[38;5;250m 4\u001b[39m AUS      RT       \u001b[4m2\u001b[24m012 \u001b[31mNA\u001b[39m        2.2    4.4    2    1.24    5.5\n",
       "\u001b[38;5;250m 5\u001b[39m AUS      RT       \u001b[4m2\u001b[24m014 \u001b[31mNA\u001b[39m        2.2    4.3    2    1.34    5.7\n",
       "\u001b[38;5;250m 6\u001b[39m AUS      RT       \u001b[4m2\u001b[24m016 \u001b[31mNA\u001b[39m        2.1    4.3    2.1  1.26    5.5\n",
       "\u001b[38;5;250m 7\u001b[39m AUT      INEQ     \u001b[4m2\u001b[24m007  0.284   \u001b[31mNA\u001b[39m     \u001b[31mNA\u001b[39m     \u001b[31mNA\u001b[39m   \u001b[31mNA\u001b[39m      \u001b[31mNA\u001b[39m  \n",
       "\u001b[38;5;250m 8\u001b[39m AUT      INEQ     \u001b[4m2\u001b[24m008  0.281   \u001b[31mNA\u001b[39m     \u001b[31mNA\u001b[39m     \u001b[31mNA\u001b[39m   \u001b[31mNA\u001b[39m      \u001b[31mNA\u001b[39m  \n",
       "\u001b[38;5;250m 9\u001b[39m AUT      INEQ     \u001b[4m2\u001b[24m009  0.289   \u001b[31mNA\u001b[39m     \u001b[31mNA\u001b[39m     \u001b[31mNA\u001b[39m   \u001b[31mNA\u001b[39m      \u001b[31mNA\u001b[39m  \n",
       "\u001b[38;5;250m10\u001b[39m AUT      INEQ     \u001b[4m2\u001b[24m010  0.28    \u001b[31mNA\u001b[39m     \u001b[31mNA\u001b[39m     \u001b[31mNA\u001b[39m   \u001b[31mNA\u001b[39m      \u001b[31mNA\u001b[39m  \n",
       "\u001b[38;5;246m# ℹ 761 more rows\u001b[39m"
      ]
     },
     "execution_count": 7,
     "metadata": {},
     "output_type": "execute_result"
    }
   ],
   "source": [
    "inequality.oecd[-c(2,4,6)]"
   ]
  },
  {
   "cell_type": "code",
   "execution_count": 8,
   "metadata": {
    "execution": {
     "iopub.execute_input": "2023-11-19T18:49:05.050883Z",
     "iopub.status.busy": "2023-11-19T18:49:05.048478Z",
     "iopub.status.idle": "2023-11-19T18:49:05.075072Z",
     "shell.execute_reply": "2023-11-19T18:49:05.072410Z"
    }
   },
   "outputs": [
    {
     "name": "stdout",
     "output_type": "stream",
     "text": [
      "\n",
      "Attaching package: ‘dplyr’\n",
      "\n",
      "The following objects are masked from ‘package:stats’:\n",
      "\n",
      "    filter, lag\n",
      "\n",
      "The following objects are masked from ‘package:base’:\n",
      "\n",
      "    intersect, setdiff, setequal, union\n",
      "\n"
     ]
    }
   ],
   "source": [
    "library(dplyr)"
   ]
  },
  {
   "cell_type": "code",
   "execution_count": 9,
   "metadata": {
    "execution": {
     "iopub.execute_input": "2023-11-19T18:49:05.085168Z",
     "iopub.status.busy": "2023-11-19T18:49:05.079410Z",
     "iopub.status.idle": "2023-11-19T18:49:05.121843Z",
     "shell.execute_reply": "2023-11-19T18:49:05.118936Z"
    }
   },
   "outputs": [
    {
     "data": {
      "text/plain": [
       "\u001b[38;5;246m# A tibble: 2,315 × 4\u001b[39m\n",
       "   LOCATION SUBJECT  TIME Value\n",
       "   \u001b[3m\u001b[38;5;246m<chr>\u001b[39m\u001b[23m    \u001b[3m\u001b[38;5;246m<chr>\u001b[39m\u001b[23m   \u001b[3m\u001b[38;5;246m<dbl>\u001b[39m\u001b[23m \u001b[3m\u001b[38;5;246m<dbl>\u001b[39m\u001b[23m\n",
       "\u001b[38;5;250m 1\u001b[39m AUS      P50P10   \u001b[4m2\u001b[24m012 2.2  \n",
       "\u001b[38;5;250m 2\u001b[39m AUS      P50P10   \u001b[4m2\u001b[24m014 2.2  \n",
       "\u001b[38;5;250m 3\u001b[39m AUS      P50P10   \u001b[4m2\u001b[24m016 2.1  \n",
       "\u001b[38;5;250m 4\u001b[39m AUS      P90P10   \u001b[4m2\u001b[24m012 4.4  \n",
       "\u001b[38;5;250m 5\u001b[39m AUS      P90P10   \u001b[4m2\u001b[24m014 4.3  \n",
       "\u001b[38;5;250m 6\u001b[39m AUS      P90P10   \u001b[4m2\u001b[24m016 4.3  \n",
       "\u001b[38;5;250m 7\u001b[39m AUS      P90P50   \u001b[4m2\u001b[24m012 2    \n",
       "\u001b[38;5;250m 8\u001b[39m AUS      P90P50   \u001b[4m2\u001b[24m014 2    \n",
       "\u001b[38;5;250m 9\u001b[39m AUS      P90P50   \u001b[4m2\u001b[24m016 2.1  \n",
       "\u001b[38;5;250m10\u001b[39m AUS      GINI     \u001b[4m2\u001b[24m012 0.326\n",
       "\u001b[38;5;246m# ℹ 2,305 more rows\u001b[39m"
      ]
     },
     "execution_count": 9,
     "metadata": {},
     "output_type": "execute_result"
    }
   ],
   "source": [
    "inequality.oecd.sub <- select(inequality.oecd.dld,\n",
    "                              LOCATION,SUBJECT,TIME,Value)\n",
    "inequality.oecd.sub"
   ]
  },
  {
   "cell_type": "code",
   "execution_count": 10,
   "metadata": {
    "execution": {
     "iopub.execute_input": "2023-11-19T18:49:05.128649Z",
     "iopub.status.busy": "2023-11-19T18:49:05.126224Z",
     "iopub.status.idle": "2023-11-19T18:49:05.139423Z",
     "shell.execute_reply": "2023-11-19T18:49:05.136581Z"
    }
   },
   "outputs": [],
   "source": [
    "inequality.oecd.sub %>% spread(key=SUBJECT,\n",
    "                               value=Value) -> inequality.oecd"
   ]
  },
  {
   "cell_type": "code",
   "execution_count": 11,
   "metadata": {
    "execution": {
     "iopub.execute_input": "2023-11-19T18:49:05.146265Z",
     "iopub.status.busy": "2023-11-19T18:49:05.143703Z",
     "iopub.status.idle": "2023-11-19T18:49:05.191828Z",
     "shell.execute_reply": "2023-11-19T18:49:05.189036Z"
    }
   },
   "outputs": [
    {
     "data": {
      "text/plain": [
       "\u001b[38;5;246m# A tibble: 386 × 8\u001b[39m\n",
       "   LOCATION  TIME  GINI P50P10 P90P10 P90P50 PALMA S80S20\n",
       "   \u001b[3m\u001b[38;5;246m<chr>\u001b[39m\u001b[23m    \u001b[3m\u001b[38;5;246m<dbl>\u001b[39m\u001b[23m \u001b[3m\u001b[38;5;246m<dbl>\u001b[39m\u001b[23m  \u001b[3m\u001b[38;5;246m<dbl>\u001b[39m\u001b[23m  \u001b[3m\u001b[38;5;246m<dbl>\u001b[39m\u001b[23m  \u001b[3m\u001b[38;5;246m<dbl>\u001b[39m\u001b[23m \u001b[3m\u001b[38;5;246m<dbl>\u001b[39m\u001b[23m  \u001b[3m\u001b[38;5;246m<dbl>\u001b[39m\u001b[23m\n",
       "\u001b[38;5;250m 1\u001b[39m AUS       \u001b[4m2\u001b[24m012 0.326    2.2    4.4    2    1.24    5.5\n",
       "\u001b[38;5;250m 2\u001b[39m AUS       \u001b[4m2\u001b[24m014 0.337    2.2    4.3    2    1.34    5.7\n",
       "\u001b[38;5;250m 3\u001b[39m AUS       \u001b[4m2\u001b[24m016 0.33     2.1    4.3    2.1  1.26    5.5\n",
       "\u001b[38;5;250m 4\u001b[39m AUT       \u001b[4m2\u001b[24m007 0.284    2      3.6    1.8  1       4.4\n",
       "\u001b[38;5;250m 5\u001b[39m AUT       \u001b[4m2\u001b[24m008 0.281    1.9    3.4    1.8  1       4.3\n",
       "\u001b[38;5;250m 6\u001b[39m AUT       \u001b[4m2\u001b[24m009 0.289    2      3.6    1.8  1.03    4.5\n",
       "\u001b[38;5;250m 7\u001b[39m AUT       \u001b[4m2\u001b[24m010 0.28     1.9    3.5    1.8  0.98    4.3\n",
       "\u001b[38;5;250m 8\u001b[39m AUT       \u001b[4m2\u001b[24m011 0.281    1.9    3.5    1.8  0.99    4.4\n",
       "\u001b[38;5;250m 9\u001b[39m AUT       \u001b[4m2\u001b[24m012 0.275    2      3.5    1.8  0.96    4.2\n",
       "\u001b[38;5;250m10\u001b[39m AUT       \u001b[4m2\u001b[24m013 0.279    1.9    3.4    1.8  0.99    4.2\n",
       "\u001b[38;5;246m# ℹ 376 more rows\u001b[39m"
      ]
     },
     "execution_count": 11,
     "metadata": {},
     "output_type": "execute_result"
    }
   ],
   "source": [
    "inequality.oecd"
   ]
  },
  {
   "cell_type": "code",
   "execution_count": 12,
   "metadata": {
    "execution": {
     "iopub.execute_input": "2023-11-19T18:49:05.199095Z",
     "iopub.status.busy": "2023-11-19T18:49:05.196548Z",
     "iopub.status.idle": "2023-11-19T18:49:05.221602Z",
     "shell.execute_reply": "2023-11-19T18:49:05.218883Z"
    }
   },
   "outputs": [],
   "source": [
    "inequality.oecd.dld %>% pivot_wider(names_from=SUBJECT,\n",
    "                                    values_from=Value,\n",
    "                                    id_cols=c(LOCATION,TIME)) ->\n",
    "                                                inequality.oecd"
   ]
  },
  {
   "cell_type": "code",
   "execution_count": 13,
   "metadata": {
    "execution": {
     "iopub.execute_input": "2023-11-19T18:49:05.228300Z",
     "iopub.status.busy": "2023-11-19T18:49:05.225915Z",
     "iopub.status.idle": "2023-11-19T18:49:05.273899Z",
     "shell.execute_reply": "2023-11-19T18:49:05.271222Z"
    }
   },
   "outputs": [
    {
     "data": {
      "text/plain": [
       "\u001b[38;5;246m# A tibble: 386 × 8\u001b[39m\n",
       "   LOCATION  TIME P50P10 P90P10 P90P50  GINI S80S20 PALMA\n",
       "   \u001b[3m\u001b[38;5;246m<chr>\u001b[39m\u001b[23m    \u001b[3m\u001b[38;5;246m<dbl>\u001b[39m\u001b[23m  \u001b[3m\u001b[38;5;246m<dbl>\u001b[39m\u001b[23m  \u001b[3m\u001b[38;5;246m<dbl>\u001b[39m\u001b[23m  \u001b[3m\u001b[38;5;246m<dbl>\u001b[39m\u001b[23m \u001b[3m\u001b[38;5;246m<dbl>\u001b[39m\u001b[23m  \u001b[3m\u001b[38;5;246m<dbl>\u001b[39m\u001b[23m \u001b[3m\u001b[38;5;246m<dbl>\u001b[39m\u001b[23m\n",
       "\u001b[38;5;250m 1\u001b[39m AUS       \u001b[4m2\u001b[24m012    2.2    4.4    2   0.326    5.5  1.24\n",
       "\u001b[38;5;250m 2\u001b[39m AUS       \u001b[4m2\u001b[24m014    2.2    4.3    2   0.337    5.7  1.34\n",
       "\u001b[38;5;250m 3\u001b[39m AUS       \u001b[4m2\u001b[24m016    2.1    4.3    2.1 0.33     5.5  1.26\n",
       "\u001b[38;5;250m 4\u001b[39m AUT       \u001b[4m2\u001b[24m007    2      3.6    1.8 0.284    4.4  1   \n",
       "\u001b[38;5;250m 5\u001b[39m AUT       \u001b[4m2\u001b[24m008    1.9    3.4    1.8 0.281    4.3  1   \n",
       "\u001b[38;5;250m 6\u001b[39m AUT       \u001b[4m2\u001b[24m009    2      3.6    1.8 0.289    4.5  1.03\n",
       "\u001b[38;5;250m 7\u001b[39m AUT       \u001b[4m2\u001b[24m010    1.9    3.5    1.8 0.28     4.3  0.98\n",
       "\u001b[38;5;250m 8\u001b[39m AUT       \u001b[4m2\u001b[24m011    1.9    3.5    1.8 0.281    4.4  0.99\n",
       "\u001b[38;5;250m 9\u001b[39m AUT       \u001b[4m2\u001b[24m012    2      3.5    1.8 0.275    4.2  0.96\n",
       "\u001b[38;5;250m10\u001b[39m AUT       \u001b[4m2\u001b[24m013    1.9    3.4    1.8 0.279    4.2  0.99\n",
       "\u001b[38;5;246m# ℹ 376 more rows\u001b[39m"
      ]
     },
     "execution_count": 13,
     "metadata": {},
     "output_type": "execute_result"
    }
   ],
   "source": [
    "inequality.oecd"
   ]
  }
 ],
 "metadata": {
  "kernelspec": {
   "display_name": "R (RKernel)",
   "language": "R",
   "name": "rkernel"
  },
  "language_info": {
   "codemirror_mode": "R",
   "file_extension": ".R",
   "mimetype": "text/x-r-source",
   "name": "R",
   "pygments_lexer": "r",
   "version": "4.3.2"
  }
 },
 "nbformat": 4,
 "nbformat_minor": 4
}
