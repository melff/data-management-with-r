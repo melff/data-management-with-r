{
 "cells": [
  {
   "cell_type": "markdown",
   "metadata": {},
   "source": [
    "# Filling and completing with *tidyr*\n",
    "\n",
    "The following makes use of the packages *tidyr* and *readr*. You may need to install them from [CRAN](https://cran.r-project.org) using the code `install.packages(c(\"tidyr\",\"readr\"))` if you want to run this on your computer. \n",
    "(The packages are already installed\n",
    "on the notebook container, however.)"
   ]
  },
  {
   "cell_type": "markdown",
   "metadata": {},
   "source": [
    "Filling missing values with `fill()`"
   ]
  },
  {
   "cell_type": "code",
   "execution_count": 1,
   "metadata": {
    "execution": {
     "iopub.execute_input": "2023-11-19T18:49:30.728492Z",
     "iopub.status.busy": "2023-11-19T18:49:30.726078Z",
     "iopub.status.idle": "2023-11-19T18:49:30.980423Z",
     "shell.execute_reply": "2023-11-19T18:49:30.977659Z"
    }
   },
   "outputs": [],
   "source": [
    "library(tidyr)\n",
    "library(readr)"
   ]
  },
  {
   "cell_type": "code",
   "execution_count": 2,
   "metadata": {
    "execution": {
     "iopub.execute_input": "2023-11-19T18:49:31.016855Z",
     "iopub.status.busy": "2023-11-19T18:49:30.984772Z",
     "iopub.status.idle": "2023-11-19T18:49:31.077957Z",
     "shell.execute_reply": "2023-11-19T18:49:31.075116Z"
    }
   },
   "outputs": [],
   "source": [
    "messy_data_str <- \"\n",
    "country,  year,var1, var2\n",
    "Rodinia,  1297,  67, -3.0\n",
    ",         1298,  69, -2.9\n",
    ",         1299,  70, -2.8\n",
    "Pannotia, 1296,  73, -4.1\n",
    ",         1297,  74, -3.9\n",
    ",         1298,  75, -3.9\n",
    "Pangaea,  1296,  54, -1.2\n",
    ",         1297,  53, -1.1\n",
    ",         1298,  52, -1.0\n",
    ",         1299,  51, -0.9\n",
    "\""
   ]
  },
  {
   "cell_type": "code",
   "execution_count": 3,
   "metadata": {
    "execution": {
     "iopub.execute_input": "2023-11-19T18:49:31.087360Z",
     "iopub.status.busy": "2023-11-19T18:49:31.084913Z",
     "iopub.status.idle": "2023-11-19T18:49:31.355654Z",
     "shell.execute_reply": "2023-11-19T18:49:31.352839Z"
    }
   },
   "outputs": [
    {
     "name": "stdout",
     "output_type": "stream",
     "text": [
      "\u001b[1mRows: \u001b[22m\u001b[34m10\u001b[39m \u001b[1mColumns: \u001b[22m\u001b[34m4\u001b[39m\u001b[36m──\u001b[39m \u001b[1mColumn specification\u001b[22m \u001b[36m────────────────────────────────────────────────────────\u001b[39m\n",
      "\u001b[1mDelimiter:\u001b[22m \",\"\n",
      "\u001b[31mchr\u001b[39m (1): country\n",
      "\u001b[32mdbl\u001b[39m (3): year, var1, var2\n",
      "\u001b[36mℹ\u001b[39m Use `spec()` to retrieve the full column specification for this data.\n",
      "\u001b[36mℹ\u001b[39m Specify the column types or set `show_col_types = FALSE` to quiet this message."
     ]
    },
    {
     "data": {
      "text/plain": [
       "\u001b[38;5;246m# A tibble: 10 × 4\u001b[39m\n",
       "   country   year  var1  var2\n",
       "   \u001b[3m\u001b[38;5;246m<chr>\u001b[39m\u001b[23m    \u001b[3m\u001b[38;5;246m<dbl>\u001b[39m\u001b[23m \u001b[3m\u001b[38;5;246m<dbl>\u001b[39m\u001b[23m \u001b[3m\u001b[38;5;246m<dbl>\u001b[39m\u001b[23m\n",
       "\u001b[38;5;250m 1\u001b[39m Rodinia   \u001b[4m1\u001b[24m297    67  -\u001b[31m3\u001b[39m  \n",
       "\u001b[38;5;250m 2\u001b[39m \u001b[31mNA\u001b[39m        \u001b[4m1\u001b[24m298    69  -\u001b[31m2\u001b[39m\u001b[31m.\u001b[39m\u001b[31m9\u001b[39m\n",
       "\u001b[38;5;250m 3\u001b[39m \u001b[31mNA\u001b[39m        \u001b[4m1\u001b[24m299    70  -\u001b[31m2\u001b[39m\u001b[31m.\u001b[39m\u001b[31m8\u001b[39m\n",
       "\u001b[38;5;250m 4\u001b[39m Pannotia  \u001b[4m1\u001b[24m296    73  -\u001b[31m4\u001b[39m\u001b[31m.\u001b[39m\u001b[31m1\u001b[39m\n",
       "\u001b[38;5;250m 5\u001b[39m \u001b[31mNA\u001b[39m        \u001b[4m1\u001b[24m297    74  -\u001b[31m3\u001b[39m\u001b[31m.\u001b[39m\u001b[31m9\u001b[39m\n",
       "\u001b[38;5;250m 6\u001b[39m \u001b[31mNA\u001b[39m        \u001b[4m1\u001b[24m298    75  -\u001b[31m3\u001b[39m\u001b[31m.\u001b[39m\u001b[31m9\u001b[39m\n",
       "\u001b[38;5;250m 7\u001b[39m Pangaea   \u001b[4m1\u001b[24m296    54  -\u001b[31m1\u001b[39m\u001b[31m.\u001b[39m\u001b[31m2\u001b[39m\n",
       "\u001b[38;5;250m 8\u001b[39m \u001b[31mNA\u001b[39m        \u001b[4m1\u001b[24m297    53  -\u001b[31m1\u001b[39m\u001b[31m.\u001b[39m\u001b[31m1\u001b[39m\n",
       "\u001b[38;5;250m 9\u001b[39m \u001b[31mNA\u001b[39m        \u001b[4m1\u001b[24m298    52  -\u001b[31m1\u001b[39m  \n",
       "\u001b[38;5;250m10\u001b[39m \u001b[31mNA\u001b[39m        \u001b[4m1\u001b[24m299    51  -\u001b[31m0\u001b[39m\u001b[31m.\u001b[39m\u001b[31m9\u001b[39m"
      ]
     },
     "execution_count": 3,
     "metadata": {},
     "output_type": "execute_result"
    }
   ],
   "source": [
    "messy_data_str %>% read_csv() -> messy_data\n",
    "messy_data"
   ]
  },
  {
   "cell_type": "code",
   "execution_count": 4,
   "metadata": {
    "execution": {
     "iopub.execute_input": "2023-11-19T18:49:31.362298Z",
     "iopub.status.busy": "2023-11-19T18:49:31.359908Z",
     "iopub.status.idle": "2023-11-19T18:49:31.416352Z",
     "shell.execute_reply": "2023-11-19T18:49:31.413134Z"
    }
   },
   "outputs": [
    {
     "data": {
      "text/plain": [
       "\u001b[38;5;246m# A tibble: 10 × 4\u001b[39m\n",
       "   country   year  var1  var2\n",
       "   \u001b[3m\u001b[38;5;246m<chr>\u001b[39m\u001b[23m    \u001b[3m\u001b[38;5;246m<dbl>\u001b[39m\u001b[23m \u001b[3m\u001b[38;5;246m<dbl>\u001b[39m\u001b[23m \u001b[3m\u001b[38;5;246m<dbl>\u001b[39m\u001b[23m\n",
       "\u001b[38;5;250m 1\u001b[39m Rodinia   \u001b[4m1\u001b[24m297    67  -\u001b[31m3\u001b[39m  \n",
       "\u001b[38;5;250m 2\u001b[39m Rodinia   \u001b[4m1\u001b[24m298    69  -\u001b[31m2\u001b[39m\u001b[31m.\u001b[39m\u001b[31m9\u001b[39m\n",
       "\u001b[38;5;250m 3\u001b[39m Rodinia   \u001b[4m1\u001b[24m299    70  -\u001b[31m2\u001b[39m\u001b[31m.\u001b[39m\u001b[31m8\u001b[39m\n",
       "\u001b[38;5;250m 4\u001b[39m Pannotia  \u001b[4m1\u001b[24m296    73  -\u001b[31m4\u001b[39m\u001b[31m.\u001b[39m\u001b[31m1\u001b[39m\n",
       "\u001b[38;5;250m 5\u001b[39m Pannotia  \u001b[4m1\u001b[24m297    74  -\u001b[31m3\u001b[39m\u001b[31m.\u001b[39m\u001b[31m9\u001b[39m\n",
       "\u001b[38;5;250m 6\u001b[39m Pannotia  \u001b[4m1\u001b[24m298    75  -\u001b[31m3\u001b[39m\u001b[31m.\u001b[39m\u001b[31m9\u001b[39m\n",
       "\u001b[38;5;250m 7\u001b[39m Pangaea   \u001b[4m1\u001b[24m296    54  -\u001b[31m1\u001b[39m\u001b[31m.\u001b[39m\u001b[31m2\u001b[39m\n",
       "\u001b[38;5;250m 8\u001b[39m Pangaea   \u001b[4m1\u001b[24m297    53  -\u001b[31m1\u001b[39m\u001b[31m.\u001b[39m\u001b[31m1\u001b[39m\n",
       "\u001b[38;5;250m 9\u001b[39m Pangaea   \u001b[4m1\u001b[24m298    52  -\u001b[31m1\u001b[39m  \n",
       "\u001b[38;5;250m10\u001b[39m Pangaea   \u001b[4m1\u001b[24m299    51  -\u001b[31m0\u001b[39m\u001b[31m.\u001b[39m\u001b[31m9\u001b[39m"
      ]
     },
     "execution_count": 4,
     "metadata": {},
     "output_type": "execute_result"
    }
   ],
   "source": [
    "messy_data %>% fill(country) -> filled_data\n",
    "filled_data"
   ]
  },
  {
   "cell_type": "markdown",
   "metadata": {},
   "source": [
    "Completing data by missing values with `complete()`"
   ]
  },
  {
   "cell_type": "code",
   "execution_count": 5,
   "metadata": {
    "execution": {
     "iopub.execute_input": "2023-11-19T18:49:31.427689Z",
     "iopub.status.busy": "2023-11-19T18:49:31.420839Z",
     "iopub.status.idle": "2023-11-19T18:49:31.467120Z",
     "shell.execute_reply": "2023-11-19T18:49:31.464308Z"
    }
   },
   "outputs": [
    {
     "data": {
      "text/plain": [
       "\u001b[38;5;246m# A tibble: 12 × 4\u001b[39m\n",
       "   country   year  var1  var2\n",
       "   \u001b[3m\u001b[38;5;246m<chr>\u001b[39m\u001b[23m    \u001b[3m\u001b[38;5;246m<dbl>\u001b[39m\u001b[23m \u001b[3m\u001b[38;5;246m<dbl>\u001b[39m\u001b[23m \u001b[3m\u001b[38;5;246m<dbl>\u001b[39m\u001b[23m\n",
       "\u001b[38;5;250m 1\u001b[39m Pangaea   \u001b[4m1\u001b[24m296    54  -\u001b[31m1\u001b[39m\u001b[31m.\u001b[39m\u001b[31m2\u001b[39m\n",
       "\u001b[38;5;250m 2\u001b[39m Pangaea   \u001b[4m1\u001b[24m297    53  -\u001b[31m1\u001b[39m\u001b[31m.\u001b[39m\u001b[31m1\u001b[39m\n",
       "\u001b[38;5;250m 3\u001b[39m Pangaea   \u001b[4m1\u001b[24m298    52  -\u001b[31m1\u001b[39m  \n",
       "\u001b[38;5;250m 4\u001b[39m Pangaea   \u001b[4m1\u001b[24m299    51  -\u001b[31m0\u001b[39m\u001b[31m.\u001b[39m\u001b[31m9\u001b[39m\n",
       "\u001b[38;5;250m 5\u001b[39m Pannotia  \u001b[4m1\u001b[24m296    73  -\u001b[31m4\u001b[39m\u001b[31m.\u001b[39m\u001b[31m1\u001b[39m\n",
       "\u001b[38;5;250m 6\u001b[39m Pannotia  \u001b[4m1\u001b[24m297    74  -\u001b[31m3\u001b[39m\u001b[31m.\u001b[39m\u001b[31m9\u001b[39m\n",
       "\u001b[38;5;250m 7\u001b[39m Pannotia  \u001b[4m1\u001b[24m298    75  -\u001b[31m3\u001b[39m\u001b[31m.\u001b[39m\u001b[31m9\u001b[39m\n",
       "\u001b[38;5;250m 8\u001b[39m Pannotia  \u001b[4m1\u001b[24m299    \u001b[31mNA\u001b[39m  \u001b[31mNA\u001b[39m  \n",
       "\u001b[38;5;250m 9\u001b[39m Rodinia   \u001b[4m1\u001b[24m296    \u001b[31mNA\u001b[39m  \u001b[31mNA\u001b[39m  \n",
       "\u001b[38;5;250m10\u001b[39m Rodinia   \u001b[4m1\u001b[24m297    67  -\u001b[31m3\u001b[39m  \n",
       "\u001b[38;5;250m11\u001b[39m Rodinia   \u001b[4m1\u001b[24m298    69  -\u001b[31m2\u001b[39m\u001b[31m.\u001b[39m\u001b[31m9\u001b[39m\n",
       "\u001b[38;5;250m12\u001b[39m Rodinia   \u001b[4m1\u001b[24m299    70  -\u001b[31m2\u001b[39m\u001b[31m.\u001b[39m\u001b[31m8\u001b[39m"
      ]
     },
     "execution_count": 5,
     "metadata": {},
     "output_type": "execute_result"
    }
   ],
   "source": [
    "filled_data %>% complete(crossing(country,year))"
   ]
  }
 ],
 "metadata": {
  "kernelspec": {
   "display_name": "R (RKernel)",
   "language": "R",
   "name": "rkernel"
  },
  "language_info": {
   "codemirror_mode": "R",
   "file_extension": ".R",
   "mimetype": "text/x-r-source",
   "name": "R",
   "pygments_lexer": "r",
   "version": "4.3.2"
  }
 },
 "nbformat": 4,
 "nbformat_minor": 4
}
