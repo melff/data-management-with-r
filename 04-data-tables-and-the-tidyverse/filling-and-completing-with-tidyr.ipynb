{
 "cells": [
  {
   "cell_type": "markdown",
   "metadata": {},
   "source": [
    "# Filling and completing with *tidyr*\n",
    "\n",
    "The following makes use of the packages *tidyr* and *readr*. You may need to install them from [CRAN](https://cran.r-project.org) using the code `install.packages(c(\"tidyr\",\"readr\"))` if you want to run this on your computer. \n",
    "(The packages are already installed\n",
    "on the notebook container, however.)"
   ]
  },
  {
   "cell_type": "markdown",
   "metadata": {},
   "source": [
    "Filling missing values with `fill()`"
   ]
  },
  {
   "cell_type": "code",
   "execution_count": null,
   "metadata": {},
   "outputs": [],
   "source": [
    "library(tidyr)\n",
    "library(readr)"
   ]
  },
  {
   "cell_type": "code",
   "execution_count": null,
   "metadata": {},
   "outputs": [],
   "source": [
    "messy_data_str <- \"\n",
    "country,  year,var1, var2\n",
    "Rodinia,  1297,  67, -3.0\n",
    ",         1298,  69, -2.9\n",
    ",         1299,  70, -2.8\n",
    "Pannotia, 1296,  73, -4.1\n",
    ",         1297,  74, -3.9\n",
    ",         1298,  75, -3.9\n",
    "Pangaea,  1296,  54, -1.2\n",
    ",         1297,  53, -1.1\n",
    ",         1298,  52, -1.0\n",
    ",         1299,  51, -0.9\n",
    "\""
   ]
  },
  {
   "cell_type": "code",
   "execution_count": null,
   "metadata": {},
   "outputs": [],
   "source": [
    "messy_data_str %>% read_csv() -> messy_data\n",
    "messy_data"
   ]
  },
  {
   "cell_type": "code",
   "execution_count": null,
   "metadata": {},
   "outputs": [],
   "source": [
    "messy_data %>% fill(country) -> filled_data\n",
    "filled_data"
   ]
  },
  {
   "cell_type": "markdown",
   "metadata": {},
   "source": [
    "Completing data by missing values with `complete()`"
   ]
  },
  {
   "cell_type": "code",
   "execution_count": null,
   "metadata": {},
   "outputs": [],
   "source": [
    "filled_data %>% complete(crossing(country,year))"
   ]
  }
 ],
 "metadata": {
  "kernelspec": {
   "display_name": "R",
   "language": "R",
   "name": "ir"
  },
  "language_info": {
   "codemirror_mode": "r",
   "file_extension": ".r",
   "mimetype": "text/x-r-source",
   "name": "R",
   "pygments_lexer": "r",
   "version": "4.0.5"
  }
 },
 "nbformat": 4,
 "nbformat_minor": 4
}
