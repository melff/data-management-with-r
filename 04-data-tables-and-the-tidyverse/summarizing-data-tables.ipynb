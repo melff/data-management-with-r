{
 "cells": [
  {
   "cell_type": "markdown",
   "metadata": {},
   "source": [
    "# Summarizing data tables"
   ]
  },
  {
   "cell_type": "markdown",
   "metadata": {},
   "source": [
    "Here we use data from the British Election Study 2010. The data set\n",
    "[bes2010feelings.RData](https://github.com/melff/dataman-r/raw/main/03-data-frames/bes2010feelings.RData)\n",
    "is prepared from the original available at\n",
    "https://www.britishelectionstudy.com/data-object/2010-bes-cross-section/ by\n",
    "removing identifying information and scrambling the data."
   ]
  },
  {
   "cell_type": "code",
   "execution_count": 1,
   "metadata": {
    "execution": {
     "iopub.execute_input": "2023-11-19T18:18:15.218673Z",
     "iopub.status.busy": "2023-11-19T18:18:15.216146Z",
     "iopub.status.idle": "2023-11-19T18:18:15.231552Z",
     "shell.execute_reply": "2023-11-19T18:18:15.228689Z"
    }
   },
   "outputs": [],
   "source": [
    "load(\"bes2010feelings.RData\")"
   ]
  },
  {
   "cell_type": "code",
   "execution_count": 2,
   "metadata": {
    "execution": {
     "iopub.execute_input": "2023-11-19T18:18:15.268587Z",
     "iopub.status.busy": "2023-11-19T18:18:15.235868Z",
     "iopub.status.idle": "2023-11-19T18:18:15.427871Z",
     "shell.execute_reply": "2023-11-19T18:18:15.425017Z"
    }
   },
   "outputs": [],
   "source": [
    "library(data.table)"
   ]
  },
  {
   "cell_type": "code",
   "execution_count": 3,
   "metadata": {
    "execution": {
     "iopub.execute_input": "2023-11-19T18:18:15.434778Z",
     "iopub.status.busy": "2023-11-19T18:18:15.432204Z",
     "iopub.status.idle": "2023-11-19T18:18:15.442494Z",
     "shell.execute_reply": "2023-11-19T18:18:15.439771Z"
    }
   },
   "outputs": [],
   "source": [
    "setDT(bes2010feelings)"
   ]
  },
  {
   "cell_type": "code",
   "execution_count": 4,
   "metadata": {
    "execution": {
     "iopub.execute_input": "2023-11-19T18:18:15.449393Z",
     "iopub.status.busy": "2023-11-19T18:18:15.446887Z",
     "iopub.status.idle": "2023-11-19T18:18:15.474773Z",
     "shell.execute_reply": "2023-11-19T18:18:15.471992Z"
    }
   },
   "outputs": [
    {
     "data": {
      "text/plain": [
       "      Brown  Cameron    Clegg    N\n",
       "1: 4.406517 5.162484 4.850231 5010"
      ]
     },
     "execution_count": 4,
     "metadata": {},
     "output_type": "execute_result"
    }
   ],
   "source": [
    "Mean <- function(x) mean(x,na.rm=TRUE)\n",
    "bes2010feelings[,.(Brown=Mean(flng.brown),\n",
    "                   Cameron=Mean(flng.cameron),\n",
    "                   Clegg=Mean(flng.clegg),\n",
    "                   N=.N)]"
   ]
  },
  {
   "cell_type": "code",
   "execution_count": 5,
   "metadata": {
    "execution": {
     "iopub.execute_input": "2023-11-19T18:18:15.484842Z",
     "iopub.status.busy": "2023-11-19T18:18:15.482439Z",
     "iopub.status.idle": "2023-11-19T18:18:15.499585Z",
     "shell.execute_reply": "2023-11-19T18:18:15.496581Z"
    }
   },
   "outputs": [
    {
     "data": {
      "text/plain": [
       "   wave   region    Brown  Cameron    Clegg    N\n",
       "1:  Pre  England 4.092674 5.284810 4.618690 1159\n",
       "2:  Pre     <NA> 4.507143 4.929870 4.426573  437\n",
       "3:  Pre Scotland 5.395000 4.502591 4.405229  207\n",
       "4:  Pre    Wales 4.328244 4.774194 4.592233  132\n",
       "5: Post  England 4.140990 5.441454 5.160313 2175\n",
       "6: Post Scotland 5.510769 4.539075 4.513793  665\n",
       "7: Post    Wales 4.307692 4.855895 4.814480  235"
      ]
     },
     "execution_count": 5,
     "metadata": {},
     "output_type": "execute_result"
    }
   ],
   "source": [
    "bes2010feelings[,.(Brown=Mean(flng.brown),\n",
    "                   Cameron=Mean(flng.cameron),\n",
    "                   Clegg=Mean(flng.clegg),\n",
    "                   N=.N),\n",
    "                by=.(wave,region)]"
   ]
  }
 ],
 "metadata": {
  "kernelspec": {
   "display_name": "R (RKernel)",
   "language": "R",
   "name": "rkernel"
  },
  "language_info": {
   "codemirror_mode": "R",
   "file_extension": ".R",
   "mimetype": "text/x-r-source",
   "name": "R",
   "pygments_lexer": "r",
   "version": "4.3.2"
  }
 },
 "nbformat": 4,
 "nbformat_minor": 4
}
