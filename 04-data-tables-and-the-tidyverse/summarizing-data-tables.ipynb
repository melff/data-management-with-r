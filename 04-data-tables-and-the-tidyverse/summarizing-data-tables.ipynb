{
 "cells": [
  {
   "cell_type": "markdown",
   "metadata": {},
   "source": [
    "# Summarizing data tables"
   ]
  },
  {
   "cell_type": "markdown",
   "metadata": {},
   "source": [
    "Here we use data from the British Election Study 2010. The data set\n",
    "[bes2010feelings.RData](https://github.com/melff/dataman-r/raw/main/03-data-frames/bes2010feelings.RData)\n",
    "is prepared from the original available at\n",
    "https://www.britishelectionstudy.com/data-object/2010-bes-cross-section/ by\n",
    "removing identifying information and scrambling the data."
   ]
  },
  {
   "cell_type": "code",
   "execution_count": null,
   "metadata": {},
   "outputs": [],
   "source": [
    "load(\"bes2010feelings.RData\")"
   ]
  },
  {
   "cell_type": "code",
   "execution_count": null,
   "metadata": {},
   "outputs": [],
   "source": [
    "library(data.table)"
   ]
  },
  {
   "cell_type": "code",
   "execution_count": null,
   "metadata": {},
   "outputs": [],
   "source": [
    "setDT(bes2010feelings)"
   ]
  },
  {
   "cell_type": "code",
   "execution_count": null,
   "metadata": {},
   "outputs": [],
   "source": [
    "Mean <- function(x) mean(x,na.rm=TRUE)\n",
    "bes2010feelings[,.(Brown=Mean(flng.brown),\n",
    "                   Cameron=Mean(flng.cameron),\n",
    "                   Clegg=Mean(flng.clegg),\n",
    "                   N=.N)]"
   ]
  },
  {
   "cell_type": "code",
   "execution_count": null,
   "metadata": {},
   "outputs": [],
   "source": [
    "bes2010feelings[,.(Brown=Mean(flng.brown),\n",
    "                   Cameron=Mean(flng.cameron),\n",
    "                   Clegg=Mean(flng.clegg),\n",
    "                   N=.N),\n",
    "                by=.(wave,region)]"
   ]
  }
 ],
 "metadata": {
  "kernelspec": {
   "display_name": "R",
   "language": "R",
   "name": "ir"
  },
  "language_info": {
   "codemirror_mode": "r",
   "file_extension": ".r",
   "mimetype": "text/x-r-source",
   "name": "R",
   "pygments_lexer": "r",
   "version": "4.0.5"
  }
 },
 "nbformat": 4,
 "nbformat_minor": 4
}
