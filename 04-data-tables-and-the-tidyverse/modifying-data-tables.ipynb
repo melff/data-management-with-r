{
 "cells": [
  {
   "cell_type": "markdown",
   "metadata": {},
   "source": [
    "# Modifying data tables"
   ]
  },
  {
   "cell_type": "markdown",
   "metadata": {},
   "source": [
    "The following makes use of the *data.table* package. You may need to install it\n",
    "from [CRAN](https://cran.r-project.org/package=data.table) using the code\n",
    "`install.packages(\"data.table\")` if you want to run this on your computer. (The package is already installed on\n",
    "the notebook container, however.)"
   ]
  },
  {
   "cell_type": "code",
   "execution_count": 1,
   "metadata": {
    "execution": {
     "iopub.execute_input": "2023-11-19T18:19:29.433785Z",
     "iopub.status.busy": "2023-11-19T18:19:29.431217Z",
     "iopub.status.idle": "2023-11-19T18:19:29.543847Z",
     "shell.execute_reply": "2023-11-19T18:19:29.540888Z"
    }
   },
   "outputs": [],
   "source": [
    "library(data.table)\n",
    "UK <- data.table(\n",
    "           Population = c(55619400,1885400,5424800,3125000),\n",
    "           Area = c(50301,5460,30090,8023),\n",
    "           GVA = c(28096,20000,24800,19900),\n",
    "           country = c(\"England\",\n",
    "                         \"Northern Ireland\",\n",
    "                         \"Scotland\",\n",
    "                         \"Wales\"))"
   ]
  },
  {
   "cell_type": "code",
   "execution_count": 2,
   "metadata": {
    "execution": {
     "iopub.execute_input": "2023-11-19T18:19:29.579451Z",
     "iopub.status.busy": "2023-11-19T18:19:29.548423Z",
     "iopub.status.idle": "2023-11-19T18:19:29.662148Z",
     "shell.execute_reply": "2023-11-19T18:19:29.658867Z"
    }
   },
   "outputs": [
    {
     "data": {
      "text/plain": [
       "   Population  Area   GVA          country   Density\n",
       "1:   55619400 50301 28096          England 1105.7315\n",
       "2:    1885400  5460 20000 Northern Ireland  345.3114\n",
       "3:    5424800 30090 24800         Scotland  180.2858\n",
       "4:    3125000  8023 19900            Wales  389.5052"
      ]
     },
     "execution_count": 2,
     "metadata": {},
     "output_type": "execute_result"
    }
   ],
   "source": [
    "UK1 <- UK\n",
    "UK[,Density := Population/Area]"
   ]
  },
  {
   "cell_type": "code",
   "execution_count": 3,
   "metadata": {
    "execution": {
     "iopub.execute_input": "2023-11-19T18:19:29.669456Z",
     "iopub.status.busy": "2023-11-19T18:19:29.666723Z",
     "iopub.status.idle": "2023-11-19T18:19:29.681894Z",
     "shell.execute_reply": "2023-11-19T18:19:29.678910Z"
    }
   },
   "outputs": [
    {
     "data": {
      "text/plain": [
       "   Population  Area   GVA          country   Density\n",
       "1:   55619400 50301 28096          England 1105.7315\n",
       "2:    1885400  5460 20000 Northern Ireland  345.3114\n",
       "3:    5424800 30090 24800         Scotland  180.2858\n",
       "4:    3125000  8023 19900            Wales  389.5052"
      ]
     },
     "execution_count": 3,
     "metadata": {},
     "output_type": "execute_result"
    }
   ],
   "source": [
    "UK"
   ]
  },
  {
   "cell_type": "code",
   "execution_count": 4,
   "metadata": {
    "execution": {
     "iopub.execute_input": "2023-11-19T18:19:29.689096Z",
     "iopub.status.busy": "2023-11-19T18:19:29.686516Z",
     "iopub.status.idle": "2023-11-19T18:19:29.705088Z",
     "shell.execute_reply": "2023-11-19T18:19:29.701628Z"
    }
   },
   "outputs": [
    {
     "data": {
      "text/plain": [
       "   Population  Area   GVA          country   Density\n",
       "1:   55619400 50301 28096          England 1105.7315\n",
       "2:    1885400  5460 20000 Northern Ireland  345.3114\n",
       "3:    5424800 30090 24800         Scotland  180.2858\n",
       "4:    3125000  8023 19900            Wales  389.5052"
      ]
     },
     "execution_count": 4,
     "metadata": {},
     "output_type": "execute_result"
    }
   ],
   "source": [
    "UK1"
   ]
  }
 ],
 "metadata": {
  "kernelspec": {
   "display_name": "R (RKernel)",
   "language": "R",
   "name": "rkernel"
  },
  "language_info": {
   "codemirror_mode": "R",
   "file_extension": ".R",
   "mimetype": "text/x-r-source",
   "name": "R",
   "pygments_lexer": "r",
   "version": "4.3.2"
  }
 },
 "nbformat": 4,
 "nbformat_minor": 4
}
