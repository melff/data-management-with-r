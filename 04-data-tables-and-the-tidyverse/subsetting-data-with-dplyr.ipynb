{
 "cells": [
  {
   "cell_type": "markdown",
   "metadata": {},
   "source": [
    "# Subsetting data with *dplyr*"
   ]
  },
  {
   "cell_type": "markdown",
   "metadata": {},
   "source": [
    "The following makes use of the *dplyr* package. You may need to install it\n",
    "from [CRAN](https://cran.r-project.org/package=data.table) using the code\n",
    "`install.packages(\"dplyr\")` if you want to run this on your computer. (The package is already installed on\n",
    "the notebook container, however.)"
   ]
  },
  {
   "cell_type": "markdown",
   "metadata": {},
   "source": [
    "Here we use data from the British Election Study 2010. The data set [bes2010feelings.RData](https://github.com/melff/dataman-r/raw/main/03-data-frames/bes2010feelings.RData) is prepared from the original available at https://www.britishelectionstudy.com/data-object/2010-bes-cross-section/ by removing identifying information and scrambling the data."
   ]
  },
  {
   "cell_type": "code",
   "execution_count": 1,
   "metadata": {
    "execution": {
     "iopub.execute_input": "2023-11-19T18:22:26.672207Z",
     "iopub.status.busy": "2023-11-19T18:22:26.669769Z",
     "iopub.status.idle": "2023-11-19T18:22:26.685266Z",
     "shell.execute_reply": "2023-11-19T18:22:26.682180Z"
    }
   },
   "outputs": [],
   "source": [
    "load(\"bes2010feelings.RData\")"
   ]
  },
  {
   "cell_type": "code",
   "execution_count": 2,
   "metadata": {
    "execution": {
     "iopub.execute_input": "2023-11-19T18:22:26.721272Z",
     "iopub.status.busy": "2023-11-19T18:22:26.689562Z",
     "iopub.status.idle": "2023-11-19T18:22:26.976916Z",
     "shell.execute_reply": "2023-11-19T18:22:26.972108Z"
    }
   },
   "outputs": [
    {
     "name": "stdout",
     "output_type": "stream",
     "text": [
      "\n",
      "Attaching package: ‘dplyr’\n",
      "\n",
      "The following objects are masked from ‘package:stats’:\n",
      "\n",
      "    filter, lag\n",
      "\n",
      "The following objects are masked from ‘package:base’:\n",
      "\n",
      "    intersect, setdiff, setequal, union\n",
      "\n"
     ]
    }
   ],
   "source": [
    "library(dplyr)"
   ]
  },
  {
   "cell_type": "code",
   "execution_count": 3,
   "metadata": {
    "execution": {
     "iopub.execute_input": "2023-11-19T18:22:26.984133Z",
     "iopub.status.busy": "2023-11-19T18:22:26.981672Z",
     "iopub.status.idle": "2023-11-19T18:22:27.011096Z",
     "shell.execute_reply": "2023-11-19T18:22:27.008401Z"
    }
   },
   "outputs": [],
   "source": [
    "bes2010feelings.sub <- bes2010feelings %>%\n",
    "                            filter(region == \"Scotland\") %>%\n",
    "                            select(wave,\n",
    "                                   flng.brown,\n",
    "                                   flng.cameron,\n",
    "                                   flng.clegg,\n",
    "                                   flng.salmond)"
   ]
  },
  {
   "cell_type": "code",
   "execution_count": 4,
   "metadata": {
    "execution": {
     "iopub.execute_input": "2023-11-19T18:22:27.018108Z",
     "iopub.status.busy": "2023-11-19T18:22:27.015368Z",
     "iopub.status.idle": "2023-11-19T18:22:27.033342Z",
     "shell.execute_reply": "2023-11-19T18:22:27.030722Z"
    }
   },
   "outputs": [
    {
     "data": {
      "text/plain": [
       "        wave flng.brown flng.cameron flng.clegg flng.salmond\n",
       "55002.1  Pre          8            3         NA            7\n",
       "55003.1  Pre          0            3         NA            2\n",
       "55006.1  Pre          4            5          5            7\n",
       "55007.1  Pre          6            5          6            6\n",
       "55010.1  Pre          8            6          7            0\n",
       "55015.1  Pre          9            3          3            4"
      ]
     },
     "execution_count": 4,
     "metadata": {},
     "output_type": "execute_result"
    }
   ],
   "source": [
    "head(bes2010feelings.sub)"
   ]
  }
 ],
 "metadata": {
  "kernelspec": {
   "display_name": "R (RKernel)",
   "language": "R",
   "name": "rkernel"
  },
  "language_info": {
   "codemirror_mode": "R",
   "file_extension": ".R",
   "mimetype": "text/x-r-source",
   "name": "R",
   "pygments_lexer": "r",
   "version": "4.3.2"
  }
 },
 "nbformat": 4,
 "nbformat_minor": 4
}
