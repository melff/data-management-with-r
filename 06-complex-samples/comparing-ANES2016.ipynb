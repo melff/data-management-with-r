{
 "cells": [
  {
   "cell_type": "markdown",
   "metadata": {},
   "source": [
    "# Comparing poststratification, raking, and calibration with ANES data"
   ]
  },
  {
   "cell_type": "code",
   "execution_count": null,
   "metadata": {},
   "outputs": [],
   "source": [
    "options(jupyter.rich_display=FALSE) # Create output as usual in R"
   ]
  },
  {
   "cell_type": "markdown",
   "metadata": {},
   "source": [
    "The following makes use of the packages *survey* and *memisc*. You may need to\n",
    "install them from [CRAN](https://cran.r-project.org) using the code\n",
    "`install.packages(c(\"survey\",\"memisc\"))` if you want to run this on your computer. (The packages are already installed on the notebook container, however.)"
   ]
  },
  {
   "cell_type": "code",
   "execution_count": null,
   "metadata": {},
   "outputs": [],
   "source": [
    "library(survey)"
   ]
  },
  {
   "cell_type": "code",
   "execution_count": null,
   "metadata": {},
   "outputs": [],
   "source": [
    "library(memisc)"
   ]
  },
  {
   "cell_type": "markdown",
   "metadata": {},
   "source": [
    "This loads data files created in earlier examples."
   ]
  },
  {
   "cell_type": "code",
   "execution_count": null,
   "metadata": {},
   "outputs": [],
   "source": [
    "load(\"anes-2016-vprevote-design.RData\")\n",
    "load(\"anes-2016-prevote-desgn-post.RData\")\n",
    "load(\"anes-2016-prevote-desgn-rake.RData\")\n",
    "load(\"anes-2016-prevote-desgn-calib.RData\")"
   ]
  },
  {
   "cell_type": "markdown",
   "metadata": {},
   "source": [
    "Let's compare the effect of poststratification and raking on the relation\n",
    "between variables.\n",
    "\n",
    "First, we create a table from the data with valid responses about voting\n",
    "behaviour in 2012 and 2016."
   ]
  },
  {
   "cell_type": "code",
   "execution_count": null,
   "metadata": {},
   "outputs": [],
   "source": [
    "tab <- svytable(~ vote16 + recall12,\n",
    "                 design = anes_2016_vprevote_desgn)\n",
    "percentages(vote16 ~ recall12, data=tab)"
   ]
  },
  {
   "cell_type": "markdown",
   "metadata": {},
   "source": [
    "Second, we create a table from the poststatified data."
   ]
  },
  {
   "cell_type": "code",
   "execution_count": null,
   "metadata": {},
   "outputs": [],
   "source": [
    "tab_post <- svytable(~ vote16 + recall12,\n",
    "                 design = anes_2016_prevote_desgn_post)\n",
    "percentages(vote16 ~ recall12, data=tab_post)"
   ]
  },
  {
   "cell_type": "markdown",
   "metadata": {},
   "source": [
    "Third, we create a table from the raked data."
   ]
  },
  {
   "cell_type": "code",
   "execution_count": null,
   "metadata": {},
   "outputs": [],
   "source": [
    "tab_rak <- svytable(~ vote16 + recall12,\n",
    "                    design = anes_2016_prevote_desgn_rake)\n",
    "percentages(vote16 ~ recall12, data=tab_rak)"
   ]
  },
  {
   "cell_type": "markdown",
   "metadata": {},
   "source": [
    "Fourth, we create a table from the calibrated data"
   ]
  },
  {
   "cell_type": "code",
   "execution_count": null,
   "metadata": {},
   "outputs": [],
   "source": [
    "tab_calib <- svytable(~ vote16 + recall12,\n",
    "                    design = anes_2016_prevote_desgn_calib)\n",
    "percentages(vote16 ~ recall12, data=tab_calib)"
   ]
  },
  {
   "cell_type": "markdown",
   "metadata": {},
   "source": [
    "Poststratification does not alter percentages that are conditional on the\n",
    "variable used for poststratification. Yet raking does change the conditional percentages."
   ]
  },
  {
   "cell_type": "markdown",
   "metadata": {},
   "source": [
    "To examine whether raking affects relations between recalled vote in 2012 and\n",
    "vote in 2016 we compute log-odds ratios:"
   ]
  },
  {
   "cell_type": "code",
   "execution_count": null,
   "metadata": {},
   "outputs": [],
   "source": [
    "log.odds <- function(x) log((x[1,1]/x[1,2])/(x[2,1]/x[2,2]))"
   ]
  },
  {
   "cell_type": "markdown",
   "metadata": {},
   "source": [
    "Log-odds ratios are a way to describe the relation between two dichotomous\n",
    "variables. Like correlations between continuous variables they are not\n",
    "affected by the marginal distribution."
   ]
  },
  {
   "cell_type": "code",
   "execution_count": null,
   "metadata": {},
   "outputs": [],
   "source": [
    "log.odds(tab)"
   ]
  },
  {
   "cell_type": "code",
   "execution_count": null,
   "metadata": {},
   "outputs": [],
   "source": [
    "log.odds(tab_post)"
   ]
  },
  {
   "cell_type": "code",
   "execution_count": null,
   "metadata": {},
   "outputs": [],
   "source": [
    "log.odds(tab_rak)"
   ]
  },
  {
   "cell_type": "code",
   "execution_count": null,
   "metadata": {},
   "outputs": [],
   "source": [
    "log.odds(tab_calib)"
   ]
  },
  {
   "cell_type": "markdown",
   "metadata": {},
   "source": [
    "Clearly, both poststratfication and raking leaves log-odds ratios\n",
    "unaffected. Calibration has an effect, but this appears to be minor (at least\n",
    "in the present case)."
   ]
  }
 ],
 "metadata": {
  "kernelspec": {
   "display_name": "R",
   "language": "R",
   "name": "ir"
  },
  "language_info": {
   "codemirror_mode": "r",
   "file_extension": ".r",
   "mimetype": "text/x-r-source",
   "name": "R",
   "pygments_lexer": "r",
   "version": "4.0.5"
  }
 },
 "nbformat": 4,
 "nbformat_minor": 4
}
