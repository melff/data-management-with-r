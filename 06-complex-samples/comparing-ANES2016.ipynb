{
 "cells": [
  {
   "cell_type": "markdown",
   "metadata": {},
   "source": [
    "# Comparing poststratification, raking, and calibration with ANES data"
   ]
  },
  {
   "cell_type": "markdown",
   "metadata": {},
   "source": [
    "The following makes use of the packages *survey* and *memisc*. You may need to\n",
    "install them from [CRAN](https://cran.r-project.org) using the code\n",
    "`install.packages(c(\"survey\",\"memisc\"))` if you want to run this on your computer. (The packages are already installed on the notebook container, however.)"
   ]
  },
  {
   "cell_type": "code",
   "execution_count": 1,
   "metadata": {},
   "outputs": [
    {
     "name": "stdout",
     "output_type": "stream",
     "text": [
      "Loading required package: grid\n",
      "Loading required package: Matrix\n",
      "Loading required package: survival\n",
      "\n",
      "Attaching package: ‘survey’\n",
      "\n",
      "The following object is masked from ‘package:graphics’:\n",
      "\n",
      "    dotchart\n",
      "\n"
     ]
    }
   ],
   "source": [
    "library(survey)"
   ]
  },
  {
   "cell_type": "code",
   "execution_count": 2,
   "metadata": {},
   "outputs": [
    {
     "name": "stdout",
     "output_type": "stream",
     "text": [
      "Loading required package: lattice\n",
      "Loading required package: MASS\n",
      "\n",
      "Attaching package: ‘memisc’\n",
      "\n",
      "The following object is masked from ‘package:Matrix’:\n",
      "\n",
      "    as.array\n",
      "\n",
      "The following objects are masked from ‘package:stats’:\n",
      "\n",
      "    contr.sum, contr.treatment, contrasts\n",
      "\n",
      "The following object is masked from ‘package:base’:\n",
      "\n",
      "    as.array\n",
      "\n"
     ]
    }
   ],
   "source": [
    "library(memisc)"
   ]
  },
  {
   "cell_type": "markdown",
   "metadata": {},
   "source": [
    "This loads data files created in earlier examples."
   ]
  },
  {
   "cell_type": "code",
   "execution_count": 3,
   "metadata": {},
   "outputs": [],
   "source": [
    "load(\"anes-2016-vprevote-design.RData\")\n",
    "load(\"anes-2016-prevote-desgn-post.RData\")\n",
    "load(\"anes-2016-prevote-desgn-rake.RData\")\n",
    "load(\"anes-2016-prevote-desgn-calib.RData\")"
   ]
  },
  {
   "cell_type": "markdown",
   "metadata": {},
   "source": [
    "Let's compare the effect of poststratification and raking on the relation\n",
    "between variables.\n",
    "\n",
    "First, we create a table from the data with valid responses about voting\n",
    "behaviour in 2012 and 2016."
   ]
  },
  {
   "cell_type": "code",
   "execution_count": 4,
   "metadata": {},
   "outputs": [
    {
     "data": {
      "text/plain": [
       "         recall12\n",
       "vote16        Obama    Romney     Other   No vote\n",
       "  Clinton 76.187161  3.813877  9.241746 22.757762\n",
       "  Trump    8.644019 74.683608 35.531586 23.783194\n",
       "  Other    8.228826  7.974947 55.226668  4.516499\n",
       "  No vote  6.939995 13.527568  0.000000 48.942545"
      ]
     },
     "execution_count": 4,
     "metadata": {},
     "output_type": "execute_result"
    }
   ],
   "source": [
    "tab <- svytable(~ vote16 + recall12,\n",
    "                 design = anes_2016_vprevote_desgn)\n",
    "percentages(vote16 ~ recall12, data=tab)"
   ]
  },
  {
   "cell_type": "markdown",
   "metadata": {},
   "source": [
    "Second, we create a table from the poststatified data."
   ]
  },
  {
   "cell_type": "code",
   "execution_count": 5,
   "metadata": {},
   "outputs": [
    {
     "data": {
      "text/plain": [
       "         recall12\n",
       "vote16        Obama    Romney     Other   No vote\n",
       "  Clinton 76.187161  3.813877  9.241746 22.757762\n",
       "  Trump    8.644019 74.683608 35.531586 23.783194\n",
       "  Other    8.228826  7.974947 55.226668  4.516499\n",
       "  No vote  6.939995 13.527568  0.000000 48.942545"
      ]
     },
     "execution_count": 5,
     "metadata": {},
     "output_type": "execute_result"
    }
   ],
   "source": [
    "tab_post <- svytable(~ vote16 + recall12,\n",
    "                 design = anes_2016_prevote_desgn_post)\n",
    "percentages(vote16 ~ recall12, data=tab_post)"
   ]
  },
  {
   "cell_type": "markdown",
   "metadata": {},
   "source": [
    "Third, we create a table from the raked data."
   ]
  },
  {
   "cell_type": "code",
   "execution_count": 6,
   "metadata": {},
   "outputs": [
    {
     "data": {
      "text/plain": [
       "         recall12\n",
       "vote16        Obama    Romney     Other   No vote\n",
       "  Clinton 70.403656  3.152370 12.125475 12.579417\n",
       "  Trump    8.177831 63.198219 47.727460 13.458918\n",
       "  Other    4.213195  3.652234 40.147065  1.383226\n",
       "  No vote 17.205318 29.997177  0.000000 72.578439"
      ]
     },
     "execution_count": 6,
     "metadata": {},
     "output_type": "execute_result"
    }
   ],
   "source": [
    "tab_rak <- svytable(~ vote16 + recall12,\n",
    "                    design = anes_2016_prevote_desgn_rake)\n",
    "percentages(vote16 ~ recall12, data=tab_rak)"
   ]
  },
  {
   "cell_type": "markdown",
   "metadata": {},
   "source": [
    "Fourth, we create a table from the calibrated data"
   ]
  },
  {
   "cell_type": "code",
   "execution_count": 7,
   "metadata": {},
   "outputs": [
    {
     "data": {
      "text/plain": [
       "         recall12\n",
       "vote16        Obama    Romney     Other   No vote\n",
       "  Clinton 69.137748  3.114927 11.193203 13.406539\n",
       "  Trump    8.016145 62.183500 43.631304 14.227998\n",
       "  Other    3.637356  3.547990 45.175493  1.694680\n",
       "  No vote 19.208751 31.153583  0.000000 70.670783"
      ]
     },
     "execution_count": 7,
     "metadata": {},
     "output_type": "execute_result"
    }
   ],
   "source": [
    "tab_calib <- svytable(~ vote16 + recall12,\n",
    "                    design = anes_2016_prevote_desgn_calib)\n",
    "percentages(vote16 ~ recall12, data=tab_calib)"
   ]
  },
  {
   "cell_type": "markdown",
   "metadata": {},
   "source": [
    "Poststratification does not alter percentages that are conditional on the\n",
    "variable used for poststratification. Yet raking does change the conditional percentages."
   ]
  },
  {
   "cell_type": "markdown",
   "metadata": {},
   "source": [
    "To examine whether raking affects relations between recalled vote in 2012 and\n",
    "vote in 2016 we compute log-odds ratios:"
   ]
  },
  {
   "cell_type": "code",
   "execution_count": 8,
   "metadata": {},
   "outputs": [],
   "source": [
    "log.odds <- function(x) log((x[1,1]/x[1,2])/(x[2,1]/x[2,2]))"
   ]
  },
  {
   "cell_type": "markdown",
   "metadata": {},
   "source": [
    "Log-odds ratios are a way to describe the relation between two dichotomous\n",
    "variables. Like correlations between continuous variables they are not\n",
    "affected by the marginal distribution."
   ]
  },
  {
   "cell_type": "code",
   "execution_count": 9,
   "metadata": {},
   "outputs": [
    {
     "data": {
      "text/plain": [
       "[1] 5.15094"
      ]
     },
     "execution_count": 9,
     "metadata": {},
     "output_type": "execute_result"
    }
   ],
   "source": [
    "log.odds(tab)"
   ]
  },
  {
   "cell_type": "code",
   "execution_count": 10,
   "metadata": {},
   "outputs": [
    {
     "data": {
      "text/plain": [
       "[1] 5.15094"
      ]
     },
     "execution_count": 10,
     "metadata": {},
     "output_type": "execute_result"
    }
   ],
   "source": [
    "log.odds(tab_post)"
   ]
  },
  {
   "cell_type": "code",
   "execution_count": 11,
   "metadata": {},
   "outputs": [
    {
     "data": {
      "text/plain": [
       "[1] 5.15094"
      ]
     },
     "execution_count": 11,
     "metadata": {},
     "output_type": "execute_result"
    }
   ],
   "source": [
    "log.odds(tab_rak)"
   ]
  },
  {
   "cell_type": "code",
   "execution_count": 12,
   "metadata": {},
   "outputs": [
    {
     "data": {
      "text/plain": [
       "[1] 5.148527"
      ]
     },
     "execution_count": 12,
     "metadata": {},
     "output_type": "execute_result"
    }
   ],
   "source": [
    "log.odds(tab_calib)"
   ]
  },
  {
   "cell_type": "markdown",
   "metadata": {},
   "source": [
    "Clearly, both poststratfication and raking leaves log-odds ratios\n",
    "unaffected. Calibration has an effect, but this appears to be minor (at least\n",
    "in the present case)."
   ]
  }
 ],
 "metadata": {
  "kernelspec": {
   "display_name": "R (RKernel)",
   "language": "R",
   "name": "rkernel"
  },
  "language_info": {
   "codemirror_mode": "R",
   "file_extension": ".R",
   "mimetype": "text/x-r-source",
   "name": "R",
   "pygments_lexer": "r",
   "version": "4.3.2"
  }
 },
 "nbformat": 4,
 "nbformat_minor": 4
}
