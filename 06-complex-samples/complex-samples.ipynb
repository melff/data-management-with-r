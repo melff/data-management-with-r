{
 "cells": [
  {
   "cell_type": "markdown",
   "id": "bdc3257f-674c-4136-97e2-2d71a0a1a351",
   "metadata": {},
   "source": [
    "# Data from Complex Samples\n",
    "\n",
    "Data from social science surveys often come from complex samples. In order to achieve efficient or at least accurate inference one may need to take into account the sampling design in the computation of sample summaries, e.g. by the application of sampling weights. The chapter shows how the _survey_ package can help to take into account the sampling design in data management and data analysis.\n",
    "\n",
    "Below is the supporting material for the various sections of the chapter.\n",
    "\n",
    "## Survey Design Objects\n",
    "\n",
    "- [Constructing a survey design object from a data frame](survey-design-objects-NHANES.ipynb)\n",
    "- [Constructing a survey design object from data of the 2016 American Election Study.](survey-design-objects-ANES2016.ipynb)\n",
    "\n",
    "## Survey Replication Weights\n",
    "\n",
    "- [Using the replicate weights provided with CHIS data](survey-replication-weights-CHIS.ipynb)\n",
    "- [Creating replicate weights for a survey design object (with ANES 2016 data).](survey-replication-weights-ANES2016.ipynb)\n",
    "\n",
    "## Poststratification, Raking, and Calibration\n",
    "\n",
    "- [Poststratification of 2016 American National Election Study data](poststratification-ANES2016.ipynb)\n",
    "- [Raking 2016 American National Election Study data](raking-ANES2016.ipynb)\n",
    "- [Calibrating 2016 ANES data by linear regression.](calibrating-ANES2016.ipynb)\n",
    "- [Comparing poststratification, raking, and calibration with ANES data](comparing-ANES2016.ipynb)"
   ]
  }
 ],
 "metadata": {
  "kernelspec": {
   "display_name": "R (RKernel)",
   "language": "R",
   "name": "rkernel"
  },
  "language_info": {
   "codemirror_mode": "R",
   "file_extension": ".R",
   "mimetype": "text/x-r-source",
   "name": "R",
   "pygments_lexer": "r",
   "version": "4.3.2"
  }
 },
 "nbformat": 4,
 "nbformat_minor": 5
}
