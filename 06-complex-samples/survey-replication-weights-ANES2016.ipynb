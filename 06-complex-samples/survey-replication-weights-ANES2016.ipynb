{
 "cells": [
  {
   "cell_type": "markdown",
   "metadata": {},
   "source": [
    "# Creating replicate weights for a survey design object (with ANES 2016 data)."
   ]
  },
  {
   "cell_type": "code",
   "execution_count": null,
   "metadata": {},
   "outputs": [],
   "source": [
    "options(jupyter.rich_display=FALSE) # Create output as usual in R"
   ]
  },
  {
   "cell_type": "markdown",
   "metadata": {},
   "source": [
    "The following line loads data created with a previous *R* script or notebook."
   ]
  },
  {
   "cell_type": "code",
   "execution_count": null,
   "metadata": {},
   "outputs": [],
   "source": [
    "load(\"anes-2016-prevote-desgn.RData\")"
   ]
  },
  {
   "cell_type": "markdown",
   "metadata": {},
   "source": [
    "The following makes use of the *survey* package. You may need to install it from\n",
    "[CRAN](https://cran.r-project.org/package=survey) using the code\n",
    "`install.packages(\"survey\")` if you want to run this on your computer. (The\n",
    "package is already installed on the notebook container, however.)"
   ]
  },
  {
   "cell_type": "code",
   "execution_count": null,
   "metadata": {},
   "outputs": [],
   "source": [
    "library(survey)"
   ]
  },
  {
   "cell_type": "markdown",
   "metadata": {},
   "source": [
    "The 'automatic' type gives jackknife replicates"
   ]
  },
  {
   "cell_type": "code",
   "execution_count": null,
   "metadata": {},
   "outputs": [],
   "source": [
    "anes_2016_prevote_jk <- as.svrepdesign(anes_2016_prevote_desgn,\n",
    "                                       type=\"auto\")"
   ]
  },
  {
   "cell_type": "markdown",
   "metadata": {},
   "source": [
    "The number of replicates is determined by the number of clusters"
   ]
  },
  {
   "cell_type": "code",
   "execution_count": null,
   "metadata": {},
   "outputs": [],
   "source": [
    "anes_2016_prevote_jk"
   ]
  },
  {
   "cell_type": "markdown",
   "metadata": {},
   "source": [
    "Here we select the multistage rescaled bootstrap"
   ]
  },
  {
   "cell_type": "code",
   "execution_count": null,
   "metadata": {},
   "outputs": [],
   "source": [
    "anes_2016_prevote_boo <- as.svrepdesign(anes_2016_prevote_desgn,\n",
    "                                        type=\"mrbbootstrap\")"
   ]
  },
  {
   "cell_type": "code",
   "execution_count": null,
   "metadata": {},
   "outputs": [],
   "source": [
    "anes_2016_prevote_boo"
   ]
  },
  {
   "cell_type": "markdown",
   "metadata": {},
   "source": [
    "By default the number of bootstrap replicates is 50, we can\n",
    "change it to 200"
   ]
  },
  {
   "cell_type": "code",
   "execution_count": null,
   "metadata": {},
   "outputs": [],
   "source": [
    "anes_2016_prevote_boo <- as.svrepdesign(anes_2016_prevote_desgn,\n",
    "                                        type=\"mrbbootstrap\",\n",
    "                                        replicates=200)"
   ]
  },
  {
   "cell_type": "code",
   "execution_count": null,
   "metadata": {},
   "outputs": [],
   "source": [
    "anes_2016_prevote_boo"
   ]
  },
  {
   "cell_type": "markdown",
   "metadata": {},
   "source": [
    "A function to compute the percentage of 2012 Democratic and Republican voters\n",
    "who vote for a candidate of the same party in 2016:"
   ]
  },
  {
   "cell_type": "code",
   "execution_count": null,
   "metadata": {},
   "outputs": [],
   "source": [
    "StayerPerc <- function(weights,data){\n",
    "    tab <- xtabs(weights~vote16+recall12,data=data)\n",
    "    # Remove 'inap' responses\n",
    "    tab <- tab[-6,-5]\n",
    "    # Column percentages\n",
    "    ptab <- 100*prop.table(tab,2)\n",
    "    # The diagonal are the percentages of 'stayers'\n",
    "    # among the voters of 2012.\n",
    "    # The first two elements of the diagonal are\n",
    "    # the Democratic and Republican stayers.\n",
    "    structure(diag(ptab)[1:2],\n",
    "              names=c(\"Democratic\",\n",
    "                      \"Republican\"))\n",
    "}"
   ]
  },
  {
   "cell_type": "markdown",
   "metadata": {},
   "source": [
    "Estimates and replication based standard errors based on jackknife "
   ]
  },
  {
   "cell_type": "code",
   "execution_count": null,
   "metadata": {},
   "outputs": [],
   "source": [
    "withReplicates(anes_2016_prevote_jk,\n",
    "                StayerPerc)"
   ]
  },
  {
   "cell_type": "code",
   "execution_count": null,
   "metadata": {},
   "outputs": [],
   "source": [
    "withReplicates(anes_2016_prevote_boo,\n",
    "                StayerPerc)"
   ]
  }
 ],
 "metadata": {
  "kernelspec": {
   "display_name": "R",
   "language": "R",
   "name": "ir"
  },
  "language_info": {
   "codemirror_mode": "r",
   "file_extension": ".r",
   "mimetype": "text/x-r-source",
   "name": "R",
   "pygments_lexer": "r",
   "version": "4.0.5"
  }
 },
 "nbformat": 4,
 "nbformat_minor": 4
}
