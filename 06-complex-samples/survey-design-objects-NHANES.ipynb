{
 "cells": [
  {
   "cell_type": "markdown",
   "metadata": {},
   "source": [
    "# Constructing a survey design object from a data frame"
   ]
  },
  {
   "cell_type": "markdown",
   "metadata": {},
   "source": [
    "First we activate the *survey* package. You may need to install it from [CRAN](https://cran.r-project.org/package=survey) using the code `install.packages(\"survey\")` before this if you try running this on your computer. (Package is already installed on the notebook container, however.)"
   ]
  },
  {
   "cell_type": "code",
   "execution_count": 1,
   "metadata": {
    "execution": {
     "iopub.execute_input": "2023-11-19T20:47:36.875962Z",
     "iopub.status.busy": "2023-11-19T20:47:36.873990Z",
     "iopub.status.idle": "2023-11-19T20:47:38.007624Z",
     "shell.execute_reply": "2023-11-19T20:47:38.006202Z"
    }
   },
   "outputs": [
    {
     "name": "stderr",
     "output_type": "stream",
     "text": [
      "Lade nötiges Paket: grid\n",
      "\n",
      "Lade nötiges Paket: Matrix\n",
      "\n",
      "Lade nötiges Paket: survival\n",
      "\n",
      "\n",
      "Attache Paket: ‘survey’\n",
      "\n",
      "\n",
      "Das folgende Objekt ist maskiert ‘package:graphics’:\n",
      "\n",
      "    dotchart\n",
      "\n",
      "\n"
     ]
    }
   ],
   "source": [
    "library(survey)"
   ]
  },
  {
   "cell_type": "markdown",
   "metadata": {},
   "source": [
    "Next we make the `NHANES` data set available (which comes with the *survey*\n",
    "package)"
   ]
  },
  {
   "cell_type": "code",
   "execution_count": 2,
   "metadata": {
    "execution": {
     "iopub.execute_input": "2023-11-19T20:47:38.036744Z",
     "iopub.status.busy": "2023-11-19T20:47:38.009641Z",
     "iopub.status.idle": "2023-11-19T20:47:38.054351Z",
     "shell.execute_reply": "2023-11-19T20:47:38.052854Z"
    }
   },
   "outputs": [],
   "source": [
    "data(nhanes)"
   ]
  },
  {
   "cell_type": "markdown",
   "metadata": {},
   "source": [
    "Now we can take a look at the data set, it has 7 variables and 8581 observations"
   ]
  },
  {
   "cell_type": "code",
   "execution_count": 3,
   "metadata": {
    "execution": {
     "iopub.execute_input": "2023-11-19T20:47:38.057693Z",
     "iopub.status.busy": "2023-11-19T20:47:38.056382Z",
     "iopub.status.idle": "2023-11-19T20:47:38.077552Z",
     "shell.execute_reply": "2023-11-19T20:47:38.076164Z"
    }
   },
   "outputs": [
    {
     "data": {
      "text/plain": [
       "  SDMVPSU SDMVSTRA WTMEC2YR HI_CHOL race agecat   RIAGENDR\n",
       "1 1       83       81528.77 0       2    (19,39]  1       \n",
       "2 1       84       14509.28 0       3    (0,19]   1       \n",
       "3 2       86       12041.64 0       3    (0,19]   1       \n",
       "4 2       75       21000.34 0       3    (59,Inf] 2       \n",
       "5 1       88       22633.58 0       1    (19,39]  1       \n",
       "6 2       85       74112.49 1       2    (39,59]  2       "
      ]
     },
     "metadata": {},
     "output_type": "display_data"
    }
   ],
   "source": [
    "head(nhanes)"
   ]
  },
  {
   "cell_type": "code",
   "execution_count": 4,
   "metadata": {
    "execution": {
     "iopub.execute_input": "2023-11-19T20:47:38.080749Z",
     "iopub.status.busy": "2023-11-19T20:47:38.079584Z",
     "iopub.status.idle": "2023-11-19T20:47:38.092023Z",
     "shell.execute_reply": "2023-11-19T20:47:38.090599Z"
    }
   },
   "outputs": [
    {
     "data": {
      "text/plain": [
       "[1] 8591"
      ]
     },
     "metadata": {},
     "output_type": "display_data"
    }
   ],
   "source": [
    "nrow(nhanes)"
   ]
  },
  {
   "cell_type": "markdown",
   "metadata": {},
   "source": [
    "According to the documentation, the primary sampling units are identified by\n",
    "the variable `SDMVPSU`, the strata from which the PSUs are drawn are\n",
    "identified by the variable `SDMVSTRA`, and the sample weights are `WTMEC2YR`.\n",
    "The sum of the sample weights corresponds to the population size:"
   ]
  },
  {
   "cell_type": "code",
   "execution_count": 5,
   "metadata": {
    "execution": {
     "iopub.execute_input": "2023-11-19T20:47:38.095238Z",
     "iopub.status.busy": "2023-11-19T20:47:38.094058Z",
     "iopub.status.idle": "2023-11-19T20:47:38.105907Z",
     "shell.execute_reply": "2023-11-19T20:47:38.104444Z"
    }
   },
   "outputs": [
    {
     "data": {
      "text/plain": [
       "[1] 276536446"
      ]
     },
     "metadata": {},
     "output_type": "display_data"
    }
   ],
   "source": [
    "with(nhanes,sum(WTMEC2YR))"
   ]
  },
  {
   "cell_type": "markdown",
   "metadata": {},
   "source": [
    "Here were create \"ordinary\" sampling weights as they are common in social\n",
    "science data sets:"
   ]
  },
  {
   "cell_type": "code",
   "execution_count": 6,
   "metadata": {
    "execution": {
     "iopub.execute_input": "2023-11-19T20:47:38.109415Z",
     "iopub.status.busy": "2023-11-19T20:47:38.108133Z",
     "iopub.status.idle": "2023-11-19T20:47:38.119229Z",
     "shell.execute_reply": "2023-11-19T20:47:38.117748Z"
    }
   },
   "outputs": [],
   "source": [
    "nhanes <- within(nhanes,{\n",
    "    smplw <- WTMEC2YR/sum(WTMEC2YR)*nrow(nhanes)\n",
    "})"
   ]
  },
  {
   "cell_type": "markdown",
   "metadata": {},
   "source": [
    "We now create two survey design objects, one with the \"population size\"\n",
    "weights and one with the \"sample size\" weights:"
   ]
  },
  {
   "cell_type": "code",
   "execution_count": 7,
   "metadata": {
    "execution": {
     "iopub.execute_input": "2023-11-19T20:47:38.122520Z",
     "iopub.status.busy": "2023-11-19T20:47:38.121283Z",
     "iopub.status.idle": "2023-11-19T20:47:38.173878Z",
     "shell.execute_reply": "2023-11-19T20:47:38.158241Z"
    }
   },
   "outputs": [
    {
     "ename": "ERROR",
     "evalue": "Error in svydesign.default(id = ~SDMVPSU, strata = ~SDMVSTRA, weights = ~WTMEC2YR, : Clusters not nested in strata at top level; you may want nest=TRUE.\n",
     "output_type": "error",
     "traceback": [
      "Error in svydesign.default(id = ~SDMVPSU, strata = ~SDMVSTRA, weights = ~WTMEC2YR, : Clusters not nested in strata at top level; you may want nest=TRUE.\nTraceback:\n",
      "1. svydesign(id = ~SDMVPSU, strata = ~SDMVSTRA, weights = ~WTMEC2YR, \n .     data = nhanes)",
      "2. svydesign.default(id = ~SDMVPSU, strata = ~SDMVSTRA, weights = ~WTMEC2YR, \n .     data = nhanes)",
      "3. stop(\"Clusters not nested in strata at top level; you may want nest=TRUE.\")"
     ]
    }
   ],
   "source": [
    "design_pop <- svydesign(id = ~SDMVPSU, strata = ~SDMVSTRA,\n",
    "                            weights = ~WTMEC2YR, data = nhanes)"
   ]
  },
  {
   "cell_type": "markdown",
   "metadata": {},
   "source": [
    "First attempt fails: the cluster numbers are not nested in the strata.\n",
    "We try again with `nest = TRUE`"
   ]
  },
  {
   "cell_type": "code",
   "execution_count": 8,
   "metadata": {
    "execution": {
     "iopub.execute_input": "2023-11-19T20:47:50.511298Z",
     "iopub.status.busy": "2023-11-19T20:47:50.509834Z",
     "iopub.status.idle": "2023-11-19T20:47:50.655459Z",
     "shell.execute_reply": "2023-11-19T20:47:50.653917Z"
    }
   },
   "outputs": [],
   "source": [
    "design_pop <- svydesign(id = ~SDMVPSU, strata = ~SDMVSTRA,\n",
    "                        weights = ~WTMEC2YR, data = nhanes,\n",
    "                        nest = TRUE)\n",
    "design_smpl <- svydesign(id = ~SDMVPSU, strata = ~SDMVSTRA,\n",
    "                         weights = ~smplw, data = nhanes,\n",
    "                         nest = TRUE)"
   ]
  },
  {
   "cell_type": "markdown",
   "metadata": {},
   "source": [
    "We first estimate the population proportions with high cholesterol `(HI_CHOL==1)`"
   ]
  },
  {
   "cell_type": "code",
   "execution_count": 9,
   "metadata": {
    "execution": {
     "iopub.execute_input": "2023-11-19T20:47:51.683430Z",
     "iopub.status.busy": "2023-11-19T20:47:51.682136Z",
     "iopub.status.idle": "2023-11-19T20:47:51.720602Z",
     "shell.execute_reply": "2023-11-19T20:47:51.719095Z"
    }
   },
   "outputs": [
    {
     "data": {
      "text/plain": [
       "           mean     SE\n",
       "HI_CHOL 0.11214 0.0054"
      ]
     },
     "metadata": {},
     "output_type": "display_data"
    }
   ],
   "source": [
    "svymean(~HI_CHOL, design=design_pop, na.rm=TRUE)"
   ]
  },
  {
   "cell_type": "code",
   "execution_count": 10,
   "metadata": {
    "execution": {
     "iopub.execute_input": "2023-11-19T20:47:52.166917Z",
     "iopub.status.busy": "2023-11-19T20:47:52.165619Z",
     "iopub.status.idle": "2023-11-19T20:47:52.200393Z",
     "shell.execute_reply": "2023-11-19T20:47:52.197894Z"
    }
   },
   "outputs": [
    {
     "data": {
      "text/plain": [
       "           mean     SE\n",
       "HI_CHOL 0.11214 0.0054"
      ]
     },
     "metadata": {},
     "output_type": "display_data"
    }
   ],
   "source": [
    "svymean(~HI_CHOL, design=design_smpl, na.rm=TRUE)"
   ]
  },
  {
   "cell_type": "markdown",
   "metadata": {},
   "source": [
    "We secondly estimate the number of those with high cholesterol `(HI_CHOL==1)` in\n",
    "the population:"
   ]
  },
  {
   "cell_type": "code",
   "execution_count": 11,
   "metadata": {
    "execution": {
     "iopub.execute_input": "2023-11-19T20:47:53.407845Z",
     "iopub.status.busy": "2023-11-19T20:47:53.406466Z",
     "iopub.status.idle": "2023-11-19T20:47:53.441895Z",
     "shell.execute_reply": "2023-11-19T20:47:53.440443Z"
    }
   },
   "outputs": [
    {
     "data": {
      "text/plain": [
       "           total      SE\n",
       "HI_CHOL 28635245 2020711"
      ]
     },
     "metadata": {},
     "output_type": "display_data"
    }
   ],
   "source": [
    "svytotal(~HI_CHOL, design=design_pop, na.rm=TRUE)"
   ]
  },
  {
   "cell_type": "code",
   "execution_count": 12,
   "metadata": {
    "execution": {
     "iopub.execute_input": "2023-11-19T20:47:54.174184Z",
     "iopub.status.busy": "2023-11-19T20:47:54.172907Z",
     "iopub.status.idle": "2023-11-19T20:47:54.209682Z",
     "shell.execute_reply": "2023-11-19T20:47:54.208197Z"
    }
   },
   "outputs": [
    {
     "data": {
      "text/plain": [
       "         total     SE\n",
       "HI_CHOL 889.59 62.776"
      ]
     },
     "metadata": {},
     "output_type": "display_data"
    }
   ],
   "source": [
    "svytotal(~HI_CHOL, design=design_smpl, na.rm=TRUE)"
   ]
  },
  {
   "cell_type": "markdown",
   "metadata": {},
   "source": [
    "Obviously, we need the \"population size\" weights for an unbiased estimate of\n",
    "the population total, otherwise we just get a sample total."
   ]
  },
  {
   "cell_type": "markdown",
   "metadata": {},
   "source": [
    "Using the \"population size\" weights, we can reconstruct the sizes of the\n",
    "population strata:"
   ]
  },
  {
   "cell_type": "code",
   "execution_count": 13,
   "metadata": {
    "execution": {
     "iopub.execute_input": "2023-11-19T20:47:58.634194Z",
     "iopub.status.busy": "2023-11-19T20:47:58.632828Z",
     "iopub.status.idle": "2023-11-19T20:47:58.737952Z",
     "shell.execute_reply": "2023-11-19T20:47:58.736493Z"
    }
   },
   "outputs": [
    {
     "data": {
      "text/plain": [
       "Stratified 1 - level Cluster Sampling design\n",
       "With (31) clusters.\n",
       "svydesign(id = ~SDMVPSU, strata = ~SDMVSTRA, weights = ~WTMEC2YR, \n",
       "    data = nhanes, nest = TRUE, fpc = ~strata_size)"
      ]
     },
     "metadata": {},
     "output_type": "display_data"
    }
   ],
   "source": [
    "nhanes <- within(nhanes,{\n",
    "    strata_size <- ave(WTMEC2YR,SDMVSTRA,FUN=sum)\n",
    "})\n",
    "design_pop <- svydesign(id = ~SDMVPSU, strata = ~SDMVSTRA,\n",
    "                        weights = ~WTMEC2YR, data = nhanes,\n",
    "                        nest = TRUE, fpc = ~ strata_size)\n",
    "design_pop"
   ]
  },
  {
   "cell_type": "markdown",
   "metadata": {},
   "source": [
    "Of course, usually its the other way round: starting with the strata and the\n",
    "cluster IDs, the sampling probabilities and sampling weights are computed."
   ]
  }
 ],
 "metadata": {
  "kernelspec": {
   "display_name": "R (IRkernel)",
   "language": "R",
   "name": "ir"
  },
  "language_info": {
   "codemirror_mode": "r",
   "file_extension": ".r",
   "mimetype": "text/x-r-source",
   "name": "R",
   "pygments_lexer": "r",
   "version": "4.3.2"
  }
 },
 "nbformat": 4,
 "nbformat_minor": 4
}
