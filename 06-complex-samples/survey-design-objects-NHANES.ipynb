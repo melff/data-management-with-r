{
 "cells": [
  {
   "cell_type": "markdown",
   "metadata": {},
   "source": [
    "# Constructing a survey design object from a data frame"
   ]
  },
  {
   "cell_type": "markdown",
   "metadata": {},
   "source": [
    "First we activate the *survey* package. You may need to install it from [CRAN](https://cran.r-project.org/package=survey) using the code `install.packages(\"survey\")` before this if you try running this on your computer. (Package is already installed on the notebook container, however.)"
   ]
  },
  {
   "cell_type": "code",
   "execution_count": null,
   "metadata": {},
   "outputs": [],
   "source": [
    "library(survey)"
   ]
  },
  {
   "cell_type": "markdown",
   "metadata": {},
   "source": [
    "Next we make the `NHANES` data set available (which comes with the *survey*\n",
    "package)"
   ]
  },
  {
   "cell_type": "code",
   "execution_count": null,
   "metadata": {},
   "outputs": [],
   "source": [
    "data(nhanes)"
   ]
  },
  {
   "cell_type": "markdown",
   "metadata": {},
   "source": [
    "Now we can take a look at the data set, it has 7 variables and 8581 observations"
   ]
  },
  {
   "cell_type": "code",
   "execution_count": null,
   "metadata": {},
   "outputs": [],
   "source": [
    "head(nhanes)"
   ]
  },
  {
   "cell_type": "code",
   "execution_count": null,
   "metadata": {},
   "outputs": [],
   "source": [
    "nrow(nhanes)"
   ]
  },
  {
   "cell_type": "markdown",
   "metadata": {},
   "source": [
    "According to the documentation, the primary sampling units are identified by\n",
    "the variable `SDMVPSU`, the strata from which the PSUs are drawn are\n",
    "identified by the variable `SDMVSTRA`, and the sample weights are `WTMEC2YR`.\n",
    "The sum of the sample weights corresponds to the population size:"
   ]
  },
  {
   "cell_type": "code",
   "execution_count": null,
   "metadata": {},
   "outputs": [],
   "source": [
    "with(nhanes,sum(WTMEC2YR))"
   ]
  },
  {
   "cell_type": "markdown",
   "metadata": {},
   "source": [
    "Here were create \"ordinary\" sampling weights as they are common in social\n",
    "science data sets:"
   ]
  },
  {
   "cell_type": "code",
   "execution_count": null,
   "metadata": {},
   "outputs": [],
   "source": [
    "nhanes <- within(nhanes,{\n",
    "    smplw <- WTMEC2YR/sum(WTMEC2YR)*nrow(nhanes)\n",
    "})"
   ]
  },
  {
   "cell_type": "markdown",
   "metadata": {},
   "source": [
    "We now create two survey design objects, one with the \"population size\"\n",
    "weights and one with the \"sample size\" weights:"
   ]
  },
  {
   "cell_type": "code",
   "execution_count": null,
   "metadata": {},
   "outputs": [],
   "source": [
    "design_pop <- svydesign(id = ~SDMVPSU, strata = ~SDMVSTRA,\n",
    "                            weights = ~WTMEC2YR, data = nhanes)"
   ]
  },
  {
   "cell_type": "markdown",
   "metadata": {},
   "source": [
    "First attempt fails: the cluster numbers are not nested in the strata.\n",
    "We try again with `nest = TRUE`"
   ]
  },
  {
   "cell_type": "code",
   "execution_count": null,
   "metadata": {},
   "outputs": [],
   "source": [
    "design_pop <- svydesign(id = ~SDMVPSU, strata = ~SDMVSTRA,\n",
    "                        weights = ~WTMEC2YR, data = nhanes,\n",
    "                        nest = TRUE)\n",
    "design_smpl <- svydesign(id = ~SDMVPSU, strata = ~SDMVSTRA,\n",
    "                         weights = ~smplw, data = nhanes,\n",
    "                         nest = TRUE)"
   ]
  },
  {
   "cell_type": "markdown",
   "metadata": {},
   "source": [
    "We first estimate the population proportions with high cholesterol `(HI_CHOL==1)`"
   ]
  },
  {
   "cell_type": "code",
   "execution_count": null,
   "metadata": {},
   "outputs": [],
   "source": [
    "svymean(~HI_CHOL, design=design_pop, na.rm=TRUE)"
   ]
  },
  {
   "cell_type": "code",
   "execution_count": null,
   "metadata": {},
   "outputs": [],
   "source": [
    "svymean(~HI_CHOL, design=design_smpl, na.rm=TRUE)"
   ]
  },
  {
   "cell_type": "markdown",
   "metadata": {},
   "source": [
    "We secondly estimate the number of those with high cholesterol `(HI_CHOL==1)` in\n",
    "the population:"
   ]
  },
  {
   "cell_type": "code",
   "execution_count": null,
   "metadata": {},
   "outputs": [],
   "source": [
    "svytotal(~HI_CHOL, design=design_pop, na.rm=TRUE)"
   ]
  },
  {
   "cell_type": "code",
   "execution_count": null,
   "metadata": {},
   "outputs": [],
   "source": [
    "svytotal(~HI_CHOL, design=design_smpl, na.rm=TRUE)"
   ]
  },
  {
   "cell_type": "markdown",
   "metadata": {},
   "source": [
    "Obviously, we need the \"population size\" weights for an unbiased estimate of\n",
    "the population total, otherwise we just get a sample total."
   ]
  },
  {
   "cell_type": "markdown",
   "metadata": {},
   "source": [
    "Using the \"population size\" weights, we can reconstruct the sizes of the\n",
    "population strata:"
   ]
  },
  {
   "cell_type": "code",
   "execution_count": null,
   "metadata": {},
   "outputs": [],
   "source": [
    "nhanes <- within(nhanes,{\n",
    "    strata_size <- ave(WTMEC2YR,SDMVSTRA,FUN=sum)\n",
    "})\n",
    "design_pop <- svydesign(id = ~SDMVPSU, strata = ~SDMVSTRA,\n",
    "                        weights = ~WTMEC2YR, data = nhanes,\n",
    "                        nest = TRUE, fpc = ~ strata_size)\n",
    "design_pop"
   ]
  },
  {
   "cell_type": "markdown",
   "metadata": {},
   "source": [
    "Of course, usually its the other way round: starting with the strata and the\n",
    "cluster IDs, the sampling probabilities and sampling weights are computed."
   ]
  }
 ],
 "metadata": {
  "kernelspec": {
   "display_name": "R",
   "language": "R",
   "name": "ir"
  },
  "language_info": {
   "codemirror_mode": "r",
   "file_extension": ".r",
   "mimetype": "text/x-r-source",
   "name": "R",
   "pygments_lexer": "r",
   "version": "4.0.5"
  }
 },
 "nbformat": 4,
 "nbformat_minor": 4
}
