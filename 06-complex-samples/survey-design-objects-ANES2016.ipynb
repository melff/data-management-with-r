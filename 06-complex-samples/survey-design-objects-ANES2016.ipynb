{
 "cells": [
  {
   "cell_type": "markdown",
   "metadata": {},
   "source": [
    "# Constructing a survey design object from data of the 2016 American Election   Study."
   ]
  },
  {
   "cell_type": "markdown",
   "metadata": {},
   "source": [
    "The following makes use of the *memisc* package. You may need to install it from\n",
    "[CRAN](https://cran.r-project.org/package=memisc) using the code\n",
    "`install.packages(\"memisc\")` if you want to run this on your computer. (The\n",
    "package is already installed on the notebook container, however.)"
   ]
  },
  {
   "cell_type": "code",
   "execution_count": null,
   "metadata": {},
   "outputs": [],
   "source": [
    "library(memisc)"
   ]
  },
  {
   "cell_type": "markdown",
   "metadata": {},
   "source": [
    "The the code makes used of the data file \"`anes_timeseries_2016.sav`\", which is not included in the supporting material. In order to \n",
    "obtain this data file (and run this notebook successufully), you need to download them from \n",
    "the [ANES website for 2016](https://electionstudies.org/data-center/2016-time-series-stud/) and upload them to the virtual\n",
    "machine that runs this notebook. To do this, \n",
    "\n",
    "1. pull down the \"File\" menu item and select \"Open\"\n",
    "2. An overview of the folder that contains the notebook opens. \n",
    "3. The folder view has a button labelled \"Upload\". Use this to upload the file that you downloaded from the ANES website.\n",
    "\n",
    "Note that the uploaded data will disappear, once you \"Quit\" the notebook (and the Jupyter instance)."
   ]
  },
  {
   "cell_type": "code",
   "execution_count": null,
   "metadata": {},
   "outputs": [],
   "source": [
    "anes_2016_sav <- spss.file(\"anes_timeseries_2016.sav\")"
   ]
  },
  {
   "cell_type": "markdown",
   "metadata": {},
   "source": [
    "Loading a subset: Only pre-election waves and only\n",
    "face-to-face interviews"
   ]
  },
  {
   "cell_type": "code",
   "execution_count": null,
   "metadata": {},
   "outputs": [],
   "source": [
    "anes_2016_pre_work_ds <- subset(anes_2016_sav,\n",
    "                                V160501 == 1,\n",
    "                                select=c(\n",
    "                                # According to docs, these are the\n",
    "                                # sample weights for the\n",
    "                                # face-to-face component\n",
    "                                pre_w_f2f     = V160101f,\n",
    "                                # Face-to-face strata    \n",
    "                                strat_f2f     = V160201f,\n",
    "                                psu_f2f       = V160202f,\n",
    "                                pre_voted12   = V161005,\n",
    "                                pre_recall12  = V161006,\n",
    "                                pre_voted     = V161026,\n",
    "                                pre_vote      = V161027,\n",
    "                                pre_intov     = V161030,\n",
    "                                pre_voteint   = V161031#,\n",
    "                           ))"
   ]
  },
  {
   "cell_type": "code",
   "execution_count": null,
   "metadata": {},
   "outputs": [],
   "source": [
    "library(magrittr) # For the '%<>%' operator"
   ]
  },
  {
   "cell_type": "code",
   "execution_count": null,
   "metadata": {},
   "outputs": [],
   "source": [
    "anes_2016_pre_work_ds %<>% within({\n",
    "    # Setting up recalled votes of 2012\n",
    "    # Since a \"default\" value for the remaining conditions\n",
    "    # is used, we use 'check.xor = FALSE' to avoid warnings.\n",
    "    recall12 <- cases(\n",
    "        'Did not vote' = 9 <- pre_voted12  == 2,\n",
    "        'Obama'        = 1 <- pre_recall12 == 1,\n",
    "        'Romney'       = 2 <- pre_recall12 == 2,\n",
    "        'Other'        = 3 <- pre_recall12 == 5,\n",
    "        'Inap'         = 99 <- TRUE, check.xor = FALSE\n",
    "    )\n",
    "    # Early voters \n",
    "    vote16_1 <- cases(\n",
    "        'Clinton' = 1 <- pre_voted == 1 & pre_vote == 1,\n",
    "        'Trump'   = 2 <- pre_voted == 1 & pre_vote == 2,\n",
    "        'Other'   = 3 <- pre_voted == 1 & pre_vote %in% 3:5,\n",
    "        'Inap'    = 99 <- TRUE, check.xor = FALSE)\n",
    "    # Vote intentions\n",
    "    vote16 <- cases(\n",
    "        'Clinton' = 1 <- pre_intov == 1 & pre_voteint == 1,\n",
    "        'Trump'   = 2 <- pre_intov == 1 & pre_voteint == 2,\n",
    "        'Other'   = 3 <- pre_intov == 1 & pre_voteint %in% 3:6,\n",
    "        'Will not vote/Not registered' = 8 <- pre_intov %in% c(-1,2),\n",
    "        'Inap'    = 99 <- TRUE, check.xor = FALSE)\n",
    "    vote16[] <- ifelse(vote16 == 99 & vote16_1 != 99,\n",
    "                       vote16_1,\n",
    "                       vote16)\n",
    "    measurement(pre_w_f2f) <- \"ratio\"\n",
    "})"
   ]
  },
  {
   "cell_type": "code",
   "execution_count": null,
   "metadata": {},
   "outputs": [],
   "source": [
    "anes_2016_prevote <- as.data.frame(anes_2016_pre_work_ds)\n",
    "save(anes_2016_prevote,file=\"anes-2016-prevote.RData\")"
   ]
  },
  {
   "cell_type": "code",
   "execution_count": null,
   "metadata": {},
   "outputs": [],
   "source": [
    "#Unweighted crosstable\n",
    "xtabs(~ vote16 + recall12,\n",
    "      data=anes_2016_prevote)"
   ]
  },
  {
   "cell_type": "markdown",
   "metadata": {},
   "source": [
    "The following makes use of the *survey* package. You may need to install it from\n",
    "[CRAN](https://cran.r-project.org/package=survey) using the code\n",
    "`install.packages(\"survey\")` if you want to run this on your computer. (The\n",
    "package is already installed on the notebook container, however.)"
   ]
  },
  {
   "cell_type": "code",
   "execution_count": null,
   "metadata": {},
   "outputs": [],
   "source": [
    "library(survey)"
   ]
  },
  {
   "cell_type": "code",
   "execution_count": null,
   "metadata": {},
   "outputs": [],
   "source": [
    "anes_2016_prevote_desgn <- svydesign(id = ~psu_f2f,\n",
    "                                     strata = ~strat_f2f,\n",
    "                                     weights = ~pre_w_f2f,\n",
    "                                     data = anes_2016_prevote,\n",
    "                                     nest = TRUE)\n",
    "anes_2016_prevote_desgn"
   ]
  },
  {
   "cell_type": "markdown",
   "metadata": {},
   "source": [
    "In order to later make use of the survey design object, we save it into a file."
   ]
  },
  {
   "cell_type": "code",
   "execution_count": null,
   "metadata": {},
   "outputs": [],
   "source": [
    "save(anes_2016_prevote_desgn,file=\"anes-2016-prevote-desgn.RData\")"
   ]
  },
  {
   "cell_type": "markdown",
   "metadata": {},
   "source": [
    "We reduce the digits after dot ..."
   ]
  },
  {
   "cell_type": "code",
   "execution_count": null,
   "metadata": {},
   "outputs": [],
   "source": [
    "ops <- options(digits=2)\n",
    "(tab <- svytable(~ vote16 + recall12,\n",
    "                 design = anes_2016_prevote_desgn))"
   ]
  },
  {
   "cell_type": "markdown",
   "metadata": {},
   "source": [
    "and drop counts of non-valid responses before\n",
    "we compute percentages."
   ]
  },
  {
   "cell_type": "code",
   "execution_count": null,
   "metadata": {},
   "outputs": [],
   "source": [
    "percentages(vote16 ~ recall12, data=tab[-6,-5])"
   ]
  },
  {
   "cell_type": "code",
   "execution_count": null,
   "metadata": {},
   "outputs": [],
   "source": [
    "options(ops) # To undo the change in the options."
   ]
  },
  {
   "cell_type": "markdown",
   "metadata": {},
   "source": [
    "Here we compute a *F*-test of independence with the table, which uses the\n",
    "Rao-Scott second-order correction with a Satterthwaite approximation of the\n",
    "denominator degrees of freedom is used."
   ]
  },
  {
   "cell_type": "code",
   "execution_count": null,
   "metadata": {},
   "outputs": [],
   "source": [
    "summary(tab)"
   ]
  },
  {
   "cell_type": "markdown",
   "metadata": {},
   "source": [
    "The more conventional Pearson-Chi-squared test adjusted with a design-effect\n",
    "estimate is obtained by a slight modification."
   ]
  },
  {
   "cell_type": "code",
   "execution_count": null,
   "metadata": {},
   "outputs": [],
   "source": [
    "summary(tab, statistic=\"Chisq\")"
   ]
  }
 ],
 "metadata": {
  "kernelspec": {
   "display_name": "R",
   "language": "R",
   "name": "ir"
  },
  "language_info": {
   "codemirror_mode": "r",
   "file_extension": ".r",
   "mimetype": "text/x-r-source",
   "name": "R",
   "pygments_lexer": "r",
   "version": "4.0.5"
  }
 },
 "nbformat": 4,
 "nbformat_minor": 4
}
