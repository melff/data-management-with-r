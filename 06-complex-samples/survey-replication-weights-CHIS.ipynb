{
 "cells": [
  {
   "cell_type": "markdown",
   "metadata": {},
   "source": [
    "# Using the replicate weights provided with CHIS data"
   ]
  },
  {
   "cell_type": "markdown",
   "metadata": {},
   "source": [
    "The following makes use of the *survey* package. You may need to install it from\n",
    "[CRAN](https://cran.r-project.org/package=survey) using the code\n",
    "`install.packages(\"survey\")` if you want to run this on your computer. (The\n",
    "package is already installed on the notebook container, however.)"
   ]
  },
  {
   "cell_type": "code",
   "execution_count": 1,
   "metadata": {},
   "outputs": [
    {
     "name": "stdout",
     "output_type": "stream",
     "text": [
      "Loading required package: grid\n",
      "Loading required package: Matrix\n",
      "Loading required package: survival\n",
      "\n",
      "Attaching package: ‘survey’\n",
      "\n",
      "The following object is masked from ‘package:graphics’:\n",
      "\n",
      "    dotchart\n",
      "\n"
     ]
    }
   ],
   "source": [
    "library(survey)"
   ]
  },
  {
   "cell_type": "code",
   "execution_count": 2,
   "metadata": {},
   "outputs": [],
   "source": [
    "library(foreign)"
   ]
  },
  {
   "cell_type": "markdown",
   "metadata": {},
   "source": [
    "The file \"`adult.dta`\" is downloaded from\n",
    "http://healthpolicy.ucla.edu/chis/data/Pages/GetCHISData.aspx\n",
    "and contains the 2005 wave of the California Health Interview Survey.\n",
    "Redistribution of the data is prohibited, so readers who want to reproduce\n",
    "the following will need to download their own copy of the data set and upload it to the virtual machine that runs this notebook. To do this,\n",
    "\n",
    "1. open the file manager window of this site using [this link](/user-redirect/tree/06-complex-samples/)\n",
    "2. use the button labelled \"Upload\" to upload the data set that you downloaded from the CHIS website.\n",
    "3. after uploading the file, it should appear in the list of files in the folder. Make sure that its name is`adult.dta`.\n",
    "\n",
    "Note that the uploaded data will disappear, once you \"Quit\" the notebook (and the Jupyter instance)."
   ]
  },
  {
   "cell_type": "code",
   "execution_count": 3,
   "metadata": {},
   "outputs": [],
   "source": [
    "adult_chis <- read.dta(\"adult.dta\",\n",
    "                       warn.missing.labels=FALSE)"
   ]
  },
  {
   "cell_type": "markdown",
   "metadata": {},
   "source": [
    "The data set contains 80 set of (raked) replicate weights. They are in the\n",
    "variables named \"rakedw1\" through \"rakedw80\". Raked sampling weights are\n",
    "in \"raked0\".\n",
    "\n",
    "We obtain the column numbers of these variables, making use of our knowledge\n",
    "of the name pattern"
   ]
  },
  {
   "cell_type": "code",
   "execution_count": 4,
   "metadata": {},
   "outputs": [],
   "source": [
    "repw <- which(names(adult_chis) %in% paste0(\"rakedw\",1:80))"
   ]
  },
  {
   "cell_type": "markdown",
   "metadata": {},
   "source": [
    "To apecify replicate weights, we call the function `svrepdesgin`\n",
    "The first argument specifies the variables that will be used for data\n",
    "analysis. The `weights` argument specifies sampling weights, while the\n",
    "function `repweights` specifies the replicate weights. The `data=` argument\n",
    "specifies the data frame where the data all come from.\n",
    "The `combined.weights=` argument is needed here, because the replicate weights\n",
    "were constructed from sampling weights and \"pure\" replicate weights. Since we\n",
    "do not know the way the replicate weights were constructed we have to specify\n",
    "`type=\"other\"`."
   ]
  },
  {
   "cell_type": "code",
   "execution_count": 5,
   "metadata": {},
   "outputs": [],
   "source": [
    "adult_chis_rd <- svrepdesign(adult_chis[-repw],\n",
    "                             weights=~rakedw0,\n",
    "                             repweights=adult_chis[repw],\n",
    "                             data=adult_chis,\n",
    "                             combined.weights=TRUE,\n",
    "                             type=\"other\",\n",
    "                             scale=1,rscales=1)"
   ]
  },
  {
   "cell_type": "markdown",
   "metadata": {},
   "source": [
    "With `svymean()` we get the estimated proportions of the various categories of\n",
    "health insurance status in California 2005, along with standard errors,\n",
    "multiplying by 100, we get percentages."
   ]
  },
  {
   "cell_type": "code",
   "execution_count": 6,
   "metadata": {},
   "outputs": [
    {
     "data": {
      "text/plain": [
       "                                    mean     SE\n",
       "instyp_pUNINSURED                16.1204 0.0027\n",
       "instyp_pMEDICARE & MEDICAID       4.0544 0.0011\n",
       "instyp_pMEDICARE & OTHERS         9.5286 0.0010\n",
       "instyp_pMEDICARE ONLY             2.0639 0.0007\n",
       "instyp_pMEDICAID                  8.5105 0.0018\n",
       "instyp_pEMPLOYMENT-BASED         51.9316 0.0030\n",
       "instyp_pPRIVATELY PURCHASED       6.0567 0.0017\n",
       "instyp_pHEALTHY FAM/OTHER PUBLIC  1.7339 0.0011"
      ]
     },
     "execution_count": 6,
     "metadata": {},
     "output_type": "execute_result"
    }
   ],
   "source": [
    "100*svymean(~instyp_p, design=adult_chis_rd)"
   ]
  },
  {
   "cell_type": "markdown",
   "metadata": {},
   "source": [
    "With `svytotal()` we obtain estimates of how many people have which health\n",
    "insurance status."
   ]
  },
  {
   "cell_type": "code",
   "execution_count": 7,
   "metadata": {},
   "outputs": [
    {
     "data": {
      "text/plain": [
       "                                    total    SE\n",
       "instyp_pUNINSURED                 4253792 72494\n",
       "instyp_pMEDICARE & MEDICAID       1069871 28764\n",
       "instyp_pMEDICARE & OTHERS         2514367 25892\n",
       "instyp_pMEDICARE ONLY              544612 19018\n",
       "instyp_pMEDICAID                  2245709 48474\n",
       "instyp_pEMPLOYMENT-BASED         13703511 79679\n",
       "instyp_pPRIVATELY PURCHASED       1598225 45184\n",
       "instyp_pHEALTHY FAM/OTHER PUBLIC   457527 27854"
      ]
     },
     "execution_count": 7,
     "metadata": {},
     "output_type": "execute_result"
    }
   ],
   "source": [
    "svytotal(~instyp_p, design=adult_chis_rd)"
   ]
  }
 ],
 "metadata": {
  "kernelspec": {
   "display_name": "R (RKernel)",
   "language": "R",
   "name": "rkernel"
  },
  "language_info": {
   "codemirror_mode": "R",
   "file_extension": ".R",
   "mimetype": "text/x-r-source",
   "name": "R",
   "pygments_lexer": "r",
   "version": "4.3.2"
  }
 },
 "nbformat": 4,
 "nbformat_minor": 4
}
