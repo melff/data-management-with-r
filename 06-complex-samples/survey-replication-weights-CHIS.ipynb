{
 "cells": [
  {
   "cell_type": "markdown",
   "metadata": {},
   "source": [
    "# Using the replicate weights provided with CHIS data"
   ]
  },
  {
   "cell_type": "code",
   "execution_count": null,
   "metadata": {},
   "outputs": [],
   "source": [
    "options(jupyter.rich_display=FALSE) # Create output as usual in R"
   ]
  },
  {
   "cell_type": "markdown",
   "metadata": {},
   "source": [
    "The following makes use of the *survey* package. You may need to install it from\n",
    "[CRAN](https://cran.r-project.org/package=survey) using the code\n",
    "`install.packages(\"survey\")` if you want to run this on your computer. (The\n",
    "package is already installed on the notebook container, however.)"
   ]
  },
  {
   "cell_type": "code",
   "execution_count": null,
   "metadata": {},
   "outputs": [],
   "source": [
    "library(survey)"
   ]
  },
  {
   "cell_type": "code",
   "execution_count": null,
   "metadata": {},
   "outputs": [],
   "source": [
    "library(foreign)"
   ]
  },
  {
   "cell_type": "markdown",
   "metadata": {},
   "source": [
    "The file \"`adult.dta`\" is downloaded from\n",
    "http://healthpolicy.ucla.edu/chis/data/Pages/GetCHISData.aspx\n",
    "and contains the 2005 wave of the California Health Interview Survey.\n",
    "Redistribution of the data is prohibited, so readers who want to preproduce\n",
    "the following will need to download their own copy of the data set and upload it to the virtual machine that runs this notebook.  To do this, \n",
    "\n",
    "1. pull down the \"File\" menu item and select \"Open\"\n",
    "2. An overview of the folder that contains the notebook opens. \n",
    "3. The folder view has a button labelled \"Upload\". Use this to upload the file that you downloaded from the website.\n",
    "\n",
    "Note that the uploaded data will disappear, once you \"Quit\" the notebook (and the Jupyter instance)."
   ]
  },
  {
   "cell_type": "code",
   "execution_count": null,
   "metadata": {},
   "outputs": [],
   "source": [
    "adult_chis <- read.dta(\"adult.dta\",\n",
    "                       warn.missing.labels=FALSE)"
   ]
  },
  {
   "cell_type": "markdown",
   "metadata": {},
   "source": [
    "The data set contains 80 set of (raked) replicate weights. They are in the\n",
    "variables named \"rakedw1\" through \"rakedw80\". Raked sampling weights are\n",
    "in \"raked0\".\n",
    "\n",
    "We obtain the column numbers of these variables, making use of our knowledge\n",
    "of the name pattern"
   ]
  },
  {
   "cell_type": "code",
   "execution_count": null,
   "metadata": {},
   "outputs": [],
   "source": [
    "repw <- which(names(adult_chis) %in% paste0(\"rakedw\",1:80))"
   ]
  },
  {
   "cell_type": "markdown",
   "metadata": {},
   "source": [
    "To apecify replicate weights, we call the function `svrepdesgin`\n",
    "The first argument specifies the variables that will be used for data\n",
    "analysis. The `weights` argument specifies sampling weights, while the\n",
    "function `repweights` specifies the replicate weights. The `data=` argument\n",
    "specifies the data frame where the data all come from.\n",
    "The `combined.weights=` argument is needed here, because the replicate weights\n",
    "were constructed from sampling weights and \"pure\" replicate weights. Since we\n",
    "do not know the way the replicate weights were constructed we have to specify\n",
    "`type=\"other\"`."
   ]
  },
  {
   "cell_type": "code",
   "execution_count": null,
   "metadata": {},
   "outputs": [],
   "source": [
    "adult_chis_rd <- svrepdesign(adult_chis[-repw],\n",
    "                             weights=~rakedw0,\n",
    "                             repweights=adult_chis[repw],\n",
    "                             data=adult_chis,\n",
    "                             combined.weights=TRUE,\n",
    "                             type=\"other\",\n",
    "                             scale=1,rscales=1)"
   ]
  },
  {
   "cell_type": "markdown",
   "metadata": {},
   "source": [
    "With `svymean()` we get the estimated proportions of the various categories of\n",
    "health insurance status in California 2005, along with standard errors,\n",
    "multiplying by 100, we get percentages."
   ]
  },
  {
   "cell_type": "code",
   "execution_count": null,
   "metadata": {},
   "outputs": [],
   "source": [
    "100*svymean(~instyp_p, design=adult_chis_rd)"
   ]
  },
  {
   "cell_type": "markdown",
   "metadata": {},
   "source": [
    "With `svytotal()` we obtain estimates of how many people have which health\n",
    "insurance status."
   ]
  },
  {
   "cell_type": "code",
   "execution_count": null,
   "metadata": {},
   "outputs": [],
   "source": [
    "svytotal(~instyp_p, design=adult_chis_rd)"
   ]
  }
 ],
 "metadata": {
  "kernelspec": {
   "display_name": "R",
   "language": "R",
   "name": "ir"
  },
  "language_info": {
   "codemirror_mode": "r",
   "file_extension": ".r",
   "mimetype": "text/x-r-source",
   "name": "R",
   "pygments_lexer": "r",
   "version": "4.0.5"
  }
 },
 "nbformat": 4,
 "nbformat_minor": 4
}
