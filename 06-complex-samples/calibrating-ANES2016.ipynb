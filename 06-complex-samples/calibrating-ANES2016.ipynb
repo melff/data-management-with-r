{
 "cells": [
  {
   "cell_type": "markdown",
   "metadata": {},
   "source": [
    "# Calibrating 2016 ANES data by linear regression."
   ]
  },
  {
   "cell_type": "markdown",
   "metadata": {},
   "source": [
    "The following makes use of the *survey* package. You may need to install it from\n",
    "[CRAN](https://cran.r-project.org/package=survey) using the code\n",
    "`install.packages(\"survey\")` if you want to run this on your computer. (The\n",
    "package is already installed on the notebook container, however.)"
   ]
  },
  {
   "cell_type": "code",
   "execution_count": null,
   "metadata": {},
   "outputs": [],
   "source": [
    "library(survey)"
   ]
  },
  {
   "cell_type": "markdown",
   "metadata": {},
   "source": [
    "The following loads data created in an earlier example."
   ]
  },
  {
   "cell_type": "code",
   "execution_count": null,
   "metadata": {},
   "outputs": [],
   "source": [
    "load(\"anes-2016-vprevote-design.RData\")"
   ]
  },
  {
   "cell_type": "markdown",
   "metadata": {},
   "source": [
    "`calibrate` expects the names of the calibration vectors to be like those of\n",
    "regression coefficents."
   ]
  },
  {
   "cell_type": "code",
   "execution_count": null,
   "metadata": {},
   "outputs": [],
   "source": [
    "cal_names(~recall12+vote16,anes_2016_vprevote_desgn)"
   ]
  },
  {
   "cell_type": "markdown",
   "metadata": {},
   "source": [
    "The following code defines a function creates a vector suitable for calibration from the\n",
    "data frames that `postStratify()` or `rake()` use"
   ]
  },
  {
   "cell_type": "code",
   "execution_count": null,
   "metadata": {},
   "outputs": [],
   "source": [
    "calib_counts <- function(formula,frames){\n",
    "    dframe2coef <- function(data){\n",
    "        fname <- names(data)[1]\n",
    "        flevels <- as.character(data[[1]])\n",
    "        Freq <- data$Freq\n",
    "        coefs <- c(sum(Freq),Freq[-1])\n",
    "        names(coefs) <- c(\"(Intercept)\",\n",
    "                          paste0(fname,flevels[-1]))\n",
    "        coefs\n",
    "    }\n",
    "    vars <- all.vars(formula)\n",
    "    for(i in seq_along(vars)){\n",
    "        var_i <- vars[i]\n",
    "        frame_i <- frames[[var_i]]\n",
    "        coef_i <- dframe2coef(frame_i)\n",
    "        if(i==1)\n",
    "            res <- coef_i\n",
    "        else\n",
    "            res <- c(res,coef_i[-1])\n",
    "    }\n",
    "    res\n",
    "}"
   ]
  },
  {
   "cell_type": "markdown",
   "metadata": {},
   "source": [
    "We now apply this function to get the calibration criteria. The file \"popl-results.RData\" contains the population-level ata."
   ]
  },
  {
   "cell_type": "code",
   "execution_count": null,
   "metadata": {},
   "outputs": [],
   "source": [
    "load(\"popl-results.RData\")\n",
    "calib_anes16 <- calib_counts(~recall12+vote16,\n",
    "                             list(recall12=pop.recall12,\n",
    "                                  vote16=pop.vote16))"
   ]
  },
  {
   "cell_type": "markdown",
   "metadata": {},
   "source": [
    "Finally we calibrate the ANES sample."
   ]
  },
  {
   "cell_type": "code",
   "execution_count": null,
   "metadata": {},
   "outputs": [],
   "source": [
    "anes_2016_prevote_desgn_calib <- calibrate(\n",
    "    anes_2016_vprevote_desgn,~recall12+vote16,\n",
    "    population=calib_anes16)"
   ]
  },
  {
   "cell_type": "code",
   "execution_count": null,
   "metadata": {},
   "outputs": [],
   "source": [
    "100*svymean(~recall12,design=anes_2016_prevote_desgn_calib)"
   ]
  },
  {
   "cell_type": "code",
   "execution_count": null,
   "metadata": {},
   "outputs": [],
   "source": [
    "100*svymean(~vote16,design=anes_2016_prevote_desgn_calib)"
   ]
  },
  {
   "cell_type": "code",
   "execution_count": null,
   "metadata": {},
   "outputs": [],
   "source": [
    "save(anes_2016_prevote_desgn_calib,file=\"anes-2016-prevote-desgn-calib.RData\")"
   ]
  }
 ],
 "metadata": {
  "kernelspec": {
   "display_name": "R",
   "language": "R",
   "name": "ir"
  },
  "language_info": {
   "codemirror_mode": "r",
   "file_extension": ".r",
   "mimetype": "text/x-r-source",
   "name": "R",
   "pygments_lexer": "r",
   "version": "4.0.5"
  }
 },
 "nbformat": 4,
 "nbformat_minor": 4
}
