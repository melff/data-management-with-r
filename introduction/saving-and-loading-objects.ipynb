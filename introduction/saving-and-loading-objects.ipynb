{
  "cells": [
    {
      "cell_type": "markdown",
      "source": [
        "# Saving and loading objects"
      ],
      "metadata": {
        "nteract": {
          "transient": {
            "deleting": false
          }
        }
      }
    },
    {
      "cell_type": "code",
      "source": [
        "options(jupyter.rich_display=FALSE) # Create output as usual in R"
      ],
      "outputs": [],
      "execution_count": 1,
      "metadata": {
        "execution": {
          "iopub.status.busy": "2021-03-28T21:37:09.391Z",
          "iopub.execute_input": "2021-03-28T21:37:09.395Z",
          "iopub.status.idle": "2021-03-28T21:37:09.410Z",
          "shell.execute_reply": "2021-03-28T21:37:09.406Z"
        }
      }
    },
    {
      "cell_type": "code",
      "source": [
        "# In this example we create the two variables 'a' and 'b':\n",
        "a <- 1\n",
        "b <- 1\n",
        "# We save them in the data file \"ab.RData\"\n",
        "save(a,b,file=\"ab.RData\")\n",
        "# We then remove the two variables:\n",
        "rm(a,b)\n",
        "ls()"
      ],
      "outputs": [
        {
          "output_type": "display_data",
          "data": {
            "text/plain": "character(0)"
          },
          "metadata": {}
        }
      ],
      "execution_count": 2,
      "metadata": {
        "execution": {
          "iopub.status.busy": "2021-03-28T21:37:11.118Z",
          "iopub.execute_input": "2021-03-28T21:37:11.122Z",
          "iopub.status.idle": "2021-03-28T21:37:11.130Z",
          "shell.execute_reply": "2021-03-28T21:37:11.134Z"
        }
      }
    },
    {
      "cell_type": "code",
      "source": [
        "# With then load the data file\n",
        "load(\"ab.RData\")\n",
        "# and verify that the two variables are restored\n",
        "ls()"
      ],
      "outputs": [
        {
          "output_type": "display_data",
          "data": {
            "text/plain": "[1] \"a\" \"b\""
          },
          "metadata": {}
        }
      ],
      "execution_count": 3,
      "metadata": {
        "execution": {
          "iopub.status.busy": "2021-03-28T21:37:13.286Z",
          "iopub.execute_input": "2021-03-28T21:37:13.290Z",
          "iopub.status.idle": "2021-03-28T21:37:13.296Z",
          "shell.execute_reply": "2021-03-28T21:37:13.299Z"
        }
      }
    },
    {
      "cell_type": "code",
      "source": [
        "a"
      ],
      "outputs": [
        {
          "output_type": "display_data",
          "data": {
            "text/plain": "[1] 1"
          },
          "metadata": {}
        }
      ],
      "execution_count": 4,
      "metadata": {
        "execution": {
          "iopub.status.busy": "2021-03-28T21:37:15.418Z",
          "iopub.execute_input": "2021-03-28T21:37:15.421Z",
          "iopub.status.idle": "2021-03-28T21:37:15.429Z",
          "shell.execute_reply": "2021-03-28T21:37:15.431Z"
        }
      }
    },
    {
      "cell_type": "code",
      "source": [
        "b"
      ],
      "outputs": [
        {
          "output_type": "display_data",
          "data": {
            "text/plain": "[1] 1"
          },
          "metadata": {}
        }
      ],
      "execution_count": 5,
      "metadata": {
        "execution": {
          "iopub.status.busy": "2021-03-28T21:37:17.819Z",
          "iopub.execute_input": "2021-03-28T21:37:17.822Z",
          "iopub.status.idle": "2021-03-28T21:37:17.828Z",
          "shell.execute_reply": "2021-03-28T21:37:17.830Z"
        }
      }
    }
  ],
  "metadata": {
    "kernelspec": {
      "display_name": "R",
      "language": "R",
      "name": "ir"
    },
    "language_info": {
      "name": "R",
      "codemirror_mode": "r",
      "pygments_lexer": "r",
      "mimetype": "text/x-r-source",
      "file_extension": ".r",
      "version": "4.0.4"
    },
    "nteract": {
      "version": "0.28.0"
    }
  },
  "nbformat": 4,
  "nbformat_minor": 4
}