{
 "cells": [
  {
   "cell_type": "code",
   "execution_count": 1,
   "metadata": {},
   "outputs": [
    {
     "name": "stderr",
     "output_type": "stream",
     "text": [
      "Loading required package: lattice\n",
      "\n",
      "Loading required package: MASS\n",
      "\n",
      "\n",
      "Attaching package: ‘memisc’\n",
      "\n",
      "\n",
      "The following objects are masked from ‘package:stats’:\n",
      "\n",
      "    contr.sum, contr.treatment, contrasts\n",
      "\n",
      "\n",
      "The following object is masked from ‘package:base’:\n",
      "\n",
      "    as.array\n",
      "\n",
      "\n"
     ]
    }
   ],
   "source": [
    "options(jupyter.rich_display=FALSE) # Create output as usual in R\n",
    "library(memisc)"
   ]
  },
  {
   "cell_type": "markdown",
   "metadata": {},
   "source": [
    "The following code picks up with the British Election Study data of the previous script. We use the data file created earlier."
   ]
  },
  {
   "cell_type": "code",
   "execution_count": 2,
   "metadata": {},
   "outputs": [],
   "source": [
    "load(\"BES-1983-classvot.RData\")"
   ]
  },
  {
   "cell_type": "code",
   "execution_count": 3,
   "metadata": {},
   "outputs": [
    {
     "data": {
      "text/plain": [
       "================================================================================\n",
       "\n",
       "   BES.1983.classvot$vote.new '[IF VOTED] PARTY VOTED FOR'\n",
       "\n",
       "--------------------------------------------------------------------------------\n",
       "\n",
       "   Storage mode: double\n",
       "   Measurement: nominal\n",
       "   Missing values: 95, 96, 97, 98, 99\n",
       "\n",
       "   Values and labels         N Valid Total\n",
       "                                          \n",
       "    0   'SKIPPED'          660  17.1  16.7\n",
       "    1   'CON'             1432  37.1  36.2\n",
       "    2   'LAB'              937  24.3  23.7\n",
       "    3   'ALLIANCE'         788  20.4  19.9\n",
       "    4   'LIB'               46   1.2   1.2\n",
       "    5   'SOCIAL  DEMOCR'     0   0.0   0.0\n",
       "    6   'SNP'                0   0.0   0.0\n",
       "    7   'PLAID   CYMRU'      0   0.0   0.0\n",
       "    8   'ECOLOGY PARTY'      0   0.0   0.0\n",
       "    9   'NATNL   FRONT'      0   0.0   0.0\n",
       "   10   'COMNIST PARTY'      0   0.0   0.0\n",
       "   95 M 'REFUSED'           92         2.3\n"
      ]
     },
     "metadata": {},
     "output_type": "display_data"
    }
   ],
   "source": [
    "# This code collapses the categories of the vote variable into just four:\n",
    "BES.1983.classvot <- within(BES.1983.classvot,{\n",
    "    vote.new <- vote\n",
    "    vote.new[vote %in% 3:5]        <- 3\n",
    "    vote.new[vote %in% c(6:10,97)] <- 4\n",
    "})\n",
    "# Checking the result:\n",
    "codebook(BES.1983.classvot$vote.new)"
   ]
  },
  {
   "cell_type": "code",
   "execution_count": 4,
   "metadata": {},
   "outputs": [
    {
     "data": {
      "text/plain": [
       "================================================================================\n",
       "\n",
       "   BES.1983.classvot$vote.new '[IF VOTED] PARTY VOTED FOR'\n",
       "\n",
       "--------------------------------------------------------------------------------\n",
       "\n",
       "   Storage mode: double\n",
       "   Measurement: nominal\n",
       "   Missing values: 95, 96, 97, 98, 99\n",
       "\n",
       "   Values and labels     N Valid Total\n",
       "                                      \n",
       "    0   'SKIPPED'      660  17.1  16.7\n",
       "    1   'CON'         1432  37.1  36.2\n",
       "    2   'LAB'          937  24.3  23.7\n",
       "    3   'ALLIANCE'     788  20.4  19.9\n",
       "    4   'LIB'           46   1.2   1.2\n",
       "   95 M 'REFUSED'       92         2.3\n"
      ]
     },
     "metadata": {},
     "output_type": "display_data"
    }
   ],
   "source": [
    "# It is somewhat more convenient to use the 'recode()' function from the\n",
    "# 'memisc' package:\n",
    "BES.1983.classvot <- within(BES.1983.classvot,{\n",
    "    vote.new <- recode(vote,\n",
    "                       3 <- 3:5,\n",
    "                       4 <- c(6:10,97),\n",
    "                       otherwise=\"copy\"\n",
    "                       )\n",
    "})\n",
    "# Checking the result:\n",
    "codebook(BES.1983.classvot$vote.new)"
   ]
  },
  {
   "cell_type": "code",
   "execution_count": 5,
   "metadata": {},
   "outputs": [
    {
     "name": "stderr",
     "output_type": "stream",
     "text": [
      "Warning message in recode(vote, Conservative = 1 <- 1, Labour = 2 <- 2, Alliance = 3 <- 3:5, :\n",
      "“recoding 8 <- 98 has no consequences”\n"
     ]
    },
    {
     "data": {
      "text/plain": [
       "================================================================================\n",
       "\n",
       "   BES.1983.classvot$vote.new '[IF VOTED] PARTY VOTED FOR'\n",
       "\n",
       "--------------------------------------------------------------------------------\n",
       "\n",
       "   Storage mode: double\n",
       "   Measurement: nominal\n",
       "   Missing values: 5, 9\n",
       "\n",
       "   Values and labels      N Valid Total\n",
       "                                       \n",
       "   1   'Conservative'  1432  44.7  36.2\n",
       "   2   'Labour'         937  29.3  23.7\n",
       "   3   'Alliance'       788  24.6  19.9\n",
       "   4   'Other'           46   1.4   1.2\n",
       "   5 M 'Didn't vote'    660        16.7\n",
       "   9 M 'Refused'         92         2.3\n"
      ]
     },
     "metadata": {},
     "output_type": "display_data"
    }
   ],
   "source": [
    "# Since 'BES.1983.classvot' is not a data frame, but a \"data.set\" object, we can\n",
    "# provide value labels while recoding:\n",
    "BES.1983.classvot <- within(BES.1983.classvot,{\n",
    "    vote.new <- recode(vote,\n",
    "                       Conservative  = 1 <- 1,\n",
    "                       Labour        = 2 <- 2,\n",
    "                       Alliance      = 3 <- 3:5,\n",
    "                       Other         = 4 <- c(6:10,97),\n",
    "                       \"Didn't vote\" = 5 <- 0,\n",
    "                       DK            = 8 <- 98,\n",
    "                       Refused       = 9 <- 95)\n",
    "    missing.values(vote.new) <- c(5,9)\n",
    "})\n",
    "# Checking the result:\n",
    "codebook(BES.1983.classvot$vote.new)"
   ]
  },
  {
   "cell_type": "code",
   "execution_count": null,
   "metadata": {},
   "outputs": [],
   "source": []
  }
 ],
 "metadata": {
  "kernelspec": {
   "display_name": "R",
   "language": "R",
   "name": "ir"
  },
  "language_info": {
   "codemirror_mode": "r",
   "file_extension": ".r",
   "mimetype": "text/x-r-source",
   "name": "R",
   "pygments_lexer": "r",
   "version": "4.0.3"
  }
 },
 "nbformat": 4,
 "nbformat_minor": 4
}
