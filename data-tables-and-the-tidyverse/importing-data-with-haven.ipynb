{
 "cells": [
  {
   "cell_type": "markdown",
   "metadata": {},
   "source": [
    "# Importing data with the *haven* package "
   ]
  },
  {
   "cell_type": "markdown",
   "metadata": {},
   "source": [
    "The following makes use of the  *haven* package. You may need to install it from [CRAN](https://cran.r-project.org) using the code `install.packages(\"haven\")` if you want to run this on your computer. (The package is already installed on the notebook container, however.)\n",
    "\n",
    "This notebook makes use of the following files:\n",
    "\n",
    "- [ConstituencyResults2010.sav](https://raw.githubusercontent.com/melff/dataman-r/main/data-frames/ConstituencyResults2010.sav)\n",
    "- [ConstituencyResults2010.por](https://raw.githubusercontent.com/melff/dataman-r/main/data-frames/ConstituencyResults2010.por)\n",
    "- [ConstituencyResults2010.dta](https://raw.githubusercontent.com/melff/dataman-r/main/data-frames/ConstituencyResults2010.dta)\n",
    "- [ConstituencyResults2010-stata-new.dta](https://raw.githubusercontent.com/melff/dataman-r/main/data-frames/ConstResults2010-stata-new.dta)\n",
    "\n",
    "Currently, these Data files are also available from https://www.pippanorris.com/data.\n",
    "(Previously they were available from http://www.hks.harvard.edu/fs/pnorris/Data/Data.htm.) "
   ]
  },
  {
   "cell_type": "code",
   "execution_count": 1,
   "metadata": {},
   "outputs": [],
   "source": [
    "options(jupyter.rich_display=FALSE) # Create output as usual in R"
   ]
  },
  {
   "cell_type": "code",
   "execution_count": 2,
   "metadata": {},
   "outputs": [],
   "source": [
    "library(haven)"
   ]
  },
  {
   "cell_type": "code",
   "execution_count": 3,
   "metadata": {},
   "outputs": [
    {
     "data": {
      "text/plain": [
       "  refno cons lab  libdem snp  plcym green bnp ukip\n",
       "1 1     14.3 51.9 16.3     NA  7.1  NA    4.1 1.6 \n",
       "2 2     35.8 24.5 19.3     NA 17.8  NA     NA 2.1 \n",
       "3 3     12.4 44.4 18.6   22.2   NA  NA    1.7  NA \n",
       "4 4     20.7 36.5 28.4   11.9   NA   1    1.2  NA \n",
       "5 5     30.3 13.6 38.4   15.7   NA  NA    1.1 0.9 \n",
       "6 6      8.7 58.2  8.1   23.6   NA  NA     NA  NA "
      ]
     },
     "metadata": {},
     "output_type": "display_data"
    }
   ],
   "source": [
    "# Reading in an SPSS \"system\" file\n",
    "ConstRes2010 <- read_sav(\"ConstituencyResults2010.sav\")\n",
    "head(ConstRes2010)"
   ]
  },
  {
   "cell_type": "code",
   "execution_count": 4,
   "metadata": {},
   "outputs": [
    {
     "name": "stdout",
     "output_type": "stream",
     "text": [
      "Read bytes: 0   String: ⁸/  Ending state: 0\n",
      "Error parsing double string (length=4): ⁸/ [8/]\n"
     ]
    },
    {
     "ename": "ERROR",
     "evalue": "Error in df_parse_por_file(spec, encoding = \"\", user_na = user_na, cols_skip, : Failed to parse /home/elff/R/SageBook/dataman-r/Data Tables and the Tidyverse/ConstituencyResults2010.por: Invalid file, or file has unsupported features.\n",
     "output_type": "error",
     "traceback": [
      "Error in df_parse_por_file(spec, encoding = \"\", user_na = user_na, cols_skip, : Failed to parse /home/elff/R/SageBook/dataman-r/Data Tables and the Tidyverse/ConstituencyResults2010.por: Invalid file, or file has unsupported features.\nTraceback:\n",
      "1. read_por(\"ConstituencyResults2010.por\")",
      "2. df_parse_por_file(spec, encoding = \"\", user_na = user_na, cols_skip, \n .     n_max, skip, name_repair = .name_repair)"
     ]
    }
   ],
   "source": [
    "# Reading in an SPSS \"portable\" file \n",
    "ConstRes2010 <- read_por(\"ConstituencyResults2010.por\") # This works with 'foreign', but not with 'haven'\n",
    "head(ConstRes2010)"
   ]
  },
  {
   "cell_type": "code",
   "execution_count": 5,
   "metadata": {},
   "outputs": [
    {
     "data": {
      "text/plain": [
       "  refno cons lab  libdem snp  plcym green bnp ukip\n",
       "1 1     14.3 51.9 16.3     NA  7.1  NA    4.1 1.6 \n",
       "2 2     35.8 24.5 19.3     NA 17.8  NA     NA 2.1 \n",
       "3 3     12.4 44.4 18.6   22.2   NA  NA    1.7  NA \n",
       "4 4     20.7 36.5 28.4   11.9   NA   1    1.2  NA \n",
       "5 5     30.3 13.6 38.4   15.7   NA  NA    1.1 0.9 \n",
       "6 6      8.7 58.2  8.1   23.6   NA  NA     NA  NA "
      ]
     },
     "metadata": {},
     "output_type": "display_data"
    }
   ],
   "source": [
    "# Reading in a Stata file\n",
    "ConstRes2010 <- read_dta(\"ConstituencyResults2010.dta\")\n",
    "head(ConstRes2010)"
   ]
  },
  {
   "cell_type": "code",
   "execution_count": 6,
   "metadata": {},
   "outputs": [
    {
     "data": {
      "text/plain": [
       "  refno cons lab  libdem snp  plcym green bnp ukip\n",
       "1 1     14.3 51.9 16.3     NA  7.1  NA    4.1 1.6 \n",
       "2 2     35.8 24.5 19.3     NA 17.8  NA     NA 2.1 \n",
       "3 3     12.4 44.4 18.6   22.2   NA  NA    1.7  NA \n",
       "4 4     20.7 36.5 28.4   11.9   NA   1    1.2  NA \n",
       "5 5     30.3 13.6 38.4   15.7   NA  NA    1.1 0.9 \n",
       "6 6      8.7 58.2  8.1   23.6   NA  NA     NA  NA "
      ]
     },
     "metadata": {},
     "output_type": "display_data"
    }
   ],
   "source": [
    "# Reading in a new format Stata file\n",
    "ConstRes2010 <- read_dta(\"ConstResults2010-stata-new.dta\")\n",
    "head(ConstRes2010)"
   ]
  },
  {
   "cell_type": "code",
   "execution_count": null,
   "metadata": {},
   "outputs": [],
   "source": []
  }
 ],
 "metadata": {
  "kernelspec": {
   "display_name": "R",
   "language": "R",
   "name": "ir"
  },
  "language_info": {
   "codemirror_mode": "r",
   "file_extension": ".r",
   "mimetype": "text/x-r-source",
   "name": "R",
   "pygments_lexer": "r",
   "version": "4.0.4"
  }
 },
 "nbformat": 4,
 "nbformat_minor": 4
}
