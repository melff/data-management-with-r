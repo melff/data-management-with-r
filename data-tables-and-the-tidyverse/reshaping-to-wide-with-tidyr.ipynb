{
 "cells": [
  {
   "cell_type": "markdown",
   "metadata": {},
   "source": [
    "# Reshaping data to wide format with *tidyr*"
   ]
  },
  {
   "cell_type": "markdown",
   "metadata": {},
   "source": [
    "The following makes use of the packages *tidyr* and *readr*. You may need to\n",
    "install them from [CRAN](https://cran.r-project.org) using the code\n",
    "`install.packages(c(\"tidyr\",\"readr\"))` if you want to run this on your computer. (The packages are already installed\n",
    "on the notebook container, however.)"
   ]
  },
  {
   "cell_type": "code",
   "execution_count": 1,
   "metadata": {},
   "outputs": [],
   "source": [
    "options(jupyter.rich_display=FALSE) # Create output as usual in R"
   ]
  },
  {
   "cell_type": "code",
   "execution_count": 2,
   "metadata": {},
   "outputs": [
    {
     "data": {
      "text/plain": [
       "[1] \"\\\"LOCATION\\\",\\\"INDICATOR\\\",\\\"SUBJECT\\\",\\\"MEASUR\"    \n",
       "[2] \"\\\"AUS\\\",\\\"INCOMEINEQ\\\",\\\"P50P10\\\",\\\"RT\\\",\\\"A\\\",\\\"20\"\n",
       "[3] \"\\\"AUS\\\",\\\"INCOMEINEQ\\\",\\\"P50P10\\\",\\\"RT\\\",\\\"A\\\",\\\"20\"\n",
       "[4] \"\\\"AUS\\\",\\\"INCOMEINEQ\\\",\\\"P50P10\\\",\\\"RT\\\",\\\"A\\\",\\\"20\"\n",
       "[5] \"\\\"AUS\\\",\\\"INCOMEINEQ\\\",\\\"P90P10\\\",\\\"RT\\\",\\\"A\\\",\\\"20\""
      ]
     },
     "metadata": {},
     "output_type": "display_data"
    }
   ],
   "source": [
    "substr(readLines(\"inequality-oecd-downloaded.csv\",n=5),\n",
    "       start=1,stop=40)"
   ]
  },
  {
   "cell_type": "code",
   "execution_count": 3,
   "metadata": {},
   "outputs": [],
   "source": [
    "library(readr)"
   ]
  },
  {
   "cell_type": "code",
   "execution_count": 4,
   "metadata": {},
   "outputs": [
    {
     "name": "stderr",
     "output_type": "stream",
     "text": [
      "Parsed with column specification:\n",
      "cols(\n",
      "  LOCATION = \u001b[31mcol_character()\u001b[39m,\n",
      "  INDICATOR = \u001b[31mcol_character()\u001b[39m,\n",
      "  SUBJECT = \u001b[31mcol_character()\u001b[39m,\n",
      "  MEASURE = \u001b[31mcol_character()\u001b[39m,\n",
      "  FREQUENCY = \u001b[31mcol_character()\u001b[39m,\n",
      "  TIME = \u001b[32mcol_double()\u001b[39m,\n",
      "  Value = \u001b[32mcol_double()\u001b[39m,\n",
      "  `Flag Codes` = \u001b[31mcol_character()\u001b[39m\n",
      ")\n",
      "\n"
     ]
    }
   ],
   "source": [
    "inequality.oecd.dld <- read_csv(\"inequality-oecd-downloaded.csv\")"
   ]
  },
  {
   "cell_type": "code",
   "execution_count": 5,
   "metadata": {},
   "outputs": [
    {
     "data": {
      "text/plain": [
       "     LOCATION INDICATOR  SUBJECT MEASURE FREQUENCY TIME Value Flag Codes\n",
       "1    AUS      INCOMEINEQ P50P10  RT      A         2012 2.200 NA        \n",
       "2    AUS      INCOMEINEQ P50P10  RT      A         2014 2.200 NA        \n",
       "3    AUS      INCOMEINEQ P50P10  RT      A         2016 2.100 NA        \n",
       "4    AUS      INCOMEINEQ P90P10  RT      A         2012 4.400 NA        \n",
       "5    AUS      INCOMEINEQ P90P10  RT      A         2014 4.300 NA        \n",
       "6    AUS      INCOMEINEQ P90P10  RT      A         2016 4.300 NA        \n",
       "7    AUS      INCOMEINEQ P90P50  RT      A         2012 2.000 NA        \n",
       "8    AUS      INCOMEINEQ P90P50  RT      A         2014 2.000 NA        \n",
       "9    AUS      INCOMEINEQ P90P50  RT      A         2016 2.100 NA        \n",
       "10   AUS      INCOMEINEQ GINI    INEQ    A         2012 0.326 NA        \n",
       "11   AUS      INCOMEINEQ GINI    INEQ    A         2014 0.337 NA        \n",
       "12   AUS      INCOMEINEQ GINI    INEQ    A         2016 0.330 NA        \n",
       "13   AUT      INCOMEINEQ P50P10  RT      A         2007 2.000 NA        \n",
       "14   AUT      INCOMEINEQ P50P10  RT      A         2008 1.900 NA        \n",
       "15   AUT      INCOMEINEQ P50P10  RT      A         2009 2.000 NA        \n",
       "16   AUT      INCOMEINEQ P50P10  RT      A         2010 1.900 NA        \n",
       "17   AUT      INCOMEINEQ P50P10  RT      A         2011 1.900 NA        \n",
       "18   AUT      INCOMEINEQ P50P10  RT      A         2012 2.000 NA        \n",
       "19   AUT      INCOMEINEQ P50P10  RT      A         2013 1.900 NA        \n",
       "20   AUT      INCOMEINEQ P50P10  RT      A         2014 1.900 NA        \n",
       "21   AUT      INCOMEINEQ P50P10  RT      A         2015 1.900 NA        \n",
       "22   AUT      INCOMEINEQ P50P10  RT      A         2016 2.000 NA        \n",
       "23   AUT      INCOMEINEQ P90P10  RT      A         2007 3.600 NA        \n",
       "24   AUT      INCOMEINEQ P90P10  RT      A         2008 3.400 NA        \n",
       "25   AUT      INCOMEINEQ P90P10  RT      A         2009 3.600 NA        \n",
       "26   AUT      INCOMEINEQ P90P10  RT      A         2010 3.500 NA        \n",
       "27   AUT      INCOMEINEQ P90P10  RT      A         2011 3.500 NA        \n",
       "28   AUT      INCOMEINEQ P90P10  RT      A         2012 3.500 NA        \n",
       "29   AUT      INCOMEINEQ P90P10  RT      A         2013 3.400 NA        \n",
       "30   AUT      INCOMEINEQ P90P10  RT      A         2014 3.400 NA        \n",
       "⋮    ⋮        ⋮          ⋮       ⋮       ⋮         ⋮    ⋮     ⋮         \n",
       "2286 LTU      INCOMEINEQ PALMA   RT      A         2006 1.26  NA        \n",
       "2287 LTU      INCOMEINEQ PALMA   RT      A         2007 1.33  NA        \n",
       "2288 LTU      INCOMEINEQ PALMA   RT      A         2008 1.48  NA        \n",
       "2289 LTU      INCOMEINEQ PALMA   RT      A         2009 1.53  NA        \n",
       "2290 LTU      INCOMEINEQ PALMA   RT      A         2010 1.24  NA        \n",
       "2291 LTU      INCOMEINEQ PALMA   RT      A         2011 1.20  NA        \n",
       "2292 LTU      INCOMEINEQ PALMA   RT      A         2012 1.42  NA        \n",
       "2293 LTU      INCOMEINEQ PALMA   RT      A         2013 1.42  NA        \n",
       "2294 LTU      INCOMEINEQ PALMA   RT      A         2014 1.67  NA        \n",
       "2295 LTU      INCOMEINEQ PALMA   RT      A         2015 1.59  NA        \n",
       "2296 LTU      INCOMEINEQ PALMA   RT      A         2016 1.65  NA        \n",
       "2297 RUS      INCOMEINEQ PALMA   RT      A         2011 1.59  NA        \n",
       "2298 RUS      INCOMEINEQ PALMA   RT      A         2016 1.28  NA        \n",
       "2299 SVN      INCOMEINEQ PALMA   RT      A         2004 0.80  NA        \n",
       "2300 SVN      INCOMEINEQ PALMA   RT      A         2005 0.80  NA        \n",
       "2301 SVN      INCOMEINEQ PALMA   RT      A         2006 0.79  NA        \n",
       "2302 SVN      INCOMEINEQ PALMA   RT      A         2007 0.79  NA        \n",
       "2303 SVN      INCOMEINEQ PALMA   RT      A         2008 0.77  NA        \n",
       "2304 SVN      INCOMEINEQ PALMA   RT      A         2009 0.82  NA        \n",
       "2305 SVN      INCOMEINEQ PALMA   RT      A         2010 0.81  NA        \n",
       "2306 SVN      INCOMEINEQ PALMA   RT      A         2011 0.81  NA        \n",
       "2307 SVN      INCOMEINEQ PALMA   RT      A         2012 0.83  NA        \n",
       "2308 SVN      INCOMEINEQ PALMA   RT      A         2013 0.86  NA        \n",
       "2309 SVN      INCOMEINEQ PALMA   RT      A         2014 0.85  NA        \n",
       "2310 SVN      INCOMEINEQ PALMA   RT      A         2015 0.84  NA        \n",
       "2311 SVN      INCOMEINEQ PALMA   RT      A         2016 0.81  NA        \n",
       "2312 ZAF      INCOMEINEQ PALMA   RT      A         2015 7.03  P         \n",
       "2313 KOR      INCOMEINEQ PALMA   RT      A         2015 1.42  NA        \n",
       "2314 KOR      INCOMEINEQ PALMA   RT      A         2016 1.45  NA        \n",
       "2315 KOR      INCOMEINEQ PALMA   RT      A         2017 1.44  NA        "
      ]
     },
     "metadata": {},
     "output_type": "display_data"
    }
   ],
   "source": [
    "inequality.oecd.dld"
   ]
  },
  {
   "cell_type": "code",
   "execution_count": 7,
   "metadata": {},
   "outputs": [],
   "source": [
    "library(tidyr)"
   ]
  },
  {
   "cell_type": "code",
   "execution_count": 8,
   "metadata": {},
   "outputs": [],
   "source": [
    "inequality.oecd.dld %>% spread(key=\"SUBJECT\",value=\"Value\") ->\n",
    "                                               inequality.oecd"
   ]
  },
  {
   "cell_type": "code",
   "execution_count": 9,
   "metadata": {},
   "outputs": [
    {
     "data": {
      "text/plain": [
       "    LOCATION MEASURE TIME GINI  P50P10 P90P10 P90P50 PALMA S80S20\n",
       "1   AUS      INEQ    2012 0.326  NA     NA     NA      NA   NA   \n",
       "2   AUS      INEQ    2014 0.337  NA     NA     NA      NA   NA   \n",
       "3   AUS      INEQ    2016 0.330  NA     NA     NA      NA   NA   \n",
       "4   AUS      RT      2012    NA 2.2    4.4    2.0    1.24  5.5   \n",
       "5   AUS      RT      2014    NA 2.2    4.3    2.0    1.34  5.7   \n",
       "6   AUS      RT      2016    NA 2.1    4.3    2.1    1.26  5.5   \n",
       "7   AUT      INEQ    2007 0.284  NA     NA     NA      NA   NA   \n",
       "8   AUT      INEQ    2008 0.281  NA     NA     NA      NA   NA   \n",
       "9   AUT      INEQ    2009 0.289  NA     NA     NA      NA   NA   \n",
       "10  AUT      INEQ    2010 0.280  NA     NA     NA      NA   NA   \n",
       "11  AUT      INEQ    2011 0.281  NA     NA     NA      NA   NA   \n",
       "12  AUT      INEQ    2012 0.275  NA     NA     NA      NA   NA   \n",
       "13  AUT      INEQ    2013 0.279  NA     NA     NA      NA   NA   \n",
       "14  AUT      INEQ    2014 0.274  NA     NA     NA      NA   NA   \n",
       "15  AUT      INEQ    2015 0.276  NA     NA     NA      NA   NA   \n",
       "16  AUT      INEQ    2016 0.284  NA     NA     NA      NA   NA   \n",
       "17  AUT      RT      2007    NA 2.0    3.6    1.8    1.00  4.4   \n",
       "18  AUT      RT      2008    NA 1.9    3.4    1.8    1.00  4.3   \n",
       "19  AUT      RT      2009    NA 2.0    3.6    1.8    1.03  4.5   \n",
       "20  AUT      RT      2010    NA 1.9    3.5    1.8    0.98  4.3   \n",
       "21  AUT      RT      2011    NA 1.9    3.5    1.8    0.99  4.4   \n",
       "22  AUT      RT      2012    NA 2.0    3.5    1.8    0.96  4.2   \n",
       "23  AUT      RT      2013    NA 1.9    3.4    1.8    0.99  4.2   \n",
       "24  AUT      RT      2014    NA 1.9    3.4    1.7    0.96  4.1   \n",
       "25  AUT      RT      2015    NA 1.9    3.3    1.7    0.96  4.2   \n",
       "26  AUT      RT      2016    NA 2.0    3.5    1.8    1.00  4.5   \n",
       "27  BEL      INEQ    2004 0.287  NA     NA     NA      NA   NA   \n",
       "28  BEL      INEQ    2005 0.277  NA     NA     NA      NA   NA   \n",
       "29  BEL      INEQ    2006 0.268  NA     NA     NA      NA   NA   \n",
       "30  BEL      INEQ    2007 0.277  NA     NA     NA      NA   NA   \n",
       "⋮   ⋮        ⋮       ⋮    ⋮     ⋮      ⋮      ⋮      ⋮     ⋮     \n",
       "742 SWE      INEQ    2015 0.278  NA      NA    NA      NA    NA  \n",
       "743 SWE      INEQ    2016 0.282  NA      NA    NA      NA    NA  \n",
       "744 SWE      INEQ    2017 0.282  NA      NA    NA      NA    NA  \n",
       "745 SWE      RT      2013    NA 1.9     3.2   1.7    0.94   4.0  \n",
       "746 SWE      RT      2014    NA 1.9     3.3   1.7    0.97   4.1  \n",
       "747 SWE      RT      2015    NA 2.0     3.3   1.7    0.99   4.2  \n",
       "748 SWE      RT      2016    NA 1.9     3.3   1.7    1.02   4.2  \n",
       "749 SWE      RT      2017    NA 2.0     3.3   1.7    1.02   4.2  \n",
       "750 TUR      INEQ    2011 0.403  NA      NA    NA      NA    NA  \n",
       "751 TUR      INEQ    2012 0.399  NA      NA    NA      NA    NA  \n",
       "752 TUR      INEQ    2013 0.390  NA      NA    NA      NA    NA  \n",
       "753 TUR      INEQ    2014 0.398  NA      NA    NA      NA    NA  \n",
       "754 TUR      INEQ    2015 0.404  NA      NA    NA      NA    NA  \n",
       "755 TUR      RT      2011    NA 2.5     6.1   2.5    1.89   8.0  \n",
       "756 TUR      RT      2012    NA 2.4     6.0   2.5    1.86   7.7  \n",
       "757 TUR      RT      2013    NA 2.4     5.9   2.5    1.76   7.5  \n",
       "758 TUR      RT      2014    NA 2.4     5.9   2.5    1.84   7.7  \n",
       "759 TUR      RT      2015    NA 2.3     5.7   2.5    1.91   7.8  \n",
       "760 USA      INEQ    2013 0.396  NA      NA    NA      NA    NA  \n",
       "761 USA      INEQ    2014 0.394  NA      NA    NA      NA    NA  \n",
       "762 USA      INEQ    2015 0.390  NA      NA    NA      NA    NA  \n",
       "763 USA      INEQ    2016 0.391  NA      NA    NA      NA    NA  \n",
       "764 USA      INEQ    2017 0.390  NA      NA    NA      NA    NA  \n",
       "765 USA      RT      2013    NA 2.7     6.4   2.3    1.82   8.6  \n",
       "766 USA      RT      2014    NA 2.7     6.4   2.3    1.79   8.7  \n",
       "767 USA      RT      2015    NA 2.7     6.1   2.3    1.75   8.3  \n",
       "768 USA      RT      2016    NA 2.7     6.3   2.3    1.77   8.5  \n",
       "769 USA      RT      2017    NA 2.7     6.2   2.3    1.76   8.4  \n",
       "770 ZAF      INEQ    2015 0.620  NA      NA    NA      NA    NA  \n",
       "771 ZAF      RT      2015    NA 4.8    25.6   5.3    7.03  37.6  "
      ]
     },
     "metadata": {},
     "output_type": "display_data"
    }
   ],
   "source": [
    "inequality.oecd[-c(2,4,6)]"
   ]
  },
  {
   "cell_type": "code",
   "execution_count": 11,
   "metadata": {},
   "outputs": [
    {
     "name": "stderr",
     "output_type": "stream",
     "text": [
      "\n",
      "Attaching package: ‘dplyr’\n",
      "\n",
      "\n",
      "The following objects are masked from ‘package:stats’:\n",
      "\n",
      "    filter, lag\n",
      "\n",
      "\n",
      "The following objects are masked from ‘package:base’:\n",
      "\n",
      "    intersect, setdiff, setequal, union\n",
      "\n",
      "\n"
     ]
    }
   ],
   "source": [
    "library(dplyr)"
   ]
  },
  {
   "cell_type": "code",
   "execution_count": 12,
   "metadata": {},
   "outputs": [
    {
     "data": {
      "text/plain": [
       "     LOCATION SUBJECT TIME Value\n",
       "1    AUS      P50P10  2012 2.200\n",
       "2    AUS      P50P10  2014 2.200\n",
       "3    AUS      P50P10  2016 2.100\n",
       "4    AUS      P90P10  2012 4.400\n",
       "5    AUS      P90P10  2014 4.300\n",
       "6    AUS      P90P10  2016 4.300\n",
       "7    AUS      P90P50  2012 2.000\n",
       "8    AUS      P90P50  2014 2.000\n",
       "9    AUS      P90P50  2016 2.100\n",
       "10   AUS      GINI    2012 0.326\n",
       "11   AUS      GINI    2014 0.337\n",
       "12   AUS      GINI    2016 0.330\n",
       "13   AUT      P50P10  2007 2.000\n",
       "14   AUT      P50P10  2008 1.900\n",
       "15   AUT      P50P10  2009 2.000\n",
       "16   AUT      P50P10  2010 1.900\n",
       "17   AUT      P50P10  2011 1.900\n",
       "18   AUT      P50P10  2012 2.000\n",
       "19   AUT      P50P10  2013 1.900\n",
       "20   AUT      P50P10  2014 1.900\n",
       "21   AUT      P50P10  2015 1.900\n",
       "22   AUT      P50P10  2016 2.000\n",
       "23   AUT      P90P10  2007 3.600\n",
       "24   AUT      P90P10  2008 3.400\n",
       "25   AUT      P90P10  2009 3.600\n",
       "26   AUT      P90P10  2010 3.500\n",
       "27   AUT      P90P10  2011 3.500\n",
       "28   AUT      P90P10  2012 3.500\n",
       "29   AUT      P90P10  2013 3.400\n",
       "30   AUT      P90P10  2014 3.400\n",
       "⋮    ⋮        ⋮       ⋮    ⋮    \n",
       "2286 LTU      PALMA   2006 1.26 \n",
       "2287 LTU      PALMA   2007 1.33 \n",
       "2288 LTU      PALMA   2008 1.48 \n",
       "2289 LTU      PALMA   2009 1.53 \n",
       "2290 LTU      PALMA   2010 1.24 \n",
       "2291 LTU      PALMA   2011 1.20 \n",
       "2292 LTU      PALMA   2012 1.42 \n",
       "2293 LTU      PALMA   2013 1.42 \n",
       "2294 LTU      PALMA   2014 1.67 \n",
       "2295 LTU      PALMA   2015 1.59 \n",
       "2296 LTU      PALMA   2016 1.65 \n",
       "2297 RUS      PALMA   2011 1.59 \n",
       "2298 RUS      PALMA   2016 1.28 \n",
       "2299 SVN      PALMA   2004 0.80 \n",
       "2300 SVN      PALMA   2005 0.80 \n",
       "2301 SVN      PALMA   2006 0.79 \n",
       "2302 SVN      PALMA   2007 0.79 \n",
       "2303 SVN      PALMA   2008 0.77 \n",
       "2304 SVN      PALMA   2009 0.82 \n",
       "2305 SVN      PALMA   2010 0.81 \n",
       "2306 SVN      PALMA   2011 0.81 \n",
       "2307 SVN      PALMA   2012 0.83 \n",
       "2308 SVN      PALMA   2013 0.86 \n",
       "2309 SVN      PALMA   2014 0.85 \n",
       "2310 SVN      PALMA   2015 0.84 \n",
       "2311 SVN      PALMA   2016 0.81 \n",
       "2312 ZAF      PALMA   2015 7.03 \n",
       "2313 KOR      PALMA   2015 1.42 \n",
       "2314 KOR      PALMA   2016 1.45 \n",
       "2315 KOR      PALMA   2017 1.44 "
      ]
     },
     "metadata": {},
     "output_type": "display_data"
    }
   ],
   "source": [
    "inequality.oecd.sub <- select(inequality.oecd.dld,\n",
    "                              LOCATION,SUBJECT,TIME,Value)\n",
    "inequality.oecd.sub"
   ]
  },
  {
   "cell_type": "code",
   "execution_count": 13,
   "metadata": {},
   "outputs": [],
   "source": [
    "inequality.oecd.sub %>% spread(key=SUBJECT,\n",
    "                               value=Value) -> inequality.oecd"
   ]
  },
  {
   "cell_type": "code",
   "execution_count": 14,
   "metadata": {},
   "outputs": [
    {
     "data": {
      "text/plain": [
       "    LOCATION TIME GINI  P50P10 P90P10 P90P50 PALMA S80S20\n",
       "1   AUS      2012 0.326 2.2     4.4   2.0    1.24   5.5  \n",
       "2   AUS      2014 0.337 2.2     4.3   2.0    1.34   5.7  \n",
       "3   AUS      2016 0.330 2.1     4.3   2.1    1.26   5.5  \n",
       "4   AUT      2007 0.284 2.0     3.6   1.8    1.00   4.4  \n",
       "5   AUT      2008 0.281 1.9     3.4   1.8    1.00   4.3  \n",
       "6   AUT      2009 0.289 2.0     3.6   1.8    1.03   4.5  \n",
       "7   AUT      2010 0.280 1.9     3.5   1.8    0.98   4.3  \n",
       "8   AUT      2011 0.281 1.9     3.5   1.8    0.99   4.4  \n",
       "9   AUT      2012 0.275 2.0     3.5   1.8    0.96   4.2  \n",
       "10  AUT      2013 0.279 1.9     3.4   1.8    0.99   4.2  \n",
       "11  AUT      2014 0.274 1.9     3.4   1.7    0.96   4.1  \n",
       "12  AUT      2015 0.276 1.9     3.3   1.7    0.96   4.2  \n",
       "13  AUT      2016 0.284 2.0     3.5   1.8    1.00   4.5  \n",
       "14  BEL      2004 0.287 1.9     3.3   1.7    1.05   4.2  \n",
       "15  BEL      2005 0.277 2.0     3.4   1.7    0.99   4.1  \n",
       "16  BEL      2006 0.268 2.0     3.4   1.7    0.93   4.0  \n",
       "17  BEL      2007 0.277 1.9     3.3   1.7    0.98   4.1  \n",
       "18  BEL      2008 0.266 2.0     3.4   1.7    0.91   3.9  \n",
       "19  BEL      2009 0.272 2.0     3.4   1.7    0.95   4.1  \n",
       "20  BEL      2010 0.267 2.0     3.4   1.7    0.92   4.0  \n",
       "21  BEL      2011 0.270 2.0     3.4   1.7    0.93   4.0  \n",
       "22  BEL      2012 0.265 2.0     3.4   1.7    0.91   3.9  \n",
       "23  BEL      2013 0.265 2.0     3.4   1.7    0.90   3.9  \n",
       "24  BEL      2014 0.266 1.9     3.4   1.7    0.92   3.9  \n",
       "25  BEL      2015 0.268 2.0     3.4   1.7    0.93   4.0  \n",
       "26  BEL      2016 0.266 2.0     3.3   1.7    0.92   3.9  \n",
       "27  BRA      2006 0.510 3.1    10.4   3.4    3.39  15.3  \n",
       "28  BRA      2009 0.485 2.8     8.9   3.1    2.96  13.1  \n",
       "29  BRA      2011 0.483 3.1     9.3   3.0    2.95  13.9  \n",
       "30  BRA      2013 0.470 3.0     8.7   2.9    2.71  12.5  \n",
       "⋮   ⋮        ⋮    ⋮     ⋮      ⋮      ⋮      ⋮     ⋮     \n",
       "357 SVK      2016 0.241 1.9     3.1   1.6    0.79   3.7  \n",
       "358 SVN      2004 0.241 1.8     3.0   1.7    0.80   3.5  \n",
       "359 SVN      2005 0.240 1.8     3.0   1.7    0.80   3.5  \n",
       "360 SVN      2006 0.237 1.8     3.0   1.7    0.79   3.4  \n",
       "361 SVN      2007 0.239 1.8     3.0   1.6    0.79   3.5  \n",
       "362 SVN      2008 0.234 1.8     3.0   1.6    0.77   3.4  \n",
       "363 SVN      2009 0.245 1.9     3.1   1.7    0.82   3.6  \n",
       "364 SVN      2010 0.244 1.9     3.2   1.6    0.81   3.6  \n",
       "365 SVN      2011 0.244 1.9     3.2   1.6    0.81   3.6  \n",
       "366 SVN      2012 0.249 2.0     3.2   1.7    0.83   3.7  \n",
       "367 SVN      2013 0.254 2.0     3.3   1.7    0.86   3.8  \n",
       "368 SVN      2014 0.251 2.0     3.3   1.7    0.85   3.7  \n",
       "369 SVN      2015 0.250 1.9     3.2   1.6    0.84   3.7  \n",
       "370 SVN      2016 0.244 1.9     3.1   1.7    0.81   3.6  \n",
       "371 SWE      2013 0.268 1.9     3.2   1.7    0.94   4.0  \n",
       "372 SWE      2014 0.274 1.9     3.3   1.7    0.97   4.1  \n",
       "373 SWE      2015 0.278 2.0     3.3   1.7    0.99   4.2  \n",
       "374 SWE      2016 0.282 1.9     3.3   1.7    1.02   4.2  \n",
       "375 SWE      2017 0.282 2.0     3.3   1.7    1.02   4.2  \n",
       "376 TUR      2011 0.403 2.5     6.1   2.5    1.89   8.0  \n",
       "377 TUR      2012 0.399 2.4     6.0   2.5    1.86   7.7  \n",
       "378 TUR      2013 0.390 2.4     5.9   2.5    1.76   7.5  \n",
       "379 TUR      2014 0.398 2.4     5.9   2.5    1.84   7.7  \n",
       "380 TUR      2015 0.404 2.3     5.7   2.5    1.91   7.8  \n",
       "381 USA      2013 0.396 2.7     6.4   2.3    1.82   8.6  \n",
       "382 USA      2014 0.394 2.7     6.4   2.3    1.79   8.7  \n",
       "383 USA      2015 0.390 2.7     6.1   2.3    1.75   8.3  \n",
       "384 USA      2016 0.391 2.7     6.3   2.3    1.77   8.5  \n",
       "385 USA      2017 0.390 2.7     6.2   2.3    1.76   8.4  \n",
       "386 ZAF      2015 0.620 4.8    25.6   5.3    7.03  37.6  "
      ]
     },
     "metadata": {},
     "output_type": "display_data"
    }
   ],
   "source": [
    "inequality.oecd"
   ]
  },
  {
   "cell_type": "code",
   "execution_count": 15,
   "metadata": {},
   "outputs": [],
   "source": [
    "inequality.oecd.dld %>% pivot_wider(names_from=SUBJECT,\n",
    "                                    values_from=Value,\n",
    "                                    id_cols=c(LOCATION,TIME)) ->\n",
    "                                                inequality.oecd"
   ]
  },
  {
   "cell_type": "code",
   "execution_count": 16,
   "metadata": {},
   "outputs": [
    {
     "data": {
      "text/plain": [
       "    LOCATION TIME P50P10 P90P10 P90P50 GINI  S80S20 PALMA\n",
       "1   AUS      2012 2.2    4.4    2.0    0.326 5.5    1.24 \n",
       "2   AUS      2014 2.2    4.3    2.0    0.337 5.7    1.34 \n",
       "3   AUS      2016 2.1    4.3    2.1    0.330 5.5    1.26 \n",
       "4   AUT      2007 2.0    3.6    1.8    0.284 4.4    1.00 \n",
       "5   AUT      2008 1.9    3.4    1.8    0.281 4.3    1.00 \n",
       "6   AUT      2009 2.0    3.6    1.8    0.289 4.5    1.03 \n",
       "7   AUT      2010 1.9    3.5    1.8    0.280 4.3    0.98 \n",
       "8   AUT      2011 1.9    3.5    1.8    0.281 4.4    0.99 \n",
       "9   AUT      2012 2.0    3.5    1.8    0.275 4.2    0.96 \n",
       "10  AUT      2013 1.9    3.4    1.8    0.279 4.2    0.99 \n",
       "11  AUT      2014 1.9    3.4    1.7    0.274 4.1    0.96 \n",
       "12  AUT      2015 1.9    3.3    1.7    0.276 4.2    0.96 \n",
       "13  AUT      2016 2.0    3.5    1.8    0.284 4.5    1.00 \n",
       "14  BEL      2004 1.9    3.3    1.7    0.287 4.2    1.05 \n",
       "15  BEL      2005 2.0    3.4    1.7    0.277 4.1    0.99 \n",
       "16  BEL      2006 2.0    3.4    1.7    0.268 4.0    0.93 \n",
       "17  BEL      2007 1.9    3.3    1.7    0.277 4.1    0.98 \n",
       "18  BEL      2008 2.0    3.4    1.7    0.266 3.9    0.91 \n",
       "19  BEL      2009 2.0    3.4    1.7    0.272 4.1    0.95 \n",
       "20  BEL      2010 2.0    3.4    1.7    0.267 4.0    0.92 \n",
       "21  BEL      2011 2.0    3.4    1.7    0.270 4.0    0.93 \n",
       "22  BEL      2012 2.0    3.4    1.7    0.265 3.9    0.91 \n",
       "23  BEL      2013 2.0    3.4    1.7    0.265 3.9    0.90 \n",
       "24  BEL      2014 1.9    3.4    1.7    0.266 3.9    0.92 \n",
       "25  BEL      2015 2.0    3.4    1.7    0.268 4.0    0.93 \n",
       "26  BEL      2016 2.0    3.3    1.7    0.266 3.9    0.92 \n",
       "27  CAN      1976 2.3    4.2    1.8    0.303 5.1    1.09 \n",
       "28  CAN      1977 2.4    4.3    1.8    0.289 4.9    0.99 \n",
       "29  CAN      1978 2.3    4.2    1.8    0.294 4.9    1.04 \n",
       "30  CAN      1979 2.3    4.1    1.8    0.289 4.8    1.00 \n",
       "⋮   ⋮        ⋮    ⋮      ⋮      ⋮      ⋮     ⋮      ⋮    \n",
       "357 LTU      2004 2.3     5.0   2.2    0.350  6.3   1.41 \n",
       "358 LTU      2005 2.3     5.2   2.2    0.352  6.4   1.43 \n",
       "359 LTU      2006 2.2     4.6   2.1    0.329  5.6   1.26 \n",
       "360 LTU      2007 2.3     4.6   2.0    0.338  5.8   1.33 \n",
       "361 LTU      2008 2.3     4.8   2.1    0.358  6.3   1.48 \n",
       "362 LTU      2009 2.4     5.5   2.3    0.366  7.2   1.53 \n",
       "363 LTU      2010 2.2     4.7   2.1    0.329  5.7   1.24 \n",
       "364 LTU      2011 2.1     4.5   2.1    0.322  5.3   1.20 \n",
       "365 LTU      2012 2.2     4.8   2.1    0.350  6.2   1.42 \n",
       "366 LTU      2013 2.2     4.9   2.3    0.352  6.1   1.42 \n",
       "367 LTU      2014 2.4     5.4   2.2    0.381  7.4   1.67 \n",
       "368 LTU      2015 2.5     5.5   2.3    0.372  7.1   1.59 \n",
       "369 LTU      2016 2.6     5.8   2.2    0.378  7.5   1.65 \n",
       "370 BRA      2006 3.1    10.4   3.4    0.510 15.3   3.39 \n",
       "371 BRA      2009 2.8     8.9   3.1    0.485 13.1   2.96 \n",
       "372 BRA      2011 3.1     9.3   3.0    0.483 13.9   2.95 \n",
       "373 BRA      2013 3.0     8.7   2.9    0.470 12.5   2.71 \n",
       "374 CHN      2011 7.8    23.0   2.9    0.514 28.3   3.86 \n",
       "375 CRI      2010 2.9     9.3   3.2    0.472 12.1   2.73 \n",
       "376 CRI      2011 3.0    10.2   3.4    0.480 13.1   2.87 \n",
       "377 CRI      2012 3.1     9.9   3.2    0.483 13.5   2.93 \n",
       "378 CRI      2013 3.2    10.8   3.4    0.494 14.3   3.09 \n",
       "379 CRI      2014 3.2    10.4   3.3    0.485 13.7   2.98 \n",
       "380 CRI      2015 3.1    10.3   3.3    0.479 13.4   2.85 \n",
       "381 CRI      2016 3.1    10.2   3.3    0.484 13.5   2.94 \n",
       "382 CRI      2017 3.0    10.0   3.4    0.480 13.0   2.88 \n",
       "383 CRI      2018 3.1    10.2   3.3    0.479 13.2   2.85 \n",
       "384 IND      2004 2.9     9.1   3.2    0.482 12.5   2.88 \n",
       "385 IND      2011 2.9     9.4   3.2    0.495 13.4   3.09 \n",
       "386 ZAF      2015 4.8    25.6   5.3    0.620 37.6   7.03 "
      ]
     },
     "metadata": {},
     "output_type": "display_data"
    }
   ],
   "source": [
    "inequality.oecd"
   ]
  },
  {
   "cell_type": "code",
   "execution_count": null,
   "metadata": {},
   "outputs": [],
   "source": []
  }
 ],
 "metadata": {
  "kernelspec": {
   "display_name": "R",
   "language": "R",
   "name": "ir"
  },
  "language_info": {
   "codemirror_mode": "r",
   "file_extension": ".r",
   "mimetype": "text/x-r-source",
   "name": "R",
   "pygments_lexer": "r",
   "version": "4.0.4"
  }
 },
 "nbformat": 4,
 "nbformat_minor": 4
}
