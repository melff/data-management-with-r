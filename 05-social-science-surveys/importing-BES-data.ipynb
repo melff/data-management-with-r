{
 "cells": [
  {
   "cell_type": "markdown",
   "metadata": {},
   "source": [
    "# Importing data from the British Election Study in SPSS format"
   ]
  },
  {
   "cell_type": "code",
   "execution_count": null,
   "metadata": {},
   "outputs": [],
   "source": [
    "options(jupyter.rich_display=FALSE) # Create output as usual in R"
   ]
  },
  {
   "cell_type": "markdown",
   "metadata": {},
   "source": [
    "In order to run this notebook successfully, you have to download the 1983 British Election Study from the [BES website](https://www.britishelectionstudy.com/data-object/1983-bes-cross-section/) and upload it to the virtual machine on which this notebook runs. To do this, \n",
    "\n",
    "1. pull down the \"File\" menu item and select \"Open\"\n",
    "2. An overview of the folder that contains the notebook opens. \n",
    "3. The folder view has a button labelled \"Upload\". Use this to upload the file that you downloaded from the BES website. Its name should be `83BES.sav`.\n",
    "\n",
    "Note that the uploaded data will disappear, when the notebook container is reset.\n",
    "\n",
    "The following also makes use of the *memisc* package. You may need to install it\n",
    "from [CRAN](https://cran.r-project.org/package=memisc) using the code\n",
    "`install.packages(\"memisc\")` if you want to run this on your computer. (The package is already installed on\n",
    "the notebook container, however.)"
   ]
  },
  {
   "cell_type": "code",
   "execution_count": null,
   "metadata": {},
   "outputs": [],
   "source": [
    "library(memisc) # The functions used here are in this package."
   ]
  },
  {
   "cell_type": "code",
   "execution_count": null,
   "metadata": {},
   "outputs": [],
   "source": [
    "# The first step: Optainin the location and description of the survey data file\n",
    "BES.1983.por <- spss.portable.file(\"83BES.sav\")"
   ]
  },
  {
   "cell_type": "code",
   "execution_count": null,
   "metadata": {},
   "outputs": [],
   "source": [
    "description(BES.1983.por[1:30])"
   ]
  },
  {
   "cell_type": "code",
   "execution_count": null,
   "metadata": {},
   "outputs": [],
   "source": [
    "# The second step: Loading a subset of the data - only the variables that are\n",
    "# really needed for the analysis.\n",
    "BES.1983.classvot <- subset(\n",
    "    BES.1983.por,\n",
    "    select=c(\n",
    "        voted          = Q7A,\n",
    "        vote           = Q9A,\n",
    "        lrself         = Q46G,\n",
    "        fglclass       = FGLCLASS,\n",
    "        rglclass       = RGLCLASS,\n",
    "        sglclass       = SGLCLASS,\n",
    "        ethnicity      = Q64A,\n",
    "        gender         = Q64B,\n",
    "        age            = Q56,\n",
    "        educ           = Q59A,\n",
    "        religion       = Q63A,\n",
    "        religatt       = Q63B\n",
    "    ))\n",
    "description(BES.1983.classvot)"
   ]
  },
  {
   "cell_type": "code",
   "execution_count": null,
   "metadata": {},
   "outputs": [],
   "source": [
    "# Declaring the measurement level of a single variable\n",
    "measurement(BES.1983.classvot$lrself) <- \"interval\""
   ]
  },
  {
   "cell_type": "code",
   "execution_count": null,
   "metadata": {},
   "outputs": [],
   "source": [
    "# Declaring the measurement level of several variables\n",
    "BES.1983.classvot <- within(BES.1983.classvot,{\n",
    "   measurement(lrself) <- \"interval\"\n",
    "   measurement(age) <- \"interval\"\n",
    "   measurement(educ) <- \"interval\"\n",
    "})"
   ]
  },
  {
   "cell_type": "code",
   "execution_count": null,
   "metadata": {},
   "outputs": [],
   "source": [
    "# Declaring the measurement level of several variables using a loop\n",
    "BES.1983.classvot <- within(BES.1983.classvot,{\n",
    "   foreach(var=c(lrself,age,educ),{\n",
    "           measurement(var) <- \"interval\"\n",
    "   })\n",
    "})"
   ]
  },
  {
   "cell_type": "code",
   "execution_count": null,
   "metadata": {},
   "outputs": [],
   "source": [
    "# Obtaining the codebook a single variable\n",
    "codebook(BES.1983.classvot[\"age\"])"
   ]
  },
  {
   "cell_type": "code",
   "execution_count": null,
   "metadata": {},
   "outputs": [],
   "source": [
    "# Declaring the missing values for this variable\n",
    "missing.values(BES.1983.classvot$age) <- 99"
   ]
  },
  {
   "cell_type": "code",
   "execution_count": null,
   "metadata": {},
   "outputs": [],
   "source": [
    "# Declaring several missing values\n",
    "BES.1983.classvot <- within(BES.1983.classvot,{\n",
    "    missing.values(voted)     <- 9\n",
    "    missing.values(vote)      <- 95:99\n",
    "    missing.values(lrself)    <- 95:99\n",
    "    missing.values(fglclass)  <- 0\n",
    "    missing.values(rglclass)  <- 0\n",
    "    missing.values(sglclass)  <- 0\n",
    "    missing.values(ethnicity) <- 9\n",
    "    missing.values(gender)    <- 9\n",
    "    missing.values(age)       <- 9\n",
    "    missing.values(age)       <- 98:99\n",
    "    missing.values(religion)  <- 99\n",
    "    missing.values(religatt)  <- 7:9\n",
    "})"
   ]
  },
  {
   "cell_type": "code",
   "execution_count": null,
   "metadata": {},
   "outputs": [],
   "source": [
    "# The codebook of the resulting data set object\n",
    "codebook(BES.1983.classvot)"
   ]
  },
  {
   "cell_type": "code",
   "execution_count": null,
   "metadata": {},
   "outputs": [],
   "source": [
    "options(jupyter.rich_display=TRUE)\n",
    "show_html(codebook(BES.1983.classvot)) # Same information in HTML format"
   ]
  },
  {
   "cell_type": "code",
   "execution_count": null,
   "metadata": {},
   "outputs": [],
   "source": [
    "save(BES.1983.classvot,\n",
    "     file=\"BES-1983-classvot.RData\")"
   ]
  }
 ],
 "metadata": {
  "kernelspec": {
   "display_name": "R",
   "language": "R",
   "name": "ir"
  },
  "language_info": {
   "codemirror_mode": "r",
   "file_extension": ".r",
   "mimetype": "text/x-r-source",
   "name": "R",
   "pygments_lexer": "r",
   "version": "4.0.5"
  }
 },
 "nbformat": 4,
 "nbformat_minor": 4
}
