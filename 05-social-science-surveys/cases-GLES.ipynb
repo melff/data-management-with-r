{
 "cells": [
  {
   "cell_type": "markdown",
   "metadata": {},
   "source": [
    "# Combining variables using case distinctions"
   ]
  },
  {
   "cell_type": "markdown",
   "metadata": {},
   "source": [
    "The following makes use of the *memisc* package. You may need to install it\n",
    "from [CRAN](https://cran.r-project.org/package=memisc) using the code\n",
    "`install.packages(\"memisc\")` if you want to run this on your computer. (The package is already installed on\n",
    "the notebook container, however.)"
   ]
  },
  {
   "cell_type": "code",
   "execution_count": null,
   "metadata": {},
   "outputs": [],
   "source": [
    "library(memisc)"
   ]
  },
  {
   "cell_type": "markdown",
   "metadata": {},
   "source": [
    "The following code works with example data from the 2017 German Longitudinal\n",
    "Election study: It code combines pre- and post-election variables in the to a single\n",
    "party-preference variable for the first (candidate) vote and the second (list) vote.\n",
    "\n",
    "In order to run this notebook successfully, you have to download from [GESIS](https://doi.org/10.4232/1.13236) and upload it to the virtual machine on which this notebook runs. To do this, \n",
    "\n",
    "1. pull down the \"File\" menu item and select \"Open\"\n",
    "2. An overview of the folder that contains the notebook opens. \n",
    "3. The folder view has a button labelled \"Upload\". Use this to upload the file that you downloaded from the BES website. Its name should be `ZA6802_en_v3-0-1.sav`.\n",
    "\n",
    "Note that the uploaded data will disappear, once you \"Quit\" the notebook (and the Jupyter instance)."
   ]
  },
  {
   "cell_type": "code",
   "execution_count": null,
   "metadata": {},
   "outputs": [],
   "source": [
    "gles2017.sav <- spss.system.file(\"ZA6802_en_v3-0-1.sav\")\n",
    "description(gles2017.sav[1:30])"
   ]
  },
  {
   "cell_type": "code",
   "execution_count": null,
   "metadata": {},
   "outputs": [],
   "source": [
    "gles2017.vote <- subset(gles2017.sav,\n",
    "                           select=c(\n",
    "                               survey = survey1,\n",
    "                               pre.turnout.int = v10,\n",
    "                               post.turnout = n10,\n",
    "                               pre.voteint.first = v11ab,\n",
    "                               pre.voteint.second = v11bb,\n",
    "                               post.vote.first = n11ab,\n",
    "                               post.vote.second = n11bb,\n",
    "                               pre.postvote.first = v12ab,\n",
    "                               pre.postvote.second = v12bb\n",
    "                      ))\n",
    "codebook(gles2017.vote)"
   ]
  },
  {
   "cell_type": "code",
   "execution_count": null,
   "metadata": {},
   "outputs": [],
   "source": [
    "gles2017.vote <- within(gles2017.vote,{\n",
    "  vote.first <- cases(\n",
    "              survey == 0 & pre.turnout.int == 6 -> pre.postvote.first,\n",
    "              survey == 0 & pre.turnout.int %in% 4:5 -> -85,\n",
    "              survey == 0 & pre.turnout.int %in% 1:3 -> pre.voteint.first,\n",
    "              survey == 1 & post.turnout ==1 -> post.vote.first,\n",
    "              survey == 1 & post.turnout ==2 -> -85,\n",
    "              TRUE -> -97\n",
    "            )\n",
    "  vote.second <- cases(\n",
    "              survey == 0 & pre.turnout.int == 6 -> pre.postvote.second,\n",
    "              survey == 0 & pre.turnout.int %in% 4:5 -> -85,\n",
    "              survey == 0 & pre.turnout.int %in% 1:3 -> pre.voteint.second,\n",
    "              survey == 1 & post.turnout ==1 -> post.vote.second,\n",
    "              survey == 1 & post.turnout ==2 -> -85,\n",
    "              TRUE -> -97\n",
    "  )\n",
    "  vote.first <- as.item(vote.first, labels = labels(pre.postvote.first))\n",
    "  vote.second <- as.item(vote.second, labels = labels(pre.postvote.second))\n",
    "  valid.range(vote.first) <- valid.range(vote.second) <- c(1,900)\n",
    "})"
   ]
  },
  {
   "cell_type": "code",
   "execution_count": null,
   "metadata": {},
   "outputs": [],
   "source": [
    "codebook(gles2017.vote[c(\"vote.first\",\"vote.second\")])"
   ]
  }
 ],
 "metadata": {
  "kernelspec": {
   "display_name": "R",
   "language": "R",
   "name": "ir"
  },
  "language_info": {
   "codemirror_mode": "r",
   "file_extension": ".r",
   "mimetype": "text/x-r-source",
   "name": "R",
   "pygments_lexer": "r",
   "version": "4.0.5"
  }
 },
 "nbformat": 4,
 "nbformat_minor": 4
}
