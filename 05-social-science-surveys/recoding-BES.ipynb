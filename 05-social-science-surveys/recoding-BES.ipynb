{
 "cells": [
  {
   "cell_type": "markdown",
   "metadata": {},
   "source": [
    "# Recoding data from the British Election Study"
   ]
  },
  {
   "cell_type": "code",
   "execution_count": null,
   "metadata": {},
   "outputs": [],
   "source": [
    "options(jupyter.rich_display=FALSE) # Create output as usual in R"
   ]
  },
  {
   "cell_type": "markdown",
   "metadata": {},
   "source": [
    "The following makes use of the *memisc* package. You may need to install it\n",
    "from [CRAN](https://cran.r-project.org/package=memisc) using the code\n",
    "`install.packages(\"memisc\")` if you want to run this on your computer. (The package is already installed on\n",
    "the notebook container, however.)"
   ]
  },
  {
   "cell_type": "code",
   "execution_count": null,
   "metadata": {},
   "outputs": [],
   "source": [
    "library(memisc)"
   ]
  },
  {
   "cell_type": "markdown",
   "metadata": {},
   "source": [
    "The following code picks up with the British Election Study data of the previous script. We use the data file created earlier. For convenience, this data file is available for download from here: []()"
   ]
  },
  {
   "cell_type": "code",
   "execution_count": null,
   "metadata": {},
   "outputs": [],
   "source": [
    "load(\"BES-1983-classvot.RData\")"
   ]
  },
  {
   "cell_type": "code",
   "execution_count": null,
   "metadata": {},
   "outputs": [],
   "source": [
    "# This code collapses the categories of the vote variable into just four:\n",
    "BES.1983.classvot <- within(BES.1983.classvot,{\n",
    "    vote.new <- vote\n",
    "    vote.new[vote %in% 3:5]        <- 3\n",
    "    vote.new[vote %in% c(6:10,97)] <- 4\n",
    "})\n",
    "# Checking the result:\n",
    "codebook(BES.1983.classvot$vote.new)"
   ]
  },
  {
   "cell_type": "code",
   "execution_count": null,
   "metadata": {},
   "outputs": [],
   "source": [
    "# It is somewhat more convenient to use the 'recode()' function from the\n",
    "# 'memisc' package:\n",
    "BES.1983.classvot <- within(BES.1983.classvot,{\n",
    "    vote.new <- recode(vote,\n",
    "                       3 <- 3:5,\n",
    "                       4 <- c(6:10,97),\n",
    "                       otherwise=\"copy\"\n",
    "                       )\n",
    "})\n",
    "# Checking the result:\n",
    "codebook(BES.1983.classvot$vote.new)"
   ]
  },
  {
   "cell_type": "code",
   "execution_count": null,
   "metadata": {},
   "outputs": [],
   "source": [
    "# Since 'BES.1983.classvot' is not a data frame, but a \"data.set\" object, we can\n",
    "# provide value labels while recoding:\n",
    "BES.1983.classvot <- within(BES.1983.classvot,{\n",
    "    vote.new <- recode(vote,\n",
    "                       Conservative  = 1 <- 1,\n",
    "                       Labour        = 2 <- 2,\n",
    "                       Alliance      = 3 <- 3:5,\n",
    "                       Other         = 4 <- c(6:10,97),\n",
    "                       \"Didn't vote\" = 5 <- 0,\n",
    "                       DK            = 8 <- 98,\n",
    "                       Refused       = 9 <- 95)\n",
    "    missing.values(vote.new) <- c(5,9)\n",
    "})\n",
    "# Checking the result:\n",
    "codebook(BES.1983.classvot$vote.new)"
   ]
  }
 ],
 "metadata": {
  "kernelspec": {
   "display_name": "R",
   "language": "R",
   "name": "ir"
  },
  "language_info": {
   "codemirror_mode": "r",
   "file_extension": ".r",
   "mimetype": "text/x-r-source",
   "name": "R",
   "pygments_lexer": "r",
   "version": "4.0.5"
  }
 },
 "nbformat": 4,
 "nbformat_minor": 4
}
