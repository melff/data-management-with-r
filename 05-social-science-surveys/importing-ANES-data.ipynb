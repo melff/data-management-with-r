{
 "cells": [
  {
   "cell_type": "markdown",
   "metadata": {},
   "source": [
    "# Importing ASCII format data from the American National Election Study"
   ]
  },
  {
   "cell_type": "markdown",
   "metadata": {},
   "source": [
    "The following makes use of the *memisc* package. You may need to install it\n",
    "from [CRAN](https://cran.r-project.org/package=memisc) using the code\n",
    "`install.packages(\"memisc\")` if you want to run this on your computer. (The package is already installed on\n",
    "the notebook container, however.)"
   ]
  },
  {
   "cell_type": "code",
   "execution_count": 1,
   "metadata": {},
   "outputs": [
    {
     "name": "stdout",
     "output_type": "stream",
     "text": [
      "Loading required package: lattice\n",
      "Loading required package: MASS\n",
      "\n",
      "Attaching package: ‘memisc’\n",
      "\n",
      "The following objects are masked from ‘package:stats’:\n",
      "\n",
      "    contr.sum, contr.treatment, contrasts\n",
      "\n",
      "The following object is masked from ‘package:base’:\n",
      "\n",
      "    as.array\n",
      "\n"
     ]
    }
   ],
   "source": [
    "library(memisc)"
   ]
  },
  {
   "cell_type": "markdown",
   "metadata": {},
   "source": [
    "This data file is available from the American National Election Study website,\n",
    "along with syntax files in which the structure of the data is declared,\n",
    "as well as the variable lables (descriptions), value labels, and missing values. In order to \n",
    "obtain these data files (and run the notebook successufully), you need to download them from \n",
    "the [ANES website for 2008](https://electionstudies.org/data-center/2008-time-series-study/) and upload them to the virtual\n",
    "machine that runs this notebook. \n",
    "To do this, \n",
    "\n",
    "1. open the file manager window of this site using [this link](/user-redirect/tree/05-social-science-surveys/)\n",
    "2. use the button labelled \"Upload\" to upload the files that you downloaded from the ANES website.\n",
    "3. after uploading the file, it should appear in the list of files in the folder. Make sure that they have the names as used in the code that follows.\n",
    "\n",
    "Note that the uploaded data will disappear when the notebook container is reset.\n",
    "\n",
    "The following also makes use of the *memisc* package. You may need to install it\n",
    "from [CRAN](https://cran.r-project.org/package=memisc) using the code\n",
    "`install.packages(\"memisc\")` if you want to run this on your computer. (The package is already installed on\n",
    "the notebook container, however.)"
   ]
  },
  {
   "cell_type": "code",
   "execution_count": 4,
   "metadata": {},
   "outputs": [],
   "source": [
    "# Note that the following code takes quite a while ...\n",
    "anes2008TS <- spss.fixed.file(\n",
    "                  \"anes2008TS_dat.txt\",\n",
    "                  columns.file = \"anes2008TS_col.sps\",\n",
    "                  varlab.file  = \"anes2008TS_lab.sps\",\n",
    "                  codes.file   = \"anes2008TS_cod.sps\",\n",
    "                  missval.file = \"anes2008TS_md.sps\")"
   ]
  },
  {
   "cell_type": "code",
   "execution_count": 5,
   "metadata": {},
   "outputs": [
    {
     "data": {
      "text/plain": [
       "\n",
       " V080001  'ID.1. CASE ID'                                               \n",
       " V080101  'WT.1. PRE CROSS-SECTION SAMPLE WEIGHT - POST-STRAT, centered'\n",
       " V080101a 'WT.1. PRE CROSS-SECTION SAMPLE WEIGHT - POST-STRATIFIED'     \n",
       " V080102  'WT.2. POST CROSS-SECTION SAMPLE WEIGHT -POST-STRAT, centered'\n",
       " V080102a 'WT.2a. POST CROSS-SECTION SAMPLE WEIGHT -POST-STRATIFIED'    \n",
       " V080103  'WT.3. HOUSEHOLD WEIGHT: Household post-stratified'           \n",
       " V081001  'STUDY.1. Waves completed by respondent'                      \n",
       " V081101  'HHList.1. Respondent: gender'                                \n",
       " V081102  'HHList.2. Respondent: race'                                  \n",
       " V081103  'HHList.3. Respondent: Latino status'                         \n",
       " V081103a 'HHList.3a. Respondent: race and Latino status'               \n",
       " V081104  'HHList.4. Respondent: age'                                   \n",
       " V081105  'HHList.5. RESTRICTED: Respondent: relationship to informant' \n",
       " V081106  'HHList.6. Respondent: eligible adult number'                 \n",
       " V081107  'HHList.7. TOTAL IN HH: PERSONS (ADULTS AND CHILDREN)'        \n",
       " V081108  'HHList.8. TOTAL IN HH: ADULTS (18 BY OCT30)'                 \n",
       " V081108a 'HHList.8a. TOTAL IN HH: ELIGIBLE ADULTS'                     \n",
       " V081108b 'HHList.8b. TOTAL IN HH:INELIGIBLE ADULTS (18 BY OCT30)'      \n",
       " V081108c 'HHList.8c. TOTAL IN HH: FEMALE ELIGIBLE ADULTS (18 BY OCT30)'\n",
       " V081108d 'HHList.8d. TOTAL IN HH: MALE ELIGIBLE ADULTS (18 BY OCT30)'  \n",
       " V081108e 'HHList.8e. TOTAL IN HH: LATINO ELIGIBLE ADULTS (18 BY OCT30)'\n",
       " V081108f 'HHList.8f. TOTAL IN HH: BLACK ELIGIBLE ADULTS (18 BY OCT30)' \n",
       " V081108g 'HHList.8g. TOTAL IN HH: WHITE ELIGIBLE ADULTS (18 BY OCT30)' \n",
       " V081108h 'HHList.8h. TOTAL IN HH: MIXED/OTH RACE ELIG ADULTS'          \n",
       " V081109  'HHList.9. TOTAL IN HH: CHILDREN UNDER 18 (NOT 18 BY OCT30)'  \n",
       " V081109a 'HHList.9a. TOTAL IN HH: CHILDREN UNDER 17'                   \n",
       " V081109b 'HHList.9b. TOTAL IN HH: CHLDREN 17 YRS OLD, NOT 18 BY OCT30' \n",
       " V081110  'HHList.10. HOUSEHOLD COMPOSITION'                            \n",
       " V081111a 'HHList.11a. ELIGIBLE PERSON #1: gender'                      \n",
       " V081111b 'HHList.11b. ELIGIBLE PERSON #1: race'                        \n"
      ]
     },
     "execution_count": 5,
     "metadata": {},
     "output_type": "execute_result"
    }
   ],
   "source": [
    "description(anes2008TS[1:30])"
   ]
  }
 ],
 "metadata": {
  "kernelspec": {
   "display_name": "R (RKernel)",
   "language": "R",
   "name": "rkernel"
  },
  "language_info": {
   "codemirror_mode": "R",
   "file_extension": ".R",
   "mimetype": "text/x-r-source",
   "name": "R",
   "pygments_lexer": "r",
   "version": "4.3.2"
  }
 },
 "nbformat": 4,
 "nbformat_minor": 4
}
