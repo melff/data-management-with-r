{
 "cells": [
  {
   "cell_type": "markdown",
   "metadata": {},
   "source": [
    "# Importing ASCII format data from the American National Election Study"
   ]
  },
  {
   "cell_type": "markdown",
   "metadata": {},
   "source": [
    "The following makes use of the *memisc* package. You may need to install it\n",
    "from [CRAN](https://cran.r-project.org/package=memisc) using the code\n",
    "`install.packages(\"memisc\")` if you want to run this on your computer. (The package is already installed on\n",
    "the notebook container, however.)"
   ]
  },
  {
   "cell_type": "code",
   "execution_count": null,
   "metadata": {},
   "outputs": [],
   "source": [
    "library(memisc)"
   ]
  },
  {
   "cell_type": "markdown",
   "metadata": {},
   "source": [
    "This data file is available from the American National Election Study website,\n",
    "along with syntax files in which the structure of the data is declared,\n",
    "as well as the variable lables (descriptions), value labels, and missing values. In order to \n",
    "obtain these data files (and run the notebook successufully), you need to download them from \n",
    "the [ANES website for 2008](https://electionstudies.org/data-center/2008-time-series-study/) and upload them to the virtual\n",
    "machine that runs this notebook. To do this, \n",
    "\n",
    "1. pull down the \"File\" menu item and select \"Open\"\n",
    "2. An overview of the folder that contains the notebook opens. \n",
    "3. The folder view has a button labelled \"Upload\". Use this to upload the file that you downloaded from the ANES website.\n",
    "\n",
    "Note that the uploaded data will disappear, once you \"Quit\" the notebook (and the Jupyter instance)."
   ]
  },
  {
   "cell_type": "code",
   "execution_count": null,
   "metadata": {},
   "outputs": [],
   "source": [
    "# Note that the following code takes quite a while ...\n",
    "anes2008TS <- spss.fixed.file(\n",
    "                  \"anes2008TS_dat.txt\",\n",
    "                  columns.file = \"anes2008TS_col.sps\",\n",
    "                  varlab.file  = \"anes2008TS_lab.sps\",\n",
    "                  codes.file   = \"anes2008TS_cod.sps\",\n",
    "                  missval.file = \"anes2008TS_md.sps\")"
   ]
  },
  {
   "cell_type": "code",
   "execution_count": null,
   "metadata": {},
   "outputs": [],
   "source": [
    "description(anes2008TS[1:30])"
   ]
  }
 ],
 "metadata": {
  "kernelspec": {
   "display_name": "R",
   "language": "R",
   "name": "ir"
  },
  "language_info": {
   "codemirror_mode": "r",
   "file_extension": ".r",
   "mimetype": "text/x-r-source",
   "name": "R",
   "pygments_lexer": "r",
   "version": "4.0.5"
  }
 },
 "nbformat": 4,
 "nbformat_minor": 4
}
