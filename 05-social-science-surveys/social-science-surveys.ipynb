{
 "cells": [
  {
   "cell_type": "markdown",
   "id": "56cdf37e-d49b-4a46-9ca5-9b3cbcdecfc6",
   "metadata": {
    "execution": {
     "iopub.execute_input": "2023-11-19T13:14:46.418545Z",
     "iopub.status.busy": "2023-11-19T13:14:46.410153Z",
     "iopub.status.idle": "2023-11-19T13:14:46.433475Z",
     "shell.execute_reply": "2023-11-19T13:14:46.430039Z"
    }
   },
   "source": [
    "# Social Science Surveys[¶](#social-science-surveys \"Permalink to this headline\")\n",
    "\n",
    "This chapter introduces the extension package _memisc_, which is specifically designed to address several of the challenges that were discussed in the previous chapter. It shows how a the system memory can be saved by importing subsets of variables and observations; how variables can be renamed so that results are more easy to interpret; how certain metadata can be used, that are not provided for by a basic _R_ installation, such as value labels and user-defined missing values. The chapter also provides examples for more complex recodings of variables, e.g. for the construction of Goldthorpe class categories for households from ISCO-coded occupations of survey respondents and the creation of codebooks.\n",
    "\n",
    "## Importing survey data\n",
    "\n",
    "- [Importing data from the British Election Study in SPSS format](importing-BES-data.ipynb)\n",
    "- [Importing ASCII format data from the American National Election Study](importing-ANES-data.ipynb)\n",
    "\n",
    "## Recoding and other transformations\n",
    "\n",
    "- [Recoding data from the British Election Study](recoding-BES.ipynb)\n",
    "- [Combining variables using case distinctions](cases-GLES.ipynb)"
   ]
  }
 ],
 "metadata": {
  "kernelspec": {
   "display_name": "R (RKernel)",
   "language": "R",
   "name": "rkernel"
  },
  "language_info": {
   "codemirror_mode": "R",
   "file_extension": ".R",
   "mimetype": "text/x-r-source",
   "name": "R",
   "pygments_lexer": "r",
   "version": "4.3.2"
  }
 },
 "nbformat": 4,
 "nbformat_minor": 5
}
