{
 "cells": [
  {
   "cell_type": "markdown",
   "metadata": {},
   "source": [
    "# Sorting data frames"
   ]
  },
  {
   "cell_type": "code",
   "execution_count": 1,
   "metadata": {},
   "outputs": [],
   "source": [
    "options(jupyter.rich_display=FALSE) # Create output as usual in R"
   ]
  },
  {
   "cell_type": "markdown",
   "metadata": {},
   "source": [
    "Here we use data from the British Election Study. The data set [bes2010feelings-pre-long.RData](https://github.com/melff/dataman-r/raw/main/data-frames/bes2010feelings-pre-long.RData) is prepared from the original available at https://www.britishelectionstudy.com/data-object/2010-bes-cross-section/ by removing identifying information and scrambling the data."
   ]
  },
  {
   "cell_type": "code",
   "execution_count": 2,
   "metadata": {},
   "outputs": [],
   "source": [
    "load(\"bes2010feelings-pre-long.RData\")"
   ]
  },
  {
   "cell_type": "markdown",
   "metadata": {},
   "source": [
    "Here we use `order()`"
   ]
  },
  {
   "cell_type": "code",
   "execution_count": 3,
   "metadata": {},
   "outputs": [],
   "source": [
    "ii <- with(bes2010flngs_pre_long,order(id,party))\n",
    "bes2010flngs_pre_long_sorted <- bes2010flngs_pre_long[ii,]"
   ]
  },
  {
   "cell_type": "code",
   "execution_count": 4,
   "metadata": {},
   "outputs": [
    {
     "data": {
      "text/plain": [
       "               party        id flng.leaders flng.parties\n",
       "1.Conservative Conservative 1   3            6          \n",
       "1.Labour       Labour       1   6            5          \n",
       "1.LibDem       LibDem       1   3            4          \n",
       "1.SNP          SNP          1  NA           NA          \n",
       "1.Plaid Cymru  Plaid Cymru  1   5           NA          \n",
       "1.Green        Green        1  NA            7          \n",
       "1.UKIP         UKIP         1  NA            3          \n",
       "1.BNP          BNP          1  NA            0          \n",
       "2.Conservative Conservative 2   7            6          \n",
       "2.Labour       Labour       2   3            1          \n",
       "2.LibDem       LibDem       2   5            7          \n",
       "2.SNP          SNP          2  NA           NA          \n",
       "2.Plaid Cymru  Plaid Cymru  2   3           NA          \n",
       "2.Green        Green        2  NA            6          \n",
       "2.UKIP         UKIP         2  NA            0          "
      ]
     },
     "metadata": {},
     "output_type": "display_data"
    }
   ],
   "source": [
    "head(bes2010flngs_pre_long_sorted[c(\"party\",\"id\",\n",
    "                                    \"flng.leaders\",\"flng.parties\")],n=15)"
   ]
  },
  {
   "cell_type": "markdown",
   "metadata": {},
   "source": [
    "Some more convenient altarnatives:\n",
    "Using a `Sort()` function:"
   ]
  },
  {
   "cell_type": "code",
   "execution_count": 5,
   "metadata": {},
   "outputs": [],
   "source": [
    "Sort <- function(data,...){\n",
    "    ii <- eval(substitute(order(...)),\n",
    "                          envir=data,\n",
    "                          enclos=parent.frame())\n",
    "    data[ii,]\n",
    "}"
   ]
  },
  {
   "cell_type": "code",
   "execution_count": 6,
   "metadata": {},
   "outputs": [],
   "source": [
    "bes2010flngs_pre_long_sorted <- Sort(bes2010flngs_pre_long,\n",
    "                                     id,party)"
   ]
  },
  {
   "cell_type": "markdown",
   "metadata": {},
   "source": [
    "There is a `sort()` method function provided by the *memisc* package, which makes sorting a data frame a bit easier. You may need to install this package using `install.packages(\"memisc\")` from \n",
    "[CRAN](https://cran.r-project.org/package=memisc) if you want to run this on your computer. (The package is already installed on the notebook container, however.)"
   ]
  },
  {
   "cell_type": "code",
   "execution_count": 7,
   "metadata": {},
   "outputs": [
    {
     "name": "stderr",
     "output_type": "stream",
     "text": [
      "Loading required package: lattice\n",
      "\n",
      "Loading required package: MASS\n",
      "\n",
      "\n",
      "Attaching package: ‘memisc’\n",
      "\n",
      "\n",
      "The following objects are masked from ‘package:stats’:\n",
      "\n",
      "    contr.sum, contr.treatment, contrasts\n",
      "\n",
      "\n",
      "The following object is masked from ‘package:base’:\n",
      "\n",
      "    as.array\n",
      "\n",
      "\n"
     ]
    }
   ],
   "source": [
    "library(memisc)"
   ]
  },
  {
   "cell_type": "code",
   "execution_count": 8,
   "metadata": {},
   "outputs": [],
   "source": [
    "bes2010flngs_pre_long_sorted <- sort(bes2010flngs_pre_long,\n",
    "                                     by=~party+id)"
   ]
  },
  {
   "cell_type": "code",
   "execution_count": 9,
   "metadata": {},
   "outputs": [
    {
     "data": {
      "text/plain": [
       "               party        id flng.leaders flng.parties\n",
       "1.Conservative Conservative 1   3            6          \n",
       "1.Labour       Labour       1   6            5          \n",
       "1.LibDem       LibDem       1   3            4          \n",
       "1.SNP          SNP          1  NA           NA          \n",
       "1.Plaid Cymru  Plaid Cymru  1   5           NA          \n",
       "1.Green        Green        1  NA            7          \n",
       "1.UKIP         UKIP         1  NA            3          \n",
       "1.BNP          BNP          1  NA            0          \n",
       "2.Conservative Conservative 2   7            6          \n",
       "2.Labour       Labour       2   3            1          \n",
       "2.LibDem       LibDem       2   5            7          \n",
       "2.SNP          SNP          2  NA           NA          \n",
       "2.Plaid Cymru  Plaid Cymru  2   3           NA          \n",
       "2.Green        Green        2  NA            6          \n",
       "2.UKIP         UKIP         2  NA            0          "
      ]
     },
     "metadata": {},
     "output_type": "display_data"
    }
   ],
   "source": [
    "head(bes2010flngs_pre_long_sorted[c(\"party\",\"id\",\n",
    "                                    \"flng.leaders\",\"flng.parties\")],n=15)"
   ]
  },
  {
   "cell_type": "code",
   "execution_count": null,
   "metadata": {},
   "outputs": [],
   "source": []
  }
 ],
 "metadata": {
  "kernelspec": {
   "display_name": "R",
   "language": "R",
   "name": "ir"
  },
  "language_info": {
   "codemirror_mode": "r",
   "file_extension": ".r",
   "mimetype": "text/x-r-source",
   "name": "R",
   "pygments_lexer": "r",
   "version": "4.0.4"
  }
 },
 "nbformat": 4,
 "nbformat_minor": 4
}
