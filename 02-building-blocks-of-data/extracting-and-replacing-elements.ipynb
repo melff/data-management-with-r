{
 "cells": [
  {
   "cell_type": "markdown",
   "metadata": {},
   "source": [
    "# Extracting and replacing elements of a vector"
   ]
  },
  {
   "cell_type": "code",
   "execution_count": 1,
   "metadata": {
    "execution": {
     "iopub.execute_input": "2023-11-19T15:07:44.939689Z",
     "iopub.status.busy": "2023-11-19T15:07:44.932051Z",
     "iopub.status.idle": "2023-11-19T15:07:44.969402Z",
     "shell.execute_reply": "2023-11-19T15:07:44.959271Z"
    }
   },
   "outputs": [],
   "source": [
    "x <- c(10, 12, 30, 14, 50)"
   ]
  },
  {
   "cell_type": "code",
   "execution_count": 2,
   "metadata": {
    "execution": {
     "iopub.execute_input": "2023-11-19T15:07:45.115261Z",
     "iopub.status.busy": "2023-11-19T15:07:45.027317Z",
     "iopub.status.idle": "2023-11-19T15:07:45.385560Z",
     "shell.execute_reply": "2023-11-19T15:07:45.376906Z"
    }
   },
   "outputs": [
    {
     "data": {
      "text/plain": [
       "[1] 10"
      ]
     },
     "execution_count": 2,
     "metadata": {},
     "output_type": "execute_result"
    }
   ],
   "source": [
    "x[1]"
   ]
  },
  {
   "cell_type": "code",
   "execution_count": 3,
   "metadata": {
    "execution": {
     "iopub.execute_input": "2023-11-19T15:07:45.407528Z",
     "iopub.status.busy": "2023-11-19T15:07:45.397357Z",
     "iopub.status.idle": "2023-11-19T15:07:45.449599Z",
     "shell.execute_reply": "2023-11-19T15:07:45.437317Z"
    }
   },
   "outputs": [
    {
     "data": {
      "text/plain": [
       "[1] 50"
      ]
     },
     "execution_count": 3,
     "metadata": {},
     "output_type": "execute_result"
    }
   ],
   "source": [
    "x[5]"
   ]
  },
  {
   "cell_type": "code",
   "execution_count": 4,
   "metadata": {
    "execution": {
     "iopub.execute_input": "2023-11-19T15:07:45.474034Z",
     "iopub.status.busy": "2023-11-19T15:07:45.465686Z",
     "iopub.status.idle": "2023-11-19T15:07:45.508020Z",
     "shell.execute_reply": "2023-11-19T15:07:45.500488Z"
    }
   },
   "outputs": [
    {
     "data": {
      "text/plain": [
       "[1] 12 14 NA"
      ]
     },
     "execution_count": 4,
     "metadata": {},
     "output_type": "execute_result"
    }
   ],
   "source": [
    "x[c(2,4,6)]"
   ]
  },
  {
   "cell_type": "code",
   "execution_count": 5,
   "metadata": {
    "execution": {
     "iopub.execute_input": "2023-11-19T15:07:45.527377Z",
     "iopub.status.busy": "2023-11-19T15:07:45.519593Z",
     "iopub.status.idle": "2023-11-19T15:07:45.564069Z",
     "shell.execute_reply": "2023-11-19T15:07:45.554710Z"
    }
   },
   "outputs": [
    {
     "data": {
      "text/plain": [
       "[1] 10 10 10 12 12"
      ]
     },
     "execution_count": 5,
     "metadata": {},
     "output_type": "execute_result"
    }
   ],
   "source": [
    "x[c(1,1,1,2,2)]"
   ]
  },
  {
   "cell_type": "code",
   "execution_count": 6,
   "metadata": {
    "execution": {
     "iopub.execute_input": "2023-11-19T15:07:45.587043Z",
     "iopub.status.busy": "2023-11-19T15:07:45.577581Z",
     "iopub.status.idle": "2023-11-19T15:07:45.630354Z",
     "shell.execute_reply": "2023-11-19T15:07:45.621898Z"
    }
   },
   "outputs": [
    {
     "data": {
      "text/plain": [
       "[1] 12 14"
      ]
     },
     "execution_count": 6,
     "metadata": {},
     "output_type": "execute_result"
    }
   ],
   "source": [
    "x[-c(1,3,5)]"
   ]
  },
  {
   "cell_type": "code",
   "execution_count": 7,
   "metadata": {
    "execution": {
     "iopub.execute_input": "2023-11-19T15:07:45.647923Z",
     "iopub.status.busy": "2023-11-19T15:07:45.641099Z",
     "iopub.status.idle": "2023-11-19T15:07:45.681063Z",
     "shell.execute_reply": "2023-11-19T15:07:45.672271Z"
    }
   },
   "outputs": [
    {
     "data": {
      "text/plain": [
       "[1] 12 14"
      ]
     },
     "execution_count": 7,
     "metadata": {},
     "output_type": "execute_result"
    }
   ],
   "source": [
    "x[c(FALSE,TRUE,FALSE,TRUE,FALSE)]"
   ]
  },
  {
   "cell_type": "code",
   "execution_count": 8,
   "metadata": {
    "execution": {
     "iopub.execute_input": "2023-11-19T15:07:45.703995Z",
     "iopub.status.busy": "2023-11-19T15:07:45.693013Z",
     "iopub.status.idle": "2023-11-19T15:07:45.742548Z",
     "shell.execute_reply": "2023-11-19T15:07:45.734076Z"
    }
   },
   "outputs": [
    {
     "data": {
      "text/plain": [
       "[1] 30 50"
      ]
     },
     "execution_count": 8,
     "metadata": {},
     "output_type": "execute_result"
    }
   ],
   "source": [
    "x[x>=20]"
   ]
  },
  {
   "cell_type": "code",
   "execution_count": 9,
   "metadata": {
    "execution": {
     "iopub.execute_input": "2023-11-19T15:07:45.761453Z",
     "iopub.status.busy": "2023-11-19T15:07:45.754466Z",
     "iopub.status.idle": "2023-11-19T15:07:45.782580Z",
     "shell.execute_reply": "2023-11-19T15:07:45.773293Z"
    }
   },
   "outputs": [],
   "source": [
    "names(x) <- c(\"a\",\"b\",\"c\",\"d\",\"e\")"
   ]
  },
  {
   "cell_type": "code",
   "execution_count": 10,
   "metadata": {
    "execution": {
     "iopub.execute_input": "2023-11-19T15:07:45.800629Z",
     "iopub.status.busy": "2023-11-19T15:07:45.792990Z",
     "iopub.status.idle": "2023-11-19T15:07:45.833551Z",
     "shell.execute_reply": "2023-11-19T15:07:45.826086Z"
    }
   },
   "outputs": [
    {
     "data": {
      "text/plain": [
       " a  c \n",
       "10 30 "
      ]
     },
     "execution_count": 10,
     "metadata": {},
     "output_type": "execute_result"
    }
   ],
   "source": [
    "x[c(\"a\",\"c\")]"
   ]
  },
  {
   "cell_type": "code",
   "execution_count": 11,
   "metadata": {
    "execution": {
     "iopub.execute_input": "2023-11-19T15:07:45.855107Z",
     "iopub.status.busy": "2023-11-19T15:07:45.845394Z",
     "iopub.status.idle": "2023-11-19T15:07:45.881063Z",
     "shell.execute_reply": "2023-11-19T15:07:45.873735Z"
    }
   },
   "outputs": [],
   "source": [
    "set.seed(231)\n",
    "y <- rnorm(n=12)"
   ]
  },
  {
   "cell_type": "code",
   "execution_count": 12,
   "metadata": {
    "execution": {
     "iopub.execute_input": "2023-11-19T15:07:45.900970Z",
     "iopub.status.busy": "2023-11-19T15:07:45.893188Z",
     "iopub.status.idle": "2023-11-19T15:07:45.940892Z",
     "shell.execute_reply": "2023-11-19T15:07:45.933093Z"
    }
   },
   "outputs": [
    {
     "data": {
      "text/plain": [
       " [1]  0.00000000  0.00000000  0.00000000  0.00000000 -0.47335746  0.21739728\n",
       " [7]  0.06292205 -0.87782986  0.56368979 -0.03432728 -0.22631292  1.38657787"
      ]
     },
     "execution_count": 12,
     "metadata": {},
     "output_type": "execute_result"
    }
   ],
   "source": [
    "y[1:4] <- 0\n",
    "y"
   ]
  },
  {
   "cell_type": "code",
   "execution_count": 13,
   "metadata": {
    "execution": {
     "iopub.execute_input": "2023-11-19T15:07:45.962319Z",
     "iopub.status.busy": "2023-11-19T15:07:45.953634Z",
     "iopub.status.idle": "2023-11-19T15:07:45.985892Z",
     "shell.execute_reply": "2023-11-19T15:07:45.976984Z"
    }
   },
   "outputs": [],
   "source": [
    "y <- rnorm(n=12)"
   ]
  },
  {
   "cell_type": "code",
   "execution_count": 14,
   "metadata": {
    "execution": {
     "iopub.execute_input": "2023-11-19T15:07:46.005428Z",
     "iopub.status.busy": "2023-11-19T15:07:45.997838Z",
     "iopub.status.idle": "2023-11-19T15:07:46.043240Z",
     "shell.execute_reply": "2023-11-19T15:07:46.030445Z"
    }
   },
   "outputs": [
    {
     "data": {
      "text/plain": [
       " [1] 0.0000000 0.0000000 1.4013312 0.3196224 1.0058453 0.0000000 0.0000000\n",
       " [8] 1.6502536 1.4374338 0.0000000 0.0000000 0.0000000"
      ]
     },
     "execution_count": 14,
     "metadata": {},
     "output_type": "execute_result"
    }
   ],
   "source": [
    "y[y < 0] <- 0\n",
    "y"
   ]
  }
 ],
 "metadata": {
  "kernelspec": {
   "display_name": "R (RKernel)",
   "language": "R",
   "name": "rkernel"
  },
  "language_info": {
   "codemirror_mode": "R",
   "file_extension": ".R",
   "mimetype": "text/x-r-source",
   "name": "R",
   "pygments_lexer": "r",
   "version": "4.3.2"
  }
 },
 "nbformat": 4,
 "nbformat_minor": 4
}
