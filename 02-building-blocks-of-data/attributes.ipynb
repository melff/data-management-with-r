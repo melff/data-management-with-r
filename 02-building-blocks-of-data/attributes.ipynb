{
 "cells": [
  {
   "cell_type": "markdown",
   "metadata": {},
   "source": [
    "# Attributes"
   ]
  },
  {
   "cell_type": "code",
   "execution_count": 1,
   "metadata": {
    "execution": {
     "iopub.execute_input": "2023-11-19T15:12:44.619503Z",
     "iopub.status.busy": "2023-11-19T15:12:44.610585Z",
     "iopub.status.idle": "2023-11-19T15:12:44.652990Z",
     "shell.execute_reply": "2023-11-19T15:12:44.644585Z"
    }
   },
   "outputs": [],
   "source": [
    "onetofour <- c(first=1,second=2,third=3,fourth=4)"
   ]
  },
  {
   "cell_type": "code",
   "execution_count": 2,
   "metadata": {
    "execution": {
     "iopub.execute_input": "2023-11-19T15:12:44.761803Z",
     "iopub.status.busy": "2023-11-19T15:12:44.665709Z",
     "iopub.status.idle": "2023-11-19T15:12:45.047629Z",
     "shell.execute_reply": "2023-11-19T15:12:45.039927Z"
    }
   },
   "outputs": [
    {
     "data": {
      "text/plain": [
       "$names\n",
       "[1] \"first\"  \"second\" \"third\"  \"fourth\"\n"
      ]
     },
     "execution_count": 2,
     "metadata": {},
     "output_type": "execute_result"
    }
   ],
   "source": [
    "attributes(onetofour)"
   ]
  },
  {
   "cell_type": "code",
   "execution_count": 3,
   "metadata": {
    "execution": {
     "iopub.execute_input": "2023-11-19T15:12:45.067185Z",
     "iopub.status.busy": "2023-11-19T15:12:45.058436Z",
     "iopub.status.idle": "2023-11-19T15:12:45.091701Z",
     "shell.execute_reply": "2023-11-19T15:12:45.082057Z"
    }
   },
   "outputs": [],
   "source": [
    "set.seed(42)\n",
    "satisfaction <- sample(1:4,size=20,replace=TRUE)"
   ]
  },
  {
   "cell_type": "code",
   "execution_count": 4,
   "metadata": {
    "execution": {
     "iopub.execute_input": "2023-11-19T15:12:45.110577Z",
     "iopub.status.busy": "2023-11-19T15:12:45.102709Z",
     "iopub.status.idle": "2023-11-19T15:12:45.148167Z",
     "shell.execute_reply": "2023-11-19T15:12:45.138243Z"
    }
   },
   "outputs": [
    {
     "data": {
      "text/plain": [
       "$levels\n",
       "[1] \"not at all\" \"low\"        \"medium\"     \"high\"      \n",
       "\n",
       "$class\n",
       "[1] \"ordered\" \"factor\" \n"
      ]
     },
     "execution_count": 4,
     "metadata": {},
     "output_type": "execute_result"
    }
   ],
   "source": [
    "satisfaction <- ordered(satisfaction,\n",
    "                       levels=1:4,\n",
    "                       labels=c(\n",
    "                           \"not at all\",\n",
    "                           \"low\",\n",
    "                           \"medium\",\n",
    "                           \"high\"))\n",
    "attributes(satisfaction)"
   ]
  },
  {
   "cell_type": "code",
   "execution_count": 5,
   "metadata": {
    "execution": {
     "iopub.execute_input": "2023-11-19T15:12:45.166720Z",
     "iopub.status.busy": "2023-11-19T15:12:45.158673Z",
     "iopub.status.idle": "2023-11-19T15:12:45.205582Z",
     "shell.execute_reply": "2023-11-19T15:12:45.197077Z"
    }
   },
   "outputs": [
    {
     "data": {
      "text/plain": [
       "[1] \"not at all\" \"low\"        \"medium\"     \"high\"      "
      ]
     },
     "execution_count": 5,
     "metadata": {},
     "output_type": "execute_result"
    }
   ],
   "source": [
    "attr(satisfaction,\"levels\")"
   ]
  },
  {
   "cell_type": "code",
   "execution_count": 6,
   "metadata": {
    "execution": {
     "iopub.execute_input": "2023-11-19T15:12:45.224496Z",
     "iopub.status.busy": "2023-11-19T15:12:45.216561Z",
     "iopub.status.idle": "2023-11-19T15:12:45.269041Z",
     "shell.execute_reply": "2023-11-19T15:12:45.261407Z"
    }
   },
   "outputs": [
    {
     "data": {
      "text/plain": [
       "[1] \"not at all\" \"low\"        \"medium\"     \"high\"      "
      ]
     },
     "execution_count": 6,
     "metadata": {},
     "output_type": "execute_result"
    }
   ],
   "source": [
    "levels(satisfaction)"
   ]
  },
  {
   "cell_type": "code",
   "execution_count": 7,
   "metadata": {
    "execution": {
     "iopub.execute_input": "2023-11-19T15:12:45.290201Z",
     "iopub.status.busy": "2023-11-19T15:12:45.282274Z",
     "iopub.status.idle": "2023-11-19T15:12:45.326986Z",
     "shell.execute_reply": "2023-11-19T15:12:45.318250Z"
    }
   },
   "outputs": [
    {
     "data": {
      "text/plain": [
       "[1] \"ordered\" \"factor\" "
      ]
     },
     "execution_count": 7,
     "metadata": {},
     "output_type": "execute_result"
    }
   ],
   "source": [
    "attr(satisfaction,\"class\")"
   ]
  },
  {
   "cell_type": "code",
   "execution_count": 8,
   "metadata": {
    "execution": {
     "iopub.execute_input": "2023-11-19T15:12:45.346560Z",
     "iopub.status.busy": "2023-11-19T15:12:45.338046Z",
     "iopub.status.idle": "2023-11-19T15:12:45.383548Z",
     "shell.execute_reply": "2023-11-19T15:12:45.373057Z"
    }
   },
   "outputs": [
    {
     "data": {
      "text/plain": [
       "[1] \"ordered\" \"factor\" "
      ]
     },
     "execution_count": 8,
     "metadata": {},
     "output_type": "execute_result"
    }
   ],
   "source": [
    "class(satisfaction)"
   ]
  }
 ],
 "metadata": {
  "kernelspec": {
   "display_name": "R (RKernel)",
   "language": "R",
   "name": "rkernel"
  },
  "language_info": {
   "codemirror_mode": "R",
   "file_extension": ".R",
   "mimetype": "text/x-r-source",
   "name": "R",
   "pygments_lexer": "r",
   "version": "4.3.2"
  }
 },
 "nbformat": 4,
 "nbformat_minor": 4
}
