{
 "cells": [
  {
   "cell_type": "markdown",
   "metadata": {},
   "source": [
    "# Logical vectors"
   ]
  },
  {
   "cell_type": "code",
   "execution_count": 1,
   "metadata": {
    "execution": {
     "iopub.execute_input": "2023-11-19T15:04:17.814171Z",
     "iopub.status.busy": "2023-11-19T15:04:17.807038Z",
     "iopub.status.idle": "2023-11-19T15:04:17.948090Z",
     "shell.execute_reply": "2023-11-19T15:04:17.940024Z"
    }
   },
   "outputs": [
    {
     "data": {
      "text/plain": [
       "[1] -3 -2 -1  0  1  2  3"
      ]
     },
     "execution_count": 1,
     "metadata": {},
     "output_type": "execute_result"
    }
   ],
   "source": [
    "## Comparisons\n",
    "x <- -3:3\n",
    "x"
   ]
  },
  {
   "cell_type": "code",
   "execution_count": 2,
   "metadata": {
    "execution": {
     "iopub.execute_input": "2023-11-19T15:04:18.084171Z",
     "iopub.status.busy": "2023-11-19T15:04:17.997725Z",
     "iopub.status.idle": "2023-11-19T15:04:18.272775Z",
     "shell.execute_reply": "2023-11-19T15:04:18.264239Z"
    }
   },
   "outputs": [
    {
     "data": {
      "text/plain": [
       "[1] FALSE FALSE FALSE  TRUE FALSE FALSE FALSE"
      ]
     },
     "execution_count": 2,
     "metadata": {},
     "output_type": "execute_result"
    }
   ],
   "source": [
    "x == 0"
   ]
  },
  {
   "cell_type": "code",
   "execution_count": 3,
   "metadata": {
    "execution": {
     "iopub.execute_input": "2023-11-19T15:04:18.292135Z",
     "iopub.status.busy": "2023-11-19T15:04:18.284634Z",
     "iopub.status.idle": "2023-11-19T15:04:18.330660Z",
     "shell.execute_reply": "2023-11-19T15:04:18.322887Z"
    }
   },
   "outputs": [
    {
     "data": {
      "text/plain": [
       "[1] FALSE FALSE FALSE  TRUE  TRUE  TRUE  TRUE"
      ]
     },
     "execution_count": 3,
     "metadata": {},
     "output_type": "execute_result"
    }
   ],
   "source": [
    "x <- -3:3\n",
    "y <- c(1:3,0,1:3)\n",
    "x == y"
   ]
  },
  {
   "cell_type": "code",
   "execution_count": 4,
   "metadata": {
    "execution": {
     "iopub.execute_input": "2023-11-19T15:04:18.354305Z",
     "iopub.status.busy": "2023-11-19T15:04:18.342921Z",
     "iopub.status.idle": "2023-11-19T15:04:18.383137Z",
     "shell.execute_reply": "2023-11-19T15:04:18.374248Z"
    }
   },
   "outputs": [],
   "source": [
    "## Logical operators\n",
    "a <- c(TRUE,FALSE,TRUE,FALSE)\n",
    "b <- c(TRUE,TRUE,FALSE,FALSE)"
   ]
  },
  {
   "cell_type": "code",
   "execution_count": 5,
   "metadata": {
    "execution": {
     "iopub.execute_input": "2023-11-19T15:04:18.406590Z",
     "iopub.status.busy": "2023-11-19T15:04:18.397767Z",
     "iopub.status.idle": "2023-11-19T15:04:18.445404Z",
     "shell.execute_reply": "2023-11-19T15:04:18.435744Z"
    }
   },
   "outputs": [
    {
     "data": {
      "text/plain": [
       "[1]  TRUE FALSE FALSE FALSE"
      ]
     },
     "execution_count": 5,
     "metadata": {},
     "output_type": "execute_result"
    }
   ],
   "source": [
    "a & b"
   ]
  },
  {
   "cell_type": "code",
   "execution_count": 6,
   "metadata": {
    "execution": {
     "iopub.execute_input": "2023-11-19T15:04:18.463989Z",
     "iopub.status.busy": "2023-11-19T15:04:18.457047Z",
     "iopub.status.idle": "2023-11-19T15:04:18.558011Z",
     "shell.execute_reply": "2023-11-19T15:04:18.549902Z"
    }
   },
   "outputs": [
    {
     "data": {
      "text/plain": [
       "[1]  TRUE  TRUE  TRUE FALSE"
      ]
     },
     "execution_count": 6,
     "metadata": {},
     "output_type": "execute_result"
    }
   ],
   "source": [
    "a | b"
   ]
  },
  {
   "cell_type": "code",
   "execution_count": 7,
   "metadata": {
    "execution": {
     "iopub.execute_input": "2023-11-19T15:04:18.576007Z",
     "iopub.status.busy": "2023-11-19T15:04:18.568601Z",
     "iopub.status.idle": "2023-11-19T15:04:18.611704Z",
     "shell.execute_reply": "2023-11-19T15:04:18.602265Z"
    }
   },
   "outputs": [
    {
     "data": {
      "text/plain": [
       "[1] FALSE  TRUE FALSE  TRUE"
      ]
     },
     "execution_count": 7,
     "metadata": {},
     "output_type": "execute_result"
    }
   ],
   "source": [
    "!a"
   ]
  },
  {
   "cell_type": "code",
   "execution_count": 8,
   "metadata": {
    "execution": {
     "iopub.execute_input": "2023-11-19T15:04:18.633830Z",
     "iopub.status.busy": "2023-11-19T15:04:18.625679Z",
     "iopub.status.idle": "2023-11-19T15:04:18.678364Z",
     "shell.execute_reply": "2023-11-19T15:04:18.666715Z"
    }
   },
   "outputs": [
    {
     "data": {
      "text/plain": [
       "[1] FALSE FALSE  TRUE FALSE"
      ]
     },
     "execution_count": 8,
     "metadata": {},
     "output_type": "execute_result"
    }
   ],
   "source": [
    "a & !b"
   ]
  },
  {
   "cell_type": "code",
   "execution_count": 9,
   "metadata": {
    "execution": {
     "iopub.execute_input": "2023-11-19T15:04:18.709404Z",
     "iopub.status.busy": "2023-11-19T15:04:18.696398Z",
     "iopub.status.idle": "2023-11-19T15:04:18.754938Z",
     "shell.execute_reply": "2023-11-19T15:04:18.743323Z"
    }
   },
   "outputs": [
    {
     "data": {
      "text/plain": [
       "[1] FALSE FALSE FALSE  TRUE"
      ]
     },
     "execution_count": 9,
     "metadata": {},
     "output_type": "execute_result"
    }
   ],
   "source": [
    "!(a | b)"
   ]
  },
  {
   "cell_type": "code",
   "execution_count": 10,
   "metadata": {
    "execution": {
     "iopub.execute_input": "2023-11-19T15:04:18.781018Z",
     "iopub.status.busy": "2023-11-19T15:04:18.770300Z",
     "iopub.status.idle": "2023-11-19T15:04:18.802031Z",
     "shell.execute_reply": "2023-11-19T15:04:18.795145Z"
    }
   },
   "outputs": [],
   "source": [
    "x <- -3:3"
   ]
  },
  {
   "cell_type": "code",
   "execution_count": 11,
   "metadata": {
    "execution": {
     "iopub.execute_input": "2023-11-19T15:04:18.827830Z",
     "iopub.status.busy": "2023-11-19T15:04:18.816257Z",
     "iopub.status.idle": "2023-11-19T15:04:18.870647Z",
     "shell.execute_reply": "2023-11-19T15:04:18.857624Z"
    }
   },
   "outputs": [
    {
     "data": {
      "text/plain": [
       "[1] FALSE FALSE FALSE FALSE FALSE FALSE FALSE"
      ]
     },
     "execution_count": 11,
     "metadata": {},
     "output_type": "execute_result"
    }
   ],
   "source": [
    "x > 1 & x < -1"
   ]
  },
  {
   "cell_type": "code",
   "execution_count": 12,
   "metadata": {
    "execution": {
     "iopub.execute_input": "2023-11-19T15:04:18.900628Z",
     "iopub.status.busy": "2023-11-19T15:04:18.886695Z",
     "iopub.status.idle": "2023-11-19T15:04:18.934817Z",
     "shell.execute_reply": "2023-11-19T15:04:18.925764Z"
    }
   },
   "outputs": [
    {
     "data": {
      "text/plain": [
       "[1]  TRUE  TRUE FALSE FALSE FALSE  TRUE  TRUE"
      ]
     },
     "execution_count": 12,
     "metadata": {},
     "output_type": "execute_result"
    }
   ],
   "source": [
    "x > 1 | x < -1"
   ]
  },
  {
   "cell_type": "code",
   "execution_count": 13,
   "metadata": {
    "execution": {
     "iopub.execute_input": "2023-11-19T15:04:18.955354Z",
     "iopub.status.busy": "2023-11-19T15:04:18.946493Z",
     "iopub.status.idle": "2023-11-19T15:04:18.977492Z",
     "shell.execute_reply": "2023-11-19T15:04:18.969429Z"
    }
   },
   "outputs": [],
   "source": [
    "a <- c(TRUE,FALSE,NA,TRUE,FALSE,NA,TRUE,FALSE,NA)\n",
    "b <- c(TRUE,TRUE,TRUE,FALSE,FALSE,FALSE,NA,NA,NA)"
   ]
  },
  {
   "cell_type": "code",
   "execution_count": 14,
   "metadata": {
    "execution": {
     "iopub.execute_input": "2023-11-19T15:04:18.995876Z",
     "iopub.status.busy": "2023-11-19T15:04:18.988702Z",
     "iopub.status.idle": "2023-11-19T15:04:19.031127Z",
     "shell.execute_reply": "2023-11-19T15:04:19.022593Z"
    }
   },
   "outputs": [
    {
     "data": {
      "text/plain": [
       "[1]  TRUE FALSE    NA FALSE FALSE FALSE    NA FALSE    NA"
      ]
     },
     "execution_count": 14,
     "metadata": {},
     "output_type": "execute_result"
    }
   ],
   "source": [
    "a & b"
   ]
  },
  {
   "cell_type": "code",
   "execution_count": 15,
   "metadata": {
    "execution": {
     "iopub.execute_input": "2023-11-19T15:04:19.050758Z",
     "iopub.status.busy": "2023-11-19T15:04:19.042975Z",
     "iopub.status.idle": "2023-11-19T15:04:19.084000Z",
     "shell.execute_reply": "2023-11-19T15:04:19.075929Z"
    }
   },
   "outputs": [
    {
     "data": {
      "text/plain": [
       "[1]  TRUE  TRUE  TRUE  TRUE FALSE    NA  TRUE    NA    NA"
      ]
     },
     "execution_count": 15,
     "metadata": {},
     "output_type": "execute_result"
    }
   ],
   "source": [
    "a | b"
   ]
  }
 ],
 "metadata": {
  "kernelspec": {
   "display_name": "R (RKernel)",
   "language": "R",
   "name": "rkernel"
  },
  "language_info": {
   "codemirror_mode": "R",
   "file_extension": ".R",
   "mimetype": "text/x-r-source",
   "name": "R",
   "pygments_lexer": "r",
   "version": "4.3.2"
  }
 },
 "nbformat": 4,
 "nbformat_minor": 4
}
