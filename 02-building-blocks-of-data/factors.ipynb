{
 "cells": [
  {
   "cell_type": "markdown",
   "metadata": {},
   "source": [
    "# Factors"
   ]
  },
  {
   "cell_type": "code",
   "execution_count": 1,
   "metadata": {
    "execution": {
     "iopub.execute_input": "2023-11-19T15:03:41.070146Z",
     "iopub.status.busy": "2023-11-19T15:03:41.063040Z",
     "iopub.status.idle": "2023-11-19T15:03:41.098797Z",
     "shell.execute_reply": "2023-11-19T15:03:41.091202Z"
    }
   },
   "outputs": [],
   "source": [
    "set.seed(42)"
   ]
  },
  {
   "cell_type": "code",
   "execution_count": 2,
   "metadata": {
    "execution": {
     "iopub.execute_input": "2023-11-19T15:03:41.226676Z",
     "iopub.status.busy": "2023-11-19T15:03:41.148145Z",
     "iopub.status.idle": "2023-11-19T15:03:41.489377Z",
     "shell.execute_reply": "2023-11-19T15:03:41.481186Z"
    }
   },
   "outputs": [
    {
     "data": {
      "text/plain": [
       " [1] 1 1 1 1 2 4 2 2 1 4 3 4 3 4 1 1 2 4 2 2"
      ]
     },
     "execution_count": 2,
     "metadata": {},
     "output_type": "execute_result"
    }
   ],
   "source": [
    "satisfaction <- sample(1:4,size=20,replace=TRUE)\n",
    "satisfaction"
   ]
  },
  {
   "cell_type": "code",
   "execution_count": 3,
   "metadata": {
    "execution": {
     "iopub.execute_input": "2023-11-19T15:03:41.509371Z",
     "iopub.status.busy": "2023-11-19T15:03:41.501633Z",
     "iopub.status.idle": "2023-11-19T15:03:41.548523Z",
     "shell.execute_reply": "2023-11-19T15:03:41.540931Z"
    }
   },
   "outputs": [
    {
     "data": {
      "text/plain": [
       " [1] not at all not at all not at all not at all low        high      \n",
       " [7] low        low        not at all high       medium     high      \n",
       "[13] medium     high       not at all not at all low        high      \n",
       "[19] low        low       \n",
       "Levels: not at all < low < medium < high"
      ]
     },
     "execution_count": 3,
     "metadata": {},
     "output_type": "execute_result"
    }
   ],
   "source": [
    "satisfaction <- ordered(satisfaction,\n",
    "                       levels=1:4,\n",
    "                       labels=c(\n",
    "                           \"not at all\",\n",
    "                           \"low\",\n",
    "                           \"medium\",\n",
    "                           \"high\"))\n",
    "satisfaction"
   ]
  },
  {
   "cell_type": "code",
   "execution_count": 4,
   "metadata": {
    "execution": {
     "iopub.execute_input": "2023-11-19T15:03:41.565710Z",
     "iopub.status.busy": "2023-11-19T15:03:41.558673Z",
     "iopub.status.idle": "2023-11-19T15:03:41.605340Z",
     "shell.execute_reply": "2023-11-19T15:03:41.597241Z"
    }
   },
   "outputs": [
    {
     "data": {
      "text/plain": [
       "satisfaction\n",
       "not at all        low     medium       high \n",
       "         7          6          2          5 "
      ]
     },
     "execution_count": 4,
     "metadata": {},
     "output_type": "execute_result"
    }
   ],
   "source": [
    "table(satisfaction)"
   ]
  },
  {
   "cell_type": "code",
   "execution_count": 5,
   "metadata": {
    "execution": {
     "iopub.execute_input": "2023-11-19T15:03:41.623486Z",
     "iopub.status.busy": "2023-11-19T15:03:41.616509Z",
     "iopub.status.idle": "2023-11-19T15:03:41.656086Z",
     "shell.execute_reply": "2023-11-19T15:03:41.647621Z"
    }
   },
   "outputs": [
    {
     "data": {
      "text/plain": [
       "[1] \"not at all\" \"low\"        \"medium\"     \"high\"      "
      ]
     },
     "execution_count": 5,
     "metadata": {},
     "output_type": "execute_result"
    }
   ],
   "source": [
    "levels(satisfaction)"
   ]
  },
  {
   "cell_type": "code",
   "execution_count": 6,
   "metadata": {
    "execution": {
     "iopub.execute_input": "2023-11-19T15:03:41.680698Z",
     "iopub.status.busy": "2023-11-19T15:03:41.666707Z",
     "iopub.status.idle": "2023-11-19T15:03:41.723639Z",
     "shell.execute_reply": "2023-11-19T15:03:41.714487Z"
    }
   },
   "outputs": [
    {
     "data": {
      "text/plain": [
       " [1] Northern Ireland England          Wales            Scotland        \n",
       " [5] England          England          England          Northern Ireland\n",
       " [9] England          England          England          England         \n",
       "[13] England          England          England          England         \n",
       "[17] England          England          Northern Ireland England         \n",
       "[21] England          England          England          Wales           \n",
       "[25] England          Scotland         Northern Ireland England         \n",
       "[29] Scotland         England          England          England         \n",
       "[33] England          England          England          England         \n",
       "[37] England          England          England          England         \n",
       "[41] England          Wales            England          England         \n",
       "[45] Northern Ireland England          England          England         \n",
       "[49] England          England         \n",
       "Levels: England Northern Ireland Scotland Wales"
      ]
     },
     "execution_count": 6,
     "metadata": {},
     "output_type": "execute_result"
    }
   ],
   "source": [
    "country.orig <- sample(\n",
    "    c(\"England\",\"Northern Ireland\",\"Scotland\",\"Wales\"),\n",
    "    size=50,\n",
    "    prob=c(54786300,5373000,3099100,1851600)/65110000,\n",
    "    replace=TRUE\n",
    ")\n",
    "country <- factor(country.orig)\n",
    "country"
   ]
  },
  {
   "cell_type": "code",
   "execution_count": 7,
   "metadata": {
    "execution": {
     "iopub.execute_input": "2023-11-19T15:03:41.746195Z",
     "iopub.status.busy": "2023-11-19T15:03:41.734933Z",
     "iopub.status.idle": "2023-11-19T15:03:41.789354Z",
     "shell.execute_reply": "2023-11-19T15:03:41.780897Z"
    }
   },
   "outputs": [
    {
     "data": {
      "text/plain": [
       " [1] Northern Ireland England          Wales            Scotland        \n",
       " [5] England          England          England          Northern Ireland\n",
       " [9] England          England          England          England         \n",
       "[13] England          England          England          England         \n",
       "[17] England          England          Northern Ireland England         \n",
       "[21] England          England          England          Wales           \n",
       "[25] England          Scotland         Northern Ireland England         \n",
       "[29] Scotland         England          England          England         \n",
       "[33] England          England          England          England         \n",
       "[37] England          England          England          England         \n",
       "[41] England          Wales            England          England         \n",
       "[45] Northern Ireland England          England          England         \n",
       "[49] England          England         \n",
       "Levels: England Wales Scotland Northern Ireland"
      ]
     },
     "execution_count": 7,
     "metadata": {},
     "output_type": "execute_result"
    }
   ],
   "source": [
    "country <- factor(country.orig,\n",
    "                  levels=c(\"England\",\"Wales\",\"Scotland\",\n",
    "                           \"Northern Ireland\"))\n",
    "country"
   ]
  },
  {
   "cell_type": "code",
   "execution_count": 8,
   "metadata": {
    "execution": {
     "iopub.execute_input": "2023-11-19T15:03:41.806848Z",
     "iopub.status.busy": "2023-11-19T15:03:41.800079Z",
     "iopub.status.idle": "2023-11-19T15:03:41.856585Z",
     "shell.execute_reply": "2023-11-19T15:03:41.843893Z"
    }
   },
   "outputs": [
    {
     "data": {
      "text/plain": [
       "country\n",
       "         England            Wales         Scotland Northern Ireland \n",
       "              39                3                3                5 "
      ]
     },
     "execution_count": 8,
     "metadata": {},
     "output_type": "execute_result"
    }
   ],
   "source": [
    "table(country)"
   ]
  },
  {
   "cell_type": "code",
   "execution_count": 9,
   "metadata": {
    "execution": {
     "iopub.execute_input": "2023-11-19T15:03:41.879662Z",
     "iopub.status.busy": "2023-11-19T15:03:41.872818Z",
     "iopub.status.idle": "2023-11-19T15:03:41.915916Z",
     "shell.execute_reply": "2023-11-19T15:03:41.908164Z"
    }
   },
   "outputs": [
    {
     "name": "stdout",
     "output_type": "stream",
     "text": [
      " Factor w/ 4 levels \"England\",\"Wales\",..: 4 1 2 3 1 1 1 4 1 1 ...\n"
     ]
    }
   ],
   "source": [
    "str(country)"
   ]
  },
  {
   "cell_type": "code",
   "execution_count": 10,
   "metadata": {
    "execution": {
     "iopub.execute_input": "2023-11-19T15:03:41.934488Z",
     "iopub.status.busy": "2023-11-19T15:03:41.926342Z",
     "iopub.status.idle": "2023-11-19T15:03:41.970232Z",
     "shell.execute_reply": "2023-11-19T15:03:41.958817Z"
    }
   },
   "outputs": [
    {
     "data": {
      "text/plain": [
       " [1] 4 1 2 3 1 1 1 4 1 1 1 1 1 1 1 1 1 1 4 1 1 1 1 2 1 3 4 1 3 1 1 1 1 1 1 1 1 1\n",
       "[39] 1 1 1 2 1 1 4 1 1 1 1 1"
      ]
     },
     "execution_count": 10,
     "metadata": {},
     "output_type": "execute_result"
    }
   ],
   "source": [
    "as.numeric(country)"
   ]
  },
  {
   "cell_type": "code",
   "execution_count": 11,
   "metadata": {
    "execution": {
     "iopub.execute_input": "2023-11-19T15:03:41.991853Z",
     "iopub.status.busy": "2023-11-19T15:03:41.985036Z",
     "iopub.status.idle": "2023-11-19T15:03:42.037679Z",
     "shell.execute_reply": "2023-11-19T15:03:42.028747Z"
    }
   },
   "outputs": [
    {
     "data": {
      "text/plain": [
       "country\n",
       "EN NI SC WL \n",
       "39  3  3  5 "
      ]
     },
     "execution_count": 11,
     "metadata": {},
     "output_type": "execute_result"
    }
   ],
   "source": [
    "levels(country) <- c(\"EN\",\"NI\",\"SC\",\"WL\")\n",
    "table(country)"
   ]
  }
 ],
 "metadata": {
  "kernelspec": {
   "display_name": "R (RKernel)",
   "language": "R",
   "name": "rkernel"
  },
  "language_info": {
   "codemirror_mode": "R",
   "file_extension": ".R",
   "mimetype": "text/x-r-source",
   "name": "R",
   "pygments_lexer": "r",
   "version": "4.3.2"
  }
 },
 "nbformat": 4,
 "nbformat_minor": 4
}
