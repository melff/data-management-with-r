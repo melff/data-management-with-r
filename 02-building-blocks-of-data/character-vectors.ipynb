{
 "cells": [
  {
   "cell_type": "markdown",
   "metadata": {},
   "source": [
    "# Character vectors"
   ]
  },
  {
   "cell_type": "code",
   "execution_count": 1,
   "metadata": {
    "execution": {
     "iopub.execute_input": "2023-11-19T15:06:59.364419Z",
     "iopub.status.busy": "2023-11-19T15:06:59.355420Z",
     "iopub.status.idle": "2023-11-19T15:06:59.510009Z",
     "shell.execute_reply": "2023-11-19T15:06:59.497627Z"
    }
   },
   "outputs": [
    {
     "data": {
      "text/plain": [
       "[1] \"John\"   \"Paul\"   \"George\" \"Ringo\" "
      ]
     },
     "execution_count": 1,
     "metadata": {},
     "output_type": "execute_result"
    }
   ],
   "source": [
    "Beatles <- c(\"John\", \"Paul\", \"George\", \"Ringo\")\n",
    "Beatles"
   ]
  },
  {
   "cell_type": "code",
   "execution_count": 2,
   "metadata": {
    "execution": {
     "iopub.execute_input": "2023-11-19T15:06:59.648574Z",
     "iopub.status.busy": "2023-11-19T15:06:59.525503Z",
     "iopub.status.idle": "2023-11-19T15:06:59.882554Z",
     "shell.execute_reply": "2023-11-19T15:06:59.870676Z"
    }
   },
   "outputs": [
    {
     "data": {
      "text/plain": [
       "[1] \"one and only\""
      ]
     },
     "execution_count": 2,
     "metadata": {},
     "output_type": "execute_result"
    }
   ],
   "source": [
    "paste(\"one\",\"and\",\"only\")"
   ]
  },
  {
   "cell_type": "code",
   "execution_count": 3,
   "metadata": {
    "execution": {
     "iopub.execute_input": "2023-11-19T15:06:59.906193Z",
     "iopub.status.busy": "2023-11-19T15:06:59.897504Z",
     "iopub.status.idle": "2023-11-19T15:06:59.948849Z",
     "shell.execute_reply": "2023-11-19T15:06:59.938222Z"
    }
   },
   "outputs": [
    {
     "data": {
      "text/plain": [
       "[1] \"John & Paul & George & Ringo\""
      ]
     },
     "execution_count": 3,
     "metadata": {},
     "output_type": "execute_result"
    }
   ],
   "source": [
    "paste(Beatles, collapse=\" & \")"
   ]
  },
  {
   "cell_type": "code",
   "execution_count": 4,
   "metadata": {
    "execution": {
     "iopub.execute_input": "2023-11-19T15:06:59.973286Z",
     "iopub.status.busy": "2023-11-19T15:06:59.962384Z",
     "iopub.status.idle": "2023-11-19T15:07:00.005356Z",
     "shell.execute_reply": "2023-11-19T15:06:59.992790Z"
    }
   },
   "outputs": [],
   "source": [
    "First <- c(\"Mick\",\"Keith\",\"Ronnie\",\"Charlie\")\n",
    "Last <- c(\"Jagger\",\"Richards\",\"Wood\",\"Watts\")"
   ]
  },
  {
   "cell_type": "code",
   "execution_count": 5,
   "metadata": {
    "execution": {
     "iopub.execute_input": "2023-11-19T15:07:00.033760Z",
     "iopub.status.busy": "2023-11-19T15:07:00.021911Z",
     "iopub.status.idle": "2023-11-19T15:07:00.072679Z",
     "shell.execute_reply": "2023-11-19T15:07:00.062703Z"
    }
   },
   "outputs": [
    {
     "data": {
      "text/plain": [
       "[1] \"Mick Jagger\"    \"Keith Richards\" \"Ronnie Wood\"    \"Charlie Watts\" "
      ]
     },
     "execution_count": 5,
     "metadata": {},
     "output_type": "execute_result"
    }
   ],
   "source": [
    "paste(First,Last)"
   ]
  },
  {
   "cell_type": "code",
   "execution_count": 6,
   "metadata": {
    "execution": {
     "iopub.execute_input": "2023-11-19T15:07:00.094176Z",
     "iopub.status.busy": "2023-11-19T15:07:00.083463Z",
     "iopub.status.idle": "2023-11-19T15:07:00.141157Z",
     "shell.execute_reply": "2023-11-19T15:07:00.131513Z"
    }
   },
   "outputs": [
    {
     "data": {
      "text/plain": [
       "[1] \"Mick_Jagger\"    \"Keith_Richards\" \"Ronnie_Wood\"    \"Charlie_Watts\" "
      ]
     },
     "execution_count": 6,
     "metadata": {},
     "output_type": "execute_result"
    }
   ],
   "source": [
    "paste(First,Last,sep=\"_\")"
   ]
  },
  {
   "cell_type": "code",
   "execution_count": 7,
   "metadata": {
    "execution": {
     "iopub.execute_input": "2023-11-19T15:07:00.164939Z",
     "iopub.status.busy": "2023-11-19T15:07:00.155847Z",
     "iopub.status.idle": "2023-11-19T15:07:00.189833Z",
     "shell.execute_reply": "2023-11-19T15:07:00.180218Z"
    }
   },
   "outputs": [],
   "source": [
    "Beatles <- c(\"John\", \"Paul\", \"George\", \"Ringo\")"
   ]
  },
  {
   "cell_type": "code",
   "execution_count": 8,
   "metadata": {
    "execution": {
     "iopub.execute_input": "2023-11-19T15:07:00.212932Z",
     "iopub.status.busy": "2023-11-19T15:07:00.201952Z",
     "iopub.status.idle": "2023-11-19T15:07:00.253931Z",
     "shell.execute_reply": "2023-11-19T15:07:00.243357Z"
    }
   },
   "outputs": [
    {
     "data": {
      "text/plain": [
       "[1] \"Jo\" \"Pa\" \"Ge\" \"Ri\""
      ]
     },
     "execution_count": 8,
     "metadata": {},
     "output_type": "execute_result"
    }
   ],
   "source": [
    "substr(Beatles,1,2)"
   ]
  },
  {
   "cell_type": "code",
   "execution_count": 9,
   "metadata": {
    "execution": {
     "iopub.execute_input": "2023-11-19T15:07:00.278820Z",
     "iopub.status.busy": "2023-11-19T15:07:00.269812Z",
     "iopub.status.idle": "2023-11-19T15:07:00.315192Z",
     "shell.execute_reply": "2023-11-19T15:07:00.306893Z"
    }
   },
   "outputs": [
    {
     "data": {
      "text/plain": [
       "[1] \"Jo\" \"au\" \"or\" \"go\""
      ]
     },
     "execution_count": 9,
     "metadata": {},
     "output_type": "execute_result"
    }
   ],
   "source": [
    "substr(Beatles,1:4,2:5)"
   ]
  },
  {
   "cell_type": "code",
   "execution_count": 10,
   "metadata": {
    "execution": {
     "iopub.execute_input": "2023-11-19T15:07:00.337038Z",
     "iopub.status.busy": "2023-11-19T15:07:00.328042Z",
     "iopub.status.idle": "2023-11-19T15:07:00.379433Z",
     "shell.execute_reply": "2023-11-19T15:07:00.367128Z"
    }
   },
   "outputs": [
    {
     "name": "stdout",
     "output_type": "stream",
     "text": [
      "[1] \"Whole Lotta Rosie\"\n"
     ]
    }
   ],
   "source": [
    "Led.Zeppelin.song <- \"Whole Lotta Love\"\n",
    "ACDC.song <- sub(\"Love\",\"Rosie\",Led.Zeppelin.song)\n",
    "print(ACDC.song)"
   ]
  },
  {
   "cell_type": "code",
   "execution_count": 11,
   "metadata": {
    "execution": {
     "iopub.execute_input": "2023-11-19T15:07:00.398604Z",
     "iopub.status.busy": "2023-11-19T15:07:00.391300Z",
     "iopub.status.idle": "2023-11-19T15:07:00.430779Z",
     "shell.execute_reply": "2023-11-19T15:07:00.418266Z"
    }
   },
   "outputs": [],
   "source": [
    "onetofour <- 1:4\n",
    "names(onetofour) <- c(\"first\",\"second\",\"third\",\"fourth\")"
   ]
  },
  {
   "cell_type": "code",
   "execution_count": 12,
   "metadata": {
    "execution": {
     "iopub.execute_input": "2023-11-19T15:07:00.450248Z",
     "iopub.status.busy": "2023-11-19T15:07:00.442312Z",
     "iopub.status.idle": "2023-11-19T15:07:00.495372Z",
     "shell.execute_reply": "2023-11-19T15:07:00.485151Z"
    }
   },
   "outputs": [
    {
     "data": {
      "text/plain": [
       "[1] \"first\"  \"second\" \"third\"  \"fourth\""
      ]
     },
     "execution_count": 12,
     "metadata": {},
     "output_type": "execute_result"
    }
   ],
   "source": [
    "names(onetofour)"
   ]
  },
  {
   "cell_type": "code",
   "execution_count": 13,
   "metadata": {
    "execution": {
     "iopub.execute_input": "2023-11-19T15:07:00.515713Z",
     "iopub.status.busy": "2023-11-19T15:07:00.507513Z",
     "iopub.status.idle": "2023-11-19T15:07:00.559143Z",
     "shell.execute_reply": "2023-11-19T15:07:00.549151Z"
    }
   },
   "outputs": [
    {
     "data": {
      "text/plain": [
       " first second  third fourth \n",
       "     1      2      3      4 "
      ]
     },
     "execution_count": 13,
     "metadata": {},
     "output_type": "execute_result"
    }
   ],
   "source": [
    "onetofour"
   ]
  },
  {
   "cell_type": "code",
   "execution_count": 14,
   "metadata": {
    "execution": {
     "iopub.execute_input": "2023-11-19T15:07:00.578667Z",
     "iopub.status.busy": "2023-11-19T15:07:00.571507Z",
     "iopub.status.idle": "2023-11-19T15:07:00.613963Z",
     "shell.execute_reply": "2023-11-19T15:07:00.601382Z"
    }
   },
   "outputs": [
    {
     "name": "stdout",
     "output_type": "stream",
     "text": [
      " first second  third fourth \n",
      "     1      2      3      4 \n"
     ]
    }
   ],
   "source": [
    "print(onetofour)"
   ]
  }
 ],
 "metadata": {
  "kernelspec": {
   "display_name": "R (RKernel)",
   "language": "R",
   "name": "rkernel"
  },
  "language_info": {
   "codemirror_mode": "R",
   "file_extension": ".R",
   "mimetype": "text/x-r-source",
   "name": "R",
   "pygments_lexer": "r",
   "version": "4.3.2"
  }
 },
 "nbformat": 4,
 "nbformat_minor": 4
}
