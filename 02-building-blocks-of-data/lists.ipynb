{
 "cells": [
  {
   "cell_type": "markdown",
   "metadata": {},
   "source": [
    "# Lists"
   ]
  },
  {
   "cell_type": "code",
   "execution_count": 1,
   "metadata": {
    "execution": {
     "iopub.execute_input": "2023-11-19T17:43:39.381220Z",
     "iopub.status.busy": "2023-11-19T17:43:39.378834Z",
     "iopub.status.idle": "2023-11-19T17:43:39.428632Z",
     "shell.execute_reply": "2023-11-19T17:43:39.425748Z"
    }
   },
   "outputs": [
    {
     "data": {
      "text/plain": [
       "[[1]]\n",
       "[1] 1 2 3 4 5\n",
       "\n",
       "[[2]]\n",
       "[1] \"a\" \"b\" \"c\" \"d\" \"e\" \"f\"\n",
       "\n",
       "[[3]]\n",
       "[1]  TRUE FALSE FALSE  TRUE\n"
      ]
     },
     "execution_count": 1,
     "metadata": {},
     "output_type": "execute_result"
    }
   ],
   "source": [
    "AList <- list(1:5,\n",
    "              letters[1:6],\n",
    "              c(TRUE,FALSE,FALSE,TRUE))\n",
    "AList"
   ]
  },
  {
   "cell_type": "code",
   "execution_count": 2,
   "metadata": {
    "execution": {
     "iopub.execute_input": "2023-11-19T17:43:39.462396Z",
     "iopub.status.busy": "2023-11-19T17:43:39.433187Z",
     "iopub.status.idle": "2023-11-19T17:43:39.530618Z",
     "shell.execute_reply": "2023-11-19T17:43:39.527897Z"
    }
   },
   "outputs": [
    {
     "data": {
      "text/plain": [
       "[[1]]\n",
       "[1] 1 2 3 4 5\n",
       "\n",
       "[[2]]\n",
       "[1] \"a\" \"b\" \"c\" \"d\" \"e\" \"f\"\n"
      ]
     },
     "execution_count": 2,
     "metadata": {},
     "output_type": "execute_result"
    }
   ],
   "source": [
    "AList[1:2]"
   ]
  },
  {
   "cell_type": "code",
   "execution_count": 3,
   "metadata": {
    "execution": {
     "iopub.execute_input": "2023-11-19T17:43:39.537666Z",
     "iopub.status.busy": "2023-11-19T17:43:39.535047Z",
     "iopub.status.idle": "2023-11-19T17:43:39.550386Z",
     "shell.execute_reply": "2023-11-19T17:43:39.546870Z"
    }
   },
   "outputs": [
    {
     "data": {
      "text/plain": [
       "[[1]]\n",
       "[1] 1 2 3 4 5\n"
      ]
     },
     "execution_count": 3,
     "metadata": {},
     "output_type": "execute_result"
    }
   ],
   "source": [
    "AList[1]"
   ]
  },
  {
   "cell_type": "code",
   "execution_count": 4,
   "metadata": {
    "execution": {
     "iopub.execute_input": "2023-11-19T17:43:39.558071Z",
     "iopub.status.busy": "2023-11-19T17:43:39.555589Z",
     "iopub.status.idle": "2023-11-19T17:43:39.569639Z",
     "shell.execute_reply": "2023-11-19T17:43:39.566756Z"
    }
   },
   "outputs": [
    {
     "data": {
      "text/plain": [
       "[1] \"a\" \"b\" \"c\" \"d\" \"e\" \"f\""
      ]
     },
     "execution_count": 4,
     "metadata": {},
     "output_type": "execute_result"
    }
   ],
   "source": [
    "AList[[2]]"
   ]
  },
  {
   "cell_type": "code",
   "execution_count": 5,
   "metadata": {
    "execution": {
     "iopub.execute_input": "2023-11-19T17:43:39.576586Z",
     "iopub.status.busy": "2023-11-19T17:43:39.574081Z",
     "iopub.status.idle": "2023-11-19T17:43:39.587887Z",
     "shell.execute_reply": "2023-11-19T17:43:39.585033Z"
    }
   },
   "outputs": [
    {
     "data": {
      "text/plain": [
       "[1] 2"
      ]
     },
     "execution_count": 5,
     "metadata": {},
     "output_type": "execute_result"
    }
   ],
   "source": [
    "AList[[1:2]]"
   ]
  },
  {
   "cell_type": "code",
   "execution_count": 6,
   "metadata": {
    "execution": {
     "iopub.execute_input": "2023-11-19T17:43:39.595104Z",
     "iopub.status.busy": "2023-11-19T17:43:39.592485Z",
     "iopub.status.idle": "2023-11-19T17:43:39.606425Z",
     "shell.execute_reply": "2023-11-19T17:43:39.603524Z"
    }
   },
   "outputs": [
    {
     "name": "stderr",
     "output_type": "stream",
     "text": [
      "Error in AList[[1:3]]:\n",
      "recursive indexing failed at level 2\n",
      "\n"
     ]
    }
   ],
   "source": [
    "AList[[1:3]]"
   ]
  },
  {
   "cell_type": "code",
   "execution_count": 7,
   "metadata": {
    "execution": {
     "iopub.execute_input": "2023-11-19T17:43:39.613399Z",
     "iopub.status.busy": "2023-11-19T17:43:39.610898Z",
     "iopub.status.idle": "2023-11-19T17:43:39.625101Z",
     "shell.execute_reply": "2023-11-19T17:43:39.622252Z"
    }
   },
   "outputs": [
    {
     "data": {
      "text/plain": [
       "[1] 3"
      ]
     },
     "execution_count": 7,
     "metadata": {},
     "output_type": "execute_result"
    }
   ],
   "source": [
    "length(AList)"
   ]
  },
  {
   "cell_type": "code",
   "execution_count": 8,
   "metadata": {
    "execution": {
     "iopub.execute_input": "2023-11-19T17:43:39.635305Z",
     "iopub.status.busy": "2023-11-19T17:43:39.632529Z",
     "iopub.status.idle": "2023-11-19T17:43:39.642714Z",
     "shell.execute_reply": "2023-11-19T17:43:39.639999Z"
    }
   },
   "outputs": [],
   "source": [
    "FDR <- list(c(\"John\",\"Delano\"),\n",
    "            c(\"Roosevelt\"))"
   ]
  },
  {
   "cell_type": "code",
   "execution_count": 9,
   "metadata": {
    "execution": {
     "iopub.execute_input": "2023-11-19T17:43:39.649894Z",
     "iopub.status.busy": "2023-11-19T17:43:39.647244Z",
     "iopub.status.idle": "2023-11-19T17:43:39.661789Z",
     "shell.execute_reply": "2023-11-19T17:43:39.658968Z"
    }
   },
   "outputs": [
    {
     "data": {
      "text/plain": [
       "$first.name\n",
       "[1] \"John\"   \"Delano\"\n",
       "\n",
       "$last.name\n",
       "[1] \"Roosevelt\"\n"
      ]
     },
     "execution_count": 9,
     "metadata": {},
     "output_type": "execute_result"
    }
   ],
   "source": [
    "names(FDR) <- c(\"first.name\",\"last.name\")\n",
    "FDR"
   ]
  },
  {
   "cell_type": "code",
   "execution_count": 10,
   "metadata": {
    "execution": {
     "iopub.execute_input": "2023-11-19T17:43:39.668945Z",
     "iopub.status.busy": "2023-11-19T17:43:39.666302Z",
     "iopub.status.idle": "2023-11-19T17:43:39.681480Z",
     "shell.execute_reply": "2023-11-19T17:43:39.678468Z"
    }
   },
   "outputs": [
    {
     "data": {
      "text/plain": [
       "$first.name\n",
       "[1] \"John\"   \"Delano\"\n",
       "\n",
       "$last.name\n",
       "[1] \"Roosevelt\"\n"
      ]
     },
     "execution_count": 10,
     "metadata": {},
     "output_type": "execute_result"
    }
   ],
   "source": [
    "FDR <- list(first.name=c(\"John\",\"Delano\"),\n",
    "            last.name=c(\"Roosevelt\"))\n",
    "FDR"
   ]
  },
  {
   "cell_type": "code",
   "execution_count": 11,
   "metadata": {
    "execution": {
     "iopub.execute_input": "2023-11-19T17:43:39.688699Z",
     "iopub.status.busy": "2023-11-19T17:43:39.686189Z",
     "iopub.status.idle": "2023-11-19T17:43:39.700045Z",
     "shell.execute_reply": "2023-11-19T17:43:39.697151Z"
    }
   },
   "outputs": [
    {
     "data": {
      "text/plain": [
       "[1] \"Roosevelt\""
      ]
     },
     "execution_count": 11,
     "metadata": {},
     "output_type": "execute_result"
    }
   ],
   "source": [
    "FDR$last.name"
   ]
  },
  {
   "cell_type": "code",
   "execution_count": 12,
   "metadata": {
    "execution": {
     "iopub.execute_input": "2023-11-19T17:43:39.707522Z",
     "iopub.status.busy": "2023-11-19T17:43:39.704828Z",
     "iopub.status.idle": "2023-11-19T17:43:39.719403Z",
     "shell.execute_reply": "2023-11-19T17:43:39.716040Z"
    }
   },
   "outputs": [
    {
     "data": {
      "text/plain": [
       "[1] \"Roosevelt\""
      ]
     },
     "execution_count": 12,
     "metadata": {},
     "output_type": "execute_result"
    }
   ],
   "source": [
    "FDR[[\"last.name\"]]"
   ]
  },
  {
   "cell_type": "code",
   "execution_count": 13,
   "metadata": {
    "execution": {
     "iopub.execute_input": "2023-11-19T17:43:39.726861Z",
     "iopub.status.busy": "2023-11-19T17:43:39.724201Z",
     "iopub.status.idle": "2023-11-19T17:43:39.741659Z",
     "shell.execute_reply": "2023-11-19T17:43:39.736119Z"
    }
   },
   "outputs": [
    {
     "data": {
      "text/plain": [
       "$country.name\n",
       "[1] \"England\"          \"Northern Ireland\" \"Scotland\"         \"Wales\"           \n",
       "\n",
       "$population\n",
       "[1] 54786300  1851600  5373000  3099100\n",
       "\n",
       "$area.sq.km\n",
       "[1] 130279  13562  77933  20735\n",
       "\n",
       "$GVA.cap\n",
       "[1] 26159 18584 23685 18002\n"
      ]
     },
     "execution_count": 13,
     "metadata": {},
     "output_type": "execute_result"
    }
   ],
   "source": [
    "UK <- list(\n",
    "    country.name = c(\"England\",\"Northern Ireland\",\"Scotland\",\n",
    "                                                  \"Wales\"),\n",
    "    population   = c(54786300,1851600,5373000,3099100),\n",
    "    area.sq.km   = c(130279,13562,77933,20735),\n",
    "    GVA.cap      = c(26159,18584,23685,18002))\n",
    "UK"
   ]
  },
  {
   "cell_type": "code",
   "execution_count": 14,
   "metadata": {
    "execution": {
     "iopub.execute_input": "2023-11-19T17:43:39.748574Z",
     "iopub.status.busy": "2023-11-19T17:43:39.746119Z",
     "iopub.status.idle": "2023-11-19T17:43:39.764995Z",
     "shell.execute_reply": "2023-11-19T17:43:39.761958Z"
    }
   },
   "outputs": [
    {
     "data": {
      "text/plain": [
       "      country.name population area.sq.km GVA.cap\n",
       "1          England   54786300     130279   26159\n",
       "2 Northern Ireland    1851600      13562   18584\n",
       "3         Scotland    5373000      77933   23685\n",
       "4            Wales    3099100      20735   18002"
      ]
     },
     "execution_count": 14,
     "metadata": {},
     "output_type": "execute_result"
    }
   ],
   "source": [
    "data.frame(UK)"
   ]
  }
 ],
 "metadata": {
  "kernelspec": {
   "display_name": "R (RKernel)",
   "language": "R",
   "name": "rkernel"
  },
  "language_info": {
   "codemirror_mode": "R",
   "file_extension": ".R",
   "mimetype": "text/x-r-source",
   "name": "R",
   "pygments_lexer": "r",
   "version": "4.3.2"
  }
 },
 "nbformat": 4,
 "nbformat_minor": 4
}
