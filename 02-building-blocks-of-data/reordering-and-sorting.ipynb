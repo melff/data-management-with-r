{
 "cells": [
  {
   "cell_type": "markdown",
   "metadata": {},
   "source": [
    "# Reordering and sorting elements of a vector"
   ]
  },
  {
   "cell_type": "code",
   "execution_count": 1,
   "metadata": {
    "execution": {
     "iopub.execute_input": "2023-11-19T15:09:07.428977Z",
     "iopub.status.busy": "2023-11-19T15:09:07.422337Z",
     "iopub.status.idle": "2023-11-19T15:09:07.456455Z",
     "shell.execute_reply": "2023-11-19T15:09:07.447893Z"
    }
   },
   "outputs": [],
   "source": [
    "set.seed(231)"
   ]
  },
  {
   "cell_type": "code",
   "execution_count": 2,
   "metadata": {
    "execution": {
     "iopub.execute_input": "2023-11-19T15:09:07.596696Z",
     "iopub.status.busy": "2023-11-19T15:09:07.508816Z",
     "iopub.status.idle": "2023-11-19T15:09:07.874830Z",
     "shell.execute_reply": "2023-11-19T15:09:07.866799Z"
    }
   },
   "outputs": [
    {
     "data": {
      "text/plain": [
       " [1] -0.53310192 -2.31166378 -0.95419786  0.26251575 -0.47335746  0.21739728\n",
       " [7]  0.06292205 -0.87782986  0.56368979 -0.03432728"
      ]
     },
     "execution_count": 2,
     "metadata": {},
     "output_type": "execute_result"
    }
   ],
   "source": [
    "x <- rnorm(n=10)\n",
    "x"
   ]
  },
  {
   "cell_type": "code",
   "execution_count": 3,
   "metadata": {
    "execution": {
     "iopub.execute_input": "2023-11-19T15:09:07.894147Z",
     "iopub.status.busy": "2023-11-19T15:09:07.886276Z",
     "iopub.status.idle": "2023-11-19T15:09:07.931017Z",
     "shell.execute_reply": "2023-11-19T15:09:07.922920Z"
    }
   },
   "outputs": [
    {
     "data": {
      "text/plain": [
       " [1] -2.31166378 -0.95419786 -0.87782986 -0.53310192 -0.47335746 -0.03432728\n",
       " [7]  0.06292205  0.21739728  0.26251575  0.56368979"
      ]
     },
     "execution_count": 3,
     "metadata": {},
     "output_type": "execute_result"
    }
   ],
   "source": [
    "x.srt <- sort(x)\n",
    "x.srt"
   ]
  },
  {
   "cell_type": "code",
   "execution_count": 4,
   "metadata": {
    "execution": {
     "iopub.execute_input": "2023-11-19T15:09:07.951604Z",
     "iopub.status.busy": "2023-11-19T15:09:07.943689Z",
     "iopub.status.idle": "2023-11-19T15:09:07.987784Z",
     "shell.execute_reply": "2023-11-19T15:09:07.979904Z"
    }
   },
   "outputs": [
    {
     "data": {
      "text/plain": [
       " [1]  0.56368979  0.26251575  0.21739728  0.06292205 -0.03432728 -0.47335746\n",
       " [7] -0.53310192 -0.87782986 -0.95419786 -2.31166378"
      ]
     },
     "execution_count": 4,
     "metadata": {},
     "output_type": "execute_result"
    }
   ],
   "source": [
    "sort(x,decreasing=TRUE)"
   ]
  },
  {
   "cell_type": "code",
   "execution_count": 5,
   "metadata": {
    "execution": {
     "iopub.execute_input": "2023-11-19T15:09:08.007220Z",
     "iopub.status.busy": "2023-11-19T15:09:07.999113Z",
     "iopub.status.idle": "2023-11-19T15:09:08.043389Z",
     "shell.execute_reply": "2023-11-19T15:09:08.035844Z"
    }
   },
   "outputs": [
    {
     "data": {
      "text/plain": [
       " [1] \"1\"  \"11\" \"a\"  \"A\"  \"ab\" \"aB\" \"Ab\" \"AB\" \"b\"  \"B\"  \"bb\""
      ]
     },
     "execution_count": 5,
     "metadata": {},
     "output_type": "execute_result"
    }
   ],
   "source": [
    "stex <- c(\"1\",\"11\",\"A\",\"a\",\"Ab\",\"AB\",\"ab\",\"aB\",\"B\",\"b\",\"bb\")\n",
    "sort(stex)"
   ]
  },
  {
   "cell_type": "code",
   "execution_count": 6,
   "metadata": {
    "execution": {
     "iopub.execute_input": "2023-11-19T15:09:08.065184Z",
     "iopub.status.busy": "2023-11-19T15:09:08.054595Z",
     "iopub.status.idle": "2023-11-19T15:09:08.108975Z",
     "shell.execute_reply": "2023-11-19T15:09:08.100892Z"
    }
   },
   "outputs": [
    {
     "data": {
      "text/plain": [
       "[1]  0.6549052 -0.2099869 -0.6148580 -0.2740271 -0.7234317  1.4371483"
      ]
     },
     "execution_count": 6,
     "metadata": {},
     "output_type": "execute_result"
    }
   ],
   "source": [
    "set.seed(2134)\n",
    "x <- rnorm(6)\n",
    "x"
   ]
  },
  {
   "cell_type": "code",
   "execution_count": 7,
   "metadata": {
    "execution": {
     "iopub.execute_input": "2023-11-19T15:09:08.126582Z",
     "iopub.status.busy": "2023-11-19T15:09:08.119568Z",
     "iopub.status.idle": "2023-11-19T15:09:08.166879Z",
     "shell.execute_reply": "2023-11-19T15:09:08.156568Z"
    }
   },
   "outputs": [
    {
     "data": {
      "text/plain": [
       "[1] -0.09385485 -0.05070594  0.77188553  0.36295090  1.12152639  0.72011916"
      ]
     },
     "execution_count": 7,
     "metadata": {},
     "output_type": "execute_result"
    }
   ],
   "source": [
    "y <- rnorm(6)\n",
    "y"
   ]
  },
  {
   "cell_type": "code",
   "execution_count": 8,
   "metadata": {
    "execution": {
     "iopub.execute_input": "2023-11-19T15:09:08.187765Z",
     "iopub.status.busy": "2023-11-19T15:09:08.178812Z",
     "iopub.status.idle": "2023-11-19T15:09:08.210325Z",
     "shell.execute_reply": "2023-11-19T15:09:08.201012Z"
    }
   },
   "outputs": [],
   "source": [
    "ii <- order(x)"
   ]
  },
  {
   "cell_type": "code",
   "execution_count": 9,
   "metadata": {
    "execution": {
     "iopub.execute_input": "2023-11-19T15:09:08.228090Z",
     "iopub.status.busy": "2023-11-19T15:09:08.221081Z",
     "iopub.status.idle": "2023-11-19T15:09:08.254224Z",
     "shell.execute_reply": "2023-11-19T15:09:08.245201Z"
    }
   },
   "outputs": [],
   "source": [
    "x.ordered <- x[ii]\n",
    "y.ordered <- y[ii]"
   ]
  },
  {
   "cell_type": "code",
   "execution_count": 10,
   "metadata": {
    "execution": {
     "iopub.execute_input": "2023-11-19T15:09:08.275487Z",
     "iopub.status.busy": "2023-11-19T15:09:08.265291Z",
     "iopub.status.idle": "2023-11-19T15:09:08.314685Z",
     "shell.execute_reply": "2023-11-19T15:09:08.302542Z"
    }
   },
   "outputs": [
    {
     "data": {
      "text/plain": [
       "[1] -0.7234317 -0.6148580 -0.2740271 -0.2099869  0.6549052  1.4371483"
      ]
     },
     "execution_count": 10,
     "metadata": {},
     "output_type": "execute_result"
    }
   ],
   "source": [
    "x.ordered"
   ]
  },
  {
   "cell_type": "code",
   "execution_count": 11,
   "metadata": {
    "execution": {
     "iopub.execute_input": "2023-11-19T15:09:08.337954Z",
     "iopub.status.busy": "2023-11-19T15:09:08.328734Z",
     "iopub.status.idle": "2023-11-19T15:09:08.375643Z",
     "shell.execute_reply": "2023-11-19T15:09:08.367340Z"
    }
   },
   "outputs": [
    {
     "data": {
      "text/plain": [
       "[1]  1.12152639  0.77188553  0.36295090 -0.05070594 -0.09385485  0.72011916"
      ]
     },
     "execution_count": 11,
     "metadata": {},
     "output_type": "execute_result"
    }
   ],
   "source": [
    "y.ordered"
   ]
  },
  {
   "cell_type": "code",
   "execution_count": 12,
   "metadata": {
    "execution": {
     "iopub.execute_input": "2023-11-19T15:09:08.396723Z",
     "iopub.status.busy": "2023-11-19T15:09:08.388119Z",
     "iopub.status.idle": "2023-11-19T15:09:08.423782Z",
     "shell.execute_reply": "2023-11-19T15:09:08.415877Z"
    }
   },
   "outputs": [],
   "source": [
    "jj <- order(ii)"
   ]
  },
  {
   "cell_type": "code",
   "execution_count": 13,
   "metadata": {
    "execution": {
     "iopub.execute_input": "2023-11-19T15:09:08.441212Z",
     "iopub.status.busy": "2023-11-19T15:09:08.434146Z",
     "iopub.status.idle": "2023-11-19T15:09:08.475947Z",
     "shell.execute_reply": "2023-11-19T15:09:08.467918Z"
    }
   },
   "outputs": [
    {
     "data": {
      "text/plain": [
       "[1] TRUE"
      ]
     },
     "execution_count": 13,
     "metadata": {},
     "output_type": "execute_result"
    }
   ],
   "source": [
    "all(x.ordered[jj] == x)"
   ]
  },
  {
   "cell_type": "code",
   "execution_count": 14,
   "metadata": {
    "execution": {
     "iopub.execute_input": "2023-11-19T15:09:08.493836Z",
     "iopub.status.busy": "2023-11-19T15:09:08.486896Z",
     "iopub.status.idle": "2023-11-19T15:09:08.525841Z",
     "shell.execute_reply": "2023-11-19T15:09:08.518115Z"
    }
   },
   "outputs": [
    {
     "data": {
      "text/plain": [
       "[1] TRUE"
      ]
     },
     "execution_count": 14,
     "metadata": {},
     "output_type": "execute_result"
    }
   ],
   "source": [
    "all(y.ordered[jj] == y)"
   ]
  }
 ],
 "metadata": {
  "kernelspec": {
   "display_name": "R (RKernel)",
   "language": "R",
   "name": "rkernel"
  },
  "language_info": {
   "codemirror_mode": "R",
   "file_extension": ".R",
   "mimetype": "text/x-r-source",
   "name": "R",
   "pygments_lexer": "r",
   "version": "4.3.2"
  }
 },
 "nbformat": 4,
 "nbformat_minor": 4
}
