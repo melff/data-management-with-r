{
 "cells": [
  {
   "cell_type": "markdown",
   "metadata": {},
   "source": [
    "# Regular sequences"
   ]
  },
  {
   "cell_type": "code",
   "execution_count": 1,
   "metadata": {
    "execution": {
     "iopub.execute_input": "2023-11-19T15:10:17.652816Z",
     "iopub.status.busy": "2023-11-19T15:10:17.641041Z",
     "iopub.status.idle": "2023-11-19T15:10:17.783794Z",
     "shell.execute_reply": "2023-11-19T15:10:17.773238Z"
    }
   },
   "outputs": [
    {
     "data": {
      "text/plain": [
       " [1]  1  2  3  4  5  6  7  8  9 10"
      ]
     },
     "execution_count": 1,
     "metadata": {},
     "output_type": "execute_result"
    }
   ],
   "source": [
    "1:10"
   ]
  },
  {
   "cell_type": "code",
   "execution_count": 2,
   "metadata": {
    "execution": {
     "iopub.execute_input": "2023-11-19T15:10:17.886840Z",
     "iopub.status.busy": "2023-11-19T15:10:17.797728Z",
     "iopub.status.idle": "2023-11-19T15:10:18.102753Z",
     "shell.execute_reply": "2023-11-19T15:10:18.094956Z"
    }
   },
   "outputs": [
    {
     "data": {
      "text/plain": [
       " [1]  1  2  3  4  5  6  7  8  9 10"
      ]
     },
     "execution_count": 2,
     "metadata": {},
     "output_type": "execute_result"
    }
   ],
   "source": [
    "seq(from=1,to=10)"
   ]
  },
  {
   "cell_type": "code",
   "execution_count": 3,
   "metadata": {
    "execution": {
     "iopub.execute_input": "2023-11-19T15:10:18.121777Z",
     "iopub.status.busy": "2023-11-19T15:10:18.114324Z",
     "iopub.status.idle": "2023-11-19T15:10:18.155649Z",
     "shell.execute_reply": "2023-11-19T15:10:18.147405Z"
    }
   },
   "outputs": [
    {
     "data": {
      "text/plain": [
       "[1]  2  4  6  8 10"
      ]
     },
     "execution_count": 3,
     "metadata": {},
     "output_type": "execute_result"
    }
   ],
   "source": [
    "seq(from=2,to=10,by=2)"
   ]
  },
  {
   "cell_type": "code",
   "execution_count": 4,
   "metadata": {
    "execution": {
     "iopub.execute_input": "2023-11-19T15:10:18.175131Z",
     "iopub.status.busy": "2023-11-19T15:10:18.166523Z",
     "iopub.status.idle": "2023-11-19T15:10:18.213246Z",
     "shell.execute_reply": "2023-11-19T15:10:18.204324Z"
    }
   },
   "outputs": [
    {
     "data": {
      "text/plain": [
       "[1] 21 28 35 42 49"
      ]
     },
     "execution_count": 4,
     "metadata": {},
     "output_type": "execute_result"
    }
   ],
   "source": [
    "seq(to=49,length.out=5,by=7)"
   ]
  },
  {
   "cell_type": "code",
   "execution_count": 5,
   "metadata": {
    "execution": {
     "iopub.execute_input": "2023-11-19T15:10:18.232575Z",
     "iopub.status.busy": "2023-11-19T15:10:18.225049Z",
     "iopub.status.idle": "2023-11-19T15:10:18.267437Z",
     "shell.execute_reply": "2023-11-19T15:10:18.259456Z"
    }
   },
   "outputs": [
    {
     "data": {
      "text/plain": [
       " [1] 1 2 3 4 5 1 2 3 4 5 1 2 3 4 5"
      ]
     },
     "execution_count": 5,
     "metadata": {},
     "output_type": "execute_result"
    }
   ],
   "source": [
    "rep(1:5,3)"
   ]
  },
  {
   "cell_type": "code",
   "execution_count": 6,
   "metadata": {
    "execution": {
     "iopub.execute_input": "2023-11-19T15:10:18.291593Z",
     "iopub.status.busy": "2023-11-19T15:10:18.278607Z",
     "iopub.status.idle": "2023-11-19T15:10:18.324239Z",
     "shell.execute_reply": "2023-11-19T15:10:18.316459Z"
    }
   },
   "outputs": [
    {
     "data": {
      "text/plain": [
       " [1] 1 1 1 2 2 2 3 3 3 4 4 4 5 5 5"
      ]
     },
     "execution_count": 6,
     "metadata": {},
     "output_type": "execute_result"
    }
   ],
   "source": [
    "rep(1:5,each=3)"
   ]
  }
 ],
 "metadata": {
  "kernelspec": {
   "display_name": "R (RKernel)",
   "language": "R",
   "name": "rkernel"
  },
  "language_info": {
   "codemirror_mode": "R",
   "file_extension": ".R",
   "mimetype": "text/x-r-source",
   "name": "R",
   "pygments_lexer": "r",
   "version": "4.3.2"
  }
 },
 "nbformat": 4,
 "nbformat_minor": 4
}
