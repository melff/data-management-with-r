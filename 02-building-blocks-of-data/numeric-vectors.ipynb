{
 "cells": [
  {
   "cell_type": "markdown",
   "metadata": {},
   "source": [
    "# Numeric vectors"
   ]
  },
  {
   "cell_type": "code",
   "execution_count": 1,
   "metadata": {
    "execution": {
     "iopub.execute_input": "2023-11-19T15:04:59.545065Z",
     "iopub.status.busy": "2023-11-19T15:04:59.534035Z",
     "iopub.status.idle": "2023-11-19T15:04:59.675401Z",
     "shell.execute_reply": "2023-11-19T15:04:59.664267Z"
    }
   },
   "outputs": [
    {
     "data": {
      "text/plain": [
       "[1] 1.20000 3.50000 5.00000 6.70000 0.00109"
      ]
     },
     "execution_count": 1,
     "metadata": {},
     "output_type": "execute_result"
    }
   ],
   "source": [
    "c(1.2,3.5,5.0,6.7,1.09e-3)"
   ]
  },
  {
   "cell_type": "code",
   "execution_count": 2,
   "metadata": {
    "execution": {
     "iopub.execute_input": "2023-11-19T15:04:59.854967Z",
     "iopub.status.busy": "2023-11-19T15:04:59.732329Z",
     "iopub.status.idle": "2023-11-19T15:05:00.142818Z",
     "shell.execute_reply": "2023-11-19T15:05:00.131065Z"
    }
   },
   "outputs": [
    {
     "data": {
      "text/plain": [
       "[1] 5"
      ]
     },
     "execution_count": 2,
     "metadata": {},
     "output_type": "execute_result"
    }
   ],
   "source": [
    "x <- c(1.2,3.5,5.0,6.7,1.09e-3)\n",
    "length(x)"
   ]
  },
  {
   "cell_type": "code",
   "execution_count": 3,
   "metadata": {
    "execution": {
     "iopub.execute_input": "2023-11-19T15:05:00.181870Z",
     "iopub.status.busy": "2023-11-19T15:05:00.171764Z",
     "iopub.status.idle": "2023-11-19T15:05:00.227004Z",
     "shell.execute_reply": "2023-11-19T15:05:00.214210Z"
    }
   },
   "outputs": [
    {
     "data": {
      "text/plain": [
       "  [1]   1   2   3   4   5   6   7   8   9  10  11  12  13  14  15  16  17  18\n",
       " [19]  19  20  21  22  23  24  25  26  27  28  29  30  31  32  33  34  35  36\n",
       " [37]  37  38  39  40  41  42  43  44  45  46  47  48  49  50  51  52  53  54\n",
       " [55]  55  56  57  58  59  60  61  62  63  64  65  66  67  68  69  70  71  72\n",
       " [73]  73  74  75  76  77  78  79  80  81  82  83  84  85  86  87  88  89  90\n",
       " [91]  91  92  93  94  95  96  97  98  99 100"
      ]
     },
     "execution_count": 3,
     "metadata": {},
     "output_type": "execute_result"
    }
   ],
   "source": [
    "1:100"
   ]
  },
  {
   "cell_type": "code",
   "execution_count": 4,
   "metadata": {
    "execution": {
     "iopub.execute_input": "2023-11-19T15:05:00.254233Z",
     "iopub.status.busy": "2023-11-19T15:05:00.242584Z",
     "iopub.status.idle": "2023-11-19T15:05:00.305121Z",
     "shell.execute_reply": "2023-11-19T15:05:00.292531Z"
    }
   },
   "outputs": [
    {
     "name": "stdout",
     "output_type": "stream",
     "text": [
      "[1] 4 4 6 6 8\n"
     ]
    }
   ],
   "source": [
    "x <- c(1,2,3,4,5)\n",
    "y <- c(3,2,3,2,3)\n",
    "z <- x + y\n",
    "print(z)"
   ]
  },
  {
   "cell_type": "code",
   "execution_count": 5,
   "metadata": {
    "execution": {
     "iopub.execute_input": "2023-11-19T15:05:00.333038Z",
     "iopub.status.busy": "2023-11-19T15:05:00.320857Z",
     "iopub.status.idle": "2023-11-19T15:05:00.381170Z",
     "shell.execute_reply": "2023-11-19T15:05:00.369465Z"
    }
   },
   "outputs": [
    {
     "name": "stdout",
     "output_type": "stream",
     "text": [
      "[1] 4 3 5 9 8\n"
     ]
    }
   ],
   "source": [
    "x <- c(3,2,4,8,7)\n",
    "y <- x + 1\n",
    "print(y)"
   ]
  },
  {
   "cell_type": "code",
   "execution_count": 6,
   "metadata": {
    "execution": {
     "iopub.execute_input": "2023-11-19T15:05:00.414930Z",
     "iopub.status.busy": "2023-11-19T15:05:00.397269Z",
     "iopub.status.idle": "2023-11-19T15:05:00.459516Z",
     "shell.execute_reply": "2023-11-19T15:05:00.448196Z"
    }
   },
   "outputs": [
    {
     "name": "stdout",
     "output_type": "stream",
     "text": [
      "[1] 4 3 5 9 8\n"
     ]
    }
   ],
   "source": [
    "x <- c(3,2,4,8,7)\n",
    "y <- x + c(1,1,1,1,1)\n",
    "print(y)"
   ]
  },
  {
   "cell_type": "code",
   "execution_count": 7,
   "metadata": {
    "execution": {
     "iopub.execute_input": "2023-11-19T15:05:00.483266Z",
     "iopub.status.busy": "2023-11-19T15:05:00.474003Z",
     "iopub.status.idle": "2023-11-19T15:05:00.516429Z",
     "shell.execute_reply": "2023-11-19T15:05:00.508222Z"
    }
   },
   "outputs": [
    {
     "data": {
      "text/plain": [
       "[1] NA"
      ]
     },
     "execution_count": 7,
     "metadata": {},
     "output_type": "execute_result"
    }
   ],
   "source": [
    "1 + NA"
   ]
  },
  {
   "cell_type": "code",
   "execution_count": 8,
   "metadata": {
    "execution": {
     "iopub.execute_input": "2023-11-19T15:05:00.533514Z",
     "iopub.status.busy": "2023-11-19T15:05:00.526925Z",
     "iopub.status.idle": "2023-11-19T15:05:00.565349Z",
     "shell.execute_reply": "2023-11-19T15:05:00.556626Z"
    }
   },
   "outputs": [
    {
     "data": {
      "text/plain": [
       "[1] -0.5 -1.0  Inf  1.0  0.5"
      ]
     },
     "execution_count": 8,
     "metadata": {},
     "output_type": "execute_result"
    }
   ],
   "source": [
    "x <- c(-2,-1,0,1,2)\n",
    "1/x"
   ]
  },
  {
   "cell_type": "code",
   "execution_count": 9,
   "metadata": {
    "execution": {
     "iopub.execute_input": "2023-11-19T15:05:00.587115Z",
     "iopub.status.busy": "2023-11-19T15:05:00.578716Z",
     "iopub.status.idle": "2023-11-19T15:05:00.620735Z",
     "shell.execute_reply": "2023-11-19T15:05:00.610530Z"
    }
   },
   "outputs": [
    {
     "data": {
      "text/plain": [
       "[1] -Inf -Inf  NaN  Inf  Inf"
      ]
     },
     "execution_count": 9,
     "metadata": {},
     "output_type": "execute_result"
    }
   ],
   "source": [
    "x/0"
   ]
  }
 ],
 "metadata": {
  "kernelspec": {
   "display_name": "R (RKernel)",
   "language": "R",
   "name": "rkernel"
  },
  "language_info": {
   "codemirror_mode": "R",
   "file_extension": ".R",
   "mimetype": "text/x-r-source",
   "name": "R",
   "pygments_lexer": "r",
   "version": "4.3.2"
  }
 },
 "nbformat": 4,
 "nbformat_minor": 4
}
