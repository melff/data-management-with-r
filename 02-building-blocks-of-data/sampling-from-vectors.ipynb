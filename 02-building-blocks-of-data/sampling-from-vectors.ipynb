{
 "cells": [
  {
   "cell_type": "markdown",
   "metadata": {},
   "source": [
    "# Sampling from vectors"
   ]
  },
  {
   "cell_type": "code",
   "execution_count": 1,
   "metadata": {
    "execution": {
     "iopub.execute_input": "2023-11-19T15:10:43.680899Z",
     "iopub.status.busy": "2023-11-19T15:10:43.673469Z",
     "iopub.status.idle": "2023-11-19T15:10:43.714195Z",
     "shell.execute_reply": "2023-11-19T15:10:43.706678Z"
    }
   },
   "outputs": [],
   "source": [
    "set.seed(143)"
   ]
  },
  {
   "cell_type": "code",
   "execution_count": 2,
   "metadata": {
    "execution": {
     "iopub.execute_input": "2023-11-19T15:10:43.813383Z",
     "iopub.status.busy": "2023-11-19T15:10:43.725389Z",
     "iopub.status.idle": "2023-11-19T15:10:44.150512Z",
     "shell.execute_reply": "2023-11-19T15:10:44.142344Z"
    }
   },
   "outputs": [
    {
     "data": {
      "text/plain": [
       "[1] 8 6 4 1 7 2 9 5 3"
      ]
     },
     "execution_count": 2,
     "metadata": {},
     "output_type": "execute_result"
    }
   ],
   "source": [
    "sample(1:9)"
   ]
  },
  {
   "cell_type": "code",
   "execution_count": 3,
   "metadata": {
    "execution": {
     "iopub.execute_input": "2023-11-19T15:10:44.170452Z",
     "iopub.status.busy": "2023-11-19T15:10:44.161180Z",
     "iopub.status.idle": "2023-11-19T15:10:44.210367Z",
     "shell.execute_reply": "2023-11-19T15:10:44.201986Z"
    }
   },
   "outputs": [
    {
     "data": {
      "text/plain": [
       " [1] 658 171 191 428 806 768 307 120 506 340 190 962 437 274 477 935 363 469 933\n",
       "[20]  79"
      ]
     },
     "execution_count": 3,
     "metadata": {},
     "output_type": "execute_result"
    }
   ],
   "source": [
    "sample(1:1000,size=20)"
   ]
  },
  {
   "cell_type": "code",
   "execution_count": 4,
   "metadata": {
    "execution": {
     "iopub.execute_input": "2023-11-19T15:10:44.231755Z",
     "iopub.status.busy": "2023-11-19T15:10:44.220326Z",
     "iopub.status.idle": "2023-11-19T15:10:44.266876Z",
     "shell.execute_reply": "2023-11-19T15:10:44.259778Z"
    }
   },
   "outputs": [
    {
     "data": {
      "text/plain": [
       " [1] 4 5 3 2 1 5 1 6 1 2"
      ]
     },
     "execution_count": 4,
     "metadata": {},
     "output_type": "execute_result"
    }
   ],
   "source": [
    "sample(6,size=10,replace=TRUE)"
   ]
  }
 ],
 "metadata": {
  "kernelspec": {
   "display_name": "R (RKernel)",
   "language": "R",
   "name": "rkernel"
  },
  "language_info": {
   "codemirror_mode": "R",
   "file_extension": ".R",
   "mimetype": "text/x-r-source",
   "name": "R",
   "pygments_lexer": "r",
   "version": "4.3.2"
  }
 },
 "nbformat": 4,
 "nbformat_minor": 4
}
