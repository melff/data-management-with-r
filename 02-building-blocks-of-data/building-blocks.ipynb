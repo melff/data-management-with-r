{
 "cells": [
  {
   "cell_type": "markdown",
   "id": "29e90a71-fbdb-4f7a-9afd-0fc2e1fafc4b",
   "metadata": {
    "execution": {
     "iopub.execute_input": "2023-11-19T14:57:48.891121Z",
     "iopub.status.busy": "2023-11-19T14:57:48.759603Z",
     "iopub.status.idle": "2023-11-19T14:57:49.091997Z",
     "shell.execute_reply": "2023-11-19T14:57:49.079054Z"
    }
   },
   "source": [
    "# Building Blocks of Data\n",
    "\n",
    "This chapter describes the most basic data types which all other data structures build on. It starts with simple numeric vectors which may e.g. contain series of measurement. It further discusses character vectors, i.e. sequences of character strings, logical vectors, i.e. sequences of `TRUE/FALSE` data, and finally lists. The chapter covers also how simple computations on such data can be conducted and simple summaries can be obtained form elementary data types. Finally the chapter discusses how data can be stored on disk in an _R_\\-specific format.\n",
    "\n",
    "Below is the supporting material for the various sections of the chapter.\n",
    "\n",
    "## Basic Data Types\n",
    "\n",
    "- [Numeric vectors](numeric-vectors.ipynb)\n",
    "- [Logical vectors](logical-vectors.ipynb)\n",
    "- [Character vectors](character-vectors.ipynb)\n",
    "- [Factors](factors.ipynb)\n",
    "\n",
    "## Basic Data Manipulation[¶](#basic-data-manipulation \"Permalink to this heading\")\n",
    "\n",
    "- [Extracting and replacing elements of a vector](extracting-and-replacing-elements.ipynb)\n",
    "- [Reordering and sorting elements of a vector](reordering-and-sorting.ipynb)\n",
    "- [Regular sequences](regular-sequences-and-repetitions.ipynb)\n",
    "- [Sampling from vectors](sampling-from-vectors.ipynb)\n",
    "\n",
    "## Complex Data Types[¶](#complex-data-types \"Permalink to this heading\")\n",
    "\n",
    "- [Lists](lists.ipynb)\n",
    "- [Attributes](attributes.ipynb)"
   ]
  },
  {
   "cell_type": "markdown",
   "id": "2a22f8c5-b100-4aad-b154-2fa6d560dfb1",
   "metadata": {},
   "source": []
  }
 ],
 "metadata": {
  "kernelspec": {
   "display_name": "R (RKernel)",
   "language": "R",
   "name": "rkernel"
  },
  "language_info": {
   "codemirror_mode": "R",
   "file_extension": ".R",
   "mimetype": "text/x-r-source",
   "name": "R",
   "pygments_lexer": "r",
   "version": "4.3.2"
  }
 },
 "nbformat": 4,
 "nbformat_minor": 5
}
