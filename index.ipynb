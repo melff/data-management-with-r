{
 "cells": [
  {
   "cell_type": "markdown",
   "id": "fcc8438b-2713-4f39-b056-194dc62c5543",
   "metadata": {},
   "source": [
    "# Data Management in R: A Guide for Social Scientists\n",
    "\n",
    "<img alt=\"DataManagement_in_R-huge.png\" class=\"align-right\" src=\"./DataManagement_in_R-huge.png\" style=\"width: 270px;\">\n",
    "\n",
    "This is supporting material for Elff, Martin. 2020. *Data Management with R: A Guide for Social Scientists.* [London: Sage Publications](https://uk.sagepub.com/en-gb/eur/data-management-in-r/book262942). The material consists of Jupyter notebooks, *R* scripts, and *R Markdown* files, collected into folders that correspond to the book chapters. Below you find a list of the book chapters, where each items links to an overview document that contains a table of contents for the chapter sections and links to the materials.\n",
    "\n",
    "- [Introduction](01-introduction/introduction.ipynb)\n",
    "- [Building Blocks of Data](02-building-blocks-of-data/building-blocks.ipynb)\n",
    "- [Data Frames and their Management](03-data-frames/data-frames.ipynb)\n",
    "- [Data Tables and the “Tidyverse”](04-data-tables-and-the-tidyverse/tidyverse.ipynb)\n",
    "- [Social Science Surveys](05-social-science-surveys/social-science-surveys.ipynb)\n",
    "- [Data from Complex Samples](06-complex-samples/complex-samples.ipynb)\n",
    "- [Dates, Times, and Time Series](07-dates-times-timeseries/temporal.ipynb)\n",
    "- [Spatial and Geographical data](08-spatial-geographical-data/spatial.ipynb)\n",
    "- [Text as Data](09-text-as-data/text.ipynb)\n",
    "\n",
    "If you prefer *RStudio* it is also possible to run the *R* scripts and *R Markdown* files a temporary [RStudio server instance](/user-redirect/rstudio). You can also get an [overview of all the files](/user-redirect/tree) or open the [full Jupyterlab interface](/user-redirect/lab/tree/index.ipynb).\n",
    "\n",
    "Note the material is encapsulated in an isolated container and will disappear after a certain period of inactivity or maximum lifetime. For anonymous users, the inactivity time out is 5 minutes and the maximum lifetime of all data is 15 minutes. If you are logged in using ORCID, \n",
    "the inactivity time out is 1 hour and the maximum data lifetime. Also note that the CPU usage is restricted. Do not use this container for production use! You can of course download all material and run it with your own [Jupyterlab desktop](https://github.com/jupyterlab/jupyterlab-desktop/releases/latest) or RStudio instance."
   ]
  }
 ],
 "metadata": {
  "kernelspec": {
   "display_name": "R (RKernel)",
   "language": "R",
   "name": "rkernel"
  },
  "language_info": {
   "codemirror_mode": "R",
   "file_extension": ".R",
   "mimetype": "text/x-r-source",
   "name": "R",
   "pygments_lexer": "r",
   "version": "4.3.2"
  }
 },
 "nbformat": 4,
 "nbformat_minor": 5
}
