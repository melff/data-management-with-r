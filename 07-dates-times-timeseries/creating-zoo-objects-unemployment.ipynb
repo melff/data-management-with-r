{
 "cells": [
  {
   "cell_type": "markdown",
   "metadata": {},
   "source": [
    "# Creating a \"zoo\" object from OECD unemployment data"
   ]
  },
  {
   "cell_type": "markdown",
   "metadata": {},
   "source": [
    "The data file [\"unemployment.csv\"](https://github.com/melff/dataman-r/raw/main/07-dates-times-timeseries/OECD-unemployment.R) used below consists of data originally downloaded from the [OECD Database website](https://data.oecd.org)."
   ]
  },
  {
   "cell_type": "code",
   "execution_count": 1,
   "metadata": {
    "execution": {
     "iopub.execute_input": "2023-11-19T21:21:35.145281Z",
     "iopub.status.busy": "2023-11-19T21:21:35.142820Z",
     "iopub.status.idle": "2023-11-19T21:21:35.156090Z",
     "shell.execute_reply": "2023-11-19T21:21:35.153332Z"
    }
   },
   "outputs": [],
   "source": [
    "unemployment <- read.csv(\"unemployment.csv\")"
   ]
  },
  {
   "cell_type": "markdown",
   "metadata": {},
   "source": [
    "The following makes use of the *zoo* package. You may need to install it from\n",
    "[CRAN](https://cran.r-project.org/package=zoo) using the code\n",
    "`install.packages(\"zoo\")` if you want to run this on your computer. (The\n",
    "package is already installed on the notebook container, however.)"
   ]
  },
  {
   "cell_type": "code",
   "execution_count": 2,
   "metadata": {
    "execution": {
     "iopub.execute_input": "2023-11-19T21:21:35.192470Z",
     "iopub.status.busy": "2023-11-19T21:21:35.160494Z",
     "iopub.status.idle": "2023-11-19T21:21:35.379207Z",
     "shell.execute_reply": "2023-11-19T21:21:35.376373Z"
    }
   },
   "outputs": [
    {
     "name": "stdout",
     "output_type": "stream",
     "text": [
      "\n",
      "Attaching package: ‘zoo’\n",
      "\n",
      "The following objects are masked from ‘package:base’:\n",
      "\n",
      "    as.Date, as.Date.numeric\n",
      "\n"
     ]
    }
   ],
   "source": [
    "library(zoo)"
   ]
  },
  {
   "cell_type": "code",
   "execution_count": 3,
   "metadata": {
    "execution": {
     "iopub.execute_input": "2023-11-19T21:21:35.387823Z",
     "iopub.status.busy": "2023-11-19T21:21:35.384052Z",
     "iopub.status.idle": "2023-11-19T21:21:35.401082Z",
     "shell.execute_reply": "2023-11-19T21:21:35.396750Z"
    }
   },
   "outputs": [],
   "source": [
    "unemployment.z <- zoo(unemployment[,2:7],\n",
    "                      order.by=as.Date(\n",
    "                          ISOdate(year=unemployment[,1],\n",
    "                                  month=12,\n",
    "                                  day=31)))"
   ]
  },
  {
   "cell_type": "code",
   "execution_count": 4,
   "metadata": {
    "execution": {
     "iopub.execute_input": "2023-11-19T21:21:35.410787Z",
     "iopub.status.busy": "2023-11-19T21:21:35.407064Z",
     "iopub.status.idle": "2023-11-19T21:21:35.427834Z",
     "shell.execute_reply": "2023-11-19T21:21:35.423386Z"
    }
   },
   "outputs": [
    {
     "data": {
      "text/plain": [
       "[1] 30  6"
      ]
     },
     "execution_count": 4,
     "metadata": {},
     "output_type": "execute_result"
    }
   ],
   "source": [
    "dim(unemployment.z)"
   ]
  },
  {
   "cell_type": "code",
   "execution_count": 5,
   "metadata": {
    "execution": {
     "iopub.execute_input": "2023-11-19T21:21:35.437591Z",
     "iopub.status.busy": "2023-11-19T21:21:35.433836Z",
     "iopub.status.idle": "2023-11-19T21:21:35.451711Z",
     "shell.execute_reply": "2023-11-19T21:21:35.448651Z"
    }
   },
   "outputs": [
    {
     "data": {
      "text/plain": [
       "[1] \"zoo\""
      ]
     },
     "execution_count": 5,
     "metadata": {},
     "output_type": "execute_result"
    }
   ],
   "source": [
    "class(unemployment.z)"
   ]
  },
  {
   "cell_type": "code",
   "execution_count": 6,
   "metadata": {
    "execution": {
     "iopub.execute_input": "2023-11-19T21:21:35.461884Z",
     "iopub.status.busy": "2023-11-19T21:21:35.459408Z",
     "iopub.status.idle": "2023-11-19T21:21:35.474945Z",
     "shell.execute_reply": "2023-11-19T21:21:35.471785Z"
    }
   },
   "outputs": [
    {
     "data": {
      "text/plain": [
       "           Germany France Italy Netherlands Belgium Luxembourg\n",
       "1970-12-31   0.557  2.477 4.000       0.868   1.913         NA\n",
       "1971-12-31   0.689  2.712 4.001       1.213   1.848         NA\n",
       "1972-12-31   0.912  2.806 4.711       2.114   2.350         NA\n",
       "1973-12-31   1.000  2.690 4.691       2.151   2.408         NA\n",
       "1974-12-31   2.132  2.853 3.942       2.624   2.523      0.067\n",
       "1975-12-31   3.965  4.028 4.312       3.772   4.522      0.200"
      ]
     },
     "execution_count": 6,
     "metadata": {},
     "output_type": "execute_result"
    }
   ],
   "source": [
    "head(unemployment.z)"
   ]
  },
  {
   "cell_type": "code",
   "execution_count": 7,
   "metadata": {
    "execution": {
     "iopub.execute_input": "2023-11-19T21:21:35.483456Z",
     "iopub.status.busy": "2023-11-19T21:21:35.480844Z",
     "iopub.status.idle": "2023-11-19T21:21:35.495027Z",
     "shell.execute_reply": "2023-11-19T21:21:35.492160Z"
    }
   },
   "outputs": [
    {
     "data": {
      "text/plain": [
       "[1] \"1970-12-31\""
      ]
     },
     "execution_count": 7,
     "metadata": {},
     "output_type": "execute_result"
    }
   ],
   "source": [
    "start(unemployment.z)"
   ]
  },
  {
   "cell_type": "code",
   "execution_count": 8,
   "metadata": {
    "execution": {
     "iopub.execute_input": "2023-11-19T21:21:35.502465Z",
     "iopub.status.busy": "2023-11-19T21:21:35.499645Z",
     "iopub.status.idle": "2023-11-19T21:21:35.514547Z",
     "shell.execute_reply": "2023-11-19T21:21:35.511810Z"
    }
   },
   "outputs": [
    {
     "data": {
      "text/plain": [
       "[1] \"1999-12-31\""
      ]
     },
     "execution_count": 8,
     "metadata": {},
     "output_type": "execute_result"
    }
   ],
   "source": [
    "end(unemployment.z)"
   ]
  },
  {
   "cell_type": "code",
   "execution_count": 9,
   "metadata": {
    "execution": {
     "iopub.execute_input": "2023-11-19T21:21:35.521738Z",
     "iopub.status.busy": "2023-11-19T21:21:35.518991Z",
     "iopub.status.idle": "2023-11-19T21:21:35.535075Z",
     "shell.execute_reply": "2023-11-19T21:21:35.532171Z"
    }
   },
   "outputs": [
    {
     "data": {
      "text/plain": [
       "Time difference of 10592 days"
      ]
     },
     "execution_count": 9,
     "metadata": {},
     "output_type": "execute_result"
    }
   ],
   "source": [
    "end(unemployment.z) - start(unemployment.z)"
   ]
  },
  {
   "cell_type": "code",
   "execution_count": 10,
   "metadata": {
    "execution": {
     "iopub.execute_input": "2023-11-19T21:21:35.542150Z",
     "iopub.status.busy": "2023-11-19T21:21:35.539602Z",
     "iopub.status.idle": "2023-11-19T21:21:35.551368Z",
     "shell.execute_reply": "2023-11-19T21:21:35.547959Z"
    }
   },
   "outputs": [],
   "source": [
    "# Saved for later use:\n",
    "save(unemployment.z,file=\"unemployment-z.RData\")"
   ]
  }
 ],
 "metadata": {
  "kernelspec": {
   "display_name": "R (RKernel)",
   "language": "R",
   "name": "rkernel"
  },
  "language_info": {
   "codemirror_mode": "R",
   "file_extension": ".R",
   "mimetype": "text/x-r-source",
   "name": "R",
   "pygments_lexer": "r",
   "version": "4.3.2"
  }
 },
 "nbformat": 4,
 "nbformat_minor": 4
}
