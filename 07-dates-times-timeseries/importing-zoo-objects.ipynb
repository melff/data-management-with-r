{
 "cells": [
  {
   "cell_type": "markdown",
   "metadata": {},
   "source": [
    "# Importing data into \"zoo\" objects"
   ]
  },
  {
   "cell_type": "markdown",
   "metadata": {},
   "source": [
    "The following makes use of the *zoo* package. You may need to install it from\n",
    "[CRAN](https://cran.r-project.org/package=zoo) using the code\n",
    "`install.packages(\"zoo\")` if you want to run this on your computer. (The\n",
    "package is already installed on the notebook container, however.)"
   ]
  },
  {
   "cell_type": "code",
   "execution_count": 1,
   "metadata": {
    "execution": {
     "iopub.execute_input": "2023-11-19T21:28:33.660588Z",
     "iopub.status.busy": "2023-11-19T21:28:33.658061Z",
     "iopub.status.idle": "2023-11-19T21:28:33.730160Z",
     "shell.execute_reply": "2023-11-19T21:28:33.727306Z"
    }
   },
   "outputs": [
    {
     "name": "stdout",
     "output_type": "stream",
     "text": [
      "\n",
      "Attaching package: ‘zoo’\n",
      "\n",
      "The following objects are masked from ‘package:base’:\n",
      "\n",
      "    as.Date, as.Date.numeric\n",
      "\n"
     ]
    }
   ],
   "source": [
    "library(zoo)"
   ]
  },
  {
   "cell_type": "markdown",
   "metadata": {},
   "source": [
    "The data file [\"unemployment.csv\"](https://github.com/melff/dataman-r/raw/main/07-dates-times-timeseries/OECD-unemployment.R) used below consists of data originally downloaded from the [OECD Database website](https://data.oecd.org)."
   ]
  },
  {
   "cell_type": "code",
   "execution_count": 2,
   "metadata": {
    "execution": {
     "iopub.execute_input": "2023-11-19T21:28:33.762941Z",
     "iopub.status.busy": "2023-11-19T21:28:33.734424Z",
     "iopub.status.idle": "2023-11-19T21:28:33.865575Z",
     "shell.execute_reply": "2023-11-19T21:28:33.862821Z"
    }
   },
   "outputs": [
    {
     "name": "stdout",
     "output_type": "stream",
     "text": [
      "‘zoo’ series from 1970 to 1999\n",
      "  Data: num [1:30, 1:29] 0.557 0.689 0.912 1 2.132 ...\n",
      " - attr(*, \"dimnames\")=List of 2\n",
      "  ..$ : NULL\n",
      "  ..$ : chr [1:29] \"Germany\" \"France\" \"Italy\" \"Netherlands\" ...\n",
      "  Index:  int [1:30] 1970 1971 1972 1973 1974 1975 1976 1977 1978 1979 ...\n"
     ]
    }
   ],
   "source": [
    "unemployment_z <- read.csv.zoo(\"unemployment.csv\")\n",
    "str(unemployment_z)"
   ]
  },
  {
   "cell_type": "code",
   "execution_count": 3,
   "metadata": {
    "execution": {
     "iopub.execute_input": "2023-11-19T21:28:33.872397Z",
     "iopub.status.busy": "2023-11-19T21:28:33.869883Z",
     "iopub.status.idle": "2023-11-19T21:28:33.888146Z",
     "shell.execute_reply": "2023-11-19T21:28:33.885447Z"
    }
   },
   "outputs": [
    {
     "data": {
      "text/plain": [
       "2012-01-06 2012-01-07 2012-01-08 \n",
       "        20         30         40 "
      ]
     },
     "execution_count": 3,
     "metadata": {},
     "output_type": "execute_result"
    }
   ],
   "source": [
    "Text <- \"2012/1/6 20\n",
    "2012/1/7 30\n",
    "2012/1/8 40\n",
    "\"\n",
    "read.zoo(text=Text)"
   ]
  },
  {
   "cell_type": "code",
   "execution_count": 4,
   "metadata": {
    "execution": {
     "iopub.execute_input": "2023-11-19T21:28:33.895264Z",
     "iopub.status.busy": "2023-11-19T21:28:33.892535Z",
     "iopub.status.idle": "2023-11-19T21:28:33.911365Z",
     "shell.execute_reply": "2023-11-19T21:28:33.905441Z"
    }
   },
   "outputs": [
    {
     "data": {
      "text/plain": [
       "2012-01-06 2012-01-07 2012-01-08 \n",
       "        20         30         40 "
      ]
     },
     "execution_count": 4,
     "metadata": {},
     "output_type": "execute_result"
    }
   ],
   "source": [
    "read.zoo(text=Text,format=\"%Y/%m/%d\")"
   ]
  },
  {
   "cell_type": "code",
   "execution_count": 5,
   "metadata": {
    "execution": {
     "iopub.execute_input": "2023-11-19T21:28:33.918178Z",
     "iopub.status.busy": "2023-11-19T21:28:33.915720Z",
     "iopub.status.idle": "2023-11-19T21:28:33.932025Z",
     "shell.execute_reply": "2023-11-19T21:28:33.929095Z"
    }
   },
   "outputs": [
    {
     "data": {
      "text/plain": [
       "                    x  y\n",
       "2011-05-08 22:45:21 4 41\n",
       "2011-05-08 22:45:22 5 42\n",
       "2011-05-08 22:45:23 5 42\n",
       "2011-05-08 22:45:24 6 43"
      ]
     },
     "execution_count": 5,
     "metadata": {},
     "output_type": "execute_result"
    }
   ],
   "source": [
    "Text <- \"date,time,x,y\n",
    "2011-05-08,22:45:21,4,41\n",
    "2011-05-08,22:45:22,5,42\n",
    "2011-05-08,22:45:23,5,42\n",
    "2011-05-08,22:45:24,6,43\n",
    "\"\n",
    "zobj <- read.csv.zoo(text=Text,\n",
    "                     index.column=1:2)\n",
    "zobj"
   ]
  }
 ],
 "metadata": {
  "kernelspec": {
   "display_name": "R (RKernel)",
   "language": "R",
   "name": "rkernel"
  },
  "language_info": {
   "codemirror_mode": "R",
   "file_extension": ".R",
   "mimetype": "text/x-r-source",
   "name": "R",
   "pygments_lexer": "r",
   "version": "4.3.2"
  }
 },
 "nbformat": 4,
 "nbformat_minor": 4
}
