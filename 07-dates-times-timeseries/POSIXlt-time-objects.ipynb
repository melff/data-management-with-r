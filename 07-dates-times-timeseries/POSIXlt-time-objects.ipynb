{
 "cells": [
  {
   "cell_type": "markdown",
   "metadata": {},
   "source": [
    "# POSIXlt time objects"
   ]
  },
  {
   "cell_type": "code",
   "execution_count": 1,
   "metadata": {
    "execution": {
     "iopub.execute_input": "2023-11-19T21:14:24.427558Z",
     "iopub.status.busy": "2023-11-19T21:14:24.425117Z",
     "iopub.status.idle": "2023-11-19T21:14:24.436691Z",
     "shell.execute_reply": "2023-11-19T21:14:24.434056Z"
    }
   },
   "outputs": [],
   "source": [
    "t0 <- as.POSIXlt(0,origin=\"2020-02-01\",tz=\"GMT\")"
   ]
  },
  {
   "cell_type": "code",
   "execution_count": 2,
   "metadata": {
    "execution": {
     "iopub.execute_input": "2023-11-19T21:14:24.472992Z",
     "iopub.status.busy": "2023-11-19T21:14:24.441179Z",
     "iopub.status.idle": "2023-11-19T21:14:24.571990Z",
     "shell.execute_reply": "2023-11-19T21:14:24.569233Z"
    }
   },
   "outputs": [
    {
     "data": {
      "text/plain": [
       "[1] \"2020-02-01 01:00:30 GMT\""
      ]
     },
     "execution_count": 2,
     "metadata": {},
     "output_type": "execute_result"
    }
   ],
   "source": [
    "(t1 <- as.POSIXlt(t0 + 3630))"
   ]
  },
  {
   "cell_type": "code",
   "execution_count": 3,
   "metadata": {
    "execution": {
     "iopub.execute_input": "2023-11-19T21:14:24.578843Z",
     "iopub.status.busy": "2023-11-19T21:14:24.576359Z",
     "iopub.status.idle": "2023-11-19T21:14:24.590068Z",
     "shell.execute_reply": "2023-11-19T21:14:24.587354Z"
    }
   },
   "outputs": [
    {
     "data": {
      "text/plain": [
       "[1] 30"
      ]
     },
     "execution_count": 3,
     "metadata": {},
     "output_type": "execute_result"
    }
   ],
   "source": [
    "# Get the seconds component of the time point\n",
    "t1$sec"
   ]
  },
  {
   "cell_type": "code",
   "execution_count": 4,
   "metadata": {
    "execution": {
     "iopub.execute_input": "2023-11-19T21:14:24.596877Z",
     "iopub.status.busy": "2023-11-19T21:14:24.594423Z",
     "iopub.status.idle": "2023-11-19T21:14:24.608053Z",
     "shell.execute_reply": "2023-11-19T21:14:24.605151Z"
    }
   },
   "outputs": [
    {
     "data": {
      "text/plain": [
       "[1] 0"
      ]
     },
     "execution_count": 4,
     "metadata": {},
     "output_type": "execute_result"
    }
   ],
   "source": [
    "# Get the minutes component of the time point\n",
    "t1$min"
   ]
  },
  {
   "cell_type": "code",
   "execution_count": 5,
   "metadata": {
    "execution": {
     "iopub.execute_input": "2023-11-19T21:14:24.614907Z",
     "iopub.status.busy": "2023-11-19T21:14:24.612424Z",
     "iopub.status.idle": "2023-11-19T21:14:24.625488Z",
     "shell.execute_reply": "2023-11-19T21:14:24.622821Z"
    }
   },
   "outputs": [
    {
     "data": {
      "text/plain": [
       "[1] 1"
      ]
     },
     "execution_count": 5,
     "metadata": {},
     "output_type": "execute_result"
    }
   ],
   "source": [
    "# Get the hours component\n",
    "t1$hour"
   ]
  },
  {
   "cell_type": "code",
   "execution_count": 6,
   "metadata": {
    "execution": {
     "iopub.execute_input": "2023-11-19T21:14:24.632743Z",
     "iopub.status.busy": "2023-11-19T21:14:24.630098Z",
     "iopub.status.idle": "2023-11-19T21:14:24.643471Z",
     "shell.execute_reply": "2023-11-19T21:14:24.640791Z"
    }
   },
   "outputs": [
    {
     "data": {
      "text/plain": [
       "[1] 1"
      ]
     },
     "execution_count": 6,
     "metadata": {},
     "output_type": "execute_result"
    }
   ],
   "source": [
    "# Get the day(s) of the month\n",
    "t1$mday"
   ]
  },
  {
   "cell_type": "code",
   "execution_count": 7,
   "metadata": {
    "execution": {
     "iopub.execute_input": "2023-11-19T21:14:24.650296Z",
     "iopub.status.busy": "2023-11-19T21:14:24.647825Z",
     "iopub.status.idle": "2023-11-19T21:14:24.661527Z",
     "shell.execute_reply": "2023-11-19T21:14:24.658796Z"
    }
   },
   "outputs": [
    {
     "data": {
      "text/plain": [
       "[1] 1"
      ]
     },
     "execution_count": 7,
     "metadata": {},
     "output_type": "execute_result"
    }
   ],
   "source": [
    "# Get the (numeric) month\n",
    "t1$mon"
   ]
  },
  {
   "cell_type": "code",
   "execution_count": 8,
   "metadata": {
    "execution": {
     "iopub.execute_input": "2023-11-19T21:14:24.670935Z",
     "iopub.status.busy": "2023-11-19T21:14:24.666051Z",
     "iopub.status.idle": "2023-11-19T21:14:24.681982Z",
     "shell.execute_reply": "2023-11-19T21:14:24.679216Z"
    }
   },
   "outputs": [
    {
     "data": {
      "text/plain": [
       "[1] 120"
      ]
     },
     "execution_count": 8,
     "metadata": {},
     "output_type": "execute_result"
    }
   ],
   "source": [
    "# Get the (numeric) year\n",
    "t1$year"
   ]
  },
  {
   "cell_type": "code",
   "execution_count": 9,
   "metadata": {
    "execution": {
     "iopub.execute_input": "2023-11-19T21:14:24.688833Z",
     "iopub.status.busy": "2023-11-19T21:14:24.686384Z",
     "iopub.status.idle": "2023-11-19T21:14:24.699549Z",
     "shell.execute_reply": "2023-11-19T21:14:24.696794Z"
    }
   },
   "outputs": [
    {
     "data": {
      "text/plain": [
       "[1] 6"
      ]
     },
     "execution_count": 9,
     "metadata": {},
     "output_type": "execute_result"
    }
   ],
   "source": [
    "# Get the (numeric) day of the week\n",
    "t1$wday"
   ]
  }
 ],
 "metadata": {
  "kernelspec": {
   "display_name": "R (RKernel)",
   "language": "R",
   "name": "rkernel"
  },
  "language_info": {
   "codemirror_mode": "R",
   "file_extension": ".R",
   "mimetype": "text/x-r-source",
   "name": "R",
   "pygments_lexer": "r",
   "version": "4.3.2"
  }
 },
 "nbformat": 4,
 "nbformat_minor": 4
}
