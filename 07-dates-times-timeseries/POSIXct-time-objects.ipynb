{
 "cells": [
  {
   "cell_type": "markdown",
   "metadata": {},
   "source": [
    "# POSIXct time objects"
   ]
  },
  {
   "cell_type": "code",
   "execution_count": 1,
   "metadata": {
    "execution": {
     "iopub.execute_input": "2023-11-19T21:13:41.737085Z",
     "iopub.status.busy": "2023-11-19T21:13:41.734683Z",
     "iopub.status.idle": "2023-11-19T21:13:41.785835Z",
     "shell.execute_reply": "2023-11-19T21:13:41.783138Z"
    }
   },
   "outputs": [
    {
     "data": {
      "text/plain": [
       "[1] \"1970-01-01 03:00:00 CET\""
      ]
     },
     "execution_count": 1,
     "metadata": {},
     "output_type": "execute_result"
    }
   ],
   "source": [
    "as.POSIXct(7200,origin=\"1970-01-01\")"
   ]
  },
  {
   "cell_type": "code",
   "execution_count": 2,
   "metadata": {
    "execution": {
     "iopub.execute_input": "2023-11-19T21:13:41.819753Z",
     "iopub.status.busy": "2023-11-19T21:13:41.790172Z",
     "iopub.status.idle": "2023-11-19T21:13:41.884979Z",
     "shell.execute_reply": "2023-11-19T21:13:41.882210Z"
    }
   },
   "outputs": [],
   "source": [
    "t0 <- as.POSIXct(7200,origin=\"1970-01-01\",tz=\"GMT\")\n",
    "t0 <- as.POSIXct(7200,origin=\"1970-01-01\")\n",
    "attr(t0,\"tzone\") <- \"GMT\"   "
   ]
  },
  {
   "cell_type": "code",
   "execution_count": 3,
   "metadata": {
    "execution": {
     "iopub.execute_input": "2023-11-19T21:13:41.892498Z",
     "iopub.status.busy": "2023-11-19T21:13:41.889587Z",
     "iopub.status.idle": "2023-11-19T21:13:41.904159Z",
     "shell.execute_reply": "2023-11-19T21:13:41.901457Z"
    }
   },
   "outputs": [
    {
     "data": {
      "text/plain": [
       "[1] \"1997-11-12 12:45:00 GMT\" \"1998-01-23 14:20:00 GMT\""
      ]
     },
     "execution_count": 3,
     "metadata": {},
     "output_type": "execute_result"
    }
   ],
   "source": [
    "as.POSIXct(c(\"97/11/12 12:45\",\"98/01/23 14:20\"),\n",
    "           format=\"%y/%m/%d %H:%M\",tz=\"GMT\")"
   ]
  }
 ],
 "metadata": {
  "kernelspec": {
   "display_name": "R (RKernel)",
   "language": "R",
   "name": "rkernel"
  },
  "language_info": {
   "codemirror_mode": "R",
   "file_extension": ".R",
   "mimetype": "text/x-r-source",
   "name": "R",
   "pygments_lexer": "r",
   "version": "4.3.2"
  }
 },
 "nbformat": 4,
 "nbformat_minor": 4
}
