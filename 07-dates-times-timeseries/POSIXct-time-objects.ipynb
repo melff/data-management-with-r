{
 "cells": [
  {
   "cell_type": "markdown",
   "metadata": {},
   "source": [
    "# POSIXct time objects"
   ]
  },
  {
   "cell_type": "code",
   "execution_count": null,
   "metadata": {},
   "outputs": [],
   "source": [
    "as.POSIXct(7200,origin=\"1970-01-01\")"
   ]
  },
  {
   "cell_type": "code",
   "execution_count": null,
   "metadata": {},
   "outputs": [],
   "source": [
    "t0 <- as.POSIXct(7200,origin=\"1970-01-01\",tz=\"GMT\")\n",
    "t0 <- as.POSIXct(7200,origin=\"1970-01-01\")\n",
    "attr(t0,\"tzone\") <- \"GMT\"   "
   ]
  },
  {
   "cell_type": "code",
   "execution_count": null,
   "metadata": {},
   "outputs": [],
   "source": [
    "as.POSIXct(c(\"97/11/12 12:45\",\"98/01/23 14:20\"),\n",
    "           format=\"%y/%m/%d %H:%M\",tz=\"GMT\")"
   ]
  }
 ],
 "metadata": {
  "kernelspec": {
   "display_name": "R",
   "language": "R",
   "name": "ir"
  },
  "language_info": {
   "codemirror_mode": "r",
   "file_extension": ".r",
   "mimetype": "text/x-r-source",
   "name": "R",
   "pygments_lexer": "r",
   "version": "4.0.5"
  }
 },
 "nbformat": 4,
 "nbformat_minor": 4
}
