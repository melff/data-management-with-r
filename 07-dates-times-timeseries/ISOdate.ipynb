{
 "cells": [
  {
   "cell_type": "markdown",
   "metadata": {},
   "source": [
    "# Creation of date and time data for given years, months, and days"
   ]
  },
  {
   "cell_type": "code",
   "execution_count": 1,
   "metadata": {},
   "outputs": [],
   "source": [
    "options(jupyter.rich_display=FALSE) # Create output as usual in R"
   ]
  },
  {
   "cell_type": "code",
   "execution_count": 2,
   "metadata": {},
   "outputs": [
    {
     "data": {
      "text/plain": [
       " [1] \"2000-01-01 12:00:00 GMT\" \"2000-02-01 12:00:00 GMT\"\n",
       " [3] \"2000-03-01 12:00:00 GMT\" \"2000-04-01 12:00:00 GMT\"\n",
       " [5] \"2000-05-01 12:00:00 GMT\" \"2000-06-01 12:00:00 GMT\"\n",
       " [7] \"2000-07-01 12:00:00 GMT\" \"2000-08-01 12:00:00 GMT\"\n",
       " [9] \"2000-09-01 12:00:00 GMT\" \"2000-10-01 12:00:00 GMT\"\n",
       "[11] \"2000-11-01 12:00:00 GMT\" \"2000-12-01 12:00:00 GMT\""
      ]
     },
     "metadata": {},
     "output_type": "display_data"
    }
   ],
   "source": [
    "# Here we create the first days of all months in the year 2000:\n",
    "# By default the time is noon\n",
    "ISOdate(2000,1:12,1)"
   ]
  },
  {
   "cell_type": "code",
   "execution_count": 3,
   "metadata": {},
   "outputs": [
    {
     "data": {
      "text/plain": [
       " [1] \"2000-01-01 GMT\" \"2000-02-01 GMT\" \"2000-03-01 GMT\" \"2000-04-01 GMT\"\n",
       " [5] \"2000-05-01 GMT\" \"2000-06-01 GMT\" \"2000-07-01 GMT\" \"2000-08-01 GMT\"\n",
       " [9] \"2000-09-01 GMT\" \"2000-10-01 GMT\" \"2000-11-01 GMT\" \"2000-12-01 GMT\""
      ]
     },
     "metadata": {},
     "output_type": "display_data"
    }
   ],
   "source": [
    "# To get the start of the date we have to set the hour to midnight:\n",
    "ISOdate(2000,1:12,1,hour=0)"
   ]
  },
  {
   "cell_type": "code",
   "execution_count": 4,
   "metadata": {},
   "outputs": [
    {
     "data": {
      "text/plain": [
       " [1] \"2000-02-01 GMT\" \"2000-02-02 GMT\" \"2000-02-03 GMT\" \"2000-02-04 GMT\"\n",
       " [5] \"2000-02-05 GMT\" \"2000-02-06 GMT\" \"2000-02-07 GMT\" \"2000-02-08 GMT\"\n",
       " [9] \"2000-02-09 GMT\" \"2000-02-10 GMT\" \"2000-02-11 GMT\" \"2000-02-12 GMT\"\n",
       "[13] \"2000-02-13 GMT\" \"2000-02-14 GMT\" \"2000-02-15 GMT\" \"2000-02-16 GMT\"\n",
       "[17] \"2000-02-17 GMT\" \"2000-02-18 GMT\" \"2000-02-19 GMT\" \"2000-02-20 GMT\"\n",
       "[21] \"2000-02-21 GMT\" \"2000-02-22 GMT\" \"2000-02-23 GMT\" \"2000-02-24 GMT\"\n",
       "[25] \"2000-02-25 GMT\" \"2000-02-26 GMT\" \"2000-02-27 GMT\" \"2000-02-28 GMT\"\n",
       "[29] \"2000-02-29 GMT\""
      ]
     },
     "metadata": {},
     "output_type": "display_data"
    }
   ],
   "source": [
    "# We can of course also create a sequence of days:\n",
    "ISOdate(2000,2,1:29,hour=0)"
   ]
  },
  {
   "cell_type": "code",
   "execution_count": 5,
   "metadata": {},
   "outputs": [
    {
     "data": {
      "text/plain": [
       "[1] \"2000-02-29 GMT\" NA               NA              "
      ]
     },
     "metadata": {},
     "output_type": "display_data"
    }
   ],
   "source": [
    "# 'Impossible' dates result in NA:\n",
    "ISOdate(2000,2,29:31,hour=0)"
   ]
  }
 ],
 "metadata": {
  "kernelspec": {
   "display_name": "R",
   "language": "R",
   "name": "ir"
  },
  "language_info": {
   "codemirror_mode": "r",
   "file_extension": ".r",
   "mimetype": "text/x-r-source",
   "name": "R",
   "pygments_lexer": "r",
   "version": "4.0.4"
  }
 },
 "nbformat": 4,
 "nbformat_minor": 4
}
