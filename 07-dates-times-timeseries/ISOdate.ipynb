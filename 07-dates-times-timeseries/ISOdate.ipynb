{
 "cells": [
  {
   "cell_type": "markdown",
   "metadata": {},
   "source": [
    "# Creation of date and time data for given years, months, and days"
   ]
  },
  {
   "cell_type": "code",
   "execution_count": 1,
   "metadata": {
    "execution": {
     "iopub.execute_input": "2023-11-19T21:14:46.953000Z",
     "iopub.status.busy": "2023-11-19T21:14:46.950501Z",
     "iopub.status.idle": "2023-11-19T21:14:47.001766Z",
     "shell.execute_reply": "2023-11-19T21:14:46.998957Z"
    }
   },
   "outputs": [
    {
     "data": {
      "text/plain": [
       " [1] \"2000-01-01 12:00:00 GMT\" \"2000-02-01 12:00:00 GMT\"\n",
       " [3] \"2000-03-01 12:00:00 GMT\" \"2000-04-01 12:00:00 GMT\"\n",
       " [5] \"2000-05-01 12:00:00 GMT\" \"2000-06-01 12:00:00 GMT\"\n",
       " [7] \"2000-07-01 12:00:00 GMT\" \"2000-08-01 12:00:00 GMT\"\n",
       " [9] \"2000-09-01 12:00:00 GMT\" \"2000-10-01 12:00:00 GMT\"\n",
       "[11] \"2000-11-01 12:00:00 GMT\" \"2000-12-01 12:00:00 GMT\""
      ]
     },
     "execution_count": 1,
     "metadata": {},
     "output_type": "execute_result"
    }
   ],
   "source": [
    "# Here we create the first days of all months in the year 2000:\n",
    "# By default the time is noon\n",
    "ISOdate(2000,1:12,1)"
   ]
  },
  {
   "cell_type": "code",
   "execution_count": 2,
   "metadata": {
    "execution": {
     "iopub.execute_input": "2023-11-19T21:14:47.035270Z",
     "iopub.status.busy": "2023-11-19T21:14:47.006051Z",
     "iopub.status.idle": "2023-11-19T21:14:47.106008Z",
     "shell.execute_reply": "2023-11-19T21:14:47.103177Z"
    }
   },
   "outputs": [
    {
     "data": {
      "text/plain": [
       " [1] \"2000-01-01 GMT\" \"2000-02-01 GMT\" \"2000-03-01 GMT\" \"2000-04-01 GMT\"\n",
       " [5] \"2000-05-01 GMT\" \"2000-06-01 GMT\" \"2000-07-01 GMT\" \"2000-08-01 GMT\"\n",
       " [9] \"2000-09-01 GMT\" \"2000-10-01 GMT\" \"2000-11-01 GMT\" \"2000-12-01 GMT\""
      ]
     },
     "execution_count": 2,
     "metadata": {},
     "output_type": "execute_result"
    }
   ],
   "source": [
    "# To get the start of the date we have to set the hour to midnight:\n",
    "ISOdate(2000,1:12,1,hour=0)"
   ]
  },
  {
   "cell_type": "code",
   "execution_count": 3,
   "metadata": {
    "execution": {
     "iopub.execute_input": "2023-11-19T21:14:47.112864Z",
     "iopub.status.busy": "2023-11-19T21:14:47.110362Z",
     "iopub.status.idle": "2023-11-19T21:14:47.125336Z",
     "shell.execute_reply": "2023-11-19T21:14:47.122504Z"
    }
   },
   "outputs": [
    {
     "data": {
      "text/plain": [
       " [1] \"2000-02-01 GMT\" \"2000-02-02 GMT\" \"2000-02-03 GMT\" \"2000-02-04 GMT\"\n",
       " [5] \"2000-02-05 GMT\" \"2000-02-06 GMT\" \"2000-02-07 GMT\" \"2000-02-08 GMT\"\n",
       " [9] \"2000-02-09 GMT\" \"2000-02-10 GMT\" \"2000-02-11 GMT\" \"2000-02-12 GMT\"\n",
       "[13] \"2000-02-13 GMT\" \"2000-02-14 GMT\" \"2000-02-15 GMT\" \"2000-02-16 GMT\"\n",
       "[17] \"2000-02-17 GMT\" \"2000-02-18 GMT\" \"2000-02-19 GMT\" \"2000-02-20 GMT\"\n",
       "[21] \"2000-02-21 GMT\" \"2000-02-22 GMT\" \"2000-02-23 GMT\" \"2000-02-24 GMT\"\n",
       "[25] \"2000-02-25 GMT\" \"2000-02-26 GMT\" \"2000-02-27 GMT\" \"2000-02-28 GMT\"\n",
       "[29] \"2000-02-29 GMT\""
      ]
     },
     "execution_count": 3,
     "metadata": {},
     "output_type": "execute_result"
    }
   ],
   "source": [
    "# We can of course also create a sequence of days:\n",
    "ISOdate(2000,2,1:29,hour=0)"
   ]
  },
  {
   "cell_type": "code",
   "execution_count": 4,
   "metadata": {
    "execution": {
     "iopub.execute_input": "2023-11-19T21:14:47.132307Z",
     "iopub.status.busy": "2023-11-19T21:14:47.129808Z",
     "iopub.status.idle": "2023-11-19T21:14:47.144517Z",
     "shell.execute_reply": "2023-11-19T21:14:47.141669Z"
    }
   },
   "outputs": [
    {
     "data": {
      "text/plain": [
       "[1] \"2000-02-29 GMT\" NA               NA              "
      ]
     },
     "execution_count": 4,
     "metadata": {},
     "output_type": "execute_result"
    }
   ],
   "source": [
    "# 'Impossible' dates result in NA:\n",
    "ISOdate(2000,2,29:31,hour=0)"
   ]
  }
 ],
 "metadata": {
  "kernelspec": {
   "display_name": "R (RKernel)",
   "language": "R",
   "name": "rkernel"
  },
  "language_info": {
   "codemirror_mode": "R",
   "file_extension": ".R",
   "mimetype": "text/x-r-source",
   "name": "R",
   "pygments_lexer": "r",
   "version": "4.3.2"
  }
 },
 "nbformat": 4,
 "nbformat_minor": 4
}
