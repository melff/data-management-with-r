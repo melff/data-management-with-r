{
 "cells": [
  {
   "cell_type": "markdown",
   "metadata": {},
   "source": [
    "# Merging (multivariate) time series"
   ]
  },
  {
   "cell_type": "markdown",
   "metadata": {},
   "source": [
    "The following makes use of the *zoo* package. You may need to install it from\n",
    "[CRAN](https://cran.r-project.org/package=zoo) using the code\n",
    "`install.packages(\"zoo\")` if you want to run this on your computer. (The\n",
    "package is already installed on the notebook container, however.)"
   ]
  },
  {
   "cell_type": "code",
   "execution_count": 1,
   "metadata": {
    "execution": {
     "iopub.execute_input": "2023-11-19T21:27:32.749640Z",
     "iopub.status.busy": "2023-11-19T21:27:32.747270Z",
     "iopub.status.idle": "2023-11-19T21:27:32.826278Z",
     "shell.execute_reply": "2023-11-19T21:27:32.823289Z"
    }
   },
   "outputs": [
    {
     "name": "stdout",
     "output_type": "stream",
     "text": [
      "\n",
      "Attaching package: ‘zoo’\n",
      "\n",
      "The following objects are masked from ‘package:base’:\n",
      "\n",
      "    as.Date, as.Date.numeric\n",
      "\n"
     ]
    }
   ],
   "source": [
    "library(zoo)"
   ]
  },
  {
   "cell_type": "markdown",
   "metadata": {},
   "source": [
    "The file \"zpresidents.RData\" was created in an earlier example."
   ]
  },
  {
   "cell_type": "code",
   "execution_count": 2,
   "metadata": {
    "execution": {
     "iopub.execute_input": "2023-11-19T21:27:32.858870Z",
     "iopub.status.busy": "2023-11-19T21:27:32.830543Z",
     "iopub.status.idle": "2023-11-19T21:27:32.948646Z",
     "shell.execute_reply": "2023-11-19T21:27:32.945910Z"
    }
   },
   "outputs": [],
   "source": [
    "load(\"unemployment-z.RData\")"
   ]
  },
  {
   "cell_type": "code",
   "execution_count": 3,
   "metadata": {
    "execution": {
     "iopub.execute_input": "2023-11-19T21:27:32.955767Z",
     "iopub.status.busy": "2023-11-19T21:27:32.953300Z",
     "iopub.status.idle": "2023-11-19T21:27:32.967962Z",
     "shell.execute_reply": "2023-11-19T21:27:32.965328Z"
    }
   },
   "outputs": [
    {
     "data": {
      "text/plain": [
       "[1] 30"
      ]
     },
     "execution_count": 3,
     "metadata": {},
     "output_type": "execute_result"
    }
   ],
   "source": [
    "Netherlands <- unemployment.z[,4]\n",
    "length(Netherlands)"
   ]
  },
  {
   "cell_type": "code",
   "execution_count": 4,
   "metadata": {
    "execution": {
     "iopub.execute_input": "2023-11-19T21:27:32.974913Z",
     "iopub.status.busy": "2023-11-19T21:27:32.972258Z",
     "iopub.status.idle": "2023-11-19T21:27:32.986351Z",
     "shell.execute_reply": "2023-11-19T21:27:32.983713Z"
    }
   },
   "outputs": [
    {
     "data": {
      "text/plain": [
       "[1] 30"
      ]
     },
     "execution_count": 4,
     "metadata": {},
     "output_type": "execute_result"
    }
   ],
   "source": [
    "Belgium <- unemployment.z[,5]\n",
    "length(Belgium)"
   ]
  },
  {
   "cell_type": "code",
   "execution_count": 5,
   "metadata": {
    "execution": {
     "iopub.execute_input": "2023-11-19T21:27:32.993037Z",
     "iopub.status.busy": "2023-11-19T21:27:32.990630Z",
     "iopub.status.idle": "2023-11-19T21:27:33.008071Z",
     "shell.execute_reply": "2023-11-19T21:27:33.005398Z"
    }
   },
   "outputs": [
    {
     "data": {
      "text/plain": [
       "[1] 26"
      ]
     },
     "execution_count": 5,
     "metadata": {},
     "output_type": "execute_result"
    }
   ],
   "source": [
    "Luxembourg <- na.omit(unemployment.z[,6])\n",
    "length(Luxembourg)"
   ]
  },
  {
   "cell_type": "code",
   "execution_count": 6,
   "metadata": {
    "execution": {
     "iopub.execute_input": "2023-11-19T21:27:33.014804Z",
     "iopub.status.busy": "2023-11-19T21:27:33.012319Z",
     "iopub.status.idle": "2023-11-19T21:27:33.031728Z",
     "shell.execute_reply": "2023-11-19T21:27:33.029006Z"
    }
   },
   "outputs": [
    {
     "data": {
      "text/plain": [
       "           Netherlands Belgium Luxembourg\n",
       "1970-12-31       0.868   1.913         NA\n",
       "1971-12-31       1.213   1.848         NA\n",
       "1972-12-31       2.114   2.350         NA\n",
       "1973-12-31       2.151   2.408         NA\n",
       "1974-12-31       2.624   2.523      0.067\n",
       "1975-12-31       3.772   4.522      0.200\n",
       "1976-12-31       4.067   5.934      0.332\n",
       "1977-12-31       3.916   6.745      0.531\n",
       "1978-12-31       3.827   7.321      0.797\n",
       "1979-12-31       3.648   7.581      0.725"
      ]
     },
     "execution_count": 6,
     "metadata": {},
     "output_type": "execute_result"
    }
   ],
   "source": [
    "unemployment.benelux <- merge(Netherlands,\n",
    "                              Belgium,\n",
    "                              Luxembourg)\n",
    "head(unemployment.benelux,n=10)"
   ]
  }
 ],
 "metadata": {
  "kernelspec": {
   "display_name": "R (RKernel)",
   "language": "R",
   "name": "rkernel"
  },
  "language_info": {
   "codemirror_mode": "R",
   "file_extension": ".R",
   "mimetype": "text/x-r-source",
   "name": "R",
   "pygments_lexer": "r",
   "version": "4.3.2"
  }
 },
 "nbformat": 4,
 "nbformat_minor": 4
}
