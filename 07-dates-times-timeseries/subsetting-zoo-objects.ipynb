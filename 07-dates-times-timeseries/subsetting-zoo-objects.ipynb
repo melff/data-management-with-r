{
 "cells": [
  {
   "cell_type": "markdown",
   "metadata": {},
   "source": [
    "# Subsetting \"zoo\" objects"
   ]
  },
  {
   "cell_type": "code",
   "execution_count": 1,
   "metadata": {},
   "outputs": [],
   "source": [
    "options(jupyter.rich_display=FALSE) # Create output as usual in R"
   ]
  },
  {
   "cell_type": "markdown",
   "metadata": {},
   "source": [
    "The following makes use of the *zoo* package. You may need to install it from\n",
    "[CRAN](https://cran.r-project.org/package=zoo) using the code\n",
    "`install.packages(\"zoo\")` if you want to run this on your computer. (The\n",
    "package is already installed on the notebook container, however.)"
   ]
  },
  {
   "cell_type": "code",
   "execution_count": 2,
   "metadata": {},
   "outputs": [
    {
     "name": "stderr",
     "output_type": "stream",
     "text": [
      "\n",
      "Attaching package: ‘zoo’\n",
      "\n",
      "\n",
      "The following objects are masked from ‘package:base’:\n",
      "\n",
      "    as.Date, as.Date.numeric\n",
      "\n",
      "\n"
     ]
    }
   ],
   "source": [
    "library(zoo)"
   ]
  },
  {
   "cell_type": "code",
   "execution_count": 3,
   "metadata": {},
   "outputs": [
    {
     "data": {
      "text/plain": [
       "[1] \"1945 Q2\""
      ]
     },
     "metadata": {},
     "output_type": "display_data"
    }
   ],
   "source": [
    "as.yearqtr(\"1945 Q2\")"
   ]
  },
  {
   "cell_type": "markdown",
   "metadata": {},
   "source": [
    "The file \"zpresidents.RData\" was created in an earlier example."
   ]
  },
  {
   "cell_type": "code",
   "execution_count": 4,
   "metadata": {},
   "outputs": [],
   "source": [
    "load(\"zpresidents.RData\")"
   ]
  },
  {
   "cell_type": "code",
   "execution_count": 5,
   "metadata": {},
   "outputs": [
    {
     "data": {
      "text/plain": [
       "1945 Q2 \n",
       "     87 "
      ]
     },
     "metadata": {},
     "output_type": "display_data"
    }
   ],
   "source": [
    "zpresidents[as.yearqtr(\"1945 Q2\")]"
   ]
  },
  {
   "cell_type": "code",
   "execution_count": 6,
   "metadata": {},
   "outputs": [
    {
     "data": {
      "text/plain": [
       "1960 Q3 1961 Q3 1962 Q3 1963 Q3 1964 Q3 1965 Q3 1966 Q3 1967 Q3 1968 Q3 1969 Q3 \n",
       "     61      71      62      62      69      69      56      38      35      65 "
      ]
     },
     "metadata": {},
     "output_type": "display_data"
    }
   ],
   "source": [
    "qtrs3 <- as.yearqtr(paste(1960:1969,\"Q3\"))\n",
    "zpresidents[qtrs3]"
   ]
  },
  {
   "cell_type": "code",
   "execution_count": 7,
   "metadata": {},
   "outputs": [
    {
     "data": {
      "text/plain": [
       " [1] \"1960-4\" \"1960-3\" \"1960-2\" \"1960-1\" \"1961-4\" \"1961-3\" \"1961-2\" \"1961-1\"\n",
       " [9] \"1962-4\" \"1962-3\" \"1962-2\" \"1962-1\" \"1963-4\" \"1963-3\" \"1963-2\" \"1963-1\"\n",
       "[17] \"1964-4\" \"1964-3\" \"1964-2\" \"1964-1\""
      ]
     },
     "metadata": {},
     "output_type": "display_data"
    }
   ],
   "source": [
    "qtrs <- paste(rep(1960:1964,each=4),rep(4:1,4),sep=\"-\")\n",
    "qtrs"
   ]
  },
  {
   "cell_type": "code",
   "execution_count": 8,
   "metadata": {},
   "outputs": [
    {
     "data": {
      "text/plain": [
       "1960 Q1 1960 Q2 1960 Q3 1960 Q4 1961 Q1 1961 Q2 1961 Q3 1961 Q4 1962 Q1 1962 Q2 \n",
       "     71      62      61      57      72      83      71      78      79      71 \n",
       "1962 Q3 1962 Q4 1963 Q1 1963 Q2 1963 Q3 1963 Q4 1964 Q1 1964 Q2 1964 Q3 1964 Q4 \n",
       "     62      74      76      64      62      57      80      73      69      69 "
      ]
     },
     "metadata": {},
     "output_type": "display_data"
    }
   ],
   "source": [
    "zpresidents[as.yearqtr(qtrs)]"
   ]
  },
  {
   "cell_type": "code",
   "execution_count": 9,
   "metadata": {},
   "outputs": [],
   "source": [
    "load(\"unemployment-z.RData\")"
   ]
  },
  {
   "cell_type": "code",
   "execution_count": 10,
   "metadata": {},
   "outputs": [
    {
     "data": {
      "text/plain": [
       "           Germany France  Italy Netherlands Belgium Luxembourg\n",
       "1997-12-31  11.412 12.438 12.251        5.59  12.691      3.616"
      ]
     },
     "metadata": {},
     "output_type": "display_data"
    }
   ],
   "source": [
    "unemployment.z[as.Date(\"1997-12-31\")]"
   ]
  },
  {
   "cell_type": "code",
   "execution_count": 11,
   "metadata": {},
   "outputs": [
    {
     "data": {
      "text/plain": [
       "1969 Q1 1969 Q2 1969 Q3 1969 Q4 1970 Q1 1970 Q2 1970 Q3 1970 Q4 1971 Q1 1971 Q2 \n",
       "     59      65      65      56      66      53      61      52      51      48 \n",
       "1971 Q3 1971 Q4 1972 Q1 1972 Q2 1972 Q3 1972 Q4 1973 Q1 1973 Q2 1973 Q3 1973 Q4 \n",
       "     54      49      49      61      NA      NA      68      44      40      27 \n",
       "1974 Q1 1974 Q2 \n",
       "     28      25 "
      ]
     },
     "metadata": {},
     "output_type": "display_data"
    }
   ],
   "source": [
    "window(zpresidents,\n",
    "       start = as.yearqtr(\"1969-1\"),\n",
    "       end   = as.yearqtr(\"1974-2\"))"
   ]
  },
  {
   "cell_type": "code",
   "execution_count": 12,
   "metadata": {},
   "outputs": [
    {
     "data": {
      "text/plain": [
       "           Germany France  Italy Netherlands Belgium Luxembourg\n",
       "1980-12-31   3.190  6.246  5.574       4.015   8.029      0.721\n",
       "1981-12-31   4.505  7.396  6.269       5.818  10.279      1.042\n",
       "1982-12-31   6.441  8.041  6.918       8.519  12.030      1.302\n",
       "1983-12-31   7.921  8.253  7.694      10.987  13.319      1.630\n",
       "1984-12-31   7.932  9.660  8.504      10.604  13.363      1.750\n",
       "1985-12-31   8.002 10.234  8.611       9.191  12.442      1.688\n",
       "1986-12-31   7.661 10.373  9.896       8.394  11.792      1.478\n",
       "1987-12-31   7.611 10.479 10.248       7.982  11.461      1.710\n",
       "1988-12-31   7.598  9.975 10.451       7.785  10.422      1.564\n",
       "1989-12-31   6.863  9.348 10.214       6.917   9.377      1.420"
      ]
     },
     "metadata": {},
     "output_type": "display_data"
    }
   ],
   "source": [
    "window(unemployment.z,\n",
    "       start = as.Date(\"1980-12-31\"),\n",
    "       end   = as.Date(\"1989-12-31\"))"
   ]
  }
 ],
 "metadata": {
  "kernelspec": {
   "display_name": "R",
   "language": "R",
   "name": "ir"
  },
  "language_info": {
   "codemirror_mode": "r",
   "file_extension": ".r",
   "mimetype": "text/x-r-source",
   "name": "R",
   "pygments_lexer": "r",
   "version": "4.0.4"
  }
 },
 "nbformat": 4,
 "nbformat_minor": 4
}
