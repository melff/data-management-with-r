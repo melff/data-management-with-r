{
 "cells": [
  {
   "cell_type": "markdown",
   "metadata": {},
   "source": [
    "# Artificial time series data"
   ]
  },
  {
   "cell_type": "code",
   "execution_count": 1,
   "metadata": {
    "execution": {
     "iopub.execute_input": "2023-11-19T21:17:09.901442Z",
     "iopub.status.busy": "2023-11-19T21:17:09.899018Z",
     "iopub.status.idle": "2023-11-19T21:17:09.910448Z",
     "shell.execute_reply": "2023-11-19T21:17:09.907677Z"
    }
   },
   "outputs": [],
   "source": [
    "x <- round(rnorm(1:12),1)"
   ]
  },
  {
   "cell_type": "code",
   "execution_count": 2,
   "metadata": {
    "execution": {
     "iopub.execute_input": "2023-11-19T21:17:09.946230Z",
     "iopub.status.busy": "2023-11-19T21:17:09.914790Z",
     "iopub.status.idle": "2023-11-19T21:17:10.049346Z",
     "shell.execute_reply": "2023-11-19T21:17:10.046485Z"
    }
   },
   "outputs": [
    {
     "data": {
      "text/plain": [
       "     Qtr1 Qtr2 Qtr3 Qtr4\n",
       "2000 -0.7 -1.4 -1.6  0.1\n",
       "2001 -0.4 -0.9 -0.1  2.5\n",
       "2002 -0.3 -1.0  0.8 -1.0"
      ]
     },
     "execution_count": 2,
     "metadata": {},
     "output_type": "execute_result"
    }
   ],
   "source": [
    "ts(x,start=2000,\n",
    "   frequency=4)"
   ]
  },
  {
   "cell_type": "code",
   "execution_count": 3,
   "metadata": {
    "execution": {
     "iopub.execute_input": "2023-11-19T21:17:10.056913Z",
     "iopub.status.busy": "2023-11-19T21:17:10.054050Z",
     "iopub.status.idle": "2023-11-19T21:17:10.068098Z",
     "shell.execute_reply": "2023-11-19T21:17:10.065296Z"
    }
   },
   "outputs": [
    {
     "name": "stdout",
     "output_type": "stream",
     "text": [
      "      Jan  Feb  Mar  Apr  May  Jun  Jul  Aug  Sep  Oct  Nov  Dec\n",
      "2000 -0.7 -1.4 -1.6  0.1 -0.4 -0.9 -0.1  2.5 -0.3 -1.0  0.8 -1.0\n"
     ]
    }
   ],
   "source": [
    "print(ts(x,start=2000,\n",
    "       frequency=12))"
   ]
  },
  {
   "cell_type": "markdown",
   "metadata": {},
   "source": [
    "The data file [\"unemployment.csv\"](https://github.com/melff/dataman-r/raw/main/07-dates-times-timeseries/OECD-unemployment.R) used below consists of data originally downloaded from the [OECD Database website](https://data.oecd.org)."
   ]
  },
  {
   "cell_type": "code",
   "execution_count": 4,
   "metadata": {
    "execution": {
     "iopub.execute_input": "2023-11-19T21:17:10.074831Z",
     "iopub.status.busy": "2023-11-19T21:17:10.072375Z",
     "iopub.status.idle": "2023-11-19T21:17:10.091143Z",
     "shell.execute_reply": "2023-11-19T21:17:10.088382Z"
    }
   },
   "outputs": [
    {
     "data": {
      "text/plain": [
       "        Germany France  Italy Netherlands\n",
       "1970 Q1   0.557  2.477  4.000       0.868\n",
       "1970 Q2   0.689  2.712  4.001       1.213\n",
       "1970 Q3   0.912  2.806  4.711       2.114\n",
       "1970 Q4   1.000  2.690  4.691       2.151\n",
       "1971 Q1   2.132  2.853  3.942       2.624\n",
       "1971 Q2   3.965  4.028  4.312       3.772\n",
       "1971 Q3   3.934  4.406  4.925       4.067\n",
       "1971 Q4   3.822  4.938  5.261       3.916\n",
       "1972 Q1   3.661  5.191  5.313       3.827\n",
       "1972 Q2   3.192  5.833  5.658       3.648\n",
       "1972 Q3   3.190  6.246  5.574       4.015\n",
       "1972 Q4   4.505  7.396  6.269       5.818\n",
       "1973 Q1   6.441  8.041  6.918       8.519\n",
       "1973 Q2   7.921  8.253  7.694      10.987\n",
       "1973 Q3   7.932  9.660  8.504      10.604\n",
       "1973 Q4   8.002 10.234  8.611       9.191\n",
       "1974 Q1   7.661 10.373  9.896       8.394\n",
       "1974 Q2   7.611 10.479 10.248       7.982\n",
       "1974 Q3   7.598  9.975 10.451       7.785\n",
       "1974 Q4   6.863  9.348 10.214       6.917\n",
       "1975 Q1   6.203  8.866  9.127       5.965\n",
       "1975 Q2   6.653  9.439  8.593       5.469\n",
       "1975 Q3   7.672 10.358  8.835       5.401\n",
       "1975 Q4   8.849 11.704 10.239       6.546\n",
       "1976 Q1   9.560 12.225 11.291       7.587\n",
       "1976 Q2   9.386 11.544 11.983       7.109\n",
       "1976 Q3  10.318 12.291 12.092       6.654\n",
       "1976 Q4  11.412 12.438 12.251       5.590\n",
       "1977 Q1  11.530 11.910 11.997       5.096\n",
       "1977 Q2  11.118 11.279 11.762       4.802"
      ]
     },
     "execution_count": 4,
     "metadata": {},
     "output_type": "execute_result"
    }
   ],
   "source": [
    "unemployment <- read.csv(\"unemployment.csv\")\n",
    "# This is of course incorrect, but demonstrates how monthly multivariate time \n",
    "# series can be constructed from scratch.\n",
    "ts(unemployment[2:5],\n",
    "   start = 1970,\n",
    "   frequency=4)"
   ]
  }
 ],
 "metadata": {
  "kernelspec": {
   "display_name": "R (RKernel)",
   "language": "R",
   "name": "rkernel"
  },
  "language_info": {
   "codemirror_mode": "R",
   "file_extension": ".R",
   "mimetype": "text/x-r-source",
   "name": "R",
   "pygments_lexer": "r",
   "version": "4.3.2"
  }
 },
 "nbformat": 4,
 "nbformat_minor": 4
}
