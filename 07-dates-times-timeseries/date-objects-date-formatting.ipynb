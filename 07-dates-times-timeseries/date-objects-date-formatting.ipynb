{
 "cells": [
  {
   "cell_type": "markdown",
   "metadata": {},
   "source": [
    "# Date objects and date formatting"
   ]
  },
  {
   "cell_type": "code",
   "execution_count": 1,
   "metadata": {
    "execution": {
     "iopub.execute_input": "2023-11-19T21:12:49.610335Z",
     "iopub.status.busy": "2023-11-19T21:12:49.607844Z",
     "iopub.status.idle": "2023-11-19T21:12:49.662895Z",
     "shell.execute_reply": "2023-11-19T21:12:49.658566Z"
    }
   },
   "outputs": [
    {
     "data": {
      "text/plain": [
       "[1] \"1970-01-21\""
      ]
     },
     "execution_count": 1,
     "metadata": {},
     "output_type": "execute_result"
    }
   ],
   "source": [
    "as.Date(20,origin=\"1970-01-01\")"
   ]
  },
  {
   "cell_type": "code",
   "execution_count": 2,
   "metadata": {
    "execution": {
     "iopub.execute_input": "2023-11-19T21:12:49.715105Z",
     "iopub.status.busy": "2023-11-19T21:12:49.669063Z",
     "iopub.status.idle": "2023-11-19T21:12:49.784438Z",
     "shell.execute_reply": "2023-11-19T21:12:49.781711Z"
    }
   },
   "outputs": [],
   "source": [
    "d <- as.Date(\"1990-11-09\")"
   ]
  },
  {
   "cell_type": "code",
   "execution_count": 3,
   "metadata": {
    "execution": {
     "iopub.execute_input": "2023-11-19T21:12:49.791819Z",
     "iopub.status.busy": "2023-11-19T21:12:49.789268Z",
     "iopub.status.idle": "2023-11-19T21:12:49.802352Z",
     "shell.execute_reply": "2023-11-19T21:12:49.799696Z"
    }
   },
   "outputs": [
    {
     "data": {
      "text/plain": [
       "[1] \" 9 November % Y\""
      ]
     },
     "execution_count": 3,
     "metadata": {},
     "output_type": "execute_result"
    }
   ],
   "source": [
    "format(d,\"%e %B % Y\")"
   ]
  },
  {
   "cell_type": "code",
   "execution_count": 4,
   "metadata": {
    "execution": {
     "iopub.execute_input": "2023-11-19T21:12:49.809134Z",
     "iopub.status.busy": "2023-11-19T21:12:49.806705Z",
     "iopub.status.idle": "2023-11-19T21:12:49.820539Z",
     "shell.execute_reply": "2023-11-19T21:12:49.817509Z"
    }
   },
   "outputs": [
    {
     "data": {
      "text/plain": [
       "[1] \"Nov 09, 90\""
      ]
     },
     "execution_count": 4,
     "metadata": {},
     "output_type": "execute_result"
    }
   ],
   "source": [
    "format(d,\"%b %d, %y\")"
   ]
  },
  {
   "cell_type": "code",
   "execution_count": 5,
   "metadata": {
    "execution": {
     "iopub.execute_input": "2023-11-19T21:12:49.827514Z",
     "iopub.status.busy": "2023-11-19T21:12:49.824992Z",
     "iopub.status.idle": "2023-11-19T21:12:49.838528Z",
     "shell.execute_reply": "2023-11-19T21:12:49.835714Z"
    }
   },
   "outputs": [
    {
     "data": {
      "text/plain": [
       "[1] \"1990-11-09\""
      ]
     },
     "execution_count": 5,
     "metadata": {},
     "output_type": "execute_result"
    }
   ],
   "source": [
    "format(d,\"%Y-%m-%d\")"
   ]
  },
  {
   "cell_type": "code",
   "execution_count": 6,
   "metadata": {
    "execution": {
     "iopub.execute_input": "2023-11-19T21:12:49.846043Z",
     "iopub.status.busy": "2023-11-19T21:12:49.843249Z",
     "iopub.status.idle": "2023-11-19T21:12:49.857750Z",
     "shell.execute_reply": "2023-11-19T21:12:49.854955Z"
    }
   },
   "outputs": [
    {
     "data": {
      "text/plain": [
       "[1] \"1990-11-09\""
      ]
     },
     "execution_count": 6,
     "metadata": {},
     "output_type": "execute_result"
    }
   ],
   "source": [
    "as.Date(\"11/09/90\", format=\"%m/%d/%y\")"
   ]
  }
 ],
 "metadata": {
  "kernelspec": {
   "display_name": "R (RKernel)",
   "language": "R",
   "name": "rkernel"
  },
  "language_info": {
   "codemirror_mode": "R",
   "file_extension": ".R",
   "mimetype": "text/x-r-source",
   "name": "R",
   "pygments_lexer": "r",
   "version": "4.3.2"
  }
 },
 "nbformat": 4,
 "nbformat_minor": 4
}
