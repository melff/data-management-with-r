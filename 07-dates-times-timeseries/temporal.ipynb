{
 "cells": [
  {
   "cell_type": "markdown",
   "id": "5bddd55a-c384-4695-868d-cb109d0a77d8",
   "metadata": {},
   "source": [
    "# Dates, Times, and Time Series\n",
    "\n",
    "Temporal data, consisting of dates and times, pose their own challenges. Time is measured in non-metric units, in hours, minutes and seconds. Dates can be recorded according to various calendaric systems, and are complicated by leap days and leap seconds. _R_ provides facilities to convert times and dates into different calendaric systems, to format temporal data and to import temporal data recorded in different formats. This is one topic of this chapter. The other topic are time series and similar data structures (such as panels). Basic time series consist of measurements conducted in regular temporal intervals, but beside these basic variants, _R_ also supports irregular time series. The chapter therefore also the discusses the construction and manipulation of regular and irregular time series.\n",
    "\n",
    "Below is the supporting material for the various sections of the chapter.\n",
    "\n",
    "## Dates and Times\n",
    "\n",
    "- [Date objects and date formatting](date-objects-date-formatting.ipynb)\n",
    "- [Date arithmetic](date-arithmetic.ipynb)\n",
    "- [POSIXct time objects](POSIXct-time-objects.ipynb)\n",
    "- [Time arithmetic](time-arithmetic.ipynb)\n",
    "- [POSIXlt time objects](POSIXlt-time-objects.ipynb)\n",
    "- [Creation of date and time data for given years, months, and days](ISOdate.ipynb)\n",
    "- [Time differences](time-differences.ipynb)\n",
    "\n",
    "## Time Series[¶](#time-series \"Permalink to this headline\")\n",
    "\n",
    "### Regular time series[¶](#regular-time-series \"Permalink to this headline\")\n",
    "\n",
    "- [Approval of US presidents](presidents-timeseries.ipynb)\n",
    "- [OECD unemployment data](OECD-unemployment.ipynb)\n",
    "- [Artificial time series data](artificial-timeseries.ipynb)\n",
    "\n",
    "### Irregular time series and the _zoo_ package[¶](#irregular-time-series-and-the-zoo-package \"Permalink to this headline\")\n",
    "\n",
    "- [Creating a “zoo” object from the “presidents” time series](creating-zoo-objects-presidents.ipynb)\n",
    "- [Creating a “zoo” object from OECD unemployment data](creating-zoo-objects-unemployment.ipynb)\n",
    "- [Subsetting “zoo” objects](subsetting-zoo-objects.ipynb)\n",
    "- [Handling missing values](handling-missing-values.ipynb)\n",
    "- [Rolling statistics](rolling-statistics.ipynb)\n",
    "- [Time arithmetics with “zoo” objects](time-arithmetics-zoo.ipynb)\n",
    "- [Merging (multivariate) time series](merging-timeseries.ipynb)\n",
    "- [Importing data into “zoo” objects](importing-zoo-objects.ipynb)"
   ]
  }
 ],
 "metadata": {
  "kernelspec": {
   "display_name": "R (RKernel)",
   "language": "R",
   "name": "rkernel"
  },
  "language_info": {
   "codemirror_mode": "R",
   "file_extension": ".R",
   "mimetype": "text/x-r-source",
   "name": "R",
   "pygments_lexer": "r",
   "version": "4.3.2"
  }
 },
 "nbformat": 4,
 "nbformat_minor": 5
}
