{
 "cells": [
  {
   "cell_type": "markdown",
   "metadata": {},
   "source": [
    "# Date arithmetic"
   ]
  },
  {
   "cell_type": "code",
   "execution_count": 1,
   "metadata": {
    "execution": {
     "iopub.execute_input": "2023-11-19T21:13:25.864749Z",
     "iopub.status.busy": "2023-11-19T21:13:25.862366Z",
     "iopub.status.idle": "2023-11-19T21:13:25.912932Z",
     "shell.execute_reply": "2023-11-19T21:13:25.910273Z"
    }
   },
   "outputs": [
    {
     "data": {
      "text/plain": [
       "[1] \"1968-04-01\""
      ]
     },
     "execution_count": 1,
     "metadata": {},
     "output_type": "execute_result"
    }
   ],
   "source": [
    "# R knows the lengths of months, e.g. that March has 31 days:\n",
    "d0 <- as.Date(\"1968-03-01\")\n",
    "d0 + 31"
   ]
  },
  {
   "cell_type": "code",
   "execution_count": 2,
   "metadata": {
    "execution": {
     "iopub.execute_input": "2023-11-19T21:13:25.946223Z",
     "iopub.status.busy": "2023-11-19T21:13:25.917197Z",
     "iopub.status.idle": "2023-11-19T21:13:26.016900Z",
     "shell.execute_reply": "2023-11-19T21:13:26.014122Z"
    }
   },
   "outputs": [
    {
     "data": {
      "text/plain": [
       "[1] \"1968-02-29\""
      ]
     },
     "execution_count": 2,
     "metadata": {},
     "output_type": "execute_result"
    }
   ],
   "source": [
    "# R also knows that 1968 was a leap year,\n",
    "d1 <- as.Date(\"1968-02-28\")\n",
    "d1 + 1"
   ]
  },
  {
   "cell_type": "code",
   "execution_count": 3,
   "metadata": {
    "execution": {
     "iopub.execute_input": "2023-11-19T21:13:26.023951Z",
     "iopub.status.busy": "2023-11-19T21:13:26.021430Z",
     "iopub.status.idle": "2023-11-19T21:13:26.035495Z",
     "shell.execute_reply": "2023-11-19T21:13:26.032809Z"
    }
   },
   "outputs": [
    {
     "data": {
      "text/plain": [
       "[1] \"1900-03-01\""
      ]
     },
     "execution_count": 3,
     "metadata": {},
     "output_type": "execute_result"
    }
   ],
   "source": [
    "# that 1900 was not a leap year,\n",
    "d2 <- as.Date(\"1900-02-28\")\n",
    "d2 + 1"
   ]
  },
  {
   "cell_type": "code",
   "execution_count": 4,
   "metadata": {
    "execution": {
     "iopub.execute_input": "2023-11-19T21:13:26.042682Z",
     "iopub.status.busy": "2023-11-19T21:13:26.039896Z",
     "iopub.status.idle": "2023-11-19T21:13:26.054625Z",
     "shell.execute_reply": "2023-11-19T21:13:26.051882Z"
    }
   },
   "outputs": [
    {
     "data": {
      "text/plain": [
       "[1] \"2000-02-29\""
      ]
     },
     "execution_count": 4,
     "metadata": {},
     "output_type": "execute_result"
    }
   ],
   "source": [
    "# that 2000 was a leap year,\n",
    "d3 <- as.Date(\"2000-02-28\")\n",
    "d3 + 1"
   ]
  },
  {
   "cell_type": "code",
   "execution_count": 5,
   "metadata": {
    "execution": {
     "iopub.execute_input": "2023-11-19T21:13:26.061412Z",
     "iopub.status.busy": "2023-11-19T21:13:26.058988Z",
     "iopub.status.idle": "2023-11-19T21:13:26.073087Z",
     "shell.execute_reply": "2023-11-19T21:13:26.070366Z"
    }
   },
   "outputs": [
    {
     "data": {
      "text/plain": [
       "[1] \"2001-02-28\""
      ]
     },
     "execution_count": 5,
     "metadata": {},
     "output_type": "execute_result"
    }
   ],
   "source": [
    "# and that leap years are 366 days long\n",
    "d3 + 366"
   ]
  }
 ],
 "metadata": {
  "kernelspec": {
   "display_name": "R (RKernel)",
   "language": "R",
   "name": "rkernel"
  },
  "language_info": {
   "codemirror_mode": "R",
   "file_extension": ".R",
   "mimetype": "text/x-r-source",
   "name": "R",
   "pygments_lexer": "r",
   "version": "4.3.2"
  }
 },
 "nbformat": 4,
 "nbformat_minor": 4
}
