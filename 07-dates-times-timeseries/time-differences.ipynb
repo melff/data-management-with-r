{
 "cells": [
  {
   "cell_type": "markdown",
   "metadata": {},
   "source": [
    "# Time differences"
   ]
  },
  {
   "cell_type": "code",
   "execution_count": 1,
   "metadata": {
    "execution": {
     "iopub.execute_input": "2023-11-19T21:15:20.138955Z",
     "iopub.status.busy": "2023-11-19T21:15:20.134001Z",
     "iopub.status.idle": "2023-11-19T21:15:20.220496Z",
     "shell.execute_reply": "2023-11-19T21:15:20.215189Z"
    }
   },
   "outputs": [],
   "source": [
    "# It does not matter whether we have \"POSIXct\" or \"POSIXlt\" objects,\n",
    "# we can always obtain differences between the tiems\n",
    "t0 <- as.POSIXlt(0,origin=\"2020-02-01\",tz=\"GMT\")\n",
    "t1 <- as.POSIXct(0,origin=\"2020-02-01 3:00\",tz=\"GMT\")\n",
    "t2 <- as.POSIXlt(0,origin=\"2020-02-01 3:45\",tz=\"GMT\")\n",
    "t3 <- as.POSIXct(0,origin=\"2020-02-01 3:45:06\",tz=\"GMT\")"
   ]
  },
  {
   "cell_type": "code",
   "execution_count": 2,
   "metadata": {
    "execution": {
     "iopub.execute_input": "2023-11-19T21:15:20.260657Z",
     "iopub.status.busy": "2023-11-19T21:15:20.227473Z",
     "iopub.status.idle": "2023-11-19T21:15:20.334378Z",
     "shell.execute_reply": "2023-11-19T21:15:20.331583Z"
    }
   },
   "outputs": [
    {
     "data": {
      "text/plain": [
       "Time difference of 3 hours"
      ]
     },
     "execution_count": 2,
     "metadata": {},
     "output_type": "execute_result"
    }
   ],
   "source": [
    "# The unit of measurement for time differences is selected\n",
    "# automatically. Usually it is the largest sensible unit:\n",
    "t1 - t0"
   ]
  },
  {
   "cell_type": "code",
   "execution_count": 3,
   "metadata": {
    "execution": {
     "iopub.execute_input": "2023-11-19T21:15:20.341267Z",
     "iopub.status.busy": "2023-11-19T21:15:20.338701Z",
     "iopub.status.idle": "2023-11-19T21:15:20.352671Z",
     "shell.execute_reply": "2023-11-19T21:15:20.349954Z"
    }
   },
   "outputs": [
    {
     "data": {
      "text/plain": [
       "Time difference of 45 mins"
      ]
     },
     "execution_count": 3,
     "metadata": {},
     "output_type": "execute_result"
    }
   ],
   "source": [
    "t2 - t1"
   ]
  },
  {
   "cell_type": "code",
   "execution_count": 4,
   "metadata": {
    "execution": {
     "iopub.execute_input": "2023-11-19T21:15:20.359460Z",
     "iopub.status.busy": "2023-11-19T21:15:20.356966Z",
     "iopub.status.idle": "2023-11-19T21:15:20.371263Z",
     "shell.execute_reply": "2023-11-19T21:15:20.368487Z"
    }
   },
   "outputs": [
    {
     "data": {
      "text/plain": [
       "Time difference of 6 secs"
      ]
     },
     "execution_count": 4,
     "metadata": {},
     "output_type": "execute_result"
    }
   ],
   "source": [
    "t3 - t2"
   ]
  },
  {
   "cell_type": "code",
   "execution_count": 5,
   "metadata": {
    "execution": {
     "iopub.execute_input": "2023-11-19T21:15:20.378790Z",
     "iopub.status.busy": "2023-11-19T21:15:20.376281Z",
     "iopub.status.idle": "2023-11-19T21:15:20.391062Z",
     "shell.execute_reply": "2023-11-19T21:15:20.387885Z"
    }
   },
   "outputs": [
    {
     "data": {
      "text/plain": [
       "Time difference of 3.751667 hours"
      ]
     },
     "execution_count": 5,
     "metadata": {},
     "output_type": "execute_result"
    }
   ],
   "source": [
    "t3 - t0"
   ]
  },
  {
   "cell_type": "code",
   "execution_count": 6,
   "metadata": {
    "execution": {
     "iopub.execute_input": "2023-11-19T21:15:20.398015Z",
     "iopub.status.busy": "2023-11-19T21:15:20.395517Z",
     "iopub.status.idle": "2023-11-19T21:15:20.412148Z",
     "shell.execute_reply": "2023-11-19T21:15:20.409034Z"
    }
   },
   "outputs": [
    {
     "data": {
      "text/plain": [
       "Time difference of 13506 secs"
      ]
     },
     "execution_count": 6,
     "metadata": {},
     "output_type": "execute_result"
    }
   ],
   "source": [
    "# The last difference is in hours and hour fractions. It might be more sensible\n",
    "# to have seconds as units of measuremnt.\n",
    "diff.t <- t3 - t0\n",
    "units(diff.t) <- \"secs\"\n",
    "diff.t"
   ]
  },
  {
   "cell_type": "code",
   "execution_count": 7,
   "metadata": {
    "execution": {
     "iopub.execute_input": "2023-11-19T21:15:20.419556Z",
     "iopub.status.busy": "2023-11-19T21:15:20.416967Z",
     "iopub.status.idle": "2023-11-19T21:15:20.428381Z",
     "shell.execute_reply": "2023-11-19T21:15:20.425509Z"
    }
   },
   "outputs": [],
   "source": [
    "# It is also possible to compute differences between dates:\n",
    "d0 <- as.Date(\"2020-01-31\")\n",
    "d1 <- as.Date(\"2020-02-28\")\n",
    "d2 <- as.Date(\"2020-03-31\")"
   ]
  },
  {
   "cell_type": "code",
   "execution_count": 8,
   "metadata": {
    "execution": {
     "iopub.execute_input": "2023-11-19T21:15:20.437971Z",
     "iopub.status.busy": "2023-11-19T21:15:20.435502Z",
     "iopub.status.idle": "2023-11-19T21:15:20.449736Z",
     "shell.execute_reply": "2023-11-19T21:15:20.446769Z"
    }
   },
   "outputs": [
    {
     "data": {
      "text/plain": [
       "Time difference of 28 days"
      ]
     },
     "execution_count": 8,
     "metadata": {},
     "output_type": "execute_result"
    }
   ],
   "source": [
    "# Usually the difference is in days:\n",
    "d1 - d0"
   ]
  },
  {
   "cell_type": "code",
   "execution_count": 9,
   "metadata": {
    "execution": {
     "iopub.execute_input": "2023-11-19T21:15:20.456516Z",
     "iopub.status.busy": "2023-11-19T21:15:20.454097Z",
     "iopub.status.idle": "2023-11-19T21:15:20.467688Z",
     "shell.execute_reply": "2023-11-19T21:15:20.464940Z"
    }
   },
   "outputs": [
    {
     "data": {
      "text/plain": [
       "Time difference of 60 days"
      ]
     },
     "execution_count": 9,
     "metadata": {},
     "output_type": "execute_result"
    }
   ],
   "source": [
    "d2 - d0"
   ]
  },
  {
   "cell_type": "code",
   "execution_count": 10,
   "metadata": {
    "execution": {
     "iopub.execute_input": "2023-11-19T21:15:20.474861Z",
     "iopub.status.busy": "2023-11-19T21:15:20.472308Z",
     "iopub.status.idle": "2023-11-19T21:15:20.487050Z",
     "shell.execute_reply": "2023-11-19T21:15:20.484374Z"
    }
   },
   "outputs": [
    {
     "data": {
      "text/plain": [
       "Time difference of 672 hours"
      ]
     },
     "execution_count": 10,
     "metadata": {},
     "output_type": "execute_result"
    }
   ],
   "source": [
    "# We may also want to see the difference in hours:\n",
    "diff.d <- d1 - d0\n",
    "units(diff.d) <- \"hours\"\n",
    "diff.d"
   ]
  },
  {
   "cell_type": "code",
   "execution_count": 11,
   "metadata": {
    "execution": {
     "iopub.execute_input": "2023-11-19T21:15:20.494049Z",
     "iopub.status.busy": "2023-11-19T21:15:20.491328Z",
     "iopub.status.idle": "2023-11-19T21:15:20.506159Z",
     "shell.execute_reply": "2023-11-19T21:15:20.503289Z"
    }
   },
   "outputs": [
    {
     "data": {
      "text/plain": [
       "Time difference of 30 mins"
      ]
     },
     "execution_count": 11,
     "metadata": {},
     "output_type": "execute_result"
    }
   ],
   "source": [
    "# It is also possible to create time durations from scratch\n",
    "# From strings:\n",
    "as.difftime(\"0:30:00\")"
   ]
  },
  {
   "cell_type": "code",
   "execution_count": 12,
   "metadata": {
    "execution": {
     "iopub.execute_input": "2023-11-19T21:15:20.512935Z",
     "iopub.status.busy": "2023-11-19T21:15:20.510501Z",
     "iopub.status.idle": "2023-11-19T21:15:20.524889Z",
     "shell.execute_reply": "2023-11-19T21:15:20.522140Z"
    }
   },
   "outputs": [
    {
     "data": {
      "text/plain": [
       "Time difference of 30 mins"
      ]
     },
     "execution_count": 12,
     "metadata": {},
     "output_type": "execute_result"
    }
   ],
   "source": [
    "# and from numbers, here it is necessary to specify the unit of measurement\n",
    "as.difftime(30, units=\"mins\")"
   ]
  }
 ],
 "metadata": {
  "kernelspec": {
   "display_name": "R (RKernel)",
   "language": "R",
   "name": "rkernel"
  },
  "language_info": {
   "codemirror_mode": "R",
   "file_extension": ".R",
   "mimetype": "text/x-r-source",
   "name": "R",
   "pygments_lexer": "r",
   "version": "4.3.2"
  }
 },
 "nbformat": 4,
 "nbformat_minor": 4
}
