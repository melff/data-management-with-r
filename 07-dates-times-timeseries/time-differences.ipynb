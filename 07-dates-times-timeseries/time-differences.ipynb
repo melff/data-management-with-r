{
 "cells": [
  {
   "cell_type": "markdown",
   "metadata": {},
   "source": [
    "# Time differences"
   ]
  },
  {
   "cell_type": "code",
   "execution_count": null,
   "metadata": {},
   "outputs": [],
   "source": [
    "# It does not matter whether we have \"POSIXct\" or \"POSIXlt\" objects,\n",
    "# we can always obtain differences between the tiems\n",
    "t0 <- as.POSIXlt(0,origin=\"2020-02-01\",tz=\"GMT\")\n",
    "t1 <- as.POSIXct(0,origin=\"2020-02-01 3:00\",tz=\"GMT\")\n",
    "t2 <- as.POSIXlt(0,origin=\"2020-02-01 3:45\",tz=\"GMT\")\n",
    "t3 <- as.POSIXct(0,origin=\"2020-02-01 3:45:06\",tz=\"GMT\")"
   ]
  },
  {
   "cell_type": "code",
   "execution_count": null,
   "metadata": {},
   "outputs": [],
   "source": [
    "# The unit of measurement for time differences is selected\n",
    "# automatically. Usually it is the largest sensible unit:\n",
    "t1 - t0"
   ]
  },
  {
   "cell_type": "code",
   "execution_count": null,
   "metadata": {},
   "outputs": [],
   "source": [
    "t2 - t1"
   ]
  },
  {
   "cell_type": "code",
   "execution_count": null,
   "metadata": {},
   "outputs": [],
   "source": [
    "t3 - t2"
   ]
  },
  {
   "cell_type": "code",
   "execution_count": null,
   "metadata": {},
   "outputs": [],
   "source": [
    "t3 - t0"
   ]
  },
  {
   "cell_type": "code",
   "execution_count": null,
   "metadata": {},
   "outputs": [],
   "source": [
    "# The last difference is in hours and hour fractions. It might be more sensible\n",
    "# to have seconds as units of measuremnt.\n",
    "diff.t <- t3 - t0\n",
    "units(diff.t) <- \"secs\"\n",
    "diff.t"
   ]
  },
  {
   "cell_type": "code",
   "execution_count": null,
   "metadata": {},
   "outputs": [],
   "source": [
    "# It is also possible to compute differences between dates:\n",
    "d0 <- as.Date(\"2020-01-31\")\n",
    "d1 <- as.Date(\"2020-02-28\")\n",
    "d2 <- as.Date(\"2020-03-31\")"
   ]
  },
  {
   "cell_type": "code",
   "execution_count": null,
   "metadata": {},
   "outputs": [],
   "source": [
    "# Usually the difference is in days:\n",
    "d1 - d0"
   ]
  },
  {
   "cell_type": "code",
   "execution_count": null,
   "metadata": {},
   "outputs": [],
   "source": [
    "d2 - d0"
   ]
  },
  {
   "cell_type": "code",
   "execution_count": null,
   "metadata": {},
   "outputs": [],
   "source": [
    "# We may also want to see the difference in hours:\n",
    "diff.d <- d1 - d0\n",
    "units(diff.d) <- \"hours\"\n",
    "diff.d"
   ]
  },
  {
   "cell_type": "code",
   "execution_count": null,
   "metadata": {},
   "outputs": [],
   "source": [
    "# It is also possible to create time durations from scratch\n",
    "# From strings:\n",
    "as.difftime(\"0:30:00\")"
   ]
  },
  {
   "cell_type": "code",
   "execution_count": null,
   "metadata": {},
   "outputs": [],
   "source": [
    "# and from numbers, here it is necessary to specify the unit of measurement\n",
    "as.difftime(30, units=\"mins\")"
   ]
  }
 ],
 "metadata": {
  "kernelspec": {
   "display_name": "R",
   "language": "R",
   "name": "ir"
  },
  "language_info": {
   "codemirror_mode": "r",
   "file_extension": ".r",
   "mimetype": "text/x-r-source",
   "name": "R",
   "pygments_lexer": "r",
   "version": "4.0.5"
  }
 },
 "nbformat": 4,
 "nbformat_minor": 4
}
