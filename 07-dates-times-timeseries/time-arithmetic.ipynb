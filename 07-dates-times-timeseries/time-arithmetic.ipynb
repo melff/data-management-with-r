{
 "cells": [
  {
   "cell_type": "markdown",
   "metadata": {},
   "source": [
    "# Time arithmetic"
   ]
  },
  {
   "cell_type": "code",
   "execution_count": 1,
   "metadata": {
    "execution": {
     "iopub.execute_input": "2023-11-19T21:13:58.119443Z",
     "iopub.status.busy": "2023-11-19T21:13:58.117099Z",
     "iopub.status.idle": "2023-11-19T21:13:58.175156Z",
     "shell.execute_reply": "2023-11-19T21:13:58.169893Z"
    }
   },
   "outputs": [
    {
     "data": {
      "text/plain": [
       "[1] \"2020-02-01 GMT\""
      ]
     },
     "execution_count": 1,
     "metadata": {},
     "output_type": "execute_result"
    }
   ],
   "source": [
    "# When in standard format, a string does not need a format spefication in order\n",
    "# to be translatable\n",
    "t0 <- as.POSIXct(\"2020-02-01 00:00\",tz=\"GMT\")\n",
    "t0"
   ]
  },
  {
   "cell_type": "code",
   "execution_count": 2,
   "metadata": {
    "execution": {
     "iopub.execute_input": "2023-11-19T21:13:58.209954Z",
     "iopub.status.busy": "2023-11-19T21:13:58.181390Z",
     "iopub.status.idle": "2023-11-19T21:13:58.277148Z",
     "shell.execute_reply": "2023-11-19T21:13:58.274443Z"
    }
   },
   "outputs": [
    {
     "data": {
      "text/plain": [
       "[1] \"2020-02-01 01:00:00 GMT\""
      ]
     },
     "execution_count": 2,
     "metadata": {},
     "output_type": "execute_result"
    }
   ],
   "source": [
    "# Adding 3600 seconds means adding an hour:\n",
    "t0 + 3600"
   ]
  },
  {
   "cell_type": "code",
   "execution_count": 3,
   "metadata": {
    "execution": {
     "iopub.execute_input": "2023-11-19T21:13:58.283947Z",
     "iopub.status.busy": "2023-11-19T21:13:58.281500Z",
     "iopub.status.idle": "2023-11-19T21:13:58.295755Z",
     "shell.execute_reply": "2023-11-19T21:13:58.293020Z"
    }
   },
   "outputs": [
    {
     "data": {
      "text/plain": [
       "[1] \"2020-01-31 23:59:59 GMT\""
      ]
     },
     "execution_count": 3,
     "metadata": {},
     "output_type": "execute_result"
    }
   ],
   "source": [
    "# Subtracting seconds may also change the date:\n",
    "t0 - 1"
   ]
  },
  {
   "cell_type": "code",
   "execution_count": 4,
   "metadata": {
    "execution": {
     "iopub.execute_input": "2023-11-19T21:13:58.302614Z",
     "iopub.status.busy": "2023-11-19T21:13:58.300203Z",
     "iopub.status.idle": "2023-11-19T21:13:58.314640Z",
     "shell.execute_reply": "2023-11-19T21:13:58.311440Z"
    }
   },
   "outputs": [
    {
     "data": {
      "text/plain": [
       "[1] \"2020-02-02 GMT\""
      ]
     },
     "execution_count": 4,
     "metadata": {},
     "output_type": "execute_result"
    }
   ],
   "source": [
    "# A day is 24 times 3600 seconds\n",
    "day <- 24*3600\n",
    "t0 + day"
   ]
  }
 ],
 "metadata": {
  "kernelspec": {
   "display_name": "R (RKernel)",
   "language": "R",
   "name": "rkernel"
  },
  "language_info": {
   "codemirror_mode": "R",
   "file_extension": ".R",
   "mimetype": "text/x-r-source",
   "name": "R",
   "pygments_lexer": "r",
   "version": "4.3.2"
  }
 },
 "nbformat": 4,
 "nbformat_minor": 4
}
