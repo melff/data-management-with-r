{
 "cells": [
  {
   "cell_type": "markdown",
   "metadata": {},
   "source": [
    "# Time arithmetics with \"zoo\" objects"
   ]
  },
  {
   "cell_type": "markdown",
   "metadata": {},
   "source": [
    "The following makes use of the *zoo* package. You may need to install it from\n",
    "[CRAN](https://cran.r-project.org/package=zoo) using the code\n",
    "`install.packages(\"zoo\")` if you want to run this on your computer. (The\n",
    "package is already installed on the notebook container, however.)"
   ]
  },
  {
   "cell_type": "code",
   "execution_count": 1,
   "metadata": {
    "execution": {
     "iopub.execute_input": "2023-11-19T21:26:29.504372Z",
     "iopub.status.busy": "2023-11-19T21:26:29.501955Z",
     "iopub.status.idle": "2023-11-19T21:26:29.574681Z",
     "shell.execute_reply": "2023-11-19T21:26:29.571512Z"
    }
   },
   "outputs": [
    {
     "name": "stdout",
     "output_type": "stream",
     "text": [
      "\n",
      "Attaching package: ‘zoo’\n",
      "\n",
      "The following objects are masked from ‘package:base’:\n",
      "\n",
      "    as.Date, as.Date.numeric\n",
      "\n"
     ]
    }
   ],
   "source": [
    "library(zoo)"
   ]
  },
  {
   "cell_type": "markdown",
   "metadata": {},
   "source": [
    "The file \"zpresidents.RData\" was created in an earlier example."
   ]
  },
  {
   "cell_type": "code",
   "execution_count": 2,
   "metadata": {
    "execution": {
     "iopub.execute_input": "2023-11-19T21:26:29.608202Z",
     "iopub.status.busy": "2023-11-19T21:26:29.579085Z",
     "iopub.status.idle": "2023-11-19T21:26:29.699278Z",
     "shell.execute_reply": "2023-11-19T21:26:29.696506Z"
    }
   },
   "outputs": [],
   "source": [
    "load(\"zpresidents.RData\")"
   ]
  },
  {
   "cell_type": "code",
   "execution_count": 3,
   "metadata": {
    "execution": {
     "iopub.execute_input": "2023-11-19T21:26:29.706123Z",
     "iopub.status.busy": "2023-11-19T21:26:29.703537Z",
     "iopub.status.idle": "2023-11-19T21:26:29.724324Z",
     "shell.execute_reply": "2023-11-19T21:26:29.721642Z"
    }
   },
   "outputs": [
    {
     "data": {
      "text/plain": [
       "1945 Q3 1945 Q4 \n",
       "    164     150 "
      ]
     },
     "execution_count": 3,
     "metadata": {},
     "output_type": "execute_result"
    }
   ],
   "source": [
    "zpresidents_1 <- zpresidents[1:4]\n",
    "zpresidents_2 <- zpresidents[3:6]\n",
    "zpresidents_1 + zpresidents_2"
   ]
  },
  {
   "cell_type": "code",
   "execution_count": 4,
   "metadata": {
    "execution": {
     "iopub.execute_input": "2023-11-19T21:26:29.731126Z",
     "iopub.status.busy": "2023-11-19T21:26:29.728621Z",
     "iopub.status.idle": "2023-11-19T21:26:29.743176Z",
     "shell.execute_reply": "2023-11-19T21:26:29.740386Z"
    }
   },
   "outputs": [
    {
     "data": {
      "text/plain": [
       "[1]  NA 162 145 125"
      ]
     },
     "execution_count": 4,
     "metadata": {},
     "output_type": "execute_result"
    }
   ],
   "source": [
    "presidents_1 <- presidents[1:4]\n",
    "presidents_2 <- presidents[3:6]\n",
    "presidents_1 + presidents_2"
   ]
  }
 ],
 "metadata": {
  "kernelspec": {
   "display_name": "R (RKernel)",
   "language": "R",
   "name": "rkernel"
  },
  "language_info": {
   "codemirror_mode": "R",
   "file_extension": ".R",
   "mimetype": "text/x-r-source",
   "name": "R",
   "pygments_lexer": "r",
   "version": "4.3.2"
  }
 },
 "nbformat": 4,
 "nbformat_minor": 4
}
