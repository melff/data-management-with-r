{
 "cells": [
  {
   "cell_type": "code",
   "execution_count": 1,
   "metadata": {},
   "outputs": [],
   "source": [
    "options(jupyter.rich_display=FALSE) # Create output as usual in R"
   ]
  },
  {
   "cell_type": "markdown",
   "metadata": {},
   "source": [
    "First we load an R data file that contains data from the 2010\n",
    "British election study."
   ]
  },
  {
   "cell_type": "code",
   "execution_count": 2,
   "metadata": {},
   "outputs": [],
   "source": [
    "load(\"bes2010feelings-prepost.RData\")"
   ]
  },
  {
   "cell_type": "markdown",
   "metadata": {},
   "source": [
    "We then create a subset with only observations from Scotland\n",
    "and with parties and party leaders that run in Scotland:"
   ]
  },
  {
   "cell_type": "code",
   "execution_count": 3,
   "metadata": {},
   "outputs": [],
   "source": [
    "bes2010flngs_pre_scotland <- subset(bes2010flngs_pre,\n",
    "                                    region==\"Scotland\",\n",
    "                                    select=c(\n",
    "                                        flng.brown,\n",
    "                                        flng.cameron,\n",
    "                                        flng.clegg,\n",
    "                                        flng.salmond,\n",
    "                                        flng.labour,\n",
    "                                        flng.cons,\n",
    "                                        flng.libdem,\n",
    "                                        flng.snp,\n",
    "                                        flng.green))"
   ]
  },
  {
   "cell_type": "markdown",
   "metadata": {},
   "source": [
    "We can now compare the avarage feeling about Gordon Brown\n",
    "in the whole sample and in the subsample from Scotland:\n",
    "First the whole UK:"
   ]
  },
  {
   "cell_type": "code",
   "execution_count": 4,
   "metadata": {},
   "outputs": [
    {
     "data": {
      "text/plain": [
       "[1] 4.339703"
      ]
     },
     "metadata": {},
     "output_type": "display_data"
    }
   ],
   "source": [
    "with(bes2010flngs_pre,mean(flng.brown,na.rm=TRUE))"
   ]
  },
  {
   "cell_type": "markdown",
   "metadata": {},
   "source": [
    "then the Scotland subsample:"
   ]
  },
  {
   "cell_type": "code",
   "execution_count": 5,
   "metadata": {},
   "outputs": [
    {
     "data": {
      "text/plain": [
       "[1] 5.395"
      ]
     },
     "metadata": {},
     "output_type": "display_data"
    }
   ],
   "source": [
    "with(bes2010flngs_pre_scotland,mean(flng.brown,na.rm=TRUE))"
   ]
  },
  {
   "cell_type": "markdown",
   "metadata": {},
   "source": [
    "It is also possible to create a subset of cases and variables with the\n",
    "bracket operator, but this is pretty tedious:"
   ]
  },
  {
   "cell_type": "code",
   "execution_count": 6,
   "metadata": {},
   "outputs": [],
   "source": [
    "bes2010flngs_pre_scotland <- bes2010flngs_pre[\n",
    "    bes2010flngs_pre$region==\"Scotland\",c(\n",
    "                             \"flng.labour\",\n",
    "                             \"flng.cons\",\n",
    "                             \"flng.libdem\",\n",
    "                             \"flng.snp\",\n",
    "                             \"flng.green\",\n",
    "                             \"flng.brown\",\n",
    "                             \"flng.cameron\",\n",
    "                             \"flng.clegg\",\n",
    "                             \"flng.salmond\")]"
   ]
  },
  {
   "cell_type": "code",
   "execution_count": 7,
   "metadata": {},
   "outputs": [
    {
     "data": {
      "text/plain": [
       "[1] 5.395"
      ]
     },
     "metadata": {},
     "output_type": "display_data"
    }
   ],
   "source": [
    "with(bes2010flngs_pre_scotland,mean(flng.brown,na.rm=TRUE))"
   ]
  },
  {
   "cell_type": "code",
   "execution_count": null,
   "metadata": {},
   "outputs": [],
   "source": []
  }
 ],
 "metadata": {
  "kernelspec": {
   "display_name": "R",
   "language": "R",
   "name": "ir"
  },
  "language_info": {
   "codemirror_mode": "r",
   "file_extension": ".r",
   "mimetype": "text/x-r-source",
   "name": "R",
   "pygments_lexer": "r",
   "version": "4.0.3"
  }
 },
 "nbformat": 4,
 "nbformat_minor": 4
}
