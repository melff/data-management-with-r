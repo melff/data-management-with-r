{
 "cells": [
  {
   "cell_type": "code",
   "execution_count": 1,
   "metadata": {},
   "outputs": [],
   "source": [
    "options(jupyter.rich_display=FALSE) # Create output as usual in R"
   ]
  },
  {
   "cell_type": "code",
   "execution_count": 2,
   "metadata": {},
   "outputs": [],
   "source": [
    "load(\"bes2010flngs-pre-long.RData\")"
   ]
  },
  {
   "cell_type": "markdown",
   "metadata": {},
   "source": [
    "Groupwise computations using `split()`:"
   ]
  },
  {
   "cell_type": "code",
   "execution_count": 3,
   "metadata": {},
   "outputs": [
    {
     "name": "stdout",
     "output_type": "stream",
     "text": [
      "'data.frame':\t8 obs. of  5 variables:\n",
      " $ region     : Factor w/ 3 levels \"England\",\"Scotland\",..: 1 1 1 1 1 1 1 1\n",
      " $ party      : Factor w/ 8 levels \"Conservative\",..: 1 2 3 4 5 6 7 8\n",
      " $ flng.leader: num  3 6 3 NA 5 NA NA NA\n",
      " $ flng.party : num  6 5 4 NA NA 7 3 0\n",
      " $ id         : int  1 1 1 1 1 1 1 1\n",
      " - attr(*, \"reshapeLong\")=List of 4\n",
      "  ..$ varying:List of 2\n",
      "  .. ..$ flng.leader: chr [1:8] \"flng.cameron\" \"flng.brown\" \"flng.clegg\" \"flng.salmond\" ...\n",
      "  .. ..$ flng.party : chr [1:8] \"flng.cons\" \"flng.labour\" \"flng.libdem\" \"flng.snp\" ...\n",
      "  ..$ v.names: chr [1:2] \"flng.leader\" \"flng.party\"\n",
      "  ..$ idvar  : chr \"id\"\n",
      "  ..$ timevar: chr \"party\"\n"
     ]
    }
   ],
   "source": [
    "bes2010flngs_pre_long.splt <- split(bes2010flngs_pre_long,\n",
    "                                    bes2010flngs_pre_long$id)\n",
    "\n",
    "str(bes2010flngs_pre_long.splt[[1]])"
   ]
  },
  {
   "cell_type": "code",
   "execution_count": 4,
   "metadata": {},
   "outputs": [],
   "source": [
    "Mean <- function(x,...) mean(x,...,na.rm=TRUE)"
   ]
  },
  {
   "cell_type": "code",
   "execution_count": 5,
   "metadata": {},
   "outputs": [
    {
     "name": "stdout",
     "output_type": "stream",
     "text": [
      "'data.frame':\t8 obs. of  7 variables:\n",
      " $ region         : Factor w/ 3 levels \"England\",\"Scotland\",..: 1 1 1 1 1 1 1 1\n",
      " $ party          : Factor w/ 8 levels \"Conservative\",..: 1 2 3 4 5 6 7 8\n",
      " $ flng.leader    : num  3 6 3 NA 5 NA NA NA\n",
      " $ flng.party     : num  6 5 4 NA NA 7 3 0\n",
      " $ id             : int  1 1 1 1 1 1 1 1\n",
      " $ rel.flng.leader: num  -1.25 1.75 -1.25 NA 0.75 NA NA NA\n",
      " $ rel.flng.partiy: num  1.833 0.833 -0.167 NA NA ...\n",
      " - attr(*, \"reshapeLong\")=List of 4\n",
      "  ..$ varying:List of 2\n",
      "  .. ..$ flng.leader: chr [1:8] \"flng.cameron\" \"flng.brown\" \"flng.clegg\" \"flng.salmond\" ...\n",
      "  .. ..$ flng.party : chr [1:8] \"flng.cons\" \"flng.labour\" \"flng.libdem\" \"flng.snp\" ...\n",
      "  ..$ v.names: chr [1:2] \"flng.leader\" \"flng.party\"\n",
      "  ..$ idvar  : chr \"id\"\n",
      "  ..$ timevar: chr \"party\"\n"
     ]
    }
   ],
   "source": [
    "bes2010flngs_pre_long.splt <- lapply(\n",
    "    bes2010flngs_pre_long.splt,\n",
    "    within,expr={\n",
    "        rel.flng.partiy <- flng.party - Mean(flng.party)\n",
    "        rel.flng.leader <- flng.leader - Mean(flng.leader)\n",
    "    })\n",
    "\n",
    "str(bes2010flngs_pre_long.splt[[1]])"
   ]
  },
  {
   "cell_type": "code",
   "execution_count": 6,
   "metadata": {},
   "outputs": [
    {
     "name": "stdout",
     "output_type": "stream",
     "text": [
      "'data.frame':\t15480 obs. of  7 variables:\n",
      " $ region         : Factor w/ 3 levels \"England\",\"Scotland\",..: 1 1 1 1 1 1 1 1 NA NA ...\n",
      " $ party          : Factor w/ 8 levels \"Conservative\",..: 1 2 3 4 5 6 7 8 1 2 ...\n",
      " $ flng.leader    : num  3 6 3 NA 5 NA NA NA 7 3 ...\n",
      " $ flng.party     : num  6 5 4 NA NA 7 3 0 6 1 ...\n",
      " $ id             : int  1 1 1 1 1 1 1 1 2 2 ...\n",
      " $ rel.flng.leader: num  -1.25 1.75 -1.25 NA 0.75 NA NA NA 2.5 -1.5 ...\n",
      " $ rel.flng.partiy: num  1.833 0.833 -0.167 NA NA ...\n",
      " - attr(*, \"reshapeLong\")=List of 4\n",
      "  ..$ varying:List of 2\n",
      "  .. ..$ flng.leader: chr [1:8] \"flng.cameron\" \"flng.brown\" \"flng.clegg\" \"flng.salmond\" ...\n",
      "  .. ..$ flng.party : chr [1:8] \"flng.cons\" \"flng.labour\" \"flng.libdem\" \"flng.snp\" ...\n",
      "  ..$ v.names: chr [1:2] \"flng.leader\" \"flng.party\"\n",
      "  ..$ idvar  : chr \"id\"\n",
      "  ..$ timevar: chr \"party\"\n"
     ]
    }
   ],
   "source": [
    "bes2010flngs_pre_long <- unsplit(bes2010flngs_pre_long.splt,\n",
    "                                 bes2010flngs_pre_long$id)\n",
    "str(bes2010flngs_pre_long)"
   ]
  },
  {
   "cell_type": "markdown",
   "metadata": {},
   "source": [
    "Groupwise computations using `withinGroups()`:"
   ]
  },
  {
   "cell_type": "code",
   "execution_count": 7,
   "metadata": {},
   "outputs": [
    {
     "name": "stderr",
     "output_type": "stream",
     "text": [
      "Loading required package: lattice\n",
      "\n",
      "Loading required package: MASS\n",
      "\n",
      "\n",
      "Attaching package: ‘memisc’\n",
      "\n",
      "\n",
      "The following object is masked _by_ ‘.GlobalEnv’:\n",
      "\n",
      "    Mean\n",
      "\n",
      "\n",
      "The following objects are masked from ‘package:stats’:\n",
      "\n",
      "    contr.sum, contr.treatment, contrasts\n",
      "\n",
      "\n",
      "The following object is masked from ‘package:base’:\n",
      "\n",
      "    as.array\n",
      "\n",
      "\n"
     ]
    }
   ],
   "source": [
    "library(memisc)"
   ]
  },
  {
   "cell_type": "code",
   "execution_count": 8,
   "metadata": {},
   "outputs": [],
   "source": [
    "Mean <- function(x,...) mean(x,...,na.rm=TRUE)\n",
    "bes2010flngs_pre_long <- withinGroups(bes2010flngs_pre_long,\n",
    "                                      ~id,{\n",
    "     rel.flng.party <- flng.party - Mean(flng.party)\n",
    "     rel.flng.leader <- flng.leader - Mean(flng.leader)\n",
    "    })"
   ]
  },
  {
   "cell_type": "markdown",
   "metadata": {},
   "source": [
    "We use 'head' to look at the first 14 elements of the re-combined data frame:"
   ]
  },
  {
   "cell_type": "code",
   "execution_count": 9,
   "metadata": {},
   "outputs": [
    {
     "data": {
      "text/plain": [
       "               flng.leader flng.party id rel.flng.leader rel.flng.partiy\n",
       "1.Conservative  3           6         1  -1.25            1.8333333     \n",
       "1.Labour        6           5         1   1.75            0.8333333     \n",
       "1.LibDem        3           4         1  -1.25           -0.1666667     \n",
       "1.SNP          NA          NA         1     NA                   NA     \n",
       "1.Plaid Cymru   5          NA         1   0.75                   NA     \n",
       "1.Green        NA           7         1     NA            2.8333333     \n",
       "1.UKIP         NA           3         1     NA           -1.1666667     \n",
       "1.BNP          NA           0         1     NA           -4.1666667     \n",
       "2.Conservative  7           6         2   2.50            2.6666667     \n",
       "2.Labour        3           1         2  -1.50           -2.3333333     \n",
       "2.LibDem        5           7         2   0.50            3.6666667     \n",
       "2.SNP          NA          NA         2     NA                   NA     \n",
       "2.Plaid Cymru   3          NA         2  -1.50                   NA     \n",
       "2.Green        NA           6         2     NA            2.6666667     \n",
       "               rel.flng.party\n",
       "1.Conservative  1.8333333    \n",
       "1.Labour        0.8333333    \n",
       "1.LibDem       -0.1666667    \n",
       "1.SNP                  NA    \n",
       "1.Plaid Cymru          NA    \n",
       "1.Green         2.8333333    \n",
       "1.UKIP         -1.1666667    \n",
       "1.BNP          -4.1666667    \n",
       "2.Conservative  2.6666667    \n",
       "2.Labour       -2.3333333    \n",
       "2.LibDem        3.6666667    \n",
       "2.SNP                  NA    \n",
       "2.Plaid Cymru          NA    \n",
       "2.Green         2.6666667    "
      ]
     },
     "metadata": {},
     "output_type": "display_data"
    }
   ],
   "source": [
    "head(bes2010flngs_pre_long[-(1:2)],n=14)"
   ]
  },
  {
   "cell_type": "code",
   "execution_count": null,
   "metadata": {},
   "outputs": [],
   "source": []
  }
 ],
 "metadata": {
  "kernelspec": {
   "display_name": "R",
   "language": "R",
   "name": "ir"
  },
  "language_info": {
   "codemirror_mode": "r",
   "file_extension": ".r",
   "mimetype": "text/x-r-source",
   "name": "R",
   "pygments_lexer": "r",
   "version": "4.0.3"
  }
 },
 "nbformat": 4,
 "nbformat_minor": 4
}
