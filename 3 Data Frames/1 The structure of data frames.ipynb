{
 "cells": [
  {
   "cell_type": "code",
   "execution_count": 1,
   "metadata": {},
   "outputs": [],
   "source": [
    "options(jupyter.rich_display=FALSE) # Create output as usual in R"
   ]
  },
  {
   "cell_type": "markdown",
   "metadata": {},
   "source": [
    "## Data frame construction"
   ]
  },
  {
   "cell_type": "code",
   "execution_count": 2,
   "metadata": {},
   "outputs": [
    {
     "data": {
      "text/plain": [
       "  population area.sq.m GVA.cap\n",
       "1 55619400   50301     28096  \n",
       "2  1885400    5460     20000  \n",
       "3  5424800   30090     24800  \n",
       "4  3125000    8023     19900  "
      ]
     },
     "metadata": {},
     "output_type": "display_data"
    }
   ],
   "source": [
    "# First create a few vectors from which we construct the data frame:\n",
    "population  <- c(55619400,1885400,5424800,3125000)\n",
    "area.sq.m   <- c(50301,5460,30090,8023)\n",
    "GVA.cap     <- c(28096,20000,24800,19900)\n",
    "# then we use 'data.frame' to construct the data frame:\n",
    "UK <- data.frame(population,area.sq.m,GVA.cap)\n",
    "UK"
   ]
  },
  {
   "cell_type": "code",
   "execution_count": 3,
   "metadata": {},
   "outputs": [
    {
     "data": {
      "text/plain": [
       "[1] \"population\" \"area.sq.m\"  \"GVA.cap\"   "
      ]
     },
     "metadata": {},
     "output_type": "display_data"
    },
    {
     "data": {
      "text/plain": [
       "  Population Area  GVA  \n",
       "1 55619400   50301 28096\n",
       "2  1885400    5460 20000\n",
       "3  5424800   30090 24800\n",
       "4  3125000    8023 19900"
      ]
     },
     "metadata": {},
     "output_type": "display_data"
    }
   ],
   "source": [
    "names(UK)\n",
    "names(UK) <- c(\"Population\",\"Area\",\"GVA\")\n",
    "UK"
   ]
  },
  {
   "cell_type": "code",
   "execution_count": 4,
   "metadata": {},
   "outputs": [
    {
     "data": {
      "text/plain": [
       "[1] \"1\" \"2\" \"3\" \"4\""
      ]
     },
     "metadata": {},
     "output_type": "display_data"
    }
   ],
   "source": [
    "row.names(UK)"
   ]
  },
  {
   "cell_type": "code",
   "execution_count": 5,
   "metadata": {},
   "outputs": [
    {
     "data": {
      "text/plain": [
       "                 Population Area  GVA  \n",
       "England          55619400   50301 28096\n",
       "Northern Ireland  1885400    5460 20000\n",
       "Scotland          5424800   30090 24800\n",
       "Wales             3125000    8023 19900"
      ]
     },
     "metadata": {},
     "output_type": "display_data"
    }
   ],
   "source": [
    "row.names(UK) <- c(\"England\",\n",
    "                   \"Northern Ireland\",\n",
    "                   \"Scotland\",\n",
    "                   \"Wales\")\n",
    "UK"
   ]
  },
  {
   "cell_type": "code",
   "execution_count": 6,
   "metadata": {},
   "outputs": [
    {
     "data": {
      "text/plain": [
       "                 Population Area  GVA  \n",
       "England          55619400   50301 28096\n",
       "Northern Ireland  1885400    5460 20000\n",
       "Scotland          5424800   30090 24800\n",
       "Wales             3125000    8023 19900"
      ]
     },
     "metadata": {},
     "output_type": "display_data"
    }
   ],
   "source": [
    "# It is also possible to set the names and row names in the data frame explicitly, when this\n",
    "# appears more convenient:\n",
    "UK <- data.frame(\n",
    "           Population = c(55619400,1885400,5424800,3125000),\n",
    "           Area = c(50301,5460,30090,8023),\n",
    "           GVA = c(28096,20000,24800,19900),\n",
    "           row.names = c(\"England\",\n",
    "                         \"Northern Ireland\",\n",
    "                         \"Scotland\",\n",
    "                         \"Wales\"))\n",
    "UK"
   ]
  },
  {
   "cell_type": "code",
   "execution_count": 7,
   "metadata": {},
   "outputs": [
    {
     "data": {
      "text/plain": [
       "[1] 4"
      ]
     },
     "metadata": {},
     "output_type": "display_data"
    }
   ],
   "source": [
    "nrow(UK)"
   ]
  },
  {
   "cell_type": "code",
   "execution_count": 8,
   "metadata": {},
   "outputs": [
    {
     "data": {
      "text/plain": [
       "[1] 3"
      ]
     },
     "metadata": {},
     "output_type": "display_data"
    }
   ],
   "source": [
    "ncol(UK)"
   ]
  },
  {
   "cell_type": "code",
   "execution_count": 9,
   "metadata": {},
   "outputs": [
    {
     "data": {
      "text/plain": [
       "[1] 4 3"
      ]
     },
     "metadata": {},
     "output_type": "display_data"
    }
   ],
   "source": [
    "dim(UK)"
   ]
  },
  {
   "cell_type": "markdown",
   "metadata": {},
   "source": [
    "## In what follows we treat the data frame 'UK' as a list:"
   ]
  },
  {
   "cell_type": "code",
   "execution_count": 10,
   "metadata": {},
   "outputs": [
    {
     "data": {
      "text/plain": [
       "[1] 55619400  1885400  5424800  3125000"
      ]
     },
     "metadata": {},
     "output_type": "display_data"
    }
   ],
   "source": [
    "# Here we get the variable 'Population':\n",
    "UK$Population"
   ]
  },
  {
   "cell_type": "code",
   "execution_count": 11,
   "metadata": {},
   "outputs": [
    {
     "data": {
      "text/plain": [
       "[1] 55619400  1885400  5424800  3125000"
      ]
     },
     "metadata": {},
     "output_type": "display_data"
    }
   ],
   "source": [
    "# Analoguously, one can use the double bracket-operator ('[[]]')\n",
    "# to get the variable 'Population':\n",
    "UK[[\"Population\"]]"
   ]
  },
  {
   "cell_type": "code",
   "execution_count": 12,
   "metadata": {},
   "outputs": [
    {
     "data": {
      "text/plain": [
       "                 Population Area \n",
       "England          55619400   50301\n",
       "Northern Ireland  1885400    5460\n",
       "Scotland          5424800   30090\n",
       "Wales             3125000    8023"
      ]
     },
     "metadata": {},
     "output_type": "display_data"
    }
   ],
   "source": [
    "# Also the single bracket-operator works as with lists.\n",
    "# We get a data frame of the first two variables in\n",
    "# the data frame\n",
    "UK[1:2]"
   ]
  },
  {
   "cell_type": "code",
   "execution_count": 13,
   "metadata": {},
   "outputs": [
    {
     "data": {
      "text/plain": [
       "                 Population GVA  \n",
       "England          55619400   28096\n",
       "Northern Ireland  1885400   20000\n",
       "Scotland          5424800   24800\n",
       "Wales             3125000   19900"
      ]
     },
     "metadata": {},
     "output_type": "display_data"
    }
   ],
   "source": [
    "# Now we get a data frame with the variables named 'Population' and\n",
    "# 'GVA'\n",
    "UK[c(\"Population\",\"GVA\")]"
   ]
  },
  {
   "cell_type": "markdown",
   "metadata": {},
   "source": [
    "## In the next few lines show the selection of rows and columns of a data frame"
   ]
  },
  {
   "cell_type": "code",
   "execution_count": 14,
   "metadata": {},
   "outputs": [
    {
     "data": {
      "text/plain": [
       "                 Population Area  GVA  \n",
       "England          55619400   50301 28096\n",
       "Northern Ireland  1885400    5460 20000"
      ]
     },
     "metadata": {},
     "output_type": "display_data"
    }
   ],
   "source": [
    "# We select the first two rows of the\n",
    "# data frame 'UK' by just using their numbers:\n",
    "UK[1:2,]"
   ]
  },
  {
   "cell_type": "code",
   "execution_count": 15,
   "metadata": {},
   "outputs": [
    {
     "data": {
      "text/plain": [
       "         Population Area  GVA  \n",
       "Scotland 5424800    30090 24800\n",
       "Wales    3125000     8023 19900"
      ]
     },
     "metadata": {},
     "output_type": "display_data"
    }
   ],
   "source": [
    "# By referring to row names, we select Scotland and Wales:\n",
    "UK[c(\"Scotland\",\"Wales\"),]"
   ]
  },
  {
   "cell_type": "code",
   "execution_count": 16,
   "metadata": {},
   "outputs": [
    {
     "data": {
      "text/plain": [
       "                 Population Area \n",
       "England          55619400   50301\n",
       "Northern Ireland  1885400    5460\n",
       "Scotland          5424800   30090\n",
       "Wales             3125000    8023"
      ]
     },
     "metadata": {},
     "output_type": "display_data"
    }
   ],
   "source": [
    "# As in a previous example, we select the first two columns ...\n",
    "UK[,1:2]"
   ]
  },
  {
   "cell_type": "code",
   "execution_count": 17,
   "metadata": {},
   "outputs": [
    {
     "data": {
      "text/plain": [
       "                 Population GVA  \n",
       "England          55619400   28096\n",
       "Northern Ireland  1885400   20000\n",
       "Scotland          5424800   24800\n",
       "Wales             3125000   19900"
      ]
     },
     "metadata": {},
     "output_type": "display_data"
    }
   ],
   "source": [
    "# and the variables named 'Population' and 'GVA'\n",
    "UK[,c(\"Population\",\"GVA\")]"
   ]
  },
  {
   "cell_type": "code",
   "execution_count": null,
   "metadata": {},
   "outputs": [],
   "source": []
  }
 ],
 "metadata": {
  "kernelspec": {
   "display_name": "R",
   "language": "R",
   "name": "ir"
  },
  "language_info": {
   "codemirror_mode": "r",
   "file_extension": ".r",
   "mimetype": "text/x-r-source",
   "name": "R",
   "pygments_lexer": "r",
   "version": "4.0.3"
  }
 },
 "nbformat": 4,
 "nbformat_minor": 4
}
