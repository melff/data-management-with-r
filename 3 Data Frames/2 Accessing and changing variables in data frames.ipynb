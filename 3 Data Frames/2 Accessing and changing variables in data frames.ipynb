{
 "cells": [
  {
   "cell_type": "code",
   "execution_count": 1,
   "metadata": {},
   "outputs": [],
   "source": [
    "options(jupyter.rich_display=FALSE) # Create output as usual in R"
   ]
  },
  {
   "cell_type": "code",
   "execution_count": 2,
   "metadata": {},
   "outputs": [],
   "source": [
    "load(\"bes2010feelings-prepost.RData\")"
   ]
  },
  {
   "cell_type": "markdown",
   "metadata": {},
   "source": [
    "## `with()` versus `attach()`"
   ]
  },
  {
   "cell_type": "code",
   "execution_count": 3,
   "metadata": {},
   "outputs": [
    {
     "data": {
      "text/plain": [
       "   Brown  Cameron    Clegg  Salmond    Jones \n",
       "4.339703 5.090708 4.557366 4.505660 4.235949 "
      ]
     },
     "metadata": {},
     "output_type": "display_data"
    }
   ],
   "source": [
    "c(\n",
    "    Brown   = mean(bes2010flngs_pre$flng.brown,na.rm=TRUE),\n",
    "    Cameron = mean(bes2010flngs_pre$flng.cameron,na.rm=TRUE),\n",
    "    Clegg   = mean(bes2010flngs_pre$flng.clegg,na.rm=TRUE),\n",
    "    Salmond = mean(bes2010flngs_pre$flng.salmond,na.rm=TRUE),\n",
    "    Jones   = mean(bes2010flngs_pre$flng.jones,na.rm=TRUE)\n",
    ")"
   ]
  },
  {
   "cell_type": "code",
   "execution_count": 4,
   "metadata": {},
   "outputs": [
    {
     "data": {
      "text/plain": [
       "   Brown  Cameron    Clegg  Salmond    Jones \n",
       "4.339703 5.090708 4.557366 4.505660 4.235949 "
      ]
     },
     "metadata": {},
     "output_type": "display_data"
    }
   ],
   "source": [
    "## Use of 'attach'\n",
    "\n",
    "# The following code shows how the use of 'attach' can lead to confusion\n",
    "Mean <- function(x,...) mean(x,na.rm=TRUE,...)\n",
    "attach(bes2010flngs_pre)\n",
    "c(\n",
    "    Brown   = Mean(flng.brown),\n",
    "    Cameron = Mean(flng.cameron),\n",
    "    Clegg   = Mean(flng.clegg),\n",
    "    Salmond = Mean(flng.salmond),\n",
    "    Jones   = Mean(flng.jones)\n",
    ")"
   ]
  },
  {
   "cell_type": "code",
   "execution_count": 5,
   "metadata": {},
   "outputs": [
    {
     "name": "stderr",
     "output_type": "stream",
     "text": [
      "The following objects are masked from bes2010flngs_pre:\n",
      "\n",
      "    flng.bnp, flng.brown, flng.cameron, flng.clegg, flng.cons,\n",
      "    flng.green, flng.jones, flng.labour, flng.libdem, flng.pcym,\n",
      "    flng.salmond, flng.snp, flng.ukip, region\n",
      "\n",
      "\n"
     ]
    },
    {
     "data": {
      "text/plain": [
       "   Brown  Cameron    Clegg  Salmond    Jones \n",
       "4.448116 5.206120 5.001756 4.228707 4.509317 "
      ]
     },
     "metadata": {},
     "output_type": "display_data"
    }
   ],
   "source": [
    "attach(bes2010flngs_post)\n",
    "c(\n",
    "    Brown   = Mean(flng.brown),\n",
    "    Cameron = Mean(flng.cameron),\n",
    "    Clegg   = Mean(flng.clegg),\n",
    "    Salmond = Mean(flng.salmond),\n",
    "    Jones   = Mean(flng.jones)\n",
    ")"
   ]
  },
  {
   "cell_type": "code",
   "execution_count": 6,
   "metadata": {},
   "outputs": [],
   "source": [
    "detach(bes2010flngs_post)"
   ]
  },
  {
   "cell_type": "code",
   "execution_count": 7,
   "metadata": {},
   "outputs": [
    {
     "data": {
      "text/plain": [
       "   Brown  Cameron    Clegg  Salmond    Jones \n",
       "4.339703 5.090708 4.557366 4.505660 4.235949 "
      ]
     },
     "metadata": {},
     "output_type": "display_data"
    }
   ],
   "source": [
    "c(\n",
    "    Brown   = Mean(flng.brown),\n",
    "    Cameron = Mean(flng.cameron),\n",
    "    Clegg   = Mean(flng.clegg),\n",
    "    Salmond = Mean(flng.salmond),\n",
    "    Jones   = Mean(flng.jones)\n",
    ")"
   ]
  },
  {
   "cell_type": "code",
   "execution_count": 8,
   "metadata": {},
   "outputs": [],
   "source": [
    "detach(bes2010flngs_pre)"
   ]
  },
  {
   "cell_type": "code",
   "execution_count": 9,
   "metadata": {},
   "outputs": [
    {
     "data": {
      "text/plain": [
       "   Brown  Cameron    Clegg  Salmond    Jones \n",
       "4.339703 5.090708 4.557366 4.505660 4.235949 "
      ]
     },
     "metadata": {},
     "output_type": "display_data"
    }
   ],
   "source": [
    "# 'with()' is a better alternative, because it is clear where the data in the varialbes come from:\n",
    "\n",
    "with(bes2010flngs_pre,c(\n",
    "    Brown   = Mean(flng.brown),\n",
    "    Cameron = Mean(flng.cameron),\n",
    "    Clegg   = Mean(flng.clegg),\n",
    "    Salmond = Mean(flng.salmond),\n",
    "    Jones   = Mean(flng.jones)\n",
    "))"
   ]
  },
  {
   "cell_type": "code",
   "execution_count": 10,
   "metadata": {},
   "outputs": [
    {
     "data": {
      "text/plain": [
       "   Brown  Cameron    Clegg  Salmond    Jones \n",
       "4.448116 5.206120 5.001756 4.228707 4.509317 "
      ]
     },
     "metadata": {},
     "output_type": "display_data"
    }
   ],
   "source": [
    "with(bes2010flngs_post,c(\n",
    "    Brown   = Mean(flng.brown),\n",
    "    Cameron = Mean(flng.cameron),\n",
    "    Clegg   = Mean(flng.clegg),\n",
    "    Salmond = Mean(flng.salmond),\n",
    "    Jones   = Mean(flng.jones)\n",
    "))"
   ]
  },
  {
   "cell_type": "markdown",
   "metadata": {},
   "source": [
    "## Changing variables within a data frame "
   ]
  },
  {
   "cell_type": "code",
   "execution_count": 12,
   "metadata": {},
   "outputs": [],
   "source": [
    "bes2010flngs_pre <- within(bes2010flngs_pre,{\n",
    "    ave_flng <- (flng.brown + flng.cameron + flng.clegg)/3\n",
    "    rel_flng.brown   <- flng.brown - ave_flng\n",
    "    rel_flng.cameron <- flng.cameron - ave_flng\n",
    "    rel_flng.clegg   <- flng.clegg - ave_flng\n",
    "})"
   ]
  },
  {
   "cell_type": "code",
   "execution_count": 13,
   "metadata": {},
   "outputs": [
    {
     "data": {
      "text/plain": [
       "     Brown    Cameron      Clegg \n",
       "-0.3960328  0.5068399 -0.1108071 "
      ]
     },
     "metadata": {},
     "output_type": "display_data"
    }
   ],
   "source": [
    "with(bes2010flngs_pre,c(\n",
    "    Brown   = Mean(rel_flng.brown),\n",
    "    Cameron = Mean(rel_flng.cameron),\n",
    "    Clegg   = Mean(rel_flng.clegg)\n",
    "))"
   ]
  },
  {
   "cell_type": "code",
   "execution_count": 14,
   "metadata": {},
   "outputs": [],
   "source": [
    "# It is also possible without 'within()' but this is terribly tedious:\n",
    "bes2010flngs_pre$ave_flng <- (bes2010flngs_pre$flng.brown +\n",
    "                              bes2010flngs_pre$flng.cameron +\n",
    "                              bes2010flngs_pre$flng.clegg)/3\n",
    "bes2010flngs_pre$rel_flng.brown   <- (bes2010flngs_pre$flng.brown\n",
    "                                      - bes2010flngs_pre$ave_flng)\n",
    "bes2010flngs_pre$rel_flng.cameron <- (bes2010flngs_pre$flng.cameron\n",
    "                                      - bes2010flngs_pre$ave_flng)\n",
    "bes2010flngs_pre$rel_flng.clegg   <- (bes2010flngs_pre$flng.clegg\n",
    "                                      - bes2010flngs_pre$ave_flng)"
   ]
  },
  {
   "cell_type": "code",
   "execution_count": 15,
   "metadata": {},
   "outputs": [
    {
     "data": {
      "text/plain": [
       "     Brown    Cameron      Clegg \n",
       "-0.3960328  0.5068399 -0.1108071 "
      ]
     },
     "metadata": {},
     "output_type": "display_data"
    }
   ],
   "source": [
    "with(bes2010flngs_pre,c(\n",
    "    Brown   = Mean(rel_flng.brown),\n",
    "    Cameron = Mean(rel_flng.cameron),\n",
    "    Clegg   = Mean(rel_flng.clegg)\n",
    "))"
   ]
  }
 ],
 "metadata": {
  "kernelspec": {
   "display_name": "R",
   "language": "R",
   "name": "ir"
  },
  "language_info": {
   "codemirror_mode": "r",
   "file_extension": ".r",
   "mimetype": "text/x-r-source",
   "name": "R",
   "pygments_lexer": "r",
   "version": "4.0.3"
  }
 },
 "nbformat": 4,
 "nbformat_minor": 4
}
