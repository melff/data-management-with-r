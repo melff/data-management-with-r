{
 "cells": [
  {
   "cell_type": "code",
   "execution_count": 1,
   "metadata": {},
   "outputs": [],
   "source": [
    "options(jupyter.rich_display=FALSE) # Create output as usual in R"
   ]
  },
  {
   "cell_type": "markdown",
   "metadata": {},
   "source": [
    "First we load some example data from the British Election Study 2010"
   ]
  },
  {
   "cell_type": "code",
   "execution_count": 3,
   "metadata": {},
   "outputs": [],
   "source": [
    "load(\"../Data/bes2010feelings-for-append.RData\")"
   ]
  },
  {
   "cell_type": "markdown",
   "metadata": {},
   "source": [
    "We now have two BES data frames, one from the pre-election wave and another\n",
    "from the post-election wave. They contain the same variables, but in a different\n",
    "order:"
   ]
  },
  {
   "cell_type": "code",
   "execution_count": 4,
   "metadata": {},
   "outputs": [
    {
     "name": "stdout",
     "output_type": "stream",
     "text": [
      "'data.frame':\t1935 obs. of  14 variables:\n",
      " $ flng.brown  : num  6 3 8 4 5 5 5 4 7 4 ...\n",
      " $ flng.cameron: num  3 7 7 4 5 0 3 6 2 2 ...\n",
      " $ flng.clegg  : num  3 5 4 3 5 4 2 7 4 8 ...\n",
      " $ flng.salmond: num  NA NA NA NA NA NA NA NA NA NA ...\n",
      " $ flng.jones  : num  5 3 10 7 5 1 7 1 6 4 ...\n",
      " $ flng.labour : num  5 1 3 6 8 5 6 2 8 3 ...\n",
      " $ flng.cons   : num  6 6 4 6 4 1 3 3 3 3 ...\n",
      " $ flng.libdem : num  4 7 5 5 5 4 0 5 4 9 ...\n",
      " $ flng.snp    : num  NA NA NA NA NA NA NA NA NA NA ...\n",
      " $ flng.pcym   : num  NA NA NA NA NA NA NA NA NA NA ...\n",
      " $ flng.green  : num  7 6 5 5 4 4 1 5 5 5 ...\n",
      " $ flng.ukip   : num  3 0 0 3 NA 0 NA 2 3 1 ...\n",
      " $ flng.bnp    : num  0 0 0 2 2 0 0 0 0 0 ...\n",
      " $ region      : Factor w/ 3 levels \"England\",\"Scotland\",..: 1 NA 1 1 NA 1 1 1 1 1 ...\n"
     ]
    }
   ],
   "source": [
    "str(bes2010flngs_pre)"
   ]
  },
  {
   "cell_type": "code",
   "execution_count": 5,
   "metadata": {},
   "outputs": [
    {
     "name": "stdout",
     "output_type": "stream",
     "text": [
      "'data.frame':\t3075 obs. of  14 variables:\n",
      " $ flng.jones  : num  NA NA NA NA NA NA NA NA NA NA ...\n",
      " $ flng.labour : num  5 2 9 7 0 2 6 5 7 2 ...\n",
      " $ flng.ukip   : num  NA NA NA NA NA NA NA NA NA NA ...\n",
      " $ flng.libdem : num  4 5 4 4 6 NA 4 4 7 7 ...\n",
      " $ flng.brown  : num  5 2 5 7 0 2 3 2 5 2 ...\n",
      " $ flng.bnp    : num  NA NA NA NA NA NA NA NA NA NA ...\n",
      " $ flng.snp    : num  NA NA NA NA NA NA NA NA NA NA ...\n",
      " $ flng.salmond: num  NA NA NA NA NA NA NA NA NA NA ...\n",
      " $ flng.pcym   : num  NA NA NA NA NA NA NA NA NA NA ...\n",
      " $ flng.cons   : num  5 5 3 10 10 3 3 8 7 7 ...\n",
      " $ flng.cameron: num  5 6 5 3 8 10 7 8 8 7 ...\n",
      " $ flng.green  : num  NA NA NA NA NA NA NA NA NA NA ...\n",
      " $ flng.clegg  : num  NA 4 3 NA 6 3 5 4 7 6 ...\n",
      " $ region      : Factor w/ 3 levels \"England\",\"Scotland\",..: 1 1 1 1 1 1 1 1 1 1 ...\n"
     ]
    }
   ],
   "source": [
    "str(bes2010flngs_post)"
   ]
  },
  {
   "cell_type": "markdown",
   "metadata": {},
   "source": [
    "If the variables in the two data frames differ trying to use `rbind()` to append\n",
    "the data frames fails."
   ]
  },
  {
   "cell_type": "code",
   "execution_count": 6,
   "metadata": {},
   "outputs": [
    {
     "ename": "ERROR",
     "evalue": "Error in match.names(clabs, names(xi)): names do not match previous names\n",
     "output_type": "error",
     "traceback": [
      "Error in match.names(clabs, names(xi)): names do not match previous names\nTraceback:\n",
      "1. rbind(bes2010flngs_pre[-1], bes2010flngs_post[-1])",
      "2. rbind(deparse.level, ...)",
      "3. match.names(clabs, names(xi))",
      "4. stop(\"names do not match previous names\")"
     ]
    }
   ],
   "source": [
    "bes2010flngs_prepost <- rbind(bes2010flngs_pre[-1],\n",
    "                              bes2010flngs_post[-1])"
   ]
  },
  {
   "cell_type": "markdown",
   "metadata": {},
   "source": [
    "If the variables in the two data frame are the same but differ in their order,\n",
    "`rbind()` succeeds and the variables are sorted all into the same order before the\n",
    "data frames are combined into a single one:"
   ]
  },
  {
   "cell_type": "code",
   "execution_count": 7,
   "metadata": {},
   "outputs": [],
   "source": [
    "bes2010flngs_prepost <- rbind(bes2010flngs_pre,\n",
    "                              bes2010flngs_post)"
   ]
  },
  {
   "cell_type": "markdown",
   "metadata": {},
   "source": [
    "We compare the tail-ends of the data resulting data frame\n",
    "`bes2010flngs_prepost` and the data frame given as second argument to\n",
    "`rbind`. The tail-ends are identical except for the order of the\n",
    "variables."
   ]
  },
  {
   "cell_type": "code",
   "execution_count": 8,
   "metadata": {},
   "outputs": [
    {
     "data": {
      "text/plain": [
       "        flng.brown flng.cameron flng.clegg flng.salmond flng.jones flng.labour\n",
       "79219.2 2          8            7          NA           5          3          \n",
       "79220.2 0          5            5          NA           4          3          \n",
       "79621.2 8          4            7          NA           5          7          \n",
       "79622.2 8          5            3          NA           6          8          \n",
       "80019.2 5          8            6          NA           5          3          \n",
       "80020.2 7          6            8          NA           6          7          \n",
       "        flng.cons flng.libdem flng.snp flng.pcym flng.green flng.ukip flng.bnp\n",
       "79219.2 8         7           NA       6         6          4         0       \n",
       "79220.2 5         4           NA       3         1          0         1       \n",
       "79621.2 4         6           NA       3         4          4         4       \n",
       "79622.2 5         4           NA       6         7          4         1       \n",
       "80019.2 7         5           NA       5         3          6         5       \n",
       "80020.2 6         7           NA       5         5          2         0       \n",
       "        region\n",
       "79219.2 Wales \n",
       "79220.2 Wales \n",
       "79621.2 Wales \n",
       "79622.2 Wales \n",
       "80019.2 Wales \n",
       "80020.2 Wales "
      ]
     },
     "metadata": {},
     "output_type": "display_data"
    }
   ],
   "source": [
    "tail(bes2010flngs_prepost)"
   ]
  },
  {
   "cell_type": "code",
   "execution_count": 9,
   "metadata": {},
   "outputs": [
    {
     "data": {
      "text/plain": [
       "        flng.jones flng.labour flng.ukip flng.libdem flng.brown flng.bnp\n",
       "79219.2 5          3           4         7           2          0       \n",
       "79220.2 4          3           0         4           0          1       \n",
       "79621.2 5          7           4         6           8          4       \n",
       "79622.2 6          8           4         4           8          1       \n",
       "80019.2 5          3           6         5           5          5       \n",
       "80020.2 6          7           2         7           7          0       \n",
       "        flng.snp flng.salmond flng.pcym flng.cons flng.cameron flng.green\n",
       "79219.2 NA       NA           6         8         8            6         \n",
       "79220.2 NA       NA           3         5         5            1         \n",
       "79621.2 NA       NA           3         4         4            4         \n",
       "79622.2 NA       NA           6         5         5            7         \n",
       "80019.2 NA       NA           5         7         8            3         \n",
       "80020.2 NA       NA           5         6         6            5         \n",
       "        flng.clegg region\n",
       "79219.2 7          Wales \n",
       "79220.2 5          Wales \n",
       "79621.2 7          Wales \n",
       "79622.2 3          Wales \n",
       "80019.2 6          Wales \n",
       "80020.2 8          Wales "
      ]
     },
     "metadata": {},
     "output_type": "display_data"
    }
   ],
   "source": [
    "tail(bes2010flngs_post)"
   ]
  },
  {
   "cell_type": "code",
   "execution_count": null,
   "metadata": {},
   "outputs": [],
   "source": []
  }
 ],
 "metadata": {
  "kernelspec": {
   "display_name": "R",
   "language": "R",
   "name": "ir"
  },
  "language_info": {
   "codemirror_mode": "r",
   "file_extension": ".r",
   "mimetype": "text/x-r-source",
   "name": "R",
   "pygments_lexer": "r",
   "version": "4.0.3"
  }
 },
 "nbformat": 4,
 "nbformat_minor": 4
}
