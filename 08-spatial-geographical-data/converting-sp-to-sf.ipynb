{
 "cells": [
  {
   "cell_type": "markdown",
   "metadata": {},
   "source": [
    "# Converting \"sp\" objects to \"sf\" objects"
   ]
  },
  {
   "cell_type": "markdown",
   "metadata": {},
   "source": [
    "The following makes use of the *sf*, *cshapes*, and *sp* packages. You may need to install them from\n",
    "[CRAN](https://cran.r-project.org) using the code\n",
    "`install.packages(c(\"sf\",\"cshapes\",\"sp\"))` if you want to run this on your computer. (The\n",
    "package is already installed in the notebook container, however.)"
   ]
  },
  {
   "cell_type": "code",
   "execution_count": null,
   "metadata": {},
   "outputs": [],
   "source": [
    "library(sf)"
   ]
  },
  {
   "cell_type": "code",
   "execution_count": null,
   "metadata": {},
   "outputs": [],
   "source": [
    "library(cshapes)"
   ]
  },
  {
   "cell_type": "code",
   "execution_count": null,
   "metadata": {},
   "outputs": [],
   "source": [
    "cshapes.1990 <- cshp(as.Date(\"1990-01-01\"))\n",
    "cshapes.1990 <- as(cshapes.1990,\"sf\")"
   ]
  },
  {
   "cell_type": "code",
   "execution_count": null,
   "metadata": {},
   "outputs": [],
   "source": [
    "options(width=200)\n",
    "print(cshapes.1990[c(1:3,10)])"
   ]
  },
  {
   "cell_type": "code",
   "execution_count": null,
   "metadata": {},
   "outputs": [],
   "source": [
    "SthAmCntry.names <- c(\n",
    "    \"Argentina\",\n",
    "    \"Bolivia\",\n",
    "    \"Brazil\",\n",
    "    \"Chile\",\n",
    "    \"Colombia\",\n",
    "    \"Ecuador\",\n",
    "    \"Guyana\",\n",
    "    \"Paraguay\",\n",
    "    \"Peru\",\n",
    "    \"Suriname\",\n",
    "    \"Uruguay\",\n",
    "    \"Venezuela\")"
   ]
  },
  {
   "cell_type": "code",
   "execution_count": null,
   "metadata": {},
   "outputs": [],
   "source": [
    "SthAmCountries <-\n",
    "    subset(cshapes.1990,\n",
    "           CNTRY_NAME %in% SthAmCntry.names)"
   ]
  },
  {
   "cell_type": "code",
   "execution_count": null,
   "metadata": {},
   "outputs": [],
   "source": [
    "Brazil <- subset(cshapes.1990,CNTRY_NAME==\"Brazil\")\n",
    "Chile <-  subset(cshapes.1990,CNTRY_NAME==\"Chile\")\n",
    "Colombia <-  subset(cshapes.1990,CNTRY_NAME==\"Colombia\")"
   ]
  },
  {
   "cell_type": "code",
   "execution_count": null,
   "metadata": {},
   "outputs": [],
   "source": [
    "cap.latlong <- with(cshapes.1990,cbind(CAPLONG,CAPLAT))"
   ]
  },
  {
   "cell_type": "code",
   "execution_count": null,
   "metadata": {},
   "outputs": [],
   "source": [
    "cap.latlong <- lapply(1:nrow(cap.latlong),\n",
    "                      function(i)cap.latlong[i,])"
   ]
  },
  {
   "cell_type": "code",
   "execution_count": null,
   "metadata": {},
   "outputs": [],
   "source": [
    "cap.latlong <- lapply(cap.latlong,st_point)\n",
    "cap.latlong <- st_sfc(cap.latlong)"
   ]
  },
  {
   "cell_type": "code",
   "execution_count": null,
   "metadata": {},
   "outputs": [],
   "source": [
    "cshapes.capitals.1990 <- cshapes.1990\n",
    "st_geometry(cshapes.capitals.1990) <- cap.latlong"
   ]
  },
  {
   "cell_type": "code",
   "execution_count": null,
   "metadata": {},
   "outputs": [],
   "source": [
    "st_crs(cshapes.capitals.1990) <- st_crs(cshapes.1990)"
   ]
  },
  {
   "cell_type": "code",
   "execution_count": null,
   "metadata": {},
   "outputs": [],
   "source": [
    "print(cshapes.capitals.1990[c(1:3,10)])"
   ]
  },
  {
   "cell_type": "code",
   "execution_count": null,
   "metadata": {},
   "outputs": [],
   "source": [
    "Brasilia <- subset(cshapes.capitals.1990,CNTRY_NAME==\"Brazil\")\n",
    "Santiago <-  subset(cshapes.capitals.1990,CNTRY_NAME==\"Chile\")\n",
    "Bogota <-  subset(cshapes.capitals.1990,CNTRY_NAME==\"Colombia\")"
   ]
  },
  {
   "cell_type": "code",
   "execution_count": null,
   "metadata": {},
   "outputs": [],
   "source": [
    "graypal <- function(n)gray.colors(n,start=.2,end=.9,alpha=.5)\n",
    "plot(SthAmCountries,pal=graypal)"
   ]
  },
  {
   "cell_type": "code",
   "execution_count": null,
   "metadata": {},
   "outputs": [],
   "source": [
    "plot(st_geometry(SthAmCountries))"
   ]
  },
  {
   "cell_type": "code",
   "execution_count": null,
   "metadata": {},
   "outputs": [],
   "source": [
    "plot(st_geometry(Brazil))"
   ]
  },
  {
   "cell_type": "code",
   "execution_count": null,
   "metadata": {},
   "outputs": [],
   "source": [
    "save(cshapes.1990,cshapes.capitals.1990,file=\"cshapes-1990.RData\")\n",
    "save(Brazil,Chile,Colombia,\n",
    "     Brasilia,Santiago,Bogota,\n",
    "     SthAmCountries,\n",
    "     file=\"south-america-1990.RData\")"
   ]
  }
 ],
 "metadata": {
  "kernelspec": {
   "display_name": "R",
   "language": "R",
   "name": "ir"
  },
  "language_info": {
   "codemirror_mode": "r",
   "file_extension": ".r",
   "mimetype": "text/x-r-source",
   "name": "R",
   "pygments_lexer": "r",
   "version": "4.0.5"
  }
 },
 "nbformat": 4,
 "nbformat_minor": 4
}
