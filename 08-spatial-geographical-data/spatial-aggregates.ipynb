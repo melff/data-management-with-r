{
 "cells": [
  {
   "cell_type": "markdown",
   "metadata": {},
   "source": [
    "# Aggregating spatial feature objects"
   ]
  },
  {
   "cell_type": "markdown",
   "metadata": {},
   "source": [
    "The following makes use of the *sf* package. You may need to install it from\n",
    "[CRAN](https://cran.r-project.org/package=sf) using the code\n",
    "`install.packages(\"sf\")` if you want to run this on your computer. (The\n",
    "package is already installed on the notebook container, however.)"
   ]
  },
  {
   "cell_type": "code",
   "execution_count": 1,
   "metadata": {
    "execution": {
     "iopub.execute_input": "2023-11-19T22:54:39.517457Z",
     "iopub.status.busy": "2023-11-19T22:54:39.514965Z",
     "iopub.status.idle": "2023-11-19T22:54:40.043902Z",
     "shell.execute_reply": "2023-11-19T22:54:40.041159Z"
    }
   },
   "outputs": [
    {
     "name": "stdout",
     "output_type": "stream",
     "text": [
      "Linking to GEOS 3.11.1, GDAL 3.6.2, PROJ 9.1.1; sf_use_s2() is TRUE\n"
     ]
    }
   ],
   "source": [
    "library(sf)"
   ]
  },
  {
   "cell_type": "markdown",
   "metadata": {},
   "source": [
    "The files \"south-america-1990.RData\", \"ged101.RData\", and \"cshapes-1990.RData\" where created by an earlier example."
   ]
  },
  {
   "cell_type": "code",
   "execution_count": 2,
   "metadata": {
    "execution": {
     "iopub.execute_input": "2023-11-19T22:54:41.326002Z",
     "iopub.status.busy": "2023-11-19T22:54:41.295324Z",
     "iopub.status.idle": "2023-11-19T22:54:43.461539Z",
     "shell.execute_reply": "2023-11-19T22:54:43.458431Z"
    }
   },
   "outputs": [],
   "source": [
    "load(\"south-america-1990.RData\")\n",
    "load(\"ged191.RData\")\n",
    "load(\"cshapes-1990.RData\")"
   ]
  },
  {
   "cell_type": "code",
   "execution_count": 3,
   "metadata": {
    "execution": {
     "iopub.execute_input": "2023-11-19T22:54:43.981680Z",
     "iopub.status.busy": "2023-11-19T22:54:43.978915Z",
     "iopub.status.idle": "2023-11-19T22:54:44.642811Z",
     "shell.execute_reply": "2023-11-19T22:54:44.640033Z"
    }
   },
   "outputs": [
    {
     "name": "stdout",
     "output_type": "stream",
     "text": [
      "old-style crs object detected; please recreate object with a recent sf::st_crs()\n"
     ]
    }
   ],
   "source": [
    "ged191_ellips <- st_transform(ged191,st_crs(cshapes.1990))"
   ]
  },
  {
   "cell_type": "code",
   "execution_count": 4,
   "metadata": {
    "execution": {
     "iopub.execute_input": "2023-11-19T22:54:44.799149Z",
     "iopub.status.busy": "2023-11-19T22:54:44.796628Z",
     "iopub.status.idle": "2023-11-19T22:54:48.213964Z",
     "shell.execute_reply": "2023-11-19T22:54:48.210622Z"
    }
   },
   "outputs": [
    {
     "data": {
      "text/plain": [
       "Simple feature collection with 12 features and 1 field\n",
       "Geometry type: MULTIPOLYGON\n",
       "Dimension:     XY\n",
       "Bounding box:  xmin: -109.4461 ymin: -55.90223 xmax: -34.79292 ymax: 12.59027\n",
       "Geodetic CRS:  +proj=longlat +ellps=WGS84\n",
       "First 10 features:\n",
       "   deaths_civilians                       geometry\n",
       "0                20 MULTIPOLYGON (((-58.17262 6...\n",
       "1                NA MULTIPOLYGON (((-55.12796 5...\n",
       "3               792 MULTIPOLYGON (((-66.20973 1...\n",
       "6                 0 MULTIPOLYGON (((-68.62099 -...\n",
       "7                 0 MULTIPOLYGON (((-62.19884 -...\n",
       "8               164 MULTIPOLYGON (((-44.51139 -...\n",
       "9                NA MULTIPOLYGON (((-74.61765 -...\n",
       "10               15 MULTIPOLYGON (((-80.27319 -...\n",
       "11                0 MULTIPOLYGON (((-57.67267 -...\n",
       "12             1021 MULTIPOLYGON (((-69.49973 -..."
      ]
     },
     "execution_count": 4,
     "metadata": {},
     "output_type": "execute_result"
    }
   ],
   "source": [
    "# Civilian deaths per country\n",
    "aggregate(ged191_ellips[\"deaths_civilians\"],by=SthAmCountries,sum)"
   ]
  },
  {
   "cell_type": "code",
   "execution_count": 5,
   "metadata": {
    "execution": {
     "iopub.execute_input": "2023-11-19T22:54:48.970128Z",
     "iopub.status.busy": "2023-11-19T22:54:48.966290Z",
     "iopub.status.idle": "2023-11-19T22:54:52.333310Z",
     "shell.execute_reply": "2023-11-19T22:54:52.330469Z"
    }
   },
   "outputs": [
    {
     "data": {
      "text/plain": [
       "Simple feature collection with 12 features and 2 fields\n",
       "Geometry type: MULTIPOLYGON\n",
       "Dimension:     XY\n",
       "Bounding box:  xmin: -109.4461 ymin: -55.90223 xmax: -34.79292 ymax: 12.59027\n",
       "Geodetic CRS:  +proj=longlat +ellps=WGS84\n",
       "First 10 features:\n",
       "   deaths_civilians                       geometry   country\n",
       "0                20 MULTIPOLYGON (((-58.17262 6...    Guyana\n",
       "1                NA MULTIPOLYGON (((-55.12796 5...  Suriname\n",
       "3               792 MULTIPOLYGON (((-66.20973 1... Venezuela\n",
       "6                 0 MULTIPOLYGON (((-68.62099 -... Argentina\n",
       "7                 0 MULTIPOLYGON (((-62.19884 -...   Bolivia\n",
       "8               164 MULTIPOLYGON (((-44.51139 -...    Brazil\n",
       "9                NA MULTIPOLYGON (((-74.61765 -...     Chile\n",
       "10               15 MULTIPOLYGON (((-80.27319 -...   Ecuador\n",
       "11                0 MULTIPOLYGON (((-57.67267 -...  Paraguay\n",
       "12             1021 MULTIPOLYGON (((-69.49973 -...      Peru"
      ]
     },
     "execution_count": 5,
     "metadata": {},
     "output_type": "execute_result"
    }
   ],
   "source": [
    "# Civilian deaths per country, with country names\n",
    "within(\n",
    "    aggregate(ged191_ellips[\"deaths_civilians\"],by=SthAmCountries,sum),\n",
    "    country <- SthAmCountries$CNTRY_NAME)"
   ]
  },
  {
   "cell_type": "code",
   "execution_count": 6,
   "metadata": {
    "execution": {
     "iopub.execute_input": "2023-11-19T22:54:56.036416Z",
     "iopub.status.busy": "2023-11-19T22:54:56.033761Z",
     "iopub.status.idle": "2023-11-19T22:54:56.043650Z",
     "shell.execute_reply": "2023-11-19T22:54:56.040555Z"
    }
   },
   "outputs": [],
   "source": [
    "st_circ <- function(x,dist.km){\n",
    "    dist.degr <- 360*dist.km/40007.863\n",
    "    st_buffer(st_geometry(x),dist=dist.degr)\n",
    "}"
   ]
  },
  {
   "cell_type": "code",
   "execution_count": 7,
   "metadata": {
    "execution": {
     "iopub.execute_input": "2023-11-19T22:54:56.802364Z",
     "iopub.status.busy": "2023-11-19T22:54:56.799868Z",
     "iopub.status.idle": "2023-11-19T22:54:56.868353Z",
     "shell.execute_reply": "2023-11-19T22:54:56.865510Z"
    }
   },
   "outputs": [],
   "source": [
    "Bogota.region <- st_circ(Bogota,dist.km=200)\n",
    "Colombia.rest <- st_difference(st_geometry(Colombia),Bogota.region)"
   ]
  },
  {
   "cell_type": "code",
   "execution_count": 8,
   "metadata": {
    "execution": {
     "iopub.execute_input": "2023-11-19T22:54:57.484473Z",
     "iopub.status.busy": "2023-11-19T22:54:57.481904Z",
     "iopub.status.idle": "2023-11-19T22:55:00.387407Z",
     "shell.execute_reply": "2023-11-19T22:55:00.384771Z"
    }
   },
   "outputs": [
    {
     "data": {
      "text/plain": [
       "Simple feature collection with 2 features and 1 field\n",
       "Geometry type: GEOMETRY\n",
       "Dimension:     XY\n",
       "Bounding box:  xmin: -81.72015 ymin: -4.236873 xmax: -66.87045 ymax: 12.59027\n",
       "Geodetic CRS:  +proj=longlat +ellps=WGS84\n",
       "  deaths_civilians                       geometry\n",
       "1               NA POLYGON ((-74.1 4.600016, -...\n",
       "2             6015 MULTIPOLYGON (((-78.13404 2..."
      ]
     },
     "execution_count": 8,
     "metadata": {},
     "output_type": "execute_result"
    }
   ],
   "source": [
    "# Civilian deaths in the Bogota region and the rest of Colombia\n",
    "aggregate(ged191_ellips[\"deaths_civilians\"],\n",
    "          by=c(Bogota.region,Colombia.rest),\n",
    "          sum)"
   ]
  }
 ],
 "metadata": {
  "kernelspec": {
   "display_name": "R (RKernel)",
   "language": "R",
   "name": "rkernel"
  },
  "language_info": {
   "codemirror_mode": "R",
   "file_extension": ".R",
   "mimetype": "text/x-r-source",
   "name": "R",
   "pygments_lexer": "r",
   "version": "4.3.2"
  }
 },
 "nbformat": 4,
 "nbformat_minor": 4
}
