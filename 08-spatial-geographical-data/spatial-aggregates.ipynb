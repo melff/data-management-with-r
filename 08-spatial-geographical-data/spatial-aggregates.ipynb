{
 "cells": [
  {
   "cell_type": "markdown",
   "metadata": {},
   "source": [
    "# Aggregating spatial feature objects"
   ]
  },
  {
   "cell_type": "code",
   "execution_count": null,
   "metadata": {},
   "outputs": [],
   "source": [
    "options(jupyter.rich_display=FALSE) # Create output as usual in R"
   ]
  },
  {
   "cell_type": "markdown",
   "metadata": {},
   "source": [
    "The following makes use of the *sf* package. You may need to install it from\n",
    "[CRAN](https://cran.r-project.org/package=sf) using the code\n",
    "`install.packages(\"sf\")` if you want to run this on your computer. (The\n",
    "package is already installed on the notebook container, however.)"
   ]
  },
  {
   "cell_type": "code",
   "execution_count": null,
   "metadata": {},
   "outputs": [],
   "source": [
    "library(sf)"
   ]
  },
  {
   "cell_type": "markdown",
   "metadata": {},
   "source": [
    "The files \"south-america-1990.RData\", \"ged101.RData\", and \"cshapes-1990.RData\" where created by an earlier example."
   ]
  },
  {
   "cell_type": "code",
   "execution_count": null,
   "metadata": {},
   "outputs": [],
   "source": [
    "load(\"south-america-1990.RData\")\n",
    "load(\"ged191.RData\")\n",
    "load(\"cshapes-1990.RData\")"
   ]
  },
  {
   "cell_type": "code",
   "execution_count": null,
   "metadata": {},
   "outputs": [],
   "source": [
    "ged191_ellips <- st_transform(ged191,st_crs(cshapes.1990))"
   ]
  },
  {
   "cell_type": "code",
   "execution_count": null,
   "metadata": {},
   "outputs": [],
   "source": [
    "# Civilian deaths per country\n",
    "aggregate(ged191_ellips[\"deaths_civilians\"],by=SthAmCountries,sum)"
   ]
  },
  {
   "cell_type": "code",
   "execution_count": null,
   "metadata": {},
   "outputs": [],
   "source": [
    "# Civilian deaths per country, with country names\n",
    "within(\n",
    "    aggregate(ged191_ellips[\"deaths_civilians\"],by=SthAmCountries,sum),\n",
    "    country <- SthAmCountries$CNTRY_NAME)"
   ]
  },
  {
   "cell_type": "code",
   "execution_count": null,
   "metadata": {},
   "outputs": [],
   "source": [
    "st_circ <- function(x,dist.km){\n",
    "    dist.degr <- 360*dist.km/40007.863\n",
    "    st_buffer(st_geometry(x),dist=dist.degr)\n",
    "}"
   ]
  },
  {
   "cell_type": "code",
   "execution_count": null,
   "metadata": {},
   "outputs": [],
   "source": [
    "Bogota.region <- st_circ(Bogota,dist.km=200)\n",
    "Colombia.rest <- st_difference(st_geometry(Colombia),Bogota.region)"
   ]
  },
  {
   "cell_type": "code",
   "execution_count": null,
   "metadata": {},
   "outputs": [],
   "source": [
    "# Civilian deaths in the Bogota region and the rest of Colombia\n",
    "aggregate(ged191_ellips[\"deaths_civilians\"],\n",
    "          by=c(Bogota.region,Colombia.rest),\n",
    "          sum)"
   ]
  }
 ],
 "metadata": {
  "kernelspec": {
   "display_name": "R",
   "language": "R",
   "name": "ir"
  },
  "language_info": {
   "codemirror_mode": "r",
   "file_extension": ".r",
   "mimetype": "text/x-r-source",
   "name": "R",
   "pygments_lexer": "r",
   "version": "4.0.5"
  }
 },
 "nbformat": 4,
 "nbformat_minor": 4
}
