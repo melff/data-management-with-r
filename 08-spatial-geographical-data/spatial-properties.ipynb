{
 "cells": [
  {
   "cell_type": "markdown",
   "metadata": {},
   "source": [
    "# Properties of spatial objects"
   ]
  },
  {
   "cell_type": "markdown",
   "metadata": {},
   "source": [
    "The following code makes use of two packages:\n",
    "- the *sf* package, which is available from https://cran.r-project.org/package=sf\n",
    "- the *units* package, which is available from https://cran.r-project.org/package=units\n",
    "To run the code of this notebook you can install the packages by `install.packages(c(\"sf\",\"units\"))`. However, they are already installed in the container on which this example is run.\n"
   ]
  },
  {
   "cell_type": "code",
   "execution_count": 1,
   "metadata": {
    "execution": {
     "iopub.execute_input": "2023-11-19T21:49:41.922179Z",
     "iopub.status.busy": "2023-11-19T21:49:41.919632Z",
     "iopub.status.idle": "2023-11-19T21:49:42.457925Z",
     "shell.execute_reply": "2023-11-19T21:49:42.455094Z"
    }
   },
   "outputs": [
    {
     "name": "stdout",
     "output_type": "stream",
     "text": [
      "Linking to GEOS 3.11.1, GDAL 3.6.2, PROJ 9.1.1; sf_use_s2() is TRUE\n"
     ]
    }
   ],
   "source": [
    "library(sf)"
   ]
  },
  {
   "cell_type": "markdown",
   "metadata": {},
   "source": [
    "The files \"south-america-1990.RData\" and \"three-countries.RData\" were created in a previous example."
   ]
  },
  {
   "cell_type": "code",
   "execution_count": 2,
   "metadata": {
    "execution": {
     "iopub.execute_input": "2023-11-19T21:49:42.494445Z",
     "iopub.status.busy": "2023-11-19T21:49:42.466732Z",
     "iopub.status.idle": "2023-11-19T21:49:42.597789Z",
     "shell.execute_reply": "2023-11-19T21:49:42.595114Z"
    }
   },
   "outputs": [],
   "source": [
    "load(\"south-america-1990.RData\")\n",
    "load(\"three-countries.RData\")"
   ]
  },
  {
   "cell_type": "code",
   "execution_count": 3,
   "metadata": {
    "execution": {
     "iopub.execute_input": "2023-11-19T21:49:42.604732Z",
     "iopub.status.busy": "2023-11-19T21:49:42.602201Z",
     "iopub.status.idle": "2023-11-19T21:49:42.709312Z",
     "shell.execute_reply": "2023-11-19T21:49:42.706651Z"
    }
   },
   "outputs": [
    {
     "data": {
      "text/plain": [
       "8.504611e+12 [m^2]"
      ]
     },
     "execution_count": 3,
     "metadata": {},
     "output_type": "execute_result"
    }
   ],
   "source": [
    "st_area(Brazil)"
   ]
  },
  {
   "cell_type": "code",
   "execution_count": 4,
   "metadata": {
    "execution": {
     "iopub.execute_input": "2023-11-19T21:49:42.716121Z",
     "iopub.status.busy": "2023-11-19T21:49:42.713590Z",
     "iopub.status.idle": "2023-11-19T21:49:42.755443Z",
     "shell.execute_reply": "2023-11-19T21:49:42.747532Z"
    }
   },
   "outputs": [
    {
     "data": {
      "text/plain": [
       "8504611 [km^2]"
      ]
     },
     "execution_count": 4,
     "metadata": {},
     "output_type": "execute_result"
    }
   ],
   "source": [
    "in_km2 <- function(x) units::set_units(x,\"km^2\")\n",
    "in_km2(st_area(Brazil))"
   ]
  },
  {
   "cell_type": "code",
   "execution_count": 5,
   "metadata": {
    "execution": {
     "iopub.execute_input": "2023-11-19T21:49:42.762213Z",
     "iopub.status.busy": "2023-11-19T21:49:42.759717Z",
     "iopub.status.idle": "2023-11-19T21:49:42.819136Z",
     "shell.execute_reply": "2023-11-19T21:49:42.816375Z"
    }
   },
   "outputs": [
    {
     "data": {
      "text/plain": [
       "Units: [km^2]\n",
       " [1]  211508.7  145626.6  914740.9 2781219.6 1090257.6 8504611.0  744141.5\n",
       " [8]  256452.2  399757.1 1296121.7  177959.4 1140150.9"
      ]
     },
     "execution_count": 5,
     "metadata": {},
     "output_type": "execute_result"
    }
   ],
   "source": [
    "in_km2(st_area(SthAmCountries))"
   ]
  },
  {
   "cell_type": "code",
   "execution_count": 6,
   "metadata": {
    "execution": {
     "iopub.execute_input": "2023-11-19T21:49:42.825894Z",
     "iopub.status.busy": "2023-11-19T21:49:42.823406Z",
     "iopub.status.idle": "2023-11-19T21:49:42.880827Z",
     "shell.execute_reply": "2023-11-19T21:49:42.878255Z"
    }
   },
   "outputs": [
    {
     "data": {
      "text/plain": [
       "Units: [km^2]\n",
       "   Guyana  Suriname Venezuela Argentina   Bolivia    Brazil     Chile   Ecuador \n",
       " 211508.7  145626.6  914740.9 2781219.6 1090257.6 8504611.0  744141.5  256452.2 \n",
       " Paraguay      Peru   Uruguay  Colombia \n",
       " 399757.1 1296121.7  177959.4 1140150.9 "
      ]
     },
     "execution_count": 6,
     "metadata": {},
     "output_type": "execute_result"
    }
   ],
   "source": [
    "structure(in_km2(st_area(SthAmCountries)),\n",
    "          names=as.character(SthAmCountries$CNTRY_NAME))"
   ]
  },
  {
   "cell_type": "code",
   "execution_count": 7,
   "metadata": {
    "execution": {
     "iopub.execute_input": "2023-11-19T21:49:42.887697Z",
     "iopub.status.busy": "2023-11-19T21:49:42.885087Z",
     "iopub.status.idle": "2023-11-19T21:49:42.929188Z",
     "shell.execute_reply": "2023-11-19T21:49:42.926665Z"
    }
   },
   "outputs": [
    {
     "data": {
      "text/plain": [
       "Units: [m]\n",
       "        [,1]\n",
       "[1,] 3668619"
      ]
     },
     "execution_count": 7,
     "metadata": {},
     "output_type": "execute_result"
    }
   ],
   "source": [
    "st_distance(Brasilia,Bogota)"
   ]
  },
  {
   "cell_type": "code",
   "execution_count": 8,
   "metadata": {
    "execution": {
     "iopub.execute_input": "2023-11-19T21:49:42.935859Z",
     "iopub.status.busy": "2023-11-19T21:49:42.933530Z",
     "iopub.status.idle": "2023-11-19T21:49:42.983126Z",
     "shell.execute_reply": "2023-11-19T21:49:42.980568Z"
    }
   },
   "outputs": [
    {
     "data": {
      "text/plain": [
       "Units: [m]\n",
       "        [,1]\n",
       "[1,] 2509338"
      ]
     },
     "execution_count": 8,
     "metadata": {},
     "output_type": "execute_result"
    }
   ],
   "source": [
    "st_distance(Chile,Bogota)"
   ]
  },
  {
   "cell_type": "code",
   "execution_count": 9,
   "metadata": {
    "execution": {
     "iopub.execute_input": "2023-11-19T21:49:42.989954Z",
     "iopub.status.busy": "2023-11-19T21:49:42.987327Z",
     "iopub.status.idle": "2023-11-19T21:49:43.038953Z",
     "shell.execute_reply": "2023-11-19T21:49:43.036061Z"
    }
   },
   "outputs": [
    {
     "data": {
      "text/plain": [
       "Units: [m]\n",
       "        [,1]\n",
       "[1,] 1476222"
      ]
     },
     "execution_count": 9,
     "metadata": {},
     "output_type": "execute_result"
    }
   ],
   "source": [
    "# This takes a while, because R needs to figure out which points of the borders are the closest to one another\n",
    "st_distance(Chile,Colombia)"
   ]
  },
  {
   "cell_type": "code",
   "execution_count": 10,
   "metadata": {
    "execution": {
     "iopub.execute_input": "2023-11-19T21:49:43.050718Z",
     "iopub.status.busy": "2023-11-19T21:49:43.048304Z",
     "iopub.status.idle": "2023-11-19T21:49:43.085848Z",
     "shell.execute_reply": "2023-11-19T21:49:43.083221Z"
    }
   },
   "outputs": [
    {
     "data": {
      "text/plain": [
       "Units: [km]\n",
       "         [,1]\n",
       "[1,] 3668.619"
      ]
     },
     "execution_count": 10,
     "metadata": {},
     "output_type": "execute_result"
    }
   ],
   "source": [
    "in_km <- function(x) units::set_units(x,\"km\")\n",
    "in_km(st_distance(Brasilia,Bogota))"
   ]
  },
  {
   "cell_type": "code",
   "execution_count": 11,
   "metadata": {
    "execution": {
     "iopub.execute_input": "2023-11-19T21:49:43.092720Z",
     "iopub.status.busy": "2023-11-19T21:49:43.090101Z",
     "iopub.status.idle": "2023-11-19T21:49:43.127873Z",
     "shell.execute_reply": "2023-11-19T21:49:43.125033Z"
    }
   },
   "outputs": [
    {
     "data": {
      "text/plain": [
       "Units: [km]\n",
       "         [,1]     [,2]     [,3]\n",
       "[1,]    0.000 3016.837 3668.619\n",
       "[2,] 3016.837    0.000 4251.617\n",
       "[3,] 3668.619 4251.617    0.000"
      ]
     },
     "execution_count": 11,
     "metadata": {},
     "output_type": "execute_result"
    }
   ],
   "source": [
    "in_km(st_distance(ThreeCapitals))"
   ]
  }
 ],
 "metadata": {
  "kernelspec": {
   "display_name": "R (RKernel)",
   "language": "R",
   "name": "rkernel"
  },
  "language_info": {
   "codemirror_mode": "R",
   "file_extension": ".R",
   "mimetype": "text/x-r-source",
   "name": "R",
   "pygments_lexer": "r",
   "version": "4.3.2"
  }
 },
 "nbformat": 4,
 "nbformat_minor": 4
}
