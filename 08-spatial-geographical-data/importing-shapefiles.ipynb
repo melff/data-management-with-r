{
 "cells": [
  {
   "cell_type": "markdown",
   "metadata": {},
   "source": [
    "# Importing shapefiles"
   ]
  },
  {
   "cell_type": "code",
   "execution_count": 1,
   "metadata": {
    "execution": {
     "iopub.execute_input": "2023-11-20T12:00:23.040989Z",
     "iopub.status.busy": "2023-11-20T12:00:23.038521Z",
     "iopub.status.idle": "2023-11-20T12:00:23.049661Z",
     "shell.execute_reply": "2023-11-20T12:00:23.046975Z"
    }
   },
   "outputs": [],
   "source": [
    "options(width=100)"
   ]
  },
  {
   "cell_type": "markdown",
   "metadata": {},
   "source": [
    "The data used here are available from [Upsala Conflict Data Program](https://ucdp.uu.se/downloads/index.html#ged_polygons)."
   ]
  },
  {
   "cell_type": "code",
   "execution_count": 2,
   "metadata": {
    "execution": {
     "iopub.execute_input": "2023-11-20T12:00:23.085629Z",
     "iopub.status.busy": "2023-11-20T12:00:23.053974Z",
     "iopub.status.idle": "2023-11-20T12:00:23.153146Z",
     "shell.execute_reply": "2023-11-20T12:00:23.150253Z"
    }
   },
   "outputs": [],
   "source": [
    "# To download the data, use the *R*-code \n",
    "#\n",
    "# download.file(\"https://ucdp.uu.se/downloads/ged/ucdp-ged-poly-v-1-1-shape.zip\",\n",
    "#               \"ucdp-ged-poly-v-1-1-shape.zip\")"
   ]
  },
  {
   "cell_type": "code",
   "execution_count": 3,
   "metadata": {
    "execution": {
     "iopub.execute_input": "2023-11-20T12:00:23.162874Z",
     "iopub.status.busy": "2023-11-20T12:00:23.158277Z",
     "iopub.status.idle": "2023-11-20T12:00:23.219188Z",
     "shell.execute_reply": "2023-11-20T12:00:23.216412Z"
    }
   },
   "outputs": [
    {
     "data": {
      "text/plain": [
       "                                                       Name  Length                Date\n",
       "1                                         ARCGIS Readme.txt     251 2012-03-28 16:07:00\n",
       "2  UCDP GED Conflict Polygons Codebook version 1.1-2011.pdf 1006764 2012-03-28 16:02:00\n",
       "3                                           UCDPGEDpoly.dbf  744174 2012-03-21 16:09:00\n",
       "4                                           UCDPGEDpoly.prj     145 2012-03-21 16:09:00\n",
       "5                                           UCDPGEDpoly.sbn    4820 2012-03-21 16:09:00\n",
       "6                                           UCDPGEDpoly.sbx     372 2012-03-21 16:09:00\n",
       "7                                           UCDPGEDpoly.shp   73892 2012-03-21 16:09:00\n",
       "8                                           UCDPGEDpoly.shx    4100 2012-03-21 16:09:00\n",
       "9                                       UCDPGEDpolyyear.dbf 1907966 2012-03-21 16:08:00\n",
       "10                                      UCDPGEDpolyyear.prj     145 2012-03-21 16:08:00\n",
       "11                                      UCDPGEDpolyyear.sbn   11620 2012-03-21 16:08:00\n",
       "12                                      UCDPGEDpolyyear.sbx     764 2012-03-21 16:08:00\n",
       "13                                      UCDPGEDpolyyear.shp  165460 2012-03-21 16:08:00\n",
       "14                                      UCDPGEDpolyyear.shx    9156 2012-03-21 16:08:00"
      ]
     },
     "execution_count": 3,
     "metadata": {},
     "output_type": "execute_result"
    }
   ],
   "source": [
    "unzip(\"ucdp-ged-poly-v-1-1-shape.zip\",list=TRUE)"
   ]
  },
  {
   "cell_type": "code",
   "execution_count": 4,
   "metadata": {
    "execution": {
     "iopub.execute_input": "2023-11-20T12:00:23.226322Z",
     "iopub.status.busy": "2023-11-20T12:00:23.223668Z",
     "iopub.status.idle": "2023-11-20T12:00:23.240385Z",
     "shell.execute_reply": "2023-11-20T12:00:23.237432Z"
    }
   },
   "outputs": [],
   "source": [
    "unzip(\"ucdp-ged-poly-v-1-1-shape.zip\",\n",
    "      files=c(\n",
    "          \"UCDPGEDpoly.shx\",\n",
    "          \"UCDPGEDpoly.shp\",\n",
    "          \"UCDPGEDpoly.dbf\"\n",
    "          ))"
   ]
  },
  {
   "cell_type": "markdown",
   "metadata": {},
   "source": [
    "The following code used to work with sf version 0.9.7 or sf version 1.0. However there now seem problems with some of backend libraries."
   ]
  },
  {
   "cell_type": "code",
   "execution_count": 5,
   "metadata": {
    "execution": {
     "iopub.execute_input": "2023-11-20T12:00:23.248121Z",
     "iopub.status.busy": "2023-11-20T12:00:23.245483Z",
     "iopub.status.idle": "2023-11-20T12:00:23.847690Z",
     "shell.execute_reply": "2023-11-20T12:00:23.844870Z"
    }
   },
   "outputs": [
    {
     "name": "stdout",
     "output_type": "stream",
     "text": [
      "Linking to GEOS 3.11.1, GDAL 3.6.2, PROJ 9.1.1; sf_use_s2() is TRUE\n"
     ]
    }
   ],
   "source": [
    "library(sf)\n",
    "# All three of the following lines are equivalent:\n",
    "# UCDPGEDpoly <- st_read(\"UCDPGEDpoly.shx\") # for sf version <= 0.9.7\n",
    "# UCDPGEDpoly <- st_read(\"UCDPGEDpoly.shp\") # for sf version <= 0.9.7\n",
    "# UCDPGEDpoly <- st_read(\"UCDPGEDpoly.dbf\") # for sf version <= 0.9.7\n",
    "UCDPGEDpoly <- read_sf(\"UCDPGEDpoly.shx\") \n",
    "UCDPGEDpoly <- read_sf(\"UCDPGEDpoly.shp\") \n",
    "UCDPGEDpoly <- read_sf(\"UCDPGEDpoly.dbf\") "
   ]
  },
  {
   "cell_type": "code",
   "execution_count": 6,
   "metadata": {
    "execution": {
     "iopub.execute_input": "2023-11-20T12:00:23.854707Z",
     "iopub.status.busy": "2023-11-20T12:00:23.852155Z",
     "iopub.status.idle": "2023-11-20T12:00:23.900076Z",
     "shell.execute_reply": "2023-11-20T12:00:23.897327Z"
    }
   },
   "outputs": [
    {
     "name": "stdout",
     "output_type": "stream",
     "text": [
      "sf [500 × 21] (S3: sf/tbl_df/tbl/data.frame)\n",
      " $ pName     : chr [1:500] \"LNE-1-17-A\" \"LNE-1-189A-A\" \"LNE-1-19-A\" \"LNE-1-191-A\" ...\n",
      " $ lat       : num [1:500] 4.32 -4.31 12.72 -5.63 15.5 ...\n",
      " $ lon       : num [1:500] 18.6 15.3 20.5 12.5 22.9 ...\n",
      " $ type_of_vi: num [1:500] 1 1 1 1 1 1 1 1 1 1 ...\n",
      " $ dyadID_1  : num [1:500] 17 0 19 191 20 210 23 0 0 811 ...\n",
      " $ Split_dyad: num [1:500] 0 1 0 0 0 0 0 1 1 0 ...\n",
      " $ dyad_name : chr [1:500] \"Government of Central African Republic - Military faction (Forces of André Kolingba)\" \"Government of the Republic of Congo - Cobras\" \"Government of Chad - MOSANAT\" \"Government of Angola - FLEC-R\" ...\n",
      " $ conflict_n: chr [1:500] \"Central African Republic\" \"Congo\" \"Chad\" \"Angola (Cabinda)\" ...\n",
      " $ conflict_I: num [1:500] 222 214 91 192 91 141 91 191 177 268 ...\n",
      " $ side_A    : chr [1:500] \"Government of Central African Republic\" \"Government of the Republic of Congo\" \"Government of Chad\" \"Government of Angola\" ...\n",
      " $ side_A_ID : num [1:500] 482 484 483 540 483 520 483 615 432 530 ...\n",
      " $ side_B    : chr [1:500] \"Military faction (Forces of André Kolingba)\" \"Cobras\" \"MOSANAT\" \"FLEC-R\" ...\n",
      " $ side_B_ID : num [1:500] 1406 1398 1290 1392 1288 ...\n",
      " $ no_of_even: num [1:500] 11 23 2 2 3 11 3 2 2 2 ...\n",
      " $ low_est   : num [1:500] 231 1396 50 0 0 ...\n",
      " $ best_est  : num [1:500] 231 1396 50 0 0 ...\n",
      " $ high_est  : num [1:500] 331 3456 50 72 930 ...\n",
      " $ date_first: Date[1:500], format: \"2001-05-27\" \"1997-06-05\" \"1989-03-03\" ...\n",
      " $ date_fir_1: Date[1:500], format: \"2001-06-01\" \"1997-06-06\" \"1989-03-03\" ...\n",
      " $ date_last : Date[1:500], format: \"2001-12-01\" \"1997-10-16\" \"1989-03-03\" ...\n",
      " $ geometry  :sfc_POLYGON of length 500; first list element: List of 1\n",
      "  ..$ : num [1:5, 1:2] 18.6 18.6 18.6 18.6 18.6 ...\n",
      "  ..- attr(*, \"class\")= chr [1:3] \"XY\" \"POLYGON\" \"sfg\"\n",
      " - attr(*, \"sf_column\")= chr \"geometry\"\n",
      " - attr(*, \"agr\")= Factor w/ 3 levels \"constant\",\"aggregate\",..: NA NA NA NA NA NA NA NA NA NA ...\n",
      "  ..- attr(*, \"names\")= chr [1:20] \"pName\" \"lat\" \"lon\" \"type_of_vi\" ...\n"
     ]
    }
   ],
   "source": [
    "str(UCDPGEDpoly)"
   ]
  },
  {
   "cell_type": "code",
   "execution_count": 7,
   "metadata": {
    "execution": {
     "iopub.execute_input": "2023-11-20T12:00:23.906873Z",
     "iopub.status.busy": "2023-11-20T12:00:23.904491Z",
     "iopub.status.idle": "2023-11-20T12:00:23.982366Z",
     "shell.execute_reply": "2023-11-20T12:00:23.979632Z"
    }
   },
   "outputs": [
    {
     "name": "stdout",
     "output_type": "stream",
     "text": [
      "Simple feature collection with 500 features and 3 fieldsGeometry type: POLYGON\n",
      "Dimension:     XY\n",
      "Bounding box:  xmin: -17.3381 ymin: -34.1831 xmax: 50.8833 ymax: 37.0542CRS:           NA\n",
      "\u001b[38;5;246m# A tibble: 500 × 4\u001b[39m\n",
      "   dyad_name                                         date_first date_last                   geometry\n",
      "   \u001b[3m\u001b[38;5;246m<chr>\u001b[39m\u001b[23m                                             \u001b[3m\u001b[38;5;246m<date>\u001b[39m\u001b[23m     \u001b[3m\u001b[38;5;246m<date>\u001b[39m\u001b[23m                     \u001b[3m\u001b[38;5;246m<POLYGON>\u001b[39m\u001b[23m\n",
      "\u001b[38;5;250m 1\u001b[39m Government of Central African Republic - Militar… 2001-05-27 2001-12-01 ((18.5833 4.31667, 18.58…\n",
      "\u001b[38;5;250m 2\u001b[39m Government of the Republic of Congo - Cobras      1997-06-05 1997-10-16 ((15.315 -4.37972, 15.28…\n",
      "\u001b[38;5;250m 3\u001b[39m Government of Chad - MOSANAT                      1989-03-03 1989-03-03 ((20.9052 9.88969, 20.48…\n",
      "\u001b[38;5;250m 4\u001b[39m Government of Angola - FLEC-R                     1994-02-07 1994-11-15 ((12.5167 -5.63333, 12.5…\n",
      "\u001b[38;5;250m 5\u001b[39m Government of Chad - Islamic Legion               1990-04-03 1990-11-16 ((22.7833 14.9667, 22.78…\n",
      "\u001b[38;5;250m 6\u001b[39m Government of Somalia - USC                       1990-11-18 1991-01-28 ((45.3667 2.01667, 45.36…\n",
      "\u001b[38;5;250m 7\u001b[39m Government of Chad - MPS                          1990-11-14 1990-11-25 ((22.7833 14.9667, 22.25…\n",
      "\u001b[38;5;250m 8\u001b[39m Government of Algeria - Takfir wa'l Hijra         1991-11-29 1991-12-09 ((6.88333 33.2833, 6.8 3…\n",
      "\u001b[38;5;250m 9\u001b[39m Government of Mali - ATNMC                        2008-05-06 2008-12-20 ((-6.0197 14.6437, -6.01…\n",
      "\u001b[38;5;250m10\u001b[39m Government of Ethiopia - IGLF                     1991-10-10 1991-10-10 ((42.1258 9.25944, 41.84…\n",
      "\u001b[38;5;246m# ℹ 490 more rows\u001b[39m\n"
     ]
    }
   ],
   "source": [
    "print(UCDPGEDpoly[c(7,18,20)])"
   ]
  }
 ],
 "metadata": {
  "kernelspec": {
   "display_name": "R (RKernel)",
   "language": "R",
   "name": "rkernel"
  },
  "language_info": {
   "codemirror_mode": "R",
   "file_extension": ".R",
   "mimetype": "text/x-r-source",
   "name": "R",
   "pygments_lexer": "r",
   "version": "4.3.2"
  }
 },
 "nbformat": 4,
 "nbformat_minor": 4
}
