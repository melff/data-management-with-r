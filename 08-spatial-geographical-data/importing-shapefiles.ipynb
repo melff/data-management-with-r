{
 "cells": [
  {
   "cell_type": "markdown",
   "metadata": {},
   "source": [
    "# Importing shapefiles"
   ]
  },
  {
   "cell_type": "code",
   "execution_count": 1,
   "metadata": {},
   "outputs": [],
   "source": [
    "options(jupyter.rich_display=FALSE) # Create output as usual in R\n",
    "options(width=100)"
   ]
  },
  {
   "cell_type": "markdown",
   "metadata": {},
   "source": [
    "The data used here are available from [Upsala Conflict Data Program](https://ucdp.uu.se/downloads/index.html#ged_polygons)."
   ]
  },
  {
   "cell_type": "code",
   "execution_count": 2,
   "metadata": {},
   "outputs": [],
   "source": [
    "# To download the data, use the *R*-code \n",
    "#\n",
    "# download.file(\"https://ucdp.uu.se/downloads/ged/ucdp-ged-poly-v-1-1-shape.zip\",\n",
    "#               \"ucdp-ged-poly-v-1-1-shape.zip\")"
   ]
  },
  {
   "cell_type": "code",
   "execution_count": 3,
   "metadata": {},
   "outputs": [
    {
     "data": {
      "text/plain": [
       "   Name                                                     Length  Date               \n",
       "1  ARCGIS Readme.txt                                            251 2012-03-28 16:07:00\n",
       "2  UCDP GED Conflict Polygons Codebook version 1.1-2011.pdf 1006764 2012-03-28 16:02:00\n",
       "3  UCDPGEDpoly.dbf                                           744174 2012-03-21 16:09:00\n",
       "4  UCDPGEDpoly.prj                                              145 2012-03-21 16:09:00\n",
       "5  UCDPGEDpoly.sbn                                             4820 2012-03-21 16:09:00\n",
       "6  UCDPGEDpoly.sbx                                              372 2012-03-21 16:09:00\n",
       "7  UCDPGEDpoly.shp                                            73892 2012-03-21 16:09:00\n",
       "8  UCDPGEDpoly.shx                                             4100 2012-03-21 16:09:00\n",
       "9  UCDPGEDpolyyear.dbf                                      1907966 2012-03-21 16:08:00\n",
       "10 UCDPGEDpolyyear.prj                                          145 2012-03-21 16:08:00\n",
       "11 UCDPGEDpolyyear.sbn                                        11620 2012-03-21 16:08:00\n",
       "12 UCDPGEDpolyyear.sbx                                          764 2012-03-21 16:08:00\n",
       "13 UCDPGEDpolyyear.shp                                       165460 2012-03-21 16:08:00\n",
       "14 UCDPGEDpolyyear.shx                                         9156 2012-03-21 16:08:00"
      ]
     },
     "metadata": {},
     "output_type": "display_data"
    }
   ],
   "source": [
    "unzip(\"ucdp-ged-poly-v-1-1-shape.zip\",list=TRUE)"
   ]
  },
  {
   "cell_type": "code",
   "execution_count": 4,
   "metadata": {},
   "outputs": [],
   "source": [
    "unzip(\"ucdp-ged-poly-v-1-1-shape.zip\",\n",
    "      files=c(\n",
    "          \"UCDPGEDpoly.shx\",\n",
    "          \"UCDPGEDpoly.shp\",\n",
    "          \"UCDPGEDpoly.dbf\"\n",
    "          ))"
   ]
  },
  {
   "cell_type": "markdown",
   "metadata": {},
   "source": [
    "The following makes use of the *sf* package. You may need to install it from\n",
    "[CRAN](https://cran.r-project.org/package=sf) using the code\n",
    "`install.packages(\"sf\")` if you want to run this on your computer. (The\n",
    "package is already installed on the notebook container, however.)"
   ]
  },
  {
   "cell_type": "code",
   "execution_count": 5,
   "metadata": {},
   "outputs": [
    {
     "name": "stderr",
     "output_type": "stream",
     "text": [
      "Linking to GEOS 3.7.1, GDAL 2.4.0, PROJ 5.2.0\n",
      "\n"
     ]
    },
    {
     "name": "stdout",
     "output_type": "stream",
     "text": [
      "Reading layer `UCDPGEDpoly' from data source `/home/elff/webdevel/sphinx/elff.eu/publications/data-management-r/spatial-geographical-data/UCDPGEDpoly.shx' using driver `ESRI Shapefile'\n",
      "Simple feature collection with 500 features and 20 fields\n",
      "geometry type:  POLYGON\n",
      "dimension:      XY\n",
      "bbox:           xmin: -17.3381 ymin: -34.1831 xmax: 50.8833 ymax: 37.0542\n",
      "CRS:            NA\n"
     ]
    }
   ],
   "source": [
    "library(sf)\n",
    "# All three of the following lines are equivalent:\n",
    "UCDPGEDpoly <- st_read(\"UCDPGEDpoly.shx\")"
   ]
  },
  {
   "cell_type": "code",
   "execution_count": 6,
   "metadata": {},
   "outputs": [
    {
     "name": "stdout",
     "output_type": "stream",
     "text": [
      "Reading layer `UCDPGEDpoly' from data source `/home/elff/webdevel/sphinx/elff.eu/publications/data-management-r/spatial-geographical-data/UCDPGEDpoly.shp' using driver `ESRI Shapefile'\n",
      "Simple feature collection with 500 features and 20 fields\n",
      "geometry type:  POLYGON\n",
      "dimension:      XY\n",
      "bbox:           xmin: -17.3381 ymin: -34.1831 xmax: 50.8833 ymax: 37.0542\n",
      "CRS:            NA\n"
     ]
    }
   ],
   "source": [
    "UCDPGEDpoly <- st_read(\"UCDPGEDpoly.shp\")"
   ]
  },
  {
   "cell_type": "code",
   "execution_count": 7,
   "metadata": {},
   "outputs": [
    {
     "name": "stdout",
     "output_type": "stream",
     "text": [
      "Reading layer `UCDPGEDpoly' from data source `/home/elff/webdevel/sphinx/elff.eu/publications/data-management-r/spatial-geographical-data/UCDPGEDpoly.dbf' using driver `ESRI Shapefile'\n",
      "Simple feature collection with 500 features and 20 fields\n",
      "geometry type:  POLYGON\n",
      "dimension:      XY\n",
      "bbox:           xmin: -17.3381 ymin: -34.1831 xmax: 50.8833 ymax: 37.0542\n",
      "CRS:            NA\n"
     ]
    }
   ],
   "source": [
    "UCDPGEDpoly <- st_read(\"UCDPGEDpoly.dbf\")"
   ]
  },
  {
   "cell_type": "code",
   "execution_count": 8,
   "metadata": {},
   "outputs": [
    {
     "name": "stdout",
     "output_type": "stream",
     "text": [
      "Classes ‘sf’ and 'data.frame':\t500 obs. of  21 variables:\n",
      " $ pName     : chr  \"LNE-1-17-A\" \"LNE-1-189A-A\" \"LNE-1-19-A\" \"LNE-1-191-A\" ...\n",
      " $ lat       : num  4.32 -4.31 12.72 -5.63 15.5 ...\n",
      " $ lon       : num  18.6 15.3 20.5 12.5 22.9 ...\n",
      " $ type_of_vi: num  1 1 1 1 1 1 1 1 1 1 ...\n",
      " $ dyadID_1  : num  17 0 19 191 20 210 23 0 0 811 ...\n",
      " $ Split_dyad: num  0 1 0 0 0 0 0 1 1 0 ...\n",
      " $ dyad_name : chr  \"Government of Central African Republic - Military faction (Forces of André Kolingba)\" \"Government of the Republic of Congo - Cobras\" \"Government of Chad - MOSANAT\" \"Government of Angola - FLEC-R\" ...\n",
      " $ conflict_n: chr  \"Central African Republic\" \"Congo\" \"Chad\" \"Angola (Cabinda)\" ...\n",
      " $ conflict_I: num  222 214 91 192 91 141 91 191 177 268 ...\n",
      " $ side_A    : chr  \"Government of Central African Republic\" \"Government of the Republic of Congo\" \"Government of Chad\" \"Government of Angola\" ...\n",
      " $ side_A_ID : num  482 484 483 540 483 520 483 615 432 530 ...\n",
      " $ side_B    : chr  \"Military faction (Forces of André Kolingba)\" \"Cobras\" \"MOSANAT\" \"FLEC-R\" ...\n",
      " $ side_B_ID : num  1406 1398 1290 1392 1288 ...\n",
      " $ no_of_even: num  11 23 2 2 3 11 3 2 2 2 ...\n",
      " $ low_est   : num  231 1396 50 0 0 ...\n",
      " $ best_est  : num  231 1396 50 0 0 ...\n",
      " $ high_est  : num  331 3456 50 72 930 ...\n",
      " $ date_first: Date, format: \"2001-05-27\" \"1997-06-05\" \"1989-03-03\" ...\n",
      " $ date_fir_1: Date, format: \"2001-06-01\" \"1997-06-06\" \"1989-03-03\" ...\n",
      " $ date_last : Date, format: \"2001-12-01\" \"1997-10-16\" \"1989-03-03\" ...\n",
      " $ geometry  :sfc_POLYGON of length 500; first list element: List of 1\n",
      "  ..$ : num [1:5, 1:2] 18.6 18.6 18.6 18.6 18.6 ...\n",
      "  ..- attr(*, \"class\")= chr [1:3] \"XY\" \"POLYGON\" \"sfg\"\n",
      " - attr(*, \"sf_column\")= chr \"geometry\"\n",
      " - attr(*, \"agr\")= Factor w/ 3 levels \"constant\",\"aggregate\",..: NA NA NA NA NA NA NA NA NA NA ...\n",
      "  ..- attr(*, \"names\")= chr [1:20] \"pName\" \"lat\" \"lon\" \"type_of_vi\" ...\n"
     ]
    }
   ],
   "source": [
    "str(UCDPGEDpoly)"
   ]
  },
  {
   "cell_type": "code",
   "execution_count": 9,
   "metadata": {},
   "outputs": [
    {
     "name": "stdout",
     "output_type": "stream",
     "text": [
      "Simple feature collection with 500 features and 3 fields\n",
      "geometry type:  POLYGON\n",
      "dimension:      XY\n",
      "bbox:           xmin: -17.3381 ymin: -34.1831 xmax: 50.8833 ymax: 37.0542\n",
      "CRS:            NA\n",
      "First 10 features:\n",
      "                                                                              dyad_name date_first\n",
      "1  Government of Central African Republic - Military faction (Forces of André Kolingba) 2001-05-27\n",
      "2                                          Government of the Republic of Congo - Cobras 1997-06-05\n",
      "3                                                          Government of Chad - MOSANAT 1989-03-03\n",
      "4                                                         Government of Angola - FLEC-R 1994-02-07\n",
      "5                                                   Government of Chad - Islamic Legion 1990-04-03\n",
      "6                                                           Government of Somalia - USC 1990-11-18\n",
      "7                                                              Government of Chad - MPS 1990-11-14\n",
      "8                                             Government of Algeria - Takfir wa'l Hijra 1991-11-29\n",
      "9                                                            Government of Mali - ATNMC 2008-05-06\n",
      "10                                                        Government of Ethiopia - IGLF 1991-10-10\n",
      "    date_last                       geometry\n",
      "1  2001-12-01 POLYGON ((18.5833 4.31667, ...\n",
      "2  1997-10-16 POLYGON ((15.315 -4.37972, ...\n",
      "3  1989-03-03 POLYGON ((20.9052 9.88969, ...\n",
      "4  1994-11-15 POLYGON ((12.5167 -5.63333,...\n",
      "5  1990-11-16 POLYGON ((22.7833 14.9667, ...\n",
      "6  1991-01-28 POLYGON ((45.3667 2.01667, ...\n",
      "7  1990-11-25 POLYGON ((22.7833 14.9667, ...\n",
      "8  1991-12-09 POLYGON ((6.88333 33.2833, ...\n",
      "9  2008-12-20 POLYGON ((-6.0197 14.6437, ...\n",
      "10 1991-10-10 POLYGON ((42.1258 9.25944, ...\n"
     ]
    }
   ],
   "source": [
    "print(UCDPGEDpoly[c(7,18,20)])"
   ]
  }
 ],
 "metadata": {
  "kernelspec": {
   "display_name": "R",
   "language": "R",
   "name": "ir"
  },
  "language_info": {
   "codemirror_mode": "r",
   "file_extension": ".r",
   "mimetype": "text/x-r-source",
   "name": "R",
   "pygments_lexer": "r",
   "version": "4.0.4"
  }
 },
 "nbformat": 4,
 "nbformat_minor": 4
}
