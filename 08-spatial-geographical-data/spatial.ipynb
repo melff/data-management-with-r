{
 "cells": [
  {
   "cell_type": "markdown",
   "id": "b674cdae-8745-43b3-9a4d-9bf87042f0ec",
   "metadata": {},
   "source": [
    "# Spatial and Geographical data\n",
    "\n",
    "While single geographical locations can be identified with a single pair of coordinates, the geographical extent of trade routes or countries are series of such coordinate values and cannot easily accommodated with the observation-by-variable format of data frames. Instead such geographical data constitutes its own data type, which is discussed in this chapter. The chapter also discusses how such spatial data can be connected with other data about geographical entities, e.g. the population density or GDP per capita of countries. Further it discusses the import of geographical data from shape files and OpenStreetMap OSM files and the definition of and conversion between cartographic projections.\n",
    "\n",
    "Below is the supporting material for the various sections of the chapter.\n",
    "\n",
    "## The Structure of Spatial Data\n",
    "\n",
    "- [The structure of objects of classes defined in the sp package](spatial-datastructures-sp.ipynb)\n",
    "- [The structure of objects of classes defined in the sf package](spatial-datastructures-sf.ipynb)\n",
    "- [Converting “sp” objects to “sf” objects](converting-sp-to-sf.ipynb)\n",
    "\n",
    "## Spatial Relations and Operations\n",
    "\n",
    "- [Spatial relations](spatial-relations.ipynb)\n",
    "- [Properties of spatial objects](spatial-properties.ipynb)\n",
    "- [Unions and intersections (of artificial geometric objects)](artificial-unions-intersections.ipynb)\n",
    "- [Subsetting spatial feature objects](spatial-subsets.ipynb)\n",
    "- [Aggregating spatial feature objects](spatial-aggregates.ipynb)\n",
    "\n",
    "## Cartographic Projections\n",
    "\n",
    "- [Geographical projections of a mainland USA map](cartographic-projections.ipynb)\n",
    "\n",
    "## Geographical Data Files\n",
    "\n",
    "- [Importing shapefiles](importing-shapefiles.ipynb)\n",
    "- [Importing geographical data from OpenStreetMap](importing-openstreetmap.ipynb)"
   ]
  }
 ],
 "metadata": {
  "kernelspec": {
   "display_name": "R (RKernel)",
   "language": "R",
   "name": "rkernel"
  },
  "language_info": {
   "codemirror_mode": "R",
   "file_extension": ".R",
   "mimetype": "text/x-r-source",
   "name": "R",
   "pygments_lexer": "r",
   "version": "4.3.2"
  }
 },
 "nbformat": 4,
 "nbformat_minor": 5
}
