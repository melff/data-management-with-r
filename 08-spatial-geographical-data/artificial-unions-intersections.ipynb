{
 "cells": [
  {
   "cell_type": "markdown",
   "metadata": {
    "slideshow": {
     "slide_type": "slide"
    }
   },
   "source": [
    "# Unions and intersections (of artificial geometric objects)"
   ]
  },
  {
   "cell_type": "code",
   "execution_count": null,
   "metadata": {
    "slideshow": {
     "slide_type": "fragment"
    }
   },
   "outputs": [],
   "source": [
    "options(jupyter.rich_display=FALSE) # Create output as usual in R"
   ]
  },
  {
   "cell_type": "markdown",
   "metadata": {
    "slideshow": {
     "slide_type": "fragment"
    }
   },
   "source": [
    "The following makes use of the *sf* package. You may need to install it from\n",
    "[CRAN](https://cran.r-project.org/package=sf) using the code\n",
    "`install.packages(\"sf\")` if you want to run this on your computer. (The\n",
    "package is already installed on the notebook container, however.)"
   ]
  },
  {
   "cell_type": "code",
   "execution_count": null,
   "metadata": {
    "slideshow": {
     "slide_type": "fragment"
    }
   },
   "outputs": [],
   "source": [
    "library(sf)"
   ]
  },
  {
   "cell_type": "code",
   "execution_count": null,
   "metadata": {
    "slideshow": {
     "slide_type": "subslide"
    }
   },
   "outputs": [],
   "source": [
    "A <- rbind(\n",
    "    c(0,0),\n",
    "    c(2,0),\n",
    "    c(0,2),\n",
    "    c(0,0)\n",
    ")\n",
    "A <- st_polygon(list(A))\n",
    "B <- rbind(\n",
    "    c( 1, 1),\n",
    "    c( 1,-1),\n",
    "    c(-1,-1),\n",
    "    c(-1, 1),\n",
    "    c( 1, 1)\n",
    ")\n",
    "B <- st_polygon(list(B))"
   ]
  },
  {
   "cell_type": "code",
   "execution_count": null,
   "metadata": {
    "slideshow": {
     "slide_type": "subslide"
    }
   },
   "outputs": [],
   "source": [
    "A"
   ]
  },
  {
   "cell_type": "code",
   "execution_count": null,
   "metadata": {
    "slideshow": {
     "slide_type": "fragment"
    }
   },
   "outputs": [],
   "source": [
    "B"
   ]
  },
  {
   "cell_type": "code",
   "execution_count": null,
   "metadata": {
    "slideshow": {
     "slide_type": "subslide"
    }
   },
   "outputs": [],
   "source": [
    "plot(A,xlim=c(-1,2),ylim=c(-1,2))\n",
    "plot(B,lty=2,add=TRUE)\n",
    "text(0,1.5,\"A\",pos=2)\n",
    "text(1,-.5,\"B\",pos=4)\n",
    "text(.5,-1.5,\"Two shapes A and B\",pos=1)"
   ]
  },
  {
   "cell_type": "code",
   "execution_count": null,
   "metadata": {
    "slideshow": {
     "slide_type": "subslide"
    }
   },
   "outputs": [],
   "source": [
    "plot(st_union(A,B),col=\"gray70\",xlim=c(-1,2),ylim=c(-1,2))\n",
    "plot(A,lty=3,add=TRUE)\n",
    "plot(B,lty=3,add=TRUE)\n",
    "text(.5,-1.5,\"st_union(A,B)\",pos=1)"
   ]
  },
  {
   "cell_type": "code",
   "execution_count": null,
   "metadata": {
    "slideshow": {
     "slide_type": "subslide"
    }
   },
   "outputs": [],
   "source": [
    "plot(A,lty=3,xlim=c(-1,2),ylim=c(-1,2))\n",
    "plot(B,lty=3,add=TRUE)\n",
    "plot(st_intersection(A,B),add=TRUE,col=\"gray70\")\n",
    "text(.5,-1.5,\"st_intersection(A,B)\",pos=1)"
   ]
  },
  {
   "cell_type": "code",
   "execution_count": null,
   "metadata": {
    "slideshow": {
     "slide_type": "subslide"
    }
   },
   "outputs": [],
   "source": [
    "plot(st_difference(A,B),col=\"gray70\",,xlim=c(-1,2),ylim=c(-1,2))\n",
    "plot(A,lty=3,add=TRUE)\n",
    "plot(B,lty=3,add=TRUE)\n",
    "text(.5,-1.5,\"st_difference(A,B)\",pos=1)"
   ]
  },
  {
   "cell_type": "code",
   "execution_count": null,
   "metadata": {
    "slideshow": {
     "slide_type": "subslide"
    }
   },
   "outputs": [],
   "source": [
    "plot(st_difference(B,A),col=\"gray70\",,xlim=c(-1,2),ylim=c(-1,2))\n",
    "plot(A,lty=3,add=TRUE)\n",
    "plot(B,lty=3,add=TRUE)\n",
    "text(.5,-1.5,\"st_difference(B,A)\",pos=1)"
   ]
  },
  {
   "cell_type": "code",
   "execution_count": null,
   "metadata": {
    "slideshow": {
     "slide_type": "subslide"
    }
   },
   "outputs": [],
   "source": [
    "plot(st_sym_difference(A,B),col=\"gray70\",,xlim=c(-1,2),ylim=c(-1,2))\n",
    "text(.5,-1.5,\"st_sym_difference(A,B)\",pos=1)"
   ]
  }
 ],
 "metadata": {
  "kernelspec": {
   "display_name": "R",
   "language": "R",
   "name": "ir"
  },
  "language_info": {
   "codemirror_mode": "r",
   "file_extension": ".r",
   "mimetype": "text/x-r-source",
   "name": "R",
   "pygments_lexer": "r",
   "version": "4.0.5"
  }
 },
 "nbformat": 4,
 "nbformat_minor": 4
}
