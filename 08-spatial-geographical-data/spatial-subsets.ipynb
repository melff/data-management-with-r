{
 "cells": [
  {
   "cell_type": "markdown",
   "metadata": {
    "slideshow": {
     "slide_type": "-"
    }
   },
   "source": [
    "# Subsetting spatial feature objects"
   ]
  },
  {
   "cell_type": "markdown",
   "metadata": {
    "slideshow": {
     "slide_type": "-"
    }
   },
   "source": [
    "The following makes use of the *sf* package. You may need to install it from\n",
    "[CRAN](https://cran.r-project.org/package=sf) using the code\n",
    "`install.packages(\"sf\")` if you want to run this on your computer. (The\n",
    "package is already installed on the notebook container, however.)"
   ]
  },
  {
   "cell_type": "code",
   "execution_count": null,
   "metadata": {
    "slideshow": {
     "slide_type": "-"
    }
   },
   "outputs": [],
   "source": [
    "library(sf)"
   ]
  },
  {
   "cell_type": "markdown",
   "metadata": {
    "slideshow": {
     "slide_type": "-"
    }
   },
   "source": [
    "The files \"south-america-1990.RData\" and \"ged191.RData\" were created in previous examples."
   ]
  },
  {
   "cell_type": "code",
   "execution_count": null,
   "metadata": {
    "slideshow": {
     "slide_type": "-"
    }
   },
   "outputs": [],
   "source": [
    "load(\"south-america-1990.RData\")\n",
    "load(\"ged191.RData\")"
   ]
  },
  {
   "cell_type": "code",
   "execution_count": null,
   "metadata": {
    "slideshow": {
     "slide_type": "-"
    }
   },
   "outputs": [],
   "source": [
    "# This fails due to different coordinate reference systems\n",
    "Colombia.conflicts <- ged191[Colombia,]"
   ]
  },
  {
   "cell_type": "code",
   "execution_count": null,
   "metadata": {
    "slideshow": {
     "slide_type": "-"
    }
   },
   "outputs": [],
   "source": [
    "st_crs(Colombia)"
   ]
  },
  {
   "cell_type": "code",
   "execution_count": null,
   "metadata": {
    "slideshow": {
     "slide_type": "-"
    }
   },
   "outputs": [],
   "source": [
    "st_crs(ged191)"
   ]
  },
  {
   "cell_type": "code",
   "execution_count": null,
   "metadata": {
    "slideshow": {
     "slide_type": "-"
    }
   },
   "outputs": [],
   "source": [
    "# Here we make sure that the coordinate reference systems match\n",
    "ged191_ellips <- st_transform(ged191,st_crs(Colombia))\n",
    "Colombia.conflicts <- ged191_ellips[Colombia,]"
   ]
  },
  {
   "cell_type": "code",
   "execution_count": null,
   "metadata": {
    "slideshow": {
     "slide_type": "-"
    }
   },
   "outputs": [],
   "source": [
    "mypal <- function(n)gray.colors(n,start=.2,end=.9,alpha=.5)\n",
    "plot(st_geometry(Colombia))\n",
    "plot(Colombia.conflicts[\"deaths_civilians\"],\n",
    "     add=TRUE,pch=19,cex=.2,\n",
    "     pal=mypal,\n",
    "     nbreaks=30\n",
    "     )"
   ]
  },
  {
   "cell_type": "code",
   "execution_count": null,
   "metadata": {
    "slideshow": {
     "slide_type": "-"
    }
   },
   "outputs": [],
   "source": [
    "st_circ <- function(x,dist.km){\n",
    "    dist.degr <- 360*dist.km/40007.863\n",
    "    st_buffer(st_geometry(x),dist=dist.degr)\n",
    "}"
   ]
  },
  {
   "cell_type": "code",
   "execution_count": null,
   "metadata": {
    "slideshow": {
     "slide_type": "-"
    }
   },
   "outputs": [],
   "source": [
    "Bogota.200km <- st_circ(Bogota,dist.km=200)"
   ]
  },
  {
   "cell_type": "code",
   "execution_count": null,
   "metadata": {
    "slideshow": {
     "slide_type": "-"
    }
   },
   "outputs": [],
   "source": [
    "Bogota.conflicts <- ged191_ellips[Bogota.200km,]"
   ]
  },
  {
   "cell_type": "code",
   "execution_count": null,
   "metadata": {
    "slideshow": {
     "slide_type": "-"
    }
   },
   "outputs": [],
   "source": [
    "plot(st_geometry(Colombia))\n",
    "plot(st_geometry(Colombia.conflicts),\n",
    "     add=TRUE,pch=1,cex=.3,col=\"gray80\"\n",
    "     )\n",
    "plot(st_geometry(Bogota.conflicts),\n",
    "     add=TRUE,pch=19,cex=.3)\n",
    "plot(Bogota.200km,lty=3,add=TRUE)"
   ]
  }
 ],
 "metadata": {
  "kernelspec": {
   "display_name": "R",
   "language": "R",
   "name": "ir"
  },
  "language_info": {
   "codemirror_mode": "r",
   "file_extension": ".r",
   "mimetype": "text/x-r-source",
   "name": "R",
   "pygments_lexer": "r",
   "version": "4.0.5"
  }
 },
 "nbformat": 4,
 "nbformat_minor": 4
}
