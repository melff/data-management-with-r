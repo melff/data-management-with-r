{
 "cells": [
  {
   "cell_type": "markdown",
   "metadata": {},
   "source": [
    "# Spatial relations"
   ]
  },
  {
   "cell_type": "markdown",
   "metadata": {},
   "source": [
    "The following makes use of the *sf* package. You may need to install it from\n",
    "[CRAN](https://cran.r-project.org/package=sf) using the code\n",
    "`install.packages(\"sf\")` if you want to run this on your computer. (The\n",
    "package is already installed on the notebook container, however.)"
   ]
  },
  {
   "cell_type": "code",
   "execution_count": null,
   "metadata": {},
   "outputs": [],
   "source": [
    "library(sf)"
   ]
  },
  {
   "cell_type": "markdown",
   "metadata": {},
   "source": [
    "The file `\"south-america-1990.RData\"` loaded below was created in a previous example was created in a previous example."
   ]
  },
  {
   "cell_type": "code",
   "execution_count": null,
   "metadata": {},
   "outputs": [],
   "source": [
    "load(\"south-america-1990.RData\")"
   ]
  },
  {
   "cell_type": "code",
   "execution_count": null,
   "metadata": {},
   "outputs": [],
   "source": [
    "plot_g <- function(x,...) plot(st_geometry(x),...)\n",
    "plot_g(Brazil)\n",
    "plot_g(Brasilia,add=TRUE,pch=19) # Circle\n",
    "plot_g(Bogota,add=TRUE,pch=15) # Square"
   ]
  },
  {
   "cell_type": "code",
   "execution_count": null,
   "metadata": {},
   "outputs": [],
   "source": [
    "st_contains(Brazil,Brasilia,sparse=FALSE)"
   ]
  },
  {
   "cell_type": "code",
   "execution_count": null,
   "metadata": {},
   "outputs": [],
   "source": [
    "st_contains(Brazil,Bogota,sparse=FALSE)"
   ]
  },
  {
   "cell_type": "code",
   "execution_count": null,
   "metadata": {},
   "outputs": [],
   "source": [
    "load(\"cshapes-1990.RData\")\n",
    "ThreeCountries <-\n",
    "    subset(cshapes.1990,\n",
    "           CNTRY_NAME %in% c(\"Brazil\",\"Chile\",\"Colombia\"))\n",
    "rownames(ThreeCountries) <- ThreeCountries$CNTRY_NAME"
   ]
  },
  {
   "cell_type": "code",
   "execution_count": null,
   "metadata": {},
   "outputs": [],
   "source": [
    "ThreeCapitals <-\n",
    "    subset(cshapes.capitals.1990,\n",
    "           CNTRY_NAME %in% c(\"Brazil\",\"Chile\",\"Colombia\"))\n",
    "rownames(ThreeCapitals) <- ThreeCapitals$CAPNAME"
   ]
  },
  {
   "cell_type": "code",
   "execution_count": null,
   "metadata": {},
   "outputs": [],
   "source": [
    "plot_g(ThreeCountries)\n",
    "plot_g(ThreeCapitals,add=TRUE,pch=19)"
   ]
  },
  {
   "cell_type": "code",
   "execution_count": null,
   "metadata": {},
   "outputs": [],
   "source": [
    "st_contains(ThreeCountries,ThreeCapitals,sparse=FALSE)"
   ]
  },
  {
   "cell_type": "code",
   "execution_count": null,
   "metadata": {},
   "outputs": [],
   "source": [
    "structure(\n",
    "   st_contains(ThreeCountries,ThreeCapitals,sparse=FALSE),\n",
    "   dimnames=list(rownames(ThreeCountries),rownames(ThreeCapitals))\n",
    ")"
   ]
  },
  {
   "cell_type": "code",
   "execution_count": null,
   "metadata": {},
   "outputs": [],
   "source": [
    "st_touches(Brazil,Colombia,sparse=FALSE)"
   ]
  },
  {
   "cell_type": "code",
   "execution_count": null,
   "metadata": {},
   "outputs": [],
   "source": [
    "st_touches(Brazil,Chile,sparse=FALSE)"
   ]
  },
  {
   "cell_type": "code",
   "execution_count": null,
   "metadata": {},
   "outputs": [],
   "source": [
    "structure(\n",
    "   st_touches(ThreeCountries,sparse=FALSE),\n",
    "   dimnames=list(rownames(ThreeCountries),rownames(ThreeCountries))\n",
    ")"
   ]
  },
  {
   "cell_type": "code",
   "execution_count": null,
   "metadata": {},
   "outputs": [],
   "source": [
    "save(ThreeCountries,ThreeCapitals,file=\"three-countries.RData\")"
   ]
  }
 ],
 "metadata": {
  "kernelspec": {
   "display_name": "R",
   "language": "R",
   "name": "ir"
  },
  "language_info": {
   "codemirror_mode": "r",
   "file_extension": ".r",
   "mimetype": "text/x-r-source",
   "name": "R",
   "pygments_lexer": "r",
   "version": "4.0.5"
  }
 },
 "nbformat": 4,
 "nbformat_minor": 4
}
