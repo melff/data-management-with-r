{
 "cells": [
  {
   "cell_type": "code",
   "execution_count": 1,
   "metadata": {},
   "outputs": [
    {
     "data": {
      "text/html": [
       "<style>\n",
       ".list-inline {list-style: none; margin:0; padding: 0}\n",
       ".list-inline>li {display: inline-block}\n",
       ".list-inline>li:not(:last-child)::after {content: \"\\00b7\"; padding: 0 .5ex}\n",
       "</style>\n",
       "<ol class=list-inline><li>'John'</li><li>'Paul'</li><li>'George'</li><li>'Ringo'</li></ol>\n"
      ],
      "text/latex": [
       "\\begin{enumerate*}\n",
       "\\item 'John'\n",
       "\\item 'Paul'\n",
       "\\item 'George'\n",
       "\\item 'Ringo'\n",
       "\\end{enumerate*}\n"
      ],
      "text/markdown": [
       "1. 'John'\n",
       "2. 'Paul'\n",
       "3. 'George'\n",
       "4. 'Ringo'\n",
       "\n",
       "\n"
      ],
      "text/plain": [
       "[1] \"John\"   \"Paul\"   \"George\" \"Ringo\" "
      ]
     },
     "metadata": {},
     "output_type": "display_data"
    }
   ],
   "source": [
    "Beatles <- c(\"John\", \"Paul\", \"George\", \"Ringo\")\n",
    "Beatles"
   ]
  },
  {
   "cell_type": "code",
   "execution_count": 4,
   "metadata": {},
   "outputs": [
    {
     "data": {
      "text/html": [
       "'one and only'"
      ],
      "text/latex": [
       "'one and only'"
      ],
      "text/markdown": [
       "'one and only'"
      ],
      "text/plain": [
       "[1] \"one and only\""
      ]
     },
     "metadata": {},
     "output_type": "display_data"
    }
   ],
   "source": [
    "paste(\"one\",\"and\",\"only\")"
   ]
  },
  {
   "cell_type": "code",
   "execution_count": 5,
   "metadata": {},
   "outputs": [
    {
     "data": {
      "text/html": [
       "'John &amp; Paul &amp; George &amp; Ringo'"
      ],
      "text/latex": [
       "'John \\& Paul \\& George \\& Ringo'"
      ],
      "text/markdown": [
       "'John &amp; Paul &amp; George &amp; Ringo'"
      ],
      "text/plain": [
       "[1] \"John & Paul & George & Ringo\""
      ]
     },
     "metadata": {},
     "output_type": "display_data"
    }
   ],
   "source": [
    "paste(Beatles, collapse=\" & \")"
   ]
  },
  {
   "cell_type": "code",
   "execution_count": 6,
   "metadata": {},
   "outputs": [],
   "source": [
    "First <- c(\"Mick\",\"Keith\",\"Ronnie\",\"Charlie\")\n",
    "Last <- c(\"Jagger\",\"Richards\",\"Wood\",\"Watts\")"
   ]
  },
  {
   "cell_type": "code",
   "execution_count": 7,
   "metadata": {},
   "outputs": [
    {
     "data": {
      "text/html": [
       "<style>\n",
       ".list-inline {list-style: none; margin:0; padding: 0}\n",
       ".list-inline>li {display: inline-block}\n",
       ".list-inline>li:not(:last-child)::after {content: \"\\00b7\"; padding: 0 .5ex}\n",
       "</style>\n",
       "<ol class=list-inline><li>'Mick Jagger'</li><li>'Keith Richards'</li><li>'Ronnie Wood'</li><li>'Charlie Watts'</li></ol>\n"
      ],
      "text/latex": [
       "\\begin{enumerate*}\n",
       "\\item 'Mick Jagger'\n",
       "\\item 'Keith Richards'\n",
       "\\item 'Ronnie Wood'\n",
       "\\item 'Charlie Watts'\n",
       "\\end{enumerate*}\n"
      ],
      "text/markdown": [
       "1. 'Mick Jagger'\n",
       "2. 'Keith Richards'\n",
       "3. 'Ronnie Wood'\n",
       "4. 'Charlie Watts'\n",
       "\n",
       "\n"
      ],
      "text/plain": [
       "[1] \"Mick Jagger\"    \"Keith Richards\" \"Ronnie Wood\"    \"Charlie Watts\" "
      ]
     },
     "metadata": {},
     "output_type": "display_data"
    }
   ],
   "source": [
    "paste(First,Last)"
   ]
  },
  {
   "cell_type": "code",
   "execution_count": 8,
   "metadata": {},
   "outputs": [
    {
     "data": {
      "text/html": [
       "<style>\n",
       ".list-inline {list-style: none; margin:0; padding: 0}\n",
       ".list-inline>li {display: inline-block}\n",
       ".list-inline>li:not(:last-child)::after {content: \"\\00b7\"; padding: 0 .5ex}\n",
       "</style>\n",
       "<ol class=list-inline><li>'Mick_Jagger'</li><li>'Keith_Richards'</li><li>'Ronnie_Wood'</li><li>'Charlie_Watts'</li></ol>\n"
      ],
      "text/latex": [
       "\\begin{enumerate*}\n",
       "\\item 'Mick\\_Jagger'\n",
       "\\item 'Keith\\_Richards'\n",
       "\\item 'Ronnie\\_Wood'\n",
       "\\item 'Charlie\\_Watts'\n",
       "\\end{enumerate*}\n"
      ],
      "text/markdown": [
       "1. 'Mick_Jagger'\n",
       "2. 'Keith_Richards'\n",
       "3. 'Ronnie_Wood'\n",
       "4. 'Charlie_Watts'\n",
       "\n",
       "\n"
      ],
      "text/plain": [
       "[1] \"Mick_Jagger\"    \"Keith_Richards\" \"Ronnie_Wood\"    \"Charlie_Watts\" "
      ]
     },
     "metadata": {},
     "output_type": "display_data"
    }
   ],
   "source": [
    "paste(First,Last,sep=\"_\")"
   ]
  },
  {
   "cell_type": "code",
   "execution_count": 9,
   "metadata": {},
   "outputs": [],
   "source": [
    "Beatles <- c(\"John\", \"Paul\", \"George\", \"Ringo\")"
   ]
  },
  {
   "cell_type": "code",
   "execution_count": 10,
   "metadata": {},
   "outputs": [
    {
     "data": {
      "text/html": [
       "<style>\n",
       ".list-inline {list-style: none; margin:0; padding: 0}\n",
       ".list-inline>li {display: inline-block}\n",
       ".list-inline>li:not(:last-child)::after {content: \"\\00b7\"; padding: 0 .5ex}\n",
       "</style>\n",
       "<ol class=list-inline><li>'Jo'</li><li>'Pa'</li><li>'Ge'</li><li>'Ri'</li></ol>\n"
      ],
      "text/latex": [
       "\\begin{enumerate*}\n",
       "\\item 'Jo'\n",
       "\\item 'Pa'\n",
       "\\item 'Ge'\n",
       "\\item 'Ri'\n",
       "\\end{enumerate*}\n"
      ],
      "text/markdown": [
       "1. 'Jo'\n",
       "2. 'Pa'\n",
       "3. 'Ge'\n",
       "4. 'Ri'\n",
       "\n",
       "\n"
      ],
      "text/plain": [
       "[1] \"Jo\" \"Pa\" \"Ge\" \"Ri\""
      ]
     },
     "metadata": {},
     "output_type": "display_data"
    }
   ],
   "source": [
    "substr(Beatles,1,2)"
   ]
  },
  {
   "cell_type": "code",
   "execution_count": 12,
   "metadata": {},
   "outputs": [
    {
     "data": {
      "text/html": [
       "<style>\n",
       ".list-inline {list-style: none; margin:0; padding: 0}\n",
       ".list-inline>li {display: inline-block}\n",
       ".list-inline>li:not(:last-child)::after {content: \"\\00b7\"; padding: 0 .5ex}\n",
       "</style>\n",
       "<ol class=list-inline><li>'Jo'</li><li>'au'</li><li>'or'</li><li>'go'</li></ol>\n"
      ],
      "text/latex": [
       "\\begin{enumerate*}\n",
       "\\item 'Jo'\n",
       "\\item 'au'\n",
       "\\item 'or'\n",
       "\\item 'go'\n",
       "\\end{enumerate*}\n"
      ],
      "text/markdown": [
       "1. 'Jo'\n",
       "2. 'au'\n",
       "3. 'or'\n",
       "4. 'go'\n",
       "\n",
       "\n"
      ],
      "text/plain": [
       "[1] \"Jo\" \"au\" \"or\" \"go\""
      ]
     },
     "metadata": {},
     "output_type": "display_data"
    }
   ],
   "source": [
    "substr(Beatles,1:4,2:5)"
   ]
  },
  {
   "cell_type": "code",
   "execution_count": 13,
   "metadata": {},
   "outputs": [
    {
     "name": "stdout",
     "output_type": "stream",
     "text": [
      "[1] \"Whole Lotta Rosie\"\n"
     ]
    }
   ],
   "source": [
    "Led.Zeppelin.song <- \"Whole Lotta Love\"\n",
    "ACDC.song <- sub(\"Love\",\"Rosie\",Led.Zeppelin.song)\n",
    "print(ACDC.song)"
   ]
  },
  {
   "cell_type": "code",
   "execution_count": 16,
   "metadata": {},
   "outputs": [],
   "source": [
    "onetofour <- 1:4\n",
    "names(onetofour) <- c(\"first\",\"second\",\"third\",\"fourth\")"
   ]
  },
  {
   "cell_type": "code",
   "execution_count": 17,
   "metadata": {},
   "outputs": [
    {
     "data": {
      "text/html": [
       "<style>\n",
       ".list-inline {list-style: none; margin:0; padding: 0}\n",
       ".list-inline>li {display: inline-block}\n",
       ".list-inline>li:not(:last-child)::after {content: \"\\00b7\"; padding: 0 .5ex}\n",
       "</style>\n",
       "<ol class=list-inline><li>'first'</li><li>'second'</li><li>'third'</li><li>'fourth'</li></ol>\n"
      ],
      "text/latex": [
       "\\begin{enumerate*}\n",
       "\\item 'first'\n",
       "\\item 'second'\n",
       "\\item 'third'\n",
       "\\item 'fourth'\n",
       "\\end{enumerate*}\n"
      ],
      "text/markdown": [
       "1. 'first'\n",
       "2. 'second'\n",
       "3. 'third'\n",
       "4. 'fourth'\n",
       "\n",
       "\n"
      ],
      "text/plain": [
       "[1] \"first\"  \"second\" \"third\"  \"fourth\""
      ]
     },
     "metadata": {},
     "output_type": "display_data"
    }
   ],
   "source": [
    "names(onetofour)"
   ]
  },
  {
   "cell_type": "code",
   "execution_count": 18,
   "metadata": {},
   "outputs": [
    {
     "data": {
      "text/html": [
       "<style>\n",
       ".dl-inline {width: auto; margin:0; padding: 0}\n",
       ".dl-inline>dt, .dl-inline>dd {float: none; width: auto; display: inline-block}\n",
       ".dl-inline>dt::after {content: \":\\0020\"; padding-right: .5ex}\n",
       ".dl-inline>dt:not(:first-of-type) {padding-left: .5ex}\n",
       "</style><dl class=dl-inline><dt>first</dt><dd>1</dd><dt>second</dt><dd>2</dd><dt>third</dt><dd>3</dd><dt>fourth</dt><dd>4</dd></dl>\n"
      ],
      "text/latex": [
       "\\begin{description*}\n",
       "\\item[first] 1\n",
       "\\item[second] 2\n",
       "\\item[third] 3\n",
       "\\item[fourth] 4\n",
       "\\end{description*}\n"
      ],
      "text/markdown": [
       "first\n",
       ":   1second\n",
       ":   2third\n",
       ":   3fourth\n",
       ":   4\n",
       "\n"
      ],
      "text/plain": [
       " first second  third fourth \n",
       "     1      2      3      4 "
      ]
     },
     "metadata": {},
     "output_type": "display_data"
    }
   ],
   "source": [
    "onetofour"
   ]
  },
  {
   "cell_type": "code",
   "execution_count": 19,
   "metadata": {},
   "outputs": [
    {
     "name": "stdout",
     "output_type": "stream",
     "text": [
      " first second  third fourth \n",
      "     1      2      3      4 \n"
     ]
    }
   ],
   "source": [
    "print(onetofour)"
   ]
  }
 ],
 "metadata": {
  "kernelspec": {
   "display_name": "R",
   "language": "R",
   "name": "ir"
  },
  "language_info": {
   "codemirror_mode": "r",
   "file_extension": ".r",
   "mimetype": "text/x-r-source",
   "name": "R",
   "pygments_lexer": "r",
   "version": "4.0.3"
  }
 },
 "nbformat": 4,
 "nbformat_minor": 4
}
