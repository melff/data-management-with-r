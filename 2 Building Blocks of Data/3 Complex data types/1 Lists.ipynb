{
 "cells": [
  {
   "cell_type": "code",
   "execution_count": 1,
   "metadata": {},
   "outputs": [],
   "source": [
    "options(jupyter.rich_display=FALSE) # Create output as usual in R"
   ]
  },
  {
   "cell_type": "code",
   "execution_count": 2,
   "metadata": {},
   "outputs": [
    {
     "data": {
      "text/plain": [
       "[[1]]\n",
       "[1] 1 2 3 4 5\n",
       "\n",
       "[[2]]\n",
       "[1] \"a\" \"b\" \"c\" \"d\" \"e\" \"f\"\n",
       "\n",
       "[[3]]\n",
       "[1]  TRUE FALSE FALSE  TRUE\n"
      ]
     },
     "metadata": {},
     "output_type": "display_data"
    }
   ],
   "source": [
    "AList <- list(1:5,\n",
    "              letters[1:6],\n",
    "              c(TRUE,FALSE,FALSE,TRUE))\n",
    "AList"
   ]
  },
  {
   "cell_type": "code",
   "execution_count": 3,
   "metadata": {},
   "outputs": [
    {
     "data": {
      "text/plain": [
       "[[1]]\n",
       "[1] 1 2 3 4 5\n",
       "\n",
       "[[2]]\n",
       "[1] \"a\" \"b\" \"c\" \"d\" \"e\" \"f\"\n"
      ]
     },
     "metadata": {},
     "output_type": "display_data"
    }
   ],
   "source": [
    "AList[1:2]"
   ]
  },
  {
   "cell_type": "code",
   "execution_count": 4,
   "metadata": {},
   "outputs": [
    {
     "data": {
      "text/plain": [
       "[[1]]\n",
       "[1] 1 2 3 4 5\n"
      ]
     },
     "metadata": {},
     "output_type": "display_data"
    }
   ],
   "source": [
    "AList[1]"
   ]
  },
  {
   "cell_type": "code",
   "execution_count": 5,
   "metadata": {},
   "outputs": [
    {
     "data": {
      "text/plain": [
       "[1] \"a\" \"b\" \"c\" \"d\" \"e\" \"f\""
      ]
     },
     "metadata": {},
     "output_type": "display_data"
    }
   ],
   "source": [
    "AList[[2]]"
   ]
  },
  {
   "cell_type": "code",
   "execution_count": 6,
   "metadata": {},
   "outputs": [
    {
     "data": {
      "text/plain": [
       "[1] 2"
      ]
     },
     "metadata": {},
     "output_type": "display_data"
    }
   ],
   "source": [
    "AList[[1:2]]"
   ]
  },
  {
   "cell_type": "code",
   "execution_count": 7,
   "metadata": {},
   "outputs": [
    {
     "ename": "ERROR",
     "evalue": "Error in AList[[1:3]]: rekursives Indizieren auf Level 2 fehlgeschlagen\n\n",
     "output_type": "error",
     "traceback": [
      "Error in AList[[1:3]]: rekursives Indizieren auf Level 2 fehlgeschlagen\n\nTraceback:\n"
     ]
    }
   ],
   "source": [
    "AList[[1:3]]"
   ]
  },
  {
   "cell_type": "code",
   "execution_count": 8,
   "metadata": {},
   "outputs": [
    {
     "data": {
      "text/plain": [
       "[1] 3"
      ]
     },
     "metadata": {},
     "output_type": "display_data"
    }
   ],
   "source": [
    "length(AList)"
   ]
  },
  {
   "cell_type": "code",
   "execution_count": 9,
   "metadata": {},
   "outputs": [],
   "source": [
    "FDR <- list(c(\"John\",\"Delano\"),\n",
    "            c(\"Roosewelt\"))"
   ]
  },
  {
   "cell_type": "code",
   "execution_count": 10,
   "metadata": {},
   "outputs": [
    {
     "data": {
      "text/plain": [
       "$first.name\n",
       "[1] \"John\"   \"Delano\"\n",
       "\n",
       "$last.name\n",
       "[1] \"Roosewelt\"\n"
      ]
     },
     "metadata": {},
     "output_type": "display_data"
    }
   ],
   "source": [
    "names(FDR) <- c(\"first.name\",\"last.name\")\n",
    "FDR"
   ]
  },
  {
   "cell_type": "code",
   "execution_count": 11,
   "metadata": {},
   "outputs": [
    {
     "data": {
      "text/plain": [
       "$first.name\n",
       "[1] \"John\"   \"Delano\"\n",
       "\n",
       "$last.name\n",
       "[1] \"Roosewelt\"\n"
      ]
     },
     "metadata": {},
     "output_type": "display_data"
    }
   ],
   "source": [
    "FDR <- list(first.name=c(\"John\",\"Delano\"),\n",
    "            last.name=c(\"Roosewelt\"))\n",
    "FDR"
   ]
  },
  {
   "cell_type": "code",
   "execution_count": 12,
   "metadata": {},
   "outputs": [
    {
     "data": {
      "text/plain": [
       "[1] \"Roosewelt\""
      ]
     },
     "metadata": {},
     "output_type": "display_data"
    }
   ],
   "source": [
    "FDR$last.name"
   ]
  },
  {
   "cell_type": "code",
   "execution_count": 13,
   "metadata": {},
   "outputs": [
    {
     "data": {
      "text/plain": [
       "[1] \"Roosewelt\""
      ]
     },
     "metadata": {},
     "output_type": "display_data"
    }
   ],
   "source": [
    "FDR[[\"last.name\"]]"
   ]
  },
  {
   "cell_type": "code",
   "execution_count": 14,
   "metadata": {},
   "outputs": [
    {
     "data": {
      "text/plain": [
       "$country.name\n",
       "[1] \"England\"          \"Northern Ireland\" \"Scotland\"         \"Wales\"           \n",
       "\n",
       "$population\n",
       "[1] 54786300  1851600  5373000  3099100\n",
       "\n",
       "$area.sq.km\n",
       "[1] 130279  13562  77933  20735\n",
       "\n",
       "$GVA.cap\n",
       "[1] 26159 18584 23685 18002\n"
      ]
     },
     "metadata": {},
     "output_type": "display_data"
    }
   ],
   "source": [
    "UK <- list(\n",
    "    country.name = c(\"England\",\"Northern Ireland\",\"Scotland\",\n",
    "                                                  \"Wales\"),\n",
    "    population   = c(54786300,1851600,5373000,3099100),\n",
    "    area.sq.km   = c(130279,13562,77933,20735),\n",
    "    GVA.cap      = c(26159,18584,23685,18002))\n",
    "UK"
   ]
  },
  {
   "cell_type": "code",
   "execution_count": 16,
   "metadata": {},
   "outputs": [
    {
     "data": {
      "text/plain": [
       "  country.name     population area.sq.km GVA.cap\n",
       "1 England          54786300   130279     26159  \n",
       "2 Northern Ireland  1851600    13562     18584  \n",
       "3 Scotland          5373000    77933     23685  \n",
       "4 Wales             3099100    20735     18002  "
      ]
     },
     "metadata": {},
     "output_type": "display_data"
    }
   ],
   "source": [
    "data.frame(UK)"
   ]
  },
  {
   "cell_type": "code",
   "execution_count": null,
   "metadata": {},
   "outputs": [],
   "source": []
  }
 ],
 "metadata": {
  "kernelspec": {
   "display_name": "R",
   "language": "R",
   "name": "ir"
  },
  "language_info": {
   "codemirror_mode": "r",
   "file_extension": ".r",
   "mimetype": "text/x-r-source",
   "name": "R",
   "pygments_lexer": "r",
   "version": "4.0.3"
  }
 },
 "nbformat": 4,
 "nbformat_minor": 4
}
