{
 "cells": [
  {
   "cell_type": "code",
   "execution_count": 1,
   "metadata": {},
   "outputs": [],
   "source": [
    "options(jupyter.rich_display=FALSE) # Create output as usual in R"
   ]
  },
  {
   "cell_type": "code",
   "execution_count": 2,
   "metadata": {},
   "outputs": [
    {
     "name": "stderr",
     "output_type": "stream",
     "text": [
      "\n",
      "Attaching package: ‘zoo’\n",
      "\n",
      "\n",
      "The following objects are masked from ‘package:base’:\n",
      "\n",
      "    as.Date, as.Date.numeric\n",
      "\n",
      "\n"
     ]
    }
   ],
   "source": [
    "npresidents <- as.numeric(presidents)\n",
    "library(zoo)"
   ]
  },
  {
   "cell_type": "code",
   "execution_count": 3,
   "metadata": {},
   "outputs": [
    {
     "data": {
      "text/plain": [
       "1945 Q1 1945 Q2 1945 Q3 1945 Q4 1946 Q1 1946 Q2 1946 Q3 1946 Q4 1947 Q1 1947 Q2 \n",
       "     NA      87      82      75      63      50      43      32      35      60 \n",
       "1947 Q3 1947 Q4 1948 Q1 1948 Q2 1948 Q3 1948 Q4 1949 Q1 1949 Q2 1949 Q3 1949 Q4 \n",
       "     54      55      36      39      NA      NA      69      57      57      51 \n",
       "1950 Q1 1950 Q2 1950 Q3 1950 Q4 1951 Q1 1951 Q2 1951 Q3 1951 Q4 1952 Q1 1952 Q2 \n",
       "     45      37      46      39      36      24      32      23      25      32 \n",
       "1952 Q3 1952 Q4 1953 Q1 1953 Q2 1953 Q3 1953 Q4 1954 Q1 1954 Q2 1954 Q3 1954 Q4 \n",
       "     NA      32      59      74      75      60      71      61      71      57 \n",
       "1955 Q1 1955 Q2 1955 Q3 1955 Q4 1956 Q1 1956 Q2 1956 Q3 1956 Q4 1957 Q1 1957 Q2 \n",
       "     71      68      79      73      76      71      67      75      79      62 \n",
       "1957 Q3 1957 Q4 1958 Q1 1958 Q2 1958 Q3 1958 Q4 1959 Q1 1959 Q2 1959 Q3 1959 Q4 \n",
       "     63      57      60      49      48      52      57      62      61      66 \n",
       "1960 Q1 1960 Q2 1960 Q3 1960 Q4 1961 Q1 1961 Q2 1961 Q3 1961 Q4 1962 Q1 1962 Q2 \n",
       "     71      62      61      57      72      83      71      78      79      71 \n",
       "1962 Q3 1962 Q4 1963 Q1 1963 Q2 1963 Q3 1963 Q4 1964 Q1 1964 Q2 1964 Q3 1964 Q4 \n",
       "     62      74      76      64      62      57      80      73      69      69 \n",
       "1965 Q1 1965 Q2 1965 Q3 1965 Q4 1966 Q1 1966 Q2 1966 Q3 1966 Q4 1967 Q1 1967 Q2 \n",
       "     71      64      69      62      63      46      56      44      44      52 \n",
       "1967 Q3 1967 Q4 1968 Q1 1968 Q2 1968 Q3 1968 Q4 1969 Q1 1969 Q2 1969 Q3 1969 Q4 \n",
       "     38      46      36      49      35      44      59      65      65      56 \n",
       "1970 Q1 1970 Q2 1970 Q3 1970 Q4 1971 Q1 1971 Q2 1971 Q3 1971 Q4 1972 Q1 1972 Q2 \n",
       "     66      53      61      52      51      48      54      49      49      61 \n",
       "1972 Q3 1972 Q4 1973 Q1 1973 Q2 1973 Q3 1973 Q4 1974 Q1 1974 Q2 1974 Q3 1974 Q4 \n",
       "     NA      NA      68      44      40      27      28      25      24      24 "
      ]
     },
     "metadata": {},
     "output_type": "display_data"
    }
   ],
   "source": [
    "years <- 1945:1974\n",
    "quarters <- 1:4\n",
    "presi.times <- yearqtr(\n",
    "    rep(years,each=4) +  # each year is repeated 4 times\n",
    "    rep((quarters-1)/4,30) # the quarters are repeated 30 times\n",
    ")\n",
    "zpresidents <- zoo(npresidents,order.by=presi.times)\n",
    "zpresidents"
   ]
  },
  {
   "cell_type": "code",
   "execution_count": 4,
   "metadata": {},
   "outputs": [
    {
     "name": "stdout",
     "output_type": "stream",
     "text": [
      "‘zoo’ series from 1945 Q1 to 1974 Q4\n",
      "  Data: num [1:120] NA 87 82 75 63 50 43 32 35 60 ...\n",
      "  Index:  'yearqtr' num [1:120] 1945 Q1 1945 Q2 1945 Q3 1945 Q4 ...\n"
     ]
    }
   ],
   "source": [
    "str(zpresidents)"
   ]
  },
  {
   "cell_type": "code",
   "execution_count": 5,
   "metadata": {},
   "outputs": [
    {
     "data": {
      "text/plain": [
       " [1] NA 87 82 75 63 50 43 32 35 60 54 55 36 39 NA"
      ]
     },
     "metadata": {},
     "output_type": "display_data"
    }
   ],
   "source": [
    "coredata(zpresidents)[1:15] # To save space we only look at the"
   ]
  },
  {
   "cell_type": "code",
   "execution_count": 6,
   "metadata": {},
   "outputs": [
    {
     "data": {
      "text/plain": [
       " [1] \"1945 Q1\" \"1945 Q2\" \"1945 Q3\" \"1945 Q4\" \"1946 Q1\" \"1946 Q2\" \"1946 Q3\"\n",
       " [8] \"1946 Q4\" \"1947 Q1\" \"1947 Q2\" \"1947 Q3\" \"1947 Q4\" \"1948 Q1\" \"1948 Q2\"\n",
       "[15] \"1948 Q3\""
      ]
     },
     "metadata": {},
     "output_type": "display_data"
    }
   ],
   "source": [
    "index(zpresidents)[1:15]    # first 15 elements."
   ]
  },
  {
   "cell_type": "code",
   "execution_count": 7,
   "metadata": {},
   "outputs": [
    {
     "data": {
      "text/plain": [
       " [1] \"1945 Q1\" \"1945 Q2\" \"1945 Q3\" \"1945 Q4\" \"1946 Q1\" \"1946 Q2\" \"1946 Q3\"\n",
       " [8] \"1946 Q4\" \"1947 Q1\" \"1947 Q2\" \"1947 Q3\" \"1947 Q4\" \"1948 Q1\" \"1948 Q2\"\n",
       "[15] \"1948 Q3\""
      ]
     },
     "metadata": {},
     "output_type": "display_data"
    }
   ],
   "source": [
    "time(zpresidents)[1:15]"
   ]
  },
  {
   "cell_type": "code",
   "execution_count": 8,
   "metadata": {},
   "outputs": [
    {
     "data": {
      "text/plain": [
       "1945 Q1 1945 Q2 1945 Q3 1945 Q4 1946 Q1 1946 Q2 1946 Q3 1946 Q4 \n",
       "     NA      87      82      75      63      50      43      32 "
      ]
     },
     "metadata": {},
     "output_type": "display_data"
    }
   ],
   "source": [
    "zpresidents[1:8]"
   ]
  },
  {
   "cell_type": "code",
   "execution_count": 9,
   "metadata": {},
   "outputs": [],
   "source": [
    "# Saved for later use:\n",
    "save(zpresidents,file=\"zpresidents.RData\")"
   ]
  }
 ],
 "metadata": {
  "kernelspec": {
   "display_name": "R",
   "language": "R",
   "name": "ir"
  },
  "language_info": {
   "codemirror_mode": "r",
   "file_extension": ".r",
   "mimetype": "text/x-r-source",
   "name": "R",
   "pygments_lexer": "r",
   "version": "4.0.3"
  }
 },
 "nbformat": 4,
 "nbformat_minor": 4
}
