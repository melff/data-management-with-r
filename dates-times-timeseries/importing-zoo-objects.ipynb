{
 "cells": [
  {
   "cell_type": "code",
   "execution_count": 1,
   "metadata": {},
   "outputs": [],
   "source": [
    "options(jupyter.rich_display=FALSE) # Create output as usual in R"
   ]
  },
  {
   "cell_type": "code",
   "execution_count": 2,
   "metadata": {},
   "outputs": [
    {
     "name": "stderr",
     "output_type": "stream",
     "text": [
      "\n",
      "Attaching package: ‘zoo’\n",
      "\n",
      "\n",
      "The following objects are masked from ‘package:base’:\n",
      "\n",
      "    as.Date, as.Date.numeric\n",
      "\n",
      "\n"
     ]
    }
   ],
   "source": [
    "library(zoo)"
   ]
  },
  {
   "cell_type": "code",
   "execution_count": 3,
   "metadata": {},
   "outputs": [
    {
     "name": "stdout",
     "output_type": "stream",
     "text": [
      "‘zoo’ series from 1970 to 1999\n",
      "  Data: num [1:30, 1:29] 0.557 0.689 0.912 1 2.132 ...\n",
      " - attr(*, \"dimnames\")=List of 2\n",
      "  ..$ : NULL\n",
      "  ..$ : chr [1:29] \"Germany\" \"France\" \"Italy\" \"Netherlands\" ...\n",
      "  Index:  int [1:30] 1970 1971 1972 1973 1974 1975 1976 1977 1978 1979 ...\n"
     ]
    }
   ],
   "source": [
    "unemployment_z <- read.csv.zoo(\"unemployment.csv\")\n",
    "str(unemployment_z)"
   ]
  },
  {
   "cell_type": "code",
   "execution_count": 4,
   "metadata": {},
   "outputs": [
    {
     "data": {
      "text/plain": [
       "2012-01-06 2012-01-07 2012-01-08 \n",
       "        20         30         40 "
      ]
     },
     "metadata": {},
     "output_type": "display_data"
    }
   ],
   "source": [
    "Text <- \"2012/1/6 20\n",
    "2012/1/7 30\n",
    "2012/1/8 40\n",
    "\"\n",
    "read.zoo(text=Text)"
   ]
  },
  {
   "cell_type": "code",
   "execution_count": 5,
   "metadata": {},
   "outputs": [
    {
     "data": {
      "text/plain": [
       "2012-01-06 2012-01-07 2012-01-08 \n",
       "        20         30         40 "
      ]
     },
     "metadata": {},
     "output_type": "display_data"
    }
   ],
   "source": [
    "read.zoo(text=Text,format=\"%Y/%m/%d\")"
   ]
  },
  {
   "cell_type": "code",
   "execution_count": 6,
   "metadata": {},
   "outputs": [
    {
     "data": {
      "text/plain": [
       "                    x  y\n",
       "2011-05-08 22:45:21 4 41\n",
       "2011-05-08 22:45:22 5 42\n",
       "2011-05-08 22:45:23 5 42\n",
       "2011-05-08 22:45:24 6 43"
      ]
     },
     "metadata": {},
     "output_type": "display_data"
    }
   ],
   "source": [
    "Text <- \"date,time,x,y\n",
    "2011-05-08,22:45:21,4,41\n",
    "2011-05-08,22:45:22,5,42\n",
    "2011-05-08,22:45:23,5,42\n",
    "2011-05-08,22:45:24,6,43\n",
    "\"\n",
    "zobj <- read.csv.zoo(text=Text,\n",
    "                     index.column=1:2)\n",
    "zobj"
   ]
  }
 ],
 "metadata": {
  "kernelspec": {
   "display_name": "R",
   "language": "R",
   "name": "ir"
  },
  "language_info": {
   "codemirror_mode": "r",
   "file_extension": ".r",
   "mimetype": "text/x-r-source",
   "name": "R",
   "pygments_lexer": "r",
   "version": "4.0.3"
  }
 },
 "nbformat": 4,
 "nbformat_minor": 4
}
