{
 "cells": [
  {
   "cell_type": "code",
   "execution_count": 1,
   "metadata": {},
   "outputs": [],
   "source": [
    "options(jupyter.rich_display=FALSE) # Create output as usual in R"
   ]
  },
  {
   "cell_type": "code",
   "execution_count": 2,
   "metadata": {},
   "outputs": [
    {
     "name": "stderr",
     "output_type": "stream",
     "text": [
      "\n",
      "Attaching package: ‘zoo’\n",
      "\n",
      "\n",
      "The following objects are masked from ‘package:base’:\n",
      "\n",
      "    as.Date, as.Date.numeric\n",
      "\n",
      "\n"
     ]
    }
   ],
   "source": [
    "library(zoo)\n",
    "load(\"unemployment-z.RData\")"
   ]
  },
  {
   "cell_type": "code",
   "execution_count": 3,
   "metadata": {},
   "outputs": [
    {
     "data": {
      "text/plain": [
       "[1] 30"
      ]
     },
     "metadata": {},
     "output_type": "display_data"
    }
   ],
   "source": [
    "Netherlands <- unemployment.z[,4]\n",
    "length(Netherlands)"
   ]
  },
  {
   "cell_type": "code",
   "execution_count": 4,
   "metadata": {},
   "outputs": [
    {
     "data": {
      "text/plain": [
       "[1] 30"
      ]
     },
     "metadata": {},
     "output_type": "display_data"
    }
   ],
   "source": [
    "Belgium <- unemployment.z[,5]\n",
    "length(Belgium)"
   ]
  },
  {
   "cell_type": "code",
   "execution_count": 5,
   "metadata": {},
   "outputs": [
    {
     "data": {
      "text/plain": [
       "[1] 26"
      ]
     },
     "metadata": {},
     "output_type": "display_data"
    }
   ],
   "source": [
    "Luxembourg <- na.omit(unemployment.z[,6])\n",
    "length(Luxembourg)"
   ]
  },
  {
   "cell_type": "code",
   "execution_count": 6,
   "metadata": {},
   "outputs": [
    {
     "data": {
      "text/plain": [
       "           Netherlands Belgium Luxembourg\n",
       "1970-12-31       0.868   1.913         NA\n",
       "1971-12-31       1.213   1.848         NA\n",
       "1972-12-31       2.114   2.350         NA\n",
       "1973-12-31       2.151   2.408         NA\n",
       "1974-12-31       2.624   2.523      0.067\n",
       "1975-12-31       3.772   4.522      0.200\n",
       "1976-12-31       4.067   5.934      0.332\n",
       "1977-12-31       3.916   6.745      0.531\n",
       "1978-12-31       3.827   7.321      0.797\n",
       "1979-12-31       3.648   7.581      0.725"
      ]
     },
     "metadata": {},
     "output_type": "display_data"
    }
   ],
   "source": [
    "unemployment.benelux <- merge(Netherlands,\n",
    "                              Belgium,\n",
    "                              Luxembourg)\n",
    "head(unemployment.benelux,n=10)"
   ]
  }
 ],
 "metadata": {
  "kernelspec": {
   "display_name": "R",
   "language": "R",
   "name": "ir"
  },
  "language_info": {
   "codemirror_mode": "r",
   "file_extension": ".r",
   "mimetype": "text/x-r-source",
   "name": "R",
   "pygments_lexer": "r",
   "version": "4.0.3"
  }
 },
 "nbformat": 4,
 "nbformat_minor": 4
}
