{
 "cells": [
  {
   "cell_type": "markdown",
   "metadata": {},
   "source": [
    "# Basic operations on character strings\n",
    "\n",
    "## `length()` versus `nchar()`"
   ]
  },
  {
   "cell_type": "code",
   "execution_count": 1,
   "metadata": {
    "execution": {
     "iopub.execute_input": "2023-11-19T23:49:47.389551Z",
     "iopub.status.busy": "2023-11-19T23:49:47.386962Z",
     "iopub.status.idle": "2023-11-19T23:49:47.399131Z",
     "shell.execute_reply": "2023-11-19T23:49:47.396169Z"
    }
   },
   "outputs": [],
   "source": [
    "some_great_rock_bands <- c(\"Led Zeppelin\",\"Pink Floyd\",\"Queen\")"
   ]
  },
  {
   "cell_type": "code",
   "execution_count": 2,
   "metadata": {
    "execution": {
     "iopub.execute_input": "2023-11-19T23:49:47.436018Z",
     "iopub.status.busy": "2023-11-19T23:49:47.403620Z",
     "iopub.status.idle": "2023-11-19T23:49:47.535983Z",
     "shell.execute_reply": "2023-11-19T23:49:47.533173Z"
    }
   },
   "outputs": [
    {
     "data": {
      "text/plain": [
       "[1] 3"
      ]
     },
     "execution_count": 2,
     "metadata": {},
     "output_type": "execute_result"
    }
   ],
   "source": [
    "length(some_great_rock_bands)"
   ]
  },
  {
   "cell_type": "code",
   "execution_count": 3,
   "metadata": {
    "execution": {
     "iopub.execute_input": "2023-11-19T23:49:47.542783Z",
     "iopub.status.busy": "2023-11-19T23:49:47.540355Z",
     "iopub.status.idle": "2023-11-19T23:49:47.553945Z",
     "shell.execute_reply": "2023-11-19T23:49:47.551179Z"
    }
   },
   "outputs": [
    {
     "data": {
      "text/plain": [
       "[1] 12 10  5"
      ]
     },
     "execution_count": 3,
     "metadata": {},
     "output_type": "execute_result"
    }
   ],
   "source": [
    "nchar(some_great_rock_bands)"
   ]
  },
  {
   "cell_type": "markdown",
   "metadata": {},
   "source": [
    "## Character vector subsets versus substrings"
   ]
  },
  {
   "cell_type": "code",
   "execution_count": 4,
   "metadata": {
    "execution": {
     "iopub.execute_input": "2023-11-19T23:49:47.561083Z",
     "iopub.status.busy": "2023-11-19T23:49:47.558592Z",
     "iopub.status.idle": "2023-11-19T23:49:47.568126Z",
     "shell.execute_reply": "2023-11-19T23:49:47.565158Z"
    }
   },
   "outputs": [],
   "source": [
    "some_great_rock_bands <- c(\"Led Zeppelin\",\"Pink Floyd\",\"Queen\")"
   ]
  },
  {
   "cell_type": "code",
   "execution_count": 5,
   "metadata": {
    "execution": {
     "iopub.execute_input": "2023-11-19T23:49:47.575083Z",
     "iopub.status.busy": "2023-11-19T23:49:47.572623Z",
     "iopub.status.idle": "2023-11-19T23:49:47.586184Z",
     "shell.execute_reply": "2023-11-19T23:49:47.583403Z"
    }
   },
   "outputs": [
    {
     "data": {
      "text/plain": [
       "[1] \"Led Zeppelin\" \"Pink Floyd\"  "
      ]
     },
     "execution_count": 5,
     "metadata": {},
     "output_type": "execute_result"
    }
   ],
   "source": [
    "some_great_rock_bands[1:2]"
   ]
  },
  {
   "cell_type": "code",
   "execution_count": 6,
   "metadata": {
    "execution": {
     "iopub.execute_input": "2023-11-19T23:49:47.593349Z",
     "iopub.status.busy": "2023-11-19T23:49:47.590764Z",
     "iopub.status.idle": "2023-11-19T23:49:47.604894Z",
     "shell.execute_reply": "2023-11-19T23:49:47.601978Z"
    }
   },
   "outputs": [
    {
     "data": {
      "text/plain": [
       "[1] \"Le\" \"Pi\" \"Qu\""
      ]
     },
     "execution_count": 6,
     "metadata": {},
     "output_type": "execute_result"
    }
   ],
   "source": [
    "substr(some_great_rock_bands,start=1,stop=2)"
   ]
  },
  {
   "cell_type": "code",
   "execution_count": 7,
   "metadata": {
    "execution": {
     "iopub.execute_input": "2023-11-19T23:49:47.611769Z",
     "iopub.status.busy": "2023-11-19T23:49:47.609252Z",
     "iopub.status.idle": "2023-11-19T23:49:47.623392Z",
     "shell.execute_reply": "2023-11-19T23:49:47.620572Z"
    }
   },
   "outputs": [
    {
     "data": {
      "text/plain": [
       "[1] \"eppelin\" \"Floyd\"   \"\"       "
      ]
     },
     "execution_count": 7,
     "metadata": {},
     "output_type": "execute_result"
    }
   ],
   "source": [
    "substr(some_great_rock_bands,start=6,stop=15)"
   ]
  },
  {
   "cell_type": "markdown",
   "metadata": {},
   "source": [
    "## Finding patterns within character strings and character vectors"
   ]
  },
  {
   "cell_type": "code",
   "execution_count": 8,
   "metadata": {
    "execution": {
     "iopub.execute_input": "2023-11-19T23:49:47.630285Z",
     "iopub.status.busy": "2023-11-19T23:49:47.627885Z",
     "iopub.status.idle": "2023-11-19T23:49:47.640663Z",
     "shell.execute_reply": "2023-11-19T23:49:47.637818Z"
    }
   },
   "outputs": [],
   "source": [
    "some_great_rock_bands <- c(\"Led Zeppelin\",\"Pink Floyd\",\"Queen\")"
   ]
  },
  {
   "cell_type": "code",
   "execution_count": 9,
   "metadata": {
    "execution": {
     "iopub.execute_input": "2023-11-19T23:49:47.648051Z",
     "iopub.status.busy": "2023-11-19T23:49:47.644950Z",
     "iopub.status.idle": "2023-11-19T23:49:47.659739Z",
     "shell.execute_reply": "2023-11-19T23:49:47.657000Z"
    }
   },
   "outputs": [
    {
     "data": {
      "text/plain": [
       "[1] 1"
      ]
     },
     "execution_count": 9,
     "metadata": {},
     "output_type": "execute_result"
    }
   ],
   "source": [
    "grep(\"Zeppelin\",some_great_rock_bands) # Just the indices"
   ]
  },
  {
   "cell_type": "code",
   "execution_count": 10,
   "metadata": {
    "execution": {
     "iopub.execute_input": "2023-11-19T23:49:47.666523Z",
     "iopub.status.busy": "2023-11-19T23:49:47.664145Z",
     "iopub.status.idle": "2023-11-19T23:49:47.677435Z",
     "shell.execute_reply": "2023-11-19T23:49:47.674783Z"
    }
   },
   "outputs": [
    {
     "data": {
      "text/plain": [
       "[1] \"Led Zeppelin\""
      ]
     },
     "execution_count": 10,
     "metadata": {},
     "output_type": "execute_result"
    }
   ],
   "source": [
    "grep(\"Zeppelin\",some_great_rock_bands, value=TRUE) # the elements"
   ]
  },
  {
   "cell_type": "code",
   "execution_count": 11,
   "metadata": {
    "execution": {
     "iopub.execute_input": "2023-11-19T23:49:47.684991Z",
     "iopub.status.busy": "2023-11-19T23:49:47.682372Z",
     "iopub.status.idle": "2023-11-19T23:49:47.695907Z",
     "shell.execute_reply": "2023-11-19T23:49:47.693114Z"
    }
   },
   "outputs": [
    {
     "data": {
      "text/plain": [
       "[1]  TRUE FALSE FALSE"
      ]
     },
     "execution_count": 11,
     "metadata": {},
     "output_type": "execute_result"
    }
   ],
   "source": [
    "grepl(\"Zeppelin\",some_great_rock_bands)"
   ]
  },
  {
   "cell_type": "code",
   "execution_count": 12,
   "metadata": {
    "execution": {
     "iopub.execute_input": "2023-11-19T23:49:47.702680Z",
     "iopub.status.busy": "2023-11-19T23:49:47.700170Z",
     "iopub.status.idle": "2023-11-19T23:49:47.713641Z",
     "shell.execute_reply": "2023-11-19T23:49:47.710909Z"
    },
    "lines_to_next_cell": 2
   },
   "outputs": [
    {
     "data": {
      "text/plain": [
       "[1] \"Led Zeppelin\" \"Queen\"       "
      ]
     },
     "execution_count": 12,
     "metadata": {},
     "output_type": "execute_result"
    }
   ],
   "source": [
    "grep(\"[ei]n$\",some_great_rock_bands,value=TRUE)"
   ]
  },
  {
   "cell_type": "markdown",
   "metadata": {},
   "source": [
    "## Replacing patterns within character strings and character vectors"
   ]
  },
  {
   "cell_type": "code",
   "execution_count": 13,
   "metadata": {
    "execution": {
     "iopub.execute_input": "2023-11-19T23:49:47.720766Z",
     "iopub.status.busy": "2023-11-19T23:49:47.718018Z",
     "iopub.status.idle": "2023-11-19T23:49:47.727847Z",
     "shell.execute_reply": "2023-11-19T23:49:47.725021Z"
    }
   },
   "outputs": [],
   "source": [
    "some_great_rock_bands <- c(\"Led Zeppelin\",\"Pink Floyd\",\"Queen\")"
   ]
  },
  {
   "cell_type": "code",
   "execution_count": 14,
   "metadata": {
    "execution": {
     "iopub.execute_input": "2023-11-19T23:49:47.734697Z",
     "iopub.status.busy": "2023-11-19T23:49:47.732286Z",
     "iopub.status.idle": "2023-11-19T23:49:47.747988Z",
     "shell.execute_reply": "2023-11-19T23:49:47.745242Z"
    }
   },
   "outputs": [
    {
     "data": {
      "text/plain": [
       "[1] \"Lid Zeppelin\" \"Pink Floyd\"   \"Quien\"       "
      ]
     },
     "execution_count": 14,
     "metadata": {},
     "output_type": "execute_result"
    }
   ],
   "source": [
    "sub(\"e\",\"i\",some_great_rock_bands)"
   ]
  },
  {
   "cell_type": "code",
   "execution_count": 15,
   "metadata": {
    "execution": {
     "iopub.execute_input": "2023-11-19T23:49:47.754855Z",
     "iopub.status.busy": "2023-11-19T23:49:47.752401Z",
     "iopub.status.idle": "2023-11-19T23:49:47.766196Z",
     "shell.execute_reply": "2023-11-19T23:49:47.763331Z"
    }
   },
   "outputs": [
    {
     "data": {
      "text/plain": [
       "[1] \"Lid Zippilin\" \"Pink Floyd\"   \"Quiin\"       "
      ]
     },
     "execution_count": 15,
     "metadata": {},
     "output_type": "execute_result"
    }
   ],
   "source": [
    "gsub(\"e\",\"i\",some_great_rock_bands)"
   ]
  },
  {
   "cell_type": "code",
   "execution_count": 16,
   "metadata": {
    "execution": {
     "iopub.execute_input": "2023-11-19T23:49:47.773050Z",
     "iopub.status.busy": "2023-11-19T23:49:47.770572Z",
     "iopub.status.idle": "2023-11-19T23:49:47.784011Z",
     "shell.execute_reply": "2023-11-19T23:49:47.781176Z"
    }
   },
   "outputs": [
    {
     "data": {
      "text/plain": [
       "[1] \"L[e]d Z[e]pp[e]l[i]n\" \"P[i]nk Fl[oy]d\"       \"Q[uee]n\"             "
      ]
     },
     "execution_count": 16,
     "metadata": {},
     "output_type": "execute_result"
    }
   ],
   "source": [
    "gsub(\"([aeiouy]+)\",\"[\\\\1]\",some_great_rock_bands)"
   ]
  }
 ],
 "metadata": {
  "jupytext": {
   "cell_metadata_filter": "-all"
  },
  "kernelspec": {
   "display_name": "R (RKernel)",
   "language": "R",
   "name": "rkernel"
  },
  "language_info": {
   "codemirror_mode": "R",
   "file_extension": ".R",
   "mimetype": "text/x-r-source",
   "name": "R",
   "pygments_lexer": "r",
   "version": "4.3.2"
  }
 },
 "nbformat": 4,
 "nbformat_minor": 4
}
