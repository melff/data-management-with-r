{
 "cells": [
  {
   "cell_type": "markdown",
   "metadata": {},
   "source": [
    "# Preparing Manifesto Project data using *quanteda*"
   ]
  },
  {
   "cell_type": "code",
   "execution_count": null,
   "metadata": {},
   "outputs": [],
   "source": [
    "options(jupyter.rich_display=FALSE) # Create output as usual in R\n",
    "options(width=120)"
   ]
  },
  {
   "cell_type": "markdown",
   "metadata": {},
   "source": [
    "The file CSV-files in folder \"Manifesto Project\"\n",
    "were downloaded from the [Manifesto Project website](https://manifesto-project.wzb.eu/datasets).\n",
    "Redistribution of the data is prohibited, so readers who want to preproduce the following will need to download their own copy of the data set and upload it to the virtual machine that runs this notebook. To do this,\n",
    "\n",
    "1. pull down the \"File\" menu item and select \"Open\"\n",
    "2. An overview of the folder that contains the notebook opens.\n",
    "3. The folder view has a button labelled \"Upload\". Use this to upload the file that you downloaded from the Manifesto Project website.\n",
    "\n",
    "Note that the uploaded data will disappear, once you \"Quit\" the notebook (and the Jupyter instance)."
   ]
  },
  {
   "cell_type": "code",
   "execution_count": null,
   "metadata": {},
   "outputs": [],
   "source": [
    "csv.files <- dir(\"ManifestoProject\",\n",
    "                 full.names=TRUE,\n",
    "                 pattern=\"*.csv\")\n",
    "length(csv.files)"
   ]
  },
  {
   "cell_type": "markdown",
   "metadata": {},
   "source": [
    "The package *readtext* (a companion package for *quanteda*) is somewhat better able to\n",
    "deal with the Manfisto Project CSV files than *tm*. It is available from [CRAN](https://cran.r-project.org/package=readtext). You may need to install it the code\n",
    "`install.packages(\"quanteda\")` if you want to run this on your computer. (The\n",
    "package is already installed on the notebook container, however.)"
   ]
  },
  {
   "cell_type": "code",
   "execution_count": null,
   "metadata": {},
   "outputs": [],
   "source": [
    "library(readtext)\n",
    "UKLib.rt <- readtext(\"ManifestoProject/*.csv\",\n",
    "               text_field=1,\n",
    "               docvarsfrom=\"filenames\",\n",
    "               docvarnames=c(\"party\",\"date\"))\n",
    "nrow(UKLib.rt)"
   ]
  },
  {
   "cell_type": "markdown",
   "metadata": {},
   "source": [
    "Here we create an index of documents in the corpus:"
   ]
  },
  {
   "cell_type": "code",
   "execution_count": null,
   "metadata": {},
   "outputs": [],
   "source": [
    "UKLib.rta <- aggregate(text~party+date,\n",
    "                       FUN=function(x)paste(x,collapse=\" \"),\n",
    "                       data=UKLib.rt)\n",
    "nrow(UKLib.rta)"
   ]
  },
  {
   "cell_type": "code",
   "execution_count": null,
   "metadata": {},
   "outputs": [],
   "source": [
    "UKLib.rta <- within(UKLib.rta,\n",
    "              doc_id <- paste(party,date,sep=\"_\"))"
   ]
  },
  {
   "cell_type": "markdown",
   "metadata": {},
   "source": [
    "The following makes use of the *quanteda* package. You may need to install it from\n",
    "[CRAN](https://cran.r-project.org/package=quanteda) using the code\n",
    "`install.packages(\"quanteda\")` if you want to run this on your computer. (The\n",
    "package is already installed on the notebook container, however.)"
   ]
  },
  {
   "cell_type": "code",
   "execution_count": null,
   "metadata": {},
   "outputs": [],
   "source": [
    "library(quanteda)"
   ]
  },
  {
   "cell_type": "code",
   "execution_count": null,
   "metadata": {},
   "outputs": [],
   "source": [
    "UKLib.corpus <- corpus(UKLib.rta)\n",
    "UKLib.corpus"
   ]
  },
  {
   "cell_type": "markdown",
   "metadata": {},
   "source": [
    "Here we combine metadata with the text documents:"
   ]
  },
  {
   "cell_type": "code",
   "execution_count": null,
   "metadata": {},
   "outputs": [],
   "source": [
    "manifesto.metadata <- read.csv(\"documents_MPDataset_MPDS2019b.csv\",stringsAsFactors=FALSE)\n",
    "str(manifesto.metadata)"
   ]
  },
  {
   "cell_type": "code",
   "execution_count": null,
   "metadata": {},
   "outputs": [],
   "source": [
    "docvars(UKLib.corpus) <- merge(docvars(UKLib.corpus),\n",
    "                               manifesto.metadata,\n",
    "                               by=c(\"party\",\"date\"))\n",
    "str(docvars(UKLib.corpus))"
   ]
  },
  {
   "cell_type": "markdown",
   "metadata": {},
   "source": [
    "Finally we create a document-feature matrix, without punctuation, numbers,\n",
    "symbols and stopwords:"
   ]
  },
  {
   "cell_type": "code",
   "execution_count": null,
   "metadata": {},
   "outputs": [],
   "source": [
    "UKLib.dfm <- dfm(UKLib.corpus,\n",
    "                 remove_punct=TRUE,\n",
    "                 remove_numbers=TRUE,\n",
    "                 remove_symbols=TRUE,\n",
    "                 remove=stopwords(\"english\"),\n",
    "                 stem=TRUE)\n",
    "str(docvars(UKLib.dfm))"
   ]
  },
  {
   "cell_type": "markdown",
   "metadata": {},
   "source": [
    "A more fine-grained control is possible using `tokens()`:"
   ]
  },
  {
   "cell_type": "code",
   "execution_count": null,
   "metadata": {},
   "outputs": [],
   "source": [
    "UKLib.toks <- tokens(UKLib.corpus,\n",
    "                     remove_punct=TRUE,\n",
    "                     remove_numbers=TRUE)\n",
    "UKLib.toks"
   ]
  },
  {
   "cell_type": "code",
   "execution_count": null,
   "metadata": {},
   "outputs": [],
   "source": [
    "UKLib.dfm <- dfm(UKLib.toks)\n",
    "UKLib.dfm"
   ]
  },
  {
   "cell_type": "code",
   "execution_count": null,
   "metadata": {},
   "outputs": [],
   "source": [
    "UKLib.dfm <- dfm_remove(UKLib.dfm,\n",
    "                        pattern=stopwords(\"english\"))\n",
    "UKLib.dfm"
   ]
  },
  {
   "cell_type": "code",
   "execution_count": null,
   "metadata": {},
   "outputs": [],
   "source": [
    "UKLib.dfm <- dfm_wordstem(UKLib.dfm,language=\"english\")\n",
    "UKLib.dfm"
   ]
  },
  {
   "cell_type": "markdown",
   "metadata": {},
   "source": [
    "*quanteda* provides support for dictionaries:"
   ]
  },
  {
   "cell_type": "code",
   "execution_count": null,
   "metadata": {},
   "outputs": [],
   "source": [
    "milecondict <- dictionary(list(\n",
    "                Military=c(\"military\",\"forces\",\"war\",\"defence\",\"victory\",\"victorious\",\"glory\"),\n",
    "                Economy=c(\"economy\",\"growth\",\"business\",\"enterprise\",\"market\")\n",
    "))"
   ]
  },
  {
   "cell_type": "markdown",
   "metadata": {},
   "source": [
    "Here we extract the frequency of tokens belonging to certain dictionaries:"
   ]
  },
  {
   "cell_type": "code",
   "execution_count": null,
   "metadata": {},
   "outputs": [],
   "source": [
    "UKLib.milecon.dfm <- dfm(UKLib.corpus,\n",
    "                         dictionary=milecondict)\n",
    "UKLib.milecon.dfm"
   ]
  },
  {
   "cell_type": "code",
   "execution_count": null,
   "metadata": {},
   "outputs": [],
   "source": [
    "time <- with(docvars(UKLib.milecon.dfm),\n",
    "             ISOdate(year=date%/%100,\n",
    "                     month=date%%100,\n",
    "                     day=1))\n",
    "time"
   ]
  },
  {
   "cell_type": "code",
   "execution_count": null,
   "metadata": {},
   "outputs": [],
   "source": [
    "UKLib.ntok <- ntoken(UKLib.corpus)"
   ]
  },
  {
   "cell_type": "code",
   "execution_count": null,
   "metadata": {},
   "outputs": [],
   "source": [
    "milit.freq <- as.vector(UKLib.milecon.dfm[,\"Military\"])\n",
    "econ.freq <- as.vector(UKLib.milecon.dfm[,\"Economy\"])\n",
    "milit.prop <- milit.freq/UKLib.ntok\n",
    "econ.prop <- econ.freq/UKLib.ntok"
   ]
  },
  {
   "cell_type": "markdown",
   "metadata": {},
   "source": [
    "We plot the frequency of tokens over time:"
   ]
  },
  {
   "cell_type": "code",
   "execution_count": null,
   "metadata": {},
   "outputs": [],
   "source": [
    "op <- par(mfrow=c(2,1),mar=c(3,4,0,0))\n",
    "plot(time,milit.prop,type=\"p\",ylab=\"Military\")\n",
    "lines(time,lowess(time,milit.prop)$y)\n",
    "plot(time,econ.prop,type=\"p\",ylab=\"Economy\")\n",
    "lines(time,lowess(time,econ.prop)$y)\n",
    "par(op)"
   ]
  }
 ],
 "metadata": {
  "kernelspec": {
   "display_name": "R",
   "language": "R",
   "name": "ir"
  },
  "language_info": {
   "codemirror_mode": "r",
   "file_extension": ".r",
   "mimetype": "text/x-r-source",
   "name": "R",
   "pygments_lexer": "r",
   "version": "4.0.5"
  }
 },
 "nbformat": 4,
 "nbformat_minor": 4
}
