{
 "cells": [
  {
   "cell_type": "markdown",
   "metadata": {},
   "source": [
    "# Preparing Manifesto Project data using *quanteda*"
   ]
  },
  {
   "cell_type": "code",
   "execution_count": 1,
   "metadata": {},
   "outputs": [],
   "source": [
    "options(width=120)"
   ]
  },
  {
   "cell_type": "markdown",
   "metadata": {},
   "source": [
    "The file CSV-files in folder \"Manifesto Project\"\n",
    "need to be downloaded from the [Manifesto Project website](https://manifesto-project.wzb.eu/datasets).\n",
    "Redistribution of the data is prohibited, so readers who want to reproduce the following will need to download their own copies of the data data files it to the virtual machine that runs this notebook. To do this,\n",
    "\n",
    "1. open the file manager window of this site using [this link](/user-redirect/tree/09-text-as-data/)\n",
    "2. create a subfolder named \"ManifestoProject\" in the current folder \"09-text-as-data\"\n",
    "3. activate the subfolder \"ManifestoProject\" by clicking on it\n",
    "4. use the button labelled \"Upload\" to upload the files that you downloaded from the Manifesto Project website\n",
    "5. after uploading the files, they should appear in the list of files in the folder \"ManifestoProject\".\n",
    "\n",
    "Note that the uploaded data will disappear, once you \"Quit\" the notebook (and the Jupyter instance)."
   ]
  },
  {
   "cell_type": "code",
   "execution_count": 2,
   "metadata": {},
   "outputs": [
    {
     "data": {
      "text/plain": [
       "[1] 14"
      ]
     },
     "execution_count": 2,
     "metadata": {},
     "output_type": "execute_result"
    }
   ],
   "source": [
    "csv.files <- dir(\"ManifestoProject\",\n",
    "                 full.names=TRUE,\n",
    "                 pattern=\"*.csv\")\n",
    "length(csv.files)"
   ]
  },
  {
   "cell_type": "markdown",
   "metadata": {},
   "source": [
    "The package *readtext* (a companion package for *quanteda*) is somewhat better able to\n",
    "deal with the Manfisto Project CSV files than *tm*. It is available from [CRAN](https://cran.r-project.org/package=readtext). You may need to install it the code\n",
    "`install.packages(\"quanteda\")` if you want to run this on your computer. (The\n",
    "package is already installed on the notebook container, however.)"
   ]
  },
  {
   "cell_type": "code",
   "execution_count": 3,
   "metadata": {},
   "outputs": [],
   "source": [
    "library(readtext)"
   ]
  },
  {
   "cell_type": "code",
   "execution_count": 4,
   "metadata": {},
   "outputs": [
    {
     "data": {
      "text/plain": [
       "[1] 4228"
      ]
     },
     "execution_count": 4,
     "metadata": {},
     "output_type": "execute_result"
    }
   ],
   "source": [
    "UKLib.rt <- readtext(\"ManifestoProject/*.csv\",\n",
    "               text_field=1,\n",
    "               docvarsfrom=\"filenames\",\n",
    "               docvarnames=c(\"party\",\"date\"))\n",
    "nrow(UKLib.rt)"
   ]
  },
  {
   "cell_type": "markdown",
   "metadata": {},
   "source": [
    "Here we create an index of documents in the corpus:"
   ]
  },
  {
   "cell_type": "code",
   "execution_count": 5,
   "metadata": {},
   "outputs": [
    {
     "data": {
      "text/plain": [
       "[1] 14"
      ]
     },
     "execution_count": 5,
     "metadata": {},
     "output_type": "execute_result"
    }
   ],
   "source": [
    "UKLib.rta <- aggregate(text~party+date,\n",
    "                       FUN=function(x)paste(x,collapse=\" \"),\n",
    "                       data=UKLib.rt)\n",
    "nrow(UKLib.rta)"
   ]
  },
  {
   "cell_type": "code",
   "execution_count": 6,
   "metadata": {},
   "outputs": [],
   "source": [
    "UKLib.rta <- within(UKLib.rta,\n",
    "              doc_id <- paste(party,date,sep=\"_\"))"
   ]
  },
  {
   "cell_type": "markdown",
   "metadata": {},
   "source": [
    "The following makes use of the *quanteda* package. You may need to install it from\n",
    "[CRAN](https://cran.r-project.org/package=quanteda) using the code\n",
    "`install.packages(\"quanteda\")` if you want to run this on your computer. (The\n",
    "package is already installed on the notebook container, however.)"
   ]
  },
  {
   "cell_type": "code",
   "execution_count": 7,
   "metadata": {},
   "outputs": [
    {
     "name": "stdout",
     "output_type": "stream",
     "text": [
      "Package version: 3.3.1\n",
      "Unicode version: 14.0\n",
      "ICU version: 70.1\n",
      "Parallel computing: 8 of 8 threads used.\n",
      "See https://quanteda.io for tutorials and examples.\n",
      "\n",
      "Attaching package: ‘quanteda’\n",
      "\n",
      "The following object is masked from ‘package:readtext’:\n",
      "\n",
      "    texts\n",
      "\n"
     ]
    }
   ],
   "source": [
    "library(quanteda)"
   ]
  },
  {
   "cell_type": "code",
   "execution_count": 8,
   "metadata": {},
   "outputs": [
    {
     "data": {
      "text/plain": [
       "Corpus consisting of 14 documents and 2 docvars.\n",
       "51420_196410 :\n",
       "\"\"\"THINK FOR YOURSELF\"\"  The Liberal Party offers the elector...\"\n",
       "\n",
       "51420_196603 :\n",
       "\"For All the People: the Liberal Plan of 1966  BRITAIN DEMAND...\"\n",
       "\n",
       "51420_197006 :\n",
       "\"What a Life!  There must surely be a better way to run a cou...\"\n",
       "\n",
       "51420_197402 :\n",
       "\"'Change the face of Britain'  THE CRISIS OF GOVERNMENT  This...\"\n",
       "\n",
       "51420_197410 :\n",
       "\"Why Britain Needs Liberal Government  A PERSONAL MESSAGE FRO...\"\n",
       "\n",
       "51420_197905 :\n",
       "\"'The Real Fight is for Britain'  INTRODUCTION  With your sup...\"\n",
       "\n",
       "[ reached max_ndoc ... 8 more documents ]"
      ]
     },
     "execution_count": 8,
     "metadata": {},
     "output_type": "execute_result"
    }
   ],
   "source": [
    "UKLib.corpus <- corpus(UKLib.rta)\n",
    "UKLib.corpus"
   ]
  },
  {
   "cell_type": "markdown",
   "metadata": {},
   "source": [
    "Here we combine metadata with the text documents:"
   ]
  },
  {
   "cell_type": "code",
   "execution_count": 9,
   "metadata": {},
   "outputs": [
    {
     "name": "stdout",
     "output_type": "stream",
     "text": [
      "'data.frame':\t4492 obs. of  6 variables:\n",
      " $ country    : int  11 11 11 11 11 11 11 11 11 11 ...\n",
      " $ countryname: chr  \"Sweden\" \"Sweden\" \"Sweden\" \"Sweden\" ...\n",
      " $ party      : int  11110 11110 11110 11110 11110 11110 11110 11110 11110 11220 ...\n",
      " $ partyname  : chr  \"Green Ecology Party\" \"Green Ecology Party\" \"Green Ecology Party\" \"Green Ecology Party\" ...\n",
      " $ date       : int  198809 199109 199409 199809 200209 200609 201009 201409 201809 194409 ...\n",
      " $ title      : chr  \"Valmanifest\" \"Valmanifest ‘91\" \"Valmanifest\" \"Valmanifest 98\" ...\n"
     ]
    }
   ],
   "source": [
    "manifesto.metadata <- read.csv(\"documents_MPDataset_MPDS2019b.csv\",stringsAsFactors=FALSE)\n",
    "str(manifesto.metadata)"
   ]
  },
  {
   "cell_type": "code",
   "execution_count": 10,
   "metadata": {},
   "outputs": [
    {
     "name": "stdout",
     "output_type": "stream",
     "text": [
      "'data.frame':\t14 obs. of  6 variables:\n",
      " $ party      : int  51420 51420 51420 51420 51420 51420 51420 51420 51421 51421 ...\n",
      " $ date       : int  196410 196603 197006 197402 197410 197905 198306 198706 199204 199705 ...\n",
      " $ country    : int  51 51 51 51 51 51 51 51 51 51 ...\n",
      " $ countryname: chr  \"United Kingdom\" \"United Kingdom\" \"United Kingdom\" \"United Kingdom\" ...\n",
      " $ partyname  : chr  \"Liberal Party\" \"Liberal Party\" \"Liberal Party\" \"Liberal Party\" ...\n",
      " $ title      : chr  \"Think for Yourself - Vote Liberal\" \"For all the People: The Liberal Plan of 1966\" \"What a Life!\" \"Change the Face of Britain\" ...\n"
     ]
    }
   ],
   "source": [
    "docvars(UKLib.corpus) <- merge(docvars(UKLib.corpus),\n",
    "                               manifesto.metadata,\n",
    "                               by=c(\"party\",\"date\"))\n",
    "str(docvars(UKLib.corpus))"
   ]
  },
  {
   "cell_type": "markdown",
   "metadata": {},
   "source": [
    "Finally we create a document-feature matrix, without punctuation, numbers,\n",
    "symbols and stopwords:"
   ]
  },
  {
   "cell_type": "code",
   "execution_count": 11,
   "metadata": {},
   "outputs": [
    {
     "name": "stderr",
     "output_type": "stream",
     "text": [
      "Warning:\n",
      "'dfm.corpus()' is deprecated. Use 'tokens()' first.\n",
      "Warning:\n",
      "'...' should not be used for tokens() arguments; use 'tokens()' first.\n",
      "Warning:\n",
      "'remove' is deprecated; use dfm_remove() instead\n",
      "Warning:\n",
      "'stem' is deprecated; use dfm_wordstem() instead\n"
     ]
    },
    {
     "name": "stdout",
     "output_type": "stream",
     "text": [
      "'data.frame':\t14 obs. of  6 variables:\n",
      " $ party      : int  51420 51420 51420 51420 51420 51420 51420 51420 51421 51421 ...\n",
      " $ date       : int  196410 196603 197006 197402 197410 197905 198306 198706 199204 199705 ...\n",
      " $ country    : int  51 51 51 51 51 51 51 51 51 51 ...\n",
      " $ countryname: chr  \"United Kingdom\" \"United Kingdom\" \"United Kingdom\" \"United Kingdom\" ...\n",
      " $ partyname  : chr  \"Liberal Party\" \"Liberal Party\" \"Liberal Party\" \"Liberal Party\" ...\n",
      " $ title      : chr  \"Think for Yourself - Vote Liberal\" \"For all the People: The Liberal Plan of 1966\" \"What a Life!\" \"Change the Face of Britain\" ...\n"
     ]
    }
   ],
   "source": [
    "UKLib.dfm <- dfm(UKLib.corpus,\n",
    "                 remove_punct=TRUE,\n",
    "                 remove_numbers=TRUE,\n",
    "                 remove_symbols=TRUE,\n",
    "                 remove=stopwords(\"english\"),\n",
    "                 stem=TRUE)\n",
    "str(docvars(UKLib.dfm))"
   ]
  },
  {
   "cell_type": "markdown",
   "metadata": {},
   "source": [
    "A more fine-grained control is possible using `tokens()`:"
   ]
  },
  {
   "cell_type": "code",
   "execution_count": 12,
   "metadata": {},
   "outputs": [
    {
     "data": {
      "text/plain": [
       "Tokens consisting of 14 documents and 6 docvars.\n",
       "51420_196410 :\n",
       " [1] \"THINK\"         \"FOR\"           \"YOURSELF\"      \"The\"           \"Liberal\"       \"Party\"         \"offers\"       \n",
       " [8] \"the\"           \"electorate\"    \"a\"             \"radical\"       \"non-Socialist\"\n",
       "[ ... and 8,854 more ]\n",
       "\n",
       "51420_196603 :\n",
       " [1] \"For\"     \"All\"     \"the\"     \"People\"  \"the\"     \"Liberal\" \"Plan\"    \"of\"      \"BRITAIN\" \"DEMANDS\" \"A\"      \n",
       "[12] \"NEW\"    \n",
       "[ ... and 31,786 more ]\n",
       "\n",
       "51420_197006 :\n",
       " [1] \"What\"   \"a\"      \"Life\"   \"There\"  \"must\"   \"surely\" \"be\"     \"a\"      \"better\" \"way\"    \"to\"     \"run\"   \n",
       "[ ... and 23,961 more ]\n",
       "\n",
       "51420_197402 :\n",
       " [1] \"Change\"     \"the\"        \"face\"       \"of\"         \"Britain\"    \"THE\"        \"CRISIS\"     \"OF\"        \n",
       " [9] \"GOVERNMENT\" \"This\"       \"country\"    \"has\"       \n",
       "[ ... and 13,765 more ]\n",
       "\n",
       "51420_197410 :\n",
       " [1] \"Why\"        \"Britain\"    \"Needs\"      \"Liberal\"    \"Government\" \"A\"          \"PERSONAL\"   \"MESSAGE\"   \n",
       " [9] \"FROM\"       \"THE\"        \"RT\"         \"HON\"       \n",
       "[ ... and 10,485 more ]\n",
       "\n",
       "51420_197905 :\n",
       " [1] \"The\"          \"Real\"         \"Fight\"        \"is\"           \"for\"          \"Britain\"      \"INTRODUCTION\"\n",
       " [8] \"With\"         \"your\"         \"support\"      \"this\"         \"election\"    \n",
       "[ ... and 11,440 more ]\n",
       "\n",
       "[ reached max_ndoc ... 8 more documents ]"
      ]
     },
     "execution_count": 12,
     "metadata": {},
     "output_type": "execute_result"
    }
   ],
   "source": [
    "UKLib.toks <- tokens(UKLib.corpus,\n",
    "                     remove_punct=TRUE,\n",
    "                     remove_numbers=TRUE)\n",
    "UKLib.toks"
   ]
  },
  {
   "cell_type": "code",
   "execution_count": 13,
   "metadata": {},
   "outputs": [],
   "source": [
    "UKLib.dfm <- dfm(UKLib.toks)\n",
    "UKLib.dfm"
   ]
  },
  {
   "cell_type": "code",
   "execution_count": 14,
   "metadata": {},
   "outputs": [],
   "source": [
    "UKLib.dfm <- dfm_remove(UKLib.dfm,\n",
    "                        pattern=stopwords(\"english\"))\n",
    "UKLib.dfm"
   ]
  },
  {
   "cell_type": "code",
   "execution_count": 15,
   "metadata": {},
   "outputs": [],
   "source": [
    "UKLib.dfm <- dfm_wordstem(UKLib.dfm,language=\"english\")\n",
    "UKLib.dfm"
   ]
  },
  {
   "cell_type": "markdown",
   "metadata": {},
   "source": [
    "*quanteda* provides support for dictionaries:"
   ]
  },
  {
   "cell_type": "code",
   "execution_count": 16,
   "metadata": {},
   "outputs": [],
   "source": [
    "milecondict <- dictionary(list(\n",
    "                Military=c(\"military\",\"forces\",\"war\",\"defence\",\"victory\",\"victorious\",\"glory\"),\n",
    "                Economy=c(\"economy\",\"growth\",\"business\",\"enterprise\",\"market\")\n",
    "))"
   ]
  },
  {
   "cell_type": "markdown",
   "metadata": {},
   "source": [
    "Here we extract the frequency of tokens belonging to certain dictionaries:"
   ]
  },
  {
   "cell_type": "code",
   "execution_count": 17,
   "metadata": {},
   "outputs": [
    {
     "name": "stderr",
     "output_type": "stream",
     "text": [
      "Warning:\n",
      "'dfm.corpus()' is deprecated. Use 'tokens()' first.\n",
      "Warning:\n",
      "'dictionary' and 'thesaurus' are deprecated; use dfm_lookup() instead\n"
     ]
    }
   ],
   "source": [
    "UKLib.milecon.dfm <- dfm(UKLib.corpus,\n",
    "                         dictionary=milecondict)\n",
    "UKLib.milecon.dfm"
   ]
  },
  {
   "cell_type": "code",
   "execution_count": 18,
   "metadata": {},
   "outputs": [
    {
     "data": {
      "text/plain": [
       " [1] \"1964-10-01 12:00:00 GMT\" \"1966-03-01 12:00:00 GMT\" \"1970-06-01 12:00:00 GMT\" \"1974-02-01 12:00:00 GMT\"\n",
       " [5] \"1974-10-01 12:00:00 GMT\" \"1979-05-01 12:00:00 GMT\" \"1983-06-01 12:00:00 GMT\" \"1987-06-01 12:00:00 GMT\"\n",
       " [9] \"1992-04-01 12:00:00 GMT\" \"1997-05-01 12:00:00 GMT\" \"2001-06-01 12:00:00 GMT\" \"2005-05-01 12:00:00 GMT\"\n",
       "[13] \"2015-05-01 12:00:00 GMT\" \"2017-06-01 12:00:00 GMT\""
      ]
     },
     "execution_count": 18,
     "metadata": {},
     "output_type": "execute_result"
    }
   ],
   "source": [
    "time <- with(docvars(UKLib.milecon.dfm),\n",
    "             ISOdate(year=date%/%100,\n",
    "                     month=date%%100,\n",
    "                     day=1))\n",
    "time"
   ]
  },
  {
   "cell_type": "code",
   "execution_count": 19,
   "metadata": {},
   "outputs": [],
   "source": [
    "UKLib.ntok <- ntoken(UKLib.corpus)"
   ]
  },
  {
   "cell_type": "code",
   "execution_count": 20,
   "metadata": {},
   "outputs": [],
   "source": [
    "milit.freq <- as.vector(UKLib.milecon.dfm[,\"Military\"])\n",
    "econ.freq <- as.vector(UKLib.milecon.dfm[,\"Economy\"])\n",
    "milit.prop <- milit.freq/UKLib.ntok\n",
    "econ.prop <- econ.freq/UKLib.ntok"
   ]
  },
  {
   "cell_type": "markdown",
   "metadata": {},
   "source": [
    "We plot the frequency of tokens over time:"
   ]
  },
  {
   "cell_type": "code",
   "execution_count": 21,
   "metadata": {},
   "outputs": [
    {
     "data": {
      "application/pdf": "[encoded data removed]",
      "image/png": "[encoded data removed]"
     },
     "metadata": {
      "application/pdf": {
       "height": 450,
       "width": 450
      },
      "image/png": {
       "height": 450,
       "width": 450
      }
     },
     "output_type": "display_data"
    }
   ],
   "source": [
    "op <- par(mfrow=c(2,1),mar=c(3,4,0,0))\n",
    "plot(time,milit.prop,type=\"p\",ylab=\"Military\")\n",
    "lines(time,lowess(time,milit.prop)$y)\n",
    "plot(time,econ.prop,type=\"p\",ylab=\"Economy\")\n",
    "lines(time,lowess(time,econ.prop)$y)\n",
    "par(op)"
   ]
  }
 ],
 "metadata": {
  "kernelspec": {
   "display_name": "R (RKernel)",
   "language": "R",
   "name": "rkernel"
  },
  "language_info": {
   "codemirror_mode": "R",
   "file_extension": ".R",
   "mimetype": "text/x-r-source",
   "name": "R",
   "pygments_lexer": "r",
   "version": "4.3.2"
  }
 },
 "nbformat": 4,
 "nbformat_minor": 4
}
