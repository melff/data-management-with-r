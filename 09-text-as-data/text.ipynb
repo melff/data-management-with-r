{
 "cells": [
  {
   "cell_type": "markdown",
   "id": "4e2740b1-41ee-4cca-ab3b-3cf801d4677e",
   "metadata": {},
   "source": [
    "# Text as Data\n",
    "\n",
    "Textual data have rapidly gained attention in the communication, social, and political sciences. Without their discussion, a companion to data management would be incomplete. This chapter starts with a discussion of basic operations on character strings, such as concatenation, search and replace. It then moves on to the management of corpora of text. It also discusses routine issues in the management of textual data, such as stemming, stop-word deletion, and the creation of term-frequency matrices.\n",
    "\n",
    "## Character Strings\n",
    "\n",
    "- [Basic operations on character strings](basic-character-operations.ipynb)\n",
    "- [Counting words in the UK party manifesto on occasion of the 2017 election](counting-words-in-a-manifesto.ipynb)\n",
    "\n",
    "## Text Corpora with the _tm_ Package\n",
    "\n",
    "- [A simple example for the usage of the tm package](tm-simple.ipynb)\n",
    "- [An example for the use of tm on data from the Manifesto Project](tm-ManifestoProject.ipynb)\n",
    "\n",
    "## Improvements Provided by the _quanteda_ Package\n",
    "\n",
    "- [A basic example for the usage of the quanteda package](quanteda-basic.ipynb)\n",
    "- [Obtaining tokens in text documents using quanteda](quanteda-tokens.ipynb)\n",
    "- [Preparing Manifesto Project data using quanteda](quanteda-ManifestoProject.ipynb)"
   ]
  }
 ],
 "metadata": {
  "kernelspec": {
   "display_name": "R (RKernel)",
   "language": "R",
   "name": "rkernel"
  },
  "language_info": {
   "codemirror_mode": "R",
   "file_extension": ".R",
   "mimetype": "text/x-r-source",
   "name": "R",
   "pygments_lexer": "r",
   "version": "4.3.2"
  }
 },
 "nbformat": 4,
 "nbformat_minor": 5
}
