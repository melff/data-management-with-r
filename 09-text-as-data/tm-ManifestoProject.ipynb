{
 "cells": [
  {
   "cell_type": "markdown",
   "metadata": {},
   "source": [
    "# An example for the use of *tm* on data from the Manifesto Project"
   ]
  },
  {
   "cell_type": "code",
   "execution_count": null,
   "metadata": {},
   "outputs": [],
   "source": [
    "options(jupyter.rich_display=FALSE) # Create output as usual in R"
   ]
  },
  {
   "cell_type": "markdown",
   "metadata": {},
   "source": [
    "The file CSV-files in folder \"Manifesto Project\"\n",
    "were downloaded from the [Manifesto Project website](https://manifesto-project.wzb.eu/datasets).\n",
    "Redistribution of the data is prohibited, so readers who want to reproduce the following will need to download their own copy of the data set and upload it to the virtual machine that runs this notebook. To do this,\n",
    "\n",
    "1. pull down the \"File\" menu item and select \"Open\"\n",
    "2. An overview of the folder that contains the notebook opens.\n",
    "3. The folder view has a button labelled \"Upload\". Use this to upload the file that you downloaded from the Manifesto Project website.\n",
    "\n",
    "Note that the uploaded data will disappear, once you \"Quit\" the notebook (and the Jupyter instance)."
   ]
  },
  {
   "cell_type": "code",
   "execution_count": null,
   "metadata": {},
   "outputs": [],
   "source": [
    "# The Manifesto Project data is contained in a collection of CSV files\n",
    "csv.files <- dir(\"ManifestoProject\",full.names=TRUE,\n",
    "                 pattern=\"*.csv\")\n",
    "csv.files"
   ]
  },
  {
   "cell_type": "markdown",
   "metadata": {},
   "source": [
    "The file [documents_MPDataset_MPDS2019b.csv](documents_MPDataset_MPDS2019b.csv) contains the relevant metadata. The original in Excel format \n",
    "is [available (without registration)](https://manifesto-project.wzb.eu/down/data/2019b/codebooks/documents_MPDataset_MPDS2019b.xlsx) from the Manifesto Project web site."
   ]
  },
  {
   "cell_type": "code",
   "execution_count": null,
   "metadata": {},
   "outputs": [],
   "source": [
    "manifesto.metadata <- read.csv(\"documents_MPDataset_MPDS2019b.csv\",\n",
    "                               stringsAsFactors=FALSE)"
   ]
  },
  {
   "cell_type": "markdown",
   "metadata": {},
   "source": [
    "The following makes use of the *tm* package. You may need to install it from\n",
    "[CRAN](https://cran.r-project.org/package=tm) using the code\n",
    "`install.packages(\"tm\")` if you want to run this on your computer. (The\n",
    "package is already installed on the notebook container, however.)"
   ]
  },
  {
   "cell_type": "code",
   "execution_count": null,
   "metadata": {},
   "outputs": [],
   "source": [
    "library(tm)"
   ]
  },
  {
   "cell_type": "code",
   "execution_count": null,
   "metadata": {},
   "outputs": [],
   "source": [
    "# The following code does not work, due to the peculiar structure of the CSV files\n",
    "manifesto.corpus <- VCorpus(DirSource(\"ManifestoProject\"))"
   ]
  },
  {
   "cell_type": "code",
   "execution_count": null,
   "metadata": {},
   "outputs": [],
   "source": [
    "# To deal with the problem created by the peculiar structure of the files, we\n",
    "# define a helper function:\n",
    "getMDoc <- function(file,metadata.file){\n",
    "    df <- read.csv(file,\n",
    "                   stringsAsFactors=FALSE)\n",
    "    content <- paste(df[,1],collapse=\"\\n\")\n",
    "    \n",
    "    fn <- basename(file)\n",
    "    fn <- sub(\".csv\",\"\",fn,fixed=TRUE)\n",
    "    fn12 <- unlist(strsplit(fn,\"_\"))\n",
    "\n",
    "    partycode <- as.numeric(fn12[1])\n",
    "    datecode <- as.numeric(fn12[2])\n",
    "    year <- datecode %/% 100\n",
    "    month <- datecode %% 100\n",
    "    datetime <- ISOdate(year=year,month=month,day=1)\n",
    "\n",
    "    mf.meta <- subset(metadata.file,\n",
    "                      party==partycode & date == datecode)\n",
    "    if(!length(mf.meta$language))\n",
    "        mf.meta$language <- \"english\"\n",
    "        \n",
    "    PlainTextDocument(\n",
    "        content,\n",
    "        id = fn,\n",
    "        heading = mf.meta$title,\n",
    "        datetimestamp = as.POSIXlt(datetime),\n",
    "        language = mf.meta$language,\n",
    "        partyname = mf.meta$partyname,\n",
    "        partycode = partycode,\n",
    "        datecode = datecode\n",
    "    )\n",
    "}"
   ]
  },
  {
   "cell_type": "code",
   "execution_count": null,
   "metadata": {},
   "outputs": [],
   "source": [
    "# With the helper function we now create a corpus of UK manifestos:\n",
    "UKLib.docs <- lapply(csv.files,getMDoc,\n",
    "                     metadata.file=manifesto.metadata)\n",
    "UKLib.Corpus <- as.VCorpus(UKLib.docs)\n",
    "UKLib.Corpus"
   ]
  },
  {
   "cell_type": "code",
   "execution_count": null,
   "metadata": {},
   "outputs": [],
   "source": [
    "UKLib.Corpus[[14]]"
   ]
  },
  {
   "cell_type": "code",
   "execution_count": null,
   "metadata": {},
   "outputs": [],
   "source": [
    "# We need to deal with the non-ASCII characters, so we define yet another helper\n",
    "# function:\n",
    "handleUTF8quotes <- function(x){\n",
    "    cx <- content(x)\n",
    "    cx <- gsub(\"\\xe2\\x80\\x98\",\"'\",cx)\n",
    "    cx <- gsub(\"\\xe2\\x80\\x99\",\"'\",cx)\n",
    "    cx <- gsub(\"\\xe2\\x80\\x9a\",\",\",cx)\n",
    "    cx <- gsub(\"\\xe2\\x80\\x9b\",\"`\",cx)\n",
    "    cx <- gsub(\"\\xe2\\x80\\x9c\",\"\\\"\",cx)\n",
    "    cx <- gsub(\"\\xe2\\x80\\x9d\",\"\\\"\",cx)\n",
    "    cx <- gsub(\"\\xe2\\x80\\x9e\",\"\\\"\",cx)\n",
    "    cx <- gsub(\"\\xe2\\x80\\x9f\",\"\\\"\",cx)\n",
    "    content(x) <- cx\n",
    "    x\n",
    "}"
   ]
  },
  {
   "cell_type": "code",
   "execution_count": null,
   "metadata": {},
   "outputs": [],
   "source": [
    "# Another helper function is needed to change the texts into lowercase:\n",
    "toLower <- function(x) {\n",
    "    content(x) <- tolower(content(x))\n",
    "    x\n",
    "}"
   ]
  },
  {
   "cell_type": "code",
   "execution_count": null,
   "metadata": {},
   "outputs": [],
   "source": [
    "# We overwrite the 'inspect' method for \"TextDocument\" objects to a variant that shows only the first\n",
    "# 20 lines:\n",
    "inspect.TextDocument <- function(x){\n",
    "    print(x)\n",
    "    cat(\"\\n\")\n",
    "    str <- as.character(x)\n",
    "    str <- substr(x,start=0,stop=500)\n",
    "    str <- paste(str,\"... ...\")\n",
    "    writeLines(str)\n",
    "    invisible(x)\n",
    "}"
   ]
  },
  {
   "cell_type": "code",
   "execution_count": null,
   "metadata": {},
   "outputs": [],
   "source": [
    "UKLib.Corpus.processed <- tm_map(UKLib.Corpus,handleUTF8quotes)\n",
    "UKLib.Corpus.processed <- tm_map(UKLib.Corpus.processed,toLower)\n",
    "inspect(UKLib.Corpus.processed[[14]])"
   ]
  },
  {
   "cell_type": "code",
   "execution_count": null,
   "metadata": {},
   "outputs": [],
   "source": [
    "UKLib.Corpus.processed <- tm_map(UKLib.Corpus.processed,removeNumbers)\n",
    "UKLib.Corpus.processed <- tm_map(UKLib.Corpus.processed,removePunctuation)\n",
    "inspect(UKLib.Corpus.processed[[14]])"
   ]
  },
  {
   "cell_type": "code",
   "execution_count": null,
   "metadata": {},
   "outputs": [],
   "source": [
    "UKLib.Corpus.processed <- tm_map(UKLib.Corpus.processed,stemDocument)\n",
    "inspect(UKLib.Corpus.processed[[14]])"
   ]
  },
  {
   "cell_type": "code",
   "execution_count": null,
   "metadata": {},
   "outputs": [],
   "source": [
    "# After preprocessing the text documents we obtain a document-term matrix:\n",
    "UKLib.dtm <- DocumentTermMatrix(UKLib.Corpus.processed)\n",
    "UKLib.dtm"
   ]
  },
  {
   "cell_type": "code",
   "execution_count": null,
   "metadata": {},
   "outputs": [],
   "source": [
    "# The various preprocessing steps can be combined into a single step:\n",
    "UKLib.dtm <- DocumentTermMatrix(\n",
    "    tm_map(UKLib.Corpus,handleUTF8quotes),\n",
    "    control=list(\n",
    "        tolower=TRUE,\n",
    "        removePunctuation=TRUE,\n",
    "        removeNumber=TRUE,\n",
    "        stopwords=TRUE,\n",
    "        language=\"en\",\n",
    "        stemming=TRUE\n",
    "    ))\n",
    "UKLib.dtm"
   ]
  }
 ],
 "metadata": {
  "kernelspec": {
   "display_name": "R",
   "language": "R",
   "name": "ir"
  },
  "language_info": {
   "codemirror_mode": "r",
   "file_extension": ".r",
   "mimetype": "text/x-r-source",
   "name": "R",
   "pygments_lexer": "r",
   "version": "4.0.5"
  }
 },
 "nbformat": 4,
 "nbformat_minor": 4
}
