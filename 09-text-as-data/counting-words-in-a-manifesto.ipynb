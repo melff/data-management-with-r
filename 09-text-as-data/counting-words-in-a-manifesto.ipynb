{
 "cells": [
  {
   "cell_type": "markdown",
   "metadata": {},
   "source": [
    "# Counting words in the UK party manifesto on occasion of the 2017 election"
   ]
  },
  {
   "cell_type": "code",
   "execution_count": null,
   "metadata": {},
   "outputs": [],
   "source": [
    "options(jupyter.rich_display=FALSE) # Create output as usual in R"
   ]
  },
  {
   "cell_type": "markdown",
   "metadata": {},
   "source": [
    "The file \"UKLabourParty_201706.csv\" \n",
    "was downloaded from the [Manifesto Project website](https://manifesto-project.wzb.eu/datasets).\n",
    "Redistribution of the data is prohibited, so readers who want to preproduce the following will need to download their own copy of the data set and upload it to the virtual machine that runs this notebook. To do this,\n",
    "\n",
    "1. pull down the \"File\" menu item and select \"Open\"\n",
    "2. An overview of the folder that contains the notebook opens.\n",
    "3. The folder view has a button labelled \"Upload\". Use this to upload the file that you downloaded from the Manifesto Project website.\n",
    "\n",
    "Note that the uploaded data will disappear, once you \"Quit\" the notebook (and the Jupyter instance).\n"
   ]
  },
  {
   "cell_type": "code",
   "execution_count": null,
   "metadata": {},
   "outputs": [],
   "source": [
    "# First, the data are read in\n",
    "Labour.2017 <- read.csv(\"UKLabourParty_201706.csv\",\n",
    "                        stringsAsFactors=FALSE)"
   ]
  },
  {
   "cell_type": "code",
   "execution_count": null,
   "metadata": {},
   "outputs": [],
   "source": [
    "# Second, some non-ascii characters are substituted \n",
    "Labour.2017$content <- gsub(\"\\xE2\\x80\\x99\",\"'\",Labour.2017$content)\n",
    "str(Labour.2017)"
   ]
  },
  {
   "cell_type": "code",
   "execution_count": null,
   "metadata": {},
   "outputs": [],
   "source": [
    "# The variable 'content' contains the text of the manifesto \n",
    "Labour.2017 <- Labour.2017$content\n",
    "Labour.2017[1:5]"
   ]
  },
  {
   "cell_type": "code",
   "execution_count": null,
   "metadata": {},
   "outputs": [],
   "source": [
    "# The headings in the manifesto are all-uppercase, this helps\n",
    "# to identify them:\n",
    "Labour.2017.hlno <- which(Labour.2017==toupper(Labour.2017))\n",
    "Labour.2017.headings <- Labour.2017[Labour.2017.hlno]\n",
    "Labour.2017.headings[1:4]"
   ]
  },
  {
   "cell_type": "code",
   "execution_count": null,
   "metadata": {},
   "outputs": [],
   "source": [
    "# All non-heading text is changed to lowercase\n",
    "labour.2017 <- tolower(Labour.2017[-Labour.2017.hlno])\n",
    "labour.2017[1:5]"
   ]
  },
  {
   "cell_type": "code",
   "execution_count": null,
   "metadata": {},
   "outputs": [],
   "source": [
    "# All lines that contain the pattern 'econom' are collected\n",
    "ecny.labour.2017 <- grep(\"econom\",labour.2017,value=TRUE)\n",
    "ecny.labour.2017[1:5]"
   ]
  },
  {
   "cell_type": "code",
   "execution_count": null,
   "metadata": {},
   "outputs": [],
   "source": [
    "# Using 'strsplit()' the lines are split into words\n",
    "labour.2017.words <- strsplit(labour.2017,\"[ ,.;:]+\")\n",
    "str(labour.2017.words[1:5])"
   ]
  },
  {
   "cell_type": "code",
   "execution_count": null,
   "metadata": {},
   "outputs": [],
   "source": [
    "# The result is a list. We change it into a character vector.\n",
    "labour.2017.words <- unlist(labour.2017.words)\n",
    "labour.2017.words[1:20]"
   ]
  },
  {
   "cell_type": "code",
   "execution_count": null,
   "metadata": {},
   "outputs": [],
   "source": [
    "# We now count the words and look at the 20 most common ones.\n",
    "labour.2017.nwords <- table(labour.2017.words)\n",
    "labour.2017.nwords <- sort(labour.2017.nwords,decreasing=TRUE)\n",
    "labour.2017.nwords[1:20]"
   ]
  }
 ],
 "metadata": {
  "kernelspec": {
   "display_name": "R",
   "language": "R",
   "name": "ir"
  },
  "language_info": {
   "codemirror_mode": "r",
   "file_extension": ".r",
   "mimetype": "text/x-r-source",
   "name": "R",
   "pygments_lexer": "r",
   "version": "4.0.5"
  }
 },
 "nbformat": 4,
 "nbformat_minor": 4
}
