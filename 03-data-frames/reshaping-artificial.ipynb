{
 "cells": [
  {
   "cell_type": "markdown",
   "metadata": {},
   "source": [
    "# Reshaping data frames: An example with artificial data"
   ]
  },
  {
   "cell_type": "markdown",
   "metadata": {},
   "source": [
    "Here we construct the data frame that contains the first two rows\n",
    "of the data in wide format in the previous illustration."
   ]
  },
  {
   "cell_type": "code",
   "execution_count": null,
   "metadata": {},
   "outputs": [],
   "source": [
    "example.data.wide <- data.frame(\n",
    "    id = 1:2,\n",
    "    v  = c(35,42),\n",
    "    x1 = c(1.1,2.1),\n",
    "    x2 = c(1.2,2.2),\n",
    "    x3 = c(1.3,2.3),\n",
    "    y1 = c(2.5,3.5),\n",
    "    y2 = c(2.7,3.7),\n",
    "    y3 = c(2.9,3.9))\n",
    "example.data.wide"
   ]
  },
  {
   "cell_type": "markdown",
   "metadata": {},
   "source": [
    "We now call `reshape()` to cast the data into long format"
   ]
  },
  {
   "cell_type": "code",
   "execution_count": null,
   "metadata": {},
   "outputs": [],
   "source": [
    "example.data.long <- reshape(data=example.data.wide,\n",
    "                             varying=list(\n",
    "                                 # The first group of variables \n",
    "                                 # in wide format\n",
    "                                 c(\"x1\",\"x2\",\"x3\"),\n",
    "                                 # The second group of variables\n",
    "                                 # in wide format\n",
    "                                 c(\"y1\",\"y2\",\"y3\")\n",
    "                             ),\n",
    "                             v.names=c(\"x\",\"y\"),\n",
    "                             timevar=\"t\",\n",
    "                             times=1:3,\n",
    "                             direction=\"long\")\n",
    "example.data.long"
   ]
  },
  {
   "cell_type": "markdown",
   "metadata": {},
   "source": [
    "In order to change the data from long into wide format, we can\n",
    "use almost the same function call, the only difference being\n",
    "the `direction=` argument."
   ]
  },
  {
   "cell_type": "code",
   "execution_count": null,
   "metadata": {},
   "outputs": [],
   "source": [
    "example.data.wide.a <- reshape(data=example.data.long,\n",
    "                               varying=list(\n",
    "                                 # The first group of variables \n",
    "                                 # in wide format\n",
    "                                 c(\"x1\",\"x2\",\"x3\"),\n",
    "                                 # The second group of variables\n",
    "                                 # in wide format\n",
    "                                 c(\"y1\",\"y2\",\"y3\")\n",
    "                               ),\n",
    "                               v.names=c(\"x\",\"y\"),\n",
    "                               timevar=\"t\",\n",
    "                               times=1:3,\n",
    "                               direction=\"wide\")"
   ]
  },
  {
   "cell_type": "markdown",
   "metadata": {},
   "source": [
    "The second call of `reshape` does not completely revert the first call,\n",
    "because the order of the variables now is different:"
   ]
  },
  {
   "cell_type": "code",
   "execution_count": null,
   "metadata": {},
   "outputs": [],
   "source": [
    "example.data.wide.a"
   ]
  }
 ],
 "metadata": {
  "jupytext": {
   "cell_metadata_filter": "-all"
  },
  "kernelspec": {
   "display_name": "R",
   "language": "R",
   "name": "ir"
  },
  "language_info": {
   "codemirror_mode": "r",
   "file_extension": ".r",
   "mimetype": "text/x-r-source",
   "name": "R",
   "pygments_lexer": "r",
   "version": "4.0.5"
  }
 },
 "nbformat": 4,
 "nbformat_minor": 4
}
