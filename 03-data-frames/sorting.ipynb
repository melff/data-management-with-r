{
 "cells": [
  {
   "cell_type": "markdown",
   "metadata": {},
   "source": [
    "# Sorting data frames"
   ]
  },
  {
   "cell_type": "markdown",
   "metadata": {},
   "source": [
    "Here we use data from the British Election Study. The data set [bes2010feelings-pre-long.RData](https://github.com/melff/dataman-r/raw/main/03-data-frames/bes2010feelings-pre-long.RData) is prepared from the original available at https://www.britishelectionstudy.com/data-object/2010-bes-cross-section/ by removing identifying information and scrambling the data."
   ]
  },
  {
   "cell_type": "code",
   "execution_count": 1,
   "metadata": {
    "execution": {
     "iopub.execute_input": "2023-11-19T17:46:35.587078Z",
     "iopub.status.busy": "2023-11-19T17:46:35.584617Z",
     "iopub.status.idle": "2023-11-19T17:46:35.605670Z",
     "shell.execute_reply": "2023-11-19T17:46:35.602464Z"
    }
   },
   "outputs": [],
   "source": [
    "load(\"bes2010feelings-pre-long.RData\")"
   ]
  },
  {
   "cell_type": "markdown",
   "metadata": {},
   "source": [
    "Here we use `order()`"
   ]
  },
  {
   "cell_type": "code",
   "execution_count": 2,
   "metadata": {
    "execution": {
     "iopub.execute_input": "2023-11-19T17:46:35.651326Z",
     "iopub.status.busy": "2023-11-19T17:46:35.612354Z",
     "iopub.status.idle": "2023-11-19T17:46:35.758454Z",
     "shell.execute_reply": "2023-11-19T17:46:35.755291Z"
    }
   },
   "outputs": [],
   "source": [
    "ii <- with(bes2010flngs_pre_long,order(id,party))\n",
    "bes2010flngs_pre_long_sorted <- bes2010flngs_pre_long[ii,]"
   ]
  },
  {
   "cell_type": "code",
   "execution_count": 3,
   "metadata": {
    "execution": {
     "iopub.execute_input": "2023-11-19T17:46:35.765294Z",
     "iopub.status.busy": "2023-11-19T17:46:35.762845Z",
     "iopub.status.idle": "2023-11-19T17:46:35.781839Z",
     "shell.execute_reply": "2023-11-19T17:46:35.778930Z"
    }
   },
   "outputs": [
    {
     "data": {
      "text/plain": [
       "                      party id flng.leaders flng.parties\n",
       "1.Conservative Conservative  1            3            6\n",
       "1.Labour             Labour  1            6            5\n",
       "1.LibDem             LibDem  1            3            4\n",
       "1.SNP                   SNP  1           NA           NA\n",
       "1.Plaid Cymru   Plaid Cymru  1            5           NA\n",
       "1.Green               Green  1           NA            7\n",
       "1.UKIP                 UKIP  1           NA            3\n",
       "1.BNP                   BNP  1           NA            0\n",
       "2.Conservative Conservative  2            7            6\n",
       "2.Labour             Labour  2            3            1\n",
       "2.LibDem             LibDem  2            5            7\n",
       "2.SNP                   SNP  2           NA           NA\n",
       "2.Plaid Cymru   Plaid Cymru  2            3           NA\n",
       "2.Green               Green  2           NA            6\n",
       "2.UKIP                 UKIP  2           NA            0"
      ]
     },
     "execution_count": 3,
     "metadata": {},
     "output_type": "execute_result"
    }
   ],
   "source": [
    "head(bes2010flngs_pre_long_sorted[c(\"party\",\"id\",\n",
    "                                    \"flng.leaders\",\"flng.parties\")],n=15)"
   ]
  },
  {
   "cell_type": "markdown",
   "metadata": {},
   "source": [
    "Some more convenient altarnatives:\n",
    "Using a `Sort()` function:"
   ]
  },
  {
   "cell_type": "code",
   "execution_count": 4,
   "metadata": {
    "execution": {
     "iopub.execute_input": "2023-11-19T17:46:35.788860Z",
     "iopub.status.busy": "2023-11-19T17:46:35.786391Z",
     "iopub.status.idle": "2023-11-19T17:46:35.796160Z",
     "shell.execute_reply": "2023-11-19T17:46:35.793251Z"
    }
   },
   "outputs": [],
   "source": [
    "Sort <- function(data,...){\n",
    "    ii <- eval(substitute(order(...)),\n",
    "                          envir=data,\n",
    "                          enclos=parent.frame())\n",
    "    data[ii,]\n",
    "}"
   ]
  },
  {
   "cell_type": "code",
   "execution_count": 5,
   "metadata": {
    "execution": {
     "iopub.execute_input": "2023-11-19T17:46:35.803319Z",
     "iopub.status.busy": "2023-11-19T17:46:35.800677Z",
     "iopub.status.idle": "2023-11-19T17:46:35.812137Z",
     "shell.execute_reply": "2023-11-19T17:46:35.809203Z"
    }
   },
   "outputs": [],
   "source": [
    "bes2010flngs_pre_long_sorted <- Sort(bes2010flngs_pre_long,\n",
    "                                     id,party)"
   ]
  },
  {
   "cell_type": "markdown",
   "metadata": {},
   "source": [
    "There is a `sort()` method function provided by the *memisc* package, which makes sorting a data frame a bit easier. You may need to install this package using `install.packages(\"memisc\")` from \n",
    "[CRAN](https://cran.r-project.org/package=memisc) if you want to run this on your computer. (The package is already installed on the notebook container, however.)"
   ]
  },
  {
   "cell_type": "code",
   "execution_count": 6,
   "metadata": {
    "execution": {
     "iopub.execute_input": "2023-11-19T17:46:35.819703Z",
     "iopub.status.busy": "2023-11-19T17:46:35.817003Z",
     "iopub.status.idle": "2023-11-19T17:46:36.550678Z",
     "shell.execute_reply": "2023-11-19T17:46:36.547921Z"
    }
   },
   "outputs": [
    {
     "name": "stdout",
     "output_type": "stream",
     "text": [
      "Loading required package: lattice\n",
      "Loading required package: MASS\n",
      "\n",
      "Attaching package: ‘memisc’\n",
      "\n",
      "The following objects are masked from ‘package:stats’:\n",
      "\n",
      "    contr.sum, contr.treatment, contrasts\n",
      "\n",
      "The following object is masked from ‘package:base’:\n",
      "\n",
      "    as.array\n",
      "\n"
     ]
    }
   ],
   "source": [
    "library(memisc)"
   ]
  },
  {
   "cell_type": "code",
   "execution_count": 7,
   "metadata": {
    "execution": {
     "iopub.execute_input": "2023-11-19T17:46:36.561220Z",
     "iopub.status.busy": "2023-11-19T17:46:36.558598Z",
     "iopub.status.idle": "2023-11-19T17:46:36.571707Z",
     "shell.execute_reply": "2023-11-19T17:46:36.568834Z"
    }
   },
   "outputs": [],
   "source": [
    "bes2010flngs_pre_long_sorted <- sort(bes2010flngs_pre_long,\n",
    "                                     by=~party+id)"
   ]
  },
  {
   "cell_type": "code",
   "execution_count": 8,
   "metadata": {
    "execution": {
     "iopub.execute_input": "2023-11-19T17:46:36.578940Z",
     "iopub.status.busy": "2023-11-19T17:46:36.576179Z",
     "iopub.status.idle": "2023-11-19T17:46:36.592381Z",
     "shell.execute_reply": "2023-11-19T17:46:36.589407Z"
    }
   },
   "outputs": [
    {
     "data": {
      "text/plain": [
       "                      party id flng.leaders flng.parties\n",
       "1.Conservative Conservative  1            3            6\n",
       "1.Labour             Labour  1            6            5\n",
       "1.LibDem             LibDem  1            3            4\n",
       "1.SNP                   SNP  1           NA           NA\n",
       "1.Plaid Cymru   Plaid Cymru  1            5           NA\n",
       "1.Green               Green  1           NA            7\n",
       "1.UKIP                 UKIP  1           NA            3\n",
       "1.BNP                   BNP  1           NA            0\n",
       "2.Conservative Conservative  2            7            6\n",
       "2.Labour             Labour  2            3            1\n",
       "2.LibDem             LibDem  2            5            7\n",
       "2.SNP                   SNP  2           NA           NA\n",
       "2.Plaid Cymru   Plaid Cymru  2            3           NA\n",
       "2.Green               Green  2           NA            6\n",
       "2.UKIP                 UKIP  2           NA            0"
      ]
     },
     "execution_count": 8,
     "metadata": {},
     "output_type": "execute_result"
    }
   ],
   "source": [
    "head(bes2010flngs_pre_long_sorted[c(\"party\",\"id\",\n",
    "                                    \"flng.leaders\",\"flng.parties\")],n=15)"
   ]
  }
 ],
 "metadata": {
  "jupytext": {
   "cell_metadata_filter": "-all"
  },
  "kernelspec": {
   "display_name": "R (RKernel)",
   "language": "R",
   "name": "rkernel"
  },
  "language_info": {
   "codemirror_mode": "R",
   "file_extension": ".R",
   "mimetype": "text/x-r-source",
   "name": "R",
   "pygments_lexer": "r",
   "version": "4.3.2"
  }
 },
 "nbformat": 4,
 "nbformat_minor": 4
}
