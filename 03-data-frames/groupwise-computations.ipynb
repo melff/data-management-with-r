{
 "cells": [
  {
   "cell_type": "markdown",
   "metadata": {},
   "source": [
    "# Groupwise computations within data frames"
   ]
  },
  {
   "cell_type": "markdown",
   "metadata": {},
   "source": [
    "Here we use data from the British Election Study 2010. The data set [bes2010feelings-pre-long.RData](https://github.com/melff/dataman-r/raw/main/03-data-frames/bes2010feelings-pre-long.RData) is prepared from the original available at https://www.britishelectionstudy.com/data-object/2010-bes-cross-section/ by removing identifying information and scrambling the data."
   ]
  },
  {
   "cell_type": "code",
   "execution_count": 1,
   "metadata": {
    "execution": {
     "iopub.execute_input": "2023-11-19T17:50:52.735716Z",
     "iopub.status.busy": "2023-11-19T17:50:52.733548Z",
     "iopub.status.idle": "2023-11-19T17:50:52.775435Z",
     "shell.execute_reply": "2023-11-19T17:50:52.773696Z"
    }
   },
   "outputs": [],
   "source": [
    "load(\"bes2010feelings-pre-long.RData\")"
   ]
  },
  {
   "cell_type": "markdown",
   "metadata": {},
   "source": [
    "Groupwise computations using `split()`:"
   ]
  },
  {
   "cell_type": "code",
   "execution_count": 2,
   "metadata": {
    "execution": {
     "iopub.execute_input": "2023-11-19T17:50:52.810964Z",
     "iopub.status.busy": "2023-11-19T17:50:52.778118Z",
     "iopub.status.idle": "2023-11-19T17:50:52.987321Z",
     "shell.execute_reply": "2023-11-19T17:50:52.985749Z"
    }
   },
   "outputs": [
    {
     "name": "stdout",
     "output_type": "stream",
     "text": [
      "'data.frame':\t8 obs. of  5 variables:\n",
      " $ region      : Factor w/ 3 levels \"England\",\"Scotland\",..: 1 1 1 1 1 1 1 1\n",
      " $ party       : Factor w/ 8 levels \"Conservative\",..: 1 2 3 4 5 6 7 8\n",
      " $ flng.leaders: num  3 6 3 NA 5 NA NA NA\n",
      " $ flng.parties: num  6 5 4 NA NA 7 3 0\n",
      " $ id          : int  1 1 1 1 1 1 1 1\n",
      " - attr(*, \"reshapeLong\")=List of 4\n",
      "  ..$ varying:List of 2\n",
      "  .. ..$ flng.leaders: chr [1:8] \"flng.cameron\" \"flng.brown\" \"flng.clegg\" \"flng.salmond\" ...\n",
      "  .. ..$ flng.parties: chr [1:8] \"flng.cons\" \"flng.labour\" \"flng.libdem\" \"flng.snp\" ...\n",
      "  ..$ v.names: chr [1:2] \"flng.leaders\" \"flng.parties\"\n",
      "  ..$ idvar  : chr \"id\"\n",
      "  ..$ timevar: chr \"party\"\n"
     ]
    }
   ],
   "source": [
    "bes2010flngs_pre_long.splt <- split(bes2010flngs_pre_long,\n",
    "                                    bes2010flngs_pre_long$id)\n",
    "\n",
    "str(bes2010flngs_pre_long.splt[[1]])"
   ]
  },
  {
   "cell_type": "code",
   "execution_count": 3,
   "metadata": {
    "execution": {
     "iopub.execute_input": "2023-11-19T17:50:52.994095Z",
     "iopub.status.busy": "2023-11-19T17:50:52.992933Z",
     "iopub.status.idle": "2023-11-19T17:50:53.003110Z",
     "shell.execute_reply": "2023-11-19T17:50:53.001618Z"
    }
   },
   "outputs": [],
   "source": [
    "Mean <- function(x,...) mean(x,...,na.rm=TRUE)"
   ]
  },
  {
   "cell_type": "code",
   "execution_count": 4,
   "metadata": {
    "execution": {
     "iopub.execute_input": "2023-11-19T17:50:53.006387Z",
     "iopub.status.busy": "2023-11-19T17:50:53.005199Z",
     "iopub.status.idle": "2023-11-19T17:50:53.388665Z",
     "shell.execute_reply": "2023-11-19T17:50:53.387222Z"
    }
   },
   "outputs": [
    {
     "name": "stdout",
     "output_type": "stream",
     "text": [
      "'data.frame':\t8 obs. of  7 variables:\n",
      " $ region          : Factor w/ 3 levels \"England\",\"Scotland\",..: 1 1 1 1 1 1 1 1\n",
      " $ party           : Factor w/ 8 levels \"Conservative\",..: 1 2 3 4 5 6 7 8\n",
      " $ flng.leaders    : num  3 6 3 NA 5 NA NA NA\n",
      " $ flng.parties    : num  6 5 4 NA NA 7 3 0\n",
      " $ id              : int  1 1 1 1 1 1 1 1\n",
      " $ rel.flng.leaders: num  -1.25 1.75 -1.25 NA 0.75 NA NA NA\n",
      " $ rel.flng.parties: num  1.833 0.833 -0.167 NA NA ...\n",
      " - attr(*, \"reshapeLong\")=List of 4\n",
      "  ..$ varying:List of 2\n",
      "  .. ..$ flng.leaders: chr [1:8] \"flng.cameron\" \"flng.brown\" \"flng.clegg\" \"flng.salmond\" ...\n",
      "  .. ..$ flng.parties: chr [1:8] \"flng.cons\" \"flng.labour\" \"flng.libdem\" \"flng.snp\" ...\n",
      "  ..$ v.names: chr [1:2] \"flng.leaders\" \"flng.parties\"\n",
      "  ..$ idvar  : chr \"id\"\n",
      "  ..$ timevar: chr \"party\"\n"
     ]
    }
   ],
   "source": [
    "bes2010flngs_pre_long.splt <- lapply(\n",
    "    bes2010flngs_pre_long.splt,\n",
    "    within,expr={\n",
    "        rel.flng.parties <- flng.parties - Mean(flng.parties)\n",
    "        rel.flng.leaders <- flng.leaders - Mean(flng.leaders)\n",
    "    })\n",
    "\n",
    "str(bes2010flngs_pre_long.splt[[1]])"
   ]
  },
  {
   "cell_type": "code",
   "execution_count": 5,
   "metadata": {
    "execution": {
     "iopub.execute_input": "2023-11-19T17:50:53.391880Z",
     "iopub.status.busy": "2023-11-19T17:50:53.390737Z",
     "iopub.status.idle": "2023-11-19T17:50:54.131320Z",
     "shell.execute_reply": "2023-11-19T17:50:54.129827Z"
    }
   },
   "outputs": [
    {
     "name": "stdout",
     "output_type": "stream",
     "text": [
      "'data.frame':\t15480 obs. of  7 variables:\n",
      " $ region          : Factor w/ 3 levels \"England\",\"Scotland\",..: 1 1 1 1 1 1 1 1 NA NA ...\n",
      " $ party           : Factor w/ 8 levels \"Conservative\",..: 1 2 3 4 5 6 7 8 1 2 ...\n",
      " $ flng.leaders    : num  3 6 3 NA 5 NA NA NA 7 3 ...\n",
      " $ flng.parties    : num  6 5 4 NA NA 7 3 0 6 1 ...\n",
      " $ id              : int  1 1 1 1 1 1 1 1 2 2 ...\n",
      " $ rel.flng.leaders: num  -1.25 1.75 -1.25 NA 0.75 NA NA NA 2.5 -1.5 ...\n",
      " $ rel.flng.parties: num  1.833 0.833 -0.167 NA NA ...\n",
      " - attr(*, \"reshapeLong\")=List of 4\n",
      "  ..$ varying:List of 2\n",
      "  .. ..$ flng.leaders: chr [1:8] \"flng.cameron\" \"flng.brown\" \"flng.clegg\" \"flng.salmond\" ...\n",
      "  .. ..$ flng.parties: chr [1:8] \"flng.cons\" \"flng.labour\" \"flng.libdem\" \"flng.snp\" ...\n",
      "  ..$ v.names: chr [1:2] \"flng.leaders\" \"flng.parties\"\n",
      "  ..$ idvar  : chr \"id\"\n",
      "  ..$ timevar: chr \"party\"\n"
     ]
    }
   ],
   "source": [
    "bes2010flngs_pre_long <- unsplit(bes2010flngs_pre_long.splt,\n",
    "                                 bes2010flngs_pre_long$id)\n",
    "str(bes2010flngs_pre_long)"
   ]
  },
  {
   "cell_type": "markdown",
   "metadata": {},
   "source": [
    "Groupwise computations using `withinGroups()` from the package *memisc*. You may need to install this package using `install.packages(\"memisc\")` from \n",
    "[CRAN](https://cran.r-project.org/package=memisc) if you want to run this on your computer. (The package is already installed on the notebook container, however.)"
   ]
  },
  {
   "cell_type": "code",
   "execution_count": 6,
   "metadata": {
    "execution": {
     "iopub.execute_input": "2023-11-19T17:50:54.135784Z",
     "iopub.status.busy": "2023-11-19T17:50:54.133917Z",
     "iopub.status.idle": "2023-11-19T17:50:54.841109Z",
     "shell.execute_reply": "2023-11-19T17:50:54.839631Z"
    }
   },
   "outputs": [],
   "source": [
    "suppressMessages(library(memisc))"
   ]
  },
  {
   "cell_type": "code",
   "execution_count": 7,
   "metadata": {
    "execution": {
     "iopub.execute_input": "2023-11-19T17:50:54.844633Z",
     "iopub.status.busy": "2023-11-19T17:50:54.843186Z",
     "iopub.status.idle": "2023-11-19T17:50:55.113977Z",
     "shell.execute_reply": "2023-11-19T17:50:55.112461Z"
    }
   },
   "outputs": [],
   "source": [
    "bes2010flngs_pre_long <- withinGroups(bes2010flngs_pre_long,\n",
    "                                      ~id,{\n",
    "     rel.flng.parties <- flng.parties - Mean(flng.parties)\n",
    "     rel.flng.leaders <- flng.leaders - Mean(flng.leaders)\n",
    "    })"
   ]
  },
  {
   "cell_type": "markdown",
   "metadata": {},
   "source": [
    "We use 'head' to look at the first 14 elements of the re-combined data frame:"
   ]
  },
  {
   "cell_type": "code",
   "execution_count": 8,
   "metadata": {
    "execution": {
     "iopub.execute_input": "2023-11-19T17:50:55.117195Z",
     "iopub.status.busy": "2023-11-19T17:50:55.116048Z",
     "iopub.status.idle": "2023-11-19T17:50:55.130010Z",
     "shell.execute_reply": "2023-11-19T17:50:55.128578Z"
    }
   },
   "outputs": [
    {
     "data": {
      "text/plain": [
       "               flng.leaders flng.parties id rel.flng.leaders rel.flng.parties\n",
       "1.Conservative  3            6           1  -1.25             1.8333333      \n",
       "1.Labour        6            5           1   1.75             0.8333333      \n",
       "1.LibDem        3            4           1  -1.25            -0.1666667      \n",
       "1.SNP          NA           NA           1     NA                    NA      \n",
       "1.Plaid Cymru   5           NA           1   0.75                    NA      \n",
       "1.Green        NA            7           1     NA             2.8333333      \n",
       "1.UKIP         NA            3           1     NA            -1.1666667      \n",
       "1.BNP          NA            0           1     NA            -4.1666667      \n",
       "2.Conservative  7            6           2   2.50             2.6666667      \n",
       "2.Labour        3            1           2  -1.50            -2.3333333      \n",
       "2.LibDem        5            7           2   0.50             3.6666667      \n",
       "2.SNP          NA           NA           2     NA                    NA      \n",
       "2.Plaid Cymru   3           NA           2  -1.50                    NA      \n",
       "2.Green        NA            6           2     NA             2.6666667      "
      ]
     },
     "metadata": {},
     "output_type": "display_data"
    }
   ],
   "source": [
    "head(bes2010flngs_pre_long[-(1:2)],n=14)"
   ]
  }
 ],
 "metadata": {
  "jupytext": {
   "cell_metadata_filter": "-all"
  },
  "kernelspec": {
   "display_name": "R (IRkernel)",
   "language": "R",
   "name": "ir"
  },
  "language_info": {
   "codemirror_mode": "r",
   "file_extension": ".r",
   "mimetype": "text/x-r-source",
   "name": "R",
   "pygments_lexer": "r",
   "version": "4.3.2"
  }
 },
 "nbformat": 4,
 "nbformat_minor": 4
}
