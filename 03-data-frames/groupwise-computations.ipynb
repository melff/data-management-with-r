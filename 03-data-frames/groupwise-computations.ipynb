{
 "cells": [
  {
   "cell_type": "markdown",
   "metadata": {},
   "source": [
    "# Groupwise computations within data frames"
   ]
  },
  {
   "cell_type": "markdown",
   "metadata": {},
   "source": [
    "Here we use data from the British Election Study 2010. The data set [bes2010feelings-pre-long.RData](https://github.com/melff/dataman-r/raw/main/data-frames/bes2010feelings-pre-long.RData) is prepared from the original available at https://www.britishelectionstudy.com/data-object/2010-bes-cross-section/ by removing identifying information and scrambling the data."
   ]
  },
  {
   "cell_type": "code",
   "execution_count": null,
   "metadata": {},
   "outputs": [],
   "source": [
    "load(\"bes2010feelings-pre-long.RData\")"
   ]
  },
  {
   "cell_type": "markdown",
   "metadata": {},
   "source": [
    "Groupwise computations using `split()`:"
   ]
  },
  {
   "cell_type": "code",
   "execution_count": null,
   "metadata": {},
   "outputs": [],
   "source": [
    "bes2010flngs_pre_long.splt <- split(bes2010flngs_pre_long,\n",
    "                                    bes2010flngs_pre_long$id)\n",
    "\n",
    "str(bes2010flngs_pre_long.splt[[1]])"
   ]
  },
  {
   "cell_type": "code",
   "execution_count": null,
   "metadata": {},
   "outputs": [],
   "source": [
    "Mean <- function(x,...) mean(x,...,na.rm=TRUE)"
   ]
  },
  {
   "cell_type": "code",
   "execution_count": null,
   "metadata": {},
   "outputs": [],
   "source": [
    "bes2010flngs_pre_long.splt <- lapply(\n",
    "    bes2010flngs_pre_long.splt,\n",
    "    within,expr={\n",
    "        rel.flng.parties <- flng.parties - Mean(flng.parties)\n",
    "        rel.flng.leaders <- flng.leaders - Mean(flng.leaders)\n",
    "    })\n",
    "\n",
    "str(bes2010flngs_pre_long.splt[[1]])"
   ]
  },
  {
   "cell_type": "code",
   "execution_count": null,
   "metadata": {},
   "outputs": [],
   "source": [
    "bes2010flngs_pre_long <- unsplit(bes2010flngs_pre_long.splt,\n",
    "                                 bes2010flngs_pre_long$id)\n",
    "str(bes2010flngs_pre_long)"
   ]
  },
  {
   "cell_type": "markdown",
   "metadata": {},
   "source": [
    "Groupwise computations using `withinGroups()` from the package *memisc*. You may need to install this package using `install.packages(\"memisc\")` from \n",
    "[CRAN](https://cran.r-project.org/package=memisc) if you want to run this on your computer. (The package is already installed on the notebook container, however.)"
   ]
  },
  {
   "cell_type": "code",
   "execution_count": null,
   "metadata": {},
   "outputs": [],
   "source": [
    "library(memisc)"
   ]
  },
  {
   "cell_type": "code",
   "execution_count": null,
   "metadata": {},
   "outputs": [],
   "source": [
    "bes2010flngs_pre_long <- withinGroups(bes2010flngs_pre_long,\n",
    "                                      ~id,{\n",
    "     rel.flng.parties <- flng.parties - Mean(flng.parties)\n",
    "     rel.flng.leaders <- flng.leaders - Mean(flng.leaders)\n",
    "    })"
   ]
  },
  {
   "cell_type": "markdown",
   "metadata": {},
   "source": [
    "We use 'head' to look at the first 14 elements of the re-combined data frame:"
   ]
  },
  {
   "cell_type": "code",
   "execution_count": null,
   "metadata": {},
   "outputs": [],
   "source": [
    "head(bes2010flngs_pre_long[-(1:2)],n=14)"
   ]
  }
 ],
 "metadata": {
  "kernelspec": {
   "display_name": "R",
   "language": "R",
   "name": "ir"
  },
  "language_info": {
   "codemirror_mode": "r",
   "file_extension": ".r",
   "mimetype": "text/x-r-source",
   "name": "R",
   "pygments_lexer": "r",
   "version": "4.0.5"
  }
 },
 "nbformat": 4,
 "nbformat_minor": 4
}
