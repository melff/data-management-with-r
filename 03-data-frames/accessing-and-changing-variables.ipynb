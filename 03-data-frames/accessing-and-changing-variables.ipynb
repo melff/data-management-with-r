{
 "cells": [
  {
   "cell_type": "markdown",
   "metadata": {},
   "source": [
    "# Accessing and changing variables"
   ]
  },
  {
   "cell_type": "markdown",
   "metadata": {},
   "source": [
    "Here we use data from the British Election Study 2010. The data set [bes2010feelings-prepost.RData](https://github.com/melff/dataman-r/raw/main/03-data-frames/bes2010feelings-prepost.RData) is prepared from the original available at https://www.britishelectionstudy.com/data-object/2010-bes-cross-section/ by removing identifying information and scrambling the data."
   ]
  },
  {
   "cell_type": "code",
   "execution_count": 1,
   "metadata": {
    "execution": {
     "iopub.execute_input": "2023-11-19T17:29:01.008144Z",
     "iopub.status.busy": "2023-11-19T17:29:01.005545Z",
     "iopub.status.idle": "2023-11-19T17:29:01.022507Z",
     "shell.execute_reply": "2023-11-19T17:29:01.019781Z"
    }
   },
   "outputs": [],
   "source": [
    "load(\"bes2010feelings-prepost.RData\")"
   ]
  },
  {
   "cell_type": "markdown",
   "metadata": {},
   "source": [
    "## `with()` versus `attach()`"
   ]
  },
  {
   "cell_type": "code",
   "execution_count": 2,
   "metadata": {
    "execution": {
     "iopub.execute_input": "2023-11-19T17:29:02.285823Z",
     "iopub.status.busy": "2023-11-19T17:29:02.252984Z",
     "iopub.status.idle": "2023-11-19T17:29:02.386243Z",
     "shell.execute_reply": "2023-11-19T17:29:02.383514Z"
    }
   },
   "outputs": [
    {
     "data": {
      "text/plain": [
       "   Brown  Cameron    Clegg  Salmond    Jones \n",
       "4.339703 5.090708 4.557366 4.505660 4.235949 "
      ]
     },
     "execution_count": 2,
     "metadata": {},
     "output_type": "execute_result"
    }
   ],
   "source": [
    "c(\n",
    "    Brown   = mean(bes2010flngs_pre$flng.brown,na.rm=TRUE),\n",
    "    Cameron = mean(bes2010flngs_pre$flng.cameron,na.rm=TRUE),\n",
    "    Clegg   = mean(bes2010flngs_pre$flng.clegg,na.rm=TRUE),\n",
    "    Salmond = mean(bes2010flngs_pre$flng.salmond,na.rm=TRUE),\n",
    "    Jones   = mean(bes2010flngs_pre$flng.jones,na.rm=TRUE)\n",
    ")"
   ]
  },
  {
   "cell_type": "code",
   "execution_count": 3,
   "metadata": {
    "execution": {
     "iopub.execute_input": "2023-11-19T17:29:02.892423Z",
     "iopub.status.busy": "2023-11-19T17:29:02.889261Z",
     "iopub.status.idle": "2023-11-19T17:29:02.901855Z",
     "shell.execute_reply": "2023-11-19T17:29:02.899277Z"
    }
   },
   "outputs": [],
   "source": [
    "## Here we define a convenience function.\n",
    "Mean <- function(x,...) mean(x,na.rm=TRUE,...)"
   ]
  },
  {
   "cell_type": "code",
   "execution_count": 4,
   "metadata": {
    "execution": {
     "iopub.execute_input": "2023-11-19T17:29:03.294921Z",
     "iopub.status.busy": "2023-11-19T17:29:03.291671Z",
     "iopub.status.idle": "2023-11-19T17:29:03.312741Z",
     "shell.execute_reply": "2023-11-19T17:29:03.309819Z"
    }
   },
   "outputs": [
    {
     "data": {
      "text/plain": [
       "   Brown  Cameron    Clegg  Salmond    Jones \n",
       "4.339703 5.090708 4.557366 4.505660 4.235949 "
      ]
     },
     "execution_count": 4,
     "metadata": {},
     "output_type": "execute_result"
    }
   ],
   "source": [
    "## Use of 'attach'\n",
    "\n",
    "# The following code shows how the use of 'attach' can lead to confusion\n",
    "attach(bes2010flngs_pre)\n",
    "c(\n",
    "    Brown   = Mean(flng.brown),\n",
    "    Cameron = Mean(flng.cameron),\n",
    "    Clegg   = Mean(flng.clegg),\n",
    "    Salmond = Mean(flng.salmond),\n",
    "    Jones   = Mean(flng.jones)\n",
    ")"
   ]
  },
  {
   "cell_type": "code",
   "execution_count": 5,
   "metadata": {
    "execution": {
     "iopub.execute_input": "2023-11-19T17:29:03.974912Z",
     "iopub.status.busy": "2023-11-19T17:29:03.972261Z",
     "iopub.status.idle": "2023-11-19T17:29:03.993574Z",
     "shell.execute_reply": "2023-11-19T17:29:03.990916Z"
    }
   },
   "outputs": [
    {
     "name": "stdout",
     "output_type": "stream",
     "text": [
      "Die folgenden Objekte sind maskiert von bes2010flngs_pre:\n",
      "\n",
      "    flng.bnp, flng.brown, flng.cameron, flng.clegg, flng.cons,\n",
      "    flng.green, flng.jones, flng.labour, flng.libdem, flng.pcym,\n",
      "    flng.salmond, flng.snp, flng.ukip, region\n",
      "\n"
     ]
    },
    {
     "data": {
      "text/plain": [
       "   Brown  Cameron    Clegg  Salmond    Jones \n",
       "4.448116 5.206120 5.001756 4.228707 4.509317 "
      ]
     },
     "execution_count": 5,
     "metadata": {},
     "output_type": "execute_result"
    }
   ],
   "source": [
    "attach(bes2010flngs_post)\n",
    "c(\n",
    "    Brown   = Mean(flng.brown),\n",
    "    Cameron = Mean(flng.cameron),\n",
    "    Clegg   = Mean(flng.clegg),\n",
    "    Salmond = Mean(flng.salmond),\n",
    "    Jones   = Mean(flng.jones)\n",
    ")"
   ]
  },
  {
   "cell_type": "code",
   "execution_count": 6,
   "metadata": {
    "execution": {
     "iopub.execute_input": "2023-11-19T17:29:04.560438Z",
     "iopub.status.busy": "2023-11-19T17:29:04.557853Z",
     "iopub.status.idle": "2023-11-19T17:29:04.567712Z",
     "shell.execute_reply": "2023-11-19T17:29:04.564569Z"
    }
   },
   "outputs": [],
   "source": [
    "detach(bes2010flngs_post)"
   ]
  },
  {
   "cell_type": "code",
   "execution_count": 7,
   "metadata": {
    "execution": {
     "iopub.execute_input": "2023-11-19T17:29:05.225818Z",
     "iopub.status.busy": "2023-11-19T17:29:05.223236Z",
     "iopub.status.idle": "2023-11-19T17:29:05.239576Z",
     "shell.execute_reply": "2023-11-19T17:29:05.236889Z"
    }
   },
   "outputs": [
    {
     "data": {
      "text/plain": [
       "   Brown  Cameron    Clegg  Salmond    Jones \n",
       "4.339703 5.090708 4.557366 4.505660 4.235949 "
      ]
     },
     "execution_count": 7,
     "metadata": {},
     "output_type": "execute_result"
    }
   ],
   "source": [
    "c(\n",
    "    Brown   = Mean(flng.brown),\n",
    "    Cameron = Mean(flng.cameron),\n",
    "    Clegg   = Mean(flng.clegg),\n",
    "    Salmond = Mean(flng.salmond),\n",
    "    Jones   = Mean(flng.jones)\n",
    ")"
   ]
  },
  {
   "cell_type": "code",
   "execution_count": 8,
   "metadata": {
    "execution": {
     "iopub.execute_input": "2023-11-19T17:29:06.955713Z",
     "iopub.status.busy": "2023-11-19T17:29:06.953292Z",
     "iopub.status.idle": "2023-11-19T17:29:06.963335Z",
     "shell.execute_reply": "2023-11-19T17:29:06.960109Z"
    }
   },
   "outputs": [],
   "source": [
    "detach(bes2010flngs_pre)"
   ]
  },
  {
   "cell_type": "code",
   "execution_count": 9,
   "metadata": {
    "execution": {
     "iopub.execute_input": "2023-11-19T17:29:07.978202Z",
     "iopub.status.busy": "2023-11-19T17:29:07.975210Z",
     "iopub.status.idle": "2023-11-19T17:29:07.992274Z",
     "shell.execute_reply": "2023-11-19T17:29:07.989421Z"
    }
   },
   "outputs": [
    {
     "data": {
      "text/plain": [
       "   Brown  Cameron    Clegg  Salmond    Jones \n",
       "4.339703 5.090708 4.557366 4.505660 4.235949 "
      ]
     },
     "execution_count": 9,
     "metadata": {},
     "output_type": "execute_result"
    }
   ],
   "source": [
    "# 'with()' is a better alternative, because it is clear where the data in the varialbes come from:\n",
    "\n",
    "with(bes2010flngs_pre,c(\n",
    "    Brown   = Mean(flng.brown),\n",
    "    Cameron = Mean(flng.cameron),\n",
    "    Clegg   = Mean(flng.clegg),\n",
    "    Salmond = Mean(flng.salmond),\n",
    "    Jones   = Mean(flng.jones)\n",
    "))"
   ]
  },
  {
   "cell_type": "code",
   "execution_count": 10,
   "metadata": {
    "execution": {
     "iopub.execute_input": "2023-11-19T17:29:09.041842Z",
     "iopub.status.busy": "2023-11-19T17:29:09.039286Z",
     "iopub.status.idle": "2023-11-19T17:29:09.056038Z",
     "shell.execute_reply": "2023-11-19T17:29:09.052468Z"
    }
   },
   "outputs": [
    {
     "data": {
      "text/plain": [
       "   Brown  Cameron    Clegg  Salmond    Jones \n",
       "4.448116 5.206120 5.001756 4.228707 4.509317 "
      ]
     },
     "execution_count": 10,
     "metadata": {},
     "output_type": "execute_result"
    }
   ],
   "source": [
    "with(bes2010flngs_post,c(\n",
    "    Brown   = Mean(flng.brown),\n",
    "    Cameron = Mean(flng.cameron),\n",
    "    Clegg   = Mean(flng.clegg),\n",
    "    Salmond = Mean(flng.salmond),\n",
    "    Jones   = Mean(flng.jones)\n",
    "))"
   ]
  },
  {
   "cell_type": "markdown",
   "metadata": {},
   "source": [
    "## Changing variables within a data frame "
   ]
  },
  {
   "cell_type": "code",
   "execution_count": 11,
   "metadata": {
    "execution": {
     "iopub.execute_input": "2023-11-19T17:29:11.115167Z",
     "iopub.status.busy": "2023-11-19T17:29:11.109927Z",
     "iopub.status.idle": "2023-11-19T17:29:11.127744Z",
     "shell.execute_reply": "2023-11-19T17:29:11.123401Z"
    }
   },
   "outputs": [],
   "source": [
    "bes2010flngs_pre <- within(bes2010flngs_pre,{\n",
    "    ave_flng <- (flng.brown + flng.cameron + flng.clegg)/3\n",
    "    rel_flng.brown   <- flng.brown - ave_flng\n",
    "    rel_flng.cameron <- flng.cameron - ave_flng\n",
    "    rel_flng.clegg   <- flng.clegg - ave_flng\n",
    "})"
   ]
  },
  {
   "cell_type": "code",
   "execution_count": 12,
   "metadata": {
    "execution": {
     "iopub.execute_input": "2023-11-19T17:29:12.222357Z",
     "iopub.status.busy": "2023-11-19T17:29:12.219915Z",
     "iopub.status.idle": "2023-11-19T17:29:12.232905Z",
     "shell.execute_reply": "2023-11-19T17:29:12.230250Z"
    }
   },
   "outputs": [
    {
     "data": {
      "text/plain": [
       "     Brown    Cameron      Clegg \n",
       "-0.3960328  0.5068399 -0.1108071 "
      ]
     },
     "execution_count": 12,
     "metadata": {},
     "output_type": "execute_result"
    }
   ],
   "source": [
    "with(bes2010flngs_pre,c(\n",
    "    Brown   = Mean(rel_flng.brown),\n",
    "    Cameron = Mean(rel_flng.cameron),\n",
    "    Clegg   = Mean(rel_flng.clegg)\n",
    "))"
   ]
  },
  {
   "cell_type": "code",
   "execution_count": 13,
   "metadata": {
    "execution": {
     "iopub.execute_input": "2023-11-19T17:29:13.224737Z",
     "iopub.status.busy": "2023-11-19T17:29:13.222100Z",
     "iopub.status.idle": "2023-11-19T17:29:13.233059Z",
     "shell.execute_reply": "2023-11-19T17:29:13.230344Z"
    }
   },
   "outputs": [],
   "source": [
    "# It is also possible without 'within()' but this is terribly tedious:\n",
    "bes2010flngs_pre$ave_flng <- (bes2010flngs_pre$flng.brown +\n",
    "                              bes2010flngs_pre$flng.cameron +\n",
    "                              bes2010flngs_pre$flng.clegg)/3\n",
    "bes2010flngs_pre$rel_flng.brown   <- (bes2010flngs_pre$flng.brown\n",
    "                                      - bes2010flngs_pre$ave_flng)\n",
    "bes2010flngs_pre$rel_flng.cameron <- (bes2010flngs_pre$flng.cameron\n",
    "                                      - bes2010flngs_pre$ave_flng)\n",
    "bes2010flngs_pre$rel_flng.clegg   <- (bes2010flngs_pre$flng.clegg\n",
    "                                      - bes2010flngs_pre$ave_flng)"
   ]
  },
  {
   "cell_type": "code",
   "execution_count": 14,
   "metadata": {
    "execution": {
     "iopub.execute_input": "2023-11-19T17:29:14.192424Z",
     "iopub.status.busy": "2023-11-19T17:29:14.189841Z",
     "iopub.status.idle": "2023-11-19T17:29:14.203434Z",
     "shell.execute_reply": "2023-11-19T17:29:14.200702Z"
    }
   },
   "outputs": [
    {
     "data": {
      "text/plain": [
       "     Brown    Cameron      Clegg \n",
       "-0.3960328  0.5068399 -0.1108071 "
      ]
     },
     "execution_count": 14,
     "metadata": {},
     "output_type": "execute_result"
    }
   ],
   "source": [
    "with(bes2010flngs_pre,c(\n",
    "    Brown   = Mean(rel_flng.brown),\n",
    "    Cameron = Mean(rel_flng.cameron),\n",
    "    Clegg   = Mean(rel_flng.clegg)\n",
    "))"
   ]
  }
 ],
 "metadata": {
  "jupytext": {
   "cell_metadata_filter": "-all"
  },
  "kernelspec": {
   "display_name": "R (RKernel)",
   "language": "R",
   "name": "rkernel"
  },
  "language_info": {
   "codemirror_mode": "R",
   "file_extension": ".R",
   "mimetype": "text/x-r-source",
   "name": "R",
   "pygments_lexer": "r",
   "version": "4.3.2"
  },
  "toc": {
   "base_numbering": 1,
   "nav_menu": {},
   "number_sections": false,
   "sideBar": true,
   "skip_h1_title": false,
   "title_cell": "Table of Contents",
   "title_sidebar": "Contents",
   "toc_cell": false,
   "toc_position": {},
   "toc_section_display": true,
   "toc_window_display": false
  }
 },
 "nbformat": 4,
 "nbformat_minor": 4
}
