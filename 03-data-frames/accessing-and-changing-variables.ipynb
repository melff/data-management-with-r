{
 "cells": [
  {
   "cell_type": "markdown",
   "metadata": {},
   "source": [
    "# Accessing and changing variables"
   ]
  },
  {
   "cell_type": "markdown",
   "metadata": {},
   "source": [
    "Here we use data from the British Election Study 2010. The data set [bes2010feelings-prepost.RData](https://github.com/melff/dataman-r/raw/main/data-frames/bes2010feelings-prepost.RData) is prepared from the original available at https://www.britishelectionstudy.com/data-object/2010-bes-cross-section/ by removing identifying information and scrambling the data."
   ]
  },
  {
   "cell_type": "code",
   "execution_count": null,
   "metadata": {},
   "outputs": [],
   "source": [
    "load(\"bes2010feelings-prepost.RData\")"
   ]
  },
  {
   "cell_type": "markdown",
   "metadata": {},
   "source": [
    "## `with()` versus `attach()`"
   ]
  },
  {
   "cell_type": "code",
   "execution_count": null,
   "metadata": {},
   "outputs": [],
   "source": [
    "c(\n",
    "    Brown   = mean(bes2010flngs_pre$flng.brown,na.rm=TRUE),\n",
    "    Cameron = mean(bes2010flngs_pre$flng.cameron,na.rm=TRUE),\n",
    "    Clegg   = mean(bes2010flngs_pre$flng.clegg,na.rm=TRUE),\n",
    "    Salmond = mean(bes2010flngs_pre$flng.salmond,na.rm=TRUE),\n",
    "    Jones   = mean(bes2010flngs_pre$flng.jones,na.rm=TRUE)\n",
    ")"
   ]
  },
  {
   "cell_type": "code",
   "execution_count": null,
   "metadata": {},
   "outputs": [],
   "source": [
    "## Here we define a convenience function.\n",
    "Mean <- function(x,...) mean(x,na.rm=TRUE,...)"
   ]
  },
  {
   "cell_type": "code",
   "execution_count": null,
   "metadata": {},
   "outputs": [],
   "source": [
    "## Use of 'attach'\n",
    "\n",
    "# The following code shows how the use of 'attach' can lead to confusion\n",
    "attach(bes2010flngs_pre)\n",
    "c(\n",
    "    Brown   = Mean(flng.brown),\n",
    "    Cameron = Mean(flng.cameron),\n",
    "    Clegg   = Mean(flng.clegg),\n",
    "    Salmond = Mean(flng.salmond),\n",
    "    Jones   = Mean(flng.jones)\n",
    ")"
   ]
  },
  {
   "cell_type": "code",
   "execution_count": null,
   "metadata": {},
   "outputs": [],
   "source": [
    "attach(bes2010flngs_post)\n",
    "c(\n",
    "    Brown   = Mean(flng.brown),\n",
    "    Cameron = Mean(flng.cameron),\n",
    "    Clegg   = Mean(flng.clegg),\n",
    "    Salmond = Mean(flng.salmond),\n",
    "    Jones   = Mean(flng.jones)\n",
    ")"
   ]
  },
  {
   "cell_type": "code",
   "execution_count": null,
   "metadata": {},
   "outputs": [],
   "source": [
    "detach(bes2010flngs_post)"
   ]
  },
  {
   "cell_type": "code",
   "execution_count": null,
   "metadata": {},
   "outputs": [],
   "source": [
    "c(\n",
    "    Brown   = Mean(flng.brown),\n",
    "    Cameron = Mean(flng.cameron),\n",
    "    Clegg   = Mean(flng.clegg),\n",
    "    Salmond = Mean(flng.salmond),\n",
    "    Jones   = Mean(flng.jones)\n",
    ")"
   ]
  },
  {
   "cell_type": "code",
   "execution_count": null,
   "metadata": {},
   "outputs": [],
   "source": [
    "detach(bes2010flngs_pre)"
   ]
  },
  {
   "cell_type": "code",
   "execution_count": null,
   "metadata": {},
   "outputs": [],
   "source": [
    "# 'with()' is a better alternative, because it is clear where the data in the varialbes come from:\n",
    "\n",
    "with(bes2010flngs_pre,c(\n",
    "    Brown   = Mean(flng.brown),\n",
    "    Cameron = Mean(flng.cameron),\n",
    "    Clegg   = Mean(flng.clegg),\n",
    "    Salmond = Mean(flng.salmond),\n",
    "    Jones   = Mean(flng.jones)\n",
    "))"
   ]
  },
  {
   "cell_type": "code",
   "execution_count": null,
   "metadata": {},
   "outputs": [],
   "source": [
    "with(bes2010flngs_post,c(\n",
    "    Brown   = Mean(flng.brown),\n",
    "    Cameron = Mean(flng.cameron),\n",
    "    Clegg   = Mean(flng.clegg),\n",
    "    Salmond = Mean(flng.salmond),\n",
    "    Jones   = Mean(flng.jones)\n",
    "))"
   ]
  },
  {
   "cell_type": "markdown",
   "metadata": {},
   "source": [
    "## Changing variables within a data frame "
   ]
  },
  {
   "cell_type": "code",
   "execution_count": null,
   "metadata": {},
   "outputs": [],
   "source": [
    "bes2010flngs_pre <- within(bes2010flngs_pre,{\n",
    "    ave_flng <- (flng.brown + flng.cameron + flng.clegg)/3\n",
    "    rel_flng.brown   <- flng.brown - ave_flng\n",
    "    rel_flng.cameron <- flng.cameron - ave_flng\n",
    "    rel_flng.clegg   <- flng.clegg - ave_flng\n",
    "})"
   ]
  },
  {
   "cell_type": "code",
   "execution_count": null,
   "metadata": {},
   "outputs": [],
   "source": [
    "with(bes2010flngs_pre,c(\n",
    "    Brown   = Mean(rel_flng.brown),\n",
    "    Cameron = Mean(rel_flng.cameron),\n",
    "    Clegg   = Mean(rel_flng.clegg)\n",
    "))"
   ]
  },
  {
   "cell_type": "code",
   "execution_count": null,
   "metadata": {},
   "outputs": [],
   "source": [
    "# It is also possible without 'within()' but this is terribly tedious:\n",
    "bes2010flngs_pre$ave_flng <- (bes2010flngs_pre$flng.brown +\n",
    "                              bes2010flngs_pre$flng.cameron +\n",
    "                              bes2010flngs_pre$flng.clegg)/3\n",
    "bes2010flngs_pre$rel_flng.brown   <- (bes2010flngs_pre$flng.brown\n",
    "                                      - bes2010flngs_pre$ave_flng)\n",
    "bes2010flngs_pre$rel_flng.cameron <- (bes2010flngs_pre$flng.cameron\n",
    "                                      - bes2010flngs_pre$ave_flng)\n",
    "bes2010flngs_pre$rel_flng.clegg   <- (bes2010flngs_pre$flng.clegg\n",
    "                                      - bes2010flngs_pre$ave_flng)"
   ]
  },
  {
   "cell_type": "code",
   "execution_count": null,
   "metadata": {},
   "outputs": [],
   "source": [
    "with(bes2010flngs_pre,c(\n",
    "    Brown   = Mean(rel_flng.brown),\n",
    "    Cameron = Mean(rel_flng.cameron),\n",
    "    Clegg   = Mean(rel_flng.clegg)\n",
    "))"
   ]
  }
 ],
 "metadata": {
  "kernelspec": {
   "display_name": "R",
   "language": "R",
   "name": "ir"
  },
  "language_info": {
   "codemirror_mode": "r",
   "file_extension": ".r",
   "mimetype": "text/x-r-source",
   "name": "R",
   "pygments_lexer": "r",
   "version": "4.0.5"
  }
 },
 "nbformat": 4,
 "nbformat_minor": 4
}
