{
 "cells": [
  {
   "cell_type": "markdown",
   "metadata": {},
   "source": [
    "# Creating subsets of data frames"
   ]
  },
  {
   "cell_type": "markdown",
   "metadata": {},
   "source": [
    "Here we use data from the British Election Study 2010. The data set [bes2010feelings-prepost.RData](https://github.com/melff/dataman-r/raw/main/03-data-frames/bes2010feelings-prepost.RData) is prepared from the original available at https://www.britishelectionstudy.com/data-object/2010-bes-cross-section/ by removing identifying information and scrambling the data."
   ]
  },
  {
   "cell_type": "code",
   "execution_count": 1,
   "metadata": {
    "execution": {
     "iopub.execute_input": "2023-11-19T17:30:48.178071Z",
     "iopub.status.busy": "2023-11-19T17:30:48.175204Z",
     "iopub.status.idle": "2023-11-19T17:30:48.194048Z",
     "shell.execute_reply": "2023-11-19T17:30:48.191220Z"
    }
   },
   "outputs": [],
   "source": [
    "load(\"bes2010feelings-prepost.RData\")"
   ]
  },
  {
   "cell_type": "markdown",
   "metadata": {},
   "source": [
    "We then create a subset with only observations from Scotland\n",
    "and with parties and party leaders that run in Scotland:"
   ]
  },
  {
   "cell_type": "code",
   "execution_count": 2,
   "metadata": {
    "execution": {
     "iopub.execute_input": "2023-11-19T17:30:48.230791Z",
     "iopub.status.busy": "2023-11-19T17:30:48.198592Z",
     "iopub.status.idle": "2023-11-19T17:30:48.331602Z",
     "shell.execute_reply": "2023-11-19T17:30:48.328752Z"
    }
   },
   "outputs": [],
   "source": [
    "bes2010flngs_pre_scotland <- subset(bes2010flngs_pre,\n",
    "                                    region==\"Scotland\",\n",
    "                                    select=c(\n",
    "                                        flng.brown,\n",
    "                                        flng.cameron,\n",
    "                                        flng.clegg,\n",
    "                                        flng.salmond,\n",
    "                                        flng.labour,\n",
    "                                        flng.cons,\n",
    "                                        flng.libdem,\n",
    "                                        flng.snp,\n",
    "                                        flng.green))"
   ]
  },
  {
   "cell_type": "markdown",
   "metadata": {},
   "source": [
    "We can now compare the avarage feeling about Gordon Brown\n",
    "in the whole sample and in the subsample from Scotland:\n",
    "First the whole UK:"
   ]
  },
  {
   "cell_type": "code",
   "execution_count": 3,
   "metadata": {
    "execution": {
     "iopub.execute_input": "2023-11-19T17:30:48.338764Z",
     "iopub.status.busy": "2023-11-19T17:30:48.336070Z",
     "iopub.status.idle": "2023-11-19T17:30:48.350207Z",
     "shell.execute_reply": "2023-11-19T17:30:48.347446Z"
    }
   },
   "outputs": [
    {
     "data": {
      "text/plain": [
       "[1] 4.339703"
      ]
     },
     "execution_count": 3,
     "metadata": {},
     "output_type": "execute_result"
    }
   ],
   "source": [
    "with(bes2010flngs_pre,mean(flng.brown,na.rm=TRUE))"
   ]
  },
  {
   "cell_type": "markdown",
   "metadata": {},
   "source": [
    "then the Scotland subsample:"
   ]
  },
  {
   "cell_type": "code",
   "execution_count": 4,
   "metadata": {
    "execution": {
     "iopub.execute_input": "2023-11-19T17:30:48.359765Z",
     "iopub.status.busy": "2023-11-19T17:30:48.357396Z",
     "iopub.status.idle": "2023-11-19T17:30:48.372550Z",
     "shell.execute_reply": "2023-11-19T17:30:48.367924Z"
    }
   },
   "outputs": [
    {
     "data": {
      "text/plain": [
       "[1] 5.395"
      ]
     },
     "execution_count": 4,
     "metadata": {},
     "output_type": "execute_result"
    }
   ],
   "source": [
    "with(bes2010flngs_pre_scotland,mean(flng.brown,na.rm=TRUE))"
   ]
  },
  {
   "cell_type": "markdown",
   "metadata": {},
   "source": [
    "It is also possible to create a subset of cases and variables with the\n",
    "bracket operator, but this is pretty tedious:"
   ]
  },
  {
   "cell_type": "code",
   "execution_count": 5,
   "metadata": {
    "execution": {
     "iopub.execute_input": "2023-11-19T17:30:48.380278Z",
     "iopub.status.busy": "2023-11-19T17:30:48.377849Z",
     "iopub.status.idle": "2023-11-19T17:30:48.390016Z",
     "shell.execute_reply": "2023-11-19T17:30:48.387319Z"
    }
   },
   "outputs": [],
   "source": [
    "bes2010flngs_pre_scotland <- bes2010flngs_pre[\n",
    "    bes2010flngs_pre$region==\"Scotland\",c(\n",
    "                             \"flng.labour\",\n",
    "                             \"flng.cons\",\n",
    "                             \"flng.libdem\",\n",
    "                             \"flng.snp\",\n",
    "                             \"flng.green\",\n",
    "                             \"flng.brown\",\n",
    "                             \"flng.cameron\",\n",
    "                             \"flng.clegg\",\n",
    "                             \"flng.salmond\")]"
   ]
  },
  {
   "cell_type": "code",
   "execution_count": 6,
   "metadata": {
    "execution": {
     "iopub.execute_input": "2023-11-19T17:30:48.396748Z",
     "iopub.status.busy": "2023-11-19T17:30:48.394342Z",
     "iopub.status.idle": "2023-11-19T17:30:48.409947Z",
     "shell.execute_reply": "2023-11-19T17:30:48.406863Z"
    }
   },
   "outputs": [
    {
     "data": {
      "text/plain": [
       "[1] 5.395"
      ]
     },
     "execution_count": 6,
     "metadata": {},
     "output_type": "execute_result"
    }
   ],
   "source": [
    "with(bes2010flngs_pre_scotland,mean(flng.brown,na.rm=TRUE))"
   ]
  }
 ],
 "metadata": {
  "jupytext": {
   "cell_metadata_filter": "-all"
  },
  "kernelspec": {
   "display_name": "R (RKernel)",
   "language": "R",
   "name": "rkernel"
  },
  "language_info": {
   "codemirror_mode": "R",
   "file_extension": ".R",
   "mimetype": "text/x-r-source",
   "name": "R",
   "pygments_lexer": "r",
   "version": "4.3.2"
  }
 },
 "nbformat": 4,
 "nbformat_minor": 4
}
