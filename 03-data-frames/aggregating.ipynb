{
 "cells": [
  {
   "cell_type": "markdown",
   "metadata": {},
   "source": [
    "# Aggregating data frames"
   ]
  },
  {
   "cell_type": "code",
   "execution_count": null,
   "metadata": {},
   "outputs": [],
   "source": [
    "options(jupyter.rich_display=FALSE) # Create output as usual in R"
   ]
  },
  {
   "cell_type": "markdown",
   "metadata": {},
   "source": [
    "In the following we aggregate data from the British Election Study 2010. The data set [bes2010feelings.RData](https://github.com/melff/dataman-r/raw/main/data-frames/bes2010feelings.RData) is prepared from the original available at https://www.britishelectionstudy.com/data-object/2010-bes-cross-section/ by removing identifying information and scrambling the data."
   ]
  },
  {
   "cell_type": "code",
   "execution_count": null,
   "metadata": {},
   "outputs": [],
   "source": [
    "load(\"bes2010feelings.RData\")"
   ]
  },
  {
   "cell_type": "markdown",
   "metadata": {},
   "source": [
    "Here we obtain the average affects towards the major three parties, using an\n",
    "'old-style' call of the function `aggregate()`."
   ]
  },
  {
   "cell_type": "code",
   "execution_count": null,
   "metadata": {},
   "outputs": [],
   "source": [
    "Mean <- function(x,...)mean(x,...,na.rm=TRUE)\n",
    "aggregate(bes2010feelings[c(\"flng.brown\",\"flng.cameron\",\n",
    "                            \"flng.clegg\",\"flng.salmond\")],\n",
    "          with(bes2010feelings,\n",
    "               list(Region=region,Wave=wave)),\n",
    "          Mean)"
   ]
  },
  {
   "cell_type": "markdown",
   "metadata": {},
   "source": [
    "More recent versions of R also provide a slightly more convenient way of\n",
    "calling `aggregate()` using a formula argument:"
   ]
  },
  {
   "cell_type": "code",
   "execution_count": null,
   "metadata": {},
   "outputs": [],
   "source": [
    "aggregate(cbind(flng.brown,\n",
    "                flng.cameron,\n",
    "                flng.clegg,\n",
    "                flng.salmond\n",
    "                )~region+wave,\n",
    "          data=bes2010feelings,\n",
    "          Mean)"
   ]
  },
  {
   "cell_type": "markdown",
   "metadata": {},
   "source": [
    "The *memisc* package has a somewhat more flexible variant of `aggregate()`, the function `Aggregate()`. Here we reproduce the results of `aggregate()`. You may need to install this package using `install.packages(\"memisc\")` from \n",
    "[CRAN](https://cran.r-project.org/package=memisc) if you want to run this on your computer. (The package is already installed on the notebook container, however.)"
   ]
  },
  {
   "cell_type": "code",
   "execution_count": null,
   "metadata": {},
   "outputs": [],
   "source": [
    "library(memisc)"
   ]
  },
  {
   "cell_type": "code",
   "execution_count": null,
   "metadata": {},
   "outputs": [],
   "source": [
    "Aggregate(c(Brown=Mean(flng.brown),\n",
    "            Cameron=Mean(flng.cameron),\n",
    "            Clegg=Mean(flng.clegg),\n",
    "            Salmond=Mean(flng.salmond))~region+wave,\n",
    "            data=bes2010feelings)"
   ]
  },
  {
   "cell_type": "markdown",
   "metadata": {},
   "source": [
    "However it also allows to used different summary functions."
   ]
  },
  {
   "cell_type": "code",
   "execution_count": null,
   "metadata": {},
   "outputs": [],
   "source": [
    "Var <- function(x,...) var(x,...,na.rm=TRUE)\n",
    "Aggregate(c(Mean(flng.brown),Var(flng.brown))~region+wave,\n",
    "          data=bes2010feelings)"
   ]
  }
 ],
 "metadata": {
  "kernelspec": {
   "display_name": "R",
   "language": "R",
   "name": "ir"
  },
  "language_info": {
   "codemirror_mode": "r",
   "file_extension": ".r",
   "mimetype": "text/x-r-source",
   "name": "R",
   "pygments_lexer": "r",
   "version": "4.0.5"
  }
 },
 "nbformat": 4,
 "nbformat_minor": 4
}
