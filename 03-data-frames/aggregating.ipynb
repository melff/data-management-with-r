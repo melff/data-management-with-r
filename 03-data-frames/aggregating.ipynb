{
 "cells": [
  {
   "cell_type": "markdown",
   "metadata": {},
   "source": [
    "# Aggregating data frames"
   ]
  },
  {
   "cell_type": "code",
   "execution_count": null,
   "metadata": {},
   "outputs": [],
   "source": [
    "options(jupyter.rich_display=FALSE) # Create output as usual in R"
   ]
  },
  {
   "cell_type": "markdown",
   "metadata": {},
   "source": [
    "In the following we aggregate data from the British Election Study 2010. The data set [bes2010feelings.RData](https://github.com/melff/dataman-r/raw/main/data-frames/bes2010feelings.RData) is prepared from the original available at https://www.britishelectionstudy.com/data-object/2010-bes-cross-section/ by removing identifying information and scrambling the data."
   ]
  },
  {
   "cell_type": "code",
   "execution_count": 2,
   "metadata": {},
   "outputs": [],
   "source": [
    "load(\"bes2010feelings.RData\")"
   ]
  },
  {
   "cell_type": "markdown",
   "metadata": {},
   "source": [
    "Here we obtain the average affects towards the major three parties, using an\n",
    "'old-style' call of the function `aggregate()`."
   ]
  },
  {
   "cell_type": "code",
   "execution_count": 3,
   "metadata": {},
   "outputs": [
    {
     "data": {
      "text/plain": [
       "  Region   Wave flng.brown flng.cameron flng.clegg flng.salmond\n",
       "1 England  Pre  4.092674   5.284810     4.618690        NaN    \n",
       "2 Scotland Pre  5.395000   4.502591     4.405229   4.412371    \n",
       "3 Wales    Pre  4.328244   4.774194     4.592233        NaN    \n",
       "4 England  Post 4.140990   5.441454     5.160313        NaN    \n",
       "5 Scotland Post 5.510769   4.539075     4.513793   4.228707    \n",
       "6 Wales    Post 4.307692   4.855895     4.814480        NaN    "
      ]
     },
     "metadata": {},
     "output_type": "display_data"
    }
   ],
   "source": [
    "Mean <- function(x,...)mean(x,...,na.rm=TRUE)\n",
    "aggregate(bes2010feelings[c(\"flng.brown\",\"flng.cameron\",\n",
    "                            \"flng.clegg\",\"flng.salmond\")],\n",
    "          with(bes2010feelings,\n",
    "               list(Region=region,Wave=wave)),\n",
    "          Mean)"
   ]
  },
  {
   "cell_type": "markdown",
   "metadata": {},
   "source": [
    "More recent versions of R also provide a slightly more convenient way of\n",
    "calling `aggregate()` using a formula argument:"
   ]
  },
  {
   "cell_type": "code",
   "execution_count": 4,
   "metadata": {},
   "outputs": [
    {
     "data": {
      "text/plain": [
       "  region   wave flng.brown flng.cameron flng.clegg flng.salmond\n",
       "1 Scotland Pre  5.466667   4.500000     4.460000   4.480000    \n",
       "2 Scotland Post 5.513986   4.513986     4.498252   4.270979    "
      ]
     },
     "metadata": {},
     "output_type": "display_data"
    }
   ],
   "source": [
    "aggregate(cbind(flng.brown,\n",
    "                flng.cameron,\n",
    "                flng.clegg,\n",
    "                flng.salmond\n",
    "                )~region+wave,\n",
    "          data=bes2010feelings,\n",
    "          Mean)"
   ]
  },
  {
   "cell_type": "markdown",
   "metadata": {},
   "source": [
    "The *memisc* package has a somewhat more flexible variant of `aggregate()`, the function `Aggregate()`. Here we reproduce the results of `aggregate()`. You may need to install this package using `install.packages(\"memisc\")` from \n",
    "[CRAN](https://cran.r-project.org/package=memisc) if you want to run this on your computer. (The package is already installed on the notebook container, however.)"
   ]
  },
  {
   "cell_type": "code",
   "execution_count": 5,
   "metadata": {},
   "outputs": [
    {
     "name": "stderr",
     "output_type": "stream",
     "text": [
      "Loading required package: lattice\n",
      "\n",
      "Loading required package: MASS\n",
      "\n",
      "\n",
      "Attaching package: ‘memisc’\n",
      "\n",
      "\n",
      "The following object is masked _by_ ‘.GlobalEnv’:\n",
      "\n",
      "    Mean\n",
      "\n",
      "\n",
      "The following objects are masked from ‘package:stats’:\n",
      "\n",
      "    contr.sum, contr.treatment, contrasts\n",
      "\n",
      "\n",
      "The following object is masked from ‘package:base’:\n",
      "\n",
      "    as.array\n",
      "\n",
      "\n"
     ]
    }
   ],
   "source": [
    "library(memisc)"
   ]
  },
  {
   "cell_type": "code",
   "execution_count": 6,
   "metadata": {},
   "outputs": [
    {
     "data": {
      "text/plain": [
       "  region   wave Brown    Cameron  Clegg    Salmond \n",
       "1 England  Pre  4.092674 5.284810 4.618690      NaN\n",
       "2 Scotland Pre  5.395000 4.502591 4.405229 4.412371\n",
       "3 Wales    Pre  4.328244 4.774194 4.592233      NaN\n",
       "4 NA       Pre  4.507143 4.929870 4.426573 4.760563\n",
       "5 England  Post 4.140990 5.441454 5.160313      NaN\n",
       "6 Scotland Post 5.510769 4.539075 4.513793 4.228707\n",
       "7 Wales    Post 4.307692 4.855895 4.814480      NaN\n",
       "8 NA       Post       NA       NA       NA       NA"
      ]
     },
     "metadata": {},
     "output_type": "display_data"
    }
   ],
   "source": [
    "Aggregate(c(Brown=Mean(flng.brown),\n",
    "            Cameron=Mean(flng.cameron),\n",
    "            Clegg=Mean(flng.clegg),\n",
    "            Salmond=Mean(flng.salmond))~region+wave,\n",
    "            data=bes2010feelings)"
   ]
  },
  {
   "cell_type": "markdown",
   "metadata": {},
   "source": [
    "However it also allows to used different summary functions."
   ]
  },
  {
   "cell_type": "code",
   "execution_count": 7,
   "metadata": {},
   "outputs": [
    {
     "data": {
      "text/plain": [
       "  region   wave Mean(flng.brown) Var(flng.brown)\n",
       "1 England  Pre  4.092674         7.287340       \n",
       "2 Scotland Pre  5.395000         8.210025       \n",
       "3 Wales    Pre  4.328244         8.776042       \n",
       "4 NA       Pre  4.507143         7.754125       \n",
       "5 England  Post 4.140990         7.109491       \n",
       "6 Scotland Post 5.510769         6.376617       \n",
       "7 Wales    Post 4.307692         7.647408       \n",
       "8 NA       Post       NA               NA       "
      ]
     },
     "metadata": {},
     "output_type": "display_data"
    }
   ],
   "source": [
    "Var <- function(x,...) var(x,...,na.rm=TRUE)\n",
    "Aggregate(c(Mean(flng.brown),Var(flng.brown))~region+wave,\n",
    "          data=bes2010feelings)"
   ]
  },
  {
   "cell_type": "code",
   "execution_count": null,
   "metadata": {},
   "outputs": [],
   "source": []
  }
 ],
 "metadata": {
  "kernelspec": {
   "display_name": "R",
   "language": "R",
   "name": "ir"
  },
  "language_info": {
   "codemirror_mode": "r",
   "file_extension": ".r",
   "mimetype": "text/x-r-source",
   "name": "R",
   "pygments_lexer": "r",
   "version": "4.0.4"
  }
 },
 "nbformat": 4,
 "nbformat_minor": 4
}
