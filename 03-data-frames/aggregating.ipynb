{
 "cells": [
  {
   "cell_type": "markdown",
   "metadata": {},
   "source": [
    "# Aggregating data frames"
   ]
  },
  {
   "cell_type": "markdown",
   "metadata": {},
   "source": [
    "In the following we aggregate data from the British Election Study 2010. The data set [bes2010feelings.RData](https://github.com/melff/dataman-r/raw/main/03-data-frames/bes2010feelings.RData) is prepared from the original available at https://www.britishelectionstudy.com/data-object/2010-bes-cross-section/ by removing identifying information and scrambling the data."
   ]
  },
  {
   "cell_type": "code",
   "execution_count": 1,
   "metadata": {
    "execution": {
     "iopub.execute_input": "2023-11-19T17:51:17.838819Z",
     "iopub.status.busy": "2023-11-19T17:51:17.836807Z",
     "iopub.status.idle": "2023-11-19T17:51:17.874819Z",
     "shell.execute_reply": "2023-11-19T17:51:17.872889Z"
    }
   },
   "outputs": [],
   "source": [
    "load(\"bes2010feelings.RData\")"
   ]
  },
  {
   "cell_type": "markdown",
   "metadata": {},
   "source": [
    "Here we obtain the average affects towards the major three parties, using an\n",
    "'old-style' call of the function `aggregate()`."
   ]
  },
  {
   "cell_type": "code",
   "execution_count": 2,
   "metadata": {
    "execution": {
     "iopub.execute_input": "2023-11-19T17:51:17.910514Z",
     "iopub.status.busy": "2023-11-19T17:51:17.877593Z",
     "iopub.status.idle": "2023-11-19T17:51:17.939569Z",
     "shell.execute_reply": "2023-11-19T17:51:17.938153Z"
    }
   },
   "outputs": [
    {
     "data": {
      "text/plain": [
       "  Region   Wave flng.brown flng.cameron flng.clegg flng.salmond\n",
       "1 England  Pre  4.092674   5.284810     4.618690        NaN    \n",
       "2 Scotland Pre  5.395000   4.502591     4.405229   4.412371    \n",
       "3 Wales    Pre  4.328244   4.774194     4.592233        NaN    \n",
       "4 England  Post 4.140990   5.441454     5.160313        NaN    \n",
       "5 Scotland Post 5.510769   4.539075     4.513793   4.228707    \n",
       "6 Wales    Post 4.307692   4.855895     4.814480        NaN    "
      ]
     },
     "metadata": {},
     "output_type": "display_data"
    }
   ],
   "source": [
    "Mean <- function(x,...)mean(x,...,na.rm=TRUE)\n",
    "aggregate(bes2010feelings[c(\"flng.brown\",\"flng.cameron\",\n",
    "                            \"flng.clegg\",\"flng.salmond\")],\n",
    "          with(bes2010feelings,\n",
    "               list(Region=region,Wave=wave)),\n",
    "          Mean)"
   ]
  },
  {
   "cell_type": "markdown",
   "metadata": {},
   "source": [
    "More recent versions of R also provide a slightly more convenient way of\n",
    "calling `aggregate()` using a formula argument:"
   ]
  },
  {
   "cell_type": "code",
   "execution_count": 3,
   "metadata": {
    "execution": {
     "iopub.execute_input": "2023-11-19T17:51:17.942813Z",
     "iopub.status.busy": "2023-11-19T17:51:17.941596Z",
     "iopub.status.idle": "2023-11-19T17:51:17.958042Z",
     "shell.execute_reply": "2023-11-19T17:51:17.956590Z"
    }
   },
   "outputs": [
    {
     "data": {
      "text/plain": [
       "  region   wave flng.brown flng.cameron flng.clegg flng.salmond\n",
       "1 Scotland Pre  5.466667   4.500000     4.460000   4.480000    \n",
       "2 Scotland Post 5.513986   4.513986     4.498252   4.270979    "
      ]
     },
     "metadata": {},
     "output_type": "display_data"
    }
   ],
   "source": [
    "aggregate(cbind(flng.brown,\n",
    "                flng.cameron,\n",
    "                flng.clegg,\n",
    "                flng.salmond\n",
    "                )~region+wave,\n",
    "          data=bes2010feelings,\n",
    "          Mean)"
   ]
  },
  {
   "cell_type": "markdown",
   "metadata": {},
   "source": [
    "The *memisc* package has a somewhat more flexible variant of `aggregate()`, the function `Aggregate()`. Here we reproduce the results of `aggregate()`. You may need to install this package using `install.packages(\"memisc\")` from \n",
    "[CRAN](https://cran.r-project.org/package=memisc) if you want to run this on your computer. (The package is already installed on the notebook container, however.)"
   ]
  },
  {
   "cell_type": "code",
   "execution_count": 4,
   "metadata": {
    "execution": {
     "iopub.execute_input": "2023-11-19T17:51:17.961405Z",
     "iopub.status.busy": "2023-11-19T17:51:17.960187Z",
     "iopub.status.idle": "2023-11-19T17:51:18.631370Z",
     "shell.execute_reply": "2023-11-19T17:51:18.629859Z"
    }
   },
   "outputs": [],
   "source": [
    "suppressMessages(library(memisc))"
   ]
  },
  {
   "cell_type": "code",
   "execution_count": 5,
   "metadata": {
    "execution": {
     "iopub.execute_input": "2023-11-19T17:51:18.635116Z",
     "iopub.status.busy": "2023-11-19T17:51:18.633516Z",
     "iopub.status.idle": "2023-11-19T17:51:18.656797Z",
     "shell.execute_reply": "2023-11-19T17:51:18.654995Z"
    }
   },
   "outputs": [
    {
     "data": {
      "text/plain": [
       "  region   wave Brown    Cameron  Clegg    Salmond \n",
       "1 England  Pre  4.092674 5.284810 4.618690      NaN\n",
       "2 Scotland Pre  5.395000 4.502591 4.405229 4.412371\n",
       "3 Wales    Pre  4.328244 4.774194 4.592233      NaN\n",
       "4 NA       Pre  4.507143 4.929870 4.426573 4.760563\n",
       "5 England  Post 4.140990 5.441454 5.160313      NaN\n",
       "6 Scotland Post 5.510769 4.539075 4.513793 4.228707\n",
       "7 Wales    Post 4.307692 4.855895 4.814480      NaN\n",
       "8 NA       Post       NA       NA       NA       NA"
      ]
     },
     "metadata": {},
     "output_type": "display_data"
    }
   ],
   "source": [
    "Aggregate(c(Brown=Mean(flng.brown),\n",
    "            Cameron=Mean(flng.cameron),\n",
    "            Clegg=Mean(flng.clegg),\n",
    "            Salmond=Mean(flng.salmond))~region+wave,\n",
    "            data=bes2010feelings)"
   ]
  },
  {
   "cell_type": "markdown",
   "metadata": {},
   "source": [
    "However it also allows to used different summary functions."
   ]
  },
  {
   "cell_type": "code",
   "execution_count": 6,
   "metadata": {
    "execution": {
     "iopub.execute_input": "2023-11-19T17:51:18.660710Z",
     "iopub.status.busy": "2023-11-19T17:51:18.659411Z",
     "iopub.status.idle": "2023-11-19T17:51:18.675656Z",
     "shell.execute_reply": "2023-11-19T17:51:18.674122Z"
    }
   },
   "outputs": [
    {
     "data": {
      "text/plain": [
       "  region   wave Mean(flng.brown) Var(flng.brown)\n",
       "1 England  Pre  4.092674         7.287340       \n",
       "2 Scotland Pre  5.395000         8.210025       \n",
       "3 Wales    Pre  4.328244         8.776042       \n",
       "4 NA       Pre  4.507143         7.754125       \n",
       "5 England  Post 4.140990         7.109491       \n",
       "6 Scotland Post 5.510769         6.376617       \n",
       "7 Wales    Post 4.307692         7.647408       \n",
       "8 NA       Post       NA               NA       "
      ]
     },
     "metadata": {},
     "output_type": "display_data"
    }
   ],
   "source": [
    "Aggregate(c(Mean(flng.brown),Var(flng.brown))~region+wave,\n",
    "          data=bes2010feelings)"
   ]
  }
 ],
 "metadata": {
  "jupytext": {
   "cell_metadata_filter": "-all"
  },
  "kernelspec": {
   "display_name": "R (IRkernel)",
   "language": "R",
   "name": "ir"
  },
  "language_info": {
   "codemirror_mode": "r",
   "file_extension": ".r",
   "mimetype": "text/x-r-source",
   "name": "R",
   "pygments_lexer": "r",
   "version": "4.3.2"
  }
 },
 "nbformat": 4,
 "nbformat_minor": 4
}
