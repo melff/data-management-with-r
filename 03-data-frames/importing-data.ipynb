{
 "cells": [
  {
   "cell_type": "markdown",
   "metadata": {},
   "source": [
    "# Importing data into data frames"
   ]
  },
  {
   "cell_type": "markdown",
   "metadata": {},
   "source": [
    "This notebook makes use of the following files:\n",
    "\n",
    "- [ConstituencyResults2010.csv](https://raw.githubusercontent.com/melff/dataman-r/main/03-data-frames/ConstituencyResults2010.csv)\n",
    "- [ConstituencyResults2010-nohdr.csv](https://raw.githubusercontent.com/melff/dataman-r/main/03-data-frames/ConstituencyResults2010-nohdr.csv)\n",
    "- [ConstituencyResults2010.tsv](https://raw.githubusercontent.com/melff/dataman-r/main/03-data-frames/ConstituencyResults2010.tsv)\n",
    "- [ConstituencyResults2010.sav](https://raw.githubusercontent.com/melff/dataman-r/main/03-data-frames/ConstituencyResults2010.sav)\n",
    "- [ConstituencyResults2010.por](https://raw.githubusercontent.com/melff/dataman-r/main/03-data-frames/ConstituencyResults2010.por)\n",
    "- [ConstituencyResults2010.dta](https://raw.githubusercontent.com/melff/dataman-r/main/03-data-frames/ConstituencyResults2010.dta)\n",
    "- [ConstituencyResults2010-stata-new.dta](https://raw.githubusercontent.com/melff/dataman-r/main/03-data-frames/ConstResults2010-stata-new.dta)\n",
    "\n",
    "Currently, these Data files are also available from https://www.pippanorris.com/data.\n",
    "(Previously they were available from http://www.hks.harvard.edu/fs/pnorris/Data/Data.htm.) \n"
   ]
  },
  {
   "cell_type": "markdown",
   "metadata": {},
   "source": [
    "## Importing data from text files"
   ]
  },
  {
   "cell_type": "markdown",
   "metadata": {},
   "source": [
    "Importing CSV data:"
   ]
  },
  {
   "cell_type": "code",
   "execution_count": 1,
   "metadata": {
    "execution": {
     "iopub.execute_input": "2023-11-19T17:57:33.570171Z",
     "iopub.status.busy": "2023-11-19T17:57:33.567749Z",
     "iopub.status.idle": "2023-11-19T17:57:33.613580Z",
     "shell.execute_reply": "2023-11-19T17:57:33.610858Z"
    }
   },
   "outputs": [
    {
     "data": {
      "text/plain": [
       "[1] \"refno,cons,lab,libdem,snp,plcym,green,bnp,ukip\"\n",
       "[2] \"1,14.3,51.9,16.3,,7.1,,4.1,1.6\"                \n",
       "[3] \"2,35.8,24.5,19.3,,17.8,,,2.1\"                  \n",
       "[4] \"3,12.4,44.4,18.6,22.2,,,1.7,\"                  \n",
       "[5] \"4,20.7,36.5,28.4,11.9,,1.0,1.2,\"               "
      ]
     },
     "execution_count": 1,
     "metadata": {},
     "output_type": "execute_result"
    }
   ],
   "source": [
    "# We inspect the text file using 'readLines()'\n",
    "readLines(\"ConstituencyResults2010.csv\",n=5)"
   ]
  },
  {
   "cell_type": "code",
   "execution_count": 2,
   "metadata": {
    "execution": {
     "iopub.execute_input": "2023-11-19T17:57:33.647242Z",
     "iopub.status.busy": "2023-11-19T17:57:33.617968Z",
     "iopub.status.idle": "2023-11-19T17:57:33.727535Z",
     "shell.execute_reply": "2023-11-19T17:57:33.724426Z"
    }
   },
   "outputs": [
    {
     "data": {
      "text/plain": [
       "  refno cons  lab libdem  snp plcym green bnp ukip\n",
       "1     1 14.3 51.9   16.3   NA   7.1    NA 4.1  1.6\n",
       "2     2 35.8 24.5   19.3   NA  17.8    NA  NA  2.1\n",
       "3     3 12.4 44.4   18.6 22.2    NA    NA 1.7   NA\n",
       "4     4 20.7 36.5   28.4 11.9    NA     1 1.2   NA\n",
       "5     5 30.3 13.6   38.4 15.7    NA    NA 1.1  0.9"
      ]
     },
     "execution_count": 2,
     "metadata": {},
     "output_type": "execute_result"
    }
   ],
   "source": [
    "# For the actual import we use 'read.csv()'\n",
    "ConstRes2010 <- read.csv(\"ConstituencyResults2010.csv\")\n",
    "ConstRes2010[1:5,]"
   ]
  },
  {
   "cell_type": "code",
   "execution_count": 3,
   "metadata": {
    "execution": {
     "iopub.execute_input": "2023-11-19T17:57:33.734439Z",
     "iopub.status.busy": "2023-11-19T17:57:33.731973Z",
     "iopub.status.idle": "2023-11-19T17:57:33.745945Z",
     "shell.execute_reply": "2023-11-19T17:57:33.743073Z"
    }
   },
   "outputs": [
    {
     "data": {
      "text/plain": [
       "[1] \"1,14.3,51.9,16.3,,7.1,,4.1,1.6\"  \"2,35.8,24.5,19.3,,17.8,,,2.1\"   \n",
       "[3] \"3,12.4,44.4,18.6,22.2,,,1.7,\"    \"4,20.7,36.5,28.4,11.9,,1.0,1.2,\"\n",
       "[5] \"5,30.3,13.6,38.4,15.7,,,1.1,0.9\""
      ]
     },
     "execution_count": 3,
     "metadata": {},
     "output_type": "execute_result"
    }
   ],
   "source": [
    "# A CSV file without a variable name header\n",
    "readLines(\"ConstituencyResults2010-nohdr.csv\",n=5)"
   ]
  },
  {
   "cell_type": "code",
   "execution_count": 4,
   "metadata": {
    "execution": {
     "iopub.execute_input": "2023-11-19T17:57:33.752908Z",
     "iopub.status.busy": "2023-11-19T17:57:33.750419Z",
     "iopub.status.idle": "2023-11-19T17:57:33.768362Z",
     "shell.execute_reply": "2023-11-19T17:57:33.765501Z"
    }
   },
   "outputs": [
    {
     "data": {
      "text/plain": [
       "  V1   V2   V3   V4   V5   V6 V7  V8  V9\n",
       "1  1 14.3 51.9 16.3   NA  7.1 NA 4.1 1.6\n",
       "2  2 35.8 24.5 19.3   NA 17.8 NA  NA 2.1\n",
       "3  3 12.4 44.4 18.6 22.2   NA NA 1.7  NA\n",
       "4  4 20.7 36.5 28.4 11.9   NA  1 1.2  NA\n",
       "5  5 30.3 13.6 38.4 15.7   NA NA 1.1 0.9"
      ]
     },
     "execution_count": 4,
     "metadata": {},
     "output_type": "execute_result"
    }
   ],
   "source": [
    "ConstRes2010 <- read.csv(\"ConstituencyResults2010-nohdr.csv\",\n",
    "                         header=FALSE)\n",
    "ConstRes2010[1:5,]"
   ]
  },
  {
   "cell_type": "code",
   "execution_count": 5,
   "metadata": {
    "execution": {
     "iopub.execute_input": "2023-11-19T17:57:33.775202Z",
     "iopub.status.busy": "2023-11-19T17:57:33.772748Z",
     "iopub.status.idle": "2023-11-19T17:57:33.787073Z",
     "shell.execute_reply": "2023-11-19T17:57:33.783818Z"
    }
   },
   "outputs": [
    {
     "data": {
      "text/plain": [
       "[1] \"refno\\tcons\\tlab\\tlibdem\\tsnp\\tplcym\\tgreen\\tbnp\\tukip\"\n",
       "[2] \"1\\t14.3\\t51.9\\t16.3\\t\\t7.1\\t\\t4.1\\t1.6\"                \n",
       "[3] \"2\\t35.8\\t24.5\\t19.3\\t\\t17.8\\t\\t\\t2.1\"                  \n",
       "[4] \"3\\t12.4\\t44.4\\t18.6\\t22.2\\t\\t\\t1.7\\t\"                  \n",
       "[5] \"4\\t20.7\\t36.5\\t28.4\\t11.9\\t\\t1.0\\t1.2\\t\"               "
      ]
     },
     "execution_count": 5,
     "metadata": {},
     "output_type": "execute_result"
    }
   ],
   "source": [
    "# Importing tab-delimited data:\n",
    "readLines(\"ConstituencyResults2010.tsv\",n=5)"
   ]
  },
  {
   "cell_type": "code",
   "execution_count": 6,
   "metadata": {
    "execution": {
     "iopub.execute_input": "2023-11-19T17:57:33.793961Z",
     "iopub.status.busy": "2023-11-19T17:57:33.791457Z",
     "iopub.status.idle": "2023-11-19T17:57:33.809710Z",
     "shell.execute_reply": "2023-11-19T17:57:33.806950Z"
    }
   },
   "outputs": [
    {
     "data": {
      "text/plain": [
       "  refno cons  lab libdem  snp plcym green bnp ukip\n",
       "1     1 14.3 51.9   16.3   NA   7.1    NA 4.1  1.6\n",
       "2     2 35.8 24.5   19.3   NA  17.8    NA  NA  2.1\n",
       "3     3 12.4 44.4   18.6 22.2    NA    NA 1.7   NA\n",
       "4     4 20.7 36.5   28.4 11.9    NA     1 1.2   NA\n",
       "5     5 30.3 13.6   38.4 15.7    NA    NA 1.1  0.9"
      ]
     },
     "execution_count": 6,
     "metadata": {},
     "output_type": "execute_result"
    }
   ],
   "source": [
    "ConstRes2010 <- read.delim(\"ConstituencyResults2010.tsv\")\n",
    "ConstRes2010[1:5,]"
   ]
  },
  {
   "cell_type": "markdown",
   "metadata": {},
   "source": [
    "Importing fixed-width data:"
   ]
  },
  {
   "cell_type": "code",
   "execution_count": 7,
   "metadata": {
    "execution": {
     "iopub.execute_input": "2023-11-19T17:57:33.816936Z",
     "iopub.status.busy": "2023-11-19T17:57:33.814188Z",
     "iopub.status.idle": "2023-11-19T17:57:33.830986Z",
     "shell.execute_reply": "2023-11-19T17:57:33.828048Z"
    }
   },
   "outputs": [
    {
     "data": {
      "text/plain": [
       "[1] \"  114.351.916.3     7.1     4.1 1.6\" \"  235.824.519.3    17.8         2.1\"\n",
       "[3] \"  312.444.418.622.2         1.7\"     \"  420.736.528.411.9     1.0 1.2\"    \n",
       "[5] \"  530.313.638.415.7         1.1 0.9\""
      ]
     },
     "execution_count": 7,
     "metadata": {},
     "output_type": "execute_result"
    }
   ],
   "source": [
    "readLines(\"ConstituencyResults2010-fwf.txt\",n=5)"
   ]
  },
  {
   "cell_type": "code",
   "execution_count": 8,
   "metadata": {
    "execution": {
     "iopub.execute_input": "2023-11-19T17:57:33.837741Z",
     "iopub.status.busy": "2023-11-19T17:57:33.835228Z",
     "iopub.status.idle": "2023-11-19T17:57:33.874954Z",
     "shell.execute_reply": "2023-11-19T17:57:33.872017Z"
    }
   },
   "outputs": [
    {
     "data": {
      "text/plain": [
       "  V1   V2   V3   V4   V5   V6 V7  V8  V9\n",
       "1  1 14.3 51.9 16.3   NA  7.1 NA 4.1 1.6\n",
       "2  2 35.8 24.5 19.3   NA 17.8 NA  NA 2.1\n",
       "3  3 12.4 44.4 18.6 22.2   NA NA 1.7  NA\n",
       "4  4 20.7 36.5 28.4 11.9   NA  1 1.2  NA\n",
       "5  5 30.3 13.6 38.4 15.7   NA NA 1.1 0.9"
      ]
     },
     "execution_count": 8,
     "metadata": {},
     "output_type": "execute_result"
    }
   ],
   "source": [
    "ConstRes2010 <- read.fwf(\"ConstituencyResults2010-fwf.txt\",\n",
    "                         widths=c(3,4,4,4,4,4,4,4,4))\n",
    "ConstRes2010[1:5,]"
   ]
  },
  {
   "cell_type": "markdown",
   "metadata": {},
   "source": [
    "## Importing data from other statistics packages\n",
    "Importing data using the *foreign* package"
   ]
  },
  {
   "cell_type": "code",
   "execution_count": 9,
   "metadata": {
    "execution": {
     "iopub.execute_input": "2023-11-19T17:57:33.881776Z",
     "iopub.status.busy": "2023-11-19T17:57:33.879338Z",
     "iopub.status.idle": "2023-11-19T17:57:33.909388Z",
     "shell.execute_reply": "2023-11-19T17:57:33.906484Z"
    }
   },
   "outputs": [
    {
     "data": {
      "text/plain": [
       "  refno cons  lab libdem  snp plcym green bnp ukip\n",
       "1     1 14.3 51.9   16.3   NA   7.1    NA 4.1  1.6\n",
       "2     2 35.8 24.5   19.3   NA  17.8    NA  NA  2.1\n",
       "3     3 12.4 44.4   18.6 22.2    NA    NA 1.7   NA\n",
       "4     4 20.7 36.5   28.4 11.9    NA     1 1.2   NA\n",
       "5     5 30.3 13.6   38.4 15.7    NA    NA 1.1  0.9"
      ]
     },
     "execution_count": 9,
     "metadata": {},
     "output_type": "execute_result"
    }
   ],
   "source": [
    "library(foreign)\n",
    "\n",
    "# An SPSS 'system' file\n",
    "ConstRes2010 <- read.spss(\"ConstituencyResults2010.sav\",\n",
    "                          to.data.frame=TRUE)\n",
    "ConstRes2010[1:5,]"
   ]
  },
  {
   "cell_type": "code",
   "execution_count": 10,
   "metadata": {
    "execution": {
     "iopub.execute_input": "2023-11-19T17:57:33.916246Z",
     "iopub.status.busy": "2023-11-19T17:57:33.913847Z",
     "iopub.status.idle": "2023-11-19T17:57:33.932417Z",
     "shell.execute_reply": "2023-11-19T17:57:33.929490Z"
    }
   },
   "outputs": [
    {
     "data": {
      "text/plain": [
       "  REFNO CONS  LAB LIBDEM  SNP PLCYM GREEN BNP UKIP\n",
       "1     1 14.3 51.9   16.3   NA   7.1    NA 4.1  1.6\n",
       "2     2 35.8 24.5   19.3   NA  17.8    NA  NA  2.1\n",
       "3     3 12.4 44.4   18.6 22.2    NA    NA 1.7   NA\n",
       "4     4 20.7 36.5   28.4 11.9    NA     1 1.2   NA\n",
       "5     5 30.3 13.6   38.4 15.7    NA    NA 1.1  0.9"
      ]
     },
     "execution_count": 10,
     "metadata": {},
     "output_type": "execute_result"
    }
   ],
   "source": [
    "# An SPSS 'portable' file\n",
    "ConstRes2010 <- read.spss(\"ConstituencyResults2010.por\",\n",
    "                          to.data.frame=TRUE)\n",
    "ConstRes2010[1:5,]"
   ]
  },
  {
   "cell_type": "code",
   "execution_count": 11,
   "metadata": {
    "execution": {
     "iopub.execute_input": "2023-11-19T17:57:33.939421Z",
     "iopub.status.busy": "2023-11-19T17:57:33.936982Z",
     "iopub.status.idle": "2023-11-19T17:57:33.954992Z",
     "shell.execute_reply": "2023-11-19T17:57:33.952148Z"
    }
   },
   "outputs": [
    {
     "data": {
      "text/plain": [
       "  refno cons  lab libdem  snp plcym green bnp ukip\n",
       "1     1 14.3 51.9   16.3   NA   7.1    NA 4.1  1.6\n",
       "2     2 35.8 24.5   19.3   NA  17.8    NA  NA  2.1\n",
       "3     3 12.4 44.4   18.6 22.2    NA    NA 1.7   NA\n",
       "4     4 20.7 36.5   28.4 11.9    NA     1 1.2   NA\n",
       "5     5 30.3 13.6   38.4 15.7    NA    NA 1.1  0.9"
      ]
     },
     "execution_count": 11,
     "metadata": {},
     "output_type": "execute_result"
    }
   ],
   "source": [
    "# A Stata file\n",
    "ConstRes2010 <- read.dta(\"ConstituencyResults2010.dta\")\n",
    "ConstRes2010[1:5,]"
   ]
  },
  {
   "cell_type": "code",
   "execution_count": 12,
   "metadata": {
    "execution": {
     "iopub.execute_input": "2023-11-19T17:57:33.964888Z",
     "iopub.status.busy": "2023-11-19T17:57:33.962284Z",
     "iopub.status.idle": "2023-11-19T17:57:33.976250Z",
     "shell.execute_reply": "2023-11-19T17:57:33.973148Z"
    }
   },
   "outputs": [
    {
     "name": "stderr",
     "output_type": "stream",
     "text": [
      "Error in read.dta(\"ConstResults2010-stata-new.dta\"):\n",
      "not a Stata version 5-12 .dta file\n"
     ]
    }
   ],
   "source": [
    "# The following does not work - newer Stata format is not supported\n",
    "ConstRes2010 <- read.dta(\"ConstResults2010-stata-new.dta\")"
   ]
  }
 ],
 "metadata": {
  "jupytext": {
   "cell_metadata_filter": "-all"
  },
  "kernelspec": {
   "display_name": "R (RKernel)",
   "language": "R",
   "name": "rkernel"
  },
  "language_info": {
   "codemirror_mode": "R",
   "file_extension": ".R",
   "mimetype": "text/x-r-source",
   "name": "R",
   "pygments_lexer": "r",
   "version": "4.3.2"
  }
 },
 "nbformat": 4,
 "nbformat_minor": 4
}
