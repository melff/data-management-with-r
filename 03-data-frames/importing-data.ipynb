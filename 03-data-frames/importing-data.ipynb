{
 "cells": [
  {
   "cell_type": "markdown",
   "metadata": {},
   "source": [
    "# Importing data into data frames"
   ]
  },
  {
   "cell_type": "code",
   "execution_count": null,
   "metadata": {},
   "outputs": [],
   "source": [
    "options(jupyter.rich_display=FALSE) # Create output as usual in R"
   ]
  },
  {
   "cell_type": "markdown",
   "metadata": {},
   "source": [
    "This notebook makes use of the following files:\n",
    "\n",
    "- [ConstituencyResults2010.csv](https://raw.githubusercontent.com/melff/dataman-r/main/data-frames/ConstituencyResults2010.csv)\n",
    "- [ConstituencyResults2010-nohdr.csv](https://raw.githubusercontent.com/melff/dataman-r/main/data-frames/ConstituencyResults2010-nohdr.csv)\n",
    "- [ConstituencyResults2010.tsv](https://raw.githubusercontent.com/melff/dataman-r/main/data-frames/ConstituencyResults2010.tsv)\n",
    "- [ConstituencyResults2010.sav](https://raw.githubusercontent.com/melff/dataman-r/main/data-frames/ConstituencyResults2010.sav)\n",
    "- [ConstituencyResults2010.por](https://raw.githubusercontent.com/melff/dataman-r/main/data-frames/ConstituencyResults2010.por)\n",
    "- [ConstituencyResults2010.dta](https://raw.githubusercontent.com/melff/dataman-r/main/data-frames/ConstituencyResults2010.dta)\n",
    "- [ConstituencyResults2010-stata-new.dta](https://raw.githubusercontent.com/melff/dataman-r/main/data-frames/ConstResults2010-stata-new.dta)\n",
    "\n",
    "Currently, these Data files are also available from https://www.pippanorris.com/data.\n",
    "(Previously they were available from http://www.hks.harvard.edu/fs/pnorris/Data/Data.htm.) \n"
   ]
  },
  {
   "cell_type": "markdown",
   "metadata": {},
   "source": [
    "## Importing data from text files"
   ]
  },
  {
   "cell_type": "markdown",
   "metadata": {},
   "source": [
    "Importing CSV data:"
   ]
  },
  {
   "cell_type": "code",
   "execution_count": null,
   "metadata": {},
   "outputs": [],
   "source": [
    "# We inspect the text file using 'readLines()'\n",
    "readLines(\"ConstituencyResults2010.csv\",n=5)"
   ]
  },
  {
   "cell_type": "code",
   "execution_count": null,
   "metadata": {},
   "outputs": [],
   "source": [
    "# For the actual import we use 'read.csv()'\n",
    "ConstRes2010 <- read.csv(\"ConstituencyResults2010.csv\")\n",
    "ConstRes2010[1:5,]"
   ]
  },
  {
   "cell_type": "code",
   "execution_count": null,
   "metadata": {},
   "outputs": [],
   "source": [
    "# A CSV file without a variable name header\n",
    "readLines(\"ConstituencyResults2010-nohdr.csv\",n=5)"
   ]
  },
  {
   "cell_type": "code",
   "execution_count": null,
   "metadata": {},
   "outputs": [],
   "source": [
    "ConstRes2010 <- read.csv(\"ConstituencyResults2010-nohdr.csv\",\n",
    "                         header=FALSE)\n",
    "ConstRes2010[1:5,]"
   ]
  },
  {
   "cell_type": "code",
   "execution_count": null,
   "metadata": {},
   "outputs": [],
   "source": [
    "# Importing tab-delimited data:\n",
    "readLines(\"ConstituencyResults2010.tsv\",n=5)"
   ]
  },
  {
   "cell_type": "code",
   "execution_count": null,
   "metadata": {},
   "outputs": [],
   "source": [
    "ConstRes2010 <- read.delim(\"ConstituencyResults2010.tsv\")\n",
    "ConstRes2010[1:5,]"
   ]
  },
  {
   "cell_type": "markdown",
   "metadata": {},
   "source": [
    "Importing fixed-width data:"
   ]
  },
  {
   "cell_type": "code",
   "execution_count": null,
   "metadata": {},
   "outputs": [],
   "source": [
    "readLines(\"ConstituencyResults2010-fwf.txt\",n=5)"
   ]
  },
  {
   "cell_type": "code",
   "execution_count": null,
   "metadata": {},
   "outputs": [],
   "source": [
    "ConstRes2010 <- read.fwf(\"ConstituencyResults2010-fwf.txt\",\n",
    "                         widths=c(3,4,4,4,4,4,4,4,4))\n",
    "ConstRes2010[1:5,]"
   ]
  },
  {
   "cell_type": "markdown",
   "metadata": {},
   "source": [
    "## Importing data from other statistics packages\n",
    "Importing data using the *foreign* package"
   ]
  },
  {
   "cell_type": "code",
   "execution_count": null,
   "metadata": {},
   "outputs": [],
   "source": [
    "library(foreign)\n",
    "\n",
    "# An SPSS 'system' file\n",
    "ConstRes2010 <- read.spss(\"ConstituencyResults2010.sav\",\n",
    "                          to.data.frame=TRUE)\n",
    "ConstRes2010[1:5,]"
   ]
  },
  {
   "cell_type": "code",
   "execution_count": null,
   "metadata": {},
   "outputs": [],
   "source": [
    "# An SPSS 'portable' file\n",
    "ConstRes2010 <- read.spss(\"ConstituencyResults2010.por\",\n",
    "                          to.data.frame=TRUE)\n",
    "ConstRes2010[1:5,]"
   ]
  },
  {
   "cell_type": "code",
   "execution_count": null,
   "metadata": {},
   "outputs": [],
   "source": [
    "# A Stata file\n",
    "ConstRes2010 <- read.dta(\"ConstituencyResults2010.dta\")\n",
    "ConstRes2010[1:5,]"
   ]
  },
  {
   "cell_type": "code",
   "execution_count": null,
   "metadata": {},
   "outputs": [],
   "source": [
    "# The following does not work - newer Stata format is not supported\n",
    "ConstRes2010 <- read.dta(\"ConstResults2010-stata-new.dta\")"
   ]
  }
 ],
 "metadata": {
  "kernelspec": {
   "display_name": "R",
   "language": "R",
   "name": "ir"
  },
  "language_info": {
   "codemirror_mode": "r",
   "file_extension": ".r",
   "mimetype": "text/x-r-source",
   "name": "R",
   "pygments_lexer": "r",
   "version": "4.0.5"
  }
 },
 "nbformat": 4,
 "nbformat_minor": 4
}
