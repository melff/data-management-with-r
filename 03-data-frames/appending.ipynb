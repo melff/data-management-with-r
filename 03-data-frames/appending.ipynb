{
 "cells": [
  {
   "cell_type": "markdown",
   "metadata": {},
   "source": [
    "# Appending data frames"
   ]
  },
  {
   "cell_type": "code",
   "execution_count": 1,
   "metadata": {},
   "outputs": [],
   "source": [
    "options(jupyter.rich_display=FALSE) # Create output as usual in R"
   ]
  },
  {
   "cell_type": "markdown",
   "metadata": {},
   "source": [
    "First we load some example data from the British Election Study 2010. The data set [bes2010feelings-for-append.RData](https://github.com/melff/dataman-r/raw/main/data-frames/bes2010feelings-for-append.RData) is prepared from the original available at https://www.britishelectionstudy.com/data-object/2010-bes-cross-section/ by removing identifying information and scrambling the data."
   ]
  },
  {
   "cell_type": "code",
   "execution_count": 2,
   "metadata": {},
   "outputs": [],
   "source": [
    "load(\"bes2010feelings-for-append.RData\")"
   ]
  },
  {
   "cell_type": "markdown",
   "metadata": {},
   "source": [
    "We now have two BES data frames, one from the pre-election wave and another\n",
    "from the post-election wave. They contain the same variables, but in a different\n",
    "order:"
   ]
  },
  {
   "cell_type": "code",
   "execution_count": 3,
   "metadata": {},
   "outputs": [
    {
     "name": "stdout",
     "output_type": "stream",
     "text": [
      "'data.frame':\t1935 obs. of  14 variables:\n",
      " $ flng.brown  : num  6 3 8 4 5 5 5 4 7 4 ...\n",
      " $ flng.cameron: num  3 7 7 4 5 0 3 6 2 2 ...\n",
      " $ flng.clegg  : num  3 5 4 3 5 4 2 7 4 8 ...\n",
      " $ flng.salmond: num  NA NA NA NA NA NA NA NA NA NA ...\n",
      " $ flng.jones  : num  5 3 10 7 5 1 7 1 6 4 ...\n",
      " $ flng.labour : num  5 1 3 6 8 5 6 2 8 3 ...\n",
      " $ flng.cons   : num  6 6 4 6 4 1 3 3 3 3 ...\n",
      " $ flng.libdem : num  4 7 5 5 5 4 0 5 4 9 ...\n",
      " $ flng.snp    : num  NA NA NA NA NA NA NA NA NA NA ...\n",
      " $ flng.pcym   : num  NA NA NA NA NA NA NA NA NA NA ...\n",
      " $ flng.green  : num  7 6 5 5 4 4 1 5 5 5 ...\n",
      " $ flng.ukip   : num  3 0 0 3 NA 0 NA 2 3 1 ...\n",
      " $ flng.bnp    : num  0 0 0 2 2 0 0 0 0 0 ...\n",
      " $ region      : Factor w/ 3 levels \"England\",\"Scotland\",..: 1 NA 1 1 NA 1 1 1 1 1 ...\n"
     ]
    }
   ],
   "source": [
    "str(bes2010flngs_pre)"
   ]
  },
  {
   "cell_type": "code",
   "execution_count": 4,
   "metadata": {},
   "outputs": [
    {
     "name": "stdout",
     "output_type": "stream",
     "text": [
      "'data.frame':\t3075 obs. of  14 variables:\n",
      " $ flng.jones  : num  NA NA NA NA NA NA NA NA NA NA ...\n",
      " $ flng.labour : num  5 2 9 7 0 2 6 5 7 2 ...\n",
      " $ flng.ukip   : num  NA NA NA NA NA NA NA NA NA NA ...\n",
      " $ flng.libdem : num  4 5 4 4 6 NA 4 4 7 7 ...\n",
      " $ flng.brown  : num  5 2 5 7 0 2 3 2 5 2 ...\n",
      " $ flng.bnp    : num  NA NA NA NA NA NA NA NA NA NA ...\n",
      " $ flng.snp    : num  NA NA NA NA NA NA NA NA NA NA ...\n",
      " $ flng.salmond: num  NA NA NA NA NA NA NA NA NA NA ...\n",
      " $ flng.pcym   : num  NA NA NA NA NA NA NA NA NA NA ...\n",
      " $ flng.cons   : num  5 5 3 10 10 3 3 8 7 7 ...\n",
      " $ flng.cameron: num  5 6 5 3 8 10 7 8 8 7 ...\n",
      " $ flng.green  : num  NA NA NA NA NA NA NA NA NA NA ...\n",
      " $ flng.clegg  : num  NA 4 3 NA 6 3 5 4 7 6 ...\n",
      " $ region      : Factor w/ 3 levels \"England\",\"Scotland\",..: 1 1 1 1 1 1 1 1 1 1 ...\n"
     ]
    }
   ],
   "source": [
    "str(bes2010flngs_post)"
   ]
  },
  {
   "cell_type": "markdown",
   "metadata": {},
   "source": [
    "If the variables in the two data frames differ trying to use `rbind()` to append\n",
    "the data frames fails."
   ]
  },
  {
   "cell_type": "code",
   "execution_count": 5,
   "metadata": {},
   "outputs": [
    {
     "ename": "ERROR",
     "evalue": "Error in match.names(clabs, names(xi)): names do not match previous names\n",
     "output_type": "error",
     "traceback": [
      "Error in match.names(clabs, names(xi)): names do not match previous names\nTraceback:\n",
      "1. rbind(bes2010flngs_pre[-1], bes2010flngs_post[-1])",
      "2. rbind(deparse.level, ...)",
      "3. match.names(clabs, names(xi))",
      "4. stop(\"names do not match previous names\")"
     ]
    }
   ],
   "source": [
    "bes2010flngs_prepost <- rbind(bes2010flngs_pre[-1],\n",
    "                              bes2010flngs_post[-1])"
   ]
  },
  {
   "cell_type": "markdown",
   "metadata": {},
   "source": [
    "If the variables in the two data frame are the same but differ in their order,\n",
    "`rbind()` succeeds and the variables are sorted all into the same order before the\n",
    "data frames are combined into a single one:"
   ]
  },
  {
   "cell_type": "code",
   "execution_count": null,
   "metadata": {},
   "outputs": [],
   "source": [
    "bes2010flngs_prepost <- rbind(bes2010flngs_pre,\n",
    "                              bes2010flngs_post)"
   ]
  },
  {
   "cell_type": "markdown",
   "metadata": {},
   "source": [
    "We compare the tail-ends of the data resulting data frame\n",
    "`bes2010flngs_prepost` and the data frame given as second argument to\n",
    "`rbind`. The tail-ends are identical except for the order of the\n",
    "variables."
   ]
  },
  {
   "cell_type": "code",
   "execution_count": null,
   "metadata": {},
   "outputs": [],
   "source": [
    "options(width=200)\n",
    "tail(bes2010flngs_prepost)"
   ]
  },
  {
   "cell_type": "code",
   "execution_count": null,
   "metadata": {},
   "outputs": [],
   "source": [
    "tail(bes2010flngs_post)"
   ]
  },
  {
   "cell_type": "code",
   "execution_count": null,
   "metadata": {},
   "outputs": [],
   "source": []
  }
 ],
 "metadata": {
  "kernelspec": {
   "display_name": "R",
   "language": "R",
   "name": "ir"
  },
  "language_info": {
   "codemirror_mode": "r",
   "file_extension": ".r",
   "mimetype": "text/x-r-source",
   "name": "R",
   "pygments_lexer": "r",
   "version": "4.0.4"
  }
 },
 "nbformat": 4,
 "nbformat_minor": 4
}
