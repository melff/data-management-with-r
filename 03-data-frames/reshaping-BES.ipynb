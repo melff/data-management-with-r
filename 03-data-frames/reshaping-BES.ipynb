{
 "cells": [
  {
   "cell_type": "markdown",
   "metadata": {},
   "source": [
    "# Reshaping data frames: An example with data from the British Election Study"
   ]
  },
  {
   "cell_type": "markdown",
   "metadata": {},
   "source": [
    "First we load an R data file that contains data from the 2010\n",
    "British election study. Here we use data from the British Election Study 2010. The data set [bes2010feelings-prepost.RData](https://github.com/melff/dataman-r/raw/main/03-data-frames/bes2010feelings-prepost.RData) is prepared from the original available at https://www.britishelectionstudy.com/data-object/2010-bes-cross-section/ by removing identifying information and scrambling the data."
   ]
  },
  {
   "cell_type": "code",
   "execution_count": 1,
   "metadata": {
    "execution": {
     "iopub.execute_input": "2023-11-19T17:45:27.749028Z",
     "iopub.status.busy": "2023-11-19T17:45:27.746579Z",
     "iopub.status.idle": "2023-11-19T17:45:27.761567Z",
     "shell.execute_reply": "2023-11-19T17:45:27.758890Z"
    }
   },
   "outputs": [],
   "source": [
    "load(\"bes2010feelings-prepost.RData\")"
   ]
  },
  {
   "cell_type": "code",
   "execution_count": 2,
   "metadata": {
    "execution": {
     "iopub.execute_input": "2023-11-19T17:45:27.798590Z",
     "iopub.status.busy": "2023-11-19T17:45:27.766050Z",
     "iopub.status.idle": "2023-11-19T17:45:27.897018Z",
     "shell.execute_reply": "2023-11-19T17:45:27.894001Z"
    }
   },
   "outputs": [
    {
     "data": {
      "text/plain": [
       " [1] \"flng.brown\"   \"flng.cameron\" \"flng.clegg\"   \"flng.salmond\" \"flng.jones\"  \n",
       " [6] \"flng.labour\"  \"flng.cons\"    \"flng.libdem\"  \"flng.snp\"     \"flng.pcym\"   \n",
       "[11] \"flng.green\"   \"flng.ukip\"    \"flng.bnp\"     \"region\"      "
      ]
     },
     "execution_count": 2,
     "metadata": {},
     "output_type": "execute_result"
    }
   ],
   "source": [
    "names(bes2010flngs_pre)"
   ]
  },
  {
   "cell_type": "markdown",
   "metadata": {},
   "source": [
    "A sensible way to bring these data into long format would be to have the\n",
    "feelings towards the parties and their leaders as multiple measurements.\n",
    "Therefore we reshape the data in the appropriate long format:"
   ]
  },
  {
   "cell_type": "code",
   "execution_count": 3,
   "metadata": {
    "execution": {
     "iopub.execute_input": "2023-11-19T17:45:27.904259Z",
     "iopub.status.busy": "2023-11-19T17:45:27.901811Z",
     "iopub.status.idle": "2023-11-19T17:45:27.938714Z",
     "shell.execute_reply": "2023-11-19T17:45:27.935942Z"
    }
   },
   "outputs": [
    {
     "data": {
      "text/plain": [
       "                 region        party flng.parties flng.leaders id\n",
       "1.Conservative  England Conservative            6            3  1\n",
       "2.Conservative     <NA> Conservative            6            7  2\n",
       "3.Conservative  England Conservative            4            7  3\n",
       "4.Conservative  England Conservative            6            4  4\n",
       "5.Conservative     <NA> Conservative            4            5  5\n",
       "6.Conservative  England Conservative            1            0  6\n",
       "7.Conservative  England Conservative            3            3  7\n",
       "8.Conservative  England Conservative            3            6  8\n",
       "9.Conservative  England Conservative            3            2  9\n",
       "10.Conservative England Conservative            3            2 10\n",
       "11.Conservative    <NA> Conservative            6            4 11\n",
       "12.Conservative England Conservative            3            2 12\n",
       "13.Conservative England Conservative            0            4 13\n",
       "14.Conservative England Conservative            5            5 14"
      ]
     },
     "execution_count": 3,
     "metadata": {},
     "output_type": "execute_result"
    }
   ],
   "source": [
    "bes2010flngs_pre_long <- reshape(\n",
    "              within(bes2010flngs_pre,\n",
    "                     na <- NA),\n",
    "              varying=list(\n",
    "                  # Parties\n",
    "                  c(\"flng.cons\",\"flng.labour\",\"flng.libdem\",\n",
    "                    \"flng.snp\",\"flng.pcym\",\n",
    "                    \"flng.green\",\"flng.ukip\",\"flng.bnp\"),\n",
    "                  # Party leaders\n",
    "                  c(\"flng.cameron\",\"flng.brown\",\"flng.clegg\",\n",
    "                    \"flng.salmond\",\"flng.jones\",\n",
    "                    \"na\",\"na\",\"na\")\n",
    "              ),\n",
    "              v.names=c(\"flng.parties\",\n",
    "                        \"flng.leaders\"),\n",
    "              times=c(\"Conservative\",\"Labour\",\"LibDem\",\n",
    "                      \"SNP\",\"Plaid Cymru\",\n",
    "                      \"Green\",\"UKIP\",\"BNP\"),\n",
    "              timevar=\"party\",\n",
    "              direction=\"long\")\n",
    "head(bes2010flngs_pre_long,n=14)"
   ]
  },
  {
   "cell_type": "markdown",
   "metadata": {},
   "source": [
    "The fellowing demostrates the convenience variant of `reshape()` provided by the *memisc* package, the function `Reshape()`. You may need to install this package using `install.packages(\"memisc\")` from \n",
    "[CRAN](https://cran.r-project.org/package=memisc) if you want to run this on your computer. (Package is already installed on the notebook container, however.)"
   ]
  },
  {
   "cell_type": "code",
   "execution_count": 4,
   "metadata": {
    "execution": {
     "iopub.execute_input": "2023-11-19T17:45:27.945559Z",
     "iopub.status.busy": "2023-11-19T17:45:27.943156Z",
     "iopub.status.idle": "2023-11-19T17:45:28.718728Z",
     "shell.execute_reply": "2023-11-19T17:45:28.712373Z"
    }
   },
   "outputs": [
    {
     "name": "stdout",
     "output_type": "stream",
     "text": [
      "Loading required package: lattice\n",
      "Loading required package: MASS\n",
      "\n",
      "Attaching package: ‘memisc’\n",
      "\n",
      "The following objects are masked from ‘package:stats’:\n",
      "\n",
      "    contr.sum, contr.treatment, contrasts\n",
      "\n",
      "The following object is masked from ‘package:base’:\n",
      "\n",
      "    as.array\n",
      "\n"
     ]
    }
   ],
   "source": [
    "library(memisc)"
   ]
  },
  {
   "cell_type": "markdown",
   "metadata": {},
   "source": [
    "With the `Reshape()` function the syntax is simpler than with `reshape()` from the *stats* package:"
   ]
  },
  {
   "cell_type": "code",
   "execution_count": 5,
   "metadata": {
    "execution": {
     "iopub.execute_input": "2023-11-19T17:45:28.726380Z",
     "iopub.status.busy": "2023-11-19T17:45:28.723410Z",
     "iopub.status.idle": "2023-11-19T17:45:28.752341Z",
     "shell.execute_reply": "2023-11-19T17:45:28.749498Z"
    }
   },
   "outputs": [],
   "source": [
    "bes2010flngs_pre_long <- Reshape(bes2010flngs_pre,\n",
    "       # Note that \"empty\" places designate measurement\n",
    "       # occastions that are to be filled with NAs.\n",
    "       # In the present case these are measurement \n",
    "       # feelings about party leaders that were not\n",
    "       # asked in the BES 2010 questionnaires.\n",
    "       flng.leaders=c(flng.cameron,flng.brown,\n",
    "                      flng.clegg,flng.salmond,\n",
    "                      flng.jones,,,),\n",
    "       flng.parties=c(flng.cons,flng.labour,\n",
    "                      flng.libdem,flng.snp,\n",
    "                      flng.pcym,flng.green,\n",
    "                      flng.ukip,flng.bnp),\n",
    "       party=c(\"Conservative\",\"Labour\",\"LibDem\",\n",
    "               \"SNP\",\"Plaid Cymru\",\n",
    "               \"Green\",\"UKIP\",\"BNP\"),\n",
    "       direction=\"long\")"
   ]
  },
  {
   "cell_type": "markdown",
   "metadata": {},
   "source": [
    "In long format the observations are sorted such that the variable that\n",
    "distinguishes measurement occasions (the party variable) \n",
    "changes faster than the variable that distinguishes individuals:"
   ]
  },
  {
   "cell_type": "code",
   "execution_count": 6,
   "metadata": {
    "execution": {
     "iopub.execute_input": "2023-11-19T17:45:28.759927Z",
     "iopub.status.busy": "2023-11-19T17:45:28.757190Z",
     "iopub.status.idle": "2023-11-19T17:45:28.773479Z",
     "shell.execute_reply": "2023-11-19T17:45:28.770694Z"
    }
   },
   "outputs": [
    {
     "data": {
      "text/plain": [
       "                region        party flng.leaders flng.parties id\n",
       "1.Conservative England Conservative            3            6  1\n",
       "1.Labour       England       Labour            6            5  1\n",
       "1.LibDem       England       LibDem            3            4  1\n",
       "1.SNP          England          SNP           NA           NA  1\n",
       "1.Plaid Cymru  England  Plaid Cymru            5           NA  1\n",
       "1.Green        England        Green           NA            7  1"
      ]
     },
     "execution_count": 6,
     "metadata": {},
     "output_type": "execute_result"
    }
   ],
   "source": [
    "head(bes2010flngs_pre_long)"
   ]
  },
  {
   "cell_type": "markdown",
   "metadata": {},
   "source": [
    "Like with `reshape()`, reshaping back from long into wide format takes (almost) the\n",
    "same syntax as reshaping from wide into long format:"
   ]
  },
  {
   "cell_type": "code",
   "execution_count": 7,
   "metadata": {
    "execution": {
     "iopub.execute_input": "2023-11-19T17:45:28.783999Z",
     "iopub.status.busy": "2023-11-19T17:45:28.781541Z",
     "iopub.status.idle": "2023-11-19T17:45:28.901037Z",
     "shell.execute_reply": "2023-11-19T17:45:28.898232Z"
    }
   },
   "outputs": [],
   "source": [
    "bes2010flngs_pre_wide <- Reshape(bes2010flngs_pre_long,\n",
    "       # Note that \"empty\" places designate measurement\n",
    "       # occastions that are to be filled with NAs.\n",
    "       # In the present case these are measurement \n",
    "       # feelings about party leaders that were not\n",
    "       # asked in the BES 2010 questionnaires.\n",
    "       flng.leaders=c(flng.cameron,flng.brown,\n",
    "                      flng.clegg,flng.salmond,\n",
    "                      flng.jones,,,),\n",
    "       flng.parties=c(flng.cons,flng.labour,\n",
    "                      flng.libdem,flng.snp,\n",
    "                      flng.pcym,flng.green,\n",
    "                      flng.ukip,flng.bnp),\n",
    "       party=c(\"Conservative\",\"Labour\",\"LibDem\",\n",
    "               \"SNP\",\"Plaid Cymru\",\n",
    "               \"Green\",\"UKIP\",\"BNP\"),\n",
    "       direction=\"wide\")"
   ]
  },
  {
   "cell_type": "markdown",
   "metadata": {},
   "source": [
    "After reshaping into wide format, the variables that correspond to multiple\n",
    "measures of the same variable are grouped together:"
   ]
  },
  {
   "cell_type": "code",
   "execution_count": 8,
   "metadata": {
    "execution": {
     "iopub.execute_input": "2023-11-19T17:45:28.911788Z",
     "iopub.status.busy": "2023-11-19T17:45:28.909368Z",
     "iopub.status.idle": "2023-11-19T17:45:28.926549Z",
     "shell.execute_reply": "2023-11-19T17:45:28.923459Z"
    }
   },
   "outputs": [
    {
     "data": {
      "text/plain": [
       "                region id flng.cameron flng.brown flng.clegg flng.salmond\n",
       "1.Conservative England  1            3          6          3           NA\n",
       "2.Conservative    <NA>  2            7          3          5           NA\n",
       "3.Conservative England  3            7          8          4           NA\n",
       "4.Conservative England  4            4          4          3           NA\n",
       "5.Conservative    <NA>  5            5          5          5           NA\n",
       "6.Conservative England  6            0          5          4           NA\n",
       "               flng.jones __tmp__na__.1 __tmp__na__.2 flng.cons flng.labour\n",
       "1.Conservative          5            NA            NA         6           5\n",
       "2.Conservative          3            NA            NA         6           1\n",
       "3.Conservative         10            NA            NA         4           3\n",
       "4.Conservative          7            NA            NA         6           6\n",
       "5.Conservative          5            NA            NA         4           8\n",
       "6.Conservative          1            NA            NA         1           5\n",
       "               flng.libdem flng.snp flng.pcym flng.green flng.ukip flng.bnp\n",
       "1.Conservative           4       NA        NA          7         3        0\n",
       "2.Conservative           7       NA        NA          6         0        0\n",
       "3.Conservative           5       NA        NA          5         0        0\n",
       "4.Conservative           5       NA        NA          5         3        2\n",
       "5.Conservative           5       NA        NA          4        NA        2\n",
       "6.Conservative           4       NA        NA          4         0        0"
      ]
     },
     "execution_count": 8,
     "metadata": {},
     "output_type": "execute_result"
    }
   ],
   "source": [
    "head(bes2010flngs_pre_wide)"
   ]
  },
  {
   "cell_type": "code",
   "execution_count": 10,
   "metadata": {
    "execution": {
     "iopub.execute_input": "2023-11-19T17:45:33.259029Z",
     "iopub.status.busy": "2023-11-19T17:45:33.256483Z",
     "iopub.status.idle": "2023-11-19T17:45:33.287801Z",
     "shell.execute_reply": "2023-11-19T17:45:33.284262Z"
    }
   },
   "outputs": [],
   "source": [
    "save(bes2010flngs_pre_long,file=\"bes2010flngs-pre-long.RData\")"
   ]
  }
 ],
 "metadata": {
  "jupytext": {
   "cell_metadata_filter": "-all"
  },
  "kernelspec": {
   "display_name": "R (RKernel)",
   "language": "R",
   "name": "rkernel"
  },
  "language_info": {
   "codemirror_mode": "R",
   "file_extension": ".R",
   "mimetype": "text/x-r-source",
   "name": "R",
   "pygments_lexer": "r",
   "version": "4.3.2"
  }
 },
 "nbformat": 4,
 "nbformat_minor": 4
}
