{
 "cells": [
  {
   "cell_type": "markdown",
   "metadata": {},
   "source": [
    "# Reshaping data frames: An example with data from the British Election Study"
   ]
  },
  {
   "cell_type": "markdown",
   "metadata": {},
   "source": [
    "First we load an R data file that contains data from the 2010\n",
    "British election study. Here we use data from the British Election Study 2010. The data set [bes2010feelings-prepost.RData](https://github.com/melff/dataman-r/raw/main/03-data-frames/bes2010feelings-prepost.RData) is prepared from the original available at https://www.britishelectionstudy.com/data-object/2010-bes-cross-section/ by removing identifying information and scrambling the data."
   ]
  },
  {
   "cell_type": "code",
   "execution_count": null,
   "metadata": {},
   "outputs": [],
   "source": [
    "load(\"bes2010feelings-prepost.RData\")"
   ]
  },
  {
   "cell_type": "code",
   "execution_count": null,
   "metadata": {},
   "outputs": [],
   "source": [
    "names(bes2010flngs_pre)"
   ]
  },
  {
   "cell_type": "markdown",
   "metadata": {},
   "source": [
    "A sensible way to bring these data into long format would be to have the\n",
    "feelings towards the parties and their leaders as multiple measurements.\n",
    "Therefore we reshape the data in the appropriate long format:"
   ]
  },
  {
   "cell_type": "code",
   "execution_count": null,
   "metadata": {},
   "outputs": [],
   "source": [
    "bes2010flngs_pre_long <- reshape(\n",
    "              within(bes2010flngs_pre,\n",
    "                     na <- NA),\n",
    "              varying=list(\n",
    "                  # Parties\n",
    "                  c(\"flng.cons\",\"flng.labour\",\"flng.libdem\",\n",
    "                    \"flng.snp\",\"flng.pcym\",\n",
    "                    \"flng.green\",\"flng.ukip\",\"flng.bnp\"),\n",
    "                  # Party leaders\n",
    "                  c(\"flng.cameron\",\"flng.brown\",\"flng.clegg\",\n",
    "                    \"flng.salmond\",\"flng.jones\",\n",
    "                    \"na\",\"na\",\"na\")\n",
    "              ),\n",
    "              v.names=c(\"flng.parties\",\n",
    "                        \"flng.leaders\"),\n",
    "              times=c(\"Conservative\",\"Labour\",\"LibDem\",\n",
    "                      \"SNP\",\"Plaid Cymru\",\n",
    "                      \"Green\",\"UKIP\",\"BNP\"),\n",
    "              timevar=\"party\",\n",
    "              direction=\"long\")\n",
    "head(bes2010flngs_pre_long,n=14)"
   ]
  },
  {
   "cell_type": "markdown",
   "metadata": {},
   "source": [
    "The fellowing demostrates the convenience variant of `reshape()` provided by the *memisc* package, the function `Reshape()`. You may need to install this package using `install.packages(\"memisc\")` from \n",
    "[CRAN](https://cran.r-project.org/package=memisc) if you want to run this on your computer. (Package is already installed on the notebook container, however.)"
   ]
  },
  {
   "cell_type": "code",
   "execution_count": null,
   "metadata": {},
   "outputs": [],
   "source": [
    "library(memisc)"
   ]
  },
  {
   "cell_type": "markdown",
   "metadata": {},
   "source": [
    "With the `Reshape()` function the syntax is simpler than with `reshape()` from the *stats* package:"
   ]
  },
  {
   "cell_type": "code",
   "execution_count": null,
   "metadata": {},
   "outputs": [],
   "source": [
    "bes2010flngs_pre_long <- Reshape(bes2010flngs_pre,\n",
    "       # Note that \"empty\" places designate measurement\n",
    "       # occastions that are to be filled with NAs.\n",
    "       # In the present case these are measurement \n",
    "       # feelings about party leaders that were not\n",
    "       # asked in the BES 2010 questionnaires.\n",
    "       flng.leaders=c(flng.cameron,flng.brown,\n",
    "                      flng.clegg,flng.salmond,\n",
    "                      flng.jones,,,),\n",
    "       flng.parties=c(flng.cons,flng.labour,\n",
    "                      flng.libdem,flng.snp,\n",
    "                      flng.pcym,flng.green,\n",
    "                      flng.ukip,flng.bnp),\n",
    "       party=c(\"Conservative\",\"Labour\",\"LibDem\",\n",
    "               \"SNP\",\"Plaid Cymru\",\n",
    "               \"Green\",\"UKIP\",\"BNP\"),\n",
    "       direction=\"long\")"
   ]
  },
  {
   "cell_type": "markdown",
   "metadata": {},
   "source": [
    "In long format the observations are sorted such that the variable that\n",
    "distinguishes measurement occasions (the party variable) \n",
    "changes faster than the variable that distinguishes individuals:"
   ]
  },
  {
   "cell_type": "code",
   "execution_count": null,
   "metadata": {},
   "outputs": [],
   "source": [
    "head(bes2010flngs_pre_long)"
   ]
  },
  {
   "cell_type": "markdown",
   "metadata": {},
   "source": [
    "Like with `reshape()`, reshaping back from long into wide format takes (almost) the\n",
    "same syntax as reshaping from wide into long format:"
   ]
  },
  {
   "cell_type": "code",
   "execution_count": null,
   "metadata": {},
   "outputs": [],
   "source": [
    "bes2010flngs_pre_wide <- Reshape(bes2010flngs_pre_long,\n",
    "       # Note that \"empty\" places designate measurement\n",
    "       # occastions that are to be filled with NAs.\n",
    "       # In the present case these are measurement \n",
    "       # feelings about party leaders that were not\n",
    "       # asked in the BES 2010 questionnaires.\n",
    "       flng.leaders=c(flng.cameron,flng.brown,\n",
    "                      flng.clegg,flng.salmond,\n",
    "                      flng.jones,,,),\n",
    "       flng.parties=c(flng.cons,flng.labour,\n",
    "                      flng.libdem,flng.snp,\n",
    "                      flng.pcym,flng.green,\n",
    "                      flng.ukip,flng.bnp),\n",
    "       party=c(\"Conservative\",\"Labour\",\"LibDem\",\n",
    "               \"SNP\",\"Plaid Cymru\",\n",
    "               \"Green\",\"UKIP\",\"BNP\"),\n",
    "       direction=\"wide\")"
   ]
  },
  {
   "cell_type": "markdown",
   "metadata": {},
   "source": [
    "After reshaping into wide format, the variables that correspond to multiple\n",
    "measures of the same variable are grouped together:"
   ]
  },
  {
   "cell_type": "code",
   "execution_count": null,
   "metadata": {},
   "outputs": [],
   "source": [
    "head(bes2010flngs_pre_wide)"
   ]
  },
  {
   "cell_type": "code",
   "execution_count": null,
   "metadata": {},
   "outputs": [],
   "source": [
    "save(bes2010flngs_pre_long,file=\"bes2010flngs-pre-long.RData\")"
   ]
  }
 ],
 "metadata": {
  "jupytext": {
   "cell_metadata_filter": "-all"
  },
  "kernelspec": {
   "display_name": "R",
   "language": "R",
   "name": "ir"
  },
  "language_info": {
   "codemirror_mode": "r",
   "file_extension": ".r",
   "mimetype": "text/x-r-source",
   "name": "R",
   "pygments_lexer": "r",
   "version": "4.0.5"
  }
 },
 "nbformat": 4,
 "nbformat_minor": 4
}
