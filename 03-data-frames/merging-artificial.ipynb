{
 "cells": [
  {
   "cell_type": "markdown",
   "metadata": {},
   "source": [
    "# Merging data frames: An example with artificial data"
   ]
  },
  {
   "cell_type": "code",
   "execution_count": 1,
   "metadata": {
    "execution": {
     "iopub.execute_input": "2023-11-19T17:34:35.422335Z",
     "iopub.status.busy": "2023-11-19T17:34:35.419672Z",
     "iopub.status.idle": "2023-11-19T17:34:35.472824Z",
     "shell.execute_reply": "2023-11-19T17:34:35.470079Z"
    }
   },
   "outputs": [
    {
     "data": {
      "text/plain": [
       "  x y\n",
       "1 1 1\n",
       "2 3 1\n",
       "3 2 2\n",
       "4 4 2\n",
       "5 6 2\n",
       "6 5 4"
      ]
     },
     "execution_count": 1,
     "metadata": {},
     "output_type": "execute_result"
    }
   ],
   "source": [
    "df1 <- data.frame(\n",
    "    x = c(1,3,2,4,6,5),\n",
    "    y = c(1,1,2,2,2,4)\n",
    ")\n",
    "df1"
   ]
  },
  {
   "cell_type": "code",
   "execution_count": 2,
   "metadata": {
    "execution": {
     "iopub.execute_input": "2023-11-19T17:34:35.506038Z",
     "iopub.status.busy": "2023-11-19T17:34:35.477058Z",
     "iopub.status.idle": "2023-11-19T17:34:35.572909Z",
     "shell.execute_reply": "2023-11-19T17:34:35.570280Z"
    }
   },
   "outputs": [
    {
     "data": {
      "text/plain": [
       "   a b\n",
       "1 51 1\n",
       "2 42 2\n",
       "3 22 3"
      ]
     },
     "execution_count": 2,
     "metadata": {},
     "output_type": "execute_result"
    }
   ],
   "source": [
    "df2 <- data.frame(\n",
    "    a = c(51,42,22),\n",
    "    b = c(1,2,3)\n",
    ")\n",
    "df2"
   ]
  },
  {
   "cell_type": "markdown",
   "metadata": {},
   "source": [
    "In this first attempt at merging, the data frames do not share any variables,\n",
    "hence there is no way of determining which of the rows of the two data frames\n",
    "\"belong together\". In such a case each row of the first data frame is matched\n",
    "with each of the second data frame. Hence the number of rows of the result\n",
    "equals the products of the numbers of rows of the two data frames."
   ]
  },
  {
   "cell_type": "code",
   "execution_count": 3,
   "metadata": {
    "execution": {
     "iopub.execute_input": "2023-11-19T17:34:35.579571Z",
     "iopub.status.busy": "2023-11-19T17:34:35.577188Z",
     "iopub.status.idle": "2023-11-19T17:34:35.594305Z",
     "shell.execute_reply": "2023-11-19T17:34:35.591495Z"
    }
   },
   "outputs": [
    {
     "data": {
      "text/plain": [
       "   x y  a b\n",
       "1  1 1 51 1\n",
       "2  3 1 51 1\n",
       "3  2 2 51 1\n",
       "4  4 2 51 1\n",
       "5  6 2 51 1\n",
       "6  5 4 51 1\n",
       "7  1 1 42 2\n",
       "8  3 1 42 2\n",
       "9  2 2 42 2\n",
       "10 4 2 42 2\n",
       "11 6 2 42 2\n",
       "12 5 4 42 2\n",
       "13 1 1 22 3\n",
       "14 3 1 22 3\n",
       "15 2 2 22 3\n",
       "16 4 2 22 3\n",
       "17 6 2 22 3\n",
       "18 5 4 22 3"
      ]
     },
     "execution_count": 3,
     "metadata": {},
     "output_type": "execute_result"
    }
   ],
   "source": [
    "df12 <- merge(df1,df2)\n",
    "df12"
   ]
  },
  {
   "cell_type": "code",
   "execution_count": 4,
   "metadata": {
    "execution": {
     "iopub.execute_input": "2023-11-19T17:34:35.601174Z",
     "iopub.status.busy": "2023-11-19T17:34:35.598630Z",
     "iopub.status.idle": "2023-11-19T17:34:35.611956Z",
     "shell.execute_reply": "2023-11-19T17:34:35.609272Z"
    }
   },
   "outputs": [
    {
     "data": {
      "text/plain": [
       "[1] 6"
      ]
     },
     "execution_count": 4,
     "metadata": {},
     "output_type": "execute_result"
    }
   ],
   "source": [
    "nrow(df1)"
   ]
  },
  {
   "cell_type": "code",
   "execution_count": 5,
   "metadata": {
    "execution": {
     "iopub.execute_input": "2023-11-19T17:34:35.618769Z",
     "iopub.status.busy": "2023-11-19T17:34:35.616372Z",
     "iopub.status.idle": "2023-11-19T17:34:35.629826Z",
     "shell.execute_reply": "2023-11-19T17:34:35.627093Z"
    }
   },
   "outputs": [
    {
     "data": {
      "text/plain": [
       "[1] 3"
      ]
     },
     "execution_count": 5,
     "metadata": {},
     "output_type": "execute_result"
    }
   ],
   "source": [
    "nrow(df2)"
   ]
  },
  {
   "cell_type": "code",
   "execution_count": 6,
   "metadata": {
    "execution": {
     "iopub.execute_input": "2023-11-19T17:34:35.637097Z",
     "iopub.status.busy": "2023-11-19T17:34:35.634507Z",
     "iopub.status.idle": "2023-11-19T17:34:35.647973Z",
     "shell.execute_reply": "2023-11-19T17:34:35.645152Z"
    }
   },
   "outputs": [
    {
     "data": {
      "text/plain": [
       "[1] 18"
      ]
     },
     "execution_count": 6,
     "metadata": {},
     "output_type": "execute_result"
    }
   ],
   "source": [
    "nrow(df12)"
   ]
  },
  {
   "cell_type": "markdown",
   "metadata": {},
   "source": [
    "By explicitly specifying the variables used for matching, the result\n",
    "is different: It contains only rows for which matches can be found in\n",
    "both data frames"
   ]
  },
  {
   "cell_type": "code",
   "execution_count": 7,
   "metadata": {
    "execution": {
     "iopub.execute_input": "2023-11-19T17:34:35.657522Z",
     "iopub.status.busy": "2023-11-19T17:34:35.652384Z",
     "iopub.status.idle": "2023-11-19T17:34:35.670071Z",
     "shell.execute_reply": "2023-11-19T17:34:35.667400Z"
    }
   },
   "outputs": [
    {
     "data": {
      "text/plain": [
       "  y x  a\n",
       "1 1 1 51\n",
       "2 1 3 51\n",
       "3 2 2 42\n",
       "4 2 4 42\n",
       "5 2 6 42"
      ]
     },
     "execution_count": 7,
     "metadata": {},
     "output_type": "execute_result"
    }
   ],
   "source": [
    "merge(df1,df2,by.x=\"y\",by.y=\"b\")"
   ]
  },
  {
   "cell_type": "markdown",
   "metadata": {},
   "source": [
    "With the optional argument `all.x=TRUE` the result has a row for each\n",
    "row from the first data frame, whether or not a match is find for it:\n",
    "Missing information (from non-existing rows of the second data frame)\n",
    "is filled up with `NA`."
   ]
  },
  {
   "cell_type": "code",
   "execution_count": 8,
   "metadata": {
    "execution": {
     "iopub.execute_input": "2023-11-19T17:34:35.678088Z",
     "iopub.status.busy": "2023-11-19T17:34:35.675497Z",
     "iopub.status.idle": "2023-11-19T17:34:35.691250Z",
     "shell.execute_reply": "2023-11-19T17:34:35.688480Z"
    }
   },
   "outputs": [
    {
     "data": {
      "text/plain": [
       "  y x  a\n",
       "1 1 1 51\n",
       "2 1 3 51\n",
       "3 2 2 42\n",
       "4 2 4 42\n",
       "5 2 6 42\n",
       "6 4 5 NA"
      ]
     },
     "execution_count": 8,
     "metadata": {},
     "output_type": "execute_result"
    }
   ],
   "source": [
    "merge(df1,df2,by.x=\"y\",by.y=\"b\",\n",
    "      all.x=TRUE)"
   ]
  },
  {
   "cell_type": "markdown",
   "metadata": {},
   "source": [
    "With `all.y=TRUE` the result contains all rows from the second data\n",
    "frame:"
   ]
  },
  {
   "cell_type": "code",
   "execution_count": 9,
   "metadata": {
    "execution": {
     "iopub.execute_input": "2023-11-19T17:34:35.698119Z",
     "iopub.status.busy": "2023-11-19T17:34:35.695677Z",
     "iopub.status.idle": "2023-11-19T17:34:35.711916Z",
     "shell.execute_reply": "2023-11-19T17:34:35.709084Z"
    }
   },
   "outputs": [
    {
     "data": {
      "text/plain": [
       "  y  x  a\n",
       "1 1  1 51\n",
       "2 1  3 51\n",
       "3 2  2 42\n",
       "4 2  4 42\n",
       "5 2  6 42\n",
       "6 3 NA 22"
      ]
     },
     "execution_count": 9,
     "metadata": {},
     "output_type": "execute_result"
    }
   ],
   "source": [
    "merge(df1,df2,by.x=\"y\",by.y=\"b\",\n",
    "      all.y=TRUE)"
   ]
  },
  {
   "cell_type": "markdown",
   "metadata": {},
   "source": [
    "The argument setting `all=TRUE` is equivalent with\n",
    "`all.x=TRUE` and `all.y=TRUE`"
   ]
  },
  {
   "cell_type": "code",
   "execution_count": 10,
   "metadata": {
    "execution": {
     "iopub.execute_input": "2023-11-19T17:34:35.719143Z",
     "iopub.status.busy": "2023-11-19T17:34:35.716312Z",
     "iopub.status.idle": "2023-11-19T17:34:35.732318Z",
     "shell.execute_reply": "2023-11-19T17:34:35.729571Z"
    }
   },
   "outputs": [
    {
     "data": {
      "text/plain": [
       "  y  x  a\n",
       "1 1  1 51\n",
       "2 1  3 51\n",
       "3 2  2 42\n",
       "4 2  4 42\n",
       "5 2  6 42\n",
       "6 3 NA 22\n",
       "7 4  5 NA"
      ]
     },
     "execution_count": 10,
     "metadata": {},
     "output_type": "execute_result"
    }
   ],
   "source": [
    "merge(df1,df2,by.x=\"y\",by.y=\"b\",\n",
    "      all=TRUE)"
   ]
  }
 ],
 "metadata": {
  "jupytext": {
   "cell_metadata_filter": "-all"
  },
  "kernelspec": {
   "display_name": "R (RKernel)",
   "language": "R",
   "name": "rkernel"
  },
  "language_info": {
   "codemirror_mode": "R",
   "file_extension": ".R",
   "mimetype": "text/x-r-source",
   "name": "R",
   "pygments_lexer": "r",
   "version": "4.3.2"
  }
 },
 "nbformat": 4,
 "nbformat_minor": 4
}
