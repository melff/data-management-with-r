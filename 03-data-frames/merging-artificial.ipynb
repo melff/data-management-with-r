{
 "cells": [
  {
   "cell_type": "markdown",
   "metadata": {},
   "source": [
    "# Merging data frames: An example with artificial data"
   ]
  },
  {
   "cell_type": "code",
   "execution_count": 1,
   "metadata": {},
   "outputs": [],
   "source": [
    "options(jupyter.rich_display=FALSE) # Create output as usual in R"
   ]
  },
  {
   "cell_type": "code",
   "execution_count": 2,
   "metadata": {},
   "outputs": [
    {
     "data": {
      "text/plain": [
       "  x y\n",
       "1 1 1\n",
       "2 3 1\n",
       "3 2 2\n",
       "4 4 2\n",
       "5 6 2\n",
       "6 5 4"
      ]
     },
     "metadata": {},
     "output_type": "display_data"
    }
   ],
   "source": [
    "df1 <- data.frame(\n",
    "    x = c(1,3,2,4,6,5),\n",
    "    y = c(1,1,2,2,2,4)\n",
    ")\n",
    "df1"
   ]
  },
  {
   "cell_type": "code",
   "execution_count": 3,
   "metadata": {},
   "outputs": [
    {
     "data": {
      "text/plain": [
       "  a  b\n",
       "1 51 1\n",
       "2 42 2\n",
       "3 22 3"
      ]
     },
     "metadata": {},
     "output_type": "display_data"
    }
   ],
   "source": [
    "df2 <- data.frame(\n",
    "    a = c(51,42,22),\n",
    "    b = c(1,2,3)\n",
    ")\n",
    "df2"
   ]
  },
  {
   "cell_type": "markdown",
   "metadata": {},
   "source": [
    "In this first attempt at merging, the data frames do not share any variables,\n",
    "hence there is no way of determining which of the rows of the two data frames\n",
    "\"belong together\". In such a case each row of the first data frame is matched\n",
    "with each of the second data frame. Hence the number of rows of the result\n",
    "equals the products of the numbers of rows of the two data frames."
   ]
  },
  {
   "cell_type": "code",
   "execution_count": 4,
   "metadata": {},
   "outputs": [
    {
     "data": {
      "text/plain": [
       "   x y a  b\n",
       "1  1 1 51 1\n",
       "2  3 1 51 1\n",
       "3  2 2 51 1\n",
       "4  4 2 51 1\n",
       "5  6 2 51 1\n",
       "6  5 4 51 1\n",
       "7  1 1 42 2\n",
       "8  3 1 42 2\n",
       "9  2 2 42 2\n",
       "10 4 2 42 2\n",
       "11 6 2 42 2\n",
       "12 5 4 42 2\n",
       "13 1 1 22 3\n",
       "14 3 1 22 3\n",
       "15 2 2 22 3\n",
       "16 4 2 22 3\n",
       "17 6 2 22 3\n",
       "18 5 4 22 3"
      ]
     },
     "metadata": {},
     "output_type": "display_data"
    }
   ],
   "source": [
    "df12 <- merge(df1,df2)\n",
    "df12"
   ]
  },
  {
   "cell_type": "code",
   "execution_count": 5,
   "metadata": {},
   "outputs": [
    {
     "data": {
      "text/plain": [
       "[1] 6"
      ]
     },
     "metadata": {},
     "output_type": "display_data"
    }
   ],
   "source": [
    "nrow(df1)"
   ]
  },
  {
   "cell_type": "code",
   "execution_count": 6,
   "metadata": {},
   "outputs": [
    {
     "data": {
      "text/plain": [
       "[1] 3"
      ]
     },
     "metadata": {},
     "output_type": "display_data"
    }
   ],
   "source": [
    "nrow(df2)"
   ]
  },
  {
   "cell_type": "code",
   "execution_count": 7,
   "metadata": {},
   "outputs": [
    {
     "data": {
      "text/plain": [
       "[1] 18"
      ]
     },
     "metadata": {},
     "output_type": "display_data"
    }
   ],
   "source": [
    "nrow(df12)"
   ]
  },
  {
   "cell_type": "markdown",
   "metadata": {},
   "source": [
    "By explicitly specifying the variables used for matching, the result\n",
    "is different: It contains only rows for which matches can be found in\n",
    "both data frames"
   ]
  },
  {
   "cell_type": "code",
   "execution_count": 8,
   "metadata": {},
   "outputs": [
    {
     "data": {
      "text/plain": [
       "  y x a \n",
       "1 1 1 51\n",
       "2 1 3 51\n",
       "3 2 2 42\n",
       "4 2 4 42\n",
       "5 2 6 42"
      ]
     },
     "metadata": {},
     "output_type": "display_data"
    }
   ],
   "source": [
    "merge(df1,df2,by.x=\"y\",by.y=\"b\")"
   ]
  },
  {
   "cell_type": "markdown",
   "metadata": {},
   "source": [
    "With the optional argument `all.x=TRUE` the result has a row for each\n",
    "row from the first data frame, whether or not a match is find for it:\n",
    "Missing information (from non-existing rows of the second data frame)\n",
    "is filled up with `NA`."
   ]
  },
  {
   "cell_type": "code",
   "execution_count": 9,
   "metadata": {},
   "outputs": [
    {
     "data": {
      "text/plain": [
       "  y x a \n",
       "1 1 1 51\n",
       "2 1 3 51\n",
       "3 2 2 42\n",
       "4 2 4 42\n",
       "5 2 6 42\n",
       "6 4 5 NA"
      ]
     },
     "metadata": {},
     "output_type": "display_data"
    }
   ],
   "source": [
    "merge(df1,df2,by.x=\"y\",by.y=\"b\",\n",
    "      all.x=TRUE)"
   ]
  },
  {
   "cell_type": "markdown",
   "metadata": {},
   "source": [
    "With `all.y=TRUE` the result contains all rows from the second data\n",
    "frame:"
   ]
  },
  {
   "cell_type": "code",
   "execution_count": 10,
   "metadata": {},
   "outputs": [
    {
     "data": {
      "text/plain": [
       "  y x  a \n",
       "1 1  1 51\n",
       "2 1  3 51\n",
       "3 2  2 42\n",
       "4 2  4 42\n",
       "5 2  6 42\n",
       "6 3 NA 22"
      ]
     },
     "metadata": {},
     "output_type": "display_data"
    }
   ],
   "source": [
    "merge(df1,df2,by.x=\"y\",by.y=\"b\",\n",
    "      all.y=TRUE)"
   ]
  },
  {
   "cell_type": "markdown",
   "metadata": {},
   "source": [
    "The argument setting `all=TRUE` is equivalent with\n",
    "`all.x=TRUE` and `all.y=TRUE`"
   ]
  },
  {
   "cell_type": "code",
   "execution_count": 11,
   "metadata": {},
   "outputs": [
    {
     "data": {
      "text/plain": [
       "  y x  a \n",
       "1 1  1 51\n",
       "2 1  3 51\n",
       "3 2  2 42\n",
       "4 2  4 42\n",
       "5 2  6 42\n",
       "6 3 NA 22\n",
       "7 4  5 NA"
      ]
     },
     "metadata": {},
     "output_type": "display_data"
    }
   ],
   "source": [
    "merge(df1,df2,by.x=\"y\",by.y=\"b\",\n",
    "      all=TRUE)"
   ]
  },
  {
   "cell_type": "code",
   "execution_count": null,
   "metadata": {},
   "outputs": [],
   "source": []
  }
 ],
 "metadata": {
  "kernelspec": {
   "display_name": "R",
   "language": "R",
   "name": "ir"
  },
  "language_info": {
   "codemirror_mode": "r",
   "file_extension": ".r",
   "mimetype": "text/x-r-source",
   "name": "R",
   "pygments_lexer": "r",
   "version": "4.0.4"
  }
 },
 "nbformat": 4,
 "nbformat_minor": 4
}
