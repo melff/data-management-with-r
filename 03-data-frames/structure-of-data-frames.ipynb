{
 "cells": [
  {
   "cell_type": "markdown",
   "metadata": {},
   "source": [
    "# The structure of data frames"
   ]
  },
  {
   "cell_type": "markdown",
   "metadata": {},
   "source": [
    "## Data frame construction"
   ]
  },
  {
   "cell_type": "code",
   "execution_count": 1,
   "metadata": {
    "execution": {
     "iopub.execute_input": "2023-11-19T17:28:28.169112Z",
     "iopub.status.busy": "2023-11-19T17:28:28.166686Z",
     "iopub.status.idle": "2023-11-19T17:28:28.221118Z",
     "shell.execute_reply": "2023-11-19T17:28:28.218492Z"
    }
   },
   "outputs": [
    {
     "data": {
      "text/plain": [
       "  population area.sq.m GVA.cap\n",
       "1   55619400     50301   28096\n",
       "2    1885400      5460   20000\n",
       "3    5424800     30090   24800\n",
       "4    3125000      8023   19900"
      ]
     },
     "execution_count": 1,
     "metadata": {},
     "output_type": "execute_result"
    }
   ],
   "source": [
    "# First create a few vectors from which we construct the data frame:\n",
    "population  <- c(55619400,1885400,5424800,3125000)\n",
    "area.sq.m   <- c(50301,5460,30090,8023)\n",
    "GVA.cap     <- c(28096,20000,24800,19900)\n",
    "# then we use 'data.frame' to construct the data frame:\n",
    "UK <- data.frame(population,area.sq.m,GVA.cap)\n",
    "UK"
   ]
  },
  {
   "cell_type": "code",
   "execution_count": 2,
   "metadata": {
    "execution": {
     "iopub.execute_input": "2023-11-19T17:28:28.254355Z",
     "iopub.status.busy": "2023-11-19T17:28:28.225375Z",
     "iopub.status.idle": "2023-11-19T17:28:28.326832Z",
     "shell.execute_reply": "2023-11-19T17:28:28.323979Z"
    }
   },
   "outputs": [
    {
     "data": {
      "text/plain": [
       "[1] \"population\" \"area.sq.m\"  \"GVA.cap\"   "
      ]
     },
     "execution_count": 2,
     "metadata": {},
     "output_type": "execute_result"
    },
    {
     "data": {
      "text/plain": [
       "  Population  Area   GVA\n",
       "1   55619400 50301 28096\n",
       "2    1885400  5460 20000\n",
       "3    5424800 30090 24800\n",
       "4    3125000  8023 19900"
      ]
     },
     "execution_count": 2,
     "metadata": {},
     "output_type": "execute_result"
    }
   ],
   "source": [
    "names(UK)\n",
    "names(UK) <- c(\"Population\",\"Area\",\"GVA\")\n",
    "UK"
   ]
  },
  {
   "cell_type": "code",
   "execution_count": 3,
   "metadata": {
    "execution": {
     "iopub.execute_input": "2023-11-19T17:28:28.333671Z",
     "iopub.status.busy": "2023-11-19T17:28:28.331175Z",
     "iopub.status.idle": "2023-11-19T17:28:28.344599Z",
     "shell.execute_reply": "2023-11-19T17:28:28.341589Z"
    }
   },
   "outputs": [
    {
     "data": {
      "text/plain": [
       "[1] \"1\" \"2\" \"3\" \"4\""
      ]
     },
     "execution_count": 3,
     "metadata": {},
     "output_type": "execute_result"
    }
   ],
   "source": [
    "row.names(UK)"
   ]
  },
  {
   "cell_type": "code",
   "execution_count": 4,
   "metadata": {
    "execution": {
     "iopub.execute_input": "2023-11-19T17:28:28.351557Z",
     "iopub.status.busy": "2023-11-19T17:28:28.349021Z",
     "iopub.status.idle": "2023-11-19T17:28:28.364444Z",
     "shell.execute_reply": "2023-11-19T17:28:28.361530Z"
    }
   },
   "outputs": [
    {
     "data": {
      "text/plain": [
       "                 Population  Area   GVA\n",
       "England            55619400 50301 28096\n",
       "Northern Ireland    1885400  5460 20000\n",
       "Scotland            5424800 30090 24800\n",
       "Wales               3125000  8023 19900"
      ]
     },
     "execution_count": 4,
     "metadata": {},
     "output_type": "execute_result"
    }
   ],
   "source": [
    "row.names(UK) <- c(\"England\",\n",
    "                   \"Northern Ireland\",\n",
    "                   \"Scotland\",\n",
    "                   \"Wales\")\n",
    "UK"
   ]
  },
  {
   "cell_type": "code",
   "execution_count": 5,
   "metadata": {
    "execution": {
     "iopub.execute_input": "2023-11-19T17:28:28.371284Z",
     "iopub.status.busy": "2023-11-19T17:28:28.368850Z",
     "iopub.status.idle": "2023-11-19T17:28:28.384214Z",
     "shell.execute_reply": "2023-11-19T17:28:28.381464Z"
    }
   },
   "outputs": [
    {
     "data": {
      "text/plain": [
       "                 Population  Area   GVA\n",
       "England            55619400 50301 28096\n",
       "Northern Ireland    1885400  5460 20000\n",
       "Scotland            5424800 30090 24800\n",
       "Wales               3125000  8023 19900"
      ]
     },
     "execution_count": 5,
     "metadata": {},
     "output_type": "execute_result"
    }
   ],
   "source": [
    "# It is also possible to set the names and row names in the data frame explicitly, when this\n",
    "# appears more convenient:\n",
    "UK <- data.frame(\n",
    "           Population = c(55619400,1885400,5424800,3125000),\n",
    "           Area = c(50301,5460,30090,8023),\n",
    "           GVA = c(28096,20000,24800,19900),\n",
    "           row.names = c(\"England\",\n",
    "                         \"Northern Ireland\",\n",
    "                         \"Scotland\",\n",
    "                         \"Wales\"))\n",
    "UK"
   ]
  },
  {
   "cell_type": "code",
   "execution_count": 6,
   "metadata": {
    "execution": {
     "iopub.execute_input": "2023-11-19T17:28:28.391068Z",
     "iopub.status.busy": "2023-11-19T17:28:28.388592Z",
     "iopub.status.idle": "2023-11-19T17:28:28.402356Z",
     "shell.execute_reply": "2023-11-19T17:28:28.399410Z"
    }
   },
   "outputs": [
    {
     "data": {
      "text/plain": [
       "[1] 4"
      ]
     },
     "execution_count": 6,
     "metadata": {},
     "output_type": "execute_result"
    }
   ],
   "source": [
    "nrow(UK)"
   ]
  },
  {
   "cell_type": "code",
   "execution_count": 7,
   "metadata": {
    "execution": {
     "iopub.execute_input": "2023-11-19T17:28:28.409295Z",
     "iopub.status.busy": "2023-11-19T17:28:28.406827Z",
     "iopub.status.idle": "2023-11-19T17:28:28.422994Z",
     "shell.execute_reply": "2023-11-19T17:28:28.420323Z"
    }
   },
   "outputs": [
    {
     "data": {
      "text/plain": [
       "[1] 3"
      ]
     },
     "execution_count": 7,
     "metadata": {},
     "output_type": "execute_result"
    }
   ],
   "source": [
    "ncol(UK)"
   ]
  },
  {
   "cell_type": "code",
   "execution_count": 8,
   "metadata": {
    "execution": {
     "iopub.execute_input": "2023-11-19T17:28:28.429913Z",
     "iopub.status.busy": "2023-11-19T17:28:28.427385Z",
     "iopub.status.idle": "2023-11-19T17:28:28.441138Z",
     "shell.execute_reply": "2023-11-19T17:28:28.438165Z"
    }
   },
   "outputs": [
    {
     "data": {
      "text/plain": [
       "[1] 4 3"
      ]
     },
     "execution_count": 8,
     "metadata": {},
     "output_type": "execute_result"
    }
   ],
   "source": [
    "dim(UK)"
   ]
  },
  {
   "cell_type": "markdown",
   "metadata": {},
   "source": [
    "## In what follows we treat the data frame 'UK' as a list:"
   ]
  },
  {
   "cell_type": "code",
   "execution_count": 9,
   "metadata": {
    "execution": {
     "iopub.execute_input": "2023-11-19T17:28:28.448360Z",
     "iopub.status.busy": "2023-11-19T17:28:28.445847Z",
     "iopub.status.idle": "2023-11-19T17:28:28.459165Z",
     "shell.execute_reply": "2023-11-19T17:28:28.456378Z"
    }
   },
   "outputs": [
    {
     "data": {
      "text/plain": [
       "[1] 55619400  1885400  5424800  3125000"
      ]
     },
     "execution_count": 9,
     "metadata": {},
     "output_type": "execute_result"
    }
   ],
   "source": [
    "# Here we get the variable 'Population':\n",
    "UK$Population"
   ]
  },
  {
   "cell_type": "code",
   "execution_count": 10,
   "metadata": {
    "execution": {
     "iopub.execute_input": "2023-11-19T17:28:28.465954Z",
     "iopub.status.busy": "2023-11-19T17:28:28.463513Z",
     "iopub.status.idle": "2023-11-19T17:28:28.477023Z",
     "shell.execute_reply": "2023-11-19T17:28:28.473977Z"
    }
   },
   "outputs": [
    {
     "data": {
      "text/plain": [
       "[1] 55619400  1885400  5424800  3125000"
      ]
     },
     "execution_count": 10,
     "metadata": {},
     "output_type": "execute_result"
    }
   ],
   "source": [
    "# Analoguously, one can use the double bracket-operator ('[[]]')\n",
    "# to get the variable 'Population':\n",
    "UK[[\"Population\"]]"
   ]
  },
  {
   "cell_type": "code",
   "execution_count": 11,
   "metadata": {
    "execution": {
     "iopub.execute_input": "2023-11-19T17:28:28.484174Z",
     "iopub.status.busy": "2023-11-19T17:28:28.481487Z",
     "iopub.status.idle": "2023-11-19T17:28:28.496247Z",
     "shell.execute_reply": "2023-11-19T17:28:28.493519Z"
    }
   },
   "outputs": [
    {
     "data": {
      "text/plain": [
       "                 Population  Area\n",
       "England            55619400 50301\n",
       "Northern Ireland    1885400  5460\n",
       "Scotland            5424800 30090\n",
       "Wales               3125000  8023"
      ]
     },
     "execution_count": 11,
     "metadata": {},
     "output_type": "execute_result"
    }
   ],
   "source": [
    "# Also the single bracket-operator works as with lists.\n",
    "# We get a data frame of the first two variables in\n",
    "# the data frame\n",
    "UK[1:2]"
   ]
  },
  {
   "cell_type": "code",
   "execution_count": 12,
   "metadata": {
    "execution": {
     "iopub.execute_input": "2023-11-19T17:28:28.502976Z",
     "iopub.status.busy": "2023-11-19T17:28:28.500561Z",
     "iopub.status.idle": "2023-11-19T17:28:28.514917Z",
     "shell.execute_reply": "2023-11-19T17:28:28.512204Z"
    }
   },
   "outputs": [
    {
     "data": {
      "text/plain": [
       "                 Population   GVA\n",
       "England            55619400 28096\n",
       "Northern Ireland    1885400 20000\n",
       "Scotland            5424800 24800\n",
       "Wales               3125000 19900"
      ]
     },
     "execution_count": 12,
     "metadata": {},
     "output_type": "execute_result"
    }
   ],
   "source": [
    "# Now we get a data frame with the variables named 'Population' and\n",
    "# 'GVA'\n",
    "UK[c(\"Population\",\"GVA\")]"
   ]
  },
  {
   "cell_type": "markdown",
   "metadata": {},
   "source": [
    "## In the next few lines show the selection of rows and columns of a data frame"
   ]
  },
  {
   "cell_type": "code",
   "execution_count": 13,
   "metadata": {
    "execution": {
     "iopub.execute_input": "2023-11-19T17:28:28.524369Z",
     "iopub.status.busy": "2023-11-19T17:28:28.521638Z",
     "iopub.status.idle": "2023-11-19T17:28:28.536701Z",
     "shell.execute_reply": "2023-11-19T17:28:28.533960Z"
    }
   },
   "outputs": [
    {
     "data": {
      "text/plain": [
       "                 Population  Area   GVA\n",
       "England            55619400 50301 28096\n",
       "Northern Ireland    1885400  5460 20000"
      ]
     },
     "execution_count": 13,
     "metadata": {},
     "output_type": "execute_result"
    }
   ],
   "source": [
    "# We select the first two rows of the\n",
    "# data frame 'UK' by just using their numbers:\n",
    "UK[1:2,]"
   ]
  },
  {
   "cell_type": "code",
   "execution_count": 14,
   "metadata": {
    "execution": {
     "iopub.execute_input": "2023-11-19T17:28:28.546994Z",
     "iopub.status.busy": "2023-11-19T17:28:28.541996Z",
     "iopub.status.idle": "2023-11-19T17:28:28.569539Z",
     "shell.execute_reply": "2023-11-19T17:28:28.564079Z"
    }
   },
   "outputs": [
    {
     "data": {
      "text/plain": [
       "         Population  Area   GVA\n",
       "Scotland    5424800 30090 24800\n",
       "Wales       3125000  8023 19900"
      ]
     },
     "execution_count": 14,
     "metadata": {},
     "output_type": "execute_result"
    }
   ],
   "source": [
    "# By referring to row names, we select Scotland and Wales:\n",
    "UK[c(\"Scotland\",\"Wales\"),]"
   ]
  },
  {
   "cell_type": "code",
   "execution_count": 15,
   "metadata": {
    "execution": {
     "iopub.execute_input": "2023-11-19T17:28:28.581861Z",
     "iopub.status.busy": "2023-11-19T17:28:28.576916Z",
     "iopub.status.idle": "2023-11-19T17:28:28.604773Z",
     "shell.execute_reply": "2023-11-19T17:28:28.599458Z"
    }
   },
   "outputs": [
    {
     "data": {
      "text/plain": [
       "                 Population  Area\n",
       "England            55619400 50301\n",
       "Northern Ireland    1885400  5460\n",
       "Scotland            5424800 30090\n",
       "Wales               3125000  8023"
      ]
     },
     "execution_count": 15,
     "metadata": {},
     "output_type": "execute_result"
    }
   ],
   "source": [
    "# As in a previous example, we select the first two columns ...\n",
    "UK[,1:2]"
   ]
  },
  {
   "cell_type": "code",
   "execution_count": 16,
   "metadata": {
    "execution": {
     "iopub.execute_input": "2023-11-19T17:28:28.617404Z",
     "iopub.status.busy": "2023-11-19T17:28:28.612379Z",
     "iopub.status.idle": "2023-11-19T17:28:28.635530Z",
     "shell.execute_reply": "2023-11-19T17:28:28.632674Z"
    }
   },
   "outputs": [
    {
     "data": {
      "text/plain": [
       "                 Population   GVA\n",
       "England            55619400 28096\n",
       "Northern Ireland    1885400 20000\n",
       "Scotland            5424800 24800\n",
       "Wales               3125000 19900"
      ]
     },
     "execution_count": 16,
     "metadata": {},
     "output_type": "execute_result"
    }
   ],
   "source": [
    "# and the variables named 'Population' and 'GVA'\n",
    "UK[,c(\"Population\",\"GVA\")]"
   ]
  }
 ],
 "metadata": {
  "jupytext": {
   "cell_metadata_filter": "-all"
  },
  "kernelspec": {
   "display_name": "R (RKernel)",
   "language": "R",
   "name": "rkernel"
  },
  "language_info": {
   "codemirror_mode": "R",
   "file_extension": ".R",
   "mimetype": "text/x-r-source",
   "name": "R",
   "pygments_lexer": "r",
   "version": "4.3.2"
  }
 },
 "nbformat": 4,
 "nbformat_minor": 4
}
