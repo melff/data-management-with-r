{
 "cells": [
  {
   "cell_type": "markdown",
   "metadata": {},
   "source": [
    "# The structure of data frames"
   ]
  },
  {
   "cell_type": "markdown",
   "metadata": {},
   "source": [
    "## Data frame construction"
   ]
  },
  {
   "cell_type": "code",
   "execution_count": null,
   "metadata": {},
   "outputs": [],
   "source": [
    "# First create a few vectors from which we construct the data frame:\n",
    "population  <- c(55619400,1885400,5424800,3125000)\n",
    "area.sq.m   <- c(50301,5460,30090,8023)\n",
    "GVA.cap     <- c(28096,20000,24800,19900)\n",
    "# then we use 'data.frame' to construct the data frame:\n",
    "UK <- data.frame(population,area.sq.m,GVA.cap)\n",
    "UK"
   ]
  },
  {
   "cell_type": "code",
   "execution_count": null,
   "metadata": {},
   "outputs": [],
   "source": [
    "names(UK)\n",
    "names(UK) <- c(\"Population\",\"Area\",\"GVA\")\n",
    "UK"
   ]
  },
  {
   "cell_type": "code",
   "execution_count": null,
   "metadata": {},
   "outputs": [],
   "source": [
    "row.names(UK)"
   ]
  },
  {
   "cell_type": "code",
   "execution_count": null,
   "metadata": {},
   "outputs": [],
   "source": [
    "row.names(UK) <- c(\"England\",\n",
    "                   \"Northern Ireland\",\n",
    "                   \"Scotland\",\n",
    "                   \"Wales\")\n",
    "UK"
   ]
  },
  {
   "cell_type": "code",
   "execution_count": null,
   "metadata": {},
   "outputs": [],
   "source": [
    "# It is also possible to set the names and row names in the data frame explicitly, when this\n",
    "# appears more convenient:\n",
    "UK <- data.frame(\n",
    "           Population = c(55619400,1885400,5424800,3125000),\n",
    "           Area = c(50301,5460,30090,8023),\n",
    "           GVA = c(28096,20000,24800,19900),\n",
    "           row.names = c(\"England\",\n",
    "                         \"Northern Ireland\",\n",
    "                         \"Scotland\",\n",
    "                         \"Wales\"))\n",
    "UK"
   ]
  },
  {
   "cell_type": "code",
   "execution_count": null,
   "metadata": {},
   "outputs": [],
   "source": [
    "nrow(UK)"
   ]
  },
  {
   "cell_type": "code",
   "execution_count": null,
   "metadata": {},
   "outputs": [],
   "source": [
    "ncol(UK)"
   ]
  },
  {
   "cell_type": "code",
   "execution_count": null,
   "metadata": {},
   "outputs": [],
   "source": [
    "dim(UK)"
   ]
  },
  {
   "cell_type": "markdown",
   "metadata": {},
   "source": [
    "## In what follows we treat the data frame 'UK' as a list:"
   ]
  },
  {
   "cell_type": "code",
   "execution_count": null,
   "metadata": {},
   "outputs": [],
   "source": [
    "# Here we get the variable 'Population':\n",
    "UK$Population"
   ]
  },
  {
   "cell_type": "code",
   "execution_count": null,
   "metadata": {},
   "outputs": [],
   "source": [
    "# Analoguously, one can use the double bracket-operator ('[[]]')\n",
    "# to get the variable 'Population':\n",
    "UK[[\"Population\"]]"
   ]
  },
  {
   "cell_type": "code",
   "execution_count": null,
   "metadata": {},
   "outputs": [],
   "source": [
    "# Also the single bracket-operator works as with lists.\n",
    "# We get a data frame of the first two variables in\n",
    "# the data frame\n",
    "UK[1:2]"
   ]
  },
  {
   "cell_type": "code",
   "execution_count": null,
   "metadata": {},
   "outputs": [],
   "source": [
    "# Now we get a data frame with the variables named 'Population' and\n",
    "# 'GVA'\n",
    "UK[c(\"Population\",\"GVA\")]"
   ]
  },
  {
   "cell_type": "markdown",
   "metadata": {},
   "source": [
    "## In the next few lines show the selection of rows and columns of a data frame"
   ]
  },
  {
   "cell_type": "code",
   "execution_count": null,
   "metadata": {},
   "outputs": [],
   "source": [
    "# We select the first two rows of the\n",
    "# data frame 'UK' by just using their numbers:\n",
    "UK[1:2,]"
   ]
  },
  {
   "cell_type": "code",
   "execution_count": null,
   "metadata": {},
   "outputs": [],
   "source": [
    "# By referring to row names, we select Scotland and Wales:\n",
    "UK[c(\"Scotland\",\"Wales\"),]"
   ]
  },
  {
   "cell_type": "code",
   "execution_count": null,
   "metadata": {},
   "outputs": [],
   "source": [
    "# As in a previous example, we select the first two columns ...\n",
    "UK[,1:2]"
   ]
  },
  {
   "cell_type": "code",
   "execution_count": null,
   "metadata": {},
   "outputs": [],
   "source": [
    "# and the variables named 'Population' and 'GVA'\n",
    "UK[,c(\"Population\",\"GVA\")]"
   ]
  }
 ],
 "metadata": {
  "jupytext": {
   "cell_metadata_filter": "-all"
  },
  "kernelspec": {
   "display_name": "R",
   "language": "R",
   "name": "ir"
  },
  "language_info": {
   "codemirror_mode": "r",
   "file_extension": ".r",
   "mimetype": "text/x-r-source",
   "name": "R",
   "pygments_lexer": "r",
   "version": "4.0.5"
  }
 },
 "nbformat": 4,
 "nbformat_minor": 4
}
