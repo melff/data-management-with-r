{
 "cells": [
  {
   "cell_type": "markdown",
   "id": "7a0160a1-ee01-4507-bcf7-e7043883e444",
   "metadata": {},
   "source": [
    "# Data Frames and their Management\n",
    "\n",
    "This chapter describes how a typical data set used in multivariate analysis is composed - i.e. as a rectangular arrangement of variables and observations. The chapter further describes ways to manipulate data _within_ data frames and how data frames can be restricted, combined, and reshaped. The chapter also discusses how data in various formats can be imported. Such data formats include CSV, TAB-delimited, and fixed-column files.\n",
    "\n",
    "Below is the supporting material for the various sections of the chapter.\n",
    "\n",
    "This chapter describes how a typical data set used in multivariate analysis is composed - i.e. as a rectangular arrangement of variables and observations. The chapter further describes ways to manipulate data _within_ data frames and how data frames can be restricted, combined, and reshaped. The chapter also discusses how data in various formats can be imported. Such data formats include CSV, TAB-delimited, and fixed-column files.\n",
    "\n",
    "Below is the supporting material for the various sections of the chapter.\n",
    "\n",
    "## The Structure of Data Frames\n",
    "\n",
    "- [The structure of data frames](structure-of-data-frames.ipynb)\n",
    "\n",
    "## Accessing and Changing Variables in Data Frames\n",
    "\n",
    "- [Accessing and changing variables](accessing-and-changing-variables.ipynb)\n",
    "\n",
    "## Manipulating Data Frames\n",
    "\n",
    "- [Creating subsets of data frames](subsetting.ipynb)\n",
    "- [Merging data frames: An example with data from the British Election Study](merging-BES.ipynb)\n",
    "- [Merging data frames: An example with artificial data](merging-artificial.ipynb)\n",
    "- [Appending data frames](appending.ipynb)\n",
    "- [Reshaping data frames: An example with artificial data](reshaping-artificial.ipynb)\n",
    "- [Reshaping data frames: An example with data from the British Election Study](reshaping-BES.ipynb)\n",
    "- [Sorting data frames](sorting.ipynb)\n",
    "\n",
    "## Aggregating Data Frames\n",
    "\n",
    "- [Aggregating data frames](aggregating.ipynb)\n",
    "\n",
    "## Groupwise computations within Data Frames\n",
    "\n",
    "- [Groupwise computations within data frames](groupwise-computations.ipynb)\n",
    "\n",
    "## Importing Data into Data Frames\n",
    "\n",
    "- [Importing data into data frames](importing-data.ipynb)\n"
   ]
  }
 ],
 "metadata": {
  "kernelspec": {
   "display_name": "R (RKernel)",
   "language": "R",
   "name": "rkernel"
  },
  "language_info": {
   "codemirror_mode": "R",
   "file_extension": ".R",
   "mimetype": "text/x-r-source",
   "name": "R",
   "pygments_lexer": "r",
   "version": "4.3.2"
  }
 },
 "nbformat": 4,
 "nbformat_minor": 5
}
