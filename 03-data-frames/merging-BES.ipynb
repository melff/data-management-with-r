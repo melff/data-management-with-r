{
 "cells": [
  {
   "cell_type": "markdown",
   "metadata": {},
   "source": [
    "# Merging data frames: An example with data from the British Election Study"
   ]
  },
  {
   "cell_type": "code",
   "execution_count": 1,
   "metadata": {},
   "outputs": [],
   "source": [
    "options(jupyter.rich_display=FALSE) # Create output as usual in R"
   ]
  },
  {
   "cell_type": "markdown",
   "metadata": {},
   "source": [
    "Here we merge data from the British Election Study. Here we use data from the British Election Study 2010. The data set [bes2010feelings-prepost-for-merge.RData](https://github.com/melff/dataman-r/raw/main/data-frames/bes2010feelings-prepost-for-merge.RData) is prepared from the original available at https://www.britishelectionstudy.com/data-object/2010-bes-cross-section/ by removing identifying information and scrambling the data."
   ]
  },
  {
   "cell_type": "code",
   "execution_count": 2,
   "metadata": {},
   "outputs": [],
   "source": [
    "load(\"bes2010feelings-prepost-for-merge.RData\")"
   ]
  },
  {
   "cell_type": "markdown",
   "metadata": {},
   "source": [
    "A peek into a data frame about respondents' feelings about\n",
    "parties:"
   ]
  },
  {
   "cell_type": "code",
   "execution_count": 3,
   "metadata": {},
   "outputs": [
    {
     "data": {
      "text/plain": [
       "        id    refno vote   flng.labour flng.cons flng.libdem flng.snp flng.pcym\n",
       "40103.1 40103 312   NA     5           6         4           NA       NA       \n",
       "40107.1 40107 312   NA     1           6         7           NA       NA       \n",
       "40109.1 40109 312   NA     3           4         5           NA       NA       \n",
       "40110.1 40110 312   Labour 6           6         5           NA       NA       \n",
       "40111.1 40111 312   Labour 8           4         5           NA       NA       \n",
       "40112.1 40112 312   Labour 5           1         4           NA       NA       \n",
       "        flng.green flng.ukip flng.bnp region \n",
       "40103.1 7           3        0        England\n",
       "40107.1 6           0        0        NA     \n",
       "40109.1 5           0        0        England\n",
       "40110.1 5           3        2        England\n",
       "40111.1 4          NA        2        NA     \n",
       "40112.1 4           0        0        England"
      ]
     },
     "metadata": {},
     "output_type": "display_data"
    }
   ],
   "source": [
    "head(bes2010flngs_parties_pre)"
   ]
  },
  {
   "cell_type": "markdown",
   "metadata": {},
   "source": [
    "And anotehr peek into a data frame about respondents' feelings about\n",
    "party leaders:"
   ]
  },
  {
   "cell_type": "code",
   "execution_count": 4,
   "metadata": {},
   "outputs": [
    {
     "data": {
      "text/plain": [
       "        id    flng.brown flng.cameron flng.clegg flng.salmond flng.jones\n",
       "40103.1 40103 6          3            3          NA            5        \n",
       "40107.1 40107 3          7            5          NA            3        \n",
       "40109.1 40109 8          7            4          NA           10        \n",
       "40110.1 40110 4          4            3          NA            7        \n",
       "40111.1 40111 5          5            5          NA            5        \n",
       "40112.1 40112 5          0            4          NA            1        "
      ]
     },
     "metadata": {},
     "output_type": "display_data"
    }
   ],
   "source": [
    "head(bes2010flngs_leaders_pre)"
   ]
  },
  {
   "cell_type": "markdown",
   "metadata": {},
   "source": [
    "The variable that identifies individual respondents in both\n",
    "data frames is 'id', so we use this variable to match the\n",
    "rows in both data frames:"
   ]
  },
  {
   "cell_type": "code",
   "execution_count": 5,
   "metadata": {},
   "outputs": [],
   "source": [
    "bes2010flngs_pre_merged <- merge(\n",
    "    bes2010flngs_parties_pre,\n",
    "    bes2010flngs_leaders_pre,\n",
    "    by=\"id\"\n",
    ")"
   ]
  },
  {
   "cell_type": "markdown",
   "metadata": {},
   "source": [
    "`merge()` also allows for identifier variables that may have\n",
    "different names in the two data frame. In such cases\n",
    "one can use the named arguments `by.x=` and `by.y=`:"
   ]
  },
  {
   "cell_type": "code",
   "execution_count": 6,
   "metadata": {},
   "outputs": [],
   "source": [
    "bes2010flngs_pre_merged <- merge(\n",
    "    bes2010flngs_parties_pre,\n",
    "    bes2010flngs_leaders_pre,\n",
    "    by.x=\"id\",\n",
    "    by.y=\"id\"\n",
    ")"
   ]
  },
  {
   "cell_type": "markdown",
   "metadata": {},
   "source": [
    "It is not absolutely necessary to provide a `by=` argument, if\n",
    "the merged data frames share a variable (with the same name in both)\n",
    "that idenfies cases or observations. Therefore, we can call `merge()` here without any `by=`, `by.x=`, or `by.y=` arguments:"
   ]
  },
  {
   "cell_type": "code",
   "execution_count": 7,
   "metadata": {},
   "outputs": [
    {
     "data": {
      "text/plain": [
       "  id    refno vote   flng.labour flng.cons flng.libdem flng.snp flng.pcym\n",
       "1 40103 312   NA     5           6         4           NA       NA       \n",
       "2 40107 312   NA     1           6         7           NA       NA       \n",
       "3 40109 312   NA     3           4         5           NA       NA       \n",
       "4 40110 312   Labour 6           6         5           NA       NA       \n",
       "5 40111 312   Labour 8           4         5           NA       NA       \n",
       "6 40112 312   Labour 5           1         4           NA       NA       \n",
       "  flng.green flng.ukip flng.bnp region  flng.brown flng.cameron flng.clegg\n",
       "1 7           3        0        England 6          3            3         \n",
       "2 6           0        0        NA      3          7            5         \n",
       "3 5           0        0        England 8          7            4         \n",
       "4 5           3        2        England 4          4            3         \n",
       "5 4          NA        2        NA      5          5            5         \n",
       "6 4           0        0        England 5          0            4         \n",
       "  flng.salmond flng.jones\n",
       "1 NA            5        \n",
       "2 NA            3        \n",
       "3 NA           10        \n",
       "4 NA            7        \n",
       "5 NA            5        \n",
       "6 NA            1        "
      ]
     },
     "metadata": {},
     "output_type": "display_data"
    }
   ],
   "source": [
    "bes2010flngs_pre_merged <- merge(\n",
    "    bes2010flngs_parties_pre,\n",
    "    bes2010flngs_leaders_pre\n",
    ")\n",
    "head(bes2010flngs_pre_merged)"
   ]
  },
  {
   "cell_type": "markdown",
   "metadata": {},
   "source": [
    "The data frame `constwin` contains data about relectoral districts, that is\n",
    "which party won the respective district seat in 2005 and 2010. The\n",
    "variable that identifies the electoral district is both in the individual-level\n",
    "data frame and the district-level data frame is named `refno`, so we use this\n",
    "as a matching variable."
   ]
  },
  {
   "cell_type": "code",
   "execution_count": 8,
   "metadata": {},
   "outputs": [],
   "source": [
    "bes2010pre_merged <- merge(\n",
    "    bes2010flngs_pre_merged,\n",
    "    constwin,\n",
    "    by = \"refno\" # Not necessary in the present case, because\n",
    ")                # it is the same in both data frames."
   ]
  },
  {
   "cell_type": "markdown",
   "metadata": {},
   "source": [
    "As can be glimpsed from the output of `str`, the result of `merge` is\n",
    "sorted by the matching variable, i.e. \"refno\""
   ]
  },
  {
   "cell_type": "code",
   "execution_count": 9,
   "metadata": {},
   "outputs": [
    {
     "data": {
      "text/plain": [
       "  refno id    vote          flng.labour flng.cons flng.libdem flng.snp\n",
       "1 1     77920 Plaid Cymru    6          5         5           NA      \n",
       "2 1     57911 NA             5          3         3           NA      \n",
       "3 1     57905 Labour        10          0         3           NA      \n",
       "4 1     57906 Labour        10          0         4           NA      \n",
       "5 1     57910 Conservatives  0          9         3           NA      \n",
       "6 1     57902 Conservatives  8          9         6           NA      \n",
       "  flng.pcym flng.green flng.ukip ⋯ flng.brown flng.cameron flng.clegg\n",
       "1 7         7          5         ⋯  0         8            NA        \n",
       "2 3         4          0         ⋯  6         5             5        \n",
       "3 5         3          4         ⋯  8         0             4        \n",
       "4 3         0          6         ⋯ 10         0             0        \n",
       "5 3         6          2         ⋯  0         9             0        \n",
       "6 5         5          6         ⋯  4         8             6        \n",
       "  flng.salmond flng.jones seat     win05  win10  maj05 maj10\n",
       "1 NA            4         Aberavon Labour Labour 46.3  35.7 \n",
       "2 NA            6         Aberavon Labour Labour 46.3  35.7 \n",
       "3 NA            0         Aberavon Labour Labour 46.3  35.7 \n",
       "4 NA           10         Aberavon Labour Labour 46.3  35.7 \n",
       "5 NA            0         Aberavon Labour Labour 46.3  35.7 \n",
       "6 NA            7         Aberavon Labour Labour 46.3  35.7 "
      ]
     },
     "metadata": {},
     "output_type": "display_data"
    }
   ],
   "source": [
    "head(bes2010pre_merged)"
   ]
  },
  {
   "cell_type": "code",
   "execution_count": null,
   "metadata": {},
   "outputs": [],
   "source": []
  }
 ],
 "metadata": {
  "kernelspec": {
   "display_name": "R",
   "language": "R",
   "name": "ir"
  },
  "language_info": {
   "codemirror_mode": "r",
   "file_extension": ".r",
   "mimetype": "text/x-r-source",
   "name": "R",
   "pygments_lexer": "r",
   "version": "4.0.4"
  },
  "nteract": {
   "version": "0.28.0"
  }
 },
 "nbformat": 4,
 "nbformat_minor": 4
}
