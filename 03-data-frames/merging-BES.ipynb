{
 "cells": [
  {
   "cell_type": "markdown",
   "metadata": {},
   "source": [
    "# Merging data frames: An example with data from the British Election Study"
   ]
  },
  {
   "cell_type": "markdown",
   "metadata": {},
   "source": [
    "Here we merge data from the British Election Study. Here we use data from the British Election Study 2010. The data set [bes2010feelings-prepost-for-merge.RData](https://github.com/melff/dataman-r/raw/main/data-frames/bes2010feelings-prepost-for-merge.RData) is prepared from the original available at https://www.britishelectionstudy.com/data-object/2010-bes-cross-section/ by removing identifying information and scrambling the data."
   ]
  },
  {
   "cell_type": "code",
   "execution_count": null,
   "metadata": {},
   "outputs": [],
   "source": [
    "load(\"bes2010feelings-prepost-for-merge.RData\")"
   ]
  },
  {
   "cell_type": "markdown",
   "metadata": {},
   "source": [
    "A peek into a data frame about respondents' feelings about\n",
    "parties:"
   ]
  },
  {
   "cell_type": "code",
   "execution_count": null,
   "metadata": {},
   "outputs": [],
   "source": [
    "head(bes2010flngs_parties_pre)"
   ]
  },
  {
   "cell_type": "markdown",
   "metadata": {},
   "source": [
    "And anotehr peek into a data frame about respondents' feelings about\n",
    "party leaders:"
   ]
  },
  {
   "cell_type": "code",
   "execution_count": null,
   "metadata": {},
   "outputs": [],
   "source": [
    "head(bes2010flngs_leaders_pre)"
   ]
  },
  {
   "cell_type": "markdown",
   "metadata": {},
   "source": [
    "The variable that identifies individual respondents in both\n",
    "data frames is 'id', so we use this variable to match the\n",
    "rows in both data frames:"
   ]
  },
  {
   "cell_type": "code",
   "execution_count": null,
   "metadata": {},
   "outputs": [],
   "source": [
    "bes2010flngs_pre_merged <- merge(\n",
    "    bes2010flngs_parties_pre,\n",
    "    bes2010flngs_leaders_pre,\n",
    "    by=\"id\"\n",
    ")"
   ]
  },
  {
   "cell_type": "markdown",
   "metadata": {},
   "source": [
    "`merge()` also allows for identifier variables that may have\n",
    "different names in the two data frame. In such cases\n",
    "one can use the named arguments `by.x=` and `by.y=`:"
   ]
  },
  {
   "cell_type": "code",
   "execution_count": null,
   "metadata": {},
   "outputs": [],
   "source": [
    "bes2010flngs_pre_merged <- merge(\n",
    "    bes2010flngs_parties_pre,\n",
    "    bes2010flngs_leaders_pre,\n",
    "    by.x=\"id\",\n",
    "    by.y=\"id\"\n",
    ")"
   ]
  },
  {
   "cell_type": "markdown",
   "metadata": {},
   "source": [
    "It is not absolutely necessary to provide a `by=` argument, if\n",
    "the merged data frames share a variable (with the same name in both)\n",
    "that idenfies cases or observations. Therefore, we can call `merge()` here without any `by=`, `by.x=`, or `by.y=` arguments:"
   ]
  },
  {
   "cell_type": "code",
   "execution_count": null,
   "metadata": {},
   "outputs": [],
   "source": [
    "bes2010flngs_pre_merged <- merge(\n",
    "    bes2010flngs_parties_pre,\n",
    "    bes2010flngs_leaders_pre\n",
    ")\n",
    "head(bes2010flngs_pre_merged)"
   ]
  },
  {
   "cell_type": "markdown",
   "metadata": {},
   "source": [
    "The data frame `constwin` contains data about relectoral districts, that is\n",
    "which party won the respective district seat in 2005 and 2010. The\n",
    "variable that identifies the electoral district is both in the individual-level\n",
    "data frame and the district-level data frame is named `refno`, so we use this\n",
    "as a matching variable."
   ]
  },
  {
   "cell_type": "code",
   "execution_count": null,
   "metadata": {},
   "outputs": [],
   "source": [
    "bes2010pre_merged <- merge(\n",
    "    bes2010flngs_pre_merged,\n",
    "    constwin,\n",
    "    by = \"refno\" # Not necessary in the present case, because\n",
    ")                # it is the same in both data frames."
   ]
  },
  {
   "cell_type": "markdown",
   "metadata": {},
   "source": [
    "As can be glimpsed from the output of `str`, the result of `merge` is\n",
    "sorted by the matching variable, i.e. \"refno\""
   ]
  },
  {
   "cell_type": "code",
   "execution_count": null,
   "metadata": {},
   "outputs": [],
   "source": [
    "head(bes2010pre_merged)"
   ]
  }
 ],
 "metadata": {
  "kernelspec": {
   "display_name": "R",
   "language": "R",
   "name": "ir"
  },
  "language_info": {
   "codemirror_mode": "r",
   "file_extension": ".r",
   "mimetype": "text/x-r-source",
   "name": "R",
   "pygments_lexer": "r",
   "version": "4.0.5"
  },
  "nteract": {
   "version": "0.28.0"
  }
 },
 "nbformat": 4,
 "nbformat_minor": 4
}
