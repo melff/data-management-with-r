{
 "cells": [
  {
   "cell_type": "code",
   "execution_count": 1,
   "metadata": {},
   "outputs": [
    {
     "name": "stdout",
     "output_type": "stream",
     "text": [
      "Hello world!\n",
      "[1] 1\n",
      "[1] 2\n"
     ]
    }
   ],
   "source": [
    "## Running a script with and without echo\n",
    "source(\"source-echo-demo.R\")"
   ]
  },
  {
   "cell_type": "code",
   "execution_count": 2,
   "metadata": {},
   "outputs": [
    {
     "name": "stdout",
     "output_type": "stream",
     "text": [
      "\n",
      "> cat(\"Hello world!\\n\")\n",
      "Hello world!\n",
      "\n",
      "> a <- 1\n",
      "\n",
      "> b <- 2\n",
      "\n",
      "> a\n",
      "[1] 1\n",
      "\n",
      "> print(a)\n",
      "[1] 1\n",
      "\n",
      "> b\n",
      "[1] 2\n",
      "\n",
      "> show(b)\n",
      "[1] 2\n"
     ]
    }
   ],
   "source": [
    "source(\"source-echo-demo.R\",echo=TRUE)"
   ]
  }
 ],
 "metadata": {
  "kernelspec": {
   "display_name": "R",
   "language": "R",
   "name": "ir"
  },
  "language_info": {
   "codemirror_mode": "r",
   "file_extension": ".r",
   "mimetype": "text/x-r-source",
   "name": "R",
   "pygments_lexer": "r",
   "version": "4.0.3"
  }
 },
 "nbformat": 4,
 "nbformat_minor": 4
}
