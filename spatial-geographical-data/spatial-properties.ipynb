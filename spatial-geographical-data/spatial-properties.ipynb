{
 "cells": [
  {
   "cell_type": "code",
   "execution_count": 1,
   "metadata": {},
   "outputs": [],
   "source": [
    "options(jupyter.rich_display=FALSE) # Create output as usual in R"
   ]
  },
  {
   "cell_type": "code",
   "execution_count": 2,
   "metadata": {},
   "outputs": [
    {
     "name": "stderr",
     "output_type": "stream",
     "text": [
      "Linking to GEOS 3.7.1, GDAL 2.4.0, PROJ 5.2.0\n",
      "\n"
     ]
    }
   ],
   "source": [
    "library(sf)"
   ]
  },
  {
   "cell_type": "code",
   "execution_count": 3,
   "metadata": {},
   "outputs": [],
   "source": [
    "load(\"south-america-1990.RData\")\n",
    "load(\"three-countries.RData\")"
   ]
  },
  {
   "cell_type": "code",
   "execution_count": 4,
   "metadata": {},
   "outputs": [
    {
     "data": {
      "text/plain": [
       "8.472314e+12 [m^2]"
      ]
     },
     "metadata": {},
     "output_type": "display_data"
    }
   ],
   "source": [
    "st_area(Brazil)"
   ]
  },
  {
   "cell_type": "code",
   "execution_count": 5,
   "metadata": {},
   "outputs": [
    {
     "data": {
      "text/plain": [
       "8472314 [km^2]"
      ]
     },
     "metadata": {},
     "output_type": "display_data"
    }
   ],
   "source": [
    "in_km2 <- function(x) units::set_units(x,\"km^2\")\n",
    "in_km2(st_area(Brazil))"
   ]
  },
  {
   "cell_type": "code",
   "execution_count": 6,
   "metadata": {},
   "outputs": [
    {
     "data": {
      "text/plain": [
       "Units: [km^2]\n",
       " [1]  210585.6  144986.2  910860.6 2780991.8 1086612.6 8472314.3  744390.5\n",
       " [8]  255309.8  398803.1 1290857.6  177861.7 1135173.0"
      ]
     },
     "metadata": {},
     "output_type": "display_data"
    }
   ],
   "source": [
    "in_km2(st_area(SthAmCountries))"
   ]
  },
  {
   "cell_type": "code",
   "execution_count": 7,
   "metadata": {},
   "outputs": [
    {
     "data": {
      "text/plain": [
       "Units: [km^2]\n",
       "   Guyana  Suriname Venezuela Argentina   Bolivia    Brazil     Chile   Ecuador \n",
       " 210585.6  144986.2  910860.6 2780991.8 1086612.6 8472314.3  744390.5  255309.8 \n",
       " Paraguay      Peru   Uruguay  Colombia \n",
       " 398803.1 1290857.6  177861.7 1135173.0 "
      ]
     },
     "metadata": {},
     "output_type": "display_data"
    }
   ],
   "source": [
    "structure(in_km2(st_area(SthAmCountries)),\n",
    "          names=as.character(SthAmCountries$CNTRY_NAME))"
   ]
  },
  {
   "cell_type": "code",
   "execution_count": 8,
   "metadata": {},
   "outputs": [
    {
     "data": {
      "text/plain": [
       "Units: [m]\n",
       "        [,1]\n",
       "[1,] 3663768"
      ]
     },
     "metadata": {},
     "output_type": "display_data"
    }
   ],
   "source": [
    "st_distance(Brasilia,Bogota)"
   ]
  },
  {
   "cell_type": "code",
   "execution_count": 9,
   "metadata": {},
   "outputs": [
    {
     "data": {
      "text/plain": [
       "Units: [m]\n",
       "        [,1]\n",
       "[1,] 2496612"
      ]
     },
     "metadata": {},
     "output_type": "display_data"
    }
   ],
   "source": [
    "st_distance(Chile,Bogota)"
   ]
  },
  {
   "cell_type": "code",
   "execution_count": 10,
   "metadata": {},
   "outputs": [
    {
     "data": {
      "text/plain": [
       "Units: [m]\n",
       "        [,1]\n",
       "[1,] 1468577"
      ]
     },
     "metadata": {},
     "output_type": "display_data"
    }
   ],
   "source": [
    "# This takes a while, because R needs to figure out which points of the borders are the closest to one another\n",
    "st_distance(Chile,Colombia)"
   ]
  },
  {
   "cell_type": "code",
   "execution_count": 11,
   "metadata": {},
   "outputs": [
    {
     "data": {
      "text/plain": [
       "Units: [km]\n",
       "         [,1]\n",
       "[1,] 3663.768"
      ]
     },
     "metadata": {},
     "output_type": "display_data"
    }
   ],
   "source": [
    "in_km <- function(x) units::set_units(x,\"km\")\n",
    "in_km(st_distance(Brasilia,Bogota))"
   ]
  },
  {
   "cell_type": "code",
   "execution_count": 12,
   "metadata": {},
   "outputs": [
    {
     "data": {
      "text/plain": [
       "Units: [km]\n",
       "         [,1]     [,2]     [,3]\n",
       "[1,]    0.000 3014.942 3663.768\n",
       "[2,] 3014.942    0.000 4232.052\n",
       "[3,] 3663.768 4232.052    0.000"
      ]
     },
     "metadata": {},
     "output_type": "display_data"
    }
   ],
   "source": [
    "in_km(st_distance(ThreeCapitals))"
   ]
  }
 ],
 "metadata": {
  "kernelspec": {
   "display_name": "R",
   "language": "R",
   "name": "ir"
  },
  "language_info": {
   "codemirror_mode": "r",
   "file_extension": ".r",
   "mimetype": "text/x-r-source",
   "name": "R",
   "pygments_lexer": "r",
   "version": "4.0.3"
  }
 },
 "nbformat": 4,
 "nbformat_minor": 4
}
