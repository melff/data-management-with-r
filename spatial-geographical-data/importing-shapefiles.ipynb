{
 "cells": [
  {
   "cell_type": "code",
   "execution_count": 1,
   "metadata": {},
   "outputs": [],
   "source": [
    "options(jupyter.rich_display=FALSE) # Create output as usual in R\n",
    "options(width=100)"
   ]
  },
  {
   "cell_type": "code",
   "execution_count": 2,
   "metadata": {},
   "outputs": [],
   "source": [
    "# The data used here are available from https://ucdp.uu.se/downloads/index.html#ged_polygons\n",
    "#download.file(\"https://ucdp.uu.se/downloads/ged/ucdp-ged-poly-v-1-1-shape.zip\",\n",
    "#              \"ucdp-ged-poly-v-1-1-shape.zip\")"
   ]
  },
  {
   "cell_type": "code",
   "execution_count": 3,
   "metadata": {},
   "outputs": [
    {
     "data": {
      "text/plain": [
       "   Name                                                     Length  Date               \n",
       "1  ARCGIS Readme.txt                                            251 2012-03-28 16:07:00\n",
       "2  UCDP GED Conflict Polygons Codebook version 1.1-2011.pdf 1006764 2012-03-28 16:02:00\n",
       "3  UCDPGEDpoly.dbf                                           744174 2012-03-21 16:09:00\n",
       "4  UCDPGEDpoly.prj                                              145 2012-03-21 16:09:00\n",
       "5  UCDPGEDpoly.sbn                                             4820 2012-03-21 16:09:00\n",
       "6  UCDPGEDpoly.sbx                                              372 2012-03-21 16:09:00\n",
       "7  UCDPGEDpoly.shp                                            73892 2012-03-21 16:09:00\n",
       "8  UCDPGEDpoly.shx                                             4100 2012-03-21 16:09:00\n",
       "9  UCDPGEDpolyyear.dbf                                      1907966 2012-03-21 16:08:00\n",
       "10 UCDPGEDpolyyear.prj                                          145 2012-03-21 16:08:00\n",
       "11 UCDPGEDpolyyear.sbn                                        11620 2012-03-21 16:08:00\n",
       "12 UCDPGEDpolyyear.sbx                                          764 2012-03-21 16:08:00\n",
       "13 UCDPGEDpolyyear.shp                                       165460 2012-03-21 16:08:00\n",
       "14 UCDPGEDpolyyear.shx                                         9156 2012-03-21 16:08:00"
      ]
     },
     "metadata": {},
     "output_type": "display_data"
    }
   ],
   "source": [
    "unzip(\"ucdp-ged-poly-v-1-1-shape.zip\",list=TRUE)"
   ]
  },
  {
   "cell_type": "code",
   "execution_count": 4,
   "metadata": {},
   "outputs": [],
   "source": [
    "unzip(\"ucdp-ged-poly-v-1-1-shape.zip\",\n",
    "      files=c(\n",
    "          \"UCDPGEDpoly.shx\",\n",
    "          \"UCDPGEDpoly.shp\",\n",
    "          \"UCDPGEDpoly.dbf\"\n",
    "          ))"
   ]
  },
  {
   "cell_type": "code",
   "execution_count": 5,
   "metadata": {},
   "outputs": [
    {
     "name": "stderr",
     "output_type": "stream",
     "text": [
      "Linking to GEOS 3.7.1, GDAL 2.4.0, PROJ 5.2.0\n",
      "\n"
     ]
    },
    {
     "name": "stdout",
     "output_type": "stream",
     "text": [
      "Reading layer `UCDPGEDpoly' from data source `/home/elff/R/SageBook/dataman-r/spatial-geographical-data/UCDPGEDpoly.shx' using driver `ESRI Shapefile'\n",
      "Simple feature collection with 500 features and 20 fields\n",
      "geometry type:  POLYGON\n",
      "dimension:      XY\n",
      "bbox:           xmin: -17.3381 ymin: -34.1831 xmax: 50.8833 ymax: 37.0542\n",
      "CRS:            NA\n"
     ]
    }
   ],
   "source": [
    "library(sf)\n",
    "# All three of the following lines are equivalent:\n",
    "UCDPGEDpoly <- st_read(\"UCDPGEDpoly.shx\")"
   ]
  },
  {
   "cell_type": "code",
   "execution_count": 6,
   "metadata": {},
   "outputs": [
    {
     "name": "stdout",
     "output_type": "stream",
     "text": [
      "Reading layer `UCDPGEDpoly' from data source `/home/elff/R/SageBook/dataman-r/spatial-geographical-data/UCDPGEDpoly.shp' using driver `ESRI Shapefile'\n",
      "Simple feature collection with 500 features and 20 fields\n",
      "geometry type:  POLYGON\n",
      "dimension:      XY\n",
      "bbox:           xmin: -17.3381 ymin: -34.1831 xmax: 50.8833 ymax: 37.0542\n",
      "CRS:            NA\n"
     ]
    }
   ],
   "source": [
    "UCDPGEDpoly <- st_read(\"UCDPGEDpoly.shp\")"
   ]
  },
  {
   "cell_type": "code",
   "execution_count": 7,
   "metadata": {},
   "outputs": [
    {
     "name": "stdout",
     "output_type": "stream",
     "text": [
      "Reading layer `UCDPGEDpoly' from data source `/home/elff/R/SageBook/dataman-r/spatial-geographical-data/UCDPGEDpoly.dbf' using driver `ESRI Shapefile'\n",
      "Simple feature collection with 500 features and 20 fields\n",
      "geometry type:  POLYGON\n",
      "dimension:      XY\n",
      "bbox:           xmin: -17.3381 ymin: -34.1831 xmax: 50.8833 ymax: 37.0542\n",
      "CRS:            NA\n"
     ]
    }
   ],
   "source": [
    "UCDPGEDpoly <- st_read(\"UCDPGEDpoly.dbf\")"
   ]
  },
  {
   "cell_type": "code",
   "execution_count": 8,
   "metadata": {},
   "outputs": [
    {
     "name": "stdout",
     "output_type": "stream",
     "text": [
      "Simple feature collection with 500 features and 20 fields\n",
      "geometry type:  POLYGON\n",
      "dimension:      XY\n",
      "bbox:           xmin: -17.3381 ymin: -34.1831 xmax: 50.8833 ymax: 37.0542\n",
      "CRS:            NA\n",
      "First 10 features:\n",
      "          pName      lat      lon type_of_vi dyadID_1 Split_dyad\n",
      "1    LNE-1-17-A  4.31667 18.58330          1       17          0\n",
      "2  LNE-1-189A-A -4.30917 15.28470          1        0          1\n",
      "3    LNE-1-19-A 12.71670 20.48330          1       19          0\n",
      "4   LNE-1-191-A -5.63333 12.51670          1      191          0\n",
      "5    LNE-1-20-A 15.50000 22.91000          1       20          0\n",
      "6   LNE-1-210-A  3.80000 45.56670          1      210          0\n",
      "7    LNE-1-23-A 14.96670 22.78330          1       23          0\n",
      "8    LNE-1-2B-A 33.28330  6.88333          1        0          1\n",
      "9  LNE-1-650B-A 14.64370 -6.01970          1        0          1\n",
      "10  LNE-1-811-A  9.25944 42.12580          1      811          0\n",
      "                                                                              dyad_name\n",
      "1  Government of Central African Republic - Military faction (Forces of André Kolingba)\n",
      "2                                          Government of the Republic of Congo - Cobras\n",
      "3                                                          Government of Chad - MOSANAT\n",
      "4                                                         Government of Angola - FLEC-R\n",
      "5                                                   Government of Chad - Islamic Legion\n",
      "6                                                           Government of Somalia - USC\n",
      "7                                                              Government of Chad - MPS\n",
      "8                                             Government of Algeria - Takfir wa'l Hijra\n",
      "9                                                            Government of Mali - ATNMC\n",
      "10                                                        Government of Ethiopia - IGLF\n",
      "                 conflict_n conflict_I                                 side_A side_A_ID\n",
      "1  Central African Republic        222 Government of Central African Republic       482\n",
      "2                     Congo        214    Government of the Republic of Congo       484\n",
      "3                      Chad         91                     Government of Chad       483\n",
      "4          Angola (Cabinda)        192                   Government of Angola       540\n",
      "5                      Chad         91                     Government of Chad       483\n",
      "6                   Somalia        141                  Government of Somalia       520\n",
      "7                      Chad         91                     Government of Chad       483\n",
      "8                   Algeria        191                  Government of Algeria       615\n",
      "9             Mali (Azawad)        177                     Government of Mali       432\n",
      "10      Ethiopia (Hararghe)        268                 Government of Ethiopia       530\n",
      "                                        side_B side_B_ID no_of_even low_est best_est high_est\n",
      "1  Military faction (Forces of André Kolingba)      1406         11     231      231      331\n",
      "2                                       Cobras      1398         23    1396     1396     3456\n",
      "3                                      MOSANAT      1290          2      50       50       50\n",
      "4                                       FLEC-R      1392          2       0        0       72\n",
      "5                               Islamic Legion      1288          3       0        0      930\n",
      "6                                      USC/SSA      1352         11    4456     4456     4657\n",
      "7                                          MPS      1291          3     400      400     2200\n",
      "8                            Takfir wa'l Hijra      1388          2      20       20       20\n",
      "9                                        ATNMC      1375          2      15       15       26\n",
      "10                                        IGLF      2000          2      67       67       67\n",
      "   date_first date_fir_1  date_last                       geometry\n",
      "1  2001-05-27 2001-06-01 2001-12-01 POLYGON ((18.5833 4.31667, ...\n",
      "2  1997-06-05 1997-06-06 1997-10-16 POLYGON ((15.315 -4.37972, ...\n",
      "3  1989-03-03 1989-03-03 1989-03-03 POLYGON ((20.9052 9.88969, ...\n",
      "4  1994-02-07       <NA> 1994-11-15 POLYGON ((12.5167 -5.63333,...\n",
      "5  1990-04-03       <NA> 1990-11-16 POLYGON ((22.7833 14.9667, ...\n",
      "6  1990-11-18 1990-11-18 1991-01-28 POLYGON ((45.3667 2.01667, ...\n",
      "7  1990-11-14 1990-11-19 1990-11-25 POLYGON ((22.7833 14.9667, ...\n",
      "8  1991-11-29       <NA> 1991-12-09 POLYGON ((6.88333 33.2833, ...\n",
      "9  2008-05-06       <NA> 2008-12-20 POLYGON ((-6.0197 14.6437, ...\n",
      "10 1991-10-10 1991-10-10 1991-10-10 POLYGON ((42.1258 9.25944, ...\n"
     ]
    }
   ],
   "source": [
    "print(UCDPGEDpoly)"
   ]
  }
 ],
 "metadata": {
  "kernelspec": {
   "display_name": "R",
   "language": "R",
   "name": "ir"
  },
  "language_info": {
   "codemirror_mode": "r",
   "file_extension": ".r",
   "mimetype": "text/x-r-source",
   "name": "R",
   "pygments_lexer": "r",
   "version": "4.0.3"
  }
 },
 "nbformat": 4,
 "nbformat_minor": 4
}
