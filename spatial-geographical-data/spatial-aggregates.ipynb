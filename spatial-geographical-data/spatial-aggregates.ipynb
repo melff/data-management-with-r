{
 "cells": [
  {
   "cell_type": "markdown",
   "metadata": {},
   "source": [
    "# Aggregating spatial feature objects"
   ]
  },
  {
   "cell_type": "code",
   "execution_count": 1,
   "metadata": {},
   "outputs": [],
   "source": [
    "options(jupyter.rich_display=FALSE) # Create output as usual in R"
   ]
  },
  {
   "cell_type": "markdown",
   "metadata": {},
   "source": [
    "The following makes use of the *sf* package. You may need to install it from\n",
    "[CRAN](https://cran.r-project.org/package=sf) using the code\n",
    "`install.packages(\"sf\")` if you want to run this on your computer. (The\n",
    "package is already installed on the notebook container, however.)"
   ]
  },
  {
   "cell_type": "code",
   "execution_count": 2,
   "metadata": {},
   "outputs": [
    {
     "name": "stderr",
     "output_type": "stream",
     "text": [
      "Linking to GEOS 3.7.1, GDAL 2.4.0, PROJ 5.2.0\n",
      "\n"
     ]
    }
   ],
   "source": [
    "library(sf)"
   ]
  },
  {
   "cell_type": "markdown",
   "metadata": {},
   "source": [
    "The files \"south-america-1990.RData\", \"ged101.RData\", and \"cshapes-1990.RData\" where created by an earlier example."
   ]
  },
  {
   "cell_type": "code",
   "execution_count": 3,
   "metadata": {},
   "outputs": [],
   "source": [
    "load(\"south-america-1990.RData\")\n",
    "load(\"ged191.RData\")\n",
    "load(\"cshapes-1990.RData\")"
   ]
  },
  {
   "cell_type": "code",
   "execution_count": 4,
   "metadata": {},
   "outputs": [],
   "source": [
    "ged191_ellips <- st_transform(ged191,st_crs(cshapes.1990))"
   ]
  },
  {
   "cell_type": "code",
   "execution_count": 5,
   "metadata": {},
   "outputs": [
    {
     "name": "stderr",
     "output_type": "stream",
     "text": [
      "although coordinates are longitude/latitude, st_intersects assumes that they are planar\n",
      "\n"
     ]
    },
    {
     "data": {
      "text/plain": [
       "   deaths_civilians geometry                      \n",
       "0    20             MULTIPOLYGON (((-58.17262 6...\n",
       "1    NA             MULTIPOLYGON (((-55.12796 5...\n",
       "3   792             MULTIPOLYGON (((-66.31029 1...\n",
       "6     0             MULTIPOLYGON (((-71.85916 -...\n",
       "7     0             MULTIPOLYGON (((-62.19884 -...\n",
       "8   164             MULTIPOLYGON (((-44.69501 -...\n",
       "9    NA             MULTIPOLYGON (((-73.0421 -4...\n",
       "10   15             MULTIPOLYGON (((-79.45167 -...\n",
       "11    0             MULTIPOLYGON (((-57.67267 -...\n",
       "12 1021             MULTIPOLYGON (((-69.49973 -...\n",
       "13   NA             MULTIPOLYGON (((-58.38889 -...\n",
       "27 6015             MULTIPOLYGON (((-74.86081 1..."
      ]
     },
     "metadata": {},
     "output_type": "display_data"
    }
   ],
   "source": [
    "# Civilian deaths per country\n",
    "aggregate(ged191_ellips[\"deaths_civilians\"],by=SthAmCountries,sum)"
   ]
  },
  {
   "cell_type": "code",
   "execution_count": 6,
   "metadata": {},
   "outputs": [
    {
     "name": "stderr",
     "output_type": "stream",
     "text": [
      "although coordinates are longitude/latitude, st_intersects assumes that they are planar\n",
      "\n"
     ]
    },
    {
     "data": {
      "text/plain": [
       "   deaths_civilians geometry                       country  \n",
       "0    20             MULTIPOLYGON (((-58.17262 6... Guyana   \n",
       "1    NA             MULTIPOLYGON (((-55.12796 5... Suriname \n",
       "3   792             MULTIPOLYGON (((-66.31029 1... Venezuela\n",
       "6     0             MULTIPOLYGON (((-71.85916 -... Argentina\n",
       "7     0             MULTIPOLYGON (((-62.19884 -... Bolivia  \n",
       "8   164             MULTIPOLYGON (((-44.69501 -... Brazil   \n",
       "9    NA             MULTIPOLYGON (((-73.0421 -4... Chile    \n",
       "10   15             MULTIPOLYGON (((-79.45167 -... Ecuador  \n",
       "11    0             MULTIPOLYGON (((-57.67267 -... Paraguay \n",
       "12 1021             MULTIPOLYGON (((-69.49973 -... Peru     \n",
       "13   NA             MULTIPOLYGON (((-58.38889 -... Uruguay  \n",
       "27 6015             MULTIPOLYGON (((-74.86081 1... Colombia "
      ]
     },
     "metadata": {},
     "output_type": "display_data"
    }
   ],
   "source": [
    "# Civilian deaths per country, with country names\n",
    "within(\n",
    "    aggregate(ged191_ellips[\"deaths_civilians\"],by=SthAmCountries,sum),\n",
    "    country <- SthAmCountries$CNTRY_NAME)"
   ]
  },
  {
   "cell_type": "code",
   "execution_count": 7,
   "metadata": {},
   "outputs": [],
   "source": [
    "st_circ <- function(x,dist.km){\n",
    "    dist.degr <- 360*dist.km/40007.863\n",
    "    st_buffer(st_geometry(x),dist=dist.degr)\n",
    "}"
   ]
  },
  {
   "cell_type": "code",
   "execution_count": 8,
   "metadata": {},
   "outputs": [
    {
     "name": "stderr",
     "output_type": "stream",
     "text": [
      "Warning message in st_buffer.sfc(st_geometry(x), dist = dist.degr):\n",
      "“st_buffer does not correctly buffer longitude/latitude data”\n",
      "dist is assumed to be in decimal degrees (arc_degrees).\n",
      "\n",
      "although coordinates are longitude/latitude, st_difference assumes that they are planar\n",
      "\n"
     ]
    }
   ],
   "source": [
    "Bogota.region <- st_circ(Bogota,dist.km=200)\n",
    "Colombia.rest <- st_difference(st_geometry(Colombia),Bogota.region)"
   ]
  },
  {
   "cell_type": "code",
   "execution_count": 9,
   "metadata": {},
   "outputs": [
    {
     "name": "stderr",
     "output_type": "stream",
     "text": [
      "although coordinates are longitude/latitude, st_intersects assumes that they are planar\n",
      "\n"
     ]
    },
    {
     "data": {
      "text/plain": [
       "  deaths_civilians geometry                      \n",
       "1 1021             POLYGON ((-72.30035 4.6, -7...\n",
       "2 4994             MULTIPOLYGON (((-74.86081 1..."
      ]
     },
     "metadata": {},
     "output_type": "display_data"
    }
   ],
   "source": [
    "# Civilian deaths in the Bogota region and the rest of Colombia\n",
    "aggregate(ged191_ellips[\"deaths_civilians\"],\n",
    "          by=c(Bogota.region,Colombia.rest),\n",
    "          sum)"
   ]
  }
 ],
 "metadata": {
  "kernelspec": {
   "display_name": "R",
   "language": "R",
   "name": "ir"
  },
  "language_info": {
   "codemirror_mode": "r",
   "file_extension": ".r",
   "mimetype": "text/x-r-source",
   "name": "R",
   "pygments_lexer": "r",
   "version": "4.0.4"
  }
 },
 "nbformat": 4,
 "nbformat_minor": 4
}
