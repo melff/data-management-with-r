{
 "cells": [
  {
   "cell_type": "markdown",
   "metadata": {},
   "source": [
    "# The structure of objects of classes defined in the *sf* package"
   ]
  },
  {
   "cell_type": "code",
   "execution_count": 1,
   "metadata": {},
   "outputs": [],
   "source": [
    "options(jupyter.rich_display=FALSE) # Create output as usual in R"
   ]
  },
  {
   "cell_type": "markdown",
   "metadata": {},
   "source": [
    "The data used is available from the website of the [Upsala Conflict Data Program](https://ucdp.uu.se) as part of the zip file [\"ged191-RData.zip\"](https://ucdp.uu.se/downloads/ged/ged191-RData.zip)."
   ]
  },
  {
   "cell_type": "code",
   "execution_count": 2,
   "metadata": {},
   "outputs": [],
   "source": [
    "unzip(\"ged191-RData.zip\")\n",
    "load(\"ged191.RData\")"
   ]
  },
  {
   "cell_type": "code",
   "execution_count": 3,
   "metadata": {},
   "outputs": [
    {
     "data": {
      "text/plain": [
       "[1] \"sf\"         \"data.frame\""
      ]
     },
     "metadata": {},
     "output_type": "display_data"
    }
   ],
   "source": [
    "class(ged191)"
   ]
  },
  {
   "cell_type": "code",
   "execution_count": 4,
   "metadata": {},
   "outputs": [
    {
     "data": {
      "text/plain": [
       "[1] 152616"
      ]
     },
     "metadata": {},
     "output_type": "display_data"
    }
   ],
   "source": [
    "# Number of observations\n",
    "nrow(ged191)"
   ]
  },
  {
   "cell_type": "code",
   "execution_count": 5,
   "metadata": {},
   "outputs": [
    {
     "data": {
      "text/plain": [
       "[1] 43"
      ]
     },
     "metadata": {},
     "output_type": "display_data"
    }
   ],
   "source": [
    "# Number of variables\n",
    "ncol(ged191)"
   ]
  },
  {
   "cell_type": "markdown",
   "metadata": {},
   "source": [
    "The following makes use of the *sf* package. You may need to install it from\n",
    "[CRAN](https://cran.r-project.org/package=sf) using the code\n",
    "`install.packages(\"sf\")` if you want to run this on your computer. (The\n",
    "package is already installed on the notebook container, however.) "
   ]
  },
  {
   "cell_type": "code",
   "execution_count": 6,
   "metadata": {},
   "outputs": [
    {
     "name": "stderr",
     "output_type": "stream",
     "text": [
      "Linking to GEOS 3.7.1, GDAL 2.4.0, PROJ 5.2.0\n",
      "\n"
     ]
    }
   ],
   "source": [
    "library(sf)"
   ]
  },
  {
   "cell_type": "code",
   "execution_count": 17,
   "metadata": {},
   "outputs": [
    {
     "name": "stdout",
     "output_type": "stream",
     "text": [
      "Simple feature collection with 152616 features and 3 fields\n",
      "geometry type:  POINT\n",
      "dimension:      XY\n",
      "bbox:           xmin: -117.3 ymin: -37.81361 xmax: 155.8967 ymax: 61.25\n",
      "CRS:            EPSG:4326\n",
      "First 10 features:\n",
      "   country_id      region low                   geometry\n",
      "1         432      Africa  31  POINT (-3.89474 14.94329)\n",
      "2         490      Africa 100  POINT (30.77583 1.769722)\n",
      "3         490      Africa   4 POINT (28.87694 -1.651944)\n",
      "4         750        Asia   2  POINT (74.72549 34.37893)\n",
      "5         750        Asia  12   POINT (74.16729 34.3726)\n",
      "6         640 Middle East  13   POINT (40.08422 38.3827)\n",
      "7         750        Asia   1              POINT (93 26)\n",
      "8         490      Africa  70        POINT (29.08 -1.25)\n",
      "9         520      Africa  11  POINT (45.36667 2.066667)\n",
      "10        483      Africa   2  POINT (17.00055 21.35833)\n"
     ]
    }
   ],
   "source": [
    "options(width=140)\n",
    "# Using the adapted 'print()' method from the 'sf' package for an extract of the data.\n",
    "print(ged191[c(7:8,42)])"
   ]
  },
  {
   "cell_type": "code",
   "execution_count": 8,
   "metadata": {},
   "outputs": [
    {
     "name": "stdout",
     "output_type": "stream",
     "text": [
      "Classes ‘sf’ and 'data.frame':\t152616 obs. of  43 variables:\n",
      " $ year             : num  2013 2004 2007 2008 2008 ...\n",
      " $ side_b           : chr  \"MUJAO\" \"Civilians\" \"PARECO\" \"Kashmir insurgents\" ...\n",
      " $ active_year      : num  1 1 0 1 1 1 0 1 1 1 ...\n",
      " $ side_a           : chr  \"Government of Mali\" \"FNI\" \"CNDP\" \"Government of India\" ...\n",
      " $ priogrid_gid     : num  150833 132182 127138 179070 179069 ...\n",
      " $ conflict_new_id  : num  11347 583 4600 364 364 ...\n",
      " $ country_id       : num  432 490 490 750 750 640 750 490 520 483 ...\n",
      " $ region           : chr  \"Africa\" \"Africa\" \"Africa\" \"Asia\" ...\n",
      " $ source_article   : chr  \"\\\"Agence France Presse,2013-01-12,French pilot killed in Mali helicopter raid: defence ministry\\\";\\\"Agence Fran\"| __truncated__ \"Reuters 2004-01-23\\nS/2004/573\" \"http://www.monuc.org/News.aspx?newsId=16672\" \"SATP, 2008-3-5\" ...\n",
      " $ type_of_violence : num  1 3 2 1 1 1 3 1 1 1 ...\n",
      " $ date_prec        : num  2 2 2 2 2 2 1 2 2 2 ...\n",
      " $ source_headline  : chr  \"French pilot killed in Mali helicopter raid: defence ministry;Mali town counts dead after French strikes on Isl\"| __truncated__ \"\" \"\" \"\" ...\n",
      " $ conflict_name    : chr  \"Mali: Government\" \"FNI - Civilians\" \"CNDP - PARECO\" \"India: Kashmir\" ...\n",
      " $ dyad_name        : chr  \"Government of Mali - MUJAO\" \"FNI - Civilians\" \"CNDP - PARECO\" \"Government of India - Kashmir insurgents\" ...\n",
      " $ event_clarity    : num  1 1 1 1 1 1 1 1 1 1 ...\n",
      " $ where_coordinates: chr  \"Konna town\" \"Gobu village\" \"Ngungu village\" \"Chithi Bandi village\" ...\n",
      " $ date_end         : chr  \"2013/01/12\" \"2004/01/16\" \"2007/12/18\" \"2008/03/05\" ...\n",
      " $ side_b_new_id    : num  1161 1 896 325 325 ...\n",
      " $ dyad_new_id      : num  12571 1050 5210 792 792 ...\n",
      " $ high             : num  50 200 4 2 12 30 1 80 11 72 ...\n",
      " $ source_office    : chr  \"Agence France Presse;Agence France Presse;Agence France Presse;Reuters News;Agence France Presse;Agence France \"| __truncated__ \"\" \"\" \"\" ...\n",
      " $ gwnob            : chr  NA NA NA NA ...\n",
      " $ deaths_civilians : num  3 200 4 0 0 0 1 0 0 0 ...\n",
      " $ best             : num  31 200 4 2 12 13 1 80 11 2 ...\n",
      " $ number_of_sources: num  7 -1 -1 -1 -1 -1 -1 8 -1 -1 ...\n",
      " $ source_date      : chr  \"2013-01-12;2013-01-28;2013-01-12;2013-01-12;2013-01-15;2013-01-12;2013-01-30\" \"\" \"\" \"\" ...\n",
      " $ longitude        : num  -3.89 30.78 28.88 74.73 74.17 ...\n",
      " $ where_prec       : num  1 1 2 1 3 3 4 1 1 1 ...\n",
      " $ side_a_new_id    : num  72 606 426 141 141 115 326 89 95 87 ...\n",
      " $ id               : num  67972 23385 24255 82612 82645 ...\n",
      " $ source_original  : chr  \"French Defence Minister Jean-Yves Le Drian;  residents\" \"local official\" \"\" \"SATP\" ...\n",
      " $ adm_1            : chr  \"Mopti region\" \"Ituri province\" \"Nord Kivu province\" \"Jammu and Kashmir State\" ...\n",
      " $ gwnoa            : chr  \"432\" NA NA \"750\" ...\n",
      " $ country          : chr  \"Mali\" \"DR Congo (Zaire)\" \"DR Congo (Zaire)\" \"India\" ...\n",
      " $ adm_2            : chr  \"Mopti cercle\" \"Djugu territory\" \"Masisi territory\" \"Bandipore district\" ...\n",
      " $ latitude         : num  14.94 1.77 -1.65 34.38 34.37 ...\n",
      " $ geom_wkt         : chr  \"POINT (-3.894740 14.943290)\" \"POINT (30.775833 1.769722)\" \"POINT (28.876944 -1.651944)\" \"POINT (74.725490 34.378934)\" ...\n",
      " $ date_start       : chr  \"2013/01/11\" \"2004/01/14\" \"2007/12/13\" \"2008/03/04\" ...\n",
      " $ deaths_a         : num  12 0 0 0 1 0 0 0 0 0 ...\n",
      " $ deaths_b         : num  16 0 0 2 11 13 0 0 0 2 ...\n",
      " $ deaths_unknown   : num  0 0 0 0 0 0 0 80 11 0 ...\n",
      " $ low              : num  31 100 4 2 12 13 1 70 11 2 ...\n",
      " $ geometry         :sfc_POINT of length 152616; first list element:  'XY' num  -3.89 14.94\n",
      " - attr(*, \"sf_column\")= chr \"geometry\"\n"
     ]
    }
   ],
   "source": [
    "# Examining the structure of an \"sf\" object with 'str()'\n",
    "str(ged191)"
   ]
  },
  {
   "cell_type": "code",
   "execution_count": 9,
   "metadata": {},
   "outputs": [
    {
     "name": "stderr",
     "output_type": "stream",
     "text": [
      "POINT (-3.89474 14.94329)\n",
      "\n",
      "POINT (30.77583 1.769722)\n",
      "\n",
      "POINT (28.87694 -1.651944)\n",
      "\n",
      "POINT (74.72549 34.37893)\n",
      "\n",
      "POINT (74.16729 34.3726)\n",
      "\n"
     ]
    },
    {
     "data": {
      "text/plain": [
       "Geometry set for 152616 features \n",
       "geometry type:  POINT\n",
       "dimension:      XY\n",
       "bbox:           xmin: -117.3 ymin: -37.81361 xmax: 155.8967 ymax: 61.25\n",
       "CRS:            EPSG:4326\n",
       "First 5 geometries:"
      ]
     },
     "metadata": {},
     "output_type": "display_data"
    }
   ],
   "source": [
    "# Obtaining the geometry contained in 'ged191'\n",
    "gged191 <- st_geometry(ged191)\n",
    "gged191"
   ]
  },
  {
   "cell_type": "code",
   "execution_count": 10,
   "metadata": {},
   "outputs": [
    {
     "name": "stderr",
     "output_type": "stream",
     "text": [
      "POINT (-3.89474 14.94329)\n",
      "\n"
     ]
    }
   ],
   "source": [
    "# Accessing an individual shape\n",
    "gged191[[1]]"
   ]
  },
  {
   "cell_type": "code",
   "execution_count": 11,
   "metadata": {},
   "outputs": [
    {
     "data": {
      "text/plain": [
       "[1] \"XY\"    \"POINT\" \"sfg\"  "
      ]
     },
     "metadata": {},
     "output_type": "display_data"
    }
   ],
   "source": [
    "# The class of a shape object\n",
    "class(gged191[[1]])"
   ]
  }
 ],
 "metadata": {
  "kernelspec": {
   "display_name": "R",
   "language": "R",
   "name": "ir"
  },
  "language_info": {
   "codemirror_mode": "r",
   "file_extension": ".r",
   "mimetype": "text/x-r-source",
   "name": "R",
   "pygments_lexer": "r",
   "version": "4.0.4"
  }
 },
 "nbformat": 4,
 "nbformat_minor": 4
}
