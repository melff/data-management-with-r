{
 "cells": [
  {
   "cell_type": "code",
   "execution_count": 1,
   "metadata": {},
   "outputs": [],
   "source": [
    "options(jupyter.rich_display=FALSE) # Create output as usual in R"
   ]
  },
  {
   "cell_type": "code",
   "execution_count": 2,
   "metadata": {},
   "outputs": [],
   "source": [
    "# The data used here is available from https://ucdp.uu.se/downloads/index.html#ged_global\n",
    "# download.file(\"https://ucdp.uu.se/downloads/ged/ged191-RData.zip\",\n",
    "#              \"ged191-RData.zip\")"
   ]
  },
  {
   "cell_type": "code",
   "execution_count": 3,
   "metadata": {},
   "outputs": [],
   "source": [
    "unzip(\"ged191-RData.zip\")\n",
    "load(\"ged191.RData\")"
   ]
  },
  {
   "cell_type": "code",
   "execution_count": 4,
   "metadata": {},
   "outputs": [
    {
     "data": {
      "text/plain": [
       "[1] \"sf\"         \"data.frame\""
      ]
     },
     "metadata": {},
     "output_type": "display_data"
    }
   ],
   "source": [
    "class(ged191)"
   ]
  },
  {
   "cell_type": "code",
   "execution_count": 5,
   "metadata": {},
   "outputs": [
    {
     "data": {
      "text/plain": [
       "[1] 152616"
      ]
     },
     "metadata": {},
     "output_type": "display_data"
    }
   ],
   "source": [
    "# Number of observations\n",
    "nrow(ged191)"
   ]
  },
  {
   "cell_type": "code",
   "execution_count": 6,
   "metadata": {},
   "outputs": [
    {
     "data": {
      "text/plain": [
       "[1] 43"
      ]
     },
     "metadata": {},
     "output_type": "display_data"
    }
   ],
   "source": [
    "# Number of variables\n",
    "ncol(ged191)"
   ]
  },
  {
   "cell_type": "code",
   "execution_count": 7,
   "metadata": {},
   "outputs": [
    {
     "name": "stderr",
     "output_type": "stream",
     "text": [
      "Linking to GEOS 3.7.1, GDAL 2.4.0, PROJ 5.2.0\n",
      "\n"
     ]
    }
   ],
   "source": [
    "library(sf)"
   ]
  },
  {
   "cell_type": "code",
   "execution_count": 8,
   "metadata": {},
   "outputs": [
    {
     "name": "stdout",
     "output_type": "stream",
     "text": [
      "Simple feature collection with 152616 features and 42 fields\n",
      "geometry type:  POINT\n",
      "dimension:      XY\n",
      "bbox:           xmin: -117.3 ymin: -37.81361 xmax: 155.8967 ymax: 61.25\n",
      "CRS:            EPSG:4326\n",
      "First 10 features:\n",
      "   year             side_b active_year                         side_a priogrid_gid conflict_new_id country_id      region\n",
      "1  2013              MUJAO           1             Government of Mali       150833           11347        432      Africa\n",
      "2  2004          Civilians           1                            FNI       132182             583        490      Africa\n",
      "3  2007             PARECO           0                           CNDP       127138            4600        490      Africa\n",
      "4  2008 Kashmir insurgents           1            Government of India       179070             364        750        Asia\n",
      "5  2008 Kashmir insurgents           1            Government of India       179069             364        750        Asia\n",
      "6  2011                PKK           1           Government of Turkey       184761             354        640 Middle East\n",
      "7  1997          Civilians           0                           ULFA       167587             523        750        Asia\n",
      "8  2013              APCLS           1 Government of DR Congo (Zaire)       127859             283        490      Africa\n",
      "9  2010         Al-Shabaab           1          Government of Somalia       132931             337        520      Africa\n",
      "10 2003               MDJT           1             Government of Chad       160235             288        483      Africa\n",
      "                                                                                                                                                                                                                                                                                                                                                                                                                                                                                                                                                                                                                                                 source_article\n",
      "1        \"Agence France Presse,2013-01-12,French pilot killed in Mali helicopter raid: defence ministry\";\"Agence France Presse,2013-01-28,Mali town counts dead after French strikes on Islamists\";\"Agence France Presse,2013-01-12,French gunships stop Mali Islamist advance\";\"Reuters News,2013-01-12,More than 100 killed in French air strikes and fighting in Mali\";\"Agence France Presse,2013-01-15,Eighty-six wounded in Mali fighting in Mopti, Gao: Red Cross\";\"Agence France Presse,2013-01-12,10 civilians including 3 children killed in Mali unrest: HRW\";\"Jeune Afrique Blog Défense,2013-01-30,Mali : retour sur la bataille décisive de Konna\"\n",
      "2                                                                                                                                                                                                                                                                                                                                                                                                                                                                                                                                                                                                                                Reuters 2004-01-23\\nS/2004/573\n",
      "3                                                                                                                                                                                                                                                                                                                                                                                                                                                                                                                                                                                                                   http://www.monuc.org/News.aspx?newsId=16672\n",
      "4                                                                                                                                                                                                                                                                                                                                                                                                                                                                                                                                                                                                                                                SATP, 2008-3-5\n",
      "5                                                                                                                                                                                                                                                                                                                                                                                                                                                                                                                                                                                                                                                 AFP, 2008-7-1\n",
      "6                                                                                                                                                                                                                                                                                                                                                                                                                                                                                                                                                                                                                                  R 20111219, BBC Eur 20111219\n",
      "7                                                                                                                                                                                                                                                                                                                                                                                                                                                                                                                                                                                                                                                          SATP\n",
      "8  \"BBC Monitoring Africa,2013-03-10,UN mission backs DRCongo army to halt militia advance in east\";\"Business Day,2013-03-08,Fresh violence in Congo worries Red Cross\";\"All Africa,2013-03-06,Briefing - Militias in Masisi\";\"Voice of America Press Releases and Documents,2013-03-05,Risk of 'Ethnic War' in Eastern Congo Town\";\"Reuters News,2013-03-05,At least 70 dead, thousands flee fighting in east Congo\";\"Agence France Presse,2013-03-04,DRCongo rebels seize Kitchanga, 80 dead: UN\";\"All Africa,2013-03-06,Briefing - Militias in Masisi\";\"MSF,2013-03-07,Democratic Republic of Congo: Thousands have fled as violence continues in Kitchanga\"\n",
      "9                                                                                                                                                                                                                                                                                                                                                                                                                                                                                                                                                                                                          Xinhua 1 July 2010 \"Eleven die in Mogadishu fighting\n",
      "10                                                                                                                                                                                                                                                                                                                                                                                                                                                                                                                                                                                                          AFP 200303027, 29, 31, WMRC Daily Analysis 20030401\n",
      "   type_of_violence date_prec\n",
      "1                 1         2\n",
      "2                 3         2\n",
      "3                 2         2\n",
      "4                 1         2\n",
      "5                 1         2\n",
      "6                 1         2\n",
      "7                 3         1\n",
      "8                 1         2\n",
      "9                 1         2\n",
      "10                1         2\n",
      "                                                                                                                                                                                                                                                                                                                                                                                              source_headline\n",
      "1  French pilot killed in Mali helicopter raid: defence ministry;Mali town counts dead after French strikes on Islamists;French gunships stop Mali Islamist advance;More than 100 killed in French air strikes and fighting in Mali;Eighty-six wounded in Mali fighting in Mopti, Gao: Red Cross;10 civilians including 3 children killed in Mali unrest: HRW;Mali : retour sur la bataille décisive de Konna\n",
      "2                                                                                                                                                                                                                                                                                                                                                                                                            \n",
      "3                                                                                                                                                                                                                                                                                                                                                                                                            \n",
      "4                                                                                                                                                                                                                                                                                                                                                                                                            \n",
      "5                                                                                                                                                                                                                                                                                                                                                                                                            \n",
      "6                                                                                                                                                                                                                                                                                                                                                                                                            \n",
      "7                                                                                                                                                                                                                                                                                                                                                                                                            \n",
      "8     UN mission backs DRCongo army to halt militia advance in east;Fresh violence in Congo worries Red Cross;Briefing - Militias in Masisi;Risk of 'Ethnic War' in Eastern Congo Town;At least 70 dead, thousands flee fighting in east Congo;DRCongo rebels seize Kitchanga, 80 dead: UN;Briefing - Militias in Masisi;Democratic Republic of Congo: Thousands have fled as violence continues in Kitchanga\n",
      "9                                                                                                                                                                                                                                                                                                                                                                                                            \n",
      "10                                                                                                                                                                                                                                                                                                                                                                                                           \n",
      "                  conflict_name                                dyad_name event_clarity    where_coordinates   date_end side_b_new_id\n",
      "1              Mali: Government               Government of Mali - MUJAO             1           Konna town 2013/01/12          1161\n",
      "2               FNI - Civilians                          FNI - Civilians             1         Gobu village 2004/01/16             1\n",
      "3                 CNDP - PARECO                            CNDP - PARECO             1       Ngungu village 2007/12/18           896\n",
      "4                India: Kashmir Government of India - Kashmir insurgents             1 Chithi Bandi village 2008/03/05           325\n",
      "5                India: Kashmir Government of India - Kashmir insurgents             1     Kupwara district 2008/07/01           325\n",
      "6             Turkey: Kurdistan               Government of Turkey - PKK             1       Dicle district 2011/12/19           323\n",
      "7              ULFA - Civilians                         ULFA - Civilians             1          Assam State 1997/07/04             1\n",
      "8  DR Congo (Zaire): Government   Government of DR Congo (Zaire) - APCLS             1       Kitchanga town 2013/03/05          1200\n",
      "9           Somalia: Government       Government of Somalia - Al-Shabaab             1       Mogadishu city 2010/07/01           717\n",
      "10             Chad: Government                Government of Chad - MDJT             1          Bardai town 2003/03/27           452\n",
      "   dyad_new_id high\n",
      "1        12571   50\n",
      "2         1050  200\n",
      "3         5210    4\n",
      "4          792    2\n",
      "5          792   12\n",
      "6          781   30\n",
      "7          990    1\n",
      "8        10509   80\n",
      "9          750   11\n",
      "10         616   72\n",
      "                                                                                                                                      source_office\n",
      "1  Agence France Presse;Agence France Presse;Agence France Presse;Reuters News;Agence France Presse;Agence France Presse;Jeune Afrique Blog Défense\n",
      "2                                                                                                                                                  \n",
      "3                                                                                                                                                  \n",
      "4                                                                                                                                                  \n",
      "5                                                                                                                                                  \n",
      "6                                                                                                                                                  \n",
      "7                                                                                                                                                  \n",
      "8      BBC Monitoring Africa;Business Day;All Africa;Voice of America Press Releases and Documents;Reuters News;Agence France Presse;All Africa;MSF\n",
      "9                                                                                                                                                  \n",
      "10                                                                                                                                                 \n",
      "   gwnob deaths_civilians best number_of_sources                                                                             source_date\n",
      "1   <NA>                3   31                 7            2013-01-12;2013-01-28;2013-01-12;2013-01-12;2013-01-15;2013-01-12;2013-01-30\n",
      "2   <NA>              200  200                -1                                                                                        \n",
      "3   <NA>                4    4                -1                                                                                        \n",
      "4   <NA>                0    2                -1                                                                                        \n",
      "5   <NA>                0   12                -1                                                                                        \n",
      "6   <NA>                0   13                -1                                                                                        \n",
      "7   <NA>                1    1                -1                                                                                        \n",
      "8   <NA>                0   80                 8 2013-03-10;2013-03-08;2013-03-06;2013-03-05;2013-03-05;2013-03-04;2013-03-06;2013-03-07\n",
      "9   <NA>                0   11                -1                                                                                        \n",
      "10  <NA>                0    2                -1                                                                                        \n",
      "   longitude where_prec side_a_new_id     id                                        source_original                        adm_1 gwnoa\n",
      "1   -3.89474          1            72  67972 French Defence Minister Jean-Yves Le Drian;  residents                 Mopti region   432\n",
      "2   30.77583          1           606  23385                                         local official               Ituri province  <NA>\n",
      "3   28.87694          2           426  24255                                                                  Nord Kivu province  <NA>\n",
      "4   74.72549          1           141  82612                                                   SATP      Jammu and Kashmir State   750\n",
      "5   74.16729          3           141  82645                                                   army      Jammu and Kashmir State   750\n",
      "6   40.08422          3           115 158618            senior military official, Cihan news agency          Diyarbakır province   640\n",
      "7   93.00000          4           326  87396                                                   SATP                  Assam State  <NA>\n",
      "8   29.08000          1            89  60774                      deputy UN spokesman Eduardo Buey.           Nord Kivu province   490\n",
      "9   45.36667          1            95  25360                                     emergency services              Banaadir region   520\n",
      "10  17.00055          1            87  11995                                                        Borkou-Ennedi-Tibesti region   483\n",
      "            country              adm_2  latitude                    geom_wkt date_start deaths_a deaths_b deaths_unknown low\n",
      "1              Mali       Mopti cercle 14.943290 POINT (-3.894740 14.943290) 2013/01/11       12       16              0  31\n",
      "2  DR Congo (Zaire)    Djugu territory  1.769722  POINT (30.775833 1.769722) 2004/01/14        0        0              0 100\n",
      "3  DR Congo (Zaire)   Masisi territory -1.651944 POINT (28.876944 -1.651944) 2007/12/13        0        0              0   4\n",
      "4             India Bandipore district 34.378934 POINT (74.725490 34.378934) 2008/03/04        0        2              0   2\n",
      "5             India   Kupwara district 34.372601 POINT (74.167293 34.372601) 2008/06/30        1       11              0  12\n",
      "6            Turkey     Dicle district 38.382704 POINT (40.084215 38.382704) 2011/12/17        0       13              0  13\n",
      "7             India                    26.000000 POINT (93.000000 26.000000) 1997/07/04        0        0              0   1\n",
      "8  DR Congo (Zaire) Rutshuru territory -1.250000 POINT (29.080000 -1.250000) 2013/03/03        0        0             80  70\n",
      "9           Somalia Mogadishu district  2.066667  POINT (45.366667 2.066667) 2010/06/30        0        0             11  11\n",
      "10             Chad Tibesti department 21.358333 POINT (17.000550 21.358333) 2003/03/25        0        2              0   2\n",
      "                     geometry\n",
      "1   POINT (-3.89474 14.94329)\n",
      "2   POINT (30.77583 1.769722)\n",
      "3  POINT (28.87694 -1.651944)\n",
      "4   POINT (74.72549 34.37893)\n",
      "5    POINT (74.16729 34.3726)\n",
      "6    POINT (40.08422 38.3827)\n",
      "7               POINT (93 26)\n",
      "8         POINT (29.08 -1.25)\n",
      "9   POINT (45.36667 2.066667)\n",
      "10  POINT (17.00055 21.35833)\n"
     ]
    }
   ],
   "source": [
    "options(width=140)\n",
    "# Using the adapted 'print()' method from the 'sf' package\n",
    "print(ged191)"
   ]
  },
  {
   "cell_type": "code",
   "execution_count": 9,
   "metadata": {},
   "outputs": [
    {
     "name": "stdout",
     "output_type": "stream",
     "text": [
      "Classes ‘sf’ and 'data.frame':\t152616 obs. of  43 variables:\n",
      " $ year             : num  2013 2004 2007 2008 2008 ...\n",
      " $ side_b           : chr  \"MUJAO\" \"Civilians\" \"PARECO\" \"Kashmir insurgents\" ...\n",
      " $ active_year      : num  1 1 0 1 1 1 0 1 1 1 ...\n",
      " $ side_a           : chr  \"Government of Mali\" \"FNI\" \"CNDP\" \"Government of India\" ...\n",
      " $ priogrid_gid     : num  150833 132182 127138 179070 179069 ...\n",
      " $ conflict_new_id  : num  11347 583 4600 364 364 ...\n",
      " $ country_id       : num  432 490 490 750 750 640 750 490 520 483 ...\n",
      " $ region           : chr  \"Africa\" \"Africa\" \"Africa\" \"Asia\" ...\n",
      " $ source_article   : chr  \"\\\"Agence France Presse,2013-01-12,French pilot killed in Mali helicopter raid: defence ministry\\\";\\\"Agence Fran\"| __truncated__ \"Reuters 2004-01-23\\nS/2004/573\" \"http://www.monuc.org/News.aspx?newsId=16672\" \"SATP, 2008-3-5\" ...\n",
      " $ type_of_violence : num  1 3 2 1 1 1 3 1 1 1 ...\n",
      " $ date_prec        : num  2 2 2 2 2 2 1 2 2 2 ...\n",
      " $ source_headline  : chr  \"French pilot killed in Mali helicopter raid: defence ministry;Mali town counts dead after French strikes on Isl\"| __truncated__ \"\" \"\" \"\" ...\n",
      " $ conflict_name    : chr  \"Mali: Government\" \"FNI - Civilians\" \"CNDP - PARECO\" \"India: Kashmir\" ...\n",
      " $ dyad_name        : chr  \"Government of Mali - MUJAO\" \"FNI - Civilians\" \"CNDP - PARECO\" \"Government of India - Kashmir insurgents\" ...\n",
      " $ event_clarity    : num  1 1 1 1 1 1 1 1 1 1 ...\n",
      " $ where_coordinates: chr  \"Konna town\" \"Gobu village\" \"Ngungu village\" \"Chithi Bandi village\" ...\n",
      " $ date_end         : chr  \"2013/01/12\" \"2004/01/16\" \"2007/12/18\" \"2008/03/05\" ...\n",
      " $ side_b_new_id    : num  1161 1 896 325 325 ...\n",
      " $ dyad_new_id      : num  12571 1050 5210 792 792 ...\n",
      " $ high             : num  50 200 4 2 12 30 1 80 11 72 ...\n",
      " $ source_office    : chr  \"Agence France Presse;Agence France Presse;Agence France Presse;Reuters News;Agence France Presse;Agence France \"| __truncated__ \"\" \"\" \"\" ...\n",
      " $ gwnob            : chr  NA NA NA NA ...\n",
      " $ deaths_civilians : num  3 200 4 0 0 0 1 0 0 0 ...\n",
      " $ best             : num  31 200 4 2 12 13 1 80 11 2 ...\n",
      " $ number_of_sources: num  7 -1 -1 -1 -1 -1 -1 8 -1 -1 ...\n",
      " $ source_date      : chr  \"2013-01-12;2013-01-28;2013-01-12;2013-01-12;2013-01-15;2013-01-12;2013-01-30\" \"\" \"\" \"\" ...\n",
      " $ longitude        : num  -3.89 30.78 28.88 74.73 74.17 ...\n",
      " $ where_prec       : num  1 1 2 1 3 3 4 1 1 1 ...\n",
      " $ side_a_new_id    : num  72 606 426 141 141 115 326 89 95 87 ...\n",
      " $ id               : num  67972 23385 24255 82612 82645 ...\n",
      " $ source_original  : chr  \"French Defence Minister Jean-Yves Le Drian;  residents\" \"local official\" \"\" \"SATP\" ...\n",
      " $ adm_1            : chr  \"Mopti region\" \"Ituri province\" \"Nord Kivu province\" \"Jammu and Kashmir State\" ...\n",
      " $ gwnoa            : chr  \"432\" NA NA \"750\" ...\n",
      " $ country          : chr  \"Mali\" \"DR Congo (Zaire)\" \"DR Congo (Zaire)\" \"India\" ...\n",
      " $ adm_2            : chr  \"Mopti cercle\" \"Djugu territory\" \"Masisi territory\" \"Bandipore district\" ...\n",
      " $ latitude         : num  14.94 1.77 -1.65 34.38 34.37 ...\n",
      " $ geom_wkt         : chr  \"POINT (-3.894740 14.943290)\" \"POINT (30.775833 1.769722)\" \"POINT (28.876944 -1.651944)\" \"POINT (74.725490 34.378934)\" ...\n",
      " $ date_start       : chr  \"2013/01/11\" \"2004/01/14\" \"2007/12/13\" \"2008/03/04\" ...\n",
      " $ deaths_a         : num  12 0 0 0 1 0 0 0 0 0 ...\n",
      " $ deaths_b         : num  16 0 0 2 11 13 0 0 0 2 ...\n",
      " $ deaths_unknown   : num  0 0 0 0 0 0 0 80 11 0 ...\n",
      " $ low              : num  31 100 4 2 12 13 1 70 11 2 ...\n",
      " $ geometry         :sfc_POINT of length 152616; first list element:  'XY' num  -3.89 14.94\n",
      " - attr(*, \"sf_column\")= chr \"geometry\"\n"
     ]
    }
   ],
   "source": [
    "# Examining the structure of an \"sf\" object with 'str()'\n",
    "str(ged191)"
   ]
  },
  {
   "cell_type": "code",
   "execution_count": 10,
   "metadata": {},
   "outputs": [
    {
     "name": "stderr",
     "output_type": "stream",
     "text": [
      "POINT (-3.89474 14.94329)\n",
      "\n",
      "POINT (30.77583 1.769722)\n",
      "\n",
      "POINT (28.87694 -1.651944)\n",
      "\n",
      "POINT (74.72549 34.37893)\n",
      "\n",
      "POINT (74.16729 34.3726)\n",
      "\n"
     ]
    },
    {
     "data": {
      "text/plain": [
       "Geometry set for 152616 features \n",
       "geometry type:  POINT\n",
       "dimension:      XY\n",
       "bbox:           xmin: -117.3 ymin: -37.81361 xmax: 155.8967 ymax: 61.25\n",
       "CRS:            EPSG:4326\n",
       "First 5 geometries:"
      ]
     },
     "metadata": {},
     "output_type": "display_data"
    }
   ],
   "source": [
    "# Obtaining the geometry contained in 'ged191'\n",
    "gged191 <- st_geometry(ged191)\n",
    "gged191"
   ]
  },
  {
   "cell_type": "code",
   "execution_count": 11,
   "metadata": {},
   "outputs": [
    {
     "name": "stderr",
     "output_type": "stream",
     "text": [
      "POINT (-3.89474 14.94329)\n",
      "\n"
     ]
    }
   ],
   "source": [
    "# Accessing an individual shape\n",
    "gged191[[1]]"
   ]
  },
  {
   "cell_type": "code",
   "execution_count": 12,
   "metadata": {},
   "outputs": [
    {
     "data": {
      "text/plain": [
       "[1] \"XY\"    \"POINT\" \"sfg\"  "
      ]
     },
     "metadata": {},
     "output_type": "display_data"
    }
   ],
   "source": [
    "# The class of a shape object\n",
    "class(gged191[[1]])"
   ]
  }
 ],
 "metadata": {
  "kernelspec": {
   "display_name": "R",
   "language": "R",
   "name": "ir"
  },
  "language_info": {
   "codemirror_mode": "r",
   "file_extension": ".r",
   "mimetype": "text/x-r-source",
   "name": "R",
   "pygments_lexer": "r",
   "version": "4.0.3"
  }
 },
 "nbformat": 4,
 "nbformat_minor": 4
}
