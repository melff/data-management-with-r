{
 "cells": [
  {
   "cell_type": "code",
   "execution_count": 1,
   "metadata": {},
   "outputs": [],
   "source": [
    "options(jupyter.rich_display=FALSE) # Create output as usual in R"
   ]
  },
  {
   "cell_type": "code",
   "execution_count": 2,
   "metadata": {},
   "outputs": [
    {
     "name": "stderr",
     "output_type": "stream",
     "text": [
      "Linking to GEOS 3.7.1, GDAL 2.4.0, PROJ 5.2.0\n",
      "\n"
     ]
    }
   ],
   "source": [
    "library(sf)"
   ]
  },
  {
   "cell_type": "code",
   "execution_count": 3,
   "metadata": {},
   "outputs": [
    {
     "name": "stderr",
     "output_type": "stream",
     "text": [
      "Loading required package: sp\n",
      "\n",
      "Loading required package: maptools\n",
      "\n",
      "Checking rgeos availability: TRUE\n",
      "\n",
      "Loading required package: plyr\n",
      "\n"
     ]
    }
   ],
   "source": [
    "library(cshapes)"
   ]
  },
  {
   "cell_type": "code",
   "execution_count": 4,
   "metadata": {},
   "outputs": [],
   "source": [
    "load(\"south-america-1990.RData\")"
   ]
  },
  {
   "cell_type": "code",
   "execution_count": 5,
   "metadata": {},
   "outputs": [
    {
     "name": "stderr",
     "output_type": "stream",
     "text": [
      "although coordinates are longitude/latitude, st_contains assumes that they are planar\n",
      "\n"
     ]
    },
    {
     "data": {
      "text/plain": [
       "     [,1]\n",
       "[1,] TRUE"
      ]
     },
     "metadata": {},
     "output_type": "display_data"
    }
   ],
   "source": [
    "st_contains(Brazil,Brasilia,sparse=FALSE)"
   ]
  },
  {
   "cell_type": "code",
   "execution_count": 6,
   "metadata": {},
   "outputs": [
    {
     "name": "stderr",
     "output_type": "stream",
     "text": [
      "although coordinates are longitude/latitude, st_contains assumes that they are planar\n",
      "\n"
     ]
    },
    {
     "data": {
      "text/plain": [
       "     [,1] \n",
       "[1,] FALSE"
      ]
     },
     "metadata": {},
     "output_type": "display_data"
    }
   ],
   "source": [
    "st_contains(Brazil,Bogota,sparse=FALSE)"
   ]
  },
  {
   "cell_type": "code",
   "execution_count": 7,
   "metadata": {},
   "outputs": [],
   "source": [
    "load(\"cshapes-1990.RData\")\n",
    "ThreeCountries <-\n",
    "    subset(cshapes.1990,\n",
    "           CNTRY_NAME %in% c(\"Brazil\",\"Chile\",\"Colombia\"))\n",
    "rownames(ThreeCountries) <- ThreeCountries$CNTRY_NAME"
   ]
  },
  {
   "cell_type": "code",
   "execution_count": 8,
   "metadata": {},
   "outputs": [],
   "source": [
    "ThreeCapitals <-\n",
    "    subset(cshapes.capitals.1990,\n",
    "           CNTRY_NAME %in% c(\"Brazil\",\"Chile\",\"Colombia\"))\n",
    "rownames(ThreeCapitals) <- ThreeCapitals$CAPNAME"
   ]
  },
  {
   "cell_type": "code",
   "execution_count": 9,
   "metadata": {},
   "outputs": [
    {
     "name": "stderr",
     "output_type": "stream",
     "text": [
      "although coordinates are longitude/latitude, st_contains assumes that they are planar\n",
      "\n"
     ]
    },
    {
     "data": {
      "text/plain": [
       "     [,1]  [,2]  [,3] \n",
       "[1,]  TRUE FALSE FALSE\n",
       "[2,] FALSE  TRUE FALSE\n",
       "[3,] FALSE FALSE  TRUE"
      ]
     },
     "metadata": {},
     "output_type": "display_data"
    }
   ],
   "source": [
    "st_contains(ThreeCountries,ThreeCapitals,sparse=FALSE)"
   ]
  },
  {
   "cell_type": "code",
   "execution_count": 10,
   "metadata": {},
   "outputs": [
    {
     "name": "stderr",
     "output_type": "stream",
     "text": [
      "although coordinates are longitude/latitude, st_contains assumes that they are planar\n",
      "\n"
     ]
    },
    {
     "data": {
      "text/plain": [
       "         Brasilia Santiago Bogota\n",
       "Brazil    TRUE    FALSE    FALSE \n",
       "Chile    FALSE     TRUE    FALSE \n",
       "Colombia FALSE    FALSE     TRUE "
      ]
     },
     "metadata": {},
     "output_type": "display_data"
    }
   ],
   "source": [
    "structure(\n",
    "   st_contains(ThreeCountries,ThreeCapitals,sparse=FALSE),\n",
    "   dimnames=list(rownames(ThreeCountries),rownames(ThreeCapitals))\n",
    ")"
   ]
  },
  {
   "cell_type": "code",
   "execution_count": 11,
   "metadata": {},
   "outputs": [
    {
     "name": "stderr",
     "output_type": "stream",
     "text": [
      "although coordinates are longitude/latitude, st_touches assumes that they are planar\n",
      "\n"
     ]
    },
    {
     "data": {
      "text/plain": [
       "     [,1]\n",
       "[1,] TRUE"
      ]
     },
     "metadata": {},
     "output_type": "display_data"
    }
   ],
   "source": [
    "st_touches(Brazil,Colombia,sparse=FALSE)"
   ]
  },
  {
   "cell_type": "code",
   "execution_count": 12,
   "metadata": {},
   "outputs": [
    {
     "name": "stderr",
     "output_type": "stream",
     "text": [
      "although coordinates are longitude/latitude, st_touches assumes that they are planar\n",
      "\n"
     ]
    },
    {
     "data": {
      "text/plain": [
       "     [,1] \n",
       "[1,] FALSE"
      ]
     },
     "metadata": {},
     "output_type": "display_data"
    }
   ],
   "source": [
    "st_touches(Brazil,Chile,sparse=FALSE)"
   ]
  },
  {
   "cell_type": "code",
   "execution_count": 13,
   "metadata": {},
   "outputs": [
    {
     "name": "stderr",
     "output_type": "stream",
     "text": [
      "although coordinates are longitude/latitude, st_touches assumes that they are planar\n",
      "\n"
     ]
    },
    {
     "data": {
      "text/plain": [
       "         Brazil Chile Colombia\n",
       "Brazil   FALSE  FALSE  TRUE   \n",
       "Chile    FALSE  FALSE FALSE   \n",
       "Colombia  TRUE  FALSE FALSE   "
      ]
     },
     "metadata": {},
     "output_type": "display_data"
    }
   ],
   "source": [
    "structure(\n",
    "   st_touches(ThreeCountries,sparse=FALSE),\n",
    "   dimnames=list(rownames(ThreeCountries),rownames(ThreeCountries))\n",
    ")"
   ]
  },
  {
   "cell_type": "code",
   "execution_count": 14,
   "metadata": {},
   "outputs": [],
   "source": [
    "save(ThreeCountries,ThreeCapitals,file=\"three-countries.RData\")"
   ]
  }
 ],
 "metadata": {
  "kernelspec": {
   "display_name": "R",
   "language": "R",
   "name": "ir"
  },
  "language_info": {
   "codemirror_mode": "r",
   "file_extension": ".r",
   "mimetype": "text/x-r-source",
   "name": "R",
   "pygments_lexer": "r",
   "version": "4.0.3"
  }
 },
 "nbformat": 4,
 "nbformat_minor": 4
}
