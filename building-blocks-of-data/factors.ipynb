{
 "cells": [
  {
   "cell_type": "code",
   "execution_count": 1,
   "metadata": {},
   "outputs": [],
   "source": [
    "options(jupyter.rich_display=FALSE) # Create output as usual in R\n",
    "set.seed(42)"
   ]
  },
  {
   "cell_type": "code",
   "execution_count": 2,
   "metadata": {},
   "outputs": [
    {
     "data": {
      "text/plain": [
       " [1] 1 1 1 1 2 4 2 2 1 4 3 4 3 4 1 1 2 4 2 2"
      ]
     },
     "metadata": {},
     "output_type": "display_data"
    }
   ],
   "source": [
    "satisfaction <- sample(1:4,size=20,replace=TRUE)\n",
    "satisfaction"
   ]
  },
  {
   "cell_type": "code",
   "execution_count": 3,
   "metadata": {},
   "outputs": [
    {
     "data": {
      "text/plain": [
       " [1] not at all not at all not at all not at all low        high      \n",
       " [7] low        low        not at all high       medium     high      \n",
       "[13] medium     high       not at all not at all low        high      \n",
       "[19] low        low       \n",
       "Levels: not at all < low < medium < high"
      ]
     },
     "metadata": {},
     "output_type": "display_data"
    }
   ],
   "source": [
    "satisfaction <- ordered(satisfaction,\n",
    "                       levels=1:4,\n",
    "                       labels=c(\n",
    "                           \"not at all\",\n",
    "                           \"low\",\n",
    "                           \"medium\",\n",
    "                           \"high\"))\n",
    "satisfaction"
   ]
  },
  {
   "cell_type": "code",
   "execution_count": 4,
   "metadata": {},
   "outputs": [
    {
     "data": {
      "text/plain": [
       "satisfaction\n",
       "not at all        low     medium       high \n",
       "         7          6          2          5 "
      ]
     },
     "metadata": {},
     "output_type": "display_data"
    }
   ],
   "source": [
    "table(satisfaction)"
   ]
  },
  {
   "cell_type": "code",
   "execution_count": 5,
   "metadata": {},
   "outputs": [
    {
     "data": {
      "text/plain": [
       "[1] \"not at all\" \"low\"        \"medium\"     \"high\"      "
      ]
     },
     "metadata": {},
     "output_type": "display_data"
    }
   ],
   "source": [
    "levels(satisfaction)"
   ]
  },
  {
   "cell_type": "code",
   "execution_count": 6,
   "metadata": {},
   "outputs": [
    {
     "data": {
      "text/plain": [
       " [1] Northern Ireland England          Wales            Scotland        \n",
       " [5] England          England          England          Northern Ireland\n",
       " [9] England          England          England          England         \n",
       "[13] England          England          England          England         \n",
       "[17] England          England          Northern Ireland England         \n",
       "[21] England          England          England          Wales           \n",
       "[25] England          Scotland         Northern Ireland England         \n",
       "[29] Scotland         England          England          England         \n",
       "[33] England          England          England          England         \n",
       "[37] England          England          England          England         \n",
       "[41] England          Wales            England          England         \n",
       "[45] Northern Ireland England          England          England         \n",
       "[49] England          England         \n",
       "Levels: England Northern Ireland Scotland Wales"
      ]
     },
     "metadata": {},
     "output_type": "display_data"
    }
   ],
   "source": [
    "country.orig <- sample(\n",
    "    c(\"England\",\"Northern Ireland\",\"Scotland\",\"Wales\"),\n",
    "    size=50,\n",
    "    prob=c(54786300,5373000,3099100,1851600)/65110000,\n",
    "    replace=TRUE\n",
    ")\n",
    "country <- factor(country.orig)\n",
    "country"
   ]
  },
  {
   "cell_type": "code",
   "execution_count": 7,
   "metadata": {},
   "outputs": [
    {
     "data": {
      "text/plain": [
       " [1] Northern Ireland England          Wales            Scotland        \n",
       " [5] England          England          England          Northern Ireland\n",
       " [9] England          England          England          England         \n",
       "[13] England          England          England          England         \n",
       "[17] England          England          Northern Ireland England         \n",
       "[21] England          England          England          Wales           \n",
       "[25] England          Scotland         Northern Ireland England         \n",
       "[29] Scotland         England          England          England         \n",
       "[33] England          England          England          England         \n",
       "[37] England          England          England          England         \n",
       "[41] England          Wales            England          England         \n",
       "[45] Northern Ireland England          England          England         \n",
       "[49] England          England         \n",
       "Levels: England Wales Scotland Northern Ireland"
      ]
     },
     "metadata": {},
     "output_type": "display_data"
    }
   ],
   "source": [
    "country <- factor(country.orig,\n",
    "                  levels=c(\"England\",\"Wales\",\"Scotland\",\n",
    "                           \"Northern Ireland\"))\n",
    "country"
   ]
  },
  {
   "cell_type": "code",
   "execution_count": 8,
   "metadata": {},
   "outputs": [
    {
     "data": {
      "text/plain": [
       "country\n",
       "         England            Wales         Scotland Northern Ireland \n",
       "              39                3                3                5 "
      ]
     },
     "metadata": {},
     "output_type": "display_data"
    }
   ],
   "source": [
    "table(country)"
   ]
  },
  {
   "cell_type": "code",
   "execution_count": 9,
   "metadata": {},
   "outputs": [
    {
     "name": "stdout",
     "output_type": "stream",
     "text": [
      " Factor w/ 4 levels \"England\",\"Wales\",..: 4 1 2 3 1 1 1 4 1 1 ...\n"
     ]
    }
   ],
   "source": [
    "str(country)"
   ]
  },
  {
   "cell_type": "code",
   "execution_count": 10,
   "metadata": {},
   "outputs": [
    {
     "data": {
      "text/plain": [
       " [1] 4 1 2 3 1 1 1 4 1 1 1 1 1 1 1 1 1 1 4 1 1 1 1 2 1 3 4 1 3 1 1 1 1 1 1 1 1 1\n",
       "[39] 1 1 1 2 1 1 4 1 1 1 1 1"
      ]
     },
     "metadata": {},
     "output_type": "display_data"
    }
   ],
   "source": [
    "as.numeric(country)"
   ]
  },
  {
   "cell_type": "code",
   "execution_count": 11,
   "metadata": {},
   "outputs": [
    {
     "data": {
      "text/plain": [
       "country\n",
       "EN NI SC WL \n",
       "39  3  3  5 "
      ]
     },
     "metadata": {},
     "output_type": "display_data"
    }
   ],
   "source": [
    "levels(country) <- c(\"EN\",\"NI\",\"SC\",\"WL\")\n",
    "table(country)"
   ]
  },
  {
   "cell_type": "code",
   "execution_count": null,
   "metadata": {},
   "outputs": [],
   "source": []
  }
 ],
 "metadata": {
  "kernelspec": {
   "display_name": "R",
   "language": "R",
   "name": "ir"
  },
  "language_info": {
   "codemirror_mode": "r",
   "file_extension": ".r",
   "mimetype": "text/x-r-source",
   "name": "R",
   "pygments_lexer": "r",
   "version": "4.0.3"
  }
 },
 "nbformat": 4,
 "nbformat_minor": 4
}
